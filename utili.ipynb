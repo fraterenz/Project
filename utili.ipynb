{
 "cells": [
  {
   "cell_type": "code",
   "execution_count": 1,
   "metadata": {
    "collapsed": true
   },
   "outputs": [],
   "source": [
    "from os import environ\n",
    "environ['PYSPARK_SUBMIT_ARGS'] = '--packages com.databricks:spark-xml_2.10:0.4.1 pyspark-shell' "
   ]
  },
  {
   "cell_type": "code",
   "execution_count": 2,
   "metadata": {
    "collapsed": true
   },
   "outputs": [],
   "source": [
    "import pandas as pd\n",
    "import numpy as np\n",
    "import scipy as sp\n",
    "import matplotlib.pyplot as plt\n",
    "import seaborn as sns\n",
    "import matplotlib.dates as md\n",
    "import re\n",
    "import time\n",
    "\n",
    "import findspark\n",
    "findspark.init()\n",
    "\n",
    "import pyspark\n",
    "import pyspark.sql\n",
    "from pyspark.sql.types import *\n",
    "from pyspark.sql import *\n",
    "import hashlib\n",
    "import os.path\n",
    "import pyspark.sql.functions as F\n",
    "from pyspark.sql.types import StringType\n",
    "from pyspark.sql.types import BooleanType\n",
    "from pyspark.sql.functions import desc\n",
    "from pyspark.sql.functions import regexp_extract\n",
    "from pyspark.sql.functions import udf\n",
    "from pyspark.sql.functions import countDistinct\n",
    "from datetime import timedelta, date\n",
    "from mwviews.api import PageviewsClient\n",
    "\n",
    "\n",
    "from pyspark.sql import SparkSession\n",
    "from pyspark import SparkContext\n",
    "\n",
    "spark = SparkSession.builder.getOrCreate()\n",
    "sc = spark.sparkContext\n",
    "\n",
    "from pyspark.sql import SQLContext\n",
    "sqlContext = SQLContext(sc)"
   ]
  },
  {
   "cell_type": "markdown",
   "metadata": {},
   "source": [
    "leggiamo i dati"
   ]
  },
  {
   "cell_type": "code",
   "execution_count": 8,
   "metadata": {
    "collapsed": true
   },
   "outputs": [],
   "source": [
    "WIKIPEDIA_XML_DUMP = 'million.xml'\n",
    "\n",
    "wikipedia = spark.read.format('com.databricks.spark.xml')\\\n",
    "   .options(rowTag='page',mode='PERMISSIVE',charset='UTF-8').load(WIKIPEDIA_XML_DUMP)"
   ]
  },
  {
   "cell_type": "code",
   "execution_count": 9,
   "metadata": {},
   "outputs": [
    {
     "name": "stdout",
     "output_type": "stream",
     "text": [
      "root\n",
      " |-- id: long (nullable = true)\n",
      " |-- ns: long (nullable = true)\n",
      " |-- redirect: struct (nullable = true)\n",
      " |    |-- _VALUE: string (nullable = true)\n",
      " |    |-- _title: string (nullable = true)\n",
      " |-- restrictions: string (nullable = true)\n",
      " |-- revision: struct (nullable = true)\n",
      " |    |-- comment: string (nullable = true)\n",
      " |    |-- contributor: struct (nullable = true)\n",
      " |    |    |-- id: long (nullable = true)\n",
      " |    |    |-- ip: string (nullable = true)\n",
      " |    |    |-- username: string (nullable = true)\n",
      " |    |-- format: string (nullable = true)\n",
      " |    |-- id: long (nullable = true)\n",
      " |    |-- minor: string (nullable = true)\n",
      " |    |-- model: string (nullable = true)\n",
      " |    |-- parentid: long (nullable = true)\n",
      " |    |-- sha1: string (nullable = true)\n",
      " |    |-- text: struct (nullable = true)\n",
      " |    |    |-- _VALUE: string (nullable = true)\n",
      " |    |    |-- _space: string (nullable = true)\n",
      " |    |-- timestamp: string (nullable = true)\n",
      " |-- title: string (nullable = true)\n",
      "\n"
     ]
    }
   ],
   "source": [
    "wikipedia.printSchema()"
   ]
  },
  {
   "cell_type": "markdown",
   "metadata": {},
   "source": [
    "selezioniamo solo gli **articoli** con del testo"
   ]
  },
  {
   "cell_type": "code",
   "execution_count": 10,
   "metadata": {
    "collapsed": true
   },
   "outputs": [],
   "source": [
    "articles = wikipedia.filter(\"ns = '0'\") \\\n",
    "    .filter(\"redirect._title is null\") \\\n",
    "    .filter(\"revision.text._VALUE is not null\") \\\n",
    "    .filter(\"length(revision.text._VALUE) > 0\");\n",
    "    \n",
    "articles = articles.drop('redirect');"
   ]
  },
  {
   "cell_type": "markdown",
   "metadata": {},
   "source": [
    "## Lunghezza del testo"
   ]
  },
  {
   "cell_type": "markdown",
   "metadata": {},
   "source": [
    "a questi articoli aggiungiamo la **lunghezza del testo**"
   ]
  },
  {
   "cell_type": "code",
   "execution_count": 11,
   "metadata": {
    "collapsed": true,
    "scrolled": true
   },
   "outputs": [],
   "source": [
    "articles = articles.withColumn('article_lenght', F.length(wikipedia.revision.text._VALUE));"
   ]
  },
  {
   "cell_type": "code",
   "execution_count": null,
   "metadata": {
    "collapsed": true
   },
   "outputs": [],
   "source": [
    "articles.count()"
   ]
  },
  {
   "cell_type": "code",
   "execution_count": null,
   "metadata": {
    "collapsed": true
   },
   "outputs": [],
   "source": [
    "articles.show(10);"
   ]
  },
  {
   "cell_type": "markdown",
   "metadata": {},
   "source": [
    "togliamo i disambuigui"
   ]
  },
  {
   "cell_type": "code",
   "execution_count": 12,
   "metadata": {
    "collapsed": true
   },
   "outputs": [],
   "source": [
    "articles = articles.filter(\"lower(revision.text._VALUE) not like '%{disambiguation}%'\")"
   ]
  },
  {
   "cell_type": "code",
   "execution_count": 13,
   "metadata": {},
   "outputs": [
    {
     "data": {
      "text/plain": [
       "3258"
      ]
     },
     "execution_count": 13,
     "metadata": {},
     "output_type": "execute_result"
    }
   ],
   "source": [
    "articles.count()"
   ]
  },
  {
   "cell_type": "markdown",
   "metadata": {},
   "source": [
    "## Categorie"
   ]
  },
  {
   "cell_type": "markdown",
   "metadata": {},
   "source": [
    "mettiamoci pure le **categorie** prese dagli **infobox**: domanda, come si comporta se un articolo ha più di una infobox?"
   ]
  },
  {
   "cell_type": "code",
   "execution_count": null,
   "metadata": {
    "collapsed": true
   },
   "outputs": [],
   "source": [
    "regex = r\"(?<={{infobox ).[a-zA-Z0-9.-_/ ]*\"; #o con \\\\n nel caso andasse a capo XD\n",
    "ibox_regex = re.compile(regex,re.IGNORECASE);"
   ]
  },
  {
   "cell_type": "code",
   "execution_count": null,
   "metadata": {
    "collapsed": true
   },
   "outputs": [],
   "source": [
    "def extractCategory(text):\n",
    "    res = ibox_regex.findall(text)\n",
    "    return ', '.join(res);"
   ]
  },
  {
   "cell_type": "code",
   "execution_count": null,
   "metadata": {
    "collapsed": true
   },
   "outputs": [],
   "source": [
    "category_udf = udf(lambda text: extractCategory(text), StringType())"
   ]
  },
  {
   "cell_type": "code",
   "execution_count": null,
   "metadata": {
    "collapsed": true
   },
   "outputs": [],
   "source": [
    "articles = articles.withColumn(\"categories\", category_udf(articles.revision.text._VALUE));"
   ]
  },
  {
   "cell_type": "code",
   "execution_count": null,
   "metadata": {
    "collapsed": true
   },
   "outputs": [],
   "source": [
    "articles.filter('length(categories) > 0').show(10);"
   ]
  },
  {
   "cell_type": "code",
   "execution_count": null,
   "metadata": {
    "collapsed": true
   },
   "outputs": [],
   "source": [
    "articles.filter('length(categories) > 0').count()"
   ]
  },
  {
   "cell_type": "markdown",
   "metadata": {},
   "source": [
    "Selezioniamo quelli con l'infobox inerente alla guerra"
   ]
  },
  {
   "cell_type": "code",
   "execution_count": null,
   "metadata": {
    "collapsed": true
   },
   "outputs": [],
   "source": [
    "goodCategories = ['civil conflict','military conflict','civilian attack']; # civilian attack?\n",
    "\n",
    "regex = r\"(\"+'|'.join(goodCategories)+\")(,|$)\"; #military operation?\n",
    "categorySelect_regex = re.compile(regex,re.IGNORECASE);"
   ]
  },
  {
   "cell_type": "code",
   "execution_count": null,
   "metadata": {
    "collapsed": true
   },
   "outputs": [],
   "source": [
    "def goodCategory(text):\n",
    "    res = categorySelect_regex.findall(text);\n",
    "    if not res:\n",
    "        return False;\n",
    "    return True;"
   ]
  },
  {
   "cell_type": "code",
   "execution_count": null,
   "metadata": {
    "collapsed": true
   },
   "outputs": [],
   "source": [
    "good_category_udf = udf(lambda text: goodCategory(text), BooleanType())"
   ]
  },
  {
   "cell_type": "code",
   "execution_count": null,
   "metadata": {
    "collapsed": true
   },
   "outputs": [],
   "source": [
    "conflict_articles = articles.withColumn(\"good_categories\", good_category_udf(articles.categories))\\\n",
    "                    .filter('good_categories == true');"
   ]
  },
  {
   "cell_type": "code",
   "execution_count": null,
   "metadata": {
    "collapsed": true
   },
   "outputs": [],
   "source": [
    "conflict_articles.count()"
   ]
  },
  {
   "cell_type": "code",
   "execution_count": null,
   "metadata": {
    "collapsed": true
   },
   "outputs": [],
   "source": [
    "# saving binary file to future uses\n",
    "conflict_articles.write.mode('overwrite').parquet(\"selectedConflict.parquet\");"
   ]
  },
  {
   "cell_type": "code",
   "execution_count": 3,
   "metadata": {
    "collapsed": true
   },
   "outputs": [],
   "source": [
    "# loading the saved parquet files\n",
    "conflict_articles = spark.read.parquet(\"selectedConflict.parquet\");"
   ]
  },
  {
   "cell_type": "code",
   "execution_count": 4,
   "metadata": {
    "scrolled": false
   },
   "outputs": [
    {
     "name": "stdout",
     "output_type": "stream",
     "text": [
      "+----+---+------------+--------------------+--------------------+--------------+-----------------+---------------+\n",
      "|  id| ns|restrictions|            revision|               title|article_lenght|       categories|good_categories|\n",
      "+----+---+------------+--------------------+--------------------+--------------+-----------------+---------------+\n",
      "|4005|  0|        null|[/* External link...| Battle of Pharsalus|         22469|military conflict|           true|\n",
      "|4049|  0|        null|[, [, 91.10.58.17...|  Battle of Blenheim|         66889|military conflict|           true|\n",
      "|4050|  0|        null|[, [487310,, Kint...| Battle of Ramillies|         55678|military conflict|           true|\n",
      "|4160|  0|        null|[Robot - Removing...|Battle of Lostwit...|          5670|military conflict|           true|\n",
      "|4283|  0|        null|[/* In popular cu...|   Battle of Peleliu|         45153|military conflict|           true|\n",
      "|4284|  0|        null|[Undid revision 8...|Battle of Stalingrad|        127960|military conflict|           true|\n",
      "|4356|  0|        null|[/* Aftermath */,...|  Battle of Waterloo|        159734|military conflict|           true|\n",
      "|4503|  0|        null|[/* Preparations ...|  Battle of Poitiers|         27103|military conflict|           true|\n",
      "|4563|  0|        null|[Added \"sunk\", [3...|   Battle of Jutland|        145602|military conflict|           true|\n",
      "|4606|  0|        null|[Undid revision 8...|  Battle of the Nile|        106864|military conflict|           true|\n",
      "|4615|  0|        null|[, [28469164,, So...| Battle of Agincourt|         69839|military conflict|           true|\n",
      "|4794|  0|        null|[/* Action of 19 ...|  Baralong incidents|         18358|military conflict|           true|\n",
      "|4806|  0|        null|[Reverted edits b...|  Battle of Marathon|         64121|military conflict|           true|\n",
      "|4823|  0|        null|[rmv as the prote...|         Balkan Wars|         56312|military conflict|           true|\n",
      "|4849|  0|        null|[/* Further readi...|Battle of Gettysburg|        110164|military conflict|           true|\n",
      "|4928|  0|        null|[, [, 5.172.255.5...|  Battle of Świecino|          7307|military conflict|           true|\n",
      "|4975|  0|        null|[, [17328627,, Kr...|   Battle of Abritus|         19701|military conflict|           true|\n",
      "|4978|  0|        null|[Undid revision 8...|Battle of Bereste...|         17585|military conflict|           true|\n",
      "|4986|  0|        null|[/* top */Simplif...|   Battle of Okinawa|         86901|military conflict|           true|\n",
      "|5003|  0|        null|[clean up, [[WP:A...|  Battle of Bouvines|         27869|military conflict|           true|\n",
      "|5008|  0|        null|[v2.0b - [[WP:WCW...|    Battle of Actium|         28466|military conflict|           true|\n",
      "|5013|  0|        null|[, [, 47.143.88.3...|      Battle of Adwa|         43875|military conflict|           true|\n",
      "|5030|  0|        null|[/* Saville Inqui...|Bloody Sunday (1972)|         82169|  civilian attack|           true|\n",
      "| 771|  0|        null|[/* War breaks ou...|American Revoluti...|        238972|military conflict|           true|\n",
      "| 863|  0|        null|[/* See also */ P...|  American Civil War|        203619|military conflict|           true|\n",
      "|6827|  0|        null|[Reverted 1 edit ...|Cuban Missile Crisis|        142915|military conflict|           true|\n",
      "|3793|  0|        null|[Reverted edits b...|Battle of Boswort...|         97380|military conflict|           true|\n",
      "+----+---+------------+--------------------+--------------------+--------------+-----------------+---------------+\n",
      "\n"
     ]
    }
   ],
   "source": [
    "conflict_articles.show(30)"
   ]
  },
  {
   "cell_type": "markdown",
   "metadata": {},
   "source": [
    "get page titles"
   ]
  },
  {
   "cell_type": "code",
   "execution_count": null,
   "metadata": {
    "collapsed": true
   },
   "outputs": [],
   "source": [
    "# questo fa casini per l'encoding\n",
    "conflict_array = [(i.title.encode(\"ascii\",'replace')) for i in conflict_articles.collect()];\n",
    "conflict_array"
   ]
  },
  {
   "cell_type": "markdown",
   "metadata": {},
   "source": [
    "## Pageview"
   ]
  },
  {
   "cell_type": "code",
   "execution_count": null,
   "metadata": {
    "collapsed": true
   },
   "outputs": [],
   "source": [
    "# Non funziona per via dell'encoding, da studiarci o da usare unicorn?\n",
    "startingLogDate = '20150701';\n",
    "today = time.strftime('%Y%m%d');\n",
    "\n",
    "p = PageviewsClient(user_agent=\"<ada@epfl.ch> Applied data analysis project\")\n",
    "\n",
    "#p.article_views('en.wikipedia', conflict_array, granularity='monthly', start=startingLogDate, end=today, agent='user')"
   ]
  },
  {
   "cell_type": "markdown",
   "metadata": {},
   "source": [
    "## External links"
   ]
  },
  {
   "cell_type": "markdown",
   "metadata": {},
   "source": [
    "visto che ci sono problemi con l'encoding faccio in un altro modo:"
   ]
  },
  {
   "cell_type": "code",
   "execution_count": 5,
   "metadata": {
    "collapsed": true
   },
   "outputs": [],
   "source": [
    "regex = r\"\\[\\[(.*?)\\]\\]\";\n",
    "link_regex = re.compile(regex,re.IGNORECASE);"
   ]
  },
  {
   "cell_type": "code",
   "execution_count": 6,
   "metadata": {
    "collapsed": true
   },
   "outputs": [],
   "source": [
    "external_links = [];\n",
    "def extr_link(text):\n",
    "    global external_links\n",
    "    external_links = external_links + link_regex.findall(text);"
   ]
  },
  {
   "cell_type": "code",
   "execution_count": 14,
   "metadata": {},
   "outputs": [],
   "source": [
    "for i in articles.select(\"revision.text._VALUE\").collect():\n",
    "    extr_link(i[0])"
   ]
  },
  {
   "cell_type": "code",
   "execution_count": 15,
   "metadata": {
    "collapsed": true,
    "scrolled": false
   },
   "outputs": [],
   "source": [
    "external_links_rdd = spark.createDataFrame(external_links, StringType()).selectExpr(\"value as title\");"
   ]
  },
  {
   "cell_type": "code",
   "execution_count": 16,
   "metadata": {},
   "outputs": [
    {
     "data": {
      "text/plain": [
       "732106"
      ]
     },
     "execution_count": 16,
     "metadata": {},
     "output_type": "execute_result"
    }
   ],
   "source": [
    "external_links_rdd.count()"
   ]
  },
  {
   "cell_type": "code",
   "execution_count": 17,
   "metadata": {
    "collapsed": true
   },
   "outputs": [],
   "source": [
    "group_links = external_links_rdd.groupBy(\"title\").agg(countDistinct(\"title\")).select(\"title\",F.col(\"count(DISTINCT title)\").alias(\"external_links\"))"
   ]
  },
  {
   "cell_type": "code",
   "execution_count": 18,
   "metadata": {},
   "outputs": [
    {
     "name": "stdout",
     "output_type": "stream",
     "text": [
      "+--------------------+--------------+\n",
      "|               title|external_links|\n",
      "+--------------------+--------------+\n",
      "|Libertarian socia...|             1|\n",
      "|  Diogenes of Sinope|             1|\n",
      "|The Kingdom of Go...|             1|\n",
      "|       Louise Michel|             1|\n",
      "|       Silvio Gesell|             1|\n",
      "| Dot (diacritic)|Ạ ạ|             1|\n",
      "|Birmingham, Alaba...|             1|\n",
      "|        La Louisiane|             1|\n",
      "|     Atheism|Atheist|             1|\n",
      "|         ServisFirst|             1|\n",
      "|              ADTRAN|             1|\n",
      "|Greek sea gods|wa...|             1|\n",
      "|           Aeschylus|             1|\n",
      "|    Thomas Corneille|             1|\n",
      "|    Achille in Sciro|             1|\n",
      "|Popular sovereign...|             1|\n",
      "|File:The Rail Can...|             1|\n",
      "|File:Lincoln and ...|             1|\n",
      "|Classical element...|             1|\n",
      "|       Carlo Rovelli|             1|\n",
      "+--------------------+--------------+\n",
      "only showing top 20 rows\n",
      "\n"
     ]
    }
   ],
   "source": [
    "group_links.show()"
   ]
  },
  {
   "cell_type": "code",
   "execution_count": 19,
   "metadata": {},
   "outputs": [
    {
     "data": {
      "text/plain": [
       "413456"
      ]
     },
     "execution_count": 19,
     "metadata": {},
     "output_type": "execute_result"
    }
   ],
   "source": [
    "group_links.count()"
   ]
  },
  {
   "cell_type": "code",
   "execution_count": 20,
   "metadata": {
    "collapsed": true
   },
   "outputs": [],
   "source": [
    "all_info = conflict_articles.join(group_links, \"title\",how='left').na.fill(0);"
   ]
  },
  {
   "cell_type": "code",
   "execution_count": 21,
   "metadata": {},
   "outputs": [
    {
     "name": "stdout",
     "output_type": "stream",
     "text": [
      "+----+--------------------+--------------------+-----------------+--------------+\n",
      "|  id|               title|            revision|       categories|external_links|\n",
      "+----+--------------------+--------------------+-----------------+--------------+\n",
      "|4050| Battle of Ramillies|[, [487310,, Kint...|military conflict|             0|\n",
      "|4806|  Battle of Marathon|[Reverted edits b...|military conflict|             1|\n",
      "|3793|Battle of Boswort...|[Reverted edits b...|military conflict|             1|\n",
      "|5003|  Battle of Bouvines|[clean up, [[WP:A...|military conflict|             0|\n",
      "|6827|Cuban Missile Crisis|[Reverted 1 edit ...|military conflict|             1|\n",
      "|4978|Battle of Bereste...|[Undid revision 8...|military conflict|             0|\n",
      "|4928|  Battle of Świecino|[, [, 5.172.255.5...|military conflict|             0|\n",
      "|4975|   Battle of Abritus|[, [17328627,, Kr...|military conflict|             0|\n",
      "|4849|Battle of Gettysburg|[/* Further readi...|military conflict|             1|\n",
      "|5013|      Battle of Adwa|[, [, 47.143.88.3...|military conflict|             0|\n",
      "|4615| Battle of Agincourt|[, [28469164,, So...|military conflict|             1|\n",
      "|4986|   Battle of Okinawa|[/* top */Simplif...|military conflict|             0|\n",
      "|4049|  Battle of Blenheim|[, [, 91.10.58.17...|military conflict|             1|\n",
      "|4794|  Baralong incidents|[/* Action of 19 ...|military conflict|             0|\n",
      "|4356|  Battle of Waterloo|[/* Aftermath */,...|military conflict|             1|\n",
      "|5030|Bloody Sunday (1972)|[/* Saville Inqui...|  civilian attack|             0|\n",
      "|4563|   Battle of Jutland|[Added \"sunk\", [3...|military conflict|             1|\n",
      "|5008|    Battle of Actium|[v2.0b - [[WP:WCW...|military conflict|             1|\n",
      "|4160|Battle of Lostwit...|[Robot - Removing...|military conflict|             0|\n",
      "| 771|American Revoluti...|[/* War breaks ou...|military conflict|             1|\n",
      "+----+--------------------+--------------------+-----------------+--------------+\n",
      "only showing top 20 rows\n",
      "\n"
     ]
    }
   ],
   "source": [
    "all_info.select(\"id\",\"title\",\"revision\",\"categories\",\"external_links\").show()"
   ]
  },
  {
   "cell_type": "markdown",
   "metadata": {},
   "source": [
    "## Referenze"
   ]
  },
  {
   "cell_type": "code",
   "execution_count": null,
   "metadata": {
    "collapsed": true
   },
   "outputs": [],
   "source": [
    "# todo"
   ]
  },
  {
   "cell_type": "markdown",
   "metadata": {},
   "source": [
    "## To Pandas"
   ]
  },
  {
   "cell_type": "code",
   "execution_count": null,
   "metadata": {
    "collapsed": true
   },
   "outputs": [],
   "source": [
    "pdArticles = articles.select('id','title','article_lenght','categories').toPandas().set_index('id');"
   ]
  },
  {
   "cell_type": "code",
   "execution_count": null,
   "metadata": {
    "collapsed": true
   },
   "outputs": [],
   "source": [
    "pdArticles.head(50)"
   ]
  },
  {
   "cell_type": "markdown",
   "metadata": {},
   "source": [
    "yo"
   ]
  }
 ],
 "metadata": {
  "kernelspec": {
   "display_name": "Python (ada)",
   "language": "python",
   "name": "ada"
  },
  "language_info": {
   "codemirror_mode": {
    "name": "ipython",
    "version": 2
   },
   "file_extension": ".py",
   "mimetype": "text/x-python",
   "name": "python",
   "nbconvert_exporter": "python",
   "pygments_lexer": "ipython2",
   "version": "2.7.15"
  }
 },
 "nbformat": 4,
 "nbformat_minor": 2
}
