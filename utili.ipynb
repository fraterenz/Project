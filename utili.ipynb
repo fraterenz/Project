{
 "cells": [
  {
   "cell_type": "code",
   "execution_count": null,
   "metadata": {},
   "outputs": [],
   "source": [
    "from os import environ\n",
    "environ['PYSPARK_SUBMIT_ARGS'] = '--packages com.databricks:spark-xml_2.10:0.4.1 pyspark-shell' "
   ]
  },
  {
   "cell_type": "code",
   "execution_count": 1,
   "metadata": {},
   "outputs": [],
   "source": [
    "import pandas as pd\n",
    "import numpy as np\n",
    "import scipy as sp\n",
    "import matplotlib.pyplot as plt\n",
    "import seaborn as sns\n",
    "import matplotlib.dates as md\n",
    "import re\n",
    "import time\n",
    "\n",
    "import findspark\n",
    "findspark.init()\n",
    "\n",
    "import pyspark\n",
    "import pyspark.sql\n",
    "from pyspark.sql.types import *\n",
    "from pyspark.sql import *\n",
    "import hashlib\n",
    "import os.path\n",
    "import pyspark.sql.functions as F\n",
    "from pyspark.sql.types import StringType\n",
    "from pyspark.sql.types import BooleanType\n",
    "from pyspark.sql.functions import desc\n",
    "from pyspark.sql.functions import regexp_extract\n",
    "from pyspark.sql.functions import udf\n",
    "from pyspark.sql.functions import countDistinct\n",
    "from datetime import timedelta, date\n",
    "from mwviews.api import PageviewsClient\n",
    "from collections import OrderedDict\n",
    "\n",
    "\n",
    "from pyspark.sql import SparkSession\n",
    "from pyspark import SparkContext\n",
    "\n",
    "spark = SparkSession.builder.getOrCreate()\n",
    "sc = spark.sparkContext\n",
    "\n",
    "from pyspark.sql import SQLContext\n",
    "sqlContext = SQLContext(sc)"
   ]
  },
  {
   "cell_type": "markdown",
   "metadata": {},
   "source": [
    "leggiamo i dati"
   ]
  },
  {
   "cell_type": "code",
   "execution_count": null,
   "metadata": {},
   "outputs": [],
   "source": [
    "WIKIPEDIA_XML_DUMP = 'first.xml'\n",
    "\n",
    "wikipedia = spark.read.format('com.databricks.spark.xml')\\\n",
    "   .options(rowTag='page',mode='PERMISSIVE',charset='UTF-8').load(WIKIPEDIA_XML_DUMP)"
   ]
  },
  {
   "cell_type": "code",
   "execution_count": null,
   "metadata": {},
   "outputs": [],
   "source": [
    "wikipedia.printSchema()"
   ]
  },
  {
   "cell_type": "markdown",
   "metadata": {},
   "source": [
    "selezioniamo solo gli **articoli** con del testo"
   ]
  },
  {
   "cell_type": "code",
   "execution_count": null,
   "metadata": {},
   "outputs": [],
   "source": [
    "articles = wikipedia.filter(\"ns = '0'\") \\\n",
    "    .filter(\"redirect._title is null\") \\\n",
    "    .filter(\"revision.text._VALUE is not null\") \\\n",
    "    .filter(\"length(revision.text._VALUE) > 0\");\n",
    "    \n",
    "articles = articles.drop('redirect');"
   ]
  },
  {
   "cell_type": "markdown",
   "metadata": {},
   "source": [
    "## Lunghezza del testo"
   ]
  },
  {
   "cell_type": "markdown",
   "metadata": {},
   "source": [
    "a questi articoli aggiungiamo la **lunghezza del testo**"
   ]
  },
  {
   "cell_type": "code",
   "execution_count": null,
   "metadata": {
    "scrolled": true
   },
   "outputs": [],
   "source": [
    "articles = articles.withColumn('article_lenght', F.length(wikipedia.revision.text._VALUE));"
   ]
  },
  {
   "cell_type": "code",
   "execution_count": null,
   "metadata": {},
   "outputs": [],
   "source": [
    "articles.count()"
   ]
  },
  {
   "cell_type": "code",
   "execution_count": null,
   "metadata": {},
   "outputs": [],
   "source": [
    "articles.show(10);"
   ]
  },
  {
   "cell_type": "markdown",
   "metadata": {},
   "source": [
    "togliamo i disambuigui"
   ]
  },
  {
   "cell_type": "code",
   "execution_count": null,
   "metadata": {},
   "outputs": [],
   "source": [
    "articles = articles.filter(\"lower(revision.text._VALUE) not like '%{disambiguation}%'\")"
   ]
  },
  {
   "cell_type": "code",
   "execution_count": null,
   "metadata": {},
   "outputs": [],
   "source": [
    "articles.count()"
   ]
  },
  {
   "cell_type": "markdown",
   "metadata": {},
   "source": [
    "## Categorie"
   ]
  },
  {
   "cell_type": "markdown",
   "metadata": {},
   "source": [
    "mettiamoci pure le **categorie** prese dagli **infobox**: domanda, come si comporta se un articolo ha più di una infobox?"
   ]
  },
  {
   "cell_type": "code",
   "execution_count": null,
   "metadata": {},
   "outputs": [],
   "source": [
    "regex = r\"(?<={{infobox ).[a-zA-Z0-9.-_/ ]*\"; #o con \\\\n nel caso andasse a capo XD\n",
    "ibox_regex = re.compile(regex,re.IGNORECASE);"
   ]
  },
  {
   "cell_type": "code",
   "execution_count": null,
   "metadata": {},
   "outputs": [],
   "source": [
    "def extractCategory(text):\n",
    "    res = ibox_regex.findall(text)\n",
    "    return ', '.join(res);"
   ]
  },
  {
   "cell_type": "code",
   "execution_count": null,
   "metadata": {},
   "outputs": [],
   "source": [
    "category_udf = udf(lambda text: extractCategory(text), StringType())"
   ]
  },
  {
   "cell_type": "code",
   "execution_count": null,
   "metadata": {},
   "outputs": [],
   "source": [
    "articles = articles.withColumn(\"categories\", category_udf(articles.revision.text._VALUE));"
   ]
  },
  {
   "cell_type": "code",
   "execution_count": null,
   "metadata": {},
   "outputs": [],
   "source": [
    "articles.filter('length(categories) > 0').show(10);"
   ]
  },
  {
   "cell_type": "code",
   "execution_count": null,
   "metadata": {},
   "outputs": [],
   "source": [
    "articles.filter('length(categories) > 0').count()"
   ]
  },
  {
   "cell_type": "markdown",
   "metadata": {},
   "source": [
    "Selezioniamo quelli con l'infobox inerente alla guerra"
   ]
  },
  {
   "cell_type": "code",
   "execution_count": null,
   "metadata": {},
   "outputs": [],
   "source": [
    "goodCategories = ['civil conflict','military conflict','civilian attack']; # civilian attack?\n",
    "\n",
    "regex = r\"(\"+'|'.join(goodCategories)+\")(,|$)\"; #military operation?\n",
    "categorySelect_regex = re.compile(regex,re.IGNORECASE);"
   ]
  },
  {
   "cell_type": "code",
   "execution_count": null,
   "metadata": {},
   "outputs": [],
   "source": [
    "def goodCategory(text):\n",
    "    res = categorySelect_regex.findall(text);\n",
    "    if not res:\n",
    "        return False;\n",
    "    return True;"
   ]
  },
  {
   "cell_type": "code",
   "execution_count": null,
   "metadata": {},
   "outputs": [],
   "source": [
    "good_category_udf = udf(lambda text: goodCategory(text), BooleanType())"
   ]
  },
  {
   "cell_type": "code",
   "execution_count": null,
   "metadata": {},
   "outputs": [],
   "source": [
    "conflict_articles = articles.withColumn(\"good_categories\", good_category_udf(articles.categories))\\\n",
    "                    .filter('good_categories == true');"
   ]
  },
  {
   "cell_type": "code",
   "execution_count": null,
   "metadata": {},
   "outputs": [],
   "source": [
    "conflict_articles.count()"
   ]
  },
  {
   "cell_type": "code",
   "execution_count": null,
   "metadata": {},
   "outputs": [],
   "source": [
    "# saving binary file to future uses\n",
    "conflict_articles.write.mode('overwrite').parquet(\"selectedConflict.parquet\");"
   ]
  },
  {
   "cell_type": "code",
   "execution_count": 2,
   "metadata": {},
   "outputs": [],
   "source": [
    "# loading the saved parquet files\n",
    "conflict_articles = spark.read.parquet(\"selectedAllConflict.parquet\");"
   ]
  },
  {
   "cell_type": "code",
   "execution_count": null,
   "metadata": {
    "scrolled": false
   },
   "outputs": [],
   "source": [
    "conflict_articles.show(10)"
   ]
  },
  {
   "cell_type": "code",
   "execution_count": null,
   "metadata": {},
   "outputs": [],
   "source": [
    "conflict_articles.select(\"title\").distinct().count()"
   ]
  },
  {
   "cell_type": "markdown",
   "metadata": {},
   "source": [
    "get page titles"
   ]
  },
  {
   "cell_type": "code",
   "execution_count": 3,
   "metadata": {},
   "outputs": [],
   "source": [
    "df = conflict_articles.select(\"title\")\n",
    "# questo fa casini per l'encoding\n",
    "conflict_array = [(i.title) for i in df.collect()];"
   ]
  },
  {
   "cell_type": "markdown",
   "metadata": {},
   "source": [
    "## Pageview"
   ]
  },
  {
   "cell_type": "code",
   "execution_count": 5,
   "metadata": {},
   "outputs": [],
   "source": [
    "def getViewsFromAPI(conflict_array):\n",
    "    views_dict = p.article_views('en.wikipedia', conflict_array, granularity='monthly',\n",
    "                                 start='20150701', end=time.strftime('%Y%m%d'), agent='user')\n",
    "    return views_dict"
   ]
  },
  {
   "cell_type": "code",
   "execution_count": 6,
   "metadata": {
    "scrolled": false
   },
   "outputs": [],
   "source": [
    "# Non funziona per via dell'encoding, da studiarci o da usare unicorn?\n",
    "startingLogDate = '20150701';\n",
    "today = time.strftime('%Y%m%d');\n",
    "\n",
    "p = PageviewsClient(user_agent=\"<ada@epfl.ch> Applied data analysis project\")\n",
    "\n",
    "views_dict = p.article_views('en.wikipedia', conflict_array, granularity='monthly', start=startingLogDate, end=today, agent='user')"
   ]
  },
  {
   "cell_type": "code",
   "execution_count": 7,
   "metadata": {},
   "outputs": [],
   "source": [
    "dizioTizio = [];\n",
    "for key, value in views_dict.items():\n",
    "    chiave = list(value.keys());\n",
    "    valore = list(value.values());\n",
    "    pippo  = list(zip(chiave,valore));\n",
    "    dizioTizio.extend(pippo)"
   ]
  },
  {
   "cell_type": "code",
   "execution_count": 18,
   "metadata": {},
   "outputs": [],
   "source": [
    "views = spark.createDataFrame(dizioTizio,[\"title\", \"views\"])\n",
    "\n",
    "views = views.select('title', views.views.cast('int')).na.fill(0);"
   ]
  },
  {
   "cell_type": "code",
   "execution_count": 19,
   "metadata": {},
   "outputs": [],
   "source": [
    "views_df = views.groupBy(\"title\").agg(F.sum(\"views\")).select(\"title\",F.col(\"sum(views)\").alias(\"views\"))"
   ]
  },
  {
   "cell_type": "code",
   "execution_count": 20,
   "metadata": {},
   "outputs": [
    {
     "data": {
      "text/plain": [
       "18782"
      ]
     },
     "execution_count": 20,
     "metadata": {},
     "output_type": "execute_result"
    }
   ],
   "source": [
    "views_df.count()"
   ]
  },
  {
   "cell_type": "code",
   "execution_count": 21,
   "metadata": {},
   "outputs": [
    {
     "name": "stdout",
     "output_type": "stream",
     "text": [
      "+--------------------+-------+\n",
      "|               title|  views|\n",
      "+--------------------+-------+\n",
      "|Battle_of_Cremona...|  12815|\n",
      "|   Battle_of_Brienne|  24876|\n",
      "|Battle_of_Turnhou...|  15813|\n",
      "|Selma_to_Montgome...|1614145|\n",
      "|Battle_of_Sarikamish| 167655|\n",
      "|Battle_of_Mesamávida|   1038|\n",
      "|Battle_of_Heilige...|  18517|\n",
      "|Battle_of_Cape_Sp...|  97808|\n",
      "| Battle_of_Chaldiran| 206369|\n",
      "|     Heshui_Campaign|   3091|\n",
      "|Battle_of_Borovo_...|  29039|\n",
      "|Battle_of_Dębe_Wi...|   2620|\n",
      "|First_Anglo-Afgha...| 640505|\n",
      "|Serb_uprising_of_...|    901|\n",
      "|2013_\"Pro_Europe\"...|   6001|\n",
      "|            Camisard|  50928|\n",
      "|    Battle_of_Sobota|   5638|\n",
      "|Battle_of_Winchelsea|  33369|\n",
      "|        Count's_Feud|  34054|\n",
      "| Battle_of_Nashville| 270988|\n",
      "+--------------------+-------+\n",
      "only showing top 20 rows\n",
      "\n"
     ]
    }
   ],
   "source": [
    "views_df.show()"
   ]
  },
  {
   "cell_type": "code",
   "execution_count": 22,
   "metadata": {},
   "outputs": [],
   "source": [
    "# saving binary file\n",
    "views_df.write.mode('overwrite').parquet(\"totalViews.parquet\");"
   ]
  },
  {
   "cell_type": "code",
   "execution_count": 23,
   "metadata": {},
   "outputs": [],
   "source": [
    "# loading the saved parquet files\n",
    "views_df = spark.read.parquet(\"totalViews.parquet\");"
   ]
  },
  {
   "cell_type": "code",
   "execution_count": 24,
   "metadata": {},
   "outputs": [
    {
     "name": "stdout",
     "output_type": "stream",
     "text": [
      "+--------------------+------+\n",
      "|               title| views|\n",
      "+--------------------+------+\n",
      "|Battle_of_Landshu...| 18166|\n",
      "|Northern_Virginia...| 68827|\n",
      "|      Te_Kooti's_War| 26069|\n",
      "|         Radical_War| 49008|\n",
      "|       Convoy_HX_106|  8372|\n",
      "|Operation_Rolling...|603567|\n",
      "|         Watts_riots|914726|\n",
      "|    Battle_of_Sarmin| 12596|\n",
      "|Battle_of_Guilin–...| 17691|\n",
      "|Insurgency_in_the...|109816|\n",
      "|            Ifni_War|189291|\n",
      "|Attacks_on_High_Wood| 26417|\n",
      "|     Battle_of_Szack| 25366|\n",
      "|Pruth_River_Campaign| 65017|\n",
      "|Battle_of_Albert_...| 22841|\n",
      "|     Al_Asad_Airbase|159577|\n",
      "|Second_Battle_of_...| 34579|\n",
      "|    Battle_of_Asiago| 65537|\n",
      "|Siege_of_Albarrac...|  1851|\n",
      "|Action_of_30_Marc...| 16435|\n",
      "+--------------------+------+\n",
      "only showing top 20 rows\n",
      "\n"
     ]
    }
   ],
   "source": [
    "views_df.show()"
   ]
  },
  {
   "cell_type": "code",
   "execution_count": null,
   "metadata": {},
   "outputs": [],
   "source": [
    "sqlContext.createDataFrame(row_rdd,['numbers']).show()"
   ]
  },
  {
   "cell_type": "code",
   "execution_count": null,
   "metadata": {},
   "outputs": [],
   "source": [
    "sc.parallelize(views_dict).take(3)"
   ]
  },
  {
   "cell_type": "markdown",
   "metadata": {},
   "source": [
    "## External links"
   ]
  },
  {
   "cell_type": "markdown",
   "metadata": {},
   "source": [
    "visto che ci sono problemi con l'encoding faccio in un altro modo:"
   ]
  },
  {
   "cell_type": "code",
   "execution_count": null,
   "metadata": {},
   "outputs": [],
   "source": [
    "regex = r\"\\[\\[(.*?)\\]\\]\";\n",
    "link_regex = re.compile(regex,re.IGNORECASE);"
   ]
  },
  {
   "cell_type": "code",
   "execution_count": null,
   "metadata": {},
   "outputs": [],
   "source": [
    "external_links = [];\n",
    "def extr_link(text):\n",
    "    global external_links\n",
    "    external_links = external_links + link_regex.findall(text);"
   ]
  },
  {
   "cell_type": "code",
   "execution_count": null,
   "metadata": {},
   "outputs": [],
   "source": [
    "for i in articles.select(\"revision.text._VALUE\").collect():\n",
    "    extr_link(i[0])"
   ]
  },
  {
   "cell_type": "code",
   "execution_count": null,
   "metadata": {
    "scrolled": false
   },
   "outputs": [],
   "source": [
    "external_links_rdd = spark.createDataFrame(external_links, StringType()).selectExpr(\"value as title\");"
   ]
  },
  {
   "cell_type": "code",
   "execution_count": null,
   "metadata": {},
   "outputs": [],
   "source": [
    "external_links_rdd.count()"
   ]
  },
  {
   "cell_type": "code",
   "execution_count": null,
   "metadata": {},
   "outputs": [],
   "source": [
    "group_links = external_links_rdd.groupBy(\"title\").agg(countDistinct(\"title\")).select(\"title\",F.col(\"count(DISTINCT title)\").alias(\"external_links\"))"
   ]
  },
  {
   "cell_type": "code",
   "execution_count": null,
   "metadata": {},
   "outputs": [],
   "source": [
    "group_links.show()"
   ]
  },
  {
   "cell_type": "code",
   "execution_count": null,
   "metadata": {},
   "outputs": [],
   "source": [
    "group_links.count()"
   ]
  },
  {
   "cell_type": "code",
   "execution_count": null,
   "metadata": {},
   "outputs": [],
   "source": [
    "all_info = conflict_articles.join(group_links, \"title\",how='left').na.fill(0);"
   ]
  },
  {
   "cell_type": "code",
   "execution_count": null,
   "metadata": {},
   "outputs": [],
   "source": [
    "all_info.select(\"id\",\"title\",\"revision\",\"categories\",\"external_links\").show()"
   ]
  },
  {
   "cell_type": "markdown",
   "metadata": {},
   "source": [
    "## Referenze"
   ]
  },
  {
   "cell_type": "code",
   "execution_count": null,
   "metadata": {},
   "outputs": [],
   "source": [
    "# todo"
   ]
  },
  {
   "cell_type": "markdown",
   "metadata": {},
   "source": [
    "## To Pandas"
   ]
  },
  {
   "cell_type": "code",
   "execution_count": null,
   "metadata": {},
   "outputs": [],
   "source": [
    "pdArticles = articles.select('id','title','article_lenght','categories').toPandas().set_index('id');"
   ]
  },
  {
   "cell_type": "code",
   "execution_count": null,
   "metadata": {},
   "outputs": [],
   "source": [
    "pdArticles.head(50)"
   ]
  },
  {
   "cell_type": "markdown",
   "metadata": {},
   "source": [
    "yo"
   ]
  }
 ],
 "metadata": {
  "kernelspec": {
   "display_name": "Python 3",
   "language": "python",
   "name": "python3"
  },
  "language_info": {
   "codemirror_mode": {
    "name": "ipython",
    "version": 3
   },
   "file_extension": ".py",
   "mimetype": "text/x-python",
   "name": "python",
   "nbconvert_exporter": "python",
   "pygments_lexer": "ipython3",
   "version": "3.6.5"
  }
 },
 "nbformat": 4,
 "nbformat_minor": 2
}
