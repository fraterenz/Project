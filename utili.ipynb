{
 "cells": [
  {
   "cell_type": "code",
   "execution_count": 1,
   "metadata": {
    "collapsed": true
   },
   "outputs": [],
   "source": [
    "from os import environ\n",
    "environ['PYSPARK_SUBMIT_ARGS'] = '--packages com.databricks:spark-xml_2.10:0.4.1 pyspark-shell' "
   ]
  },
  {
   "cell_type": "code",
   "execution_count": 2,
   "metadata": {
    "collapsed": true
   },
   "outputs": [],
   "source": [
    "import pandas as pd\n",
    "import numpy as np\n",
    "import scipy as sp\n",
    "import matplotlib.pyplot as plt\n",
    "import seaborn as sns\n",
    "import matplotlib.dates as md\n",
    "import re\n",
    "import time\n",
    "\n",
    "import findspark\n",
    "findspark.init()\n",
    "\n",
    "import pyspark\n",
    "import pyspark.sql\n",
    "from pyspark.sql.types import *\n",
    "from pyspark.sql import *\n",
    "import hashlib\n",
    "import os.path\n",
    "import pyspark.sql.functions as F\n",
    "from pyspark.sql.types import StringType\n",
    "from pyspark.sql.types import BooleanType\n",
    "from pyspark.sql.functions import desc\n",
    "from pyspark.sql.functions import regexp_extract\n",
    "from pyspark.sql.functions import udf\n",
    "from datetime import timedelta, date\n",
    "from mwviews.api import PageviewsClient\n",
    "\n",
    "\n",
    "from pyspark.sql import SparkSession\n",
    "from pyspark import SparkContext\n",
    "\n",
    "spark = SparkSession.builder.getOrCreate()\n",
    "sc = spark.sparkContext\n",
    "\n",
    "from pyspark.sql import SQLContext\n",
    "sqlContext = SQLContext(sc)"
   ]
  },
  {
   "cell_type": "markdown",
   "metadata": {},
   "source": [
    "leggiamo i dati"
   ]
  },
  {
   "cell_type": "code",
   "execution_count": 3,
   "metadata": {
    "collapsed": true
   },
   "outputs": [],
   "source": [
    "WIKIPEDIA_XML_DUMP = '10million.xml'\n",
    "\n",
    "wikipedia = spark.read.format('com.databricks.spark.xml')\\\n",
    "   .options(rowTag='page',mode='PERMISSIVE',charset='UTF-8').load(WIKIPEDIA_XML_DUMP)"
   ]
  },
  {
   "cell_type": "code",
   "execution_count": 4,
   "metadata": {},
   "outputs": [
    {
     "name": "stdout",
     "output_type": "stream",
     "text": [
      "root\n",
      " |-- id: long (nullable = true)\n",
      " |-- ns: long (nullable = true)\n",
      " |-- redirect: struct (nullable = true)\n",
      " |    |-- _VALUE: string (nullable = true)\n",
      " |    |-- _title: string (nullable = true)\n",
      " |-- restrictions: string (nullable = true)\n",
      " |-- revision: struct (nullable = true)\n",
      " |    |-- comment: struct (nullable = true)\n",
      " |    |    |-- _VALUE: string (nullable = true)\n",
      " |    |    |-- _deleted: string (nullable = true)\n",
      " |    |-- contributor: struct (nullable = true)\n",
      " |    |    |-- id: long (nullable = true)\n",
      " |    |    |-- ip: string (nullable = true)\n",
      " |    |    |-- username: string (nullable = true)\n",
      " |    |-- format: string (nullable = true)\n",
      " |    |-- id: long (nullable = true)\n",
      " |    |-- minor: string (nullable = true)\n",
      " |    |-- model: string (nullable = true)\n",
      " |    |-- parentid: long (nullable = true)\n",
      " |    |-- sha1: string (nullable = true)\n",
      " |    |-- text: struct (nullable = true)\n",
      " |    |    |-- _VALUE: string (nullable = true)\n",
      " |    |    |-- _space: string (nullable = true)\n",
      " |    |-- timestamp: string (nullable = true)\n",
      " |-- title: string (nullable = true)\n",
      "\n"
     ]
    }
   ],
   "source": [
    "wikipedia.printSchema()"
   ]
  },
  {
   "cell_type": "code",
   "execution_count": 5,
   "metadata": {
    "collapsed": true
   },
   "outputs": [],
   "source": [
    "ref_regex = re.compile(r'<ref[^>]*[^\\/]>|<ref[ ]*>');"
   ]
  },
  {
   "cell_type": "markdown",
   "metadata": {},
   "source": [
    "selezioniamo solo gli **articoli** con del testo"
   ]
  },
  {
   "cell_type": "code",
   "execution_count": 6,
   "metadata": {
    "collapsed": true
   },
   "outputs": [],
   "source": [
    "articles = wikipedia.filter(\"ns = '0'\") \\\n",
    "    .filter(\"redirect._title is null\") \\\n",
    "    .filter(\"revision.text._VALUE is not null\") \\\n",
    "    .filter(\"length(revision.text._VALUE) > 0\");\n",
    "    \n",
    "articles = articles.drop('redirect');"
   ]
  },
  {
   "cell_type": "markdown",
   "metadata": {},
   "source": [
    "## Lunghezza del testo"
   ]
  },
  {
   "cell_type": "markdown",
   "metadata": {},
   "source": [
    "a questi articoli aggiungiamo la **lunghezza del testo**"
   ]
  },
  {
   "cell_type": "code",
   "execution_count": null,
   "metadata": {
    "collapsed": true,
    "scrolled": true
   },
   "outputs": [],
   "source": [
    "articles = articles.withColumn('article_lenght', F.length(wikipedia.revision.text._VALUE));\n",
    "articles.show(10);"
   ]
  },
  {
   "cell_type": "code",
   "execution_count": null,
   "metadata": {
    "collapsed": true
   },
   "outputs": [],
   "source": [
    "articles.count()"
   ]
  },
  {
   "cell_type": "markdown",
   "metadata": {},
   "source": [
    "alcuni di questi articoli sono molto brevi, alcuni saranno delle disambiguation pages.. gli altri giusto per curiosità vediamo quanti ce ne sono:"
   ]
  },
  {
   "cell_type": "code",
   "execution_count": null,
   "metadata": {
    "collapsed": true
   },
   "outputs": [],
   "source": [
    "articles.filter(\"article_lenght < 2000\").filter(\"lower(revision.text._VALUE) not like '%{disambiguation}%'\").count()"
   ]
  },
  {
   "cell_type": "markdown",
   "metadata": {},
   "source": [
    "## Categorie"
   ]
  },
  {
   "cell_type": "markdown",
   "metadata": {},
   "source": [
    "mettiamoci pure le **categorie** prese dagli **infobox**: domanda, come si comporta se un articolo ha più di una infobox?"
   ]
  },
  {
   "cell_type": "code",
   "execution_count": null,
   "metadata": {
    "collapsed": true
   },
   "outputs": [],
   "source": [
    "regex = r\"(?<={{infobox ).[a-zA-Z0-9.-_/ ]*\"; #o con \\\\n nel caso andasse a capo XD\n",
    "ibox_regex = re.compile(regex,re.IGNORECASE);"
   ]
  },
  {
   "cell_type": "code",
   "execution_count": null,
   "metadata": {
    "collapsed": true
   },
   "outputs": [],
   "source": [
    "def extractCategory(text):\n",
    "    res = ibox_regex.findall(text)\n",
    "    return ', '.join(res);"
   ]
  },
  {
   "cell_type": "code",
   "execution_count": null,
   "metadata": {
    "collapsed": true
   },
   "outputs": [],
   "source": [
    "category_udf = udf(lambda text: extractCategory(text), StringType())"
   ]
  },
  {
   "cell_type": "code",
   "execution_count": null,
   "metadata": {
    "collapsed": true
   },
   "outputs": [],
   "source": [
    "articles = articles.withColumn(\"categories\", category_udf(articles.revision.text._VALUE));\n",
    "articles.filter('length(categories) > 0').show(10);"
   ]
  },
  {
   "cell_type": "code",
   "execution_count": null,
   "metadata": {
    "collapsed": true
   },
   "outputs": [],
   "source": [
    "articles.filter('length(categories) > 0').count()"
   ]
  },
  {
   "cell_type": "markdown",
   "metadata": {},
   "source": [
    "Selezioniamo quelli con l'infobox inerente alla guerra"
   ]
  },
  {
   "cell_type": "code",
   "execution_count": null,
   "metadata": {
    "collapsed": true
   },
   "outputs": [],
   "source": [
    "goodCategories = ['civil conflicts','military conflicts','civilian attack']; # civilian attack?\n",
    "\n",
    "regex = r\"(\"+'|'.join(goodCategories)+\")(,|$)\"; #military operation?\n",
    "categorySelect_regex = re.compile(regex,re.IGNORECASE);"
   ]
  },
  {
   "cell_type": "code",
   "execution_count": null,
   "metadata": {
    "collapsed": true
   },
   "outputs": [],
   "source": [
    "def goodCategory(text):\n",
    "    res = categorySelect_regex.findall(text);\n",
    "    if not res:\n",
    "        return False;\n",
    "    return True;"
   ]
  },
  {
   "cell_type": "code",
   "execution_count": null,
   "metadata": {
    "collapsed": true
   },
   "outputs": [],
   "source": [
    "good_category_udf = udf(lambda text: goodCategory(text), BooleanType())"
   ]
  },
  {
   "cell_type": "code",
   "execution_count": null,
   "metadata": {
    "collapsed": true
   },
   "outputs": [],
   "source": [
    "conflict_articles = articles.withColumn(\"good_categories\", good_category_udf(articles.categories))\\\n",
    "                    .filter('good_categories == true');"
   ]
  },
  {
   "cell_type": "code",
   "execution_count": null,
   "metadata": {
    "collapsed": true
   },
   "outputs": [],
   "source": [
    "conflict_articles.count()"
   ]
  },
  {
   "cell_type": "code",
   "execution_count": null,
   "metadata": {
    "collapsed": true
   },
   "outputs": [],
   "source": [
    "# saving binary file to future uses\n",
    "conflict_articles.write.mode('overwrite').parquet(\"selectedConflict.parquet\");"
   ]
  },
  {
   "cell_type": "code",
   "execution_count": 7,
   "metadata": {
    "collapsed": true
   },
   "outputs": [],
   "source": [
    "# loading the saved parquet files\n",
    "conflict_articles = spark.read.parquet(\"selectedConflict.parquet\");"
   ]
  },
  {
   "cell_type": "code",
   "execution_count": 8,
   "metadata": {},
   "outputs": [
    {
     "name": "stdout",
     "output_type": "stream",
     "text": [
      "+-----+---+------------+--------------------+--------------------+--------------+--------------------+---------------+\n",
      "|   id| ns|restrictions|            revision|               title|article_lenght|          categories|good_categories|\n",
      "+-----+---+------------+--------------------+--------------------+--------------+--------------------+---------------+\n",
      "|22467|  0|        null|[[Added more back...|Oklahoma City bom...|        162443|     civilian attack|           true|\n",
      "|68292|  0|        null|[[ce,], [25359749...|     My Lai Massacre|        113722|     civilian attack|           true|\n",
      "|30785|  0|        null|[[/* top */ WP:CL...|     Tulsa race riot|         76865|     civilian attack|           true|\n",
      "|52268|  0|        null|[[/* The attack *...|Sabra and Shatila...|         75210|     civilian attack|           true|\n",
      "| 5030|  0|        null|[[/* Saville Inqu...|Bloody Sunday (1972)|         82169|     civilian attack|           true|\n",
      "|65626|  0|        null|[[Undid revision ...|   Peterloo Massacre|         71195|     civilian attack|           true|\n",
      "|58376|  0|        null|[[standard quote ...|École Polytechniq...|         58925|     civilian attack|           true|\n",
      "|59629|  0|        null|[[Reverted 1 edit...|   Dunblane massacre|         34059|civilian attack, ...|           true|\n",
      "|59651|  0|        null|[[/* Background *...|Erfurt school mas...|          9980|     civilian attack|           true|\n",
      "|44541|  0|        null|[, [, 73.144.64.2...|        Phoolan Devi|         34434|officeholder, civ...|           true|\n",
      "|42097|  0|        null|[, [34692493,, Am...|Saint Valentine's...|         30826|     civilian attack|           true|\n",
      "|62638|  0|        null|[[/* In popular c...|Oradour-sur-Glane...|         25613|     civilian attack|           true|\n",
      "+-----+---+------------+--------------------+--------------------+--------------+--------------------+---------------+\n",
      "\n"
     ]
    }
   ],
   "source": [
    "conflict_articles.show(12)"
   ]
  },
  {
   "cell_type": "markdown",
   "metadata": {},
   "source": [
    "get page titles"
   ]
  },
  {
   "cell_type": "code",
   "execution_count": 39,
   "metadata": {},
   "outputs": [
    {
     "data": {
      "text/plain": [
       "['Oklahoma City bombing',\n",
       " 'My Lai Massacre',\n",
       " 'Tulsa race riot',\n",
       " 'Sabra and Shatila massacre',\n",
       " 'Bloody Sunday (1972)',\n",
       " 'Peterloo Massacre',\n",
       " '?cole Polytechnique massacre',\n",
       " 'Dunblane massacre',\n",
       " 'Erfurt school massacre',\n",
       " 'Phoolan Devi',\n",
       " \"Saint Valentine's Day Massacre\",\n",
       " 'Oradour-sur-Glane massacre']"
      ]
     },
     "execution_count": 39,
     "metadata": {},
     "output_type": "execute_result"
    }
   ],
   "source": [
    "conflict_array = [(i.title.encode(\"ascii\",'replace')) for i in conflict_articles.collect()];\n",
    "conflict_array"
   ]
  },
  {
   "cell_type": "markdown",
   "metadata": {},
   "source": [
    "## Pageview"
   ]
  },
  {
   "cell_type": "code",
   "execution_count": 40,
   "metadata": {},
   "outputs": [
    {
     "data": {
      "text/plain": [
       "defaultdict(dict,\n",
       "            {datetime.datetime(2015, 7, 1, 0, 0): {'?cole_Polytechnique_massacre': None,\n",
       "              'Bloody_Sunday_(1972)': 50566,\n",
       "              'Dunblane_massacre': 2955,\n",
       "              'Erfurt_school_massacre': 6,\n",
       "              'My_Lai_Massacre': 47449,\n",
       "              'Oklahoma_City_bombing': 82146,\n",
       "              'Oradour-sur-Glane_massacre': 304,\n",
       "              'Peterloo_Massacre': 8861,\n",
       "              'Phoolan_Devi': 39268,\n",
       "              'Sabra_and_Shatila_massacre': 13034,\n",
       "              \"Saint_Valentine's_Day_Massacre\": 42913,\n",
       "              'Tulsa_race_riot': 27399},\n",
       "             datetime.datetime(2015, 8, 1, 0, 0): {'?cole_Polytechnique_massacre': None,\n",
       "              'Bloody_Sunday_(1972)': 42093,\n",
       "              'Dunblane_massacre': 4417,\n",
       "              'Erfurt_school_massacre': 5,\n",
       "              'My_Lai_Massacre': 46340,\n",
       "              'Oklahoma_City_bombing': 83186,\n",
       "              'Oradour-sur-Glane_massacre': 296,\n",
       "              'Peterloo_Massacre': 25512,\n",
       "              'Phoolan_Devi': 44456,\n",
       "              'Sabra_and_Shatila_massacre': 12517,\n",
       "              \"Saint_Valentine's_Day_Massacre\": 34612,\n",
       "              'Tulsa_race_riot': 24926},\n",
       "             datetime.datetime(2015, 9, 1, 0, 0): {'?cole_Polytechnique_massacre': None,\n",
       "              'Bloody_Sunday_(1972)': 44476,\n",
       "              'Dunblane_massacre': 2834,\n",
       "              'Erfurt_school_massacre': 2,\n",
       "              'My_Lai_Massacre': 50465,\n",
       "              'Oklahoma_City_bombing': 99544,\n",
       "              'Oradour-sur-Glane_massacre': 292,\n",
       "              'Peterloo_Massacre': 10196,\n",
       "              'Phoolan_Devi': 32318,\n",
       "              'Sabra_and_Shatila_massacre': 21234,\n",
       "              \"Saint_Valentine's_Day_Massacre\": 39701,\n",
       "              'Tulsa_race_riot': 29411},\n",
       "             datetime.datetime(2015, 10, 1, 0, 0): {'?cole_Polytechnique_massacre': None,\n",
       "              'Bloody_Sunday_(1972)': 51277,\n",
       "              'Dunblane_massacre': 4374,\n",
       "              'Erfurt_school_massacre': 5,\n",
       "              'My_Lai_Massacre': 54789,\n",
       "              'Oklahoma_City_bombing': 95433,\n",
       "              'Oradour-sur-Glane_massacre': 352,\n",
       "              'Peterloo_Massacre': 13270,\n",
       "              'Phoolan_Devi': 35037,\n",
       "              'Sabra_and_Shatila_massacre': 14455,\n",
       "              \"Saint_Valentine's_Day_Massacre\": 43138,\n",
       "              'Tulsa_race_riot': 20006},\n",
       "             datetime.datetime(2015, 11, 1, 0, 0): {'?cole_Polytechnique_massacre': None,\n",
       "              'Bloody_Sunday_(1972)': 119191,\n",
       "              'Dunblane_massacre': 2235,\n",
       "              'Erfurt_school_massacre': 3,\n",
       "              'My_Lai_Massacre': 65860,\n",
       "              'Oklahoma_City_bombing': 125894,\n",
       "              'Oradour-sur-Glane_massacre': 4344,\n",
       "              'Peterloo_Massacre': 12190,\n",
       "              'Phoolan_Devi': 32097,\n",
       "              'Sabra_and_Shatila_massacre': 19151,\n",
       "              \"Saint_Valentine's_Day_Massacre\": 44421,\n",
       "              'Tulsa_race_riot': 20912},\n",
       "             datetime.datetime(2015, 12, 1, 0, 0): {'?cole_Polytechnique_massacre': None,\n",
       "              'Bloody_Sunday_(1972)': 51751,\n",
       "              'Dunblane_massacre': 3169,\n",
       "              'Erfurt_school_massacre': 1,\n",
       "              'My_Lai_Massacre': 55267,\n",
       "              'Oklahoma_City_bombing': 116550,\n",
       "              'Oradour-sur-Glane_massacre': 12912,\n",
       "              'Peterloo_Massacre': 9970,\n",
       "              'Phoolan_Devi': 37588,\n",
       "              'Sabra_and_Shatila_massacre': 15267,\n",
       "              \"Saint_Valentine's_Day_Massacre\": 40155,\n",
       "              'Tulsa_race_riot': 17575},\n",
       "             datetime.datetime(2016, 1, 1, 0, 0): {'?cole_Polytechnique_massacre': None,\n",
       "              'Bloody_Sunday_(1972)': 64704,\n",
       "              'Dunblane_massacre': 2618,\n",
       "              'Erfurt_school_massacre': 2,\n",
       "              'My_Lai_Massacre': 51761,\n",
       "              'Oklahoma_City_bombing': 106459,\n",
       "              'Oradour-sur-Glane_massacre': 14776,\n",
       "              'Peterloo_Massacre': 13764,\n",
       "              'Phoolan_Devi': 42863,\n",
       "              'Sabra_and_Shatila_massacre': 12589,\n",
       "              \"Saint_Valentine's_Day_Massacre\": 56711,\n",
       "              'Tulsa_race_riot': 22150},\n",
       "             datetime.datetime(2016, 2, 1, 0, 0): {'?cole_Polytechnique_massacre': None,\n",
       "              'Bloody_Sunday_(1972)': 59463,\n",
       "              'Dunblane_massacre': 2433,\n",
       "              'Erfurt_school_massacre': 3,\n",
       "              'My_Lai_Massacre': 55834,\n",
       "              'Oklahoma_City_bombing': 85417,\n",
       "              'Oradour-sur-Glane_massacre': 15517,\n",
       "              'Peterloo_Massacre': 12963,\n",
       "              'Phoolan_Devi': 32879,\n",
       "              'Sabra_and_Shatila_massacre': 12322,\n",
       "              \"Saint_Valentine's_Day_Massacre\": 167271,\n",
       "              'Tulsa_race_riot': 111362},\n",
       "             datetime.datetime(2016, 3, 1, 0, 0): {'?cole_Polytechnique_massacre': None,\n",
       "              'Bloody_Sunday_(1972)': 75294,\n",
       "              'Dunblane_massacre': 5831,\n",
       "              'Erfurt_school_massacre': 1,\n",
       "              'My_Lai_Massacre': 85094,\n",
       "              'Oklahoma_City_bombing': 118772,\n",
       "              'Oradour-sur-Glane_massacre': 14560,\n",
       "              'Peterloo_Massacre': 16191,\n",
       "              'Phoolan_Devi': 35793,\n",
       "              'Sabra_and_Shatila_massacre': 14958,\n",
       "              \"Saint_Valentine's_Day_Massacre\": 44017,\n",
       "              'Tulsa_race_riot': 24125},\n",
       "             datetime.datetime(2016, 4, 1, 0, 0): {'?cole_Polytechnique_massacre': None,\n",
       "              'Bloody_Sunday_(1972)': 58647,\n",
       "              'Dunblane_massacre': 2103,\n",
       "              'Erfurt_school_massacre': 0,\n",
       "              'My_Lai_Massacre': 77748,\n",
       "              'Oklahoma_City_bombing': 144992,\n",
       "              'Oradour-sur-Glane_massacre': 14153,\n",
       "              'Peterloo_Massacre': 13426,\n",
       "              'Phoolan_Devi': 41243,\n",
       "              'Sabra_and_Shatila_massacre': 13993,\n",
       "              \"Saint_Valentine's_Day_Massacre\": 44884,\n",
       "              'Tulsa_race_riot': 19575},\n",
       "             datetime.datetime(2016, 5, 1, 0, 0): {'?cole_Polytechnique_massacre': None,\n",
       "              'Bloody_Sunday_(1972)': 55652,\n",
       "              'Dunblane_massacre': 1959,\n",
       "              'Erfurt_school_massacre': 634,\n",
       "              'My_Lai_Massacre': 77622,\n",
       "              'Oklahoma_City_bombing': 111125,\n",
       "              'Oradour-sur-Glane_massacre': 27076,\n",
       "              'Peterloo_Massacre': 13151,\n",
       "              'Phoolan_Devi': 48657,\n",
       "              'Sabra_and_Shatila_massacre': 13907,\n",
       "              \"Saint_Valentine's_Day_Massacre\": 38660,\n",
       "              'Tulsa_race_riot': 30932},\n",
       "             datetime.datetime(2016, 6, 1, 0, 0): {'?cole_Polytechnique_massacre': None,\n",
       "              'Bloody_Sunday_(1972)': 47272,\n",
       "              'Dunblane_massacre': 3783,\n",
       "              'Erfurt_school_massacre': 2624,\n",
       "              'My_Lai_Massacre': 53100,\n",
       "              'Oklahoma_City_bombing': 203479,\n",
       "              'Oradour-sur-Glane_massacre': 22073,\n",
       "              'Peterloo_Massacre': 9484,\n",
       "              'Phoolan_Devi': 48964,\n",
       "              'Sabra_and_Shatila_massacre': 11459,\n",
       "              \"Saint_Valentine's_Day_Massacre\": 40967,\n",
       "              'Tulsa_race_riot': 138465},\n",
       "             datetime.datetime(2016, 7, 1, 0, 0): {'?cole_Polytechnique_massacre': None,\n",
       "              'Bloody_Sunday_(1972)': 42258,\n",
       "              'Dunblane_massacre': 2325,\n",
       "              'Erfurt_school_massacre': 9422,\n",
       "              'My_Lai_Massacre': 41872,\n",
       "              'Oklahoma_City_bombing': 102707,\n",
       "              'Oradour-sur-Glane_massacre': 45580,\n",
       "              'Peterloo_Massacre': 8816,\n",
       "              'Phoolan_Devi': 38895,\n",
       "              'Sabra_and_Shatila_massacre': 11861,\n",
       "              \"Saint_Valentine's_Day_Massacre\": 42081,\n",
       "              'Tulsa_race_riot': 56488},\n",
       "             datetime.datetime(2016, 8, 1, 0, 0): {'?cole_Polytechnique_massacre': None,\n",
       "              'Bloody_Sunday_(1972)': 64599,\n",
       "              'Dunblane_massacre': 1794,\n",
       "              'Erfurt_school_massacre': 1543,\n",
       "              'My_Lai_Massacre': 44472,\n",
       "              'Oklahoma_City_bombing': 77766,\n",
       "              'Oradour-sur-Glane_massacre': 21694,\n",
       "              'Peterloo_Massacre': 27961,\n",
       "              'Phoolan_Devi': 35051,\n",
       "              'Sabra_and_Shatila_massacre': 12279,\n",
       "              \"Saint_Valentine's_Day_Massacre\": 45446,\n",
       "              'Tulsa_race_riot': 59303},\n",
       "             datetime.datetime(2016, 9, 1, 0, 0): {'?cole_Polytechnique_massacre': 2,\n",
       "              'Bloody_Sunday_(1972)': 43501,\n",
       "              'Dunblane_massacre': 1879,\n",
       "              'Erfurt_school_massacre': 1568,\n",
       "              'My_Lai_Massacre': 53198,\n",
       "              'Oklahoma_City_bombing': 109556,\n",
       "              'Oradour-sur-Glane_massacre': 19026,\n",
       "              'Peterloo_Massacre': 14854,\n",
       "              'Phoolan_Devi': 33144,\n",
       "              'Sabra_and_Shatila_massacre': 33667,\n",
       "              \"Saint_Valentine's_Day_Massacre\": 36458,\n",
       "              'Tulsa_race_riot': 82007},\n",
       "             datetime.datetime(2016, 10, 1, 0, 0): {'?cole_Polytechnique_massacre': None,\n",
       "              'Bloody_Sunday_(1972)': 43295,\n",
       "              'Dunblane_massacre': 1750,\n",
       "              'Erfurt_school_massacre': 1531,\n",
       "              'My_Lai_Massacre': 45567,\n",
       "              'Oklahoma_City_bombing': 83443,\n",
       "              'Oradour-sur-Glane_massacre': 16596,\n",
       "              'Peterloo_Massacre': 17114,\n",
       "              'Phoolan_Devi': 29381,\n",
       "              'Sabra_and_Shatila_massacre': 15451,\n",
       "              \"Saint_Valentine's_Day_Massacre\": 41367,\n",
       "              'Tulsa_race_riot': 32114},\n",
       "             datetime.datetime(2016, 11, 1, 0, 0): {'?cole_Polytechnique_massacre': 1,\n",
       "              'Bloody_Sunday_(1972)': 59301,\n",
       "              'Dunblane_massacre': 1922,\n",
       "              'Erfurt_school_massacre': 1437,\n",
       "              'My_Lai_Massacre': 62525,\n",
       "              'Oklahoma_City_bombing': 108436,\n",
       "              'Oradour-sur-Glane_massacre': 14862,\n",
       "              'Peterloo_Massacre': 14031,\n",
       "              'Phoolan_Devi': 25029,\n",
       "              'Sabra_and_Shatila_massacre': 14381,\n",
       "              \"Saint_Valentine's_Day_Massacre\": 37186,\n",
       "              'Tulsa_race_riot': 32982},\n",
       "             datetime.datetime(2016, 12, 1, 0, 0): {'?cole_Polytechnique_massacre': 1,\n",
       "              'Bloody_Sunday_(1972)': 44189,\n",
       "              'Dunblane_massacre': 2026,\n",
       "              'Erfurt_school_massacre': 1775,\n",
       "              'My_Lai_Massacre': 73562,\n",
       "              'Oklahoma_City_bombing': 82905,\n",
       "              'Oradour-sur-Glane_massacre': 16099,\n",
       "              'Peterloo_Massacre': 11000,\n",
       "              'Phoolan_Devi': 29024,\n",
       "              'Sabra_and_Shatila_massacre': 18084,\n",
       "              \"Saint_Valentine's_Day_Massacre\": 39302,\n",
       "              'Tulsa_race_riot': 21054},\n",
       "             datetime.datetime(2017, 1, 1, 0, 0): {'?cole_Polytechnique_massacre': 2,\n",
       "              'Bloody_Sunday_(1972)': 94392,\n",
       "              'Dunblane_massacre': 2200,\n",
       "              'Erfurt_school_massacre': 1663,\n",
       "              'My_Lai_Massacre': 57925,\n",
       "              'Oklahoma_City_bombing': 110210,\n",
       "              'Oradour-sur-Glane_massacre': 21406,\n",
       "              'Peterloo_Massacre': 15166,\n",
       "              'Phoolan_Devi': 34401,\n",
       "              'Sabra_and_Shatila_massacre': 15078,\n",
       "              \"Saint_Valentine's_Day_Massacre\": 50412,\n",
       "              'Tulsa_race_riot': 26302},\n",
       "             datetime.datetime(2017, 2, 1, 0, 0): {'?cole_Polytechnique_massacre': 1,\n",
       "              'Bloody_Sunday_(1972)': 52900,\n",
       "              'Dunblane_massacre': 1739,\n",
       "              'Erfurt_school_massacre': 1414,\n",
       "              'My_Lai_Massacre': 52672,\n",
       "              'Oklahoma_City_bombing': 162000,\n",
       "              'Oradour-sur-Glane_massacre': 16288,\n",
       "              'Peterloo_Massacre': 14655,\n",
       "              'Phoolan_Devi': 39264,\n",
       "              'Sabra_and_Shatila_massacre': 13937,\n",
       "              \"Saint_Valentine's_Day_Massacre\": 161389,\n",
       "              'Tulsa_race_riot': 280507},\n",
       "             datetime.datetime(2017, 3, 1, 0, 0): {'?cole_Polytechnique_massacre': 2,\n",
       "              'Bloody_Sunday_(1972)': 103481,\n",
       "              'Dunblane_massacre': 2268,\n",
       "              'Erfurt_school_massacre': 1826,\n",
       "              'My_Lai_Massacre': 122303,\n",
       "              'Oklahoma_City_bombing': 107114,\n",
       "              'Oradour-sur-Glane_massacre': 17084,\n",
       "              'Peterloo_Massacre': 14246,\n",
       "              'Phoolan_Devi': 36081,\n",
       "              'Sabra_and_Shatila_massacre': 14120,\n",
       "              \"Saint_Valentine's_Day_Massacre\": 47080,\n",
       "              'Tulsa_race_riot': 29587},\n",
       "             datetime.datetime(2017, 4, 1, 0, 0): {'?cole_Polytechnique_massacre': None,\n",
       "              'Bloody_Sunday_(1972)': 48376,\n",
       "              'Dunblane_massacre': 1944,\n",
       "              'Erfurt_school_massacre': 2271,\n",
       "              'My_Lai_Massacre': 88007,\n",
       "              'Oklahoma_City_bombing': 253594,\n",
       "              'Oradour-sur-Glane_massacre': 26127,\n",
       "              'Peterloo_Massacre': 11145,\n",
       "              'Phoolan_Devi': 24585,\n",
       "              'Sabra_and_Shatila_massacre': 13697,\n",
       "              \"Saint_Valentine's_Day_Massacre\": 36863,\n",
       "              'Tulsa_race_riot': 44553},\n",
       "             datetime.datetime(2017, 5, 1, 0, 0): {'?cole_Polytechnique_massacre': 1,\n",
       "              'Bloody_Sunday_(1972)': 55382,\n",
       "              'Dunblane_massacre': 2160,\n",
       "              'Erfurt_school_massacre': 1657,\n",
       "              'My_Lai_Massacre': 90992,\n",
       "              'Oklahoma_City_bombing': 194210,\n",
       "              'Oradour-sur-Glane_massacre': 21742,\n",
       "              'Peterloo_Massacre': 19008,\n",
       "              'Phoolan_Devi': 27284,\n",
       "              'Sabra_and_Shatila_massacre': 14443,\n",
       "              \"Saint_Valentine's_Day_Massacre\": 35603,\n",
       "              'Tulsa_race_riot': 39177},\n",
       "             datetime.datetime(2017, 6, 1, 0, 0): {'?cole_Polytechnique_massacre': None,\n",
       "              'Bloody_Sunday_(1972)': 48155,\n",
       "              'Dunblane_massacre': 1919,\n",
       "              'Erfurt_school_massacre': 1475,\n",
       "              'My_Lai_Massacre': 51491,\n",
       "              'Oklahoma_City_bombing': 121709,\n",
       "              'Oradour-sur-Glane_massacre': 25210,\n",
       "              'Peterloo_Massacre': 18453,\n",
       "              'Phoolan_Devi': 23632,\n",
       "              'Sabra_and_Shatila_massacre': 12476,\n",
       "              \"Saint_Valentine's_Day_Massacre\": 28232,\n",
       "              'Tulsa_race_riot': 40699},\n",
       "             datetime.datetime(2017, 7, 1, 0, 0): {'?cole_Polytechnique_massacre': None,\n",
       "              'Bloody_Sunday_(1972)': 38270,\n",
       "              'Dunblane_massacre': 1736,\n",
       "              'Erfurt_school_massacre': 1542,\n",
       "              'My_Lai_Massacre': 51732,\n",
       "              'Oklahoma_City_bombing': 111666,\n",
       "              'Oradour-sur-Glane_massacre': 24905,\n",
       "              'Peterloo_Massacre': 15905,\n",
       "              'Phoolan_Devi': 32881,\n",
       "              'Sabra_and_Shatila_massacre': 11646,\n",
       "              \"Saint_Valentine's_Day_Massacre\": 32402,\n",
       "              'Tulsa_race_riot': 33001},\n",
       "             datetime.datetime(2017, 8, 1, 0, 0): {'?cole_Polytechnique_massacre': None,\n",
       "              'Bloody_Sunday_(1972)': 34349,\n",
       "              'Dunblane_massacre': 6858,\n",
       "              'Erfurt_school_massacre': 1956,\n",
       "              'My_Lai_Massacre': 53981,\n",
       "              'Oklahoma_City_bombing': 137124,\n",
       "              'Oradour-sur-Glane_massacre': 27736,\n",
       "              'Peterloo_Massacre': 20062,\n",
       "              'Phoolan_Devi': 29322,\n",
       "              'Sabra_and_Shatila_massacre': 11473,\n",
       "              \"Saint_Valentine's_Day_Massacre\": 32805,\n",
       "              'Tulsa_race_riot': 29350},\n",
       "             datetime.datetime(2017, 9, 1, 0, 0): {'?cole_Polytechnique_massacre': 1,\n",
       "              'Bloody_Sunday_(1972)': 38923,\n",
       "              'Dunblane_massacre': 17535,\n",
       "              'Erfurt_school_massacre': 2033,\n",
       "              'My_Lai_Massacre': 133685,\n",
       "              'Oklahoma_City_bombing': 101403,\n",
       "              'Oradour-sur-Glane_massacre': 19730,\n",
       "              'Peterloo_Massacre': 13289,\n",
       "              'Phoolan_Devi': 26327,\n",
       "              'Sabra_and_Shatila_massacre': 22225,\n",
       "              \"Saint_Valentine's_Day_Massacre\": 38419,\n",
       "              'Tulsa_race_riot': 32843},\n",
       "             datetime.datetime(2017, 10, 1, 0, 0): {'?cole_Polytechnique_massacre': None,\n",
       "              'Bloody_Sunday_(1972)': 47653,\n",
       "              'Dunblane_massacre': 63955,\n",
       "              'Erfurt_school_massacre': 5212,\n",
       "              'My_Lai_Massacre': 98271,\n",
       "              'Oklahoma_City_bombing': 207211,\n",
       "              'Oradour-sur-Glane_massacre': 20042,\n",
       "              'Peterloo_Massacre': 13416,\n",
       "              'Phoolan_Devi': 22926,\n",
       "              'Sabra_and_Shatila_massacre': 13217,\n",
       "              \"Saint_Valentine's_Day_Massacre\": 52582,\n",
       "              'Tulsa_race_riot': 196529},\n",
       "             datetime.datetime(2017, 11, 1, 0, 0): {'?cole_Polytechnique_massacre': None,\n",
       "              'Bloody_Sunday_(1972)': 64958,\n",
       "              'Dunblane_massacre': 27021,\n",
       "              'Erfurt_school_massacre': 3244,\n",
       "              'My_Lai_Massacre': 107520,\n",
       "              'Oklahoma_City_bombing': 100943,\n",
       "              'Oradour-sur-Glane_massacre': 20305,\n",
       "              'Peterloo_Massacre': 13250,\n",
       "              'Phoolan_Devi': 45597,\n",
       "              'Sabra_and_Shatila_massacre': 13773,\n",
       "              \"Saint_Valentine's_Day_Massacre\": 38418,\n",
       "              'Tulsa_race_riot': 356864},\n",
       "             datetime.datetime(2017, 12, 1, 0, 0): {'?cole_Polytechnique_massacre': None,\n",
       "              'Bloody_Sunday_(1972)': 39638,\n",
       "              'Dunblane_massacre': 17748,\n",
       "              'Erfurt_school_massacre': 2345,\n",
       "              'My_Lai_Massacre': 67612,\n",
       "              'Oklahoma_City_bombing': 109658,\n",
       "              'Oradour-sur-Glane_massacre': 21052,\n",
       "              'Peterloo_Massacre': 14526,\n",
       "              'Phoolan_Devi': 38224,\n",
       "              'Sabra_and_Shatila_massacre': 15507,\n",
       "              \"Saint_Valentine's_Day_Massacre\": 41786,\n",
       "              'Tulsa_race_riot': 30493},\n",
       "             datetime.datetime(2018, 1, 1, 0, 0): {'?cole_Polytechnique_massacre': 0,\n",
       "              'Bloody_Sunday_(1972)': 72782,\n",
       "              'Dunblane_massacre': 34179,\n",
       "              'Erfurt_school_massacre': 3142,\n",
       "              'My_Lai_Massacre': 68089,\n",
       "              'Oklahoma_City_bombing': 147277,\n",
       "              'Oradour-sur-Glane_massacre': 29139,\n",
       "              'Peterloo_Massacre': 16719,\n",
       "              'Phoolan_Devi': 44868,\n",
       "              'Sabra_and_Shatila_massacre': 13864,\n",
       "              \"Saint_Valentine's_Day_Massacre\": 52925,\n",
       "              'Tulsa_race_riot': 26522},\n",
       "             datetime.datetime(2018, 2, 1, 0, 0): {'?cole_Polytechnique_massacre': 0,\n",
       "              'Bloody_Sunday_(1972)': 50830,\n",
       "              'Dunblane_massacre': 240070,\n",
       "              'Erfurt_school_massacre': 21405,\n",
       "              'My_Lai_Massacre': 63448,\n",
       "              'Oklahoma_City_bombing': 189011,\n",
       "              'Oradour-sur-Glane_massacre': 18811,\n",
       "              'Peterloo_Massacre': 14367,\n",
       "              'Phoolan_Devi': 36658,\n",
       "              'Sabra_and_Shatila_massacre': 13553,\n",
       "              \"Saint_Valentine's_Day_Massacre\": 184366,\n",
       "              'Tulsa_race_riot': 69171},\n",
       "             datetime.datetime(2018, 3, 1, 0, 0): {'?cole_Polytechnique_massacre': 0,\n",
       "              'Bloody_Sunday_(1972)': 59623,\n",
       "              'Dunblane_massacre': 125177,\n",
       "              'Erfurt_school_massacre': 6554,\n",
       "              'My_Lai_Massacre': 233254,\n",
       "              'Oklahoma_City_bombing': 171788,\n",
       "              'Oradour-sur-Glane_massacre': 23553,\n",
       "              'Peterloo_Massacre': 14317,\n",
       "              'Phoolan_Devi': 39932,\n",
       "              'Sabra_and_Shatila_massacre': 13227,\n",
       "              \"Saint_Valentine's_Day_Massacre\": 51864,\n",
       "              'Tulsa_race_riot': 39130},\n",
       "             datetime.datetime(2018, 4, 1, 0, 0): {'?cole_Polytechnique_massacre': 0,\n",
       "              'Bloody_Sunday_(1972)': 49138,\n",
       "              'Dunblane_massacre': 26858,\n",
       "              'Erfurt_school_massacre': 3807,\n",
       "              'My_Lai_Massacre': 94398,\n",
       "              'Oklahoma_City_bombing': 183324,\n",
       "              'Oradour-sur-Glane_massacre': 21457,\n",
       "              'Peterloo_Massacre': 11920,\n",
       "              'Phoolan_Devi': 47804,\n",
       "              'Sabra_and_Shatila_massacre': 15414,\n",
       "              \"Saint_Valentine's_Day_Massacre\": 42374,\n",
       "              'Tulsa_race_riot': 27137},\n",
       "             datetime.datetime(2018, 5, 1, 0, 0): {'?cole_Polytechnique_massacre': 1,\n",
       "              'Bloody_Sunday_(1972)': 47866,\n",
       "              'Dunblane_massacre': 37691,\n",
       "              'Erfurt_school_massacre': 5004,\n",
       "              'My_Lai_Massacre': 103778,\n",
       "              'Oklahoma_City_bombing': 117411,\n",
       "              'Oradour-sur-Glane_massacre': 21894,\n",
       "              'Peterloo_Massacre': 12363,\n",
       "              'Phoolan_Devi': 35732,\n",
       "              'Sabra_and_Shatila_massacre': 19702,\n",
       "              \"Saint_Valentine's_Day_Massacre\": 43366,\n",
       "              'Tulsa_race_riot': 42002},\n",
       "             datetime.datetime(2018, 6, 1, 0, 0): {'?cole_Polytechnique_massacre': 0,\n",
       "              'Bloody_Sunday_(1972)': 35892,\n",
       "              'Dunblane_massacre': 21968,\n",
       "              'Erfurt_school_massacre': 2723,\n",
       "              'My_Lai_Massacre': 81075,\n",
       "              'Oklahoma_City_bombing': 94090,\n",
       "              'Oradour-sur-Glane_massacre': 29539,\n",
       "              'Peterloo_Massacre': 10404,\n",
       "              'Phoolan_Devi': 38014,\n",
       "              'Sabra_and_Shatila_massacre': 13504,\n",
       "              \"Saint_Valentine's_Day_Massacre\": 33002,\n",
       "              'Tulsa_race_riot': 99191},\n",
       "             datetime.datetime(2018, 7, 1, 0, 0): {'?cole_Polytechnique_massacre': 0,\n",
       "              'Bloody_Sunday_(1972)': 36394,\n",
       "              'Dunblane_massacre': 22649,\n",
       "              'Erfurt_school_massacre': 2532,\n",
       "              'My_Lai_Massacre': 80810,\n",
       "              'Oklahoma_City_bombing': 93102,\n",
       "              'Oradour-sur-Glane_massacre': 26746,\n",
       "              'Peterloo_Massacre': 47909,\n",
       "              'Phoolan_Devi': 53864,\n",
       "              'Sabra_and_Shatila_massacre': 13446,\n",
       "              \"Saint_Valentine's_Day_Massacre\": 34734,\n",
       "              'Tulsa_race_riot': 27366},\n",
       "             datetime.datetime(2018, 8, 1, 0, 0): {'?cole_Polytechnique_massacre': 1,\n",
       "              'Bloody_Sunday_(1972)': 35462,\n",
       "              'Dunblane_massacre': 26005,\n",
       "              'Erfurt_school_massacre': 2884,\n",
       "              'My_Lai_Massacre': 74544,\n",
       "              'Oklahoma_City_bombing': 89494,\n",
       "              'Oradour-sur-Glane_massacre': 27968,\n",
       "              'Peterloo_Massacre': 51476,\n",
       "              'Phoolan_Devi': 47724,\n",
       "              'Sabra_and_Shatila_massacre': 14576,\n",
       "              \"Saint_Valentine's_Day_Massacre\": 39239,\n",
       "              'Tulsa_race_riot': 43174},\n",
       "             datetime.datetime(2018, 9, 1, 0, 0): {'?cole_Polytechnique_massacre': None,\n",
       "              'Bloody_Sunday_(1972)': 45163,\n",
       "              'Dunblane_massacre': 25291,\n",
       "              'Erfurt_school_massacre': 2385,\n",
       "              'My_Lai_Massacre': 73591,\n",
       "              'Oklahoma_City_bombing': 109376,\n",
       "              'Oradour-sur-Glane_massacre': 22917,\n",
       "              'Peterloo_Massacre': 27659,\n",
       "              'Phoolan_Devi': 36790,\n",
       "              'Sabra_and_Shatila_massacre': 33110,\n",
       "              \"Saint_Valentine's_Day_Massacre\": 34912,\n",
       "              'Tulsa_race_riot': 71735},\n",
       "             datetime.datetime(2018, 10, 1, 0, 0): {'?cole_Polytechnique_massacre': None,\n",
       "              'Bloody_Sunday_(1972)': 60359,\n",
       "              'Dunblane_massacre': 38923,\n",
       "              'Erfurt_school_massacre': 3224,\n",
       "              'My_Lai_Massacre': 63305,\n",
       "              'Oklahoma_City_bombing': 147370,\n",
       "              'Oradour-sur-Glane_massacre': 22457,\n",
       "              'Peterloo_Massacre': 135600,\n",
       "              'Phoolan_Devi': 37937,\n",
       "              'Sabra_and_Shatila_massacre': 14936,\n",
       "              \"Saint_Valentine's_Day_Massacre\": 39592,\n",
       "              'Tulsa_race_riot': 67335},\n",
       "             datetime.datetime(2018, 11, 1, 0, 0): {'?cole_Polytechnique_massacre': None,\n",
       "              'Bloody_Sunday_(1972)': None,\n",
       "              'Dunblane_massacre': None,\n",
       "              'Erfurt_school_massacre': None,\n",
       "              'My_Lai_Massacre': None,\n",
       "              'Oklahoma_City_bombing': None,\n",
       "              'Oradour-sur-Glane_massacre': None,\n",
       "              'Peterloo_Massacre': None,\n",
       "              'Phoolan_Devi': None,\n",
       "              'Sabra_and_Shatila_massacre': None,\n",
       "              \"Saint_Valentine's_Day_Massacre\": None,\n",
       "              'Tulsa_race_riot': None}})"
      ]
     },
     "execution_count": 40,
     "metadata": {},
     "output_type": "execute_result"
    }
   ],
   "source": [
    "startingLogDate = '20150701';\n",
    "today = time.strftime('%Y%m%d');\n",
    "\n",
    "p = PageviewsClient(user_agent=\"<ada@epfl.ch> Applied data analysis project\")\n",
    "\n",
    "p.article_views('en.wikipedia', conflict_array, granularity='monthly', start=startingLogDate, end=today, agent='user')"
   ]
  },
  {
   "cell_type": "markdown",
   "metadata": {},
   "source": [
    "## External links"
   ]
  },
  {
   "cell_type": "code",
   "execution_count": null,
   "metadata": {
    "collapsed": true
   },
   "outputs": [],
   "source": [
    "# todo"
   ]
  },
  {
   "cell_type": "markdown",
   "metadata": {},
   "source": [
    "## Referenze"
   ]
  },
  {
   "cell_type": "code",
   "execution_count": null,
   "metadata": {
    "collapsed": true
   },
   "outputs": [],
   "source": [
    "# todo"
   ]
  },
  {
   "cell_type": "markdown",
   "metadata": {},
   "source": [
    "## To Pandas"
   ]
  },
  {
   "cell_type": "code",
   "execution_count": null,
   "metadata": {
    "collapsed": true
   },
   "outputs": [],
   "source": [
    "pdArticles = articles.select('id','title','article_lenght','categories').toPandas().set_index('id');"
   ]
  },
  {
   "cell_type": "code",
   "execution_count": null,
   "metadata": {
    "collapsed": true
   },
   "outputs": [],
   "source": [
    "pdArticles.head(50)"
   ]
  },
  {
   "cell_type": "markdown",
   "metadata": {},
   "source": [
    "yo"
   ]
  }
 ],
 "metadata": {
  "kernelspec": {
   "display_name": "Python (ada)",
   "language": "python",
   "name": "ada"
  },
  "language_info": {
   "codemirror_mode": {
    "name": "ipython",
    "version": 2
   },
   "file_extension": ".py",
   "mimetype": "text/x-python",
   "name": "python",
   "nbconvert_exporter": "python",
   "pygments_lexer": "ipython2",
   "version": "2.7.15"
  }
 },
 "nbformat": 4,
 "nbformat_minor": 2
}
