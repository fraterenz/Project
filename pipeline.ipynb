{
 "cells": [
  {
   "cell_type": "code",
   "execution_count": 1,
   "metadata": {},
   "outputs": [],
   "source": [
    "import findspark\n",
    "findspark.init()\n",
    "\n",
    "import wptools\n",
    "import pyspark\n",
    "import pyspark.sql\n",
    "from pyspark.sql import *\n",
    "import os.path\n",
    "from pyspark.sql.functions import desc\n",
    "\n",
    "from pyspark.sql import dataframe\n",
    "from pyspark.sql import functions as F\n",
    "\n",
    "from pyspark.sql import SparkSession\n",
    "from pyspark import SparkContext\n",
    "from pyspark.sql import SQLContext\n",
    "\n",
    "spark = SparkSession.builder.getOrCreate()\n",
    "sc = spark.sparkContext\n",
    "\n",
    "from pyspark.sql import SQLContext\n",
    "sqlContext = SQLContext(sc)"
   ]
  },
  {
   "cell_type": "code",
   "execution_count": 61,
   "metadata": {},
   "outputs": [],
   "source": [
    "import re\n",
    "import pandas as pd\n",
    "import matplotlib.pyplot as plt\n",
    "import hashlib\n",
    "\n",
    "%matplotlib inline\n",
    "\n",
    "# import get_ref_info.py\n",
    "import os\n",
    "import sys\n",
    "my_fun = './utils/'\n",
    "if my_fun not in sys.path:\n",
    "    sys.path.append(my_fun)\n",
    "    \n",
    "from get_ref_info import *\n",
    "from operator import add\n",
    "\n",
    "try:\n",
    "    from urllib.parse import urlparse\n",
    "except ImportError:\n",
    "     from urlparse import urlparse\n",
    "\n",
    "import seaborn as sns\n",
    "import numpy as np\n",
    "from pyspark.sql.functions import regexp_replace, col\n",
    "\n",
    "import time\n",
    "from datetime import timedelta, date\n",
    "from mwviews.api import PageviewsClient\n",
    "from collections import OrderedDict\n",
    "DATA_DIR = './data/data_processed/' \n",
    "\n",
    "sc.addPyFile(\"./utils/get_ref_info.py\")"
   ]
  },
  {
   "cell_type": "markdown",
   "metadata": {},
   "source": [
    "# Loading data "
   ]
  },
  {
   "cell_type": "markdown",
   "metadata": {},
   "source": [
    "**File schema** is shown."
   ]
  },
  {
   "cell_type": "code",
   "execution_count": 3,
   "metadata": {},
   "outputs": [
    {
     "name": "stdout",
     "output_type": "stream",
     "text": [
      "root\n",
      " |-- id: long (nullable = true)\n",
      " |-- ns: long (nullable = true)\n",
      " |-- restrictions: string (nullable = true)\n",
      " |-- revision: struct (nullable = true)\n",
      " |    |-- comment: struct (nullable = true)\n",
      " |    |    |-- _VALUE: string (nullable = true)\n",
      " |    |    |-- _deleted: string (nullable = true)\n",
      " |    |-- contributor: struct (nullable = true)\n",
      " |    |    |-- _VALUE: string (nullable = true)\n",
      " |    |    |-- _deleted: string (nullable = true)\n",
      " |    |    |-- id: long (nullable = true)\n",
      " |    |    |-- ip: string (nullable = true)\n",
      " |    |    |-- username: string (nullable = true)\n",
      " |    |-- format: string (nullable = true)\n",
      " |    |-- id: long (nullable = true)\n",
      " |    |-- minor: string (nullable = true)\n",
      " |    |-- model: string (nullable = true)\n",
      " |    |-- parentid: long (nullable = true)\n",
      " |    |-- sha1: string (nullable = true)\n",
      " |    |-- text: struct (nullable = true)\n",
      " |    |    |-- _VALUE: string (nullable = true)\n",
      " |    |    |-- _xml:space: string (nullable = true)\n",
      " |    |-- timestamp: string (nullable = true)\n",
      " |-- title: string (nullable = true)\n",
      " |-- categories: string (nullable = true)\n",
      " |-- good_categories: boolean (nullable = true)\n",
      "\n"
     ]
    }
   ],
   "source": [
    "WIKIPEDIA_CONFLICTS_PARQUET = DATA_DIR + 'selectedAllConflict.parquet'\n",
    "\n",
    "# loading the saved parquet files\n",
    "wikipedia_ = spark.read.parquet(WIKIPEDIA_CONFLICTS_PARQUET)\n",
    "# show file schema\n",
    "wikipedia_.printSchema()"
   ]
  },
  {
   "cell_type": "code",
   "execution_count": 4,
   "metadata": {},
   "outputs": [
    {
     "name": "stdout",
     "output_type": "stream",
     "text": [
      "Number of articles: 18782\n"
     ]
    }
   ],
   "source": [
    "# how many articles are there?\n",
    "print(\"Number of articles: {}\".format(wikipedia_.count()))"
   ]
  },
  {
   "cell_type": "markdown",
   "metadata": {},
   "source": [
    "---\n",
    "\n",
    "# Article outliers removal\n",
    "\n",
    "We have some outliers we need to deal with, as a first step we use keywords (**\"war, riot, conflict, protest, revolt, operation, attack, annexation, genocide, insurgency, crisis, confrontation, clash\"**) on the article titles to extract from our chosen categories (`civilian attack`, `civil conflict`, `military conflict`).\n",
    "\n",
    "For example, we found that some articles in `civilian attack` may contain the infobox `civilian attack` but are not really a `civilian attack`. The following page \n",
    "\n",
    "> Fraunces Tavern: Fraunces Tavern is a landmark museum and restaurant in New York City, situated at 54 Pearl Street at the corner of Broad Street. The location played a prominent role in history before, during and after the American Revolution, serving as a headquarters for George Washington, a venue for peace negotiations with the British, and housing federal offices in the Early Republic.\n",
    "\n",
    "Since some pages are considered **outliers**, we remove them using the method described above and remove any disambiguations."
   ]
  },
  {
   "cell_type": "code",
   "execution_count": 5,
   "metadata": {},
   "outputs": [
    {
     "name": "stdout",
     "output_type": "stream",
     "text": [
      "Number of articles without outliers: 5651\n"
     ]
    }
   ],
   "source": [
    "# filter out outliers\n",
    "outlier_regex = \"war*|battle*|siege*|campaign*|riot*|conflict*|protest*|revolt*|operation*|attack*|annexation*|genocide*|insurgency*|crisis*|confrontation*|clash*\"\n",
    "wikipedia = wikipedia_.filter(~F.lower(wikipedia_['title']).rlike(outlier_regex))\n",
    "print(\"Number of articles without outliers: {}\".format(wikipedia.count()))\n",
    "\n",
    "wikipedia = wikipedia.filter(\"lower(revision.text._VALUE) not like '%{disambiguation}%'\")\n",
    "# save in parquet\n",
    "wikipedia.write.parquet(DATA_DIR+\"wikipedia_no_outliers.parquet\")\n",
    "# load from parquet so that the rest of notebook uses cleaned version of data\n",
    "wikipedia = spark.read.parquet(DATA_DIR+\"wikipedia_no_outliers.parquet\")\n",
    "\n",
    "#problema dei filters: già mancano battle, campaign, siege, ... In più ci sono cose tipo https://en.wikipedia.org/wiki/Falaise_Pocket che dovrebbero rimanere incluse"
   ]
  },
  {
   "cell_type": "markdown",
   "metadata": {},
   "source": [
    "Alternativa per gli outliers ditemi cosa ne pensate"
   ]
  },
  {
   "cell_type": "code",
   "execution_count": 5,
   "metadata": {},
   "outputs": [],
   "source": [
    "wikipedia = spark.read.parquet(WIKIPEDIA_CONFLICTS_PARQUET)"
   ]
  },
  {
   "cell_type": "code",
   "execution_count": 6,
   "metadata": {},
   "outputs": [],
   "source": [
    "regex = r\"([A-z].+?(?=,)|[A-z].*?$)\"\n",
    "cat_regex = re.compile(regex,re.IGNORECASE);"
   ]
  },
  {
   "cell_type": "code",
   "execution_count": 7,
   "metadata": {},
   "outputs": [],
   "source": [
    "categories = [];\n",
    "def extr_categories(text):\n",
    "    global categories\n",
    "    categories = categories + cat_regex.findall(text);"
   ]
  },
  {
   "cell_type": "code",
   "execution_count": 8,
   "metadata": {},
   "outputs": [],
   "source": [
    "categories = [];\n",
    "for i in wikipedia.select(F.lower(col('categories')).alias('categories')).collect(): #lcase\n",
    "    extr_categories(i[0])"
   ]
  },
  {
   "cell_type": "code",
   "execution_count": 9,
   "metadata": {},
   "outputs": [
    {
     "name": "stdout",
     "output_type": "stream",
     "text": [
      "['mountain range', 'protected area', 'milit', 'islands', 'historical event', 'newspaper', 'east asian', 'building', 'event', 'monarch', 'united states district court case', 'korean name', 'historic building', 'aircraft incident', 'television', 'nrhp', 'australian place', 'book', 'military conflict', 'civilian attack', 'airport', 'ship begin', 'protected area', 'military person', 'monument', 'news event', 'murderer', 'pahistoric', 'airliner accident', 'legislature', 'operational plan', 'court case', 'subbox = yes', 'service record', 'person', 'aircraft occurrence', 'military conflict  <', 'legislation', 'former country', 'military person', 'ship image', 'treaty', 'military structure', 'mass murderer', 'law enforcement agency', 'nrhp', 'holiday', 'shopping mall', 'film', 'ship career', 'former subdivision', 'uk feature', 'greek dimos', 'football match', 'military operation', 'historic site', 'person', 'national military', 'east asian name', 'election', 'ship characteristics', 'school', 'holiday', 'ancient site', 'park', 'country', 'tv channel', 'terrorist attack', 'musical artist', 'criminal', 'person/height', 'nobility', 'military conflict', 'civil conflict', 'museum', 'decat = yes', 'saint', 'criminal', 'criminal organization', 'bilateral relations', 'university', 'organization', 'military unit', 'officeholder', 'military memorial', 'chinese', 'referendum', 'serial killer', 'settlement', 'nobility', 'un resolution', 'police officer']\n"
     ]
    }
   ],
   "source": [
    "categories_unique = list(set(categories))\n",
    "categories_map = map(str.strip, [str(i) for i in categories_unique])\n",
    "print(list(categories_map))"
   ]
  },
  {
   "cell_type": "code",
   "execution_count": 16,
   "metadata": {},
   "outputs": [],
   "source": [
    "mainCategories = ['civil conflict','military conflict','civilian attack']\n",
    "\n",
    "filteredCategoryMap=[]\n",
    "for i in categories_map:\n",
    "    if not any(s in i for s in mainCategories):\n",
    "        if i == 'milit': #Battle of Tolbiac give a problem because of a umlaut\n",
    "            continue\n",
    "        filteredCategoryMap+=[i];\n",
    "\n",
    "filteredCategoryMap = list(set(filteredCategoryMap))\n",
    "#create a dynamic regex\n",
    "forReg = '|'.join(filteredCategoryMap);"
   ]
  },
  {
   "cell_type": "code",
   "execution_count": 11,
   "metadata": {
    "scrolled": true
   },
   "outputs": [
    {
     "data": {
      "text/plain": [
       "18782"
      ]
     },
     "execution_count": 11,
     "metadata": {},
     "output_type": "execute_result"
    }
   ],
   "source": [
    "wikiExtraCat = wikipedia.filter(F.lower(wikipedia.categories).rlike(forReg))\n",
    "wikiExtraCat.count()"
   ]
  },
  {
   "cell_type": "markdown",
   "metadata": {},
   "source": [
    "questo vuole dire che ci sono **345** articoli che hanno **anche altre categorie**, non sono molti volendo potremmo scartarli già tutti"
   ]
  },
  {
   "cell_type": "code",
   "execution_count": 12,
   "metadata": {},
   "outputs": [
    {
     "data": {
      "text/plain": [
       "109"
      ]
     },
     "execution_count": 12,
     "metadata": {},
     "output_type": "execute_result"
    }
   ],
   "source": [
    "outliers_categories = ['police officer','person','tv channel','historic building',\n",
    "                       'service record','ship career','news event','legislature'\n",
    "                       'national military','islands','shopping mall',\n",
    "                       'museum','legislation','referendum',\n",
    "                       'nobility','serial killer','officeholder','decat = yes',\n",
    "                       'television','newspaper','former subdivision','film',\n",
    "                       'book','bilateral relations','monarch','building','organization']\n",
    "\n",
    "wikipedia.select(\"id\",\"title\",\"categories\", \"revision\").filter(F.lower(wikipedia.categories).rlike('|'.join(outliers_categories))).count()"
   ]
  },
  {
   "cell_type": "markdown",
   "metadata": {},
   "source": [
    "e alla fine scartiamo solo 109 articoli... boh non saprei, secondo me ci siamo dai"
   ]
  },
  {
   "cell_type": "code",
   "execution_count": 13,
   "metadata": {},
   "outputs": [
    {
     "data": {
      "text/plain": [
       "18673"
      ]
     },
     "execution_count": 13,
     "metadata": {},
     "output_type": "execute_result"
    }
   ],
   "source": [
    "wikipedia = wikipedia.select(\"id\",\"title\",\"categories\",\"revision\").filter(~F.lower(wikipedia.categories).rlike('|'.join(outliers_categories)))\n",
    "wikipedia.count()"
   ]
  },
  {
   "cell_type": "code",
   "execution_count": 14,
   "metadata": {},
   "outputs": [
    {
     "name": "stdout",
     "output_type": "stream",
     "text": [
      "root\n",
      " |-- id: long (nullable = true)\n",
      " |-- title: string (nullable = true)\n",
      " |-- categories: string (nullable = true)\n",
      " |-- revision: struct (nullable = true)\n",
      " |    |-- comment: struct (nullable = true)\n",
      " |    |    |-- _VALUE: string (nullable = true)\n",
      " |    |    |-- _deleted: string (nullable = true)\n",
      " |    |-- contributor: struct (nullable = true)\n",
      " |    |    |-- _VALUE: string (nullable = true)\n",
      " |    |    |-- _deleted: string (nullable = true)\n",
      " |    |    |-- id: long (nullable = true)\n",
      " |    |    |-- ip: string (nullable = true)\n",
      " |    |    |-- username: string (nullable = true)\n",
      " |    |-- format: string (nullable = true)\n",
      " |    |-- id: long (nullable = true)\n",
      " |    |-- minor: string (nullable = true)\n",
      " |    |-- model: string (nullable = true)\n",
      " |    |-- parentid: long (nullable = true)\n",
      " |    |-- sha1: string (nullable = true)\n",
      " |    |-- text: struct (nullable = true)\n",
      " |    |    |-- _VALUE: string (nullable = true)\n",
      " |    |    |-- _xml:space: string (nullable = true)\n",
      " |    |-- timestamp: string (nullable = true)\n",
      "\n"
     ]
    }
   ],
   "source": [
    "wikipedia.printSchema()"
   ]
  },
  {
   "cell_type": "code",
   "execution_count": 15,
   "metadata": {},
   "outputs": [],
   "source": [
    "# save to binary files \n",
    "wikipedia.write.mode('overwrite').parquet(\"data/data_processed/wikipedia_no_outliers.parquet\");"
   ]
  },
  {
   "cell_type": "markdown",
   "metadata": {},
   "source": [
    "We explore how many articles have each **keyword** selected in the given keywords. "
   ]
  },
  {
   "cell_type": "code",
   "execution_count": 51,
   "metadata": {},
   "outputs": [
    {
     "data": {
      "image/png": "[encoded data removed]",
      "text/plain": [
       "<Figure size 1080x504 with 1 Axes>"
      ]
     },
     "metadata": {
      "needs_background": "light"
     },
     "output_type": "display_data"
    }
   ],
   "source": [
    "keyword_wikipedia = spark.read.parquet(DATA_DIR+\"wikipedia_no_outliers.parquet\")\n",
    "\n",
    "titles = outlier_regex.split('|')\n",
    "\n",
    "titles_count = pd.DataFrame(np.zeros((len(titles), )), index=titles, columns=['count'])\n",
    "# computationally less expansive\n",
    "wiki_titles = keyword_wikipedia.select('title')\n",
    "\n",
    "# count the titles that contains titles\n",
    "for ele in titles:\n",
    "    titles_count.loc[ele] = wiki_titles.filter(wiki_titles.title.rlike(ele)).count()\n",
    "\n",
    "    \n",
    "titles_count['count'] = titles_count['count']*100/titles_count['count'].sum()  \n",
    "f, ax1 = plt.subplots()\n",
    "plt.sca(ax1)\n",
    "sns.barplot(\n",
    "    x='count', y=titles_count.index, data=titles_count.sort_values('count', ascending=False), \n",
    "    orient='h', palette=\"RdPu\"\n",
    ");\n",
    "\n",
    "plt.xlabel('Percentage of articles [%]',fontsize=18)\n",
    "plt.ylabel('Keyword',fontsize=18)\n",
    "f.suptitle('Bar plot of percentage of articles for each keyword', fontsize=20)\n",
    "f.set_size_inches(15, 7)\n",
    "plt.show()"
   ]
  },
  {
   "cell_type": "markdown",
   "metadata": {},
   "source": [
    "**Bar plot of percentage of articles for each keyword.** \n",
    "\n",
    "We can see that the keyword `war, riot` together make up for ~50% of the articles. Very little articles are associated to `clash` or `confrontation`."
   ]
  },
  {
   "cell_type": "markdown",
   "metadata": {},
   "source": [
    "---\n",
    "# Quantifying *importance* of each page in each category\n",
    "\n",
    "We want to see how *important* each page is in each category. As we are solely focusing on *'war'*-related subjects in this pilot phase, we define *page importance* by the number of deaths. \n",
    "\n",
    "## Infobox or Wikidata per category \n",
    "\n",
    "Functions `get_wiki_civilian_attack`, `get_wiki_military_conflict`\n",
    "to get relevant information and views for each category: `civilian attack`, `military conflict`. \n",
    "Data is obtained either using the page's wikidata is the data exists or acquired through infobox parsing.\n",
    "Relevant information is chosen based on the fields found on [List of infoboxes and fields](https://en.wikipedia.org/wiki/Wikipedia:List_of_infoboxes#Event) \n",
    "\n",
    "Extract info for each category in **Infobox**:\n",
    "* `civilian attack`\n",
    "    * location\n",
    "    * date \n",
    "    * fatalities\n",
    "* `military conflict`\n",
    "    * place\n",
    "    * date \n",
    "    * casualities1\n",
    "* `civil conflict`\n",
    "    * place\n",
    "    * date \n",
    "    * casualities1\n",
    "    \n",
    "Extract info for each category in **Wikidata**:\n",
    "* `civilian attack`\n",
    "    * location\n",
    "    * date \n",
    "    * fatalities\n",
    "* `military conflict`\n",
    "    * 'number of deaths (P1120)']['amount']\n",
    "    * 'end time (P582)'\n",
    "    * 'location (P276)'\n",
    "* `civil conflict`\n",
    "    * 'number of deaths (P1120)']['amount']\n",
    "    * 'end time (P582)'\n",
    "    * 'location (P276)'\n",
    "    \n",
    "We use an external library [wptools wiki](https://github.com/siznax/wptools/wiki) to help us parse the data. \n",
    "\n",
    "### Categories\n",
    "We focus on categories : `civilian attack`, `military conflict`, `civil conflict` from our pre-filtered wikipedia dump data which had 3 categories: `civilian attack`, `military conflict`, `civil conflict` (key words we used via regex expression to extract articles containing infoboxes with such headers by parsing the revision.text.__VALUE). \n",
    "\n",
    "We also found a list of all ongoing civil wars listed on [wikipedia](https://en.wikipedia.org/wiki/List_of_civil_wars#Ongoing_civil_wars) have a `Template:Infobox military`. This may be of interest in a later step.\n",
    "\n",
    "[List of ongoing civil wars](https://en.wikipedia.org/wiki/List_of_civil_wars#Ongoing_civil_wars):\n",
    " * Myanmar, Internal conflict in Myanmar, since 1948\n",
    " * Indonesia, Papua conflict, since 1962\n",
    " * Colombia, Colombian conflict, since 1964\n",
    " * Afghanistan, War in Afghanistan, since 1978\n",
    " * Turkey, Kurdish–Turkish conflict since 1978\n",
    " * Somalia, Somali Civil War, since 1988\n",
    " * Sudan, three conflicts\n",
    "* War in Darfur, since 26 February 2003\n",
    "* Sudanese nomadic conflicts, since 26 May 2009 through at least 2017\n",
    "* Sudanese conflict in South Kordofan and Blue Nile since 5 June 2011\n",
    " * Pakistan, War in North-West Pakistan, since 16 March 2004\n",
    " * Paraguay, Paraguayan People's Army insurgency, since 2005\n",
    " * Syria, Syrian Civil War, since 15 March 2011, also see List of armed groups in the Syrian Civil War\n",
    " * Central African Republic, Central African Republic conflict, since 10 December 2012\n",
    " * South Sudan, South Sudanese Civil War, since 15 December 2013\n",
    " * Libya, Second Libyan Civil War, since 16 May 2014\n",
    " * Yemen, Second Yemeni Civil War, since 19 March 2015"
   ]
  },
  {
   "cell_type": "code",
   "execution_count": 4,
   "metadata": {
    "collapsed": true
   },
   "outputs": [],
   "source": [
    "def get_wiki_military_conflict(entity):\n",
    "    page = wptools.page(pageid=entity.id)\n",
    "    # extract relevant information and put in dictionary\n",
    "    info = {'death': None, 'end_date': None, 'location': None}\n",
    "    try:\n",
    "        page.get_parse()\n",
    "    except:\n",
    "        return Row(id=entity.id, death=info['death'],\n",
    "               end_date=info['end_date'], location=info['location'])\n",
    "    \n",
    "    try: \n",
    "        page.get_wikidata()\n",
    "        info['death'] = page.data['wikidata']['number of deaths (P1120)']['amount']\n",
    "    \n",
    "    except:\n",
    "        try:\n",
    "            info['death'] = page.data['infobox']['casualties1']\n",
    "        except:\n",
    "            info['death'] = None\n",
    "            \n",
    "    try:\n",
    "        info['end_date'] = page.data['wikidata']['end time (P582)']\n",
    "    except:\n",
    "        try:\n",
    "            info['end_date'] = page.data['infobox']['date']\n",
    "        except:\n",
    "            info['end_date'] = None\n",
    "    \n",
    "    try:\n",
    "        info['location'] = page.data['wikidata']['location (P276)']\n",
    "    except:\n",
    "        try:\n",
    "            info['location'] = page.data['infobox']['place']\n",
    "        except:\n",
    "            info['location'] = None\n",
    "    \n",
    "    \n",
    "    return Row(id=entity.id, death=info['death'],\n",
    "               end_date=info['end_date'], location=info['location'])\n",
    "\n",
    "def get_wiki_civilian_attack(entity):\n",
    "    page = wptools.page(pageid=entity.id)\n",
    "    # extract relevant information and put in dictionary\n",
    "    info = {'death': None, 'end_date': None, 'location': None}\n",
    "    try:\n",
    "        page.get_parse()\n",
    "    except:\n",
    "        return Row(id=entity.id, death=info['death'],\n",
    "               end_date=info['end_date'], location=info['location'])\n",
    "    \n",
    "    try: \n",
    "        page.get_wikidata()\n",
    "        info['death'] = page.data['wikidata']['number of deaths (P1120)']['amount']\n",
    "    \n",
    "    except:\n",
    "        try:\n",
    "            info['death'] = page.data['infobox']['fatalities']\n",
    "        except:\n",
    "            info['death'] = None\n",
    "            \n",
    "    try:\n",
    "        info['end_date'] = page.data['wikidata']['end time (P582)']\n",
    "    except:\n",
    "        try:\n",
    "            info['end_date'] = page.data['infobox']['date']\n",
    "        except:\n",
    "            info['end_date'] = None\n",
    "    \n",
    "    try:\n",
    "        info['location'] = page.data['wikidata']['location (P276)']\n",
    "    except:\n",
    "        try:\n",
    "            info['location'] = page.data['infobox']['location']\n",
    "        except:\n",
    "            info['location'] = None\n",
    "    \n",
    "    \n",
    "    return Row(id=entity.id, death=info['death'],\n",
    "               end_date=info['end_date'], location=info['location'])"
   ]
  },
  {
   "cell_type": "code",
   "execution_count": 3,
   "metadata": {
    "collapsed": true
   },
   "outputs": [],
   "source": [
    "from pyspark.sql.types import *"
   ]
  },
  {
   "cell_type": "markdown",
   "metadata": {},
   "source": [
    "### Wikidata & Infobox `military conflict `"
   ]
  },
  {
   "cell_type": "code",
   "execution_count": 117,
   "metadata": {
    "collapsed": true
   },
   "outputs": [],
   "source": [
    "infobox_military_conflict = 'military conflict'\n",
    "# find all pages that have category military conflict\n",
    "wiki_military_conflict = wikipedia.where(\"categories like '%{}%'\".format(infobox_military_conflict)) "
   ]
  },
  {
   "cell_type": "code",
   "execution_count": 119,
   "metadata": {},
   "outputs": [
    {
     "data": {
      "text/plain": [
       "14158"
      ]
     },
     "execution_count": 119,
     "metadata": {},
     "output_type": "execute_result"
    }
   ],
   "source": [
    "df = wiki_military_conflict.select(\"id\");\n",
    "df.count()"
   ]
  },
  {
   "cell_type": "code",
   "execution_count": 7,
   "metadata": {
    "collapsed": true
   },
   "outputs": [],
   "source": [
    "%%capture\n",
    "wiki_military_conflict_rows = [get_wiki_military_conflict(i) for i in df.collect()];"
   ]
  },
  {
   "cell_type": "code",
   "execution_count": 9,
   "metadata": {
    "collapsed": true
   },
   "outputs": [],
   "source": [
    "schema = StructType([StructField('death', StringType()),StructField('end_date', StringType()),\n",
    "                     StructField('id', IntegerType()),StructField('location', StringType())])"
   ]
  },
  {
   "cell_type": "code",
   "execution_count": 10,
   "metadata": {},
   "outputs": [
    {
     "name": "stdout",
     "output_type": "stream",
     "text": [
      "root\n",
      " |-- death: string (nullable = true)\n",
      " |-- end_date: string (nullable = true)\n",
      " |-- id: integer (nullable = true)\n",
      " |-- location: string (nullable = true)\n",
      "\n",
      "+--------------------+--------------------+------+--------------------+\n",
      "|               death|            end_date|    id|            location|\n",
      "+--------------------+--------------------+------+--------------------+\n",
      "|Some injuries, no...|    August 1–2, 1946|655845|   Athens (Q3292481)|\n",
      "|{{ubl|1 light cru...|{{start date|1940...|656035|    Calabria (Q1458)|\n",
      "|1,432 killed in c...|+1912-10-18T00:00...|656087|Vilayet of Tripol...|\n",
      "|approx. 1,000 killed|+1919-08-08T00:00...|656173|[[North-West Fron...|\n",
      "|Total fatalities ...|+1880-00-00T00:00...|656175|[Emirate of Afgha...|\n",
      "|                null|July 1778 – Febru...|656473|Illinois Country ...|\n",
      "|250–300 casualtie...|    2–5 October 1939|659156|      Kock (Q991819)|\n",
      "|         '''1,900'''|{{Start date|1864...|659506|Fulton County (Q4...|\n",
      "|                null|1961–1990 (29 years)|661656|    Nicaragua (Q811)|\n",
      "|               1,700|+1799-06-05T00:00...|662583|        Zürich (Q72)|\n",
      "|33 casualties<br>...|+1940-02-27T00:00...|662788|Karelian Isthmus ...|\n",
      "|'''United States'...|+1944-08-21T00:00...|664348|   Normandy (Q15878)|\n",
      "|             Unknown|+1799-05-21T00:00...|665071|Acre, [[Sidon Eya...|\n",
      "|All the men in th...|      August 15, 778|666938|Roncevaux Pass (Q...|\n",
      "|{{plainlist |\n",
      "* 4...|        June 6, 1944|667813|La Madeleine, Man...|\n",
      "|1,000–1,100 (350 ...|         6 June 1944|667826|Arromanches-les-B...|\n",
      "| 13 soldiers killed.|+2004-06-01T00:00...|668141| Gaza Strip (Q39760)|\n",
      "|'''Frieser, Zette...|+1944-02-17T00:00...|672675|  Cherkasy (Q157055)|\n",
      "|{{flagicon image|...|+1971-12-16T00:00...|672766|East Pakistan (Q8...|\n",
      "|4,140 dead or wou...|        16 June 1815|675526|[Quatre Bras (Q21...|\n",
      "+--------------------+--------------------+------+--------------------+\n",
      "only showing top 20 rows\n",
      "\n"
     ]
    }
   ],
   "source": [
    "wiki_military_attack_df = spark.createDataFrame(wiki_military_conflict_rows, schema)\n",
    "\n",
    "wiki_military_attack_df.printSchema()\n",
    "wiki_military_attack_df.show()"
   ]
  },
  {
   "cell_type": "code",
   "execution_count": 11,
   "metadata": {
    "collapsed": true
   },
   "outputs": [],
   "source": [
    "# saving binary file to future uses\n",
    "wiki_military_attack_df.write.mode('overwrite').parquet(\"data/data_processed/wiki_military_conflict_df.parquet\");"
   ]
  },
  {
   "cell_type": "markdown",
   "metadata": {},
   "source": [
    "### Wikidata & Infobox `civilian attack`"
   ]
  },
  {
   "cell_type": "code",
   "execution_count": 130,
   "metadata": {
    "collapsed": true
   },
   "outputs": [],
   "source": [
    "infobox_civilian_attack = 'civilian attack'\n",
    "# find all pages that have category civilian attack\n",
    "wiki_civilian_attack = wikipedia.where(\"categories like '%{}%'\".format(infobox_civilian_attack));"
   ]
  },
  {
   "cell_type": "code",
   "execution_count": 132,
   "metadata": {},
   "outputs": [
    {
     "data": {
      "text/plain": [
       "2468"
      ]
     },
     "execution_count": 132,
     "metadata": {},
     "output_type": "execute_result"
    }
   ],
   "source": [
    "df = wiki_civilian_attack.select(\"id\");\n",
    "df.count()"
   ]
  },
  {
   "cell_type": "code",
   "execution_count": 133,
   "metadata": {
    "collapsed": true
   },
   "outputs": [],
   "source": [
    "%%capture\n",
    "wiki_civilian_attack_rows = [get_wiki_civilian_attack(i) for i in df.collect()];"
   ]
  },
  {
   "cell_type": "code",
   "execution_count": 5,
   "metadata": {
    "collapsed": true
   },
   "outputs": [],
   "source": [
    "schema = StructType([StructField('id', IntegerType()),\n",
    "                     StructField('death', StringType()),StructField('end_date', StringType()),\n",
    "                     StructField('location', StringType())])"
   ]
  },
  {
   "cell_type": "code",
   "execution_count": 134,
   "metadata": {},
   "outputs": [
    {
     "name": "stdout",
     "output_type": "stream",
     "text": [
      "root\n",
      " |-- id: integer (nullable = true)\n",
      " |-- death: string (nullable = true)\n",
      " |-- end_date: string (nullable = true)\n",
      " |-- location: string (nullable = true)\n",
      "\n",
      "+-------+--------------------+--------------------+--------------------+\n",
      "|     id|               death|            end_date|            location|\n",
      "+-------+--------------------+--------------------+--------------------+\n",
      "| 676659|   500,000–1,000,000|7 April {{spaced ...|          [[Rwanda]]|\n",
      "| 683450|[[Patrick Argüell...|6– {{end date|df|...|     Zarqa (Q148062)|\n",
      "|1611176|        Up to 30,000|          April 1909|Adana Vilayet (Q1...|\n",
      "|1611202|     200,000–400,000|           1894–1896|Ottoman Empire (Q...|\n",
      "|1634876|10 (including the...|                null| Red Lake (Q1012803)|\n",
      "|1655234|                  +7|          1 May 2004|     Yanbu (Q466027)|\n",
      "|3119912|                  +1|    November 8, 2005|Jacksboro (Q2738438)|\n",
      "|3137442|Barbara Richardso...|{{start date|1981...|8763 Wonderland A...|\n",
      "|3177125|:16 (at least) \n",
      "*...|: August 14–16, 1908|: [[Springfield, ...|\n",
      "|1113569|       + / - 111,091|           1937–1938|Soviet Union (Q15...|\n",
      "|1120226|3,000,000 to 14,0...|                null|In and around Eas...|\n",
      "| 156496|       3,750 –30,000|3 January 1983 - ...|            Zimbabwe|\n",
      "| 158427|                 +45|{{start date and ...|   Acteal (Q1997045)|\n",
      "|  52268|460 to 3,500 (num...|16–18 September 1982|West [[Beirut]], ...|\n",
      "|  58376|                 +15|{{start date and ...|École Polytechniq...|\n",
      "|  59629|                 +18|{{Start date and ...|  Dunblane (Q614314)|\n",
      "|  59651|                 +17|       26 April 2002|Gutenberg-Gymnasi...|\n",
      "|  62638|                +642|{{date|10 June 19...|Oradour-sur-Glane...|\n",
      "|  65626|                 +15|      16 August 1819| Manchester (Q18125)|\n",
      "|  68292|                +504|       16 March 1968|  Son My (Q10823351)|\n",
      "+-------+--------------------+--------------------+--------------------+\n",
      "only showing top 20 rows\n",
      "\n"
     ]
    }
   ],
   "source": [
    "wiki_civilian_attack_df = spark.createDataFrame(wiki_civilian_attack_rows, schema)\n",
    "\n",
    "wiki_civilian_attack_df.printSchema()\n",
    "wiki_civilian_attack_df.show()"
   ]
  },
  {
   "cell_type": "code",
   "execution_count": 135,
   "metadata": {},
   "outputs": [
    {
     "data": {
      "text/plain": [
       "2468"
      ]
     },
     "execution_count": 135,
     "metadata": {},
     "output_type": "execute_result"
    }
   ],
   "source": [
    "wiki_civilian_attack_df.count()"
   ]
  },
  {
   "cell_type": "code",
   "execution_count": 136,
   "metadata": {
    "collapsed": true
   },
   "outputs": [],
   "source": [
    "# saving binary file to future uses\n",
    "wiki_civilian_attack_df.write.mode('overwrite').parquet(\"wiki_civilian_attack_df.parquet\");"
   ]
  },
  {
   "cell_type": "markdown",
   "metadata": {},
   "source": [
    "### Wikidata & Infobox `civil conflict`"
   ]
  },
  {
   "cell_type": "code",
   "execution_count": 137,
   "metadata": {
    "collapsed": true
   },
   "outputs": [],
   "source": [
    "infobox_civil_conflict = 'civil conflict'\n",
    "# find all pages that have category civilian attack\n",
    "wiki_civil_conflict = wikipedia.where(\"categories like '%{}%'\".format(infobox_civil_conflict)) "
   ]
  },
  {
   "cell_type": "code",
   "execution_count": 140,
   "metadata": {},
   "outputs": [
    {
     "data": {
      "text/plain": [
       "847"
      ]
     },
     "execution_count": 140,
     "metadata": {},
     "output_type": "execute_result"
    }
   ],
   "source": [
    "df = wiki_civil_conflict.select(\"id\");\n",
    "df.count()"
   ]
  },
  {
   "cell_type": "code",
   "execution_count": 141,
   "metadata": {
    "collapsed": true
   },
   "outputs": [],
   "source": [
    "%%capture\n",
    "wiki_civil_conflict_rows = [get_wiki_military_conflict(i) for i in df.collect()];"
   ]
  },
  {
   "cell_type": "code",
   "execution_count": 142,
   "metadata": {},
   "outputs": [
    {
     "name": "stdout",
     "output_type": "stream",
     "text": [
      "root\n",
      " |-- id: integer (nullable = true)\n",
      " |-- death: string (nullable = true)\n",
      " |-- end_date: string (nullable = true)\n",
      " |-- location: string (nullable = true)\n",
      "\n",
      "+-------+--------------------+--------------------+--------------------+\n",
      "|     id|               death|            end_date|            location|\n",
      "+-------+--------------------+--------------------+--------------------+\n",
      "| 661864|                null|11, 12 and 13 Sep...|[[Melbourne]], [[...|\n",
      "| 664490|'''Deaths''': 3<b...|  January–March 1912|[[Lawrence, Massa...|\n",
      "|1613199|                null|May 28 and July 2...|[[East St. Louis,...|\n",
      "|1619134|                null|February 24, 2005...|  [[Quebec]], Canada|\n",
      "|3138671|'''Shootout''':<b...|July 23–24, 1968 ...|[[Glenville, Clev...|\n",
      "|3158301|                null|            May 1971|[[Washington, D.C...|\n",
      "|1113889|                  +2|  August 19–21, 1991|[[Crown Heights, ...|\n",
      "| 152287|{{plainlist|\n",
      "*14 ...|[+1878-07-19T00:0...|[[Lincoln County,...|\n",
      "|  43573|                null|      April 21, 1855|[[Chicago, Illino...|\n",
      "|  44534|              +10454|+1989-06-04T00:00...|Tiananmen Square ...|\n",
      "|  49001|                null|+1968-00-00T00:00...|       United States|\n",
      "|1553191|                null|April 29 – May 4,...|[[Los Angeles Cou...|\n",
      "|1554342|                null|+2005-04-11T00:00...|      [[Kyrgyzstan]]|\n",
      "|1556708|                   0|14 February – 27 ...|[[Lebanon]] (espe...|\n",
      "|1456276|                null|                null|    [[West Germany]]|\n",
      "|1494771|                null|+2001-01-20T00:00...|     [[Philippines]]|\n",
      "|3798726|                null|         May 1, 1894| [[Cleveland]], Ohio|\n",
      "|1316143|          43 injured|28–30 September 1985|[[London Borough ...|\n",
      "|1322490|Policemen wounded...|15 December 2000 ...|city of [[Kiev]] ...|\n",
      "|1343424|                null|           1965—1985|       United States|\n",
      "+-------+--------------------+--------------------+--------------------+\n",
      "only showing top 20 rows\n",
      "\n"
     ]
    }
   ],
   "source": [
    "wiki_civil_conflict_df = spark.createDataFrame(wiki_civil_conflict_rows, schema)\n",
    "\n",
    "wiki_civil_conflict_df.printSchema()\n",
    "wiki_civil_conflict_df.show()"
   ]
  },
  {
   "cell_type": "code",
   "execution_count": 143,
   "metadata": {},
   "outputs": [
    {
     "data": {
      "text/plain": [
       "847"
      ]
     },
     "execution_count": 143,
     "metadata": {},
     "output_type": "execute_result"
    }
   ],
   "source": [
    "wiki_civil_conflict_df.count()"
   ]
  },
  {
   "cell_type": "code",
   "execution_count": 144,
   "metadata": {
    "collapsed": true
   },
   "outputs": [],
   "source": [
    "# saving binary file to future uses\n",
    "wiki_civil_conflict_df.write.mode('overwrite').parquet(\"wiki_civil_conflict_df.parquet\");"
   ]
  },
  {
   "cell_type": "markdown",
   "metadata": {},
   "source": [
    "---\n",
    "\n",
    "# Popularity Metrics\n",
    "\n",
    "## Loading the data"
   ]
  },
  {
   "cell_type": "code",
   "execution_count": 18,
   "metadata": {},
   "outputs": [
    {
     "name": "stdout",
     "output_type": "stream",
     "text": [
      "+------+--------------------+-----------------+--------------------+\n",
      "|    id|               title|       categories|            revision|\n",
      "+------+--------------------+-----------------+--------------------+\n",
      "|655845|Battle of Athens ...|military conflict|[, [,, 5175837,, ...|\n",
      "|656035|  Battle of Calabria|military conflict|[[link,], [,, 268...|\n",
      "|656087|   Italo-Turkish War|military conflict|[, [,,, 96.77.37....|\n",
      "|656173|Third Anglo-Afgha...|military conflict|[[Formatting.,], ...|\n",
      "|656175|Second Anglo-Afgh...|military conflict|[[/* 1879 */The B...|\n",
      "|656473|   Illinois campaign|military conflict|[[Moved images.,]...|\n",
      "|659156|Battle of Kock (1...|military conflict|[, [,, 29980587,,...|\n",
      "|659506|Battle of Peachtr...|military conflict|[[c/e.,], [,, 193...|\n",
      "|661656|Nicaraguan Revolu...|military conflict|[, [,, 33124044,,...|\n",
      "|661864|       S11 (protest)|   civil conflict|[[Rescuing 3 sour...|\n",
      "+------+--------------------+-----------------+--------------------+\n",
      "only showing top 10 rows\n",
      "\n"
     ]
    }
   ],
   "source": [
    "# Loading the data\n",
    "WIKIPEDIA_REFERENCES_PARQUET = DATA_DIR + \"wikipedia_no_outliers.parquet\"\n",
    "\n",
    "# loading the saved parquet files\n",
    "wikipedia_ref = spark.read.parquet(WIKIPEDIA_REFERENCES_PARQUET)\n",
    "wikipedia_ref.show(10)"
   ]
  },
  {
   "cell_type": "markdown",
   "metadata": {},
   "source": [
    "## POPULARITY METRIC 1\n",
    "\n",
    "### Get number of references per page\n",
    "\n",
    "We use our pre-filtered data and we count the number of tag of type ```<ref>```, by parsing all pages to get the number of references. We think that the more *popular* a page is, the more references it will contain.\n",
    "\n",
    "We want to see:\n",
    "* how many references a page has\n",
    "* what does the distribution of the references look like \n",
    "* what are the top domains across these articles \n",
    "* how many articles have a reference to each domain\n",
    "\n",
    "The analysis is based on work from *Research:Characterizing Wikipedia Citation Usage*: [MetaPageQueries](https://meta.wikimedia.org/wiki/Research:Characterizing_Wikipedia_Citation_Usage/First_Round_of_Analysis#Dimensions_of_Analysis)\n",
    "\n",
    "Example of reference format:\n",
    "```html\n",
    "<ref>{{cite web| url=http://geonames.nga.mil/ggmagaz/geonames4.asp \n",
    "    |title=NGA GeoName Database |publisher=[[National Geospatial Intelligence Agency]] \n",
    "    |accessdate=2008-07-05 \n",
    "    |archiveurl = https://web.archive.org/web/20080608190852/http://geonames.nga.mil/ggmagaz/geonames4.asp \n",
    "    <!-- Bot retrieved archive --> |archivedate = 2008-06-08}}</ref>\n",
    "```\n",
    "\n",
    "**quantify the number of references per page**\n",
    "    * using regex expression to find the references in the page\n",
    "    * counting the number of references"
   ]
  },
  {
   "cell_type": "code",
   "execution_count": 19,
   "metadata": {},
   "outputs": [],
   "source": [
    "# quantify the number of references per page\n",
    "\n",
    "# Compile a regular expression pattern into a regular expression object, \n",
    "#which can be used for matching using its findall.\n",
    "just_ref_regex = re.compile(r'<ref[^>]*[^\\/]>|<ref[ ]*>')\n",
    "\n",
    "# find # references <ref> per page \n",
    "def get_refs_count(entity, regex_expression=just_ref_regex ):\n",
    "    # get access to value in text in revision\n",
    "    text = entity.revision.text._VALUE\n",
    "    # find references\n",
    "    refs = just_ref_regex.findall(text)\n",
    "    return Row(id=entity.id, refs_count=len(refs), categories=entity.categories)"
   ]
  },
  {
   "cell_type": "code",
   "execution_count": 20,
   "metadata": {},
   "outputs": [
    {
     "name": "stdout",
     "output_type": "stream",
     "text": [
      "+-----------------+--------+----------+\n",
      "|       categories|      id|refs_count|\n",
      "+-----------------+--------+----------+\n",
      "|military conflict|52019122|      1000|\n",
      "|military conflict|46230181|       818|\n",
      "|military conflict|42563745|       734|\n",
      "|military conflict|43243199|       609|\n",
      "|military conflict|     771|       598|\n",
      "+-----------------+--------+----------+\n",
      "only showing top 5 rows\n",
      "\n"
     ]
    }
   ],
   "source": [
    "# get the # of references per page\n",
    "# Creates a DataFrame from an RDD, apply counting function with regex expression\n",
    "reference_count_page = sqlContext.createDataFrame(wikipedia_ref.rdd.map(get_refs_count))\n",
    "reference_count_page.sort('refs_count', ascending=False).show(5)\n",
    "reference_count_page_sql = reference_count_page.registerTempTable('reference_count_page_sql')"
   ]
  },
  {
   "cell_type": "code",
   "execution_count": 21,
   "metadata": {},
   "outputs": [
    {
     "name": "stdout",
     "output_type": "stream",
     "text": [
      "Number of articles with #references > 0: 15879\n"
     ]
    }
   ],
   "source": [
    "# quantify the # articles with # ref > 0: \n",
    "non_zero_ref_query = \"\"\"\n",
    "select count(DISTINCT id)\n",
    "from reference_count_page_sql\n",
    "where refs_count > 0\n",
    "\"\"\"\n",
    "non_zero_articles = spark.sql(non_zero_ref_query)\n",
    "\n",
    "non_zero_articles_pd = non_zero_articles.toPandas().iloc[0,0]\n",
    "print(\"Number of articles with #references > 0: \" + str(non_zero_articles_pd))"
   ]
  },
  {
   "cell_type": "markdown",
   "metadata": {},
   "source": [
    "**Distribution of number of references** We bin the number of references to get the number of pages having at least x #references. This is observed with a histogram plot."
   ]
  },
  {
   "cell_type": "code",
   "execution_count": 22,
   "metadata": {},
   "outputs": [
    {
     "data": {
      "image/png": "[encoded data removed]",
      "text/plain": [
       "<Figure size 864x504 with 1 Axes>"
      ]
     },
     "metadata": {
      "needs_background": "light"
     },
     "output_type": "display_data"
    }
   ],
   "source": [
    "just_refs_count = reference_count_page.select('refs_count').toPandas()\n",
    "just_refs_count.plot(kind=\"hist\", bins=100, \n",
    "                     figsize=(12,7), title=\"Distribution of number of references\")\n",
    "plt.xlabel('# References')\n",
    "plt.ylabel('Frequency: # Pages having at least x references')\n",
    "plt.show()"
   ]
  },
  {
   "cell_type": "code",
   "execution_count": 23,
   "metadata": {},
   "outputs": [
    {
     "data": {
      "image/png": "[encoded data removed]",
      "text/plain": [
       "<Figure size 864x504 with 1 Axes>"
      ]
     },
     "metadata": {
      "needs_background": "light"
     },
     "output_type": "display_data"
    }
   ],
   "source": [
    "just_refs_count = reference_count_page.select('refs_count').toPandas()\n",
    "just_refs_count.plot(kind=\"hist\", bins=100, log = True,\n",
    "                     figsize=(12,7), title=\"Distribution of number of references\")\n",
    "plt.xlabel('# References')\n",
    "plt.ylabel('Frequency: # Pages having at least x references (log scale)')\n",
    "plt.show()"
   ]
  },
  {
   "cell_type": "code",
   "execution_count": 24,
   "metadata": {},
   "outputs": [
    {
     "data": {
      "image/png": "[encoded data removed]",
      "text/plain": [
       "<Figure size 1296x360 with 1 Axes>"
      ]
     },
     "metadata": {
      "needs_background": "light"
     },
     "output_type": "display_data"
    }
   ],
   "source": [
    "step = 100;\n",
    "xs = pd.Series(range(1,int(just_refs_count.max()),step));\n",
    "gratherThanData = xs.apply(lambda x: (just_refs_count.refs_count[just_refs_count.refs_count>=x]).count());\n",
    "\n",
    "f, (ax2) = plt.subplots(1, 1);\n",
    "plt.sca(ax2);\n",
    "plt.plot(xs,gratherThanData);\n",
    "plt.xlabel('# references',fontsize=16);\n",
    "plt.ylabel('# articles',fontsize=16);\n",
    "plt.yscale('log'); plt.xscale('log');\n",
    "f.set_size_inches(18, 5)\n",
    "f.suptitle('Log-log of distribution of number of references',fontsize=20)\n",
    "plt.show();"
   ]
  },
  {
   "cell_type": "markdown",
   "metadata": {},
   "source": [
    "**Distribution of number of references**: It seems that the distribution may follow a power law. To verify our suspicions, we plot our cumulative distribution in normal axes and in log-log axes. We look at a \"cumulative distribution\": how many references have at least x pages?\n",
    "\n",
    "The distribution has a heavy-tailed distribution: it may follow a power law. To recognize if the distirbutions follow a power law, we plot the data in log-log axes. If it follows a power law, reporting mean or variance for a power-law-distributed data is not relevant as these statistics are not robust as they are sensitive to data. Instead, we use robust statistics and report the median and quartiles using boxplots. We compare boxplots with and without outliers."
   ]
  },
  {
   "cell_type": "code",
   "execution_count": 25,
   "metadata": {},
   "outputs": [
    {
     "data": {
      "image/png": "[encoded data removed]",
      "text/plain": [
       "<Figure size 432x288 with 1 Axes>"
      ]
     },
     "metadata": {
      "needs_background": "light"
     },
     "output_type": "display_data"
    }
   ],
   "source": [
    "# with all data\n",
    "just_refs_count.boxplot();"
   ]
  },
  {
   "cell_type": "code",
   "execution_count": 26,
   "metadata": {},
   "outputs": [
    {
     "data": {
      "image/png": "[encoded data removed]",
      "text/plain": [
       "<Figure size 432x288 with 1 Axes>"
      ]
     },
     "metadata": {
      "needs_background": "light"
     },
     "output_type": "display_data"
    }
   ],
   "source": [
    "# without extreme values (discard outliers)\n",
    "just_refs_count[just_refs_count['refs_count']< 100].boxplot();"
   ]
  },
  {
   "cell_type": "markdown",
   "metadata": {},
   "source": [
    "### Get the domains of references"
   ]
  },
  {
   "cell_type": "code",
   "execution_count": 35,
   "metadata": {},
   "outputs": [
    {
     "name": "stdout",
     "output_type": "stream",
     "text": [
      "+------+---------+--------------------+--------------------+\n",
      "|    id| template|               title|                 url|\n",
      "+------+---------+--------------------+--------------------+\n",
      "|655845|cite book|     South vs. South|                    |\n",
      "|655845|cite book|       McMinn County|https://archive.o...|\n",
      "|655845|cite book|     South vs. South|                    |\n",
      "|655845|cite book|       McMinn County|https://archive.o...|\n",
      "|655845| cite web|The Battle of Athens|http://www.americ...|\n",
      "+------+---------+--------------------+--------------------+\n",
      "only showing top 5 rows\n",
      "\n"
     ]
    }
   ],
   "source": [
    "references_rrd = wikipedia_ref.rdd.flatMap(get_ref_info)\n",
    "references = sqlContext.createDataFrame(references_rrd)\n",
    "references.show(5)"
   ]
  },
  {
   "cell_type": "markdown",
   "metadata": {},
   "source": [
    "**URL parsing** \n",
    "Parse a URL into six components, returning a 6-tuple. This corresponds to the general structure of a URL: scheme://netloc/path;parameters?query#fragment. Each tuple item is a string, possibly empty."
   ]
  },
  {
   "cell_type": "code",
   "execution_count": 38,
   "metadata": {},
   "outputs": [
    {
     "data": {
      "text/plain": [
       "[('books.google.com', 10113),\n",
       " ('www.nytimes.com', 4170),\n",
       " ('www.reuters.com', 3715),\n",
       " ('www.almasdarnews.com', 3397),\n",
       " ('www.theguardian.com', 3313),\n",
       " ('www.bbc.co.uk', 2829),\n",
       " ('news.bbc.co.uk', 2318),\n",
       " ('www.aljazeera.com', 1988),\n",
       " ('www.washingtonpost.com', 1970),\n",
       " ('www.bbc.com', 1962),\n",
       " ('www.cnn.com', 1541),\n",
       " ('www.syriahr.com', 1518),\n",
       " ('www.telegraph.co.uk', 1505),\n",
       " ('edition.cnn.com', 1170),\n",
       " ('www.independent.co.uk', 976),\n",
       " ('abcnews.go.com', 840),\n",
       " ('twitter.com', 811),\n",
       " ('www.haaretz.com', 707),\n",
       " ('www.foxnews.com', 689),\n",
       " ('www.dailystar.com.lb', 682),\n",
       " ('www.dawn.com', 678),\n",
       " ('www.jpost.com', 677),\n",
       " ('www.wsj.com', 626),\n",
       " ('www.youtube.com', 619),\n",
       " ('news.yahoo.com', 614),\n",
       " ('www.cbsnews.com', 607),\n",
       " ('archive.org', 605),\n",
       " ('www.huffingtonpost.com', 580),\n",
       " ('www.latimes.com', 577),\n",
       " ('www.dailymail.co.uk', 565)]"
      ]
     },
     "execution_count": 38,
     "metadata": {},
     "output_type": "execute_result"
    }
   ],
   "source": [
    "def get_domain(row):\n",
    "    # parse url and return for each row (url, 1) where 1 is the occurence of ref = 1 for that page\n",
    "    try:\n",
    "        parsed_uri = urlparse(row['url'])\n",
    "        return ('{uri.netloc}'.format(uri=parsed_uri), 1)\n",
    "    except:\n",
    "        return None\n",
    "\n",
    "mapped_domains = references.where(\"length(url)>0\").rdd.map(get_domain).filter(lambda row: row is not None)\n",
    "# for each domain count how many references there are in total to find top domains\n",
    "domains_count = mapped_domains.reduceByKey(lambda a,b: a+b).filter(lambda r: len(r[0])>0).sortBy(lambda r: -r[1])\n",
    "domains_count.take(30)"
   ]
  },
  {
   "cell_type": "code",
   "execution_count": 39,
   "metadata": {},
   "outputs": [
    {
     "name": "stdout",
     "output_type": "stream",
     "text": [
      "Total number of links: 163487\n"
     ]
    }
   ],
   "source": [
    "# count the number of links\n",
    "number_links = domains_count.map(lambda r: r[1]).reduce(add)\n",
    "print(\"Total number of links: {}\".format(number_links))"
   ]
  },
  {
   "cell_type": "code",
   "execution_count": 40,
   "metadata": {},
   "outputs": [
    {
     "name": "stdout",
     "output_type": "stream",
     "text": [
      "+-----+--------------------+-------------------+\n",
      "|count|              domain|               perc|\n",
      "+-----+--------------------+-------------------+\n",
      "|10113|    books.google.com|  6.185812939255109|\n",
      "| 4170|     www.nytimes.com| 2.5506615204878673|\n",
      "| 3715|     www.reuters.com| 2.2723519301228845|\n",
      "| 3397|www.almasdarnews.com|  2.077841051582083|\n",
      "| 3313| www.theguardian.com| 2.0264608195147016|\n",
      "| 2829|       www.bbc.co.uk| 1.7304128156978842|\n",
      "| 2318|      news.bbc.co.uk| 1.4178497372879801|\n",
      "| 1988|   www.aljazeera.com| 1.2159988255946956|\n",
      "| 1970|www.washingtonpos...|  1.204988775865971|\n",
      "| 1962|         www.bbc.com| 1.2000954204309824|\n",
      "| 1541|         www.cnn.com| 0.9425825906647012|\n",
      "| 1518|     www.syriahr.com| 0.9285141937891086|\n",
      "| 1505| www.telegraph.co.uk|  0.920562491207252|\n",
      "| 1170|     edition.cnn.com| 0.7156532323670995|\n",
      "|  976|www.independent.c...| 0.5969893630686232|\n",
      "|  840|      abcnews.go.com|  0.513802320673815|\n",
      "|  811|         twitter.com|0.49606390722198096|\n",
      "|  707|     www.haaretz.com|0.43245028656712764|\n",
      "|  689|     www.foxnews.com|0.42144023683840304|\n",
      "|  682|www.dailystar.com.lb| 0.4171585508327879|\n",
      "+-----+--------------------+-------------------+\n",
      "only showing top 20 rows\n",
      "\n"
     ]
    }
   ],
   "source": [
    "def percentage(rdd):\n",
    "    return Row(domain=rdd[0], count=rdd[1], perc=rdd[1]*100/number_links)\n",
    "\n",
    "domains_distribution = sqlContext.createDataFrame(domains_count.map(percentage)).sort(\"count\", ascending=False)\n",
    "domains_distribution.show()"
   ]
  },
  {
   "cell_type": "code",
   "execution_count": 41,
   "metadata": {},
   "outputs": [],
   "source": [
    "domains_distribution_pd = domains_distribution.toPandas().set_index('domain')"
   ]
  },
  {
   "cell_type": "code",
   "execution_count": 42,
   "metadata": {},
   "outputs": [
    {
     "data": {
      "image/png": "[encoded data removed]",
      "text/plain": [
       "<Figure size 720x720 with 1 Axes>"
      ]
     },
     "metadata": {
      "needs_background": "light"
     },
     "output_type": "display_data"
    }
   ],
   "source": [
    "domains_distribution_pd20 = domains_distribution_pd.head(15)\n",
    "\n",
    "# plot using bar plot\n",
    "f, ax1 = plt.subplots()\n",
    "plt.sca(ax1)\n",
    "sns.barplot(domains_distribution_pd20['perc'], domains_distribution_pd20.index, palette=\"YlOrRd\", ax=ax1, orient='h')\n",
    "plt.xlabel('Percentage of references [%]',fontsize=18)\n",
    "plt.ylabel('Domains',fontsize=18)\n",
    "f.suptitle('Bar plot of percentage of references for domains', fontsize=20)\n",
    "f.set_size_inches(10, 10)\n",
    "plt.show()"
   ]
  },
  {
   "cell_type": "markdown",
   "metadata": {},
   "source": [
    "# Popularity metric 2\n",
    "\n",
    "### Get number of views per page\n",
    "\n",
    "A way of measuring the popularity of a page can be done by looking at the number of views per page. Let's follow the trend!"
   ]
  },
  {
   "cell_type": "code",
   "execution_count": 45,
   "metadata": {},
   "outputs": [],
   "source": [
    "# Loading the data\n",
    "WIKIPEDIA_VIEWCOUNT_PARQUET = DATA_DIR + \"wikipedia_no_outliers.parquet\"\n",
    "# loading the saved parquet files\n",
    "wikipedia_VIEWS = spark.read.parquet(WIKIPEDIA_VIEWCOUNT_PARQUET)"
   ]
  },
  {
   "cell_type": "code",
   "execution_count": 46,
   "metadata": {},
   "outputs": [],
   "source": [
    "df = wikipedia_VIEWS.select(\"title\")\n",
    "conflict_array = [(i.title) for i in df.collect()];"
   ]
  },
  {
   "cell_type": "code",
   "execution_count": 47,
   "metadata": {},
   "outputs": [],
   "source": [
    "def getViewsFromAPI(conflict_array):\n",
    "    views_dict = p.article_views('en.wikipedia', conflict_array, granularity='monthly',\n",
    "                                 start='20150701', end=time.strftime('%Y%m%d'), agent='user')\n",
    "    return views_dict"
   ]
  },
  {
   "cell_type": "code",
   "execution_count": 48,
   "metadata": {},
   "outputs": [],
   "source": [
    "startingLogDate = '20150701';\n",
    "today = time.strftime('%Y%m%d');\n",
    "\n",
    "p = PageviewsClient(user_agent=\"<ada@epfl.ch> Applied data analysis project\")\n",
    "\n",
    "views_dict = p.article_views('en.wikipedia', conflict_array, granularity='monthly', start=startingLogDate, end=today, agent='user')\n"
   ]
  },
  {
   "cell_type": "code",
   "execution_count": 49,
   "metadata": {},
   "outputs": [],
   "source": [
    "dizioTizio = [];\n",
    "for key, value in views_dict.items():\n",
    "    chiave = list(value.keys());\n",
    "    valore = list(value.values());\n",
    "    pippo  = list(zip(chiave,valore));\n",
    "    dizioTizio.extend(pippo)"
   ]
  },
  {
   "cell_type": "code",
   "execution_count": 50,
   "metadata": {},
   "outputs": [],
   "source": [
    "views = spark.createDataFrame(dizioTizio,[\"title\", \"views\"])\n",
    "\n",
    "views = views.select('title', views.views.cast('int')).na.fill(0);"
   ]
  },
  {
   "cell_type": "code",
   "execution_count": 51,
   "metadata": {},
   "outputs": [],
   "source": [
    "views_df = views.groupBy(\"title\").agg(F.sum(\"views\")).select(\"title\",F.col(\"sum(views)\").alias(\"views\"))"
   ]
  },
  {
   "cell_type": "code",
   "execution_count": 52,
   "metadata": {},
   "outputs": [],
   "source": [
    "# saving binary file\n",
    "views_df.write.mode('overwrite').parquet(DATA_DIR+\"Views_no_outliers.parquet\");"
   ]
  },
  {
   "cell_type": "code",
   "execution_count": 53,
   "metadata": {},
   "outputs": [
    {
     "name": "stdout",
     "output_type": "stream",
     "text": [
      "+--------------------+--------+\n",
      "|               title|   views|\n",
      "+--------------------+--------+\n",
      "|        World_War_II|33835972|\n",
      "|         World_War_I|31481685|\n",
      "|September_11_attacks|22233107|\n",
      "|         Vietnam_War|22085710|\n",
      "|  American_Civil_War|17696187|\n",
      "|Atomic_bombings_o...|13998970|\n",
      "|2012_Benghazi_attack|13324641|\n",
      "|          Korean_War|12674791|\n",
      "|Attack_on_Pearl_H...|12641959|\n",
      "|       The_Holocaust|12350383|\n",
      "+--------------------+--------+\n",
      "only showing top 10 rows\n",
      "\n"
     ]
    }
   ],
   "source": [
    "# loading the saved parquet files\n",
    "views_df = spark.read.parquet(DATA_DIR+\"Views_no_outliers.parquet\");\n",
    "views_df.sort('views', ascending=False).show(10)"
   ]
  },
  {
   "cell_type": "code",
   "execution_count": 54,
   "metadata": {},
   "outputs": [],
   "source": [
    "views_df = views_df.select(regexp_replace(col(\"title\"), \"_+\", \" \").alias('title'), 'views')"
   ]
  },
  {
   "cell_type": "code",
   "execution_count": 55,
   "metadata": {},
   "outputs": [
    {
     "name": "stdout",
     "output_type": "stream",
     "text": [
      "+--------------------+------+\n",
      "|               title| views|\n",
      "+--------------------+------+\n",
      "|Battle of Landshu...| 18559|\n",
      "|Northern Virginia...| 70274|\n",
      "|      Te Kooti's War| 26656|\n",
      "|         Radical War| 50461|\n",
      "|       Convoy HX 106|  8568|\n",
      "|Operation Rolling...|615607|\n",
      "|         Watts riots|931645|\n",
      "|    Battle of Sarmin| 12980|\n",
      "|Battle of Guilin–...| 18230|\n",
      "|Insurgency in the...|113083|\n",
      "|            Ifni War|194049|\n",
      "|Attacks on High Wood| 27921|\n",
      "|     Battle of Szack| 26044|\n",
      "|Pruth River Campaign| 66706|\n",
      "|Battle of Albert ...| 23943|\n",
      "|     Al Asad Airbase|163127|\n",
      "|Second Battle of ...| 35580|\n",
      "|    Battle of Asiago| 67385|\n",
      "|Siege of Albarrac...|  1902|\n",
      "|Action of 30 Marc...| 16841|\n",
      "+--------------------+------+\n",
      "only showing top 20 rows\n",
      "\n"
     ]
    }
   ],
   "source": [
    "views_df.show()"
   ]
  },
  {
   "cell_type": "markdown",
   "metadata": {},
   "source": [
    "**Distribution of number of views** We bin the number of references to get the number of pages having at least x #views. This is observed with a histogram plot."
   ]
  },
  {
   "cell_type": "code",
   "execution_count": 56,
   "metadata": {},
   "outputs": [
    {
     "data": {
      "image/png": "[encoded data removed]",
      "text/plain": [
       "<Figure size 864x504 with 1 Axes>"
      ]
     },
     "metadata": {
      "needs_background": "light"
     },
     "output_type": "display_data"
    }
   ],
   "source": [
    "just_views_count = views_df.select('views').toPandas()\n",
    "just_views_count.plot(kind=\"hist\", bins=100, \n",
    "                     figsize=(12,7), title=\"Distribution of number of views\")\n",
    "plt.xlabel('# Views')\n",
    "plt.ylabel('Frequency: # Pages having at least x views')\n",
    "plt.xlim(0.0e7,0.6e7)\n",
    "plt.show()"
   ]
  },
  {
   "cell_type": "code",
   "execution_count": 57,
   "metadata": {},
   "outputs": [
    {
     "data": {
      "image/png": "[encoded data removed]",
      "text/plain": [
       "<Figure size 1296x360 with 1 Axes>"
      ]
     },
     "metadata": {
      "needs_background": "light"
     },
     "output_type": "display_data"
    }
   ],
   "source": [
    "step = 100000;\n",
    "xs = pd.Series(range(1,int(just_views_count.max()),step));\n",
    "gratherThanData = xs.apply(lambda x: (just_views_count.views[just_views_count.views>=x]).count());\n",
    "\n",
    "f, (ax2) = plt.subplots(1, 1);\n",
    "plt.sca(ax2);\n",
    "plt.plot(xs,gratherThanData);\n",
    "plt.xlabel('views',fontsize=16);\n",
    "plt.ylabel('# articles',fontsize=16);\n",
    "plt.yscale('log'); plt.xscale('log');\n",
    "f.set_size_inches(18, 5)\n",
    "f.suptitle('Log-log of distribution of number of views',fontsize=20)\n",
    "plt.show();"
   ]
  },
  {
   "cell_type": "markdown",
   "metadata": {},
   "source": [
    "As seen we plotted our cumulative distribution in normal axes and in log-log axes. The distribution of the number of views follows a power law. Since it follows a power law, reporting mean or variance for a power-law-distributed data is not relevant as these statistics are not robust as they are sensitive to data. Instead, we use robust statistics and report the median and quartiles using boxplots. We compare boxplots with and without outliers."
   ]
  },
  {
   "cell_type": "code",
   "execution_count": 58,
   "metadata": {},
   "outputs": [
    {
     "data": {
      "image/png": "[encoded data removed]",
      "text/plain": [
       "<Figure size 432x288 with 1 Axes>"
      ]
     },
     "metadata": {
      "needs_background": "light"
     },
     "output_type": "display_data"
    }
   ],
   "source": [
    "# with all data\n",
    "just_views_count.boxplot();"
   ]
  },
  {
   "cell_type": "code",
   "execution_count": 59,
   "metadata": {},
   "outputs": [
    {
     "data": {
      "image/png": "[encoded data removed]",
      "text/plain": [
       "<Figure size 432x288 with 1 Axes>"
      ]
     },
     "metadata": {
      "needs_background": "light"
     },
     "output_type": "display_data"
    }
   ],
   "source": [
    "# without outliers\n",
    "just_views_count[just_views_count['views'] < 200000].boxplot();"
   ]
  },
  {
   "cell_type": "markdown",
   "metadata": {},
   "source": [
    "# Popularity metric 3\n",
    "\n",
    "### Get number of external links per page\n",
    "This was collected with the cluster. Script for running on the cluster found in `cluster/external_references.p`"
   ]
  },
  {
   "cell_type": "markdown",
   "metadata": {},
   "source": [
    "# Popularity metric 4\n",
    "\n",
    "### Get length of article \n",
    "We assume that the longer the article, the more popular it may be."
   ]
  },
  {
   "cell_type": "code",
   "execution_count": 62,
   "metadata": {},
   "outputs": [
    {
     "name": "stdout",
     "output_type": "stream",
     "text": [
      "+--------+--------------------+--------------------+--------------+\n",
      "|      id|               title|          categories|article_lenght|\n",
      "+--------+--------------------+--------------------+--------------+\n",
      "|52019122|Battle of Mosul (...|   military conflict|        636363|\n",
      "|46230181|Saudi Arabian-led...|   military conflict|        434819|\n",
      "|42563745|      War in Donbass|   military conflict|        393174|\n",
      "| 6750583| History of Xinjiang|military conflict...|        364205|\n",
      "| 3030955|    Kashmir conflict|   military conflict|        364091|\n",
      "+--------+--------------------+--------------------+--------------+\n",
      "only showing top 5 rows\n",
      "\n"
     ]
    }
   ],
   "source": [
    "# Loading the data\n",
    "WIKIPEDIA_LENGTH_PARQUET = DATA_DIR + \"wikipedia_no_outliers.parquet\"\n",
    "\n",
    "# loading the saved parquet files\n",
    "articles = spark.read.parquet(WIKIPEDIA_LENGTH_PARQUET)\n",
    "articles_length = articles.withColumn('article_lenght', F.length(articles.revision.text._VALUE))\n",
    "articles_length_filter = articles_length.select(\"id\",\"title\",\"categories\",\"article_lenght\")\n",
    "articles_length_filter.sort('article_lenght', ascending=False).show(5)"
   ]
  },
  {
   "cell_type": "markdown",
   "metadata": {},
   "source": [
    "**Distribution of article length** We bin the article length to get the number of pages having at least x article lengths. This is observed with a histogram plot."
   ]
  },
  {
   "cell_type": "code",
   "execution_count": 63,
   "metadata": {},
   "outputs": [
    {
     "data": {
      "image/png": "[encoded data removed]",
      "text/plain": [
       "<Figure size 864x504 with 1 Axes>"
      ]
     },
     "metadata": {
      "needs_background": "light"
     },
     "output_type": "display_data"
    }
   ],
   "source": [
    "just_article_length = articles_length_filter.select('article_lenght').toPandas()\n",
    "just_article_length.plot(kind=\"hist\", bins=100, \n",
    "                     figsize=(12,7), title=\"Distribution of article lengths\")\n",
    "plt.xlabel('Article length')\n",
    "plt.ylabel('Frequency: # Pages having at least x Article length')\n",
    "plt.show()"
   ]
  },
  {
   "cell_type": "code",
   "execution_count": 64,
   "metadata": {},
   "outputs": [
    {
     "data": {
      "image/png": "[encoded data removed]",
      "text/plain": [
       "<Figure size 864x504 with 1 Axes>"
      ]
     },
     "metadata": {
      "needs_background": "light"
     },
     "output_type": "display_data"
    }
   ],
   "source": [
    "just_article_length = articles_length_filter.select('article_lenght').toPandas()\n",
    "just_article_length.plot(kind=\"hist\", bins=100, log = True,\n",
    "                     figsize=(12,7), title=\"Distribution of article lengths\")\n",
    "plt.xlabel('Article length')\n",
    "plt.ylabel('Frequency: # Pages having at least x Article length')\n",
    "plt.show()"
   ]
  },
  {
   "cell_type": "markdown",
   "metadata": {},
   "source": [
    "The distribution has a heavy-tailed distribution: it may follow a power law."
   ]
  },
  {
   "cell_type": "code",
   "execution_count": 65,
   "metadata": {},
   "outputs": [
    {
     "data": {
      "image/png": "[encoded data removed]",
      "text/plain": [
       "<Figure size 1296x360 with 1 Axes>"
      ]
     },
     "metadata": {
      "needs_background": "light"
     },
     "output_type": "display_data"
    }
   ],
   "source": [
    "step = 100;\n",
    "xs = pd.Series(range(1,int(just_article_length.max()),step));\n",
    "gratherThanData = xs.apply(lambda x: (just_article_length.article_lenght[just_article_length.article_lenght>=x]).count());\n",
    "\n",
    "f, (ax2) = plt.subplots(1, 1);\n",
    "plt.sca(ax2);\n",
    "plt.plot(xs,gratherThanData);\n",
    "plt.xlabel('article length',fontsize=16);\n",
    "plt.ylabel('# articles',fontsize=16);\n",
    "plt.yscale('log'); plt.xscale('log');\n",
    "f.set_size_inches(18, 5)\n",
    "f.suptitle('Log-log of distribution of article length',fontsize=20)\n",
    "plt.show();"
   ]
  },
  {
   "cell_type": "markdown",
   "metadata": {},
   "source": [
    "---\n",
    "\n",
    "# Joining tables on the page id\n",
    "\n",
    "Having defined popularity metrics and importance criterion, we now join the tables on the page ID."
   ]
  },
  {
   "cell_type": "markdown",
   "metadata": {},
   "source": [
    "## 1. Join all popularity tables on page id"
   ]
  },
  {
   "cell_type": "code",
   "execution_count": 66,
   "metadata": {},
   "outputs": [
    {
     "name": "stdout",
     "output_type": "stream",
     "text": [
      "+------+--------------------+--------------------+--------------+----------+\n",
      "|    id|               title|          categories|article_lenght|refs_count|\n",
      "+------+--------------------+--------------------+--------------+----------+\n",
      "|  4823|         Balkan Wars|   military conflict|         56312|         8|\n",
      "| 47928|   Battle of Naissus|   military conflict|         12440|        23|\n",
      "| 50157|Battle of Stoke F...|   military conflict|         16061|        12|\n",
      "|381602|    Baby Face Nelson|criminal, civilia...|         39762|        57|\n",
      "|424102|Battle of Beachy ...|   military conflict|         21589|        26|\n",
      "+------+--------------------+--------------------+--------------+----------+\n",
      "only showing top 5 rows\n",
      "\n"
     ]
    }
   ],
   "source": [
    "# need tables reference_count_page & articles_length_filter\n",
    "references_popularity = reference_count_page.registerTempTable('references_popularity')\n",
    "length_popularity = articles_length_filter.registerTempTable('length_popularity')\n",
    "views_popularity = views_df.registerTempTable('views_popularity')\n",
    "\n",
    "query_join_ref_length = \"\"\"\n",
    "select length_popularity.id, length_popularity.title, length_popularity.categories, length_popularity.article_lenght, references_popularity.refs_count\n",
    "from length_popularity\n",
    "join references_popularity\n",
    "on length_popularity.id = references_popularity.id\n",
    "\"\"\"\n",
    "\n",
    "join_ref_length = spark.sql(query_join_ref_length)\n",
    "join_ref_length.show(5)"
   ]
  },
  {
   "cell_type": "code",
   "execution_count": 67,
   "metadata": {},
   "outputs": [
    {
     "data": {
      "text/plain": [
       "[Row(id=57214505, title='Jahriyya revolt', categories='military conflict', article_lenght=10027, refs_count=22)]"
      ]
     },
     "execution_count": 67,
     "metadata": {},
     "output_type": "execute_result"
    }
   ],
   "source": [
    "# mini-test\n",
    "join_ref_length.filter(\"title = 'Jahriyya revolt'\").collect()"
   ]
  },
  {
   "cell_type": "code",
   "execution_count": 68,
   "metadata": {},
   "outputs": [
    {
     "name": "stdout",
     "output_type": "stream",
     "text": [
      "+------+--------------------+--------------------+--------------+-------+----------+\n",
      "|    id|               title|          categories|article_lenght|  views|refs_count|\n",
      "+------+--------------------+--------------------+--------------+-------+----------+\n",
      "|  4823|         Balkan Wars|   military conflict|         56312|1124826|         8|\n",
      "| 47928|   Battle of Naissus|   military conflict|         12440|  56441|        23|\n",
      "| 50157|Battle of Stoke F...|   military conflict|         16061| 113136|        12|\n",
      "|381602|    Baby Face Nelson|criminal, civilia...|         39762|1927516|        57|\n",
      "|424102|Battle of Beachy ...|   military conflict|         21589|  66081|        26|\n",
      "+------+--------------------+--------------------+--------------+-------+----------+\n",
      "only showing top 5 rows\n",
      "\n"
     ]
    }
   ],
   "source": [
    "join_ref_length_sql = join_ref_length.registerTempTable('join_ref_length_sql')\n",
    "query_join_popularity = \"\"\"\n",
    "select join_ref_length_sql.id, join_ref_length_sql.title, join_ref_length_sql.categories, join_ref_length_sql.article_lenght, views_popularity.views, join_ref_length_sql.refs_count  \n",
    "from join_ref_length_sql\n",
    "join views_popularity\n",
    "on join_ref_length_sql.title = views_popularity.title\n",
    "\"\"\"\n",
    "popularity = spark.sql(query_join_popularity)\n",
    "popularity.show(5)"
   ]
  },
  {
   "cell_type": "markdown",
   "metadata": {},
   "source": [
    "## 2. Join each category table with popularity table"
   ]
  },
  {
   "cell_type": "code",
   "execution_count": 71,
   "metadata": {},
   "outputs": [],
   "source": [
    "# need tables popularity, wiki_civil_conflict_df, wiki_civilian_attack_df, wiki_military_conflict_df\n",
    "civil_conflict_df1 = spark.read.parquet(DATA_DIR + \"wiki_civil_conflict_df.parquet\")\n",
    "military_conflict_df1 = spark.read.parquet(DATA_DIR + \"wiki_military_conflict_df.parquet\")\n",
    "civilian_attack_df1 = spark.read.parquet(DATA_DIR + \"wiki_civilian_attack_df.parquet\")\n",
    "\n",
    "popularity_sql = popularity.registerTempTable('popularity_sql')\n",
    "civil_conflict = civil_conflict_df1.registerTempTable('civil_conflict')\n",
    "military_conflict = military_conflict_df1.registerTempTable('military_conflict')\n",
    "civilian_attack = civilian_attack_df1.registerTempTable('civilian_attack')"
   ]
  },
  {
   "cell_type": "markdown",
   "metadata": {},
   "source": [
    "**Join between popularity & `civil conflict`**"
   ]
  },
  {
   "cell_type": "code",
   "execution_count": 72,
   "metadata": {},
   "outputs": [
    {
     "name": "stdout",
     "output_type": "stream",
     "text": [
      "+--------+--------------------+--------------+--------------+------+----------+--------------------+--------------------+--------------------+\n",
      "|      id|               title|    categories|article_lenght| views|refs_count|               death|            end_date|            location|\n",
      "+--------+--------------------+--------------+--------------+------+----------+--------------------+--------------------+--------------------+\n",
      "|25827443|Long, hot summer ...|civil conflict|          4473| 28498|         4|                null|      Summer of 1967|   [[United States]]|\n",
      "|34516509|2000 UEFA Cup Fin...|civil conflict|         26461| 73384|        51|                null|         17 May 2000|City Hall Square,...|\n",
      "|36647928|Baltimore municip...|civil conflict|         39343|  6461|        49|'''Deaths''': <br...|+1974-07-14T00:00...|[[Baltimore, Mary...|\n",
      "|49364124|Şırnak clashes (2...|civil conflict|         13430|  2701|        27|                null|August 2015-May 2016|[[Şırnak]], [[Tur...|\n",
      "|  246242|    Homestead strike|civil conflict|         46052|174311|        61|9 killed<br />11 ...|        July 1, 1892| Homestead (Q912465)|\n",
      "+--------+--------------------+--------------+--------------+------+----------+--------------------+--------------------+--------------------+\n",
      "only showing top 5 rows\n",
      "\n"
     ]
    }
   ],
   "source": [
    "query_join_popularity_civil_conflict = \"\"\"\n",
    "select popularity_sql.id, popularity_sql.title, popularity_sql.categories, popularity_sql.article_lenght, popularity_sql.views, popularity_sql.refs_count, civil_conflict.death, civil_conflict.end_date, civil_conflict.location\n",
    "from popularity_sql, civil_conflict\n",
    "where popularity_sql.id = civil_conflict.id\n",
    "\"\"\"\n",
    "\n",
    "popularity_civil_conflict = spark.sql(query_join_popularity_civil_conflict)\n",
    "popularity_civil_conflict.show(5)"
   ]
  },
  {
   "cell_type": "code",
   "execution_count": 73,
   "metadata": {},
   "outputs": [],
   "source": [
    "# saving binary file\n",
    "popularity_civil_conflict.write.mode('overwrite').parquet(DATA_DIR+\"popularity_civil_conflict.parquet\");"
   ]
  },
  {
   "cell_type": "markdown",
   "metadata": {},
   "source": [
    "**Join between popularity & `military conflict`**"
   ]
  },
  {
   "cell_type": "code",
   "execution_count": 74,
   "metadata": {},
   "outputs": [
    {
     "name": "stdout",
     "output_type": "stream",
     "text": [
      "+------+--------------------+-----------------+--------------+-------+----------+--------------------+--------------------+--------------------+\n",
      "|    id|               title|       categories|article_lenght|  views|refs_count|               death|            end_date|            location|\n",
      "+------+--------------------+-----------------+--------------+-------+----------+--------------------+--------------------+--------------------+\n",
      "|  4823|         Balkan Wars|military conflict|         56312|1124826|         8|                null|+1913-07-18T00:00...|{{hlist |[[Adrian...|\n",
      "| 47928|   Battle of Naissus|military conflict|         12440|  56441|        23|             unknown|          268 or 269|       Niš (Q129259)|\n",
      "| 50157|Battle of Stoke F...|military conflict|         16061| 113136|        12|Unknown, estimate...|        16 June 1487|East Stoke, Notti...|\n",
      "|424102|Battle of Beachy ...|military conflict|         21589|  66081|        26|       No ships lost|        10 July 1690|English channel (...|\n",
      "|567816|Battle of Majuba ...|military conflict|         10864| 108280|         7|1 killed<br> 5 wo...|    27 February 1881|[[Majuba Hill]], ...|\n",
      "+------+--------------------+-----------------+--------------+-------+----------+--------------------+--------------------+--------------------+\n",
      "only showing top 5 rows\n",
      "\n"
     ]
    }
   ],
   "source": [
    "query_join_popularity_military_conflict = \"\"\"\n",
    "select popularity_sql.id, popularity_sql.title, popularity_sql.categories, popularity_sql.article_lenght, popularity_sql.views, popularity_sql.refs_count, military_conflict.death, military_conflict.end_date, military_conflict.location\n",
    "from popularity_sql, military_conflict\n",
    "where popularity_sql.id = military_conflict.id\n",
    "\"\"\"\n",
    "\n",
    "popularity_military_conflict = spark.sql(query_join_popularity_military_conflict)\n",
    "popularity_military_conflict.show(5)"
   ]
  },
  {
   "cell_type": "code",
   "execution_count": 75,
   "metadata": {},
   "outputs": [
    {
     "data": {
      "text/plain": [
       "[Row(id=32927, title='World War II', categories='military conflict', article_lenght=223212, views=33835972, refs_count=238, death='+73000000', end_date='+1945-09-02T00:00:00Z', location='[Russia (Q159), Europe (Q46), Africa (Q15), Pacific Ocean (Q98), Mediterranean Sea (Q4918), Asia (Q48), Atlantic Ocean (Q97), Middle East (Q7204), Southeast Asia (Q11708), Scandinavia (Q21195)]')]"
      ]
     },
     "execution_count": 75,
     "metadata": {},
     "output_type": "execute_result"
    }
   ],
   "source": [
    "#check if join works\n",
    "#popularity_military_conflict.select(\"title like '%World War II%'\")\n",
    "popularity_military_conflict.filter(\"title = 'World War II'\").collect()"
   ]
  },
  {
   "cell_type": "code",
   "execution_count": 76,
   "metadata": {},
   "outputs": [],
   "source": [
    "# saving binary file\n",
    "popularity_military_conflict.write.mode('overwrite').parquet(DATA_DIR+\"popularity_military_conflict.parquet\");"
   ]
  },
  {
   "cell_type": "markdown",
   "metadata": {},
   "source": [
    "**Join between popularity & `civilian attack`**"
   ]
  },
  {
   "cell_type": "code",
   "execution_count": 77,
   "metadata": {},
   "outputs": [
    {
     "name": "stdout",
     "output_type": "stream",
     "text": [
      "+--------+--------------------+--------------------+--------------+-------+----------+--------------------+--------------------+--------------------+\n",
      "|      id|               title|          categories|article_lenght|  views|refs_count|               death|            end_date|            location|\n",
      "+--------+--------------------+--------------------+--------------+-------+----------+--------------------+--------------------+--------------------+\n",
      "|  381602|    Baby Face Nelson|criminal, civilia...|         39762|1927516|        57|                null|                null|                null|\n",
      "|  464698|Massacres of Pole...|     civilian attack|        120291| 344457|       159|              +80000|+1944-00-00T00:00...|    Volhynia (Q7530)|\n",
      "| 3177125|Springfield race ...|     civilian attack|        274021|  44412|       449|:16 (at least) \n",
      "*...|: August 14–16, 1908|: [[Springfield, ...|\n",
      "| 9490463|  Mirusuvil massacre|     civilian attack|         11256|   4697|        17|                  +8|   December 20, 2000|Mirusuvil (Q6874757)|\n",
      "|19492124|27 September 2008...|     civilian attack|         20604|   5043|        38|                  +3|   27 September 2008|       Delhi (Q1353)|\n",
      "+--------+--------------------+--------------------+--------------+-------+----------+--------------------+--------------------+--------------------+\n",
      "only showing top 5 rows\n",
      "\n"
     ]
    }
   ],
   "source": [
    "query_join_popularity_civilian_attack = \"\"\"\n",
    "select popularity_sql.id, popularity_sql.title, popularity_sql.categories, popularity_sql.article_lenght, popularity_sql.views, popularity_sql.refs_count, civilian_attack.death, civilian_attack.end_date, civilian_attack.location\n",
    "from popularity_sql, civilian_attack\n",
    "where popularity_sql.id = civilian_attack.id\n",
    "\"\"\"\n",
    "\n",
    "popularity_civilian_attack = spark.sql(query_join_popularity_civilian_attack)\n",
    "popularity_civilian_attack.show(5)"
   ]
  },
  {
   "cell_type": "code",
   "execution_count": 78,
   "metadata": {},
   "outputs": [],
   "source": [
    "# saving binary file\n",
    "popularity_civilian_attack.write.mode('overwrite').parquet(DATA_DIR+\"popularity_civilian_attack.parquet\");"
   ]
  },
  {
   "cell_type": "markdown",
   "metadata": {},
   "source": [
    "## 3. Join each category table with external links"
   ]
  },
  {
   "cell_type": "code",
   "execution_count": 100,
   "metadata": {},
   "outputs": [],
   "source": [
    "# Loading the data\n",
    "external_links_df = spark.read.parquet(DATA_DIR + \"intermediate/external_links.parquet\")\n",
    "civilian_attack_minus_links_df = spark.read.parquet(DATA_DIR + \"intermediate/popularity_civilian_attack.parquet\")\n",
    "military_conflict_minus_links_df = spark.read.parquet(DATA_DIR + \"intermediate/popularity_military_conflict.parquet\")\n",
    "civil_conflict_minus_links_df = spark.read.parquet(DATA_DIR + \"intermediate/popularity_civil_conflict.parquet\")"
   ]
  },
  {
   "cell_type": "code",
   "execution_count": 101,
   "metadata": {},
   "outputs": [],
   "source": [
    "# register as SQL view \n",
    "external_links = external_links_df.registerTempTable('external_links')\n",
    "civilian_attack_minus_links = civilian_attack_minus_links_df.registerTempTable('civilian_attack_minus_links')\n",
    "military_conflict_minus_links = military_conflict_minus_links_df.registerTempTable('military_conflict_minus_links')\n",
    "civil_conflict_minus_links = civil_conflict_minus_links_df.registerTempTable('civil_conflict_minus_links')"
   ]
  },
  {
   "cell_type": "markdown",
   "metadata": {},
   "source": [
    "**Join between external links & `civil conflict`**"
   ]
  },
  {
   "cell_type": "code",
   "execution_count": 102,
   "metadata": {},
   "outputs": [
    {
     "name": "stdout",
     "output_type": "stream",
     "text": [
      "+--------+--------------------+--------------+--------------+------+----------+----------+-----+--------------------+--------------------+\n",
      "|      id|               title|    categories|article_lenght| views|refs_count|link_count|death|            end_date|            location|\n",
      "+--------+--------------------+--------------+--------------+------+----------+----------+-----+--------------------+--------------------+\n",
      "|  637627|     Rose Revolution|civil conflict|         36387|212531|        44|       121| null|3&ndash;23 Novemb...|[[Georgia (countr...|\n",
      "|29579740|2010 student prot...|civil conflict|         18501|  8757|        26|        85| null|     3 November 2010| [[Dublin]], Ireland|\n",
      "|33699923|2011 Oakland gene...|civil conflict|         15602|  7599|        20|        33| null|{{Start date|2011...|[[Oakland, Califo...|\n",
      "|43430546|2014 Saharanpur r...|civil conflict|          5219| 19968|         6|        19| null|{{Start date|df|=...|[[Saharanpur]], [...|\n",
      "|44255559|2014 Burkinabé up...|civil conflict|         50008| 97879|        59|       171|   +5|28 October 2014 –...|[Ouahigouya (Q569...|\n",
      "+--------+--------------------+--------------+--------------+------+----------+----------+-----+--------------------+--------------------+\n",
      "only showing top 5 rows\n",
      "\n"
     ]
    }
   ],
   "source": [
    "# join civil conflict and external links on id \n",
    "query_join_links_civil_conflict = \"\"\"\n",
    "select civil_conflict_minus_links.id, civil_conflict_minus_links.title, civil_conflict_minus_links.categories, civil_conflict_minus_links.article_lenght, civil_conflict_minus_links.views, civil_conflict_minus_links.refs_count, external_links.link_count ,civil_conflict_minus_links.death, civil_conflict_minus_links.end_date, civil_conflict_minus_links.location\n",
    "from civil_conflict_minus_links, external_links\n",
    "where civil_conflict_minus_links.id = external_links.id\n",
    "\"\"\"\n",
    "\n",
    "civil_conflict_with_links = spark.sql(query_join_links_civil_conflict)\n",
    "civil_conflict_with_links.show(5)\n"
   ]
  },
  {
   "cell_type": "code",
   "execution_count": 105,
   "metadata": {},
   "outputs": [],
   "source": [
    "# saving binary file\n",
    "civil_conflict_with_links.write.mode('overwrite').parquet(\n",
    "    DATA_DIR+\"All_popularity_metrics_civil_conflict.parquet\"\n",
    ");"
   ]
  },
  {
   "cell_type": "markdown",
   "metadata": {},
   "source": [
    "**Join between external links & `military conflict`**"
   ]
  },
  {
   "cell_type": "code",
   "execution_count": 106,
   "metadata": {},
   "outputs": [
    {
     "name": "stdout",
     "output_type": "stream",
     "text": [
      "+------+--------------------+-----------------+--------------+-------+----------+----------+--------------------+--------------------+--------------------+\n",
      "|    id|               title|       categories|article_lenght|  views|refs_count|link_count|               death|            end_date|            location|\n",
      "+------+--------------------+-----------------+--------------+-------+----------+----------+--------------------+--------------------+--------------------+\n",
      "| 29328|         Six-Day War|military conflict|        170832|4808587|       190|       592|776–983 killed<br...|+1968-06-10T00:00...| Middle East (Q7204)|\n",
      "| 36771|Battle of the Che...|military conflict|         47082| 289053|        78|       203|220 killed or wou...|    5 September 1781|off the [[Virgini...|\n",
      "| 60117|          Juno Beach|military conflict|         71892| 496842|         0|       220|340 dead <br /> 5...|         6 June 1944|Courseulles-sur-M...|\n",
      "| 68318| Battle of the Boyne|military conflict|         29669|1130733|        12|       180|   ~1,500 casualties|1 July 1690 [[Old...|  Drogheda (Q207223)|\n",
      "|106130|      Second Crusade|military conflict|         56392| 768187|         1|       461|                high|+1149-00-00T00:00...|[Iberian Peninsul...|\n",
      "+------+--------------------+-----------------+--------------+-------+----------+----------+--------------------+--------------------+--------------------+\n",
      "only showing top 5 rows\n",
      "\n"
     ]
    }
   ],
   "source": [
    "# join military conflict and external links on id \n",
    "query_join_links_military_conflict = \"\"\"\n",
    "select military_conflict_minus_links.id, military_conflict_minus_links.title, military_conflict_minus_links.categories, military_conflict_minus_links.article_lenght, military_conflict_minus_links.views, military_conflict_minus_links.refs_count, external_links.link_count ,military_conflict_minus_links.death, military_conflict_minus_links.end_date, military_conflict_minus_links.location\n",
    "from military_conflict_minus_links, external_links\n",
    "where military_conflict_minus_links.id = external_links.id\n",
    "\"\"\"\n",
    "\n",
    "military_conflict_with_links = spark.sql(query_join_links_military_conflict)\n",
    "military_conflict_with_links.show(5)"
   ]
  },
  {
   "cell_type": "code",
   "execution_count": 107,
   "metadata": {},
   "outputs": [],
   "source": [
    "# saving binary file\n",
    "military_conflict_with_links.write.mode('overwrite').parquet(\n",
    "    DATA_DIR+\"All_popularity_metrics_military_conflict.parquet\"\n",
    ");"
   ]
  },
  {
   "cell_type": "markdown",
   "metadata": {},
   "source": [
    "**Join between external links & `civilian attack`**"
   ]
  },
  {
   "cell_type": "code",
   "execution_count": 109,
   "metadata": {},
   "outputs": [
    {
     "name": "stdout",
     "output_type": "stream",
     "text": [
      "+--------+--------------------+---------------+--------------+-----+----------+----------+-----+--------------------+--------------------+\n",
      "|      id|               title|     categories|article_lenght|views|refs_count|link_count|death|            end_date|            location|\n",
      "+--------+--------------------+---------------+--------------+-----+----------+----------+-----+--------------------+--------------------+\n",
      "|  317460|1986 West Berlin ...|civilian attack|          9356|73773|        13|        58|   +3|{{Start date and ...|La Belle (Q28146472)|\n",
      "|30319497|Marburg's Bloody ...|civilian attack|         26797|11431|        30|        63| 9–13|     27 January 1919|                null|\n",
      "|31297671|1994 British Army...|civilian attack|          8330|57237|        13|        71| null|       20 March 1994|Crossmaglen (Q183...|\n",
      "|31771514|2011 Manhattan te...|civilian attack|         10108|21929|        10|        50| null|Suspects arrested...|  Manhattan (Q11299)|\n",
      "|36450267|     Bagber massacre|civilian attack|          4572| 8531|         5|        29|  +25|         20 May 2000|Bagber, [[West Tr...|\n",
      "+--------+--------------------+---------------+--------------+-----+----------+----------+-----+--------------------+--------------------+\n",
      "only showing top 5 rows\n",
      "\n"
     ]
    }
   ],
   "source": [
    "# join civil conflict and external links on id \n",
    "query_join_links_civilian_attack = \"\"\"\n",
    "select civilian_attack_minus_links.id, civilian_attack_minus_links.title, civilian_attack_minus_links.categories, civilian_attack_minus_links.article_lenght, civilian_attack_minus_links.views, civilian_attack_minus_links.refs_count, external_links.link_count ,civilian_attack_minus_links.death, civilian_attack_minus_links.end_date, civilian_attack_minus_links.location\n",
    "from civilian_attack_minus_links, external_links\n",
    "where civilian_attack_minus_links.id = external_links.id\n",
    "\"\"\"\n",
    "civilian_attack_with_links = spark.sql(query_join_links_civilian_attack)\n",
    "civilian_attack_with_links.show(5)\n"
   ]
  },
  {
   "cell_type": "code",
   "execution_count": 110,
   "metadata": {},
   "outputs": [],
   "source": [
    "# saving binary file\n",
    "civilian_attack_with_links.write.mode('overwrite').parquet(\n",
    "    DATA_DIR+\"All_popularity_metrics_civilian_attack.parquet\"\n",
    ");"
   ]
  },
  {
   "cell_type": "code",
   "execution_count": 112,
   "metadata": {},
   "outputs": [
    {
     "name": "stdout",
     "output_type": "stream",
     "text": [
      "Civilian attack: 2468\n",
      "Military conflict: 14158\n",
      "Civil conflict: 847\n",
      "Total number of articles: 17473\n"
     ]
    }
   ],
   "source": [
    "# check # ele in file\n",
    "print('Civilian attack: {}'.format(civilian_attack_with_links.count()))\n",
    "print('Military conflict: {}'.format(military_conflict_with_links.count()))\n",
    "print('Civil conflict: {}'.format(civil_conflict_with_links.count()))\n",
    "print('Total number of articles: {}'.format(civilian_attack_with_links.count()\n",
    "                                            + military_conflict_with_links.count() + \n",
    "                                            civil_conflict_with_links.count()))"
   ]
  },
  {
   "cell_type": "markdown",
   "metadata": {},
   "source": [
    "# 4. Concatenate all 3 categories into 1 single file"
   ]
  },
  {
   "cell_type": "code",
   "execution_count": 116,
   "metadata": {},
   "outputs": [
    {
     "name": "stdout",
     "output_type": "stream",
     "text": [
      "+--------+--------------------+---------------+--------------+-----+----------+----------+--------------------+--------------------+--------------------+\n",
      "|      id|               title|     categories|article_lenght|views|refs_count|link_count|               death|            end_date|            location|\n",
      "+--------+--------------------+---------------+--------------+-----+----------+----------+--------------------+--------------------+--------------------+\n",
      "|57662956|2004 Lahsuna mass...|civilian attack|          2013| 1296|         2|        11|                   4|                null|Lahsuna, [[Bihar]...|\n",
      "|44028252|  2014 Burdwan blast|civilian attack|          6075|11950|         6|        18|                  +2|      2 October 2014| Bardhaman (Q709267)|\n",
      "|57863938| 1988 Naples bombing|civilian attack|          4851| 1476|         7|        35|                   5|       14 April 1988|[[Naples]], [[Ita...|\n",
      "|41448938|December 2013 Man...|civilian attack|         15569| 6678|        28|        36|                 +16|{{Start date|2013...|  Mansoura (Q223587)|\n",
      "|44952099|    2015 Arar attack|civilian attack|          2643| 5215|         5|        14|5 (including the ...|      5 January 2015|      Arar (Q626199)|\n",
      "+--------+--------------------+---------------+--------------+-----+----------+----------+--------------------+--------------------+--------------------+\n",
      "only showing top 5 rows\n",
      "\n"
     ]
    }
   ],
   "source": [
    "FINAL_civilian_attack = civilian_attack_with_links.registerTempTable('FINAL_civilian_attack')\n",
    "FINAL_military_conflict = military_conflict_with_links.registerTempTable('FINAL_military_conflict')\n",
    "FINAL_civil_conflict = civil_conflict_with_links.registerTempTable('FINAL_civil_conflict')\n",
    "\n",
    "# UNION 3 categories\n",
    "query_union_3_cat = \"\"\"\n",
    "select *\n",
    "from FINAL_civilian_attack\n",
    "union \n",
    "select *\n",
    "from FINAL_military_conflict\n",
    "union\n",
    "select *\n",
    "from FINAL_civil_conflict\n",
    "\"\"\"\n",
    "union_3_cat = spark.sql(query_union_3_cat)\n",
    "union_3_cat.show(5)\n"
   ]
  },
  {
   "cell_type": "code",
   "execution_count": 117,
   "metadata": {},
   "outputs": [
    {
     "name": "stdout",
     "output_type": "stream",
     "text": [
      "Total number of articles after union: 17468\n"
     ]
    }
   ],
   "source": [
    "print('Total number of articles after union: {}'.format(union_3_cat.count()))"
   ]
  },
  {
   "cell_type": "code",
   "execution_count": 118,
   "metadata": {},
   "outputs": [],
   "source": [
    "# saving binary file\n",
    "union_3_cat.write.mode('overwrite').parquet(DATA_DIR+\"union_3_cat.parquet\");"
   ]
  },
  {
   "cell_type": "markdown",
   "metadata": {},
   "source": [
    "--- \n",
    "# Define a popularity score for each page\n"
   ]
  },
  {
   "cell_type": "markdown",
   "metadata": {},
   "source": [
    "We use 4 features to define the popularity score of a page.\n",
    "\n",
    "    We define the popularity score of an article as:\n",
    "\n",
    "         SCORE = w1 * views + w2 * links + w3 * references + w4 * length \n",
    "        \n",
    "        w1, w2, w3 and w4 are arbitrary weigths that normalize the features.\n",
    "\n",
    "    We have noticed that the features references,length and views seem to follow a power law. Therefore, we use the 1/median to construct the weights associated to them."
   ]
  },
  {
   "cell_type": "markdown",
   "metadata": {},
   "source": [
    "### Civil conflict score "
   ]
  },
  {
   "cell_type": "code",
   "execution_count": 119,
   "metadata": {},
   "outputs": [],
   "source": [
    "popularity_civil_conflict_scoring = spark.read.parquet(DATA_DIR+\"union_3_cat.parquet\")"
   ]
  },
  {
   "cell_type": "code",
   "execution_count": 221,
   "metadata": {
    "collapsed": true
   },
   "outputs": [],
   "source": [
    "from pyspark.sql.types import IntegerType\n",
    "\n",
    "def compute_weight(a_df, features_col):\n",
    "    qnt_50 = []\n",
    "    # for each col of the input features, cast into integer and compute median\n",
    "    for col_ in features_col:\n",
    "        a_df = a_df.withColumn(col_, a_df[col_].cast(IntegerType()))\n",
    "        qnt_50.append(1/a_df.approxQuantile(col_, [0.5], 0.1)[0])\n",
    "        \n",
    "    weights = np.array(qnt_50)\n",
    "    return weights, a_df\n",
    "\n",
    "\n",
    "def compute_score(a_df, features_col):\n",
    "    weights, a_df = compute_weight(a_df, features_col[1:])\n",
    "    a_pd = a_df.toPandas()\n",
    "    score = a_pd.iloc[:, 1] * weights[1] \\\n",
    "    + a_pd.iloc[:, 2] * weights[2]\n",
    "    \n",
    "    return score"
   ]
  },
  {
   "cell_type": "code",
   "execution_count": 216,
   "metadata": {},
   "outputs": [
    {
     "name": "stdout",
     "output_type": "stream",
     "text": [
      "+-------+-----------------+--------------+--------------+------+-----+--------------------+--------------------+\n",
      "|     id|            title|    categories|article_lenght| views|death|            end_date|            location|\n",
      "+-------+-----------------+--------------+--------------+------+-----+--------------------+--------------------+\n",
      "|1690078|1967 Newark riots|civil conflict|         18540|225656|  +26|+1967-07-17T00:00...|[Jersey City (Q26...|\n",
      "+-------+-----------------+--------------+--------------+------+-----+--------------------+--------------------+\n",
      "only showing top 1 row\n",
      "\n"
     ]
    }
   ],
   "source": [
    "popularity_civil_conflict_scoring.show(1)"
   ]
  },
  {
   "cell_type": "code",
   "execution_count": 223,
   "metadata": {
    "collapsed": true
   },
   "outputs": [],
   "source": [
    "to_score = popularity_civil_conflict_scoring.select('id','views','article_lenght')"
   ]
  },
  {
   "cell_type": "code",
   "execution_count": 224,
   "metadata": {},
   "outputs": [
    {
     "data": {
      "text/plain": [
       "(array([2.61718649e-08, 5.65259171e-05, 6.54065014e-05]),\n",
       " DataFrame[id: int, views: int, article_lenght: int])"
      ]
     },
     "execution_count": 224,
     "metadata": {},
     "output_type": "execute_result"
    }
   ],
   "source": [
    "compute_weight(to_score, ['id','views','article_lenght'])"
   ]
  },
  {
   "cell_type": "markdown",
   "metadata": {
    "collapsed": true
   },
   "source": [
    "# Clustering approach\n",
    "\n",
    "## Feature standardization"
   ]
  },
  {
   "cell_type": "code",
   "execution_count": 120,
   "metadata": {},
   "outputs": [],
   "source": [
    "popularity_civil_conflict_scoring_ft = spark.read.parquet(DATA_DIR+\"union_3_cat.parquet\")"
   ]
  },
  {
   "cell_type": "code",
   "execution_count": 121,
   "metadata": {},
   "outputs": [],
   "source": [
    "popularity_civil_conflict_pd = popularity_civil_conflict_scoring_ft.toPandas()"
   ]
  },
  {
   "cell_type": "code",
   "execution_count": 122,
   "metadata": {},
   "outputs": [
    {
     "data": {
      "text/html": [
       "<div>\n",
       "<style scoped>\n",
       "    .dataframe tbody tr th:only-of-type {\n",
       "        vertical-align: middle;\n",
       "    }\n",
       "\n",
       "    .dataframe tbody tr th {\n",
       "        vertical-align: top;\n",
       "    }\n",
       "\n",
       "    .dataframe thead th {\n",
       "        text-align: right;\n",
       "    }\n",
       "</style>\n",
       "<table border=\"1\" class=\"dataframe\">\n",
       "  <thead>\n",
       "    <tr style=\"text-align: right;\">\n",
       "      <th></th>\n",
       "      <th>id</th>\n",
       "      <th>title</th>\n",
       "      <th>categories</th>\n",
       "      <th>article_lenght</th>\n",
       "      <th>views</th>\n",
       "      <th>refs_count</th>\n",
       "      <th>link_count</th>\n",
       "      <th>death</th>\n",
       "      <th>end_date</th>\n",
       "      <th>location</th>\n",
       "    </tr>\n",
       "  </thead>\n",
       "  <tbody>\n",
       "    <tr>\n",
       "      <th>0</th>\n",
       "      <td>50429564</td>\n",
       "      <td>2016 Samawa bombing</td>\n",
       "      <td>civilian attack</td>\n",
       "      <td>2488</td>\n",
       "      <td>9998</td>\n",
       "      <td>2</td>\n",
       "      <td>26</td>\n",
       "      <td>33+ (+2)</td>\n",
       "      <td>1 May 2016</td>\n",
       "      <td>Samawah (Q750679)</td>\n",
       "    </tr>\n",
       "    <tr>\n",
       "      <th>1</th>\n",
       "      <td>39900222</td>\n",
       "      <td>Harok family murder</td>\n",
       "      <td>civilian attack</td>\n",
       "      <td>35907</td>\n",
       "      <td>53091</td>\n",
       "      <td>49</td>\n",
       "      <td>52</td>\n",
       "      <td>4</td>\n",
       "      <td>22 May 2013</td>\n",
       "      <td>Zatloukalova 404/49a, [[Brno]]-Ivanovice, [[Cz...</td>\n",
       "    </tr>\n",
       "    <tr>\n",
       "      <th>2</th>\n",
       "      <td>46935886</td>\n",
       "      <td>1993 Aurora shooting</td>\n",
       "      <td>civilian attack, criminal</td>\n",
       "      <td>10075</td>\n",
       "      <td>271842</td>\n",
       "      <td>11</td>\n",
       "      <td>52</td>\n",
       "      <td>4</td>\n",
       "      <td>December 14, 1993</td>\n",
       "      <td>12293 East Iliff Avenue,&lt;br/&gt;[[Aurora, Colorad...</td>\n",
       "    </tr>\n",
       "    <tr>\n",
       "      <th>3</th>\n",
       "      <td>38247068</td>\n",
       "      <td>In Amenas hostage crisis</td>\n",
       "      <td>civilian attack</td>\n",
       "      <td>55589</td>\n",
       "      <td>99062</td>\n",
       "      <td>106</td>\n",
       "      <td>128</td>\n",
       "      <td>At least 67 (at least 37 foreign hostages, an ...</td>\n",
       "      <td>None</td>\n",
       "      <td>West of [[In Amenas]], Algeria</td>\n",
       "    </tr>\n",
       "    <tr>\n",
       "      <th>4</th>\n",
       "      <td>19896366</td>\n",
       "      <td>2008 Imphal bombing</td>\n",
       "      <td>civilian attack</td>\n",
       "      <td>19719</td>\n",
       "      <td>5617</td>\n",
       "      <td>20</td>\n",
       "      <td>38</td>\n",
       "      <td>17</td>\n",
       "      <td>21 October 2008</td>\n",
       "      <td>Imphal (Q208097)</td>\n",
       "    </tr>\n",
       "    <tr>\n",
       "      <th>5</th>\n",
       "      <td>2234230</td>\n",
       "      <td>Savoy Hotel attack</td>\n",
       "      <td>civilian attack</td>\n",
       "      <td>10713</td>\n",
       "      <td>11059</td>\n",
       "      <td>9</td>\n",
       "      <td>45</td>\n",
       "      <td>8 civilian hostages, 3 Israeli soldiers, 7 [[F...</td>\n",
       "      <td>+1975-03-05T00:00:00Z</td>\n",
       "      <td>Tel Aviv (Q33935)</td>\n",
       "    </tr>\n",
       "    <tr>\n",
       "      <th>6</th>\n",
       "      <td>4538300</td>\n",
       "      <td>Le Paradis massacre</td>\n",
       "      <td>civilian attack</td>\n",
       "      <td>28438</td>\n",
       "      <td>218488</td>\n",
       "      <td>32</td>\n",
       "      <td>76</td>\n",
       "      <td>97</td>\n",
       "      <td>27 May 1940</td>\n",
       "      <td>Le Paradis village, commune of [[Lestrem]], No...</td>\n",
       "    </tr>\n",
       "    <tr>\n",
       "      <th>7</th>\n",
       "      <td>12983993</td>\n",
       "      <td>1984 Montreal bombing</td>\n",
       "      <td>civilian attack</td>\n",
       "      <td>21695</td>\n",
       "      <td>550</td>\n",
       "      <td>24</td>\n",
       "      <td>100</td>\n",
       "      <td>3</td>\n",
       "      <td>September 3, 1984</td>\n",
       "      <td>[[Montreal]], [[Quebec]], [[Canada]]</td>\n",
       "    </tr>\n",
       "    <tr>\n",
       "      <th>8</th>\n",
       "      <td>10032978</td>\n",
       "      <td>2007 Casablanca bombings</td>\n",
       "      <td>terrorist attack, civilian attack</td>\n",
       "      <td>4930</td>\n",
       "      <td>11130</td>\n",
       "      <td>6</td>\n",
       "      <td>33</td>\n",
       "      <td>1 (one perpetrator)</td>\n",
       "      <td>March 11, 2007</td>\n",
       "      <td>Casablanca (Q7903)</td>\n",
       "    </tr>\n",
       "    <tr>\n",
       "      <th>9</th>\n",
       "      <td>41583832</td>\n",
       "      <td>Slamat disaster</td>\n",
       "      <td>civilian attack</td>\n",
       "      <td>25666</td>\n",
       "      <td>4466</td>\n",
       "      <td>13</td>\n",
       "      <td>128</td>\n",
       "      <td>983</td>\n",
       "      <td>{{start date and age|1941|04|27}}</td>\n",
       "      <td>None</td>\n",
       "    </tr>\n",
       "  </tbody>\n",
       "</table>\n",
       "</div>"
      ],
      "text/plain": [
       "         id                     title                         categories  \\\n",
       "0  50429564       2016 Samawa bombing                    civilian attack   \n",
       "1  39900222       Harok family murder                    civilian attack   \n",
       "2  46935886      1993 Aurora shooting         civilian attack, criminal    \n",
       "3  38247068  In Amenas hostage crisis                    civilian attack   \n",
       "4  19896366       2008 Imphal bombing                    civilian attack   \n",
       "5   2234230        Savoy Hotel attack                    civilian attack   \n",
       "6   4538300       Le Paradis massacre                    civilian attack   \n",
       "7  12983993     1984 Montreal bombing                    civilian attack   \n",
       "8  10032978  2007 Casablanca bombings  terrorist attack, civilian attack   \n",
       "9  41583832           Slamat disaster                    civilian attack   \n",
       "\n",
       "   article_lenght   views  refs_count  link_count  \\\n",
       "0            2488    9998           2          26   \n",
       "1           35907   53091          49          52   \n",
       "2           10075  271842          11          52   \n",
       "3           55589   99062         106         128   \n",
       "4           19719    5617          20          38   \n",
       "5           10713   11059           9          45   \n",
       "6           28438  218488          32          76   \n",
       "7           21695     550          24         100   \n",
       "8            4930   11130           6          33   \n",
       "9           25666    4466          13         128   \n",
       "\n",
       "                                               death  \\\n",
       "0                                           33+ (+2)   \n",
       "1                                                  4   \n",
       "2                                                  4   \n",
       "3  At least 67 (at least 37 foreign hostages, an ...   \n",
       "4                                                 17   \n",
       "5  8 civilian hostages, 3 Israeli soldiers, 7 [[F...   \n",
       "6                                                 97   \n",
       "7                                                  3   \n",
       "8                                1 (one perpetrator)   \n",
       "9                                                983   \n",
       "\n",
       "                            end_date  \\\n",
       "0                         1 May 2016   \n",
       "1                        22 May 2013   \n",
       "2                  December 14, 1993   \n",
       "3                               None   \n",
       "4                    21 October 2008   \n",
       "5              +1975-03-05T00:00:00Z   \n",
       "6                        27 May 1940   \n",
       "7                  September 3, 1984   \n",
       "8                     March 11, 2007   \n",
       "9  {{start date and age|1941|04|27}}   \n",
       "\n",
       "                                            location  \n",
       "0                                  Samawah (Q750679)  \n",
       "1  Zatloukalova 404/49a, [[Brno]]-Ivanovice, [[Cz...  \n",
       "2  12293 East Iliff Avenue,<br/>[[Aurora, Colorad...  \n",
       "3                     West of [[In Amenas]], Algeria  \n",
       "4                                   Imphal (Q208097)  \n",
       "5                                  Tel Aviv (Q33935)  \n",
       "6  Le Paradis village, commune of [[Lestrem]], No...  \n",
       "7               [[Montreal]], [[Quebec]], [[Canada]]  \n",
       "8                                 Casablanca (Q7903)  \n",
       "9                                               None  "
      ]
     },
     "execution_count": 122,
     "metadata": {},
     "output_type": "execute_result"
    }
   ],
   "source": [
    "popularity_civil_conflict_pd.head(10)"
   ]
  },
  {
   "cell_type": "code",
   "execution_count": 123,
   "metadata": {},
   "outputs": [
    {
     "data": {
      "image/png": "[encoded data removed]",
      "text/plain": [
       "<Figure size 1440x720 with 20 Axes>"
      ]
     },
     "metadata": {
      "needs_background": "light"
     },
     "output_type": "display_data"
    }
   ],
   "source": [
    "sns.pairplot(data=popularity_civil_conflict_pd, vars=['article_lenght', 'views', 'refs_count', 'link_count'],\n",
    "             aspect=2);"
   ]
  },
  {
   "cell_type": "code",
   "execution_count": 124,
   "metadata": {},
   "outputs": [
    {
     "name": "stderr",
     "output_type": "stream",
     "text": [
      "/Users/nasrine/miniconda3/envs/ada/lib/python3.6/site-packages/sklearn/preprocessing/data.py:323: DataConversionWarning: Data with input dtype int32, int64 were all converted to float64 by MinMaxScaler.\n",
      "  return self.partial_fit(X, y)\n"
     ]
    }
   ],
   "source": [
    "from sklearn import preprocessing\n",
    "min_max_scaler = preprocessing.MinMaxScaler(feature_range=(-1,1))\n",
    "popularity_civil_conflict_pd_minmax = min_max_scaler.fit_transform(popularity_civil_conflict_pd[['article_lenght', 'views', 'refs_count', 'link_count']])"
   ]
  },
  {
   "cell_type": "code",
   "execution_count": 30,
   "metadata": {},
   "outputs": [
    {
     "data": {
      "image/png": "[encoded data removed]",
      "text/plain": [
       "<Figure size 360x360 with 6 Axes>"
      ]
     },
     "metadata": {
      "needs_background": "light"
     },
     "output_type": "display_data"
    }
   ],
   "source": [
    "#popularity_civil_conflict_pd_minmax\n",
    "sns.pairplot(pd.DataFrame(popularity_civil_conflict_pd_minmax, columns=[['article_lenght', 'views']]));"
   ]
  },
  {
   "cell_type": "code",
   "execution_count": 24,
   "metadata": {},
   "outputs": [],
   "source": [
    "X_normalized = preprocessing.normalize(popularity_civil_conflict_pd[['article_lenght', 'views']], norm='l1')"
   ]
  },
  {
   "cell_type": "code",
   "execution_count": 21,
   "metadata": {},
   "outputs": [
    {
     "data": {
      "image/png": "[encoded data removed]",
      "text/plain": [
       "<Figure size 360x360 with 6 Axes>"
      ]
     },
     "metadata": {
      "needs_background": "light"
     },
     "output_type": "display_data"
    }
   ],
   "source": [
    "sns.pairplot(pd.DataFrame(X_normalized));"
   ]
  },
  {
   "cell_type": "markdown",
   "metadata": {
    "collapsed": true
   },
   "source": [
    "## Kmeans clustering"
   ]
  },
  {
   "cell_type": "code",
   "execution_count": 25,
   "metadata": {},
   "outputs": [
    {
     "data": {
      "text/plain": [
       "array([0, 1, 1, 1, 0, 1, 0, 1, 1, 1, 1, 1, 0, 1, 1, 0, 0, 0, 1, 0, 0, 1,\n",
       "       1, 1, 0, 0, 1, 0, 0, 1, 1, 1, 0, 0, 1, 1, 0, 0, 0, 0, 1, 1, 0, 0,\n",
       "       0, 1, 1, 1, 0, 0, 1, 1, 1, 1, 0, 1, 1, 1, 1, 1, 0, 0, 0, 1, 0, 0,\n",
       "       1, 0, 0, 0, 1, 0, 0, 0, 0, 0, 1, 0, 0, 1, 0, 1, 0, 1, 0, 0, 1, 0,\n",
       "       0, 1, 0, 1, 0, 0, 1, 1, 1, 1, 1, 0, 0, 1, 1, 1, 1, 0, 1, 0, 1, 0,\n",
       "       1, 0, 1, 1, 0, 1, 0, 1, 0, 1, 1, 0, 0, 0, 1, 1, 1, 1, 1, 0, 1, 0,\n",
       "       0, 1, 0, 0, 0, 0, 0, 1, 1, 0, 1, 0, 0, 1, 1, 1, 1, 0, 0, 1, 0, 0,\n",
       "       1, 1, 0, 1, 0, 0, 1, 1, 0, 0, 0, 1, 0, 1, 0, 1, 1, 0, 0, 1, 1, 1,\n",
       "       0, 0, 0, 0, 1, 0, 0, 0, 0, 0, 1, 1, 1, 0, 1, 0, 0, 0, 1, 0, 0, 1,\n",
       "       0, 0, 1, 0, 0, 1, 1, 0, 0, 1, 0, 0, 1, 0, 0, 0, 0, 1, 0, 1, 0, 0,\n",
       "       0, 1, 1, 1, 0, 0, 0, 1, 0, 1, 1, 0, 1, 1, 0, 1, 0, 0, 0, 0, 1, 0,\n",
       "       0, 0, 0, 1, 0, 0, 0, 1, 0, 0, 0, 0, 0, 1, 0, 0, 0, 0, 0, 0, 0, 1,\n",
       "       1, 0, 1, 0, 0, 1, 0, 0, 0, 0, 0, 0, 1, 0, 1, 0, 0, 1, 1, 1, 1, 0,\n",
       "       0, 0, 1, 0, 1, 0, 0, 0, 1, 0, 0, 1, 0, 1, 1, 0, 0, 1, 0, 1, 1, 0,\n",
       "       1, 1, 1, 0, 0, 1, 1, 1, 1, 0, 1, 0, 0, 0, 0, 0, 0, 1, 1, 0, 0, 0,\n",
       "       1, 0, 1, 0, 1, 1, 1, 0, 0, 1, 0, 0, 0, 1, 0, 0, 1, 1, 1, 0, 0, 1,\n",
       "       1, 1, 0, 1], dtype=int32)"
      ]
     },
     "execution_count": 25,
     "metadata": {},
     "output_type": "execute_result"
    }
   ],
   "source": [
    "from sklearn.cluster import KMeans\n",
    "\n",
    "#kmeans = KMeans(n_clusters=2, init='k-means++', random_state=0, n_jobs=-1).fit(popularity_civil_conflict_pd_minmax)\n",
    "#popularity_civil_conflict_pd\n",
    "kmeans = KMeans(n_clusters=2, init='k-means++', random_state=0, n_jobs=-1).fit(\n",
    "    X_normalized)\n",
    "# fit_predict\n",
    "kmeans.labels_"
   ]
  },
  {
   "cell_type": "code",
   "execution_count": 26,
   "metadata": {},
   "outputs": [
    {
     "data": {
      "image/png": "[encoded data removed]",
      "text/plain": [
       "<Figure size 432x288 with 1 Axes>"
      ]
     },
     "metadata": {},
     "output_type": "display_data"
    }
   ],
   "source": [
    "h = .02     # point in the mesh [x_min, x_max]x[y_min, y_max].\n",
    "reduced_data = X_normalized #popularity_civil_conflict_pd_minmax\n",
    "# Plot the decision boundary. For that, we will assign a color to each\n",
    "x_min, x_max = reduced_data[:, 0].min() - 1, reduced_data[:, 0].max() + 1\n",
    "y_min, y_max = reduced_data[:, 1].min() - 1, reduced_data[:, 1].max() + 1\n",
    "xx, yy = np.meshgrid(np.arange(x_min, x_max, h), np.arange(y_min, y_max, h))\n",
    "\n",
    "# Obtain labels for each point in mesh. Use last trained model.\n",
    "Z = kmeans.predict(np.c_[xx.ravel(), yy.ravel()])\n",
    "\n",
    "# Put the result into a color plot\n",
    "Z = Z.reshape(xx.shape)\n",
    "plt.figure(1)\n",
    "plt.clf()\n",
    "plt.imshow(Z, interpolation='nearest',\n",
    "           extent=(xx.min(), xx.max(), yy.min(), yy.max()),\n",
    "           cmap=plt.cm.Paired,\n",
    "           aspect='auto', origin='lower')\n",
    "\n",
    "plt.plot(reduced_data[:, 0], reduced_data[:, 1], 'k.', markersize=2)\n",
    "# Plot the centroids as a white X\n",
    "centroids = kmeans.cluster_centers_\n",
    "plt.scatter(centroids[:, 0], centroids[:, 1],\n",
    "            marker='x', s=169, linewidths=3,\n",
    "            color='w', zorder=10)\n",
    "plt.title('K-means clustering on the digits dataset \\n'\n",
    "          'Centroids are marked with white cross')\n",
    "plt.xlim(x_min, x_max)\n",
    "plt.ylim(y_min, y_max)\n",
    "plt.xticks(())\n",
    "plt.yticks(())\n",
    "plt.show()"
   ]
  },
  {
   "cell_type": "code",
   "execution_count": null,
   "metadata": {},
   "outputs": [],
   "source": []
  }
 ],
 "metadata": {
  "kernelspec": {
   "display_name": "Python [conda env:ada]",
   "language": "python",
   "name": "conda-env-ada-py"
  },
  "language_info": {
   "codemirror_mode": {
    "name": "ipython",
    "version": 3
   },
   "file_extension": ".py",
   "mimetype": "text/x-python",
   "name": "python",
   "nbconvert_exporter": "python",
   "pygments_lexer": "ipython3",
   "version": "3.6.6"
  }
 },
 "nbformat": 4,
 "nbformat_minor": 2
}
