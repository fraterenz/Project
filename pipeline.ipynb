{
 "cells": [
  {
   "cell_type": "code",
   "execution_count": 1,
   "metadata": {},
   "outputs": [],
   "source": [
    "import findspark\n",
    "findspark.init()\n",
    "\n",
    "import wptools\n",
    "import pyspark\n",
    "import pyspark.sql\n",
    "from pyspark.sql import *\n",
    "import os.path\n",
    "from pyspark.sql.functions import desc\n",
    "\n",
    "from pyspark.sql import dataframe\n",
    "from pyspark.sql import functions as F\n",
    "\n",
    "from pyspark.sql import SparkSession\n",
    "from pyspark import SparkContext\n",
    "from pyspark.sql import SQLContext\n",
    "\n",
    "spark = SparkSession.builder.getOrCreate()\n",
    "sc = spark.sparkContext\n",
    "\n",
    "from pyspark.sql import SQLContext\n",
    "sqlContext = SQLContext(sc)"
   ]
  },
  {
   "cell_type": "code",
   "execution_count": 61,
   "metadata": {},
   "outputs": [],
   "source": [
    "import re\n",
    "import pandas as pd\n",
    "import matplotlib.pyplot as plt\n",
    "import hashlib\n",
    "\n",
    "%matplotlib inline\n",
    "\n",
    "# import get_ref_info.py\n",
    "import os\n",
    "import sys\n",
    "my_fun = './utils/'\n",
    "if my_fun not in sys.path:\n",
    "    sys.path.append(my_fun)\n",
    "    \n",
    "from get_ref_info import *\n",
    "from operator import add\n",
    "\n",
    "try:\n",
    "    from urllib.parse import urlparse\n",
    "except ImportError:\n",
    "     from urlparse import urlparse\n",
    "\n",
    "import seaborn as sns\n",
    "import numpy as np\n",
    "from pyspark.sql.functions import regexp_replace, col\n",
    "\n",
    "import time\n",
    "from datetime import timedelta, date\n",
    "from mwviews.api import PageviewsClient\n",
    "from collections import OrderedDict\n",
    "DATA_DIR = './data/data_processed/' \n",
    "\n",
    "sc.addPyFile(\"./utils/get_ref_info.py\")"
   ]
  },
  {
   "cell_type": "markdown",
   "metadata": {},
   "source": [
    "# Loading data "
   ]
  },
  {
   "cell_type": "markdown",
   "metadata": {},
   "source": [
    "**File schema** is shown."
   ]
  },
  {
   "cell_type": "code",
   "execution_count": 3,
   "metadata": {},
   "outputs": [
    {
     "name": "stdout",
     "output_type": "stream",
     "text": [
      "root\n",
      " |-- id: long (nullable = true)\n",
      " |-- ns: long (nullable = true)\n",
      " |-- restrictions: string (nullable = true)\n",
      " |-- revision: struct (nullable = true)\n",
      " |    |-- comment: struct (nullable = true)\n",
      " |    |    |-- _VALUE: string (nullable = true)\n",
      " |    |    |-- _deleted: string (nullable = true)\n",
      " |    |-- contributor: struct (nullable = true)\n",
      " |    |    |-- _VALUE: string (nullable = true)\n",
      " |    |    |-- _deleted: string (nullable = true)\n",
      " |    |    |-- id: long (nullable = true)\n",
      " |    |    |-- ip: string (nullable = true)\n",
      " |    |    |-- username: string (nullable = true)\n",
      " |    |-- format: string (nullable = true)\n",
      " |    |-- id: long (nullable = true)\n",
      " |    |-- minor: string (nullable = true)\n",
      " |    |-- model: string (nullable = true)\n",
      " |    |-- parentid: long (nullable = true)\n",
      " |    |-- sha1: string (nullable = true)\n",
      " |    |-- text: struct (nullable = true)\n",
      " |    |    |-- _VALUE: string (nullable = true)\n",
      " |    |    |-- _xml:space: string (nullable = true)\n",
      " |    |-- timestamp: string (nullable = true)\n",
      " |-- title: string (nullable = true)\n",
      " |-- categories: string (nullable = true)\n",
      " |-- good_categories: boolean (nullable = true)\n",
      "\n"
     ]
    }
   ],
   "source": [
    "WIKIPEDIA_CONFLICTS_PARQUET = DATA_DIR + 'selectedAllConflict.parquet'\n",
    "\n",
    "# loading the saved parquet files\n",
    "wikipedia_ = spark.read.parquet(WIKIPEDIA_CONFLICTS_PARQUET)\n",
    "# show file schema\n",
    "wikipedia_.printSchema()"
   ]
  },
  {
   "cell_type": "code",
   "execution_count": 4,
   "metadata": {},
   "outputs": [
    {
     "name": "stdout",
     "output_type": "stream",
     "text": [
      "Number of articles: 18782\n"
     ]
    }
   ],
   "source": [
    "# how many articles are there?\n",
    "print(\"Number of articles: {}\".format(wikipedia_.count()))"
   ]
  },
  {
   "cell_type": "markdown",
   "metadata": {},
   "source": [
    "---\n",
    "\n",
    "# Article outliers removal\n",
    "\n",
    "We have some outliers we need to deal with, as a first step we use keywords (**\"war, riot, conflict, protest, revolt, operation, attack, annexation, genocide, insurgency, crisis, confrontation, clash\"**) on the article titles to extract from our chosen categories (`civilian attack`, `civil conflict`, `military conflict`).\n",
    "\n",
    "For example, we found that some articles in `civilian attack` may contain the infobox `civilian attack` but are not really a `civilian attack`. The following page \n",
    "\n",
    "> Fraunces Tavern: Fraunces Tavern is a landmark museum and restaurant in New York City, situated at 54 Pearl Street at the corner of Broad Street. The location played a prominent role in history before, during and after the American Revolution, serving as a headquarters for George Washington, a venue for peace negotiations with the British, and housing federal offices in the Early Republic.\n",
    "\n",
    "Since some pages are considered **outliers**, we remove them using the method described above and remove any disambiguations."
   ]
  },
  {
   "cell_type": "code",
   "execution_count": 5,
   "metadata": {},
   "outputs": [
    {
     "name": "stdout",
     "output_type": "stream",
     "text": [
      "Number of articles without outliers: 5651\n"
     ]
    }
   ],
   "source": [
    "# filter out outliers\n",
    "outlier_regex = \"war*|battle*|siege*|campaign*|riot*|conflict*|protest*|revolt*|operation*|attack*|annexation*|genocide*|insurgency*|crisis*|confrontation*|clash*\"\n",
    "wikipedia = wikipedia_.filter(~F.lower(wikipedia_['title']).rlike(outlier_regex))\n",
    "print(\"Number of articles without outliers: {}\".format(wikipedia.count()))\n",
    "\n",
    "wikipedia = wikipedia.filter(\"lower(revision.text._VALUE) not like '%{disambiguation}%'\")\n",
    "# save in parquet\n",
    "wikipedia.write.parquet(DATA_DIR+\"wikipedia_no_outliers.parquet\")\n",
    "# load from parquet so that the rest of notebook uses cleaned version of data\n",
    "wikipedia = spark.read.parquet(DATA_DIR+\"wikipedia_no_outliers.parquet\")\n",
    "\n",
    "#problema dei filters: già mancano battle, campaign, siege, ... In più ci sono cose tipo https://en.wikipedia.org/wiki/Falaise_Pocket che dovrebbero rimanere incluse"
   ]
  },
  {
   "cell_type": "markdown",
   "metadata": {},
   "source": [
    "Alternativa per gli outliers ditemi cosa ne pensate"
   ]
  },
  {
   "cell_type": "code",
   "execution_count": 5,
   "metadata": {},
   "outputs": [],
   "source": [
    "wikipedia = spark.read.parquet(WIKIPEDIA_CONFLICTS_PARQUET)"
   ]
  },
  {
   "cell_type": "code",
   "execution_count": 6,
   "metadata": {},
   "outputs": [],
   "source": [
    "regex = r\"([A-z].+?(?=,)|[A-z].*?$)\"\n",
    "cat_regex = re.compile(regex,re.IGNORECASE);"
   ]
  },
  {
   "cell_type": "code",
   "execution_count": 7,
   "metadata": {},
   "outputs": [],
   "source": [
    "categories = [];\n",
    "def extr_categories(text):\n",
    "    global categories\n",
    "    categories = categories + cat_regex.findall(text);"
   ]
  },
  {
   "cell_type": "code",
   "execution_count": 8,
   "metadata": {},
   "outputs": [],
   "source": [
    "categories = [];\n",
    "for i in wikipedia.select(F.lower(col('categories')).alias('categories')).collect(): #lcase\n",
    "    extr_categories(i[0])"
   ]
  },
  {
   "cell_type": "code",
   "execution_count": 9,
   "metadata": {},
   "outputs": [
    {
     "name": "stdout",
     "output_type": "stream",
     "text": [
      "['mountain range', 'protected area', 'milit', 'islands', 'historical event', 'newspaper', 'east asian', 'building', 'event', 'monarch', 'united states district court case', 'korean name', 'historic building', 'aircraft incident', 'television', 'nrhp', 'australian place', 'book', 'military conflict', 'civilian attack', 'airport', 'ship begin', 'protected area', 'military person', 'monument', 'news event', 'murderer', 'pahistoric', 'airliner accident', 'legislature', 'operational plan', 'court case', 'subbox = yes', 'service record', 'person', 'aircraft occurrence', 'military conflict  <', 'legislation', 'former country', 'military person', 'ship image', 'treaty', 'military structure', 'mass murderer', 'law enforcement agency', 'nrhp', 'holiday', 'shopping mall', 'film', 'ship career', 'former subdivision', 'uk feature', 'greek dimos', 'football match', 'military operation', 'historic site', 'person', 'national military', 'east asian name', 'election', 'ship characteristics', 'school', 'holiday', 'ancient site', 'park', 'country', 'tv channel', 'terrorist attack', 'musical artist', 'criminal', 'person/height', 'nobility', 'military conflict', 'civil conflict', 'museum', 'decat = yes', 'saint', 'criminal', 'criminal organization', 'bilateral relations', 'university', 'organization', 'military unit', 'officeholder', 'military memorial', 'chinese', 'referendum', 'serial killer', 'settlement', 'nobility', 'un resolution', 'police officer']\n"
     ]
    }
   ],
   "source": [
    "categories_unique = list(set(categories))\n",
    "categories_map = map(str.strip, [str(i) for i in categories_unique])\n",
    "print(list(categories_map))"
   ]
  },
  {
   "cell_type": "code",
   "execution_count": 16,
   "metadata": {},
   "outputs": [],
   "source": [
    "mainCategories = ['civil conflict','military conflict','civilian attack']\n",
    "\n",
    "filteredCategoryMap=[]\n",
    "for i in categories_map:\n",
    "    if not any(s in i for s in mainCategories):\n",
    "        if i == 'milit': #Battle of Tolbiac give a problem because of a umlaut\n",
    "            continue\n",
    "        filteredCategoryMap+=[i];\n",
    "\n",
    "filteredCategoryMap = list(set(filteredCategoryMap))\n",
    "#create a dynamic regex\n",
    "forReg = '|'.join(filteredCategoryMap);"
   ]
  },
  {
   "cell_type": "code",
   "execution_count": 11,
   "metadata": {
    "scrolled": true
   },
   "outputs": [
    {
     "data": {
      "text/plain": [
       "18782"
      ]
     },
     "execution_count": 11,
     "metadata": {},
     "output_type": "execute_result"
    }
   ],
   "source": [
    "wikiExtraCat = wikipedia.filter(F.lower(wikipedia.categories).rlike(forReg))\n",
    "wikiExtraCat.count()"
   ]
  },
  {
   "cell_type": "markdown",
   "metadata": {},
   "source": [
    "questo vuole dire che ci sono **345** articoli che hanno **anche altre categorie**, non sono molti volendo potremmo scartarli già tutti"
   ]
  },
  {
   "cell_type": "code",
   "execution_count": 12,
   "metadata": {},
   "outputs": [
    {
     "data": {
      "text/plain": [
       "109"
      ]
     },
     "execution_count": 12,
     "metadata": {},
     "output_type": "execute_result"
    }
   ],
   "source": [
    "outliers_categories = ['police officer','person','tv channel','historic building',\n",
    "                       'service record','ship career','news event','legislature'\n",
    "                       'national military','islands','shopping mall',\n",
    "                       'museum','legislation','referendum',\n",
    "                       'nobility','serial killer','officeholder','decat = yes',\n",
    "                       'television','newspaper','former subdivision','film',\n",
    "                       'book','bilateral relations','monarch','building','organization']\n",
    "\n",
    "wikipedia.select(\"id\",\"title\",\"categories\", \"revision\").filter(F.lower(wikipedia.categories).rlike('|'.join(outliers_categories))).count()"
   ]
  },
  {
   "cell_type": "markdown",
   "metadata": {},
   "source": [
    "e alla fine scartiamo solo 109 articoli... boh non saprei, secondo me ci siamo dai"
   ]
  },
  {
   "cell_type": "code",
   "execution_count": 13,
   "metadata": {},
   "outputs": [
    {
     "data": {
      "text/plain": [
       "18673"
      ]
     },
     "execution_count": 13,
     "metadata": {},
     "output_type": "execute_result"
    }
   ],
   "source": [
    "wikipedia = wikipedia.select(\"id\",\"title\",\"categories\",\"revision\").filter(~F.lower(wikipedia.categories).rlike('|'.join(outliers_categories)))\n",
    "wikipedia.count()"
   ]
  },
  {
   "cell_type": "code",
   "execution_count": 14,
   "metadata": {},
   "outputs": [
    {
     "name": "stdout",
     "output_type": "stream",
     "text": [
      "root\n",
      " |-- id: long (nullable = true)\n",
      " |-- title: string (nullable = true)\n",
      " |-- categories: string (nullable = true)\n",
      " |-- revision: struct (nullable = true)\n",
      " |    |-- comment: struct (nullable = true)\n",
      " |    |    |-- _VALUE: string (nullable = true)\n",
      " |    |    |-- _deleted: string (nullable = true)\n",
      " |    |-- contributor: struct (nullable = true)\n",
      " |    |    |-- _VALUE: string (nullable = true)\n",
      " |    |    |-- _deleted: string (nullable = true)\n",
      " |    |    |-- id: long (nullable = true)\n",
      " |    |    |-- ip: string (nullable = true)\n",
      " |    |    |-- username: string (nullable = true)\n",
      " |    |-- format: string (nullable = true)\n",
      " |    |-- id: long (nullable = true)\n",
      " |    |-- minor: string (nullable = true)\n",
      " |    |-- model: string (nullable = true)\n",
      " |    |-- parentid: long (nullable = true)\n",
      " |    |-- sha1: string (nullable = true)\n",
      " |    |-- text: struct (nullable = true)\n",
      " |    |    |-- _VALUE: string (nullable = true)\n",
      " |    |    |-- _xml:space: string (nullable = true)\n",
      " |    |-- timestamp: string (nullable = true)\n",
      "\n"
     ]
    }
   ],
   "source": [
    "wikipedia.printSchema()"
   ]
  },
  {
   "cell_type": "code",
   "execution_count": 15,
   "metadata": {},
   "outputs": [],
   "source": [
    "# save to binary files \n",
    "wikipedia.write.mode('overwrite').parquet(\"data/data_processed/wikipedia_no_outliers.parquet\");"
   ]
  },
  {
   "cell_type": "markdown",
   "metadata": {},
   "source": [
    "We explore how many articles have each **keyword** selected in the given keywords. "
   ]
  },
  {
   "cell_type": "code",
   "execution_count": 51,
   "metadata": {},
   "outputs": [
    {
     "data": {
      "image/png": "[encoded data removed]",
      "text/plain": [
       "<Figure size 1080x504 with 1 Axes>"
      ]
     },
     "metadata": {
      "needs_background": "light"
     },
     "output_type": "display_data"
    }
   ],
   "source": [
    "keyword_wikipedia = spark.read.parquet(DATA_DIR+\"wikipedia_no_outliers.parquet\")\n",
    "\n",
    "titles = outlier_regex.split('|')\n",
    "\n",
    "titles_count = pd.DataFrame(np.zeros((len(titles), )), index=titles, columns=['count'])\n",
    "# computationally less expansive\n",
    "wiki_titles = keyword_wikipedia.select('title')\n",
    "\n",
    "# count the titles that contains titles\n",
    "for ele in titles:\n",
    "    titles_count.loc[ele] = wiki_titles.filter(wiki_titles.title.rlike(ele)).count()\n",
    "\n",
    "    \n",
    "titles_count['count'] = titles_count['count']*100/titles_count['count'].sum()  \n",
    "f, ax1 = plt.subplots()\n",
    "plt.sca(ax1)\n",
    "sns.barplot(\n",
    "    x='count', y=titles_count.index, data=titles_count.sort_values('count', ascending=False), \n",
    "    orient='h', palette=\"RdPu\"\n",
    ");\n",
    "\n",
    "plt.xlabel('Percentage of articles [%]',fontsize=18)\n",
    "plt.ylabel('Keyword',fontsize=18)\n",
    "f.suptitle('Bar plot of percentage of articles for each keyword', fontsize=20)\n",
    "f.set_size_inches(15, 7)\n",
    "plt.show()"
   ]
  },
  {
   "cell_type": "markdown",
   "metadata": {},
   "source": [
    "**Bar plot of percentage of articles for each keyword.** \n",
    "\n",
    "We can see that the keyword `war, riot` together make up for ~50% of the articles. Very little articles are associated to `clash` or `confrontation`."
   ]
  },
  {
   "cell_type": "markdown",
   "metadata": {},
   "source": [
    "---\n",
    "# Quantifying *importance* of each page in each category\n",
    "\n",
    "We want to see how *important* each page is in each category. As we are solely focusing on *'war'*-related subjects in this pilot phase, we define *page importance* by the number of deaths. \n",
    "\n",
    "## Infobox or Wikidata per category \n",
    "\n",
    "Functions `get_wiki_civilian_attack`, `get_wiki_military_conflict`\n",
    "to get relevant information and views for each category: `civilian attack`, `military conflict`. \n",
    "Data is obtained either using the page's wikidata is the data exists or acquired through infobox parsing.\n",
    "Relevant information is chosen based on the fields found on [List of infoboxes and fields](https://en.wikipedia.org/wiki/Wikipedia:List_of_infoboxes#Event) \n",
    "\n",
    "Extract info for each category in **Infobox**:\n",
    "* `civilian attack`\n",
    "    * location\n",
    "    * date \n",
    "    * fatalities\n",
    "* `military conflict`\n",
    "    * place\n",
    "    * date \n",
    "    * casualities1\n",
    "* `civil conflict`\n",
    "    * place\n",
    "    * date \n",
    "    * casualities1\n",
    "    \n",
    "Extract info for each category in **Wikidata**:\n",
    "* `civilian attack`\n",
    "    * location\n",
    "    * date \n",
    "    * fatalities\n",
    "* `military conflict`\n",
    "    * 'number of deaths (P1120)']['amount']\n",
    "    * 'end time (P582)'\n",
    "    * 'location (P276)'\n",
    "* `civil conflict`\n",
    "    * 'number of deaths (P1120)']['amount']\n",
    "    * 'end time (P582)'\n",
    "    * 'location (P276)'\n",
    "    \n",
    "We use an external library [wptools wiki](https://github.com/siznax/wptools/wiki) to help us parse the data. \n",
    "\n",
    "### Categories\n",
    "We focus on categories : `civilian attack`, `military conflict`, `civil conflict` from our pre-filtered wikipedia dump data which had 3 categories: `civilian attack`, `military conflict`, `civil conflict` (key words we used via regex expression to extract articles containing infoboxes with such headers by parsing the revision.text.__VALUE). \n",
    "\n",
    "We also found a list of all ongoing civil wars listed on [wikipedia](https://en.wikipedia.org/wiki/List_of_civil_wars#Ongoing_civil_wars) have a `Template:Infobox military`. This may be of interest in a later step.\n",
    "\n",
    "[List of ongoing civil wars](https://en.wikipedia.org/wiki/List_of_civil_wars#Ongoing_civil_wars):\n",
    " * Myanmar, Internal conflict in Myanmar, since 1948\n",
    " * Indonesia, Papua conflict, since 1962\n",
    " * Colombia, Colombian conflict, since 1964\n",
    " * Afghanistan, War in Afghanistan, since 1978\n",
    " * Turkey, Kurdish–Turkish conflict since 1978\n",
    " * Somalia, Somali Civil War, since 1988\n",
    " * Sudan, three conflicts\n",
    "* War in Darfur, since 26 February 2003\n",
    "* Sudanese nomadic conflicts, since 26 May 2009 through at least 2017\n",
    "* Sudanese conflict in South Kordofan and Blue Nile since 5 June 2011\n",
    " * Pakistan, War in North-West Pakistan, since 16 March 2004\n",
    " * Paraguay, Paraguayan People's Army insurgency, since 2005\n",
    " * Syria, Syrian Civil War, since 15 March 2011, also see List of armed groups in the Syrian Civil War\n",
    " * Central African Republic, Central African Republic conflict, since 10 December 2012\n",
    " * South Sudan, South Sudanese Civil War, since 15 December 2013\n",
    " * Libya, Second Libyan Civil War, since 16 May 2014\n",
    " * Yemen, Second Yemeni Civil War, since 19 March 2015"
   ]
  },
  {
   "cell_type": "code",
   "execution_count": 4,
   "metadata": {
    "collapsed": true
   },
   "outputs": [],
   "source": [
    "def get_wiki_military_conflict(entity):\n",
    "    page = wptools.page(pageid=entity.id)\n",
    "    # extract relevant information and put in dictionary\n",
    "    info = {'death': None, 'end_date': None, 'location': None}\n",
    "    try:\n",
    "        page.get_parse()\n",
    "    except:\n",
    "        return Row(id=entity.id, death=info['death'],\n",
    "               end_date=info['end_date'], location=info['location'])\n",
    "    \n",
    "    try: \n",
    "        page.get_wikidata()\n",
    "        info['death'] = page.data['wikidata']['number of deaths (P1120)']['amount']\n",
    "    \n",
    "    except:\n",
    "        try:\n",
    "            info['death'] = page.data['infobox']['casualties1']\n",
    "        except:\n",
    "            info['death'] = None\n",
    "            \n",
    "    try:\n",
    "        info['end_date'] = page.data['wikidata']['end time (P582)']\n",
    "    except:\n",
    "        try:\n",
    "            info['end_date'] = page.data['infobox']['date']\n",
    "        except:\n",
    "            info['end_date'] = None\n",
    "    \n",
    "    try:\n",
    "        info['location'] = page.data['wikidata']['location (P276)']\n",
    "    except:\n",
    "        try:\n",
    "            info['location'] = page.data['infobox']['place']\n",
    "        except:\n",
    "            info['location'] = None\n",
    "    \n",
    "    \n",
    "    return Row(id=entity.id, death=info['death'],\n",
    "               end_date=info['end_date'], location=info['location'])\n",
    "\n",
    "def get_wiki_civilian_attack(entity):\n",
    "    page = wptools.page(pageid=entity.id)\n",
    "    # extract relevant information and put in dictionary\n",
    "    info = {'death': None, 'end_date': None, 'location': None}\n",
    "    try:\n",
    "        page.get_parse()\n",
    "    except:\n",
    "        return Row(id=entity.id, death=info['death'],\n",
    "               end_date=info['end_date'], location=info['location'])\n",
    "    \n",
    "    try: \n",
    "        page.get_wikidata()\n",
    "        info['death'] = page.data['wikidata']['number of deaths (P1120)']['amount']\n",
    "    \n",
    "    except:\n",
    "        try:\n",
    "            info['death'] = page.data['infobox']['fatalities']\n",
    "        except:\n",
    "            info['death'] = None\n",
    "            \n",
    "    try:\n",
    "        info['end_date'] = page.data['wikidata']['end time (P582)']\n",
    "    except:\n",
    "        try:\n",
    "            info['end_date'] = page.data['infobox']['date']\n",
    "        except:\n",
    "            info['end_date'] = None\n",
    "    \n",
    "    try:\n",
    "        info['location'] = page.data['wikidata']['location (P276)']\n",
    "    except:\n",
    "        try:\n",
    "            info['location'] = page.data['infobox']['location']\n",
    "        except:\n",
    "            info['location'] = None\n",
    "    \n",
    "    \n",
    "    return Row(id=entity.id, death=info['death'],\n",
    "               end_date=info['end_date'], location=info['location'])"
   ]
  },
  {
   "cell_type": "code",
   "execution_count": 3,
   "metadata": {
    "collapsed": true
   },
   "outputs": [],
   "source": [
    "from pyspark.sql.types import *"
   ]
  },
  {
   "cell_type": "markdown",
   "metadata": {},
   "source": [
    "### Wikidata & Infobox `military conflict `"
   ]
  },
  {
   "cell_type": "code",
   "execution_count": 117,
   "metadata": {
    "collapsed": true
   },
   "outputs": [],
   "source": [
    "infobox_military_conflict = 'military conflict'\n",
    "# find all pages that have category military conflict\n",
    "wiki_military_conflict = wikipedia.where(\"categories like '%{}%'\".format(infobox_military_conflict)) "
   ]
  },
  {
   "cell_type": "code",
   "execution_count": 119,
   "metadata": {},
   "outputs": [
    {
     "data": {
      "text/plain": [
       "14158"
      ]
     },
     "execution_count": 119,
     "metadata": {},
     "output_type": "execute_result"
    }
   ],
   "source": [
    "df = wiki_military_conflict.select(\"id\");\n",
    "df.count()"
   ]
  },
  {
   "cell_type": "code",
   "execution_count": 7,
   "metadata": {
    "collapsed": true
   },
   "outputs": [],
   "source": [
    "%%capture\n",
    "wiki_military_conflict_rows = [get_wiki_military_conflict(i) for i in df.collect()];"
   ]
  },
  {
   "cell_type": "code",
   "execution_count": 9,
   "metadata": {
    "collapsed": true
   },
   "outputs": [],
   "source": [
    "schema = StructType([StructField('death', StringType()),StructField('end_date', StringType()),\n",
    "                     StructField('id', IntegerType()),StructField('location', StringType())])"
   ]
  },
  {
   "cell_type": "code",
   "execution_count": 10,
   "metadata": {},
   "outputs": [
    {
     "name": "stdout",
     "output_type": "stream",
     "text": [
      "root\n",
      " |-- death: string (nullable = true)\n",
      " |-- end_date: string (nullable = true)\n",
      " |-- id: integer (nullable = true)\n",
      " |-- location: string (nullable = true)\n",
      "\n",
      "+--------------------+--------------------+------+--------------------+\n",
      "|               death|            end_date|    id|            location|\n",
      "+--------------------+--------------------+------+--------------------+\n",
      "|Some injuries, no...|    August 1–2, 1946|655845|   Athens (Q3292481)|\n",
      "|{{ubl|1 light cru...|{{start date|1940...|656035|    Calabria (Q1458)|\n",
      "|1,432 killed in c...|+1912-10-18T00:00...|656087|Vilayet of Tripol...|\n",
      "|approx. 1,000 killed|+1919-08-08T00:00...|656173|[[North-West Fron...|\n",
      "|Total fatalities ...|+1880-00-00T00:00...|656175|[Emirate of Afgha...|\n",
      "|                null|July 1778 – Febru...|656473|Illinois Country ...|\n",
      "|250–300 casualtie...|    2–5 October 1939|659156|      Kock (Q991819)|\n",
      "|         '''1,900'''|{{Start date|1864...|659506|Fulton County (Q4...|\n",
      "|                null|1961–1990 (29 years)|661656|    Nicaragua (Q811)|\n",
      "|               1,700|+1799-06-05T00:00...|662583|        Zürich (Q72)|\n",
      "|33 casualties<br>...|+1940-02-27T00:00...|662788|Karelian Isthmus ...|\n",
      "|'''United States'...|+1944-08-21T00:00...|664348|   Normandy (Q15878)|\n",
      "|             Unknown|+1799-05-21T00:00...|665071|Acre, [[Sidon Eya...|\n",
      "|All the men in th...|      August 15, 778|666938|Roncevaux Pass (Q...|\n",
      "|{{plainlist |\n",
      "* 4...|        June 6, 1944|667813|La Madeleine, Man...|\n",
      "|1,000–1,100 (350 ...|         6 June 1944|667826|Arromanches-les-B...|\n",
      "| 13 soldiers killed.|+2004-06-01T00:00...|668141| Gaza Strip (Q39760)|\n",
      "|'''Frieser, Zette...|+1944-02-17T00:00...|672675|  Cherkasy (Q157055)|\n",
      "|{{flagicon image|...|+1971-12-16T00:00...|672766|East Pakistan (Q8...|\n",
      "|4,140 dead or wou...|        16 June 1815|675526|[Quatre Bras (Q21...|\n",
      "+--------------------+--------------------+------+--------------------+\n",
      "only showing top 20 rows\n",
      "\n"
     ]
    }
   ],
   "source": [
    "wiki_military_attack_df = spark.createDataFrame(wiki_military_conflict_rows, schema)\n",
    "\n",
    "wiki_military_attack_df.printSchema()\n",
    "wiki_military_attack_df.show()"
   ]
  },
  {
   "cell_type": "code",
   "execution_count": 11,
   "metadata": {
    "collapsed": true
   },
   "outputs": [],
   "source": [
    "# saving binary file to future uses\n",
    "wiki_military_attack_df.write.mode('overwrite').parquet(\"data/data_processed/wiki_military_conflict_df.parquet\");"
   ]
  },
  {
   "cell_type": "markdown",
   "metadata": {},
   "source": [
    "### Wikidata & Infobox `civilian attack`"
   ]
  },
  {
   "cell_type": "code",
   "execution_count": 130,
   "metadata": {
    "collapsed": true
   },
   "outputs": [],
   "source": [
    "infobox_civilian_attack = 'civilian attack'\n",
    "# find all pages that have category civilian attack\n",
    "wiki_civilian_attack = wikipedia.where(\"categories like '%{}%'\".format(infobox_civilian_attack));"
   ]
  },
  {
   "cell_type": "code",
   "execution_count": 132,
   "metadata": {},
   "outputs": [
    {
     "data": {
      "text/plain": [
       "2468"
      ]
     },
     "execution_count": 132,
     "metadata": {},
     "output_type": "execute_result"
    }
   ],
   "source": [
    "df = wiki_civilian_attack.select(\"id\");\n",
    "df.count()"
   ]
  },
  {
   "cell_type": "code",
   "execution_count": 133,
   "metadata": {
    "collapsed": true
   },
   "outputs": [],
   "source": [
    "%%capture\n",
    "wiki_civilian_attack_rows = [get_wiki_civilian_attack(i) for i in df.collect()];"
   ]
  },
  {
   "cell_type": "code",
   "execution_count": 5,
   "metadata": {
    "collapsed": true
   },
   "outputs": [],
   "source": [
    "schema = StructType([StructField('id', IntegerType()),\n",
    "                     StructField('death', StringType()),StructField('end_date', StringType()),\n",
    "                     StructField('location', StringType())])"
   ]
  },
  {
   "cell_type": "code",
   "execution_count": 134,
   "metadata": {},
   "outputs": [
    {
     "name": "stdout",
     "output_type": "stream",
     "text": [
      "root\n",
      " |-- id: integer (nullable = true)\n",
      " |-- death: string (nullable = true)\n",
      " |-- end_date: string (nullable = true)\n",
      " |-- location: string (nullable = true)\n",
      "\n",
      "+-------+--------------------+--------------------+--------------------+\n",
      "|     id|               death|            end_date|            location|\n",
      "+-------+--------------------+--------------------+--------------------+\n",
      "| 676659|   500,000–1,000,000|7 April {{spaced ...|          [[Rwanda]]|\n",
      "| 683450|[[Patrick Argüell...|6– {{end date|df|...|     Zarqa (Q148062)|\n",
      "|1611176|        Up to 30,000|          April 1909|Adana Vilayet (Q1...|\n",
      "|1611202|     200,000–400,000|           1894–1896|Ottoman Empire (Q...|\n",
      "|1634876|10 (including the...|                null| Red Lake (Q1012803)|\n",
      "|1655234|                  +7|          1 May 2004|     Yanbu (Q466027)|\n",
      "|3119912|                  +1|    November 8, 2005|Jacksboro (Q2738438)|\n",
      "|3137442|Barbara Richardso...|{{start date|1981...|8763 Wonderland A...|\n",
      "|3177125|:16 (at least) \n",
      "*...|: August 14–16, 1908|: [[Springfield, ...|\n",
      "|1113569|       + / - 111,091|           1937–1938|Soviet Union (Q15...|\n",
      "|1120226|3,000,000 to 14,0...|                null|In and around Eas...|\n",
      "| 156496|       3,750 –30,000|3 January 1983 - ...|            Zimbabwe|\n",
      "| 158427|                 +45|{{start date and ...|   Acteal (Q1997045)|\n",
      "|  52268|460 to 3,500 (num...|16–18 September 1982|West [[Beirut]], ...|\n",
      "|  58376|                 +15|{{start date and ...|École Polytechniq...|\n",
      "|  59629|                 +18|{{Start date and ...|  Dunblane (Q614314)|\n",
      "|  59651|                 +17|       26 April 2002|Gutenberg-Gymnasi...|\n",
      "|  62638|                +642|{{date|10 June 19...|Oradour-sur-Glane...|\n",
      "|  65626|                 +15|      16 August 1819| Manchester (Q18125)|\n",
      "|  68292|                +504|       16 March 1968|  Son My (Q10823351)|\n",
      "+-------+--------------------+--------------------+--------------------+\n",
      "only showing top 20 rows\n",
      "\n"
     ]
    }
   ],
   "source": [
    "wiki_civilian_attack_df = spark.createDataFrame(wiki_civilian_attack_rows, schema)\n",
    "\n",
    "wiki_civilian_attack_df.printSchema()\n",
    "wiki_civilian_attack_df.show()"
   ]
  },
  {
   "cell_type": "code",
   "execution_count": 135,
   "metadata": {},
   "outputs": [
    {
     "data": {
      "text/plain": [
       "2468"
      ]
     },
     "execution_count": 135,
     "metadata": {},
     "output_type": "execute_result"
    }
   ],
   "source": [
    "wiki_civilian_attack_df.count()"
   ]
  },
  {
   "cell_type": "code",
   "execution_count": 136,
   "metadata": {
    "collapsed": true
   },
   "outputs": [],
   "source": [
    "# saving binary file to future uses\n",
    "wiki_civilian_attack_df.write.mode('overwrite').parquet(\"wiki_civilian_attack_df.parquet\");"
   ]
  },
  {
   "cell_type": "markdown",
   "metadata": {},
   "source": [
    "### Wikidata & Infobox `civil conflict`"
   ]
  },
  {
   "cell_type": "code",
   "execution_count": 137,
   "metadata": {
    "collapsed": true
   },
   "outputs": [],
   "source": [
    "infobox_civil_conflict = 'civil conflict'\n",
    "# find all pages that have category civilian attack\n",
    "wiki_civil_conflict = wikipedia.where(\"categories like '%{}%'\".format(infobox_civil_conflict)) "
   ]
  },
  {
   "cell_type": "code",
   "execution_count": 140,
   "metadata": {},
   "outputs": [
    {
     "data": {
      "text/plain": [
       "847"
      ]
     },
     "execution_count": 140,
     "metadata": {},
     "output_type": "execute_result"
    }
   ],
   "source": [
    "df = wiki_civil_conflict.select(\"id\");\n",
    "df.count()"
   ]
  },
  {
   "cell_type": "code",
   "execution_count": 141,
   "metadata": {
    "collapsed": true
   },
   "outputs": [],
   "source": [
    "%%capture\n",
    "wiki_civil_conflict_rows = [get_wiki_military_conflict(i) for i in df.collect()];"
   ]
  },
  {
   "cell_type": "code",
   "execution_count": 142,
   "metadata": {},
   "outputs": [
    {
     "name": "stdout",
     "output_type": "stream",
     "text": [
      "root\n",
      " |-- id: integer (nullable = true)\n",
      " |-- death: string (nullable = true)\n",
      " |-- end_date: string (nullable = true)\n",
      " |-- location: string (nullable = true)\n",
      "\n",
      "+-------+--------------------+--------------------+--------------------+\n",
      "|     id|               death|            end_date|            location|\n",
      "+-------+--------------------+--------------------+--------------------+\n",
      "| 661864|                null|11, 12 and 13 Sep...|[[Melbourne]], [[...|\n",
      "| 664490|'''Deaths''': 3<b...|  January–March 1912|[[Lawrence, Massa...|\n",
      "|1613199|                null|May 28 and July 2...|[[East St. Louis,...|\n",
      "|1619134|                null|February 24, 2005...|  [[Quebec]], Canada|\n",
      "|3138671|'''Shootout''':<b...|July 23–24, 1968 ...|[[Glenville, Clev...|\n",
      "|3158301|                null|            May 1971|[[Washington, D.C...|\n",
      "|1113889|                  +2|  August 19–21, 1991|[[Crown Heights, ...|\n",
      "| 152287|{{plainlist|\n",
      "*14 ...|[+1878-07-19T00:0...|[[Lincoln County,...|\n",
      "|  43573|                null|      April 21, 1855|[[Chicago, Illino...|\n",
      "|  44534|              +10454|+1989-06-04T00:00...|Tiananmen Square ...|\n",
      "|  49001|                null|+1968-00-00T00:00...|       United States|\n",
      "|1553191|                null|April 29 – May 4,...|[[Los Angeles Cou...|\n",
      "|1554342|                null|+2005-04-11T00:00...|      [[Kyrgyzstan]]|\n",
      "|1556708|                   0|14 February – 27 ...|[[Lebanon]] (espe...|\n",
      "|1456276|                null|                null|    [[West Germany]]|\n",
      "|1494771|                null|+2001-01-20T00:00...|     [[Philippines]]|\n",
      "|3798726|                null|         May 1, 1894| [[Cleveland]], Ohio|\n",
      "|1316143|          43 injured|28–30 September 1985|[[London Borough ...|\n",
      "|1322490|Policemen wounded...|15 December 2000 ...|city of [[Kiev]] ...|\n",
      "|1343424|                null|           1965—1985|       United States|\n",
      "+-------+--------------------+--------------------+--------------------+\n",
      "only showing top 20 rows\n",
      "\n"
     ]
    }
   ],
   "source": [
    "wiki_civil_conflict_df = spark.createDataFrame(wiki_civil_conflict_rows, schema)\n",
    "\n",
    "wiki_civil_conflict_df.printSchema()\n",
    "wiki_civil_conflict_df.show()"
   ]
  },
  {
   "cell_type": "code",
   "execution_count": 143,
   "metadata": {},
   "outputs": [
    {
     "data": {
      "text/plain": [
       "847"
      ]
     },
     "execution_count": 143,
     "metadata": {},
     "output_type": "execute_result"
    }
   ],
   "source": [
    "wiki_civil_conflict_df.count()"
   ]
  },
  {
   "cell_type": "code",
   "execution_count": 144,
   "metadata": {
    "collapsed": true
   },
   "outputs": [],
   "source": [
    "# saving binary file to future uses\n",
    "wiki_civil_conflict_df.write.mode('overwrite').parquet(\"wiki_civil_conflict_df.parquet\");"
   ]
  },
  {
   "cell_type": "markdown",
   "metadata": {},
   "source": [
    "---\n",
    "\n",
    "# Popularity Metrics\n",
    "\n",
    "## Loading the data"
   ]
  },
  {
   "cell_type": "code",
   "execution_count": 18,
   "metadata": {},
   "outputs": [
    {
     "name": "stdout",
     "output_type": "stream",
     "text": [
      "+------+--------------------+-----------------+--------------------+\n",
      "|    id|               title|       categories|            revision|\n",
      "+------+--------------------+-----------------+--------------------+\n",
      "|655845|Battle of Athens ...|military conflict|[, [,, 5175837,, ...|\n",
      "|656035|  Battle of Calabria|military conflict|[[link,], [,, 268...|\n",
      "|656087|   Italo-Turkish War|military conflict|[, [,,, 96.77.37....|\n",
      "|656173|Third Anglo-Afgha...|military conflict|[[Formatting.,], ...|\n",
      "|656175|Second Anglo-Afgh...|military conflict|[[/* 1879 */The B...|\n",
      "|656473|   Illinois campaign|military conflict|[[Moved images.,]...|\n",
      "|659156|Battle of Kock (1...|military conflict|[, [,, 29980587,,...|\n",
      "|659506|Battle of Peachtr...|military conflict|[[c/e.,], [,, 193...|\n",
      "|661656|Nicaraguan Revolu...|military conflict|[, [,, 33124044,,...|\n",
      "|661864|       S11 (protest)|   civil conflict|[[Rescuing 3 sour...|\n",
      "+------+--------------------+-----------------+--------------------+\n",
      "only showing top 10 rows\n",
      "\n"
     ]
    }
   ],
   "source": [
    "# Loading the data\n",
    "WIKIPEDIA_REFERENCES_PARQUET = DATA_DIR + \"wikipedia_no_outliers.parquet\"\n",
    "\n",
    "# loading the saved parquet files\n",
    "wikipedia_ref = spark.read.parquet(WIKIPEDIA_REFERENCES_PARQUET)\n",
    "wikipedia_ref.show(10)"
   ]
  },
  {
   "cell_type": "markdown",
   "metadata": {},
   "source": [
    "## POPULARITY METRIC 1\n",
    "\n",
    "### Get number of references per page\n",
    "\n",
    "We use our pre-filtered data and we count the number of tag of type ```<ref>```, by parsing all pages to get the number of references. We think that the more *popular* a page is, the more references it will contain.\n",
    "\n",
    "We want to see:\n",
    "* how many references a page has\n",
    "* what does the distribution of the references look like \n",
    "* what are the top domains across these articles \n",
    "* how many articles have a reference to each domain\n",
    "\n",
    "The analysis is based on work from *Research:Characterizing Wikipedia Citation Usage*: [MetaPageQueries](https://meta.wikimedia.org/wiki/Research:Characterizing_Wikipedia_Citation_Usage/First_Round_of_Analysis#Dimensions_of_Analysis)\n",
    "\n",
    "Example of reference format:\n",
    "```html\n",
    "<ref>{{cite web| url=http://geonames.nga.mil/ggmagaz/geonames4.asp \n",
    "    |title=NGA GeoName Database |publisher=[[National Geospatial Intelligence Agency]] \n",
    "    |accessdate=2008-07-05 \n",
    "    |archiveurl = https://web.archive.org/web/20080608190852/http://geonames.nga.mil/ggmagaz/geonames4.asp \n",
    "    <!-- Bot retrieved archive --> |archivedate = 2008-06-08}}</ref>\n",
    "```\n",
    "\n",
    "**quantify the number of references per page**\n",
    "    * using regex expression to find the references in the page\n",
    "    * counting the number of references"
   ]
  },
  {
   "cell_type": "code",
   "execution_count": 19,
   "metadata": {},
   "outputs": [],
   "source": [
    "# quantify the number of references per page\n",
    "\n",
    "# Compile a regular expression pattern into a regular expression object, \n",
    "#which can be used for matching using its findall.\n",
    "just_ref_regex = re.compile(r'<ref[^>]*[^\\/]>|<ref[ ]*>')\n",
    "\n",
    "# find # references <ref> per page \n",
    "def get_refs_count(entity, regex_expression=just_ref_regex ):\n",
    "    # get access to value in text in revision\n",
    "    text = entity.revision.text._VALUE\n",
    "    # find references\n",
    "    refs = just_ref_regex.findall(text)\n",
    "    return Row(id=entity.id, refs_count=len(refs), categories=entity.categories)"
   ]
  },
  {
   "cell_type": "code",
   "execution_count": 20,
   "metadata": {},
   "outputs": [
    {
     "name": "stdout",
     "output_type": "stream",
     "text": [
      "+-----------------+--------+----------+\n",
      "|       categories|      id|refs_count|\n",
      "+-----------------+--------+----------+\n",
      "|military conflict|52019122|      1000|\n",
      "|military conflict|46230181|       818|\n",
      "|military conflict|42563745|       734|\n",
      "|military conflict|43243199|       609|\n",
      "|military conflict|     771|       598|\n",
      "+-----------------+--------+----------+\n",
      "only showing top 5 rows\n",
      "\n"
     ]
    }
   ],
   "source": [
    "# get the # of references per page\n",
    "# Creates a DataFrame from an RDD, apply counting function with regex expression\n",
    "reference_count_page = sqlContext.createDataFrame(wikipedia_ref.rdd.map(get_refs_count))\n",
    "reference_count_page.sort('refs_count', ascending=False).show(5)\n",
    "reference_count_page_sql = reference_count_page.registerTempTable('reference_count_page_sql')"
   ]
  },
  {
   "cell_type": "code",
   "execution_count": 21,
   "metadata": {},
   "outputs": [
    {
     "name": "stdout",
     "output_type": "stream",
     "text": [
      "Number of articles with #references > 0: 15879\n"
     ]
    }
   ],
   "source": [
    "# quantify the # articles with # ref > 0: \n",
    "non_zero_ref_query = \"\"\"\n",
    "select count(DISTINCT id)\n",
    "from reference_count_page_sql\n",
    "where refs_count > 0\n",
    "\"\"\"\n",
    "non_zero_articles = spark.sql(non_zero_ref_query)\n",
    "\n",
    "non_zero_articles_pd = non_zero_articles.toPandas().iloc[0,0]\n",
    "print(\"Number of articles with #references > 0: \" + str(non_zero_articles_pd))"
   ]
  },
  {
   "cell_type": "markdown",
   "metadata": {},
   "source": [
    "**Distribution of number of references** We bin the number of references to get the number of pages having at least x #references. This is observed with a histogram plot."
   ]
  },
  {
   "cell_type": "code",
   "execution_count": 22,
   "metadata": {},
   "outputs": [
    {
     "data": {
      "image/png": "[encoded data removed]",
      "text/plain": [
       "<Figure size 864x504 with 1 Axes>"
      ]
     },
     "metadata": {
      "needs_background": "light"
     },
     "output_type": "display_data"
    }
   ],
   "source": [
    "just_refs_count = reference_count_page.select('refs_count').toPandas()\n",
    "just_refs_count.plot(kind=\"hist\", bins=100, \n",
    "                     figsize=(12,7), title=\"Distribution of number of references\")\n",
    "plt.xlabel('# References')\n",
    "plt.ylabel('Frequency: # Pages having at least x references')\n",
    "plt.show()"
   ]
  },
  {
   "cell_type": "code",
   "execution_count": 23,
   "metadata": {},
   "outputs": [
    {
     "data": {
      "image/png": "[encoded data removed]",
      "text/plain": [
       "<Figure size 864x504 with 1 Axes>"
      ]
     },
     "metadata": {
      "needs_background": "light"
     },
     "output_type": "display_data"
    }
   ],
   "source": [
    "just_refs_count = reference_count_page.select('refs_count').toPandas()\n",
    "just_refs_count.plot(kind=\"hist\", bins=100, log = True,\n",
    "                     figsize=(12,7), title=\"Distribution of number of references\")\n",
    "plt.xlabel('# References')\n",
    "plt.ylabel('Frequency: # Pages having at least x references (log scale)')\n",
    "plt.show()"
   ]
  },
  {
   "cell_type": "code",
   "execution_count": 24,
   "metadata": {},
   "outputs": [
    {
     "data": {
      "image/png": "[encoded data removed]",
      "text/plain": [
       "<Figure size 1296x360 with 1 Axes>"
      ]
     },
     "metadata": {
      "needs_background": "light"
     },
     "output_type": "display_data"
    }
   ],
   "source": [
    "step = 100;\n",
    "xs = pd.Series(range(1,int(just_refs_count.max()),step));\n",
    "gratherThanData = xs.apply(lambda x: (just_refs_count.refs_count[just_refs_count.refs_count>=x]).count());\n",
    "\n",
    "f, (ax2) = plt.subplots(1, 1);\n",
    "plt.sca(ax2);\n",
    "plt.plot(xs,gratherThanData);\n",
    "plt.xlabel('# references',fontsize=16);\n",
    "plt.ylabel('# articles',fontsize=16);\n",
    "plt.yscale('log'); plt.xscale('log');\n",
    "f.set_size_inches(18, 5)\n",
    "f.suptitle('Log-log of distribution of number of references',fontsize=20)\n",
    "plt.show();"
   ]
  },
  {
   "cell_type": "markdown",
   "metadata": {},
   "source": [
    "**Distribution of number of references**: It seems that the distribution may follow a power law. To verify our suspicions, we plot our cumulative distribution in normal axes and in log-log axes. We look at a \"cumulative distribution\": how many references have at least x pages?\n",
    "\n",
    "The distribution has a heavy-tailed distribution: it may follow a power law. To recognize if the distirbutions follow a power law, we plot the data in log-log axes. If it follows a power law, reporting mean or variance for a power-law-distributed data is not relevant as these statistics are not robust as they are sensitive to data. Instead, we use robust statistics and report the median and quartiles using boxplots. We compare boxplots with and without outliers."
   ]
  },
  {
   "cell_type": "code",
   "execution_count": 25,
   "metadata": {},
   "outputs": [
    {
     "data": {
      "image/png": "[encoded data removed]",
      "text/plain": [
       "<Figure size 432x288 with 1 Axes>"
      ]
     },
     "metadata": {
      "needs_background": "light"
     },
     "output_type": "display_data"
    }
   ],
   "source": [
    "# with all data\n",
    "just_refs_count.boxplot();"
   ]
  },
  {
   "cell_type": "code",
   "execution_count": 26,
   "metadata": {},
   "outputs": [
    {
     "data": {
      "image/png": "[encoded data removed]",
      "text/plain": [
       "<Figure size 432x288 with 1 Axes>"
      ]
     },
     "metadata": {
      "needs_background": "light"
     },
     "output_type": "display_data"
    }
   ],
   "source": [
    "# without extreme values (discard outliers)\n",
    "just_refs_count[just_refs_count['refs_count']< 100].boxplot();"
   ]
  },
  {
   "cell_type": "markdown",
   "metadata": {},
   "source": [
    "### Get the domains of references"
   ]
  },
  {
   "cell_type": "code",
   "execution_count": 35,
   "metadata": {},
   "outputs": [
    {
     "name": "stdout",
     "output_type": "stream",
     "text": [
      "+------+---------+--------------------+--------------------+\n",
      "|    id| template|               title|                 url|\n",
      "+------+---------+--------------------+--------------------+\n",
      "|655845|cite book|     South vs. South|                    |\n",
      "|655845|cite book|       McMinn County|https://archive.o...|\n",
      "|655845|cite book|     South vs. South|                    |\n",
      "|655845|cite book|       McMinn County|https://archive.o...|\n",
      "|655845| cite web|The Battle of Athens|http://www.americ...|\n",
      "+------+---------+--------------------+--------------------+\n",
      "only showing top 5 rows\n",
      "\n"
     ]
    }
   ],
   "source": [
    "references_rrd = wikipedia_ref.rdd.flatMap(get_ref_info)\n",
    "references = sqlContext.createDataFrame(references_rrd)\n",
    "references.show(5)"
   ]
  },
  {
   "cell_type": "markdown",
   "metadata": {},
   "source": [
    "**URL parsing** \n",
    "Parse a URL into six components, returning a 6-tuple. This corresponds to the general structure of a URL: scheme://netloc/path;parameters?query#fragment. Each tuple item is a string, possibly empty."
   ]
  },
  {
   "cell_type": "code",
   "execution_count": 38,
   "metadata": {},
   "outputs": [
    {
     "data": {
      "text/plain": [
       "[('books.google.com', 10113),\n",
       " ('www.nytimes.com', 4170),\n",
       " ('www.reuters.com', 3715),\n",
       " ('www.almasdarnews.com', 3397),\n",
       " ('www.theguardian.com', 3313),\n",
       " ('www.bbc.co.uk', 2829),\n",
       " ('news.bbc.co.uk', 2318),\n",
       " ('www.aljazeera.com', 1988),\n",
       " ('www.washingtonpost.com', 1970),\n",
       " ('www.bbc.com', 1962),\n",
       " ('www.cnn.com', 1541),\n",
       " ('www.syriahr.com', 1518),\n",
       " ('www.telegraph.co.uk', 1505),\n",
       " ('edition.cnn.com', 1170),\n",
       " ('www.independent.co.uk', 976),\n",
       " ('abcnews.go.com', 840),\n",
       " ('twitter.com', 811),\n",
       " ('www.haaretz.com', 707),\n",
       " ('www.foxnews.com', 689),\n",
       " ('www.dailystar.com.lb', 682),\n",
       " ('www.dawn.com', 678),\n",
       " ('www.jpost.com', 677),\n",
       " ('www.wsj.com', 626),\n",
       " ('www.youtube.com', 619),\n",
       " ('news.yahoo.com', 614),\n",
       " ('www.cbsnews.com', 607),\n",
       " ('archive.org', 605),\n",
       " ('www.huffingtonpost.com', 580),\n",
       " ('www.latimes.com', 577),\n",
       " ('www.dailymail.co.uk', 565)]"
      ]
     },
     "execution_count": 38,
     "metadata": {},
     "output_type": "execute_result"
    }
   ],
   "source": [
    "def get_domain(row):\n",
    "    # parse url and return for each row (url, 1) where 1 is the occurence of ref = 1 for that page\n",
    "    try:\n",
    "        parsed_uri = urlparse(row['url'])\n",
    "        return ('{uri.netloc}'.format(uri=parsed_uri), 1)\n",
    "    except:\n",
    "        return None\n",
    "\n",
    "mapped_domains = references.where(\"length(url)>0\").rdd.map(get_domain).filter(lambda row: row is not None)\n",
    "# for each domain count how many references there are in total to find top domains\n",
    "domains_count = mapped_domains.reduceByKey(lambda a,b: a+b).filter(lambda r: len(r[0])>0).sortBy(lambda r: -r[1])\n",
    "domains_count.take(30)"
   ]
  },
  {
   "cell_type": "code",
   "execution_count": 39,
   "metadata": {},
   "outputs": [
    {
     "name": "stdout",
     "output_type": "stream",
     "text": [
      "Total number of links: 163487\n"
     ]
    }
   ],
   "source": [
    "# count the number of links\n",
    "number_links = domains_count.map(lambda r: r[1]).reduce(add)\n",
    "print(\"Total number of links: {}\".format(number_links))"
   ]
  },
  {
   "cell_type": "code",
   "execution_count": 40,
   "metadata": {},
   "outputs": [
    {
     "name": "stdout",
     "output_type": "stream",
     "text": [
      "+-----+--------------------+-------------------+\n",
      "|count|              domain|               perc|\n",
      "+-----+--------------------+-------------------+\n",
      "|10113|    books.google.com|  6.185812939255109|\n",
      "| 4170|     www.nytimes.com| 2.5506615204878673|\n",
      "| 3715|     www.reuters.com| 2.2723519301228845|\n",
      "| 3397|www.almasdarnews.com|  2.077841051582083|\n",
      "| 3313| www.theguardian.com| 2.0264608195147016|\n",
      "| 2829|       www.bbc.co.uk| 1.7304128156978842|\n",
      "| 2318|      news.bbc.co.uk| 1.4178497372879801|\n",
      "| 1988|   www.aljazeera.com| 1.2159988255946956|\n",
      "| 1970|www.washingtonpos...|  1.204988775865971|\n",
      "| 1962|         www.bbc.com| 1.2000954204309824|\n",
      "| 1541|         www.cnn.com| 0.9425825906647012|\n",
      "| 1518|     www.syriahr.com| 0.9285141937891086|\n",
      "| 1505| www.telegraph.co.uk|  0.920562491207252|\n",
      "| 1170|     edition.cnn.com| 0.7156532323670995|\n",
      "|  976|www.independent.c...| 0.5969893630686232|\n",
      "|  840|      abcnews.go.com|  0.513802320673815|\n",
      "|  811|         twitter.com|0.49606390722198096|\n",
      "|  707|     www.haaretz.com|0.43245028656712764|\n",
      "|  689|     www.foxnews.com|0.42144023683840304|\n",
      "|  682|www.dailystar.com.lb| 0.4171585508327879|\n",
      "+-----+--------------------+-------------------+\n",
      "only showing top 20 rows\n",
      "\n"
     ]
    }
   ],
   "source": [
    "def percentage(rdd):\n",
    "    return Row(domain=rdd[0], count=rdd[1], perc=rdd[1]*100/number_links)\n",
    "\n",
    "domains_distribution = sqlContext.createDataFrame(domains_count.map(percentage)).sort(\"count\", ascending=False)\n",
    "domains_distribution.show()"
   ]
  },
  {
   "cell_type": "code",
   "execution_count": 41,
   "metadata": {},
   "outputs": [],
   "source": [
    "domains_distribution_pd = domains_distribution.toPandas().set_index('domain')"
   ]
  },
  {
   "cell_type": "code",
   "execution_count": 42,
   "metadata": {},
   "outputs": [
    {
     "data": {
      "image/png": "[encoded data removed]",
      "text/plain": [
       "<Figure size 720x720 with 1 Axes>"
      ]
     },
     "metadata": {
      "needs_background": "light"
     },
     "output_type": "display_data"
    }
   ],
   "source": [
    "domains_distribution_pd20 = domains_distribution_pd.head(15)\n",
    "\n",
    "# plot using bar plot\n",
    "f, ax1 = plt.subplots()\n",
    "plt.sca(ax1)\n",
    "sns.barplot(domains_distribution_pd20['perc'], domains_distribution_pd20.index, palette=\"YlOrRd\", ax=ax1, orient='h')\n",
    "plt.xlabel('Percentage of references [%]',fontsize=18)\n",
    "plt.ylabel('Domains',fontsize=18)\n",
    "f.suptitle('Bar plot of percentage of references for domains', fontsize=20)\n",
    "f.set_size_inches(10, 10)\n",
    "plt.show()"
   ]
  },
  {
   "cell_type": "markdown",
   "metadata": {},
   "source": [
    "# Popularity metric 2\n",
    "\n",
    "### Get number of views per page\n",
    "\n",
    "A way of measuring the popularity of a page can be done by looking at the number of views per page. Let's follow the trend!"
   ]
  },
  {
   "cell_type": "code",
   "execution_count": 45,
   "metadata": {},
   "outputs": [],
   "source": [
    "# Loading the data\n",
    "WIKIPEDIA_VIEWCOUNT_PARQUET = DATA_DIR + \"wikipedia_no_outliers.parquet\"\n",
    "# loading the saved parquet files\n",
    "wikipedia_VIEWS = spark.read.parquet(WIKIPEDIA_VIEWCOUNT_PARQUET)"
   ]
  },
  {
   "cell_type": "code",
   "execution_count": 46,
   "metadata": {},
   "outputs": [],
   "source": [
    "df = wikipedia_VIEWS.select(\"title\")\n",
    "conflict_array = [(i.title) for i in df.collect()];"
   ]
  },
  {
   "cell_type": "code",
   "execution_count": 47,
   "metadata": {},
   "outputs": [],
   "source": [
    "def getViewsFromAPI(conflict_array):\n",
    "    views_dict = p.article_views('en.wikipedia', conflict_array, granularity='monthly',\n",
    "                                 start='20150701', end=time.strftime('%Y%m%d'), agent='user')\n",
    "    return views_dict"
   ]
  },
  {
   "cell_type": "code",
   "execution_count": 48,
   "metadata": {},
   "outputs": [],
   "source": [
    "startingLogDate = '20150701';\n",
    "today = time.strftime('%Y%m%d');\n",
    "\n",
    "p = PageviewsClient(user_agent=\"<ada@epfl.ch> Applied data analysis project\")\n",
    "\n",
    "views_dict = p.article_views('en.wikipedia', conflict_array, granularity='monthly', start=startingLogDate, end=today, agent='user')\n"
   ]
  },
  {
   "cell_type": "code",
   "execution_count": 49,
   "metadata": {},
   "outputs": [],
   "source": [
    "dizioTizio = [];\n",
    "for key, value in views_dict.items():\n",
    "    chiave = list(value.keys());\n",
    "    valore = list(value.values());\n",
    "    pippo  = list(zip(chiave,valore));\n",
    "    dizioTizio.extend(pippo)"
   ]
  },
  {
   "cell_type": "code",
   "execution_count": 50,
   "metadata": {},
   "outputs": [],
   "source": [
    "views = spark.createDataFrame(dizioTizio,[\"title\", \"views\"])\n",
    "\n",
    "views = views.select('title', views.views.cast('int')).na.fill(0);"
   ]
  },
  {
   "cell_type": "code",
   "execution_count": 51,
   "metadata": {},
   "outputs": [],
   "source": [
    "views_df = views.groupBy(\"title\").agg(F.sum(\"views\")).select(\"title\",F.col(\"sum(views)\").alias(\"views\"))"
   ]
  },
  {
   "cell_type": "code",
   "execution_count": 52,
   "metadata": {},
   "outputs": [],
   "source": [
    "# saving binary file\n",
    "views_df.write.mode('overwrite').parquet(DATA_DIR+\"Views_no_outliers.parquet\");"
   ]
  },
  {
   "cell_type": "code",
   "execution_count": 53,
   "metadata": {},
   "outputs": [
    {
     "name": "stdout",
     "output_type": "stream",
     "text": [
      "+--------------------+--------+\n",
      "|               title|   views|\n",
      "+--------------------+--------+\n",
      "|        World_War_II|33835972|\n",
      "|         World_War_I|31481685|\n",
      "|September_11_attacks|22233107|\n",
      "|         Vietnam_War|22085710|\n",
      "|  American_Civil_War|17696187|\n",
      "|Atomic_bombings_o...|13998970|\n",
      "|2012_Benghazi_attack|13324641|\n",
      "|          Korean_War|12674791|\n",
      "|Attack_on_Pearl_H...|12641959|\n",
      "|       The_Holocaust|12350383|\n",
      "+--------------------+--------+\n",
      "only showing top 10 rows\n",
      "\n"
     ]
    }
   ],
   "source": [
    "# loading the saved parquet files\n",
    "views_df = spark.read.parquet(DATA_DIR+\"Views_no_outliers.parquet\");\n",
    "views_df.sort('views', ascending=False).show(10)"
   ]
  },
  {
   "cell_type": "code",
   "execution_count": 54,
   "metadata": {},
   "outputs": [],
   "source": [
    "views_df = views_df.select(regexp_replace(col(\"title\"), \"_+\", \" \").alias('title'), 'views')"
   ]
  },
  {
   "cell_type": "code",
   "execution_count": 55,
   "metadata": {},
   "outputs": [
    {
     "name": "stdout",
     "output_type": "stream",
     "text": [
      "+--------------------+------+\n",
      "|               title| views|\n",
      "+--------------------+------+\n",
      "|Battle of Landshu...| 18559|\n",
      "|Northern Virginia...| 70274|\n",
      "|      Te Kooti's War| 26656|\n",
      "|         Radical War| 50461|\n",
      "|       Convoy HX 106|  8568|\n",
      "|Operation Rolling...|615607|\n",
      "|         Watts riots|931645|\n",
      "|    Battle of Sarmin| 12980|\n",
      "|Battle of Guilin–...| 18230|\n",
      "|Insurgency in the...|113083|\n",
      "|            Ifni War|194049|\n",
      "|Attacks on High Wood| 27921|\n",
      "|     Battle of Szack| 26044|\n",
      "|Pruth River Campaign| 66706|\n",
      "|Battle of Albert ...| 23943|\n",
      "|     Al Asad Airbase|163127|\n",
      "|Second Battle of ...| 35580|\n",
      "|    Battle of Asiago| 67385|\n",
      "|Siege of Albarrac...|  1902|\n",
      "|Action of 30 Marc...| 16841|\n",
      "+--------------------+------+\n",
      "only showing top 20 rows\n",
      "\n"
     ]
    }
   ],
   "source": [
    "views_df.show()"
   ]
  },
  {
   "cell_type": "markdown",
   "metadata": {},
   "source": [
    "**Distribution of number of views** We bin the number of references to get the number of pages having at least x #views. This is observed with a histogram plot."
   ]
  },
  {
   "cell_type": "code",
   "execution_count": 56,
   "metadata": {},
   "outputs": [
    {
     "data": {
      "image/png": "[encoded data removed]",
      "text/plain": [
       "<Figure size 864x504 with 1 Axes>"
      ]
     },
     "metadata": {
      "needs_background": "light"
     },
     "output_type": "display_data"
    }
   ],
   "source": [
    "just_views_count = views_df.select('views').toPandas()\n",
    "just_views_count.plot(kind=\"hist\", bins=100, \n",
    "                     figsize=(12,7), title=\"Distribution of number of views\")\n",
    "plt.xlabel('# Views')\n",
    "plt.ylabel('Frequency: # Pages having at least x views')\n",
    "plt.xlim(0.0e7,0.6e7)\n",
    "plt.show()"
   ]
  },
  {
   "cell_type": "code",
   "execution_count": 57,
   "metadata": {},
   "outputs": [
    {
     "data": {
      "image/png": "[encoded data removed]",
      "text/plain": [
       "<Figure size 1296x360 with 1 Axes>"
      ]
     },
     "metadata": {
      "needs_background": "light"
     },
     "output_type": "display_data"
    }
   ],
   "source": [
    "step = 100000;\n",
    "xs = pd.Series(range(1,int(just_views_count.max()),step));\n",
    "gratherThanData = xs.apply(lambda x: (just_views_count.views[just_views_count.views>=x]).count());\n",
    "\n",
    "f, (ax2) = plt.subplots(1, 1);\n",
    "plt.sca(ax2);\n",
    "plt.plot(xs,gratherThanData);\n",
    "plt.xlabel('views',fontsize=16);\n",
    "plt.ylabel('# articles',fontsize=16);\n",
    "plt.yscale('log'); plt.xscale('log');\n",
    "f.set_size_inches(18, 5)\n",
    "f.suptitle('Log-log of distribution of number of views',fontsize=20)\n",
    "plt.show();"
   ]
  },
  {
   "cell_type": "markdown",
   "metadata": {},
   "source": [
    "As seen we plotted our cumulative distribution in normal axes and in log-log axes. The distribution of the number of views follows a power law. Since it follows a power law, reporting mean or variance for a power-law-distributed data is not relevant as these statistics are not robust as they are sensitive to data. Instead, we use robust statistics and report the median and quartiles using boxplots. We compare boxplots with and without outliers."
   ]
  },
  {
   "cell_type": "code",
   "execution_count": 58,
   "metadata": {},
   "outputs": [
    {
     "data": {
      "image/png": "[encoded data removed]",
      "text/plain": [
       "<Figure size 432x288 with 1 Axes>"
      ]
     },
     "metadata": {
      "needs_background": "light"
     },
     "output_type": "display_data"
    }
   ],
   "source": [
    "# with all data\n",
    "just_views_count.boxplot();"
   ]
  },
  {
   "cell_type": "code",
   "execution_count": 59,
   "metadata": {},
   "outputs": [
    {
     "data": {
      "image/png": "[encoded data removed]",
      "text/plain": [
       "<Figure size 432x288 with 1 Axes>"
      ]
     },
     "metadata": {
      "needs_background": "light"
     },
     "output_type": "display_data"
    }
   ],
   "source": [
    "# without outliers\n",
    "just_views_count[just_views_count['views'] < 200000].boxplot();"
   ]
  },
  {
   "cell_type": "markdown",
   "metadata": {},
   "source": [
    "# Popularity metric 3\n",
    "\n",
    "### Get number of external links per page\n"
   ]
  },
  {
   "cell_type": "markdown",
   "metadata": {},
   "source": [
    "# Popularity metric 4\n",
    "\n",
    "### Get length of article \n",
    "We assume that the longer the article, the more popular it may be."
   ]
  },
  {
   "cell_type": "code",
   "execution_count": 62,
   "metadata": {},
   "outputs": [
    {
     "name": "stdout",
     "output_type": "stream",
     "text": [
      "+--------+--------------------+--------------------+--------------+\n",
      "|      id|               title|          categories|article_lenght|\n",
      "+--------+--------------------+--------------------+--------------+\n",
      "|52019122|Battle of Mosul (...|   military conflict|        636363|\n",
      "|46230181|Saudi Arabian-led...|   military conflict|        434819|\n",
      "|42563745|      War in Donbass|   military conflict|        393174|\n",
      "| 6750583| History of Xinjiang|military conflict...|        364205|\n",
      "| 3030955|    Kashmir conflict|   military conflict|        364091|\n",
      "+--------+--------------------+--------------------+--------------+\n",
      "only showing top 5 rows\n",
      "\n"
     ]
    }
   ],
   "source": [
    "# Loading the data\n",
    "WIKIPEDIA_LENGTH_PARQUET = DATA_DIR + \"wikipedia_no_outliers.parquet\"\n",
    "\n",
    "# loading the saved parquet files\n",
    "articles = spark.read.parquet(WIKIPEDIA_LENGTH_PARQUET)\n",
    "articles_length = articles.withColumn('article_lenght', F.length(articles.revision.text._VALUE))\n",
    "articles_length_filter = articles_length.select(\"id\",\"title\",\"categories\",\"article_lenght\")\n",
    "articles_length_filter.sort('article_lenght', ascending=False).show(5)"
   ]
  },
  {
   "cell_type": "markdown",
   "metadata": {},
   "source": [
    "**Distribution of article length** We bin the article length to get the number of pages having at least x article lengths. This is observed with a histogram plot."
   ]
  },
  {
   "cell_type": "code",
   "execution_count": 63,
   "metadata": {},
   "outputs": [
    {
     "data": {
      "image/png": "[encoded data removed]",
      "text/plain": [
       "<Figure size 864x504 with 1 Axes>"
      ]
     },
     "metadata": {
      "needs_background": "light"
     },
     "output_type": "display_data"
    }
   ],
   "source": [
    "just_article_length = articles_length_filter.select('article_lenght').toPandas()\n",
    "just_article_length.plot(kind=\"hist\", bins=100, \n",
    "                     figsize=(12,7), title=\"Distribution of article lengths\")\n",
    "plt.xlabel('Article length')\n",
    "plt.ylabel('Frequency: # Pages having at least x Article length')\n",
    "plt.show()"
   ]
  },
  {
   "cell_type": "code",
   "execution_count": 64,
   "metadata": {},
   "outputs": [
    {
     "data": {
      "image/png": "[encoded data removed]",
      "text/plain": [
       "<Figure size 864x504 with 1 Axes>"
      ]
     },
     "metadata": {
      "needs_background": "light"
     },
     "output_type": "display_data"
    }
   ],
   "source": [
    "just_article_length = articles_length_filter.select('article_lenght').toPandas()\n",
    "just_article_length.plot(kind=\"hist\", bins=100, log = True,\n",
    "                     figsize=(12,7), title=\"Distribution of article lengths\")\n",
    "plt.xlabel('Article length')\n",
    "plt.ylabel('Frequency: # Pages having at least x Article length')\n",
    "plt.show()"
   ]
  },
  {
   "cell_type": "markdown",
   "metadata": {},
   "source": [
    "The distribution has a heavy-tailed distribution: it may follow a power law."
   ]
  },
  {
   "cell_type": "code",
   "execution_count": 65,
   "metadata": {},
   "outputs": [
    {
     "data": {
      "image/png": "[encoded data removed]",
      "text/plain": [
       "<Figure size 1296x360 with 1 Axes>"
      ]
     },
     "metadata": {
      "needs_background": "light"
     },
     "output_type": "display_data"
    }
   ],
   "source": [
    "step = 100;\n",
    "xs = pd.Series(range(1,int(just_article_length.max()),step));\n",
    "gratherThanData = xs.apply(lambda x: (just_article_length.article_lenght[just_article_length.article_lenght>=x]).count());\n",
    "\n",
    "f, (ax2) = plt.subplots(1, 1);\n",
    "plt.sca(ax2);\n",
    "plt.plot(xs,gratherThanData);\n",
    "plt.xlabel('article length',fontsize=16);\n",
    "plt.ylabel('# articles',fontsize=16);\n",
    "plt.yscale('log'); plt.xscale('log');\n",
    "f.set_size_inches(18, 5)\n",
    "f.suptitle('Log-log of distribution of article length',fontsize=20)\n",
    "plt.show();"
   ]
  },
  {
   "cell_type": "markdown",
   "metadata": {},
   "source": [
    "---\n",
    "\n",
    "# Joining tables on the page id\n",
    "\n",
    "Having defined popularity metrics and importance criterion, we now join the tables on the page ID."
   ]
  },
  {
   "cell_type": "markdown",
   "metadata": {},
   "source": [
    "## 1. Join all popularity tables on page id"
   ]
  },
  {
   "cell_type": "code",
   "execution_count": 66,
   "metadata": {},
   "outputs": [
    {
     "name": "stdout",
     "output_type": "stream",
     "text": [
      "+------+--------------------+--------------------+--------------+----------+\n",
      "|    id|               title|          categories|article_lenght|refs_count|\n",
      "+------+--------------------+--------------------+--------------+----------+\n",
      "|  4823|         Balkan Wars|   military conflict|         56312|         8|\n",
      "| 47928|   Battle of Naissus|   military conflict|         12440|        23|\n",
      "| 50157|Battle of Stoke F...|   military conflict|         16061|        12|\n",
      "|381602|    Baby Face Nelson|criminal, civilia...|         39762|        57|\n",
      "|424102|Battle of Beachy ...|   military conflict|         21589|        26|\n",
      "+------+--------------------+--------------------+--------------+----------+\n",
      "only showing top 5 rows\n",
      "\n"
     ]
    }
   ],
   "source": [
    "# need tables reference_count_page & articles_length_filter\n",
    "references_popularity = reference_count_page.registerTempTable('references_popularity')\n",
    "length_popularity = articles_length_filter.registerTempTable('length_popularity')\n",
    "views_popularity = views_df.registerTempTable('views_popularity')\n",
    "\n",
    "query_join_ref_length = \"\"\"\n",
    "select length_popularity.id, length_popularity.title, length_popularity.categories, length_popularity.article_lenght, references_popularity.refs_count\n",
    "from length_popularity\n",
    "join references_popularity\n",
    "on length_popularity.id = references_popularity.id\n",
    "\"\"\"\n",
    "\n",
    "join_ref_length = spark.sql(query_join_ref_length)\n",
    "join_ref_length.show(5)"
   ]
  },
  {
   "cell_type": "code",
   "execution_count": 67,
   "metadata": {},
   "outputs": [
    {
     "data": {
      "text/plain": [
       "[Row(id=57214505, title='Jahriyya revolt', categories='military conflict', article_lenght=10027, refs_count=22)]"
      ]
     },
     "execution_count": 67,
     "metadata": {},
     "output_type": "execute_result"
    }
   ],
   "source": [
    "# mini-test\n",
    "join_ref_length.filter(\"title = 'Jahriyya revolt'\").collect()"
   ]
  },
  {
   "cell_type": "code",
   "execution_count": 68,
   "metadata": {},
   "outputs": [
    {
     "name": "stdout",
     "output_type": "stream",
     "text": [
      "+------+--------------------+--------------------+--------------+-------+----------+\n",
      "|    id|               title|          categories|article_lenght|  views|refs_count|\n",
      "+------+--------------------+--------------------+--------------+-------+----------+\n",
      "|  4823|         Balkan Wars|   military conflict|         56312|1124826|         8|\n",
      "| 47928|   Battle of Naissus|   military conflict|         12440|  56441|        23|\n",
      "| 50157|Battle of Stoke F...|   military conflict|         16061| 113136|        12|\n",
      "|381602|    Baby Face Nelson|criminal, civilia...|         39762|1927516|        57|\n",
      "|424102|Battle of Beachy ...|   military conflict|         21589|  66081|        26|\n",
      "+------+--------------------+--------------------+--------------+-------+----------+\n",
      "only showing top 5 rows\n",
      "\n"
     ]
    }
   ],
   "source": [
    "join_ref_length_sql = join_ref_length.registerTempTable('join_ref_length_sql')\n",
    "query_join_popularity = \"\"\"\n",
    "select join_ref_length_sql.id, join_ref_length_sql.title, join_ref_length_sql.categories, join_ref_length_sql.article_lenght, views_popularity.views, join_ref_length_sql.refs_count  \n",
    "from join_ref_length_sql\n",
    "join views_popularity\n",
    "on join_ref_length_sql.title = views_popularity.title\n",
    "\"\"\"\n",
    "popularity = spark.sql(query_join_popularity)\n",
    "popularity.show(5)"
   ]
  },
  {
   "cell_type": "markdown",
   "metadata": {},
   "source": [
    "## 2. Join each category table with popularity table"
   ]
  },
  {
   "cell_type": "code",
   "execution_count": 71,
   "metadata": {},
   "outputs": [],
   "source": [
    "# need tables popularity, wiki_civil_conflict_df, wiki_civilian_attack_df, wiki_military_conflict_df\n",
    "civil_conflict_df1 = spark.read.parquet(DATA_DIR + \"wiki_civil_conflict_df.parquet\")\n",
    "military_conflict_df1 = spark.read.parquet(DATA_DIR + \"wiki_military_conflict_df.parquet\")\n",
    "civilian_attack_df1 = spark.read.parquet(DATA_DIR + \"wiki_civilian_attack_df.parquet\")\n",
    "\n",
    "popularity_sql = popularity.registerTempTable('popularity_sql')\n",
    "civil_conflict = civil_conflict_df1.registerTempTable('civil_conflict')\n",
    "military_conflict = military_conflict_df1.registerTempTable('military_conflict')\n",
    "civilian_attack = civilian_attack_df1.registerTempTable('civilian_attack')"
   ]
  },
  {
   "cell_type": "markdown",
   "metadata": {},
   "source": [
    "**Join between popularity & `civil conflict`**"
   ]
  },
  {
   "cell_type": "code",
   "execution_count": 72,
   "metadata": {},
   "outputs": [
    {
     "name": "stdout",
     "output_type": "stream",
     "text": [
      "+--------+--------------------+--------------+--------------+------+----------+--------------------+--------------------+--------------------+\n",
      "|      id|               title|    categories|article_lenght| views|refs_count|               death|            end_date|            location|\n",
      "+--------+--------------------+--------------+--------------+------+----------+--------------------+--------------------+--------------------+\n",
      "|25827443|Long, hot summer ...|civil conflict|          4473| 28498|         4|                null|      Summer of 1967|   [[United States]]|\n",
      "|34516509|2000 UEFA Cup Fin...|civil conflict|         26461| 73384|        51|                null|         17 May 2000|City Hall Square,...|\n",
      "|36647928|Baltimore municip...|civil conflict|         39343|  6461|        49|'''Deaths''': <br...|+1974-07-14T00:00...|[[Baltimore, Mary...|\n",
      "|49364124|Şırnak clashes (2...|civil conflict|         13430|  2701|        27|                null|August 2015-May 2016|[[Şırnak]], [[Tur...|\n",
      "|  246242|    Homestead strike|civil conflict|         46052|174311|        61|9 killed<br />11 ...|        July 1, 1892| Homestead (Q912465)|\n",
      "+--------+--------------------+--------------+--------------+------+----------+--------------------+--------------------+--------------------+\n",
      "only showing top 5 rows\n",
      "\n"
     ]
    }
   ],
   "source": [
    "query_join_popularity_civil_conflict = \"\"\"\n",
    "select popularity_sql.id, popularity_sql.title, popularity_sql.categories, popularity_sql.article_lenght, popularity_sql.views, popularity_sql.refs_count, civil_conflict.death, civil_conflict.end_date, civil_conflict.location\n",
    "from popularity_sql, civil_conflict\n",
    "where popularity_sql.id = civil_conflict.id\n",
    "\"\"\"\n",
    "\n",
    "popularity_civil_conflict = spark.sql(query_join_popularity_civil_conflict)\n",
    "popularity_civil_conflict.show(5)"
   ]
  },
  {
   "cell_type": "code",
   "execution_count": 73,
   "metadata": {},
   "outputs": [],
   "source": [
    "# saving binary file\n",
    "popularity_civil_conflict.write.mode('overwrite').parquet(DATA_DIR+\"popularity_civil_conflict.parquet\");"
   ]
  },
  {
   "cell_type": "markdown",
   "metadata": {},
   "source": [
    "**Join between popularity & `military conflict`**"
   ]
  },
  {
   "cell_type": "code",
   "execution_count": 74,
   "metadata": {},
   "outputs": [
    {
     "name": "stdout",
     "output_type": "stream",
     "text": [
      "+------+--------------------+-----------------+--------------+-------+----------+--------------------+--------------------+--------------------+\n",
      "|    id|               title|       categories|article_lenght|  views|refs_count|               death|            end_date|            location|\n",
      "+------+--------------------+-----------------+--------------+-------+----------+--------------------+--------------------+--------------------+\n",
      "|  4823|         Balkan Wars|military conflict|         56312|1124826|         8|                null|+1913-07-18T00:00...|{{hlist |[[Adrian...|\n",
      "| 47928|   Battle of Naissus|military conflict|         12440|  56441|        23|             unknown|          268 or 269|       Niš (Q129259)|\n",
      "| 50157|Battle of Stoke F...|military conflict|         16061| 113136|        12|Unknown, estimate...|        16 June 1487|East Stoke, Notti...|\n",
      "|424102|Battle of Beachy ...|military conflict|         21589|  66081|        26|       No ships lost|        10 July 1690|English channel (...|\n",
      "|567816|Battle of Majuba ...|military conflict|         10864| 108280|         7|1 killed<br> 5 wo...|    27 February 1881|[[Majuba Hill]], ...|\n",
      "+------+--------------------+-----------------+--------------+-------+----------+--------------------+--------------------+--------------------+\n",
      "only showing top 5 rows\n",
      "\n"
     ]
    }
   ],
   "source": [
    "query_join_popularity_military_conflict = \"\"\"\n",
    "select popularity_sql.id, popularity_sql.title, popularity_sql.categories, popularity_sql.article_lenght, popularity_sql.views, popularity_sql.refs_count, military_conflict.death, military_conflict.end_date, military_conflict.location\n",
    "from popularity_sql, military_conflict\n",
    "where popularity_sql.id = military_conflict.id\n",
    "\"\"\"\n",
    "\n",
    "popularity_military_conflict = spark.sql(query_join_popularity_military_conflict)\n",
    "popularity_military_conflict.show(5)"
   ]
  },
  {
   "cell_type": "code",
   "execution_count": 75,
   "metadata": {},
   "outputs": [
    {
     "data": {
      "text/plain": [
       "[Row(id=32927, title='World War II', categories='military conflict', article_lenght=223212, views=33835972, refs_count=238, death='+73000000', end_date='+1945-09-02T00:00:00Z', location='[Russia (Q159), Europe (Q46), Africa (Q15), Pacific Ocean (Q98), Mediterranean Sea (Q4918), Asia (Q48), Atlantic Ocean (Q97), Middle East (Q7204), Southeast Asia (Q11708), Scandinavia (Q21195)]')]"
      ]
     },
     "execution_count": 75,
     "metadata": {},
     "output_type": "execute_result"
    }
   ],
   "source": [
    "#check if join works\n",
    "#popularity_military_conflict.select(\"title like '%World War II%'\")\n",
    "popularity_military_conflict.filter(\"title = 'World War II'\").collect()"
   ]
  },
  {
   "cell_type": "code",
   "execution_count": 76,
   "metadata": {},
   "outputs": [],
   "source": [
    "# saving binary file\n",
    "popularity_military_conflict.write.mode('overwrite').parquet(DATA_DIR+\"popularity_military_conflict.parquet\");"
   ]
  },
  {
   "cell_type": "markdown",
   "metadata": {},
   "source": [
    "**Join between popularity & `civilian attack`**"
   ]
  },
  {
   "cell_type": "code",
   "execution_count": 77,
   "metadata": {},
   "outputs": [
    {
     "name": "stdout",
     "output_type": "stream",
     "text": [
      "+--------+--------------------+--------------------+--------------+-------+----------+--------------------+--------------------+--------------------+\n",
      "|      id|               title|          categories|article_lenght|  views|refs_count|               death|            end_date|            location|\n",
      "+--------+--------------------+--------------------+--------------+-------+----------+--------------------+--------------------+--------------------+\n",
      "|  381602|    Baby Face Nelson|criminal, civilia...|         39762|1927516|        57|                null|                null|                null|\n",
      "|  464698|Massacres of Pole...|     civilian attack|        120291| 344457|       159|              +80000|+1944-00-00T00:00...|    Volhynia (Q7530)|\n",
      "| 3177125|Springfield race ...|     civilian attack|        274021|  44412|       449|:16 (at least) \n",
      "*...|: August 14–16, 1908|: [[Springfield, ...|\n",
      "| 9490463|  Mirusuvil massacre|     civilian attack|         11256|   4697|        17|                  +8|   December 20, 2000|Mirusuvil (Q6874757)|\n",
      "|19492124|27 September 2008...|     civilian attack|         20604|   5043|        38|                  +3|   27 September 2008|       Delhi (Q1353)|\n",
      "+--------+--------------------+--------------------+--------------+-------+----------+--------------------+--------------------+--------------------+\n",
      "only showing top 5 rows\n",
      "\n"
     ]
    }
   ],
   "source": [
    "query_join_popularity_civilian_attack = \"\"\"\n",
    "select popularity_sql.id, popularity_sql.title, popularity_sql.categories, popularity_sql.article_lenght, popularity_sql.views, popularity_sql.refs_count, civilian_attack.death, civilian_attack.end_date, civilian_attack.location\n",
    "from popularity_sql, civilian_attack\n",
    "where popularity_sql.id = civilian_attack.id\n",
    "\"\"\"\n",
    "\n",
    "popularity_civilian_attack = spark.sql(query_join_popularity_civilian_attack)\n",
    "popularity_civilian_attack.show(5)"
   ]
  },
  {
   "cell_type": "code",
   "execution_count": 78,
   "metadata": {},
   "outputs": [],
   "source": [
    "# saving binary file\n",
    "popularity_civilian_attack.write.mode('overwrite').parquet(DATA_DIR+\"popularity_civilian_attack.parquet\");"
   ]
  },
  {
   "cell_type": "markdown",
   "metadata": {},
   "source": [
    "--- \n",
    "# Define a popularity score for each page\n"
   ]
  },
  {
   "cell_type": "markdown",
   "metadata": {},
   "source": [
    "We use 4 features to define the popularity score of a page.\n",
    "\n",
    "    We define the popularity score of an article as:\n",
    "\n",
    "         SCORE = w1 * views + w2 * links + w3 * references + w4 * length \n",
    "        \n",
    "        w1, w2, w3 and w4 are arbitrary weigths that normalize the features.\n",
    "\n",
    "    We have noticed that the features references,length and views seem to follow a power law. Therefore, we use the 1/median to construct the weights associated to them."
   ]
  },
  {
   "cell_type": "markdown",
   "metadata": {},
   "source": [
    "### Civil conflict score "
   ]
  },
  {
   "cell_type": "code",
   "execution_count": 8,
   "metadata": {
    "collapsed": true
   },
   "outputs": [],
   "source": [
    "popularity_civil_conflict_scoring = spark.read.parquet(DATA_DIR+\"popularity_civil_conflict.parquet\")"
   ]
  },
  {
   "cell_type": "code",
   "execution_count": 221,
   "metadata": {
    "collapsed": true
   },
   "outputs": [],
   "source": [
    "from pyspark.sql.types import IntegerType\n",
    "\n",
    "def compute_weight(a_df, features_col):\n",
    "    qnt_50 = []\n",
    "    # for each col of the input features, cast into integer and compute median\n",
    "    for col_ in features_col:\n",
    "        a_df = a_df.withColumn(col_, a_df[col_].cast(IntegerType()))\n",
    "        qnt_50.append(1/a_df.approxQuantile(col_, [0.5], 0.1)[0])\n",
    "        \n",
    "    weights = np.array(qnt_50)\n",
    "    return weights, a_df\n",
    "\n",
    "\n",
    "def compute_score(a_df, features_col):\n",
    "    weights, a_df = compute_weight(a_df, features_col[1:])\n",
    "    a_pd = a_df.toPandas()\n",
    "    score = a_pd.iloc[:, 1] * weights[1] \\\n",
    "    + a_pd.iloc[:, 2] * weights[2]\n",
    "    \n",
    "    return score"
   ]
  },
  {
   "cell_type": "code",
   "execution_count": 216,
   "metadata": {},
   "outputs": [
    {
     "name": "stdout",
     "output_type": "stream",
     "text": [
      "+-------+-----------------+--------------+--------------+------+-----+--------------------+--------------------+\n",
      "|     id|            title|    categories|article_lenght| views|death|            end_date|            location|\n",
      "+-------+-----------------+--------------+--------------+------+-----+--------------------+--------------------+\n",
      "|1690078|1967 Newark riots|civil conflict|         18540|225656|  +26|+1967-07-17T00:00...|[Jersey City (Q26...|\n",
      "+-------+-----------------+--------------+--------------+------+-----+--------------------+--------------------+\n",
      "only showing top 1 row\n",
      "\n"
     ]
    }
   ],
   "source": [
    "popularity_civil_conflict_scoring.show(1)"
   ]
  },
  {
   "cell_type": "code",
   "execution_count": 223,
   "metadata": {
    "collapsed": true
   },
   "outputs": [],
   "source": [
    "to_score = popularity_civil_conflict_scoring.select('id','views','article_lenght')"
   ]
  },
  {
   "cell_type": "code",
   "execution_count": 224,
   "metadata": {},
   "outputs": [
    {
     "data": {
      "text/plain": [
       "(array([2.61718649e-08, 5.65259171e-05, 6.54065014e-05]),\n",
       " DataFrame[id: int, views: int, article_lenght: int])"
      ]
     },
     "execution_count": 224,
     "metadata": {},
     "output_type": "execute_result"
    }
   ],
   "source": [
    "compute_weight(to_score, ['id','views','article_lenght'])"
   ]
  },
  {
   "cell_type": "markdown",
   "metadata": {
    "collapsed": true
   },
   "source": [
    "# Clustering approach\n",
    "\n",
    "## Feature standardization"
   ]
  },
  {
   "cell_type": "code",
   "execution_count": 85,
   "metadata": {},
   "outputs": [],
   "source": [
    "popularity_civil_conflict_scoring_ft = spark.read.parquet(DATA_DIR+\"popularity_military_conflict.parquet\")"
   ]
  },
  {
   "cell_type": "code",
   "execution_count": 86,
   "metadata": {},
   "outputs": [],
   "source": [
    "popularity_civil_conflict_pd = popularity_civil_conflict_scoring_ft.toPandas()"
   ]
  },
  {
   "cell_type": "code",
   "execution_count": 87,
   "metadata": {},
   "outputs": [
    {
     "data": {
      "text/html": [
       "<div>\n",
       "<style scoped>\n",
       "    .dataframe tbody tr th:only-of-type {\n",
       "        vertical-align: middle;\n",
       "    }\n",
       "\n",
       "    .dataframe tbody tr th {\n",
       "        vertical-align: top;\n",
       "    }\n",
       "\n",
       "    .dataframe thead th {\n",
       "        text-align: right;\n",
       "    }\n",
       "</style>\n",
       "<table border=\"1\" class=\"dataframe\">\n",
       "  <thead>\n",
       "    <tr style=\"text-align: right;\">\n",
       "      <th></th>\n",
       "      <th>id</th>\n",
       "      <th>title</th>\n",
       "      <th>categories</th>\n",
       "      <th>article_lenght</th>\n",
       "      <th>views</th>\n",
       "      <th>refs_count</th>\n",
       "      <th>death</th>\n",
       "      <th>end_date</th>\n",
       "      <th>location</th>\n",
       "    </tr>\n",
       "  </thead>\n",
       "  <tbody>\n",
       "    <tr>\n",
       "      <th>0</th>\n",
       "      <td>189381</td>\n",
       "      <td>Hōgen rebellion</td>\n",
       "      <td>military conflict</td>\n",
       "      <td>11155</td>\n",
       "      <td>8124</td>\n",
       "      <td>9</td>\n",
       "      <td>None</td>\n",
       "      <td>+1156-08-16T00:00:00Z</td>\n",
       "      <td>Kyoto (Q34600)</td>\n",
       "    </tr>\n",
       "    <tr>\n",
       "      <th>1</th>\n",
       "      <td>252073</td>\n",
       "      <td>Sino-French War</td>\n",
       "      <td>military conflict</td>\n",
       "      <td>87709</td>\n",
       "      <td>264518</td>\n",
       "      <td>96</td>\n",
       "      <td>2,100 killed or wounded</td>\n",
       "      <td>+1885-04-00T00:00:00Z</td>\n",
       "      <td>Southeast [[mainland China]], [[Taiwan]], nort...</td>\n",
       "    </tr>\n",
       "    <tr>\n",
       "      <th>2</th>\n",
       "      <td>423114</td>\n",
       "      <td>Operation Loyton</td>\n",
       "      <td>military conflict</td>\n",
       "      <td>10394</td>\n",
       "      <td>42453</td>\n",
       "      <td>13</td>\n",
       "      <td>Special Air Service 14 killed and another&lt;br /...</td>\n",
       "      <td>+1944-10-09T00:00:00Z</td>\n",
       "      <td>Vosges Mountains (Q187843)</td>\n",
       "    </tr>\n",
       "    <tr>\n",
       "      <th>3</th>\n",
       "      <td>429190</td>\n",
       "      <td>Utah War</td>\n",
       "      <td>military conflict</td>\n",
       "      <td>85155</td>\n",
       "      <td>552444</td>\n",
       "      <td>63</td>\n",
       "      <td>38</td>\n",
       "      <td>+1858-07-00T00:00:00Z</td>\n",
       "      <td>Utah Territory (Q128026)</td>\n",
       "    </tr>\n",
       "    <tr>\n",
       "      <th>4</th>\n",
       "      <td>637353</td>\n",
       "      <td>Second Mithridatic War</td>\n",
       "      <td>military conflict</td>\n",
       "      <td>8448</td>\n",
       "      <td>40621</td>\n",
       "      <td>4</td>\n",
       "      <td>None</td>\n",
       "      <td>-0081-00-00T00:00:00Z</td>\n",
       "      <td>Anatolia (Q51614)</td>\n",
       "    </tr>\n",
       "    <tr>\n",
       "      <th>5</th>\n",
       "      <td>1014346</td>\n",
       "      <td>Eastern Front (World War I)</td>\n",
       "      <td>military conflict</td>\n",
       "      <td>80069</td>\n",
       "      <td>1009239</td>\n",
       "      <td>66</td>\n",
       "      <td>{{ubl|flagdeco|German Empire| '''1,468,811 – 2...</td>\n",
       "      <td>+1918-03-03T00:00:00Z</td>\n",
       "      <td>[Central Europe (Q27509), Eastern Europe (Q274...</td>\n",
       "    </tr>\n",
       "    <tr>\n",
       "      <th>6</th>\n",
       "      <td>1251276</td>\n",
       "      <td>Siege of Metz (1870)</td>\n",
       "      <td>military conflict</td>\n",
       "      <td>8596</td>\n",
       "      <td>78299</td>\n",
       "      <td>3</td>\n",
       "      <td>5,740 killed and wounded&lt;br/&gt;40,000 sick</td>\n",
       "      <td>+1870-10-27T00:00:00Z</td>\n",
       "      <td>Metz (Q22690)</td>\n",
       "    </tr>\n",
       "    <tr>\n",
       "      <th>7</th>\n",
       "      <td>1551938</td>\n",
       "      <td>Scotland in the Wars of the Three Kingdoms</td>\n",
       "      <td>military conflict</td>\n",
       "      <td>32308</td>\n",
       "      <td>120794</td>\n",
       "      <td>2</td>\n",
       "      <td>None</td>\n",
       "      <td>1644–51</td>\n",
       "      <td>Scotland (Q22)</td>\n",
       "    </tr>\n",
       "    <tr>\n",
       "      <th>8</th>\n",
       "      <td>1613922</td>\n",
       "      <td>Ogaden War</td>\n",
       "      <td>military conflict</td>\n",
       "      <td>34423</td>\n",
       "      <td>372460</td>\n",
       "      <td>54</td>\n",
       "      <td>'''Ethiopia''':&lt;br&gt;6,133 killed &lt;br&gt;10,563 wou...</td>\n",
       "      <td>+1978-03-15T00:00:00Z</td>\n",
       "      <td>[Ogaden (Q137555), Ethiopia (Q115)]</td>\n",
       "    </tr>\n",
       "    <tr>\n",
       "      <th>9</th>\n",
       "      <td>2001345</td>\n",
       "      <td>Operation Charnwood</td>\n",
       "      <td>military conflict, military operation</td>\n",
       "      <td>62338</td>\n",
       "      <td>71731</td>\n",
       "      <td>132</td>\n",
       "      <td>{{ubl|3,817 casualties|ref| name=\"Trew46\"|Trew...</td>\n",
       "      <td>+1944-07-09T00:00:00Z</td>\n",
       "      <td>Northern [[Caen]], [[Normandy]], France</td>\n",
       "    </tr>\n",
       "  </tbody>\n",
       "</table>\n",
       "</div>"
      ],
      "text/plain": [
       "        id                                       title  \\\n",
       "0   189381                             Hōgen rebellion   \n",
       "1   252073                             Sino-French War   \n",
       "2   423114                            Operation Loyton   \n",
       "3   429190                                    Utah War   \n",
       "4   637353                      Second Mithridatic War   \n",
       "5  1014346                 Eastern Front (World War I)   \n",
       "6  1251276                        Siege of Metz (1870)   \n",
       "7  1551938  Scotland in the Wars of the Three Kingdoms   \n",
       "8  1613922                                  Ogaden War   \n",
       "9  2001345                         Operation Charnwood   \n",
       "\n",
       "                              categories  article_lenght    views  refs_count  \\\n",
       "0                      military conflict           11155     8124           9   \n",
       "1                      military conflict           87709   264518          96   \n",
       "2                      military conflict           10394    42453          13   \n",
       "3                      military conflict           85155   552444          63   \n",
       "4                      military conflict            8448    40621           4   \n",
       "5                      military conflict           80069  1009239          66   \n",
       "6                      military conflict            8596    78299           3   \n",
       "7                      military conflict           32308   120794           2   \n",
       "8                      military conflict           34423   372460          54   \n",
       "9  military conflict, military operation           62338    71731         132   \n",
       "\n",
       "                                               death               end_date  \\\n",
       "0                                               None  +1156-08-16T00:00:00Z   \n",
       "1                            2,100 killed or wounded  +1885-04-00T00:00:00Z   \n",
       "2  Special Air Service 14 killed and another<br /...  +1944-10-09T00:00:00Z   \n",
       "3                                                 38  +1858-07-00T00:00:00Z   \n",
       "4                                               None  -0081-00-00T00:00:00Z   \n",
       "5  {{ubl|flagdeco|German Empire| '''1,468,811 – 2...  +1918-03-03T00:00:00Z   \n",
       "6           5,740 killed and wounded<br/>40,000 sick  +1870-10-27T00:00:00Z   \n",
       "7                                               None                1644–51   \n",
       "8  '''Ethiopia''':<br>6,133 killed <br>10,563 wou...  +1978-03-15T00:00:00Z   \n",
       "9  {{ubl|3,817 casualties|ref| name=\"Trew46\"|Trew...  +1944-07-09T00:00:00Z   \n",
       "\n",
       "                                            location  \n",
       "0                                     Kyoto (Q34600)  \n",
       "1  Southeast [[mainland China]], [[Taiwan]], nort...  \n",
       "2                         Vosges Mountains (Q187843)  \n",
       "3                           Utah Territory (Q128026)  \n",
       "4                                  Anatolia (Q51614)  \n",
       "5  [Central Europe (Q27509), Eastern Europe (Q274...  \n",
       "6                                      Metz (Q22690)  \n",
       "7                                     Scotland (Q22)  \n",
       "8                [Ogaden (Q137555), Ethiopia (Q115)]  \n",
       "9            Northern [[Caen]], [[Normandy]], France  "
      ]
     },
     "execution_count": 87,
     "metadata": {},
     "output_type": "execute_result"
    }
   ],
   "source": [
    "popularity_civil_conflict_pd.head(10)"
   ]
  },
  {
   "cell_type": "code",
   "execution_count": 88,
   "metadata": {},
   "outputs": [
    {
     "data": {
      "text/html": [
       "<div>\n",
       "<style scoped>\n",
       "    .dataframe tbody tr th:only-of-type {\n",
       "        vertical-align: middle;\n",
       "    }\n",
       "\n",
       "    .dataframe tbody tr th {\n",
       "        vertical-align: top;\n",
       "    }\n",
       "\n",
       "    .dataframe thead th {\n",
       "        text-align: right;\n",
       "    }\n",
       "</style>\n",
       "<table border=\"1\" class=\"dataframe\">\n",
       "  <thead>\n",
       "    <tr style=\"text-align: right;\">\n",
       "      <th></th>\n",
       "      <th>id</th>\n",
       "      <th>title</th>\n",
       "      <th>categories</th>\n",
       "      <th>article_lenght</th>\n",
       "      <th>views</th>\n",
       "      <th>refs_count</th>\n",
       "      <th>death</th>\n",
       "      <th>end_date</th>\n",
       "      <th>location</th>\n",
       "    </tr>\n",
       "  </thead>\n",
       "  <tbody>\n",
       "    <tr>\n",
       "      <th>2703</th>\n",
       "      <td>32927</td>\n",
       "      <td>World War II</td>\n",
       "      <td>military conflict</td>\n",
       "      <td>223212</td>\n",
       "      <td>33835972</td>\n",
       "      <td>238</td>\n",
       "      <td>+73000000</td>\n",
       "      <td>+1945-09-02T00:00:00Z</td>\n",
       "      <td>[Russia (Q159), Europe (Q46), Africa (Q15), Pa...</td>\n",
       "    </tr>\n",
       "    <tr>\n",
       "      <th>9594</th>\n",
       "      <td>4764461</td>\n",
       "      <td>World War I</td>\n",
       "      <td>military conflict</td>\n",
       "      <td>284173</td>\n",
       "      <td>31481685</td>\n",
       "      <td>254</td>\n",
       "      <td>+17000000</td>\n",
       "      <td>+1918-11-11T00:00:00Z</td>\n",
       "      <td>[Europe (Q46), Australia and Oceania (Q55643),...</td>\n",
       "    </tr>\n",
       "    <tr>\n",
       "      <th>218</th>\n",
       "      <td>32611</td>\n",
       "      <td>Vietnam War</td>\n",
       "      <td>military conflict</td>\n",
       "      <td>340373</td>\n",
       "      <td>22085710</td>\n",
       "      <td>536</td>\n",
       "      <td>{{Plainlist}} * {{flagdeco|North Vietnam}} {{f...</td>\n",
       "      <td>+1975-04-30T00:00:00Z</td>\n",
       "      <td>South Vietnam (Q180573)</td>\n",
       "    </tr>\n",
       "    <tr>\n",
       "      <th>521</th>\n",
       "      <td>863</td>\n",
       "      <td>American Civil War</td>\n",
       "      <td>military conflict</td>\n",
       "      <td>203619</td>\n",
       "      <td>17696187</td>\n",
       "      <td>212</td>\n",
       "      <td>{{plainlist|\\n*110,000+ killed in action/died ...</td>\n",
       "      <td>+1865-05-10T00:00:00Z</td>\n",
       "      <td>[Southern United States (Q49042), Northern Uni...</td>\n",
       "    </tr>\n",
       "    <tr>\n",
       "      <th>6285</th>\n",
       "      <td>11778948</td>\n",
       "      <td>Atomic bombings of Hiroshima and Nagasaki</td>\n",
       "      <td>military conflict</td>\n",
       "      <td>198440</td>\n",
       "      <td>13998970</td>\n",
       "      <td>143</td>\n",
       "      <td>20 British, Dutch, and American [[prisoners of...</td>\n",
       "      <td>August 6 and August 9, 1945</td>\n",
       "      <td>[Hiroshima (Q34664), Nagasaki (Q38234)]</td>\n",
       "    </tr>\n",
       "    <tr>\n",
       "      <th>13198</th>\n",
       "      <td>16772</td>\n",
       "      <td>Korean War</td>\n",
       "      <td>military conflict, East Asian</td>\n",
       "      <td>262686</td>\n",
       "      <td>12674791</td>\n",
       "      <td>271</td>\n",
       "      <td>None</td>\n",
       "      <td>None</td>\n",
       "      <td>None</td>\n",
       "    </tr>\n",
       "    <tr>\n",
       "      <th>124</th>\n",
       "      <td>60098</td>\n",
       "      <td>Attack on Pearl Harbor</td>\n",
       "      <td>military conflict</td>\n",
       "      <td>107478</td>\n",
       "      <td>12641959</td>\n",
       "      <td>147</td>\n",
       "      <td>+2467</td>\n",
       "      <td>None</td>\n",
       "      <td>Pearl Harbor (Q127091)</td>\n",
       "    </tr>\n",
       "    <tr>\n",
       "      <th>9367</th>\n",
       "      <td>252854</td>\n",
       "      <td>Normandy landings</td>\n",
       "      <td>military conflict</td>\n",
       "      <td>85344</td>\n",
       "      <td>11984783</td>\n",
       "      <td>0</td>\n",
       "      <td>10,000+ casualties; 4,414 confirmed dead {{efn...</td>\n",
       "      <td>6 June 1944</td>\n",
       "      <td>Normandy (Q15878)</td>\n",
       "    </tr>\n",
       "    <tr>\n",
       "      <th>11474</th>\n",
       "      <td>73246</td>\n",
       "      <td>Battle of Dunkirk</td>\n",
       "      <td>military conflict</td>\n",
       "      <td>40492</td>\n",
       "      <td>11172884</td>\n",
       "      <td>49</td>\n",
       "      <td>* (Estimated)&lt;br /&gt;61,774 total killed and wou...</td>\n",
       "      <td>+1940-06-04T00:00:00Z</td>\n",
       "      <td>Dunkirk (Q45797)</td>\n",
       "    </tr>\n",
       "    <tr>\n",
       "      <th>3832</th>\n",
       "      <td>771</td>\n",
       "      <td>American Revolutionary War</td>\n",
       "      <td>military conflict</td>\n",
       "      <td>238972</td>\n",
       "      <td>8794983</td>\n",
       "      <td>598</td>\n",
       "      <td>'''United States:'''&lt;br /&gt;\\n&lt;small&gt;25,000–70,0...</td>\n",
       "      <td>+1783-09-03T00:00:00Z</td>\n",
       "      <td>Eastern North America, [[Caribbean Sea]], [[In...</td>\n",
       "    </tr>\n",
       "    <tr>\n",
       "      <th>5879</th>\n",
       "      <td>182000</td>\n",
       "      <td>Gulf War</td>\n",
       "      <td>military conflict</td>\n",
       "      <td>197467</td>\n",
       "      <td>8085481</td>\n",
       "      <td>239</td>\n",
       "      <td>'''Coalition:'''&lt;br /&gt;292 killed (147 killed b...</td>\n",
       "      <td>+1991-02-28T00:00:00Z</td>\n",
       "      <td>[Kuwait (Q817), Saudi Arabia (Q851), Iraq (Q79...</td>\n",
       "    </tr>\n",
       "    <tr>\n",
       "      <th>10382</th>\n",
       "      <td>34059</td>\n",
       "      <td>War of 1812</td>\n",
       "      <td>military conflict</td>\n",
       "      <td>221374</td>\n",
       "      <td>7723978</td>\n",
       "      <td>106</td>\n",
       "      <td>2,200–3,721 killed in action {{sfn|Clodfelter|...</td>\n",
       "      <td>+1815-02-18T00:00:00Z</td>\n",
       "      <td>[Atlantic Ocean (Q97), Pacific Ocean (Q98), No...</td>\n",
       "    </tr>\n",
       "    <tr>\n",
       "      <th>2558</th>\n",
       "      <td>253767</td>\n",
       "      <td>Dunkirk evacuation</td>\n",
       "      <td>military conflict</td>\n",
       "      <td>59983</td>\n",
       "      <td>6754805</td>\n",
       "      <td>0</td>\n",
       "      <td>None</td>\n",
       "      <td>+1940-06-04T00:00:00Z</td>\n",
       "      <td>[Dunkirk (Q45797), English channel (Q34640)]</td>\n",
       "    </tr>\n",
       "    <tr>\n",
       "      <th>9108</th>\n",
       "      <td>4284</td>\n",
       "      <td>Battle of Stalingrad</td>\n",
       "      <td>military conflict</td>\n",
       "      <td>127960</td>\n",
       "      <td>5955534</td>\n",
       "      <td>137</td>\n",
       "      <td>{{Unbulleted list\\n|'''647,300–868,374'''\\n|Fl...</td>\n",
       "      <td>+1943-02-02T00:00:00Z</td>\n",
       "      <td>Volgograd (Q914)</td>\n",
       "    </tr>\n",
       "    <tr>\n",
       "      <th>7372</th>\n",
       "      <td>5043324</td>\n",
       "      <td>Iraq War</td>\n",
       "      <td>military conflict</td>\n",
       "      <td>257517</td>\n",
       "      <td>5718543</td>\n",
       "      <td>419</td>\n",
       "      <td>'''[[List of Iraqi security forces fatality re...</td>\n",
       "      <td>+2011-12-15T00:00:00Z</td>\n",
       "      <td>Iraq (Q796)</td>\n",
       "    </tr>\n",
       "    <tr>\n",
       "      <th>1642</th>\n",
       "      <td>6827</td>\n",
       "      <td>Cuban Missile Crisis</td>\n",
       "      <td>military conflict</td>\n",
       "      <td>142915</td>\n",
       "      <td>5575835</td>\n",
       "      <td>149</td>\n",
       "      <td>None</td>\n",
       "      <td>+1962-10-28T00:00:00Z</td>\n",
       "      <td>[Cuba (Q241), Caribbean Sea (Q1247)]</td>\n",
       "    </tr>\n",
       "    <tr>\n",
       "      <th>3687</th>\n",
       "      <td>501984</td>\n",
       "      <td>Battle of the Alamo</td>\n",
       "      <td>military conflict</td>\n",
       "      <td>71766</td>\n",
       "      <td>5315422</td>\n",
       "      <td>128</td>\n",
       "      <td>400–600 killed and wounded {{sfnp|Hardin|1994|...</td>\n",
       "      <td>+1836-03-06T00:00:00Z</td>\n",
       "      <td>San Antonio (Q975)</td>\n",
       "    </tr>\n",
       "    <tr>\n",
       "      <th>1892</th>\n",
       "      <td>30275656</td>\n",
       "      <td>Wars of the Roses</td>\n",
       "      <td>military conflict</td>\n",
       "      <td>101546</td>\n",
       "      <td>5314162</td>\n",
       "      <td>14</td>\n",
       "      <td>None</td>\n",
       "      <td>+1487-06-16T00:00:00Z</td>\n",
       "      <td>England (Q21)</td>\n",
       "    </tr>\n",
       "    <tr>\n",
       "      <th>298</th>\n",
       "      <td>11523</td>\n",
       "      <td>Falklands War</td>\n",
       "      <td>military conflict</td>\n",
       "      <td>139210</td>\n",
       "      <td>5279593</td>\n",
       "      <td>156</td>\n",
       "      <td>{{unbulleted list\\n  | 255 killed|refn|255 mil...</td>\n",
       "      <td>+1982-06-14T00:00:00Z</td>\n",
       "      <td>[Falkland Islands (Q9648), South Georgia and t...</td>\n",
       "    </tr>\n",
       "    <tr>\n",
       "      <th>11106</th>\n",
       "      <td>32923579</td>\n",
       "      <td>Jebel Akhdar War</td>\n",
       "      <td>military conflict</td>\n",
       "      <td>13818</td>\n",
       "      <td>4995516</td>\n",
       "      <td>12</td>\n",
       "      <td>1 British pilot killed (1958 air campaigns) &lt;b...</td>\n",
       "      <td>+1959-00-00T00:00:00Z</td>\n",
       "      <td>Muscat and Oman (Q157734)</td>\n",
       "    </tr>\n",
       "    <tr>\n",
       "      <th>7141</th>\n",
       "      <td>4356</td>\n",
       "      <td>Battle of Waterloo</td>\n",
       "      <td>military conflict</td>\n",
       "      <td>159734</td>\n",
       "      <td>4975037</td>\n",
       "      <td>19</td>\n",
       "      <td>'''Total''': 41,000\\n* 24,000 to 26,000 casual...</td>\n",
       "      <td>18 June 1815</td>\n",
       "      <td>Waterloo (Q179034)</td>\n",
       "    </tr>\n",
       "    <tr>\n",
       "      <th>5251</th>\n",
       "      <td>7746616</td>\n",
       "      <td>Death of Osama bin Laden</td>\n",
       "      <td>historical event, military conflict</td>\n",
       "      <td>220406</td>\n",
       "      <td>4938029</td>\n",
       "      <td>336</td>\n",
       "      <td>None</td>\n",
       "      <td>None</td>\n",
       "      <td>Osama bin Laden's compound in Abbottabad (Q306...</td>\n",
       "    </tr>\n",
       "    <tr>\n",
       "      <th>5877</th>\n",
       "      <td>60921</td>\n",
       "      <td>Battle of the Somme</td>\n",
       "      <td>military conflict</td>\n",
       "      <td>84191</td>\n",
       "      <td>4857583</td>\n",
       "      <td>12</td>\n",
       "      <td>{{flagicon|British Empire}} c. 456,000 {{sfn|S...</td>\n",
       "      <td>+1916-11-17T00:00:00Z</td>\n",
       "      <td>River Somme (Q37646)</td>\n",
       "    </tr>\n",
       "    <tr>\n",
       "      <th>742</th>\n",
       "      <td>29328</td>\n",
       "      <td>Six-Day War</td>\n",
       "      <td>military conflict</td>\n",
       "      <td>170832</td>\n",
       "      <td>4808587</td>\n",
       "      <td>190</td>\n",
       "      <td>776–983 killed&lt;br /&gt;4,517 wounded&lt;br /&gt;15 capt...</td>\n",
       "      <td>+1968-06-10T00:00:00Z</td>\n",
       "      <td>Middle East (Q7204)</td>\n",
       "    </tr>\n",
       "    <tr>\n",
       "      <th>11293</th>\n",
       "      <td>18842471</td>\n",
       "      <td>Spanish Civil War</td>\n",
       "      <td>military conflict</td>\n",
       "      <td>172262</td>\n",
       "      <td>4768677</td>\n",
       "      <td>381</td>\n",
       "      <td>None</td>\n",
       "      <td>None</td>\n",
       "      <td>None</td>\n",
       "    </tr>\n",
       "    <tr>\n",
       "      <th>371</th>\n",
       "      <td>55066</td>\n",
       "      <td>Nanking Massacre</td>\n",
       "      <td>military conflict, Chinese</td>\n",
       "      <td>122298</td>\n",
       "      <td>4672938</td>\n",
       "      <td>159</td>\n",
       "      <td>+200000</td>\n",
       "      <td>+1938-01-01T00:00:00Z</td>\n",
       "      <td>Nanjing (Q16666)</td>\n",
       "    </tr>\n",
       "    <tr>\n",
       "      <th>370</th>\n",
       "      <td>30770</td>\n",
       "      <td>The Troubles</td>\n",
       "      <td>military conflict</td>\n",
       "      <td>143560</td>\n",
       "      <td>4660829</td>\n",
       "      <td>214</td>\n",
       "      <td>British Army: 705 &lt;br /&gt;&amp;nbsp;∟&lt;small&gt;(inc. [[...</td>\n",
       "      <td>+1998-00-00T00:00:00Z</td>\n",
       "      <td>Northern Ireland (Q26)</td>\n",
       "    </tr>\n",
       "    <tr>\n",
       "      <th>12095</th>\n",
       "      <td>57998</td>\n",
       "      <td>Battle of the Bulge</td>\n",
       "      <td>military conflict</td>\n",
       "      <td>146367</td>\n",
       "      <td>4655055</td>\n",
       "      <td>87</td>\n",
       "      <td>None</td>\n",
       "      <td>+1945-01-25T00:00:00Z</td>\n",
       "      <td>Ardennes (Q151985)</td>\n",
       "    </tr>\n",
       "    <tr>\n",
       "      <th>13226</th>\n",
       "      <td>21073732</td>\n",
       "      <td>Mexican–American War</td>\n",
       "      <td>military conflict</td>\n",
       "      <td>145978</td>\n",
       "      <td>4322244</td>\n",
       "      <td>178</td>\n",
       "      <td>1,733 killed in battle&lt;br&gt;(1,721 soldiers, 11 ...</td>\n",
       "      <td>+1848-02-02T00:00:00Z</td>\n",
       "      <td>Mexico (Q96)</td>\n",
       "    </tr>\n",
       "    <tr>\n",
       "      <th>10925</th>\n",
       "      <td>28265</td>\n",
       "      <td>Spanish–American War</td>\n",
       "      <td>military conflict</td>\n",
       "      <td>134783</td>\n",
       "      <td>4315549</td>\n",
       "      <td>136</td>\n",
       "      <td>'''U.S.:'''\\n* 281 killed and 1,577 wounded &lt;s...</td>\n",
       "      <td>+1898-08-11T00:00:00Z</td>\n",
       "      <td>{{plainlist|\\n* [[Cuba]] and [[Puerto Rico]] (...</td>\n",
       "    </tr>\n",
       "    <tr>\n",
       "      <th>...</th>\n",
       "      <td>...</td>\n",
       "      <td>...</td>\n",
       "      <td>...</td>\n",
       "      <td>...</td>\n",
       "      <td>...</td>\n",
       "      <td>...</td>\n",
       "      <td>...</td>\n",
       "      <td>...</td>\n",
       "      <td>...</td>\n",
       "    </tr>\n",
       "    <tr>\n",
       "      <th>297</th>\n",
       "      <td>58337122</td>\n",
       "      <td>Battle of Horreum Margi</td>\n",
       "      <td>military conflict</td>\n",
       "      <td>1885</td>\n",
       "      <td>206</td>\n",
       "      <td>0</td>\n",
       "      <td>None</td>\n",
       "      <td>None</td>\n",
       "      <td>None</td>\n",
       "    </tr>\n",
       "    <tr>\n",
       "      <th>9164</th>\n",
       "      <td>56640476</td>\n",
       "      <td>Operation of Sidi Aïch</td>\n",
       "      <td>military conflict</td>\n",
       "      <td>2351</td>\n",
       "      <td>206</td>\n",
       "      <td>1</td>\n",
       "      <td>unknown</td>\n",
       "      <td>March 2015</td>\n",
       "      <td>Sidi Aïch, Tunisia</td>\n",
       "    </tr>\n",
       "    <tr>\n",
       "      <th>4131</th>\n",
       "      <td>58277329</td>\n",
       "      <td>Battle of Remich</td>\n",
       "      <td>military conflict</td>\n",
       "      <td>2383</td>\n",
       "      <td>202</td>\n",
       "      <td>0</td>\n",
       "      <td>None</td>\n",
       "      <td>None</td>\n",
       "      <td>None</td>\n",
       "    </tr>\n",
       "    <tr>\n",
       "      <th>7138</th>\n",
       "      <td>53599692</td>\n",
       "      <td>Battle of Shangcai (1930)</td>\n",
       "      <td>military conflict</td>\n",
       "      <td>621</td>\n",
       "      <td>198</td>\n",
       "      <td>0</td>\n",
       "      <td>None</td>\n",
       "      <td>June 16, 1930</td>\n",
       "      <td>Shangcai County (Q1199103)</td>\n",
       "    </tr>\n",
       "    <tr>\n",
       "      <th>7477</th>\n",
       "      <td>57340470</td>\n",
       "      <td>Mamia's invasion of Jiketi</td>\n",
       "      <td>military conflict</td>\n",
       "      <td>4890</td>\n",
       "      <td>190</td>\n",
       "      <td>6</td>\n",
       "      <td>None</td>\n",
       "      <td>None</td>\n",
       "      <td>None</td>\n",
       "    </tr>\n",
       "    <tr>\n",
       "      <th>7900</th>\n",
       "      <td>55422452</td>\n",
       "      <td>Pecheneg revolt</td>\n",
       "      <td>military conflict</td>\n",
       "      <td>4908</td>\n",
       "      <td>189</td>\n",
       "      <td>0</td>\n",
       "      <td>None</td>\n",
       "      <td>1049 – 1053</td>\n",
       "      <td>Thrace (Q41741)</td>\n",
       "    </tr>\n",
       "    <tr>\n",
       "      <th>7281</th>\n",
       "      <td>56497849</td>\n",
       "      <td>Schevkal campaign</td>\n",
       "      <td>military conflict</td>\n",
       "      <td>1713</td>\n",
       "      <td>184</td>\n",
       "      <td>4</td>\n",
       "      <td>7000</td>\n",
       "      <td>+1605-00-00T00:00:00Z</td>\n",
       "      <td>Shamkhalate of Tarki</td>\n",
       "    </tr>\n",
       "    <tr>\n",
       "      <th>7001</th>\n",
       "      <td>56969275</td>\n",
       "      <td>Battle of Skornishchevo</td>\n",
       "      <td>military conflict</td>\n",
       "      <td>4754</td>\n",
       "      <td>174</td>\n",
       "      <td>0</td>\n",
       "      <td>None</td>\n",
       "      <td>14 December 1371</td>\n",
       "      <td>Skornishchevo. [[Ryazan]], [[Ryazan Oblast]], ...</td>\n",
       "    </tr>\n",
       "    <tr>\n",
       "      <th>7951</th>\n",
       "      <td>37634406</td>\n",
       "      <td>Battle of Daugavgrīva (1609)</td>\n",
       "      <td>military conflict</td>\n",
       "      <td>2578</td>\n",
       "      <td>174</td>\n",
       "      <td>0</td>\n",
       "      <td>None</td>\n",
       "      <td>October 6, 1609</td>\n",
       "      <td>Daugavgrīva (Q1172924)</td>\n",
       "    </tr>\n",
       "    <tr>\n",
       "      <th>13493</th>\n",
       "      <td>38360586</td>\n",
       "      <td>Raid on Elizabethtown and Newark</td>\n",
       "      <td>military conflict</td>\n",
       "      <td>5208</td>\n",
       "      <td>172</td>\n",
       "      <td>3</td>\n",
       "      <td>approx. 67 captured.</td>\n",
       "      <td>January 25, 1780</td>\n",
       "      <td>Elizabeth (Q138311)</td>\n",
       "    </tr>\n",
       "    <tr>\n",
       "      <th>3148</th>\n",
       "      <td>57545272</td>\n",
       "      <td>Ajlun offensive</td>\n",
       "      <td>military conflict</td>\n",
       "      <td>3627</td>\n",
       "      <td>171</td>\n",
       "      <td>2</td>\n",
       "      <td>None</td>\n",
       "      <td>12–23 July 1971&lt;br&gt;( {{Age in years, months, w...</td>\n",
       "      <td>Jerash (Q31565)</td>\n",
       "    </tr>\n",
       "    <tr>\n",
       "      <th>7004</th>\n",
       "      <td>57790633</td>\n",
       "      <td>Siege of Ganja (1213)</td>\n",
       "      <td>military conflict</td>\n",
       "      <td>2812</td>\n",
       "      <td>167</td>\n",
       "      <td>1</td>\n",
       "      <td>None</td>\n",
       "      <td>1213</td>\n",
       "      <td>Ganja (Q131290)</td>\n",
       "    </tr>\n",
       "    <tr>\n",
       "      <th>6096</th>\n",
       "      <td>50211512</td>\n",
       "      <td>Raid of 904 in Pallars and Ribagorza</td>\n",
       "      <td>military conflict</td>\n",
       "      <td>4144</td>\n",
       "      <td>165</td>\n",
       "      <td>4</td>\n",
       "      <td>None</td>\n",
       "      <td>None</td>\n",
       "      <td>None</td>\n",
       "    </tr>\n",
       "    <tr>\n",
       "      <th>11519</th>\n",
       "      <td>33064578</td>\n",
       "      <td>Raid on Ra's Lanuf</td>\n",
       "      <td>military conflict</td>\n",
       "      <td>4897</td>\n",
       "      <td>161</td>\n",
       "      <td>4</td>\n",
       "      <td>15-17 fighters killed, 2 workers wounded</td>\n",
       "      <td>12 September 2011</td>\n",
       "      <td>Ra's Lanuf (Q58462)</td>\n",
       "    </tr>\n",
       "    <tr>\n",
       "      <th>10323</th>\n",
       "      <td>58523170</td>\n",
       "      <td>Battle of Ba Dau 1128</td>\n",
       "      <td>military conflict</td>\n",
       "      <td>1296</td>\n",
       "      <td>159</td>\n",
       "      <td>2</td>\n",
       "      <td>unknown</td>\n",
       "      <td>January-February 1128</td>\n",
       "      <td>Ba Dau (today is location at [[Nghệ An]] provi...</td>\n",
       "    </tr>\n",
       "    <tr>\n",
       "      <th>738</th>\n",
       "      <td>57419656</td>\n",
       "      <td>Serbian Uprising of 1149</td>\n",
       "      <td>military conflict</td>\n",
       "      <td>2368</td>\n",
       "      <td>149</td>\n",
       "      <td>0</td>\n",
       "      <td>None</td>\n",
       "      <td>None</td>\n",
       "      <td>None</td>\n",
       "    </tr>\n",
       "    <tr>\n",
       "      <th>14042</th>\n",
       "      <td>58333523</td>\n",
       "      <td>Battle of Noviodunum</td>\n",
       "      <td>military conflict</td>\n",
       "      <td>1477</td>\n",
       "      <td>148</td>\n",
       "      <td>0</td>\n",
       "      <td>None</td>\n",
       "      <td>None</td>\n",
       "      <td>None</td>\n",
       "    </tr>\n",
       "    <tr>\n",
       "      <th>9362</th>\n",
       "      <td>58433764</td>\n",
       "      <td>Battle of Hojuji</td>\n",
       "      <td>military conflict</td>\n",
       "      <td>878</td>\n",
       "      <td>142</td>\n",
       "      <td>1</td>\n",
       "      <td>None</td>\n",
       "      <td>January 1184</td>\n",
       "      <td>[[Kamakura]], [[Japan]]</td>\n",
       "    </tr>\n",
       "    <tr>\n",
       "      <th>3369</th>\n",
       "      <td>58417657</td>\n",
       "      <td>Battle of Passo Fundo</td>\n",
       "      <td>military conflict</td>\n",
       "      <td>3868</td>\n",
       "      <td>141</td>\n",
       "      <td>4</td>\n",
       "      <td>240 killed</td>\n",
       "      <td>29 June 1894</td>\n",
       "      <td>Passo Fundo (Q525647)</td>\n",
       "    </tr>\n",
       "    <tr>\n",
       "      <th>6412</th>\n",
       "      <td>58334638</td>\n",
       "      <td>Battle of Bergamo</td>\n",
       "      <td>military conflict</td>\n",
       "      <td>1288</td>\n",
       "      <td>136</td>\n",
       "      <td>0</td>\n",
       "      <td>None</td>\n",
       "      <td>None</td>\n",
       "      <td>None</td>\n",
       "    </tr>\n",
       "    <tr>\n",
       "      <th>9977</th>\n",
       "      <td>57339299</td>\n",
       "      <td>Vamek's invasion of Jiketi</td>\n",
       "      <td>military conflict</td>\n",
       "      <td>3853</td>\n",
       "      <td>135</td>\n",
       "      <td>4</td>\n",
       "      <td>None</td>\n",
       "      <td>None</td>\n",
       "      <td>None</td>\n",
       "    </tr>\n",
       "    <tr>\n",
       "      <th>10648</th>\n",
       "      <td>58522907</td>\n",
       "      <td>Battle of Vijaya 1377</td>\n",
       "      <td>military conflict</td>\n",
       "      <td>1726</td>\n",
       "      <td>132</td>\n",
       "      <td>1</td>\n",
       "      <td>~ 85.000 - 95.000</td>\n",
       "      <td>1377 (Vietnam lunar calendar: 24 January)</td>\n",
       "      <td>Vijaya (today is [[Nhơn Hậu]], [[An Nhơn]] dis...</td>\n",
       "    </tr>\n",
       "    <tr>\n",
       "      <th>5656</th>\n",
       "      <td>58334166</td>\n",
       "      <td>Battle of Arles (425)</td>\n",
       "      <td>military conflict</td>\n",
       "      <td>1530</td>\n",
       "      <td>132</td>\n",
       "      <td>0</td>\n",
       "      <td>None</td>\n",
       "      <td>None</td>\n",
       "      <td>None</td>\n",
       "    </tr>\n",
       "    <tr>\n",
       "      <th>10649</th>\n",
       "      <td>58525519</td>\n",
       "      <td>Dečani offensive</td>\n",
       "      <td>military conflict</td>\n",
       "      <td>3110</td>\n",
       "      <td>108</td>\n",
       "      <td>2</td>\n",
       "      <td>None</td>\n",
       "      <td>None</td>\n",
       "      <td>None</td>\n",
       "    </tr>\n",
       "    <tr>\n",
       "      <th>6705</th>\n",
       "      <td>58246344</td>\n",
       "      <td>Battle of Suchodoł</td>\n",
       "      <td>military conflict</td>\n",
       "      <td>1942</td>\n",
       "      <td>101</td>\n",
       "      <td>0</td>\n",
       "      <td>None</td>\n",
       "      <td>None</td>\n",
       "      <td>None</td>\n",
       "    </tr>\n",
       "    <tr>\n",
       "      <th>2150</th>\n",
       "      <td>58320308</td>\n",
       "      <td>Battle of Acheral</td>\n",
       "      <td>military conflict</td>\n",
       "      <td>5671</td>\n",
       "      <td>98</td>\n",
       "      <td>2</td>\n",
       "      <td>None</td>\n",
       "      <td>None</td>\n",
       "      <td>None</td>\n",
       "    </tr>\n",
       "    <tr>\n",
       "      <th>12867</th>\n",
       "      <td>53153495</td>\n",
       "      <td>Battle at Blue Coat's Village</td>\n",
       "      <td>military conflict</td>\n",
       "      <td>8618</td>\n",
       "      <td>96</td>\n",
       "      <td>9</td>\n",
       "      <td>Some, but unknown</td>\n",
       "      <td>June 27, 1843</td>\n",
       "      <td>Near Plum Creek, north of Loup River, present ...</td>\n",
       "    </tr>\n",
       "    <tr>\n",
       "      <th>6613</th>\n",
       "      <td>33538478</td>\n",
       "      <td>Tarrafal Bay Ambush</td>\n",
       "      <td>military conflict</td>\n",
       "      <td>9907</td>\n",
       "      <td>93</td>\n",
       "      <td>8</td>\n",
       "      <td>None</td>\n",
       "      <td>None</td>\n",
       "      <td>None</td>\n",
       "    </tr>\n",
       "    <tr>\n",
       "      <th>7116</th>\n",
       "      <td>31274389</td>\n",
       "      <td>Second raid on Banu Thalabah</td>\n",
       "      <td>military conflict</td>\n",
       "      <td>3025</td>\n",
       "      <td>91</td>\n",
       "      <td>4</td>\n",
       "      <td>None.</td>\n",
       "      <td>August 627AD in 4th month, 6AH</td>\n",
       "      <td>Ghamrah, Saudi Arabia (Q15221601)</td>\n",
       "    </tr>\n",
       "    <tr>\n",
       "      <th>2937</th>\n",
       "      <td>57549417</td>\n",
       "      <td>Battle of Le Quesnoy (1568)</td>\n",
       "      <td>military conflict</td>\n",
       "      <td>8057</td>\n",
       "      <td>85</td>\n",
       "      <td>11</td>\n",
       "      <td>None</td>\n",
       "      <td>12 November 1568</td>\n",
       "      <td>Le Quesnoy (Q180067)</td>\n",
       "    </tr>\n",
       "  </tbody>\n",
       "</table>\n",
       "<p>14158 rows × 9 columns</p>\n",
       "</div>"
      ],
      "text/plain": [
       "             id                                      title  \\\n",
       "2703      32927                               World War II   \n",
       "9594    4764461                                World War I   \n",
       "218       32611                                Vietnam War   \n",
       "521         863                         American Civil War   \n",
       "6285   11778948  Atomic bombings of Hiroshima and Nagasaki   \n",
       "13198     16772                                 Korean War   \n",
       "124       60098                     Attack on Pearl Harbor   \n",
       "9367     252854                          Normandy landings   \n",
       "11474     73246                          Battle of Dunkirk   \n",
       "3832        771                 American Revolutionary War   \n",
       "5879     182000                                   Gulf War   \n",
       "10382     34059                                War of 1812   \n",
       "2558     253767                         Dunkirk evacuation   \n",
       "9108       4284                       Battle of Stalingrad   \n",
       "7372    5043324                                   Iraq War   \n",
       "1642       6827                       Cuban Missile Crisis   \n",
       "3687     501984                        Battle of the Alamo   \n",
       "1892   30275656                          Wars of the Roses   \n",
       "298       11523                              Falklands War   \n",
       "11106  32923579                           Jebel Akhdar War   \n",
       "7141       4356                         Battle of Waterloo   \n",
       "5251    7746616                   Death of Osama bin Laden   \n",
       "5877      60921                        Battle of the Somme   \n",
       "742       29328                                Six-Day War   \n",
       "11293  18842471                          Spanish Civil War   \n",
       "371       55066                           Nanking Massacre   \n",
       "370       30770                               The Troubles   \n",
       "12095     57998                        Battle of the Bulge   \n",
       "13226  21073732                       Mexican–American War   \n",
       "10925     28265                       Spanish–American War   \n",
       "...         ...                                        ...   \n",
       "297    58337122                    Battle of Horreum Margi   \n",
       "9164   56640476                     Operation of Sidi Aïch   \n",
       "4131   58277329                           Battle of Remich   \n",
       "7138   53599692                  Battle of Shangcai (1930)   \n",
       "7477   57340470                 Mamia's invasion of Jiketi   \n",
       "7900   55422452                            Pecheneg revolt   \n",
       "7281   56497849                          Schevkal campaign   \n",
       "7001   56969275                    Battle of Skornishchevo   \n",
       "7951   37634406               Battle of Daugavgrīva (1609)   \n",
       "13493  38360586           Raid on Elizabethtown and Newark   \n",
       "3148   57545272                            Ajlun offensive   \n",
       "7004   57790633                      Siege of Ganja (1213)   \n",
       "6096   50211512       Raid of 904 in Pallars and Ribagorza   \n",
       "11519  33064578                         Raid on Ra's Lanuf   \n",
       "10323  58523170                      Battle of Ba Dau 1128   \n",
       "738    57419656                   Serbian Uprising of 1149   \n",
       "14042  58333523                       Battle of Noviodunum   \n",
       "9362   58433764                           Battle of Hojuji   \n",
       "3369   58417657                      Battle of Passo Fundo   \n",
       "6412   58334638                          Battle of Bergamo   \n",
       "9977   57339299                 Vamek's invasion of Jiketi   \n",
       "10648  58522907                      Battle of Vijaya 1377   \n",
       "5656   58334166                      Battle of Arles (425)   \n",
       "10649  58525519                           Dečani offensive   \n",
       "6705   58246344                         Battle of Suchodoł   \n",
       "2150   58320308                          Battle of Acheral   \n",
       "12867  53153495              Battle at Blue Coat's Village   \n",
       "6613   33538478                        Tarrafal Bay Ambush   \n",
       "7116   31274389               Second raid on Banu Thalabah   \n",
       "2937   57549417                Battle of Le Quesnoy (1568)   \n",
       "\n",
       "                                categories  article_lenght     views  \\\n",
       "2703                     military conflict          223212  33835972   \n",
       "9594                     military conflict          284173  31481685   \n",
       "218                      military conflict          340373  22085710   \n",
       "521                      military conflict          203619  17696187   \n",
       "6285                     military conflict          198440  13998970   \n",
       "13198        military conflict, East Asian          262686  12674791   \n",
       "124                      military conflict          107478  12641959   \n",
       "9367                     military conflict           85344  11984783   \n",
       "11474                    military conflict           40492  11172884   \n",
       "3832                     military conflict          238972   8794983   \n",
       "5879                     military conflict          197467   8085481   \n",
       "10382                    military conflict          221374   7723978   \n",
       "2558                     military conflict           59983   6754805   \n",
       "9108                     military conflict          127960   5955534   \n",
       "7372                     military conflict          257517   5718543   \n",
       "1642                     military conflict          142915   5575835   \n",
       "3687                     military conflict           71766   5315422   \n",
       "1892                     military conflict          101546   5314162   \n",
       "298                      military conflict          139210   5279593   \n",
       "11106                    military conflict           13818   4995516   \n",
       "7141                     military conflict          159734   4975037   \n",
       "5251   historical event, military conflict          220406   4938029   \n",
       "5877                     military conflict           84191   4857583   \n",
       "742                      military conflict          170832   4808587   \n",
       "11293                    military conflict          172262   4768677   \n",
       "371             military conflict, Chinese          122298   4672938   \n",
       "370                      military conflict          143560   4660829   \n",
       "12095                    military conflict          146367   4655055   \n",
       "13226                    military conflict          145978   4322244   \n",
       "10925                    military conflict          134783   4315549   \n",
       "...                                    ...             ...       ...   \n",
       "297                      military conflict            1885       206   \n",
       "9164                     military conflict            2351       206   \n",
       "4131                     military conflict            2383       202   \n",
       "7138                     military conflict             621       198   \n",
       "7477                     military conflict            4890       190   \n",
       "7900                     military conflict            4908       189   \n",
       "7281                     military conflict            1713       184   \n",
       "7001                     military conflict            4754       174   \n",
       "7951                     military conflict            2578       174   \n",
       "13493                    military conflict            5208       172   \n",
       "3148                     military conflict            3627       171   \n",
       "7004                     military conflict            2812       167   \n",
       "6096                     military conflict            4144       165   \n",
       "11519                    military conflict            4897       161   \n",
       "10323                    military conflict            1296       159   \n",
       "738                      military conflict            2368       149   \n",
       "14042                    military conflict            1477       148   \n",
       "9362                     military conflict             878       142   \n",
       "3369                     military conflict            3868       141   \n",
       "6412                     military conflict            1288       136   \n",
       "9977                     military conflict            3853       135   \n",
       "10648                    military conflict            1726       132   \n",
       "5656                     military conflict            1530       132   \n",
       "10649                    military conflict            3110       108   \n",
       "6705                     military conflict            1942       101   \n",
       "2150                     military conflict            5671        98   \n",
       "12867                    military conflict            8618        96   \n",
       "6613                     military conflict            9907        93   \n",
       "7116                     military conflict            3025        91   \n",
       "2937                     military conflict            8057        85   \n",
       "\n",
       "       refs_count                                              death  \\\n",
       "2703          238                                          +73000000   \n",
       "9594          254                                          +17000000   \n",
       "218           536  {{Plainlist}} * {{flagdeco|North Vietnam}} {{f...   \n",
       "521           212  {{plainlist|\\n*110,000+ killed in action/died ...   \n",
       "6285          143  20 British, Dutch, and American [[prisoners of...   \n",
       "13198         271                                               None   \n",
       "124           147                                              +2467   \n",
       "9367            0  10,000+ casualties; 4,414 confirmed dead {{efn...   \n",
       "11474          49  * (Estimated)<br />61,774 total killed and wou...   \n",
       "3832          598  '''United States:'''<br />\\n<small>25,000–70,0...   \n",
       "5879          239  '''Coalition:'''<br />292 killed (147 killed b...   \n",
       "10382         106  2,200–3,721 killed in action {{sfn|Clodfelter|...   \n",
       "2558            0                                               None   \n",
       "9108          137  {{Unbulleted list\\n|'''647,300–868,374'''\\n|Fl...   \n",
       "7372          419  '''[[List of Iraqi security forces fatality re...   \n",
       "1642          149                                               None   \n",
       "3687          128  400–600 killed and wounded {{sfnp|Hardin|1994|...   \n",
       "1892           14                                               None   \n",
       "298           156  {{unbulleted list\\n  | 255 killed|refn|255 mil...   \n",
       "11106          12  1 British pilot killed (1958 air campaigns) <b...   \n",
       "7141           19  '''Total''': 41,000\\n* 24,000 to 26,000 casual...   \n",
       "5251          336                                               None   \n",
       "5877           12  {{flagicon|British Empire}} c. 456,000 {{sfn|S...   \n",
       "742           190  776–983 killed<br />4,517 wounded<br />15 capt...   \n",
       "11293         381                                               None   \n",
       "371           159                                            +200000   \n",
       "370           214  British Army: 705 <br />&nbsp;∟<small>(inc. [[...   \n",
       "12095          87                                               None   \n",
       "13226         178  1,733 killed in battle<br>(1,721 soldiers, 11 ...   \n",
       "10925         136  '''U.S.:'''\\n* 281 killed and 1,577 wounded <s...   \n",
       "...           ...                                                ...   \n",
       "297             0                                               None   \n",
       "9164            1                                            unknown   \n",
       "4131            0                                               None   \n",
       "7138            0                                               None   \n",
       "7477            6                                               None   \n",
       "7900            0                                               None   \n",
       "7281            4                                               7000   \n",
       "7001            0                                               None   \n",
       "7951            0                                               None   \n",
       "13493           3                               approx. 67 captured.   \n",
       "3148            2                                               None   \n",
       "7004            1                                               None   \n",
       "6096            4                                               None   \n",
       "11519           4           15-17 fighters killed, 2 workers wounded   \n",
       "10323           2                                            unknown   \n",
       "738             0                                               None   \n",
       "14042           0                                               None   \n",
       "9362            1                                               None   \n",
       "3369            4                                         240 killed   \n",
       "6412            0                                               None   \n",
       "9977            4                                               None   \n",
       "10648           1                                  ~ 85.000 - 95.000   \n",
       "5656            0                                               None   \n",
       "10649           2                                               None   \n",
       "6705            0                                               None   \n",
       "2150            2                                               None   \n",
       "12867           9                                  Some, but unknown   \n",
       "6613            8                                               None   \n",
       "7116            4                                              None.   \n",
       "2937           11                                               None   \n",
       "\n",
       "                                                end_date  \\\n",
       "2703                               +1945-09-02T00:00:00Z   \n",
       "9594                               +1918-11-11T00:00:00Z   \n",
       "218                                +1975-04-30T00:00:00Z   \n",
       "521                                +1865-05-10T00:00:00Z   \n",
       "6285                         August 6 and August 9, 1945   \n",
       "13198                                               None   \n",
       "124                                                 None   \n",
       "9367                                         6 June 1944   \n",
       "11474                              +1940-06-04T00:00:00Z   \n",
       "3832                               +1783-09-03T00:00:00Z   \n",
       "5879                               +1991-02-28T00:00:00Z   \n",
       "10382                              +1815-02-18T00:00:00Z   \n",
       "2558                               +1940-06-04T00:00:00Z   \n",
       "9108                               +1943-02-02T00:00:00Z   \n",
       "7372                               +2011-12-15T00:00:00Z   \n",
       "1642                               +1962-10-28T00:00:00Z   \n",
       "3687                               +1836-03-06T00:00:00Z   \n",
       "1892                               +1487-06-16T00:00:00Z   \n",
       "298                                +1982-06-14T00:00:00Z   \n",
       "11106                              +1959-00-00T00:00:00Z   \n",
       "7141                                        18 June 1815   \n",
       "5251                                                None   \n",
       "5877                               +1916-11-17T00:00:00Z   \n",
       "742                                +1968-06-10T00:00:00Z   \n",
       "11293                                               None   \n",
       "371                                +1938-01-01T00:00:00Z   \n",
       "370                                +1998-00-00T00:00:00Z   \n",
       "12095                              +1945-01-25T00:00:00Z   \n",
       "13226                              +1848-02-02T00:00:00Z   \n",
       "10925                              +1898-08-11T00:00:00Z   \n",
       "...                                                  ...   \n",
       "297                                                 None   \n",
       "9164                                          March 2015   \n",
       "4131                                                None   \n",
       "7138                                       June 16, 1930   \n",
       "7477                                                None   \n",
       "7900                                         1049 – 1053   \n",
       "7281                               +1605-00-00T00:00:00Z   \n",
       "7001                                    14 December 1371   \n",
       "7951                                     October 6, 1609   \n",
       "13493                                   January 25, 1780   \n",
       "3148   12–23 July 1971<br>( {{Age in years, months, w...   \n",
       "7004                                                1213   \n",
       "6096                                                None   \n",
       "11519                                  12 September 2011   \n",
       "10323                              January-February 1128   \n",
       "738                                                 None   \n",
       "14042                                               None   \n",
       "9362                                        January 1184   \n",
       "3369                                        29 June 1894   \n",
       "6412                                                None   \n",
       "9977                                                None   \n",
       "10648          1377 (Vietnam lunar calendar: 24 January)   \n",
       "5656                                                None   \n",
       "10649                                               None   \n",
       "6705                                                None   \n",
       "2150                                                None   \n",
       "12867                                      June 27, 1843   \n",
       "6613                                                None   \n",
       "7116                      August 627AD in 4th month, 6AH   \n",
       "2937                                    12 November 1568   \n",
       "\n",
       "                                                location  \n",
       "2703   [Russia (Q159), Europe (Q46), Africa (Q15), Pa...  \n",
       "9594   [Europe (Q46), Australia and Oceania (Q55643),...  \n",
       "218                              South Vietnam (Q180573)  \n",
       "521    [Southern United States (Q49042), Northern Uni...  \n",
       "6285             [Hiroshima (Q34664), Nagasaki (Q38234)]  \n",
       "13198                                               None  \n",
       "124                               Pearl Harbor (Q127091)  \n",
       "9367                                   Normandy (Q15878)  \n",
       "11474                                   Dunkirk (Q45797)  \n",
       "3832   Eastern North America, [[Caribbean Sea]], [[In...  \n",
       "5879   [Kuwait (Q817), Saudi Arabia (Q851), Iraq (Q79...  \n",
       "10382  [Atlantic Ocean (Q97), Pacific Ocean (Q98), No...  \n",
       "2558        [Dunkirk (Q45797), English channel (Q34640)]  \n",
       "9108                                    Volgograd (Q914)  \n",
       "7372                                         Iraq (Q796)  \n",
       "1642                [Cuba (Q241), Caribbean Sea (Q1247)]  \n",
       "3687                                  San Antonio (Q975)  \n",
       "1892                                       England (Q21)  \n",
       "298    [Falkland Islands (Q9648), South Georgia and t...  \n",
       "11106                          Muscat and Oman (Q157734)  \n",
       "7141                                  Waterloo (Q179034)  \n",
       "5251   Osama bin Laden's compound in Abbottabad (Q306...  \n",
       "5877                                River Somme (Q37646)  \n",
       "742                                  Middle East (Q7204)  \n",
       "11293                                               None  \n",
       "371                                     Nanjing (Q16666)  \n",
       "370                               Northern Ireland (Q26)  \n",
       "12095                                 Ardennes (Q151985)  \n",
       "13226                                       Mexico (Q96)  \n",
       "10925  {{plainlist|\\n* [[Cuba]] and [[Puerto Rico]] (...  \n",
       "...                                                  ...  \n",
       "297                                                 None  \n",
       "9164                                  Sidi Aïch, Tunisia  \n",
       "4131                                                None  \n",
       "7138                          Shangcai County (Q1199103)  \n",
       "7477                                                None  \n",
       "7900                                     Thrace (Q41741)  \n",
       "7281                                Shamkhalate of Tarki  \n",
       "7001   Skornishchevo. [[Ryazan]], [[Ryazan Oblast]], ...  \n",
       "7951                              Daugavgrīva (Q1172924)  \n",
       "13493                                Elizabeth (Q138311)  \n",
       "3148                                     Jerash (Q31565)  \n",
       "7004                                     Ganja (Q131290)  \n",
       "6096                                                None  \n",
       "11519                                Ra's Lanuf (Q58462)  \n",
       "10323  Ba Dau (today is location at [[Nghệ An]] provi...  \n",
       "738                                                 None  \n",
       "14042                                               None  \n",
       "9362                             [[Kamakura]], [[Japan]]  \n",
       "3369                               Passo Fundo (Q525647)  \n",
       "6412                                                None  \n",
       "9977                                                None  \n",
       "10648  Vijaya (today is [[Nhơn Hậu]], [[An Nhơn]] dis...  \n",
       "5656                                                None  \n",
       "10649                                               None  \n",
       "6705                                                None  \n",
       "2150                                                None  \n",
       "12867  Near Plum Creek, north of Loup River, present ...  \n",
       "6613                                                None  \n",
       "7116                   Ghamrah, Saudi Arabia (Q15221601)  \n",
       "2937                                Le Quesnoy (Q180067)  \n",
       "\n",
       "[14158 rows x 9 columns]"
      ]
     },
     "execution_count": 88,
     "metadata": {},
     "output_type": "execute_result"
    }
   ],
   "source": [
    "popularity_civil_conflict_pd.sort_values(by='views', ascending=False)"
   ]
  },
  {
   "cell_type": "code",
   "execution_count": 89,
   "metadata": {},
   "outputs": [
    {
     "data": {
      "image/png": "[encoded data removed]",
      "text/plain": [
       "<Figure size 1080x540 with 12 Axes>"
      ]
     },
     "metadata": {
      "needs_background": "light"
     },
     "output_type": "display_data"
    }
   ],
   "source": [
    "sns.pairplot(data=popularity_civil_conflict_pd, vars=['article_lenght', 'views', 'refs_count'], aspect=2);"
   ]
  },
  {
   "cell_type": "code",
   "execution_count": 28,
   "metadata": {},
   "outputs": [
    {
     "name": "stderr",
     "output_type": "stream",
     "text": [
      "/Users/nasrine/miniconda3/envs/ada/lib/python3.6/site-packages/sklearn/preprocessing/data.py:323: DataConversionWarning: Data with input dtype int32, int64 were all converted to float64 by MinMaxScaler.\n",
      "  return self.partial_fit(X, y)\n"
     ]
    }
   ],
   "source": [
    "from sklearn import preprocessing\n",
    "min_max_scaler = preprocessing.MinMaxScaler(feature_range=(-1,1))\n",
    "popularity_civil_conflict_pd_minmax = min_max_scaler.fit_transform(popularity_civil_conflict_pd[['article_lenght', 'views']])"
   ]
  },
  {
   "cell_type": "code",
   "execution_count": 29,
   "metadata": {},
   "outputs": [
    {
     "data": {
      "text/plain": [
       "array([[-0.86529297, -0.93121921],\n",
       "       [-0.97579189, -0.99952246],\n",
       "       [-0.46692042, -0.99408277],\n",
       "       [-0.97110064, -0.99984285],\n",
       "       [-0.69258602, -0.98332087],\n",
       "       [-0.644906  , -0.99471776],\n",
       "       [-0.86462726, -0.98371388],\n",
       "       [-0.15273193, -0.9846891 ],\n",
       "       [-0.82126257, -0.99887252],\n",
       "       [-0.26306639, -0.99673381],\n",
       "       [-0.83431035, -0.99934792],\n",
       "       [-0.97041144, -0.99931008],\n",
       "       [-0.77915879, -0.9889946 ],\n",
       "       [-0.25917398, -0.99728092],\n",
       "       [-0.91968485, -0.99814995],\n",
       "       [-0.66475962, -0.97829372],\n",
       "       [-0.94144943, -0.99540096],\n",
       "       [-0.92694493, -0.99621538],\n",
       "       [-0.81942992, -0.99748109],\n",
       "       [-0.99024157, -0.99067957],\n",
       "       [-0.79400789, -0.99141312],\n",
       "       [ 1.        , -0.99296902],\n",
       "       [-0.34629497, -0.98036683],\n",
       "       [-0.72065521, -0.99271179],\n",
       "       [-0.94516171, -0.99605915],\n",
       "       [-0.77503143, -0.98292937],\n",
       "       [-0.95420744, -0.99943794],\n",
       "       [-0.65393607, -0.90888679],\n",
       "       [-0.96637023, -0.99504609],\n",
       "       [-0.9303361 , -0.99977786],\n",
       "       [-0.79224573, -0.99282652],\n",
       "       [-0.89873477, -0.99709082],\n",
       "       [-0.9380426 , -0.99272948],\n",
       "       [-0.6293677 , -0.90731289],\n",
       "       [-0.85186926, -0.99793483],\n",
       "       [-0.96545391, -0.99884048],\n",
       "       [-0.84660628, -0.99393081],\n",
       "       [-0.6660597 , -0.96451218],\n",
       "       [-0.90028547, -0.99394912],\n",
       "       [-0.81104989, -0.96085083],\n",
       "       [-0.89646355, -0.99931924],\n",
       "       [-0.93678168, -0.99770781],\n",
       "       [-0.96841433, -0.99771543],\n",
       "       [-0.44731741, -0.91083753],\n",
       "       [-0.90781183, -0.98851492],\n",
       "       [-0.92938062, -0.99763549],\n",
       "       [-0.84443687, -0.99629136],\n",
       "       [-0.94622683, -0.99854114],\n",
       "       [-0.25947942, -0.55832044],\n",
       "       [-0.8080973 , -0.98136341],\n",
       "       [-0.92677263, -0.99715123],\n",
       "       [-0.90634729, -0.99817406],\n",
       "       [-0.41175319, -0.98155809],\n",
       "       [-0.41369548, -0.99577415],\n",
       "       [-0.08981121,  0.06712527],\n",
       "       [-0.96915836, -0.99893385],\n",
       "       [-0.87122948, -0.99497713],\n",
       "       [-0.86491704, -0.99726749],\n",
       "       [-0.88447306, -0.99597981],\n",
       "       [-0.97532982, -0.99997132],\n",
       "       [-0.54223105, -0.90210754],\n",
       "       [-0.13128062, -0.90421879],\n",
       "       [-0.81990766, -0.94615875],\n",
       "       [-0.91710035, -0.99950354],\n",
       "       [-0.9778125 , -0.99795893],\n",
       "       [-0.93227839, -0.99702948],\n",
       "       [-0.98640399, -0.99960027],\n",
       "       [-0.98578528, -0.99758606],\n",
       "       [-0.96861013, -0.99711096],\n",
       "       [-0.87276451, -0.99232731],\n",
       "       [-0.77095889, -0.99271941],\n",
       "       [-0.96972225, -0.99661236],\n",
       "       [-0.71259628, -0.97982185],\n",
       "       [ 0.5230118 ,  1.        ],\n",
       "       [-0.77857923, -0.98377888],\n",
       "       [-0.67833214, -0.98703592],\n",
       "       [-0.94458999, -0.99988985],\n",
       "       [-0.85936429, -0.97959178],\n",
       "       [-0.93829321, -0.99466192],\n",
       "       [-0.8741899 , -0.99681985],\n",
       "       [-0.90640211, -0.9923145 ],\n",
       "       [-0.49194303, -0.98459604],\n",
       "       [-0.90243138, -0.99544185],\n",
       "       [-0.94072107, -0.99968327],\n",
       "       [-0.93440081, -0.9749845 ],\n",
       "       [-0.92243381, -0.99268982],\n",
       "       [-0.93957763, -0.99940498],\n",
       "       [-0.83905642, -0.92085856],\n",
       "       [-0.82907871, -0.99197549],\n",
       "       [-0.77626885, -0.99853809],\n",
       "       [-0.89501467, -0.99155897],\n",
       "       [-0.95318147, -0.99992646],\n",
       "       [-0.93696181, -0.95475051],\n",
       "       [-0.73956118, -0.9573747 ],\n",
       "       [-0.34697634, -0.98824731],\n",
       "       [-0.82418383, -0.99907421],\n",
       "       [-0.97308992, -0.99876755],\n",
       "       [-0.94511472, -0.99854022],\n",
       "       [-0.94244407, -0.99815636],\n",
       "       [ 0.07475849, -0.95619046],\n",
       "       [ 0.03942139, -0.94354708],\n",
       "       [-0.90335554, -0.99973117],\n",
       "       [-0.36643054, -0.99667888],\n",
       "       [-0.91074093, -0.99789913],\n",
       "       [-0.98737513, -0.9994062 ],\n",
       "       [-0.86382059, -0.98779357],\n",
       "       [ 0.48996159, -0.9922849 ],\n",
       "       [-0.84727199, -0.9791594 ],\n",
       "       [-0.94148859, -0.99878189],\n",
       "       [-0.68742486, -0.92122595],\n",
       "       [-0.84066978, -0.99757995],\n",
       "       [-0.59321609, -0.98314083],\n",
       "       [-0.72612181, -0.99543453],\n",
       "       [-0.77543085, -0.99308466],\n",
       "       [-0.96135788, -0.99558771],\n",
       "       [-0.87480861, -0.99521147],\n",
       "       [-0.86314705, -0.99370714],\n",
       "       [-0.92577799, -0.99978183],\n",
       "       [-0.60963155, -0.97169176],\n",
       "       [-0.96434963, -0.99925821],\n",
       "       [-0.82708943, -0.99753815],\n",
       "       [-0.98041266, -0.99640792],\n",
       "       [-0.87209881, -0.98974737],\n",
       "       [-0.89629125, -0.98891435],\n",
       "       [-0.70407528, -0.99061732],\n",
       "       [-0.97371647, -0.99982119],\n",
       "       [-1.        , -0.99986635],\n",
       "       [-0.72134441, -0.99309138],\n",
       "       [-0.31256339, -0.98703012],\n",
       "       [-0.9808904 , -0.9954626 ],\n",
       "       [-0.5783435 , -0.99776609],\n",
       "       [-0.26653588, -0.96084289],\n",
       "       [-0.88339227, -0.97734688],\n",
       "       [-0.90688768, -0.99949713],\n",
       "       [-0.7355748 , -0.98840629],\n",
       "       [-0.96579851, -0.99673503],\n",
       "       [-0.95697207, -0.99765258],\n",
       "       [-0.79797078, -0.94465808],\n",
       "       [-0.93979692, -0.99411633],\n",
       "       [-0.73495608, -0.99781888],\n",
       "       [-0.9677173 , -0.99943427],\n",
       "       [-0.65046658, -0.98580835],\n",
       "       [-0.73879367, -0.99332938],\n",
       "       [-0.92406283, -0.99518859],\n",
       "       [-0.88844378, -0.99445138],\n",
       "       [-0.59681872, -0.99636642],\n",
       "       [-0.87864619, -0.99625108],\n",
       "       [-0.79386691, -0.99669231],\n",
       "       [-0.71042687, -0.99752716],\n",
       "       [-0.85437543, -0.94388547],\n",
       "       [-0.89075416, -0.99140366],\n",
       "       [-0.9600343 , -0.99855609],\n",
       "       [-0.7836934 , -0.95833192],\n",
       "       [-0.76441933, -0.81122348],\n",
       "       [-0.95824082, -0.99978427],\n",
       "       [-0.94251456, -0.99808587],\n",
       "       [-0.9561184 , -0.99582266],\n",
       "       [-0.90702082, -0.99908245],\n",
       "       [-0.90604185, -0.99574913],\n",
       "       [-0.68779296, -0.92133274],\n",
       "       [-0.74692308, -0.99056941],\n",
       "       [-0.98545634, -1.        ],\n",
       "       [-0.98866738, -0.99224584],\n",
       "       [-0.89221871, -0.99486331],\n",
       "       [-0.93314772, -0.99494173],\n",
       "       [-0.86559841, -0.99746888],\n",
       "       [-0.96962043, -0.99411633],\n",
       "       [ 0.0878141 , -0.99992463],\n",
       "       [-0.87526285, -0.9791179 ],\n",
       "       [-0.77270538, -0.99231541],\n",
       "       [-0.9631357 , -0.99893537],\n",
       "       [-0.91294166, -0.96526648],\n",
       "       [-0.88068246, -0.99420025],\n",
       "       [-0.88592194, -0.99737185],\n",
       "       [-0.96875893, -0.99955969],\n",
       "       [ 0.29442493, -0.99475956],\n",
       "       [-0.94716665, -0.99546413],\n",
       "       [-0.8007589 , -0.98760653],\n",
       "       [-0.92514362, -0.99644392],\n",
       "       [-0.62061174, -0.96149986],\n",
       "       [-0.79418019, -0.99959966],\n",
       "       [-0.91608222, -0.99143112],\n",
       "       [-0.93870047, -0.99491641],\n",
       "       [-0.77457718, -0.97370598],\n",
       "       [-0.91285551, -0.99461676],\n",
       "       [ 0.00534521, -0.74413682],\n",
       "       [-0.97807095, -0.99983217],\n",
       "       [-0.95094158, -0.99914531],\n",
       "       [-0.75973591, -0.99875748],\n",
       "       [-0.91400679, -0.99538388],\n",
       "       [-0.88181024, -0.99693703],\n",
       "       [-0.93502735, -0.99348378],\n",
       "       [-0.91242477, -0.99462897],\n",
       "       [-0.95745764, -0.99769133],\n",
       "       [-0.89129456, -0.99601887],\n",
       "       [-0.99005361, -0.9970841 ],\n",
       "       [-0.57260278, -0.97667649],\n",
       "       [-0.96236818, -0.99904248],\n",
       "       [ 0.56134065, -0.91917695],\n",
       "       [-0.62329805, -0.86123434],\n",
       "       [-0.8775889 , -0.99719914],\n",
       "       [-0.92813536, -0.98419631],\n",
       "       [-0.8700782 , -0.95680928],\n",
       "       [-0.37364363, -0.9871122 ],\n",
       "       [-0.84236928, -0.99503816],\n",
       "       [-0.97192298, -0.99777799],\n",
       "       [-0.8024584 , -0.9878189 ],\n",
       "       [-0.9733562 , -0.99874741],\n",
       "       [-0.95829564, -0.9969767 ],\n",
       "       [-0.95488881, -0.9902481 ],\n",
       "       [-0.96693412, -0.99978396],\n",
       "       [-0.74408797, -0.87842122],\n",
       "       [-0.8782781 , -0.99424876],\n",
       "       [-0.96778779, -0.99620592],\n",
       "       [-0.76972929, -0.97624106],\n",
       "       [-0.82624359, -0.99726322],\n",
       "       [-0.83059808, -0.99246005],\n",
       "       [-0.95035419, -0.99897535],\n",
       "       [-0.9928339 , -0.99882827],\n",
       "       [-0.88697923, -0.99329185],\n",
       "       [-0.3108169 , -0.74312681],\n",
       "       [-0.93517616, -0.99835226],\n",
       "       [-0.36274959, -0.99434915],\n",
       "       [-0.17867086, -0.99920847],\n",
       "       [-0.73154142, -0.98614431],\n",
       "       [-0.95072229, -0.99496187],\n",
       "       [-0.96108377, -0.9971372 ],\n",
       "       [-0.97923006, -0.99900952],\n",
       "       [-0.91420259, -0.97382803],\n",
       "       [-0.89889924, -0.99972904],\n",
       "       [-0.88617256, -0.99707831],\n",
       "       [-0.65156303, -0.94984115],\n",
       "       [-0.97602685, -0.99949408],\n",
       "       [-0.65988824, -0.99561975],\n",
       "       [-0.83126378, -0.99174419],\n",
       "       [-0.96189044, -0.99975314],\n",
       "       [-0.93006199, -0.99538205],\n",
       "       [-0.91552616, -0.99529508],\n",
       "       [-0.87159757, -0.95021037],\n",
       "       [-0.80325725, -0.97801025],\n",
       "       [-0.90531349, -0.99928964],\n",
       "       [-0.75841234, -0.96179035],\n",
       "       [-0.92038188, -0.99559656],\n",
       "       [-0.62896828, -0.98409836],\n",
       "       [-0.82133305, -0.99226049],\n",
       "       [-0.68794959, -0.99113636],\n",
       "       [-0.4862963 , -0.94542673],\n",
       "       [-0.91884685, -0.96948684],\n",
       "       [-0.95925895, -0.9964482 ],\n",
       "       [-0.96804624, -0.9991688 ],\n",
       "       [-0.76766953, -0.96799471],\n",
       "       [-0.90084936, -0.99186686],\n",
       "       [-0.72612181, -0.97081602],\n",
       "       [-0.69172452, -0.97630666],\n",
       "       [-0.73750925, -0.84016977],\n",
       "       [-0.98213565, -0.99940101],\n",
       "       [-0.97447615, -0.99858935],\n",
       "       [-0.22526227, -0.94632505],\n",
       "       [-0.73746226, -0.72095794],\n",
       "       [-0.90928421, -0.99286527],\n",
       "       [-0.94294531, -0.99615923],\n",
       "       [-0.83613516, -0.99342672],\n",
       "       [-0.65634826, -0.71999554],\n",
       "       [ 0.83514052, -0.96324097],\n",
       "       [-0.94131629, -0.99885421],\n",
       "       [-0.97668472, -0.99845326],\n",
       "       [ 0.29432312, -0.97737861],\n",
       "       [-0.75029859, -0.9898383 ],\n",
       "       [ 0.7877816 , -0.85242806],\n",
       "       [ 0.44792829, -0.98415206],\n",
       "       [-0.83494473, -0.95381252],\n",
       "       [-0.9846105 , -0.99643324],\n",
       "       [-0.98144646, -0.99830862],\n",
       "       [-0.94443335, -0.99711218],\n",
       "       [-0.82321268, -0.97644184],\n",
       "       [-0.97348151, -0.98863087],\n",
       "       [-0.98740646, -0.9999701 ],\n",
       "       [-0.90049693, -0.99291775],\n",
       "       [-0.89311154, -0.99650373],\n",
       "       [-0.96097412, -0.99409223],\n",
       "       [-0.62869416, -0.92307233],\n",
       "       [-0.95133317, -0.99993958],\n",
       "       [-0.78396751, -0.99753235],\n",
       "       [-0.91307481, -0.99730655],\n",
       "       [-0.97514185, -0.99998047],\n",
       "       [-0.94890531, -0.98474586],\n",
       "       [-0.85273859, -0.99371508],\n",
       "       [-0.80707917, -0.98383655],\n",
       "       [-0.9701295 , -0.99994111],\n",
       "       [-0.92769678, -0.99435404],\n",
       "       [-0.85690511, -0.99605365],\n",
       "       [-0.89717624, -0.99457557],\n",
       "       [-0.93499603, -0.99624803],\n",
       "       [-0.99201939, -0.99916423],\n",
       "       [-0.95667446, -0.99913097],\n",
       "       [-0.93783897, -0.99141709],\n",
       "       [-0.93129941, -0.99571495],\n",
       "       [-0.62083103, -0.99456794],\n",
       "       [-0.78784426, -0.96977702],\n",
       "       [-0.97323873, -0.99897565],\n",
       "       [-0.78109324, -0.99870316],\n",
       "       [-0.91702987, -0.99527555],\n",
       "       [-0.86158069, -0.99310145],\n",
       "       [-0.94628166, -0.9988893 ],\n",
       "       [-0.5352999 , -0.93071085],\n",
       "       [-0.96304172, -0.99881576],\n",
       "       [-0.58139007, -0.9856451 ],\n",
       "       [-0.95092592, -0.98634753],\n",
       "       [-0.98540152, -0.99935982],\n",
       "       [-0.91293383, -0.99651502],\n",
       "       [-0.85891005, -0.99877701],\n",
       "       [-0.92472853, -0.98871387],\n",
       "       [-0.95940776, -0.9974579 ],\n",
       "       [-0.42950789, -0.98866261],\n",
       "       [-0.96137354, -0.99890364],\n",
       "       [-0.98144646, -0.99965184],\n",
       "       [-0.41335871, -0.98129139],\n",
       "       [-0.81565499, -0.97517003],\n",
       "       [-0.5419491 , -0.99226232],\n",
       "       [-0.50280574, -0.96708693],\n",
       "       [-0.95780224, -0.98945352],\n",
       "       [-0.92186209, -0.99227239],\n",
       "       [-0.90219643, -0.99294766],\n",
       "       [-0.90583039, -0.88953709],\n",
       "       [-0.98931742, -0.99884841],\n",
       "       [-0.73869969, -0.99467718],\n",
       "       [-0.86643641, -0.99750794],\n",
       "       [-0.84030168, -0.97386556],\n",
       "       [-0.20934804, -0.94612824],\n",
       "       [-0.95716786, -0.99344534],\n",
       "       [-0.98337308, -0.99928659],\n",
       "       [-0.99118922, -0.99521117],\n",
       "       [-0.84772623, -0.9952963 ],\n",
       "       [-0.87222411, -0.9944053 ],\n",
       "       [-0.56390948, -0.99784024],\n",
       "       [-0.96651121, -0.99990632],\n",
       "       [-0.95152113, -0.99815849],\n",
       "       [-0.90701299, -0.98873981],\n",
       "       [-0.87195783, -0.95665885],\n",
       "       [-0.9491011 , -0.99983767],\n",
       "       [-0.81793405, -0.99145126],\n",
       "       [-0.46860426, -0.97533602],\n",
       "       [-0.88128551, -0.99240421],\n",
       "       [-0.69580489, -0.9901352 ],\n",
       "       [-0.9914555 , -0.99786434],\n",
       "       [-0.96037107, -0.99771086],\n",
       "       [-0.95005658, -0.99972965],\n",
       "       [-0.74713454, -0.99766936],\n",
       "       [-0.85865943, -0.99750641],\n",
       "       [-0.9151659 , -0.98875079],\n",
       "       [-0.02288845, -0.515758  ],\n",
       "       [-0.9171865 , -0.99778714],\n",
       "       [-0.94769138, -0.99989107],\n",
       "       [-0.941935  , -0.99943794],\n",
       "       [-0.93559124, -0.98711251],\n",
       "       [-0.83154572, -0.99665508]])"
      ]
     },
     "execution_count": 29,
     "metadata": {},
     "output_type": "execute_result"
    }
   ],
   "source": [
    "popularity_civil_conflict_pd_minmax"
   ]
  },
  {
   "cell_type": "code",
   "execution_count": 30,
   "metadata": {},
   "outputs": [
    {
     "data": {
      "image/png": "[encoded data removed]",
      "text/plain": [
       "<Figure size 360x360 with 6 Axes>"
      ]
     },
     "metadata": {
      "needs_background": "light"
     },
     "output_type": "display_data"
    }
   ],
   "source": [
    "#popularity_civil_conflict_pd_minmax\n",
    "sns.pairplot(pd.DataFrame(popularity_civil_conflict_pd_minmax, columns=[['article_lenght', 'views']]));"
   ]
  },
  {
   "cell_type": "code",
   "execution_count": 24,
   "metadata": {},
   "outputs": [],
   "source": [
    "X_normalized = preprocessing.normalize(popularity_civil_conflict_pd[['article_lenght', 'views']], norm='l1')"
   ]
  },
  {
   "cell_type": "code",
   "execution_count": 21,
   "metadata": {},
   "outputs": [
    {
     "data": {
      "image/png": "[encoded data removed]",
      "text/plain": [
       "<Figure size 360x360 with 6 Axes>"
      ]
     },
     "metadata": {
      "needs_background": "light"
     },
     "output_type": "display_data"
    }
   ],
   "source": [
    "sns.pairplot(pd.DataFrame(X_normalized));"
   ]
  },
  {
   "cell_type": "markdown",
   "metadata": {
    "collapsed": true
   },
   "source": [
    "## Kmeans clustering"
   ]
  },
  {
   "cell_type": "code",
   "execution_count": 25,
   "metadata": {},
   "outputs": [
    {
     "data": {
      "text/plain": [
       "array([0, 1, 1, 1, 0, 1, 0, 1, 1, 1, 1, 1, 0, 1, 1, 0, 0, 0, 1, 0, 0, 1,\n",
       "       1, 1, 0, 0, 1, 0, 0, 1, 1, 1, 0, 0, 1, 1, 0, 0, 0, 0, 1, 1, 0, 0,\n",
       "       0, 1, 1, 1, 0, 0, 1, 1, 1, 1, 0, 1, 1, 1, 1, 1, 0, 0, 0, 1, 0, 0,\n",
       "       1, 0, 0, 0, 1, 0, 0, 0, 0, 0, 1, 0, 0, 1, 0, 1, 0, 1, 0, 0, 1, 0,\n",
       "       0, 1, 0, 1, 0, 0, 1, 1, 1, 1, 1, 0, 0, 1, 1, 1, 1, 0, 1, 0, 1, 0,\n",
       "       1, 0, 1, 1, 0, 1, 0, 1, 0, 1, 1, 0, 0, 0, 1, 1, 1, 1, 1, 0, 1, 0,\n",
       "       0, 1, 0, 0, 0, 0, 0, 1, 1, 0, 1, 0, 0, 1, 1, 1, 1, 0, 0, 1, 0, 0,\n",
       "       1, 1, 0, 1, 0, 0, 1, 1, 0, 0, 0, 1, 0, 1, 0, 1, 1, 0, 0, 1, 1, 1,\n",
       "       0, 0, 0, 0, 1, 0, 0, 0, 0, 0, 1, 1, 1, 0, 1, 0, 0, 0, 1, 0, 0, 1,\n",
       "       0, 0, 1, 0, 0, 1, 1, 0, 0, 1, 0, 0, 1, 0, 0, 0, 0, 1, 0, 1, 0, 0,\n",
       "       0, 1, 1, 1, 0, 0, 0, 1, 0, 1, 1, 0, 1, 1, 0, 1, 0, 0, 0, 0, 1, 0,\n",
       "       0, 0, 0, 1, 0, 0, 0, 1, 0, 0, 0, 0, 0, 1, 0, 0, 0, 0, 0, 0, 0, 1,\n",
       "       1, 0, 1, 0, 0, 1, 0, 0, 0, 0, 0, 0, 1, 0, 1, 0, 0, 1, 1, 1, 1, 0,\n",
       "       0, 0, 1, 0, 1, 0, 0, 0, 1, 0, 0, 1, 0, 1, 1, 0, 0, 1, 0, 1, 1, 0,\n",
       "       1, 1, 1, 0, 0, 1, 1, 1, 1, 0, 1, 0, 0, 0, 0, 0, 0, 1, 1, 0, 0, 0,\n",
       "       1, 0, 1, 0, 1, 1, 1, 0, 0, 1, 0, 0, 0, 1, 0, 0, 1, 1, 1, 0, 0, 1,\n",
       "       1, 1, 0, 1], dtype=int32)"
      ]
     },
     "execution_count": 25,
     "metadata": {},
     "output_type": "execute_result"
    }
   ],
   "source": [
    "from sklearn.cluster import KMeans\n",
    "\n",
    "#kmeans = KMeans(n_clusters=2, init='k-means++', random_state=0, n_jobs=-1).fit(popularity_civil_conflict_pd_minmax)\n",
    "#popularity_civil_conflict_pd\n",
    "kmeans = KMeans(n_clusters=2, init='k-means++', random_state=0, n_jobs=-1).fit(\n",
    "    X_normalized)\n",
    "# fit_predict\n",
    "kmeans.labels_"
   ]
  },
  {
   "cell_type": "code",
   "execution_count": 26,
   "metadata": {},
   "outputs": [
    {
     "data": {
      "image/png": "[encoded data removed]",
      "text/plain": [
       "<Figure size 432x288 with 1 Axes>"
      ]
     },
     "metadata": {},
     "output_type": "display_data"
    }
   ],
   "source": [
    "h = .02     # point in the mesh [x_min, x_max]x[y_min, y_max].\n",
    "reduced_data = X_normalized #popularity_civil_conflict_pd_minmax\n",
    "# Plot the decision boundary. For that, we will assign a color to each\n",
    "x_min, x_max = reduced_data[:, 0].min() - 1, reduced_data[:, 0].max() + 1\n",
    "y_min, y_max = reduced_data[:, 1].min() - 1, reduced_data[:, 1].max() + 1\n",
    "xx, yy = np.meshgrid(np.arange(x_min, x_max, h), np.arange(y_min, y_max, h))\n",
    "\n",
    "# Obtain labels for each point in mesh. Use last trained model.\n",
    "Z = kmeans.predict(np.c_[xx.ravel(), yy.ravel()])\n",
    "\n",
    "# Put the result into a color plot\n",
    "Z = Z.reshape(xx.shape)\n",
    "plt.figure(1)\n",
    "plt.clf()\n",
    "plt.imshow(Z, interpolation='nearest',\n",
    "           extent=(xx.min(), xx.max(), yy.min(), yy.max()),\n",
    "           cmap=plt.cm.Paired,\n",
    "           aspect='auto', origin='lower')\n",
    "\n",
    "plt.plot(reduced_data[:, 0], reduced_data[:, 1], 'k.', markersize=2)\n",
    "# Plot the centroids as a white X\n",
    "centroids = kmeans.cluster_centers_\n",
    "plt.scatter(centroids[:, 0], centroids[:, 1],\n",
    "            marker='x', s=169, linewidths=3,\n",
    "            color='w', zorder=10)\n",
    "plt.title('K-means clustering on the digits dataset \\n'\n",
    "          'Centroids are marked with white cross')\n",
    "plt.xlim(x_min, x_max)\n",
    "plt.ylim(y_min, y_max)\n",
    "plt.xticks(())\n",
    "plt.yticks(())\n",
    "plt.show()"
   ]
  },
  {
   "cell_type": "code",
   "execution_count": null,
   "metadata": {},
   "outputs": [],
   "source": []
  }
 ],
 "metadata": {
  "kernelspec": {
   "display_name": "Python [conda env:ada]",
   "language": "python",
   "name": "conda-env-ada-py"
  },
  "language_info": {
   "codemirror_mode": {
    "name": "ipython",
    "version": 3
   },
   "file_extension": ".py",
   "mimetype": "text/x-python",
   "name": "python",
   "nbconvert_exporter": "python",
   "pygments_lexer": "ipython3",
   "version": "3.6.6"
  }
 },
 "nbformat": 4,
 "nbformat_minor": 2
}
