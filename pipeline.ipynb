{
 "cells": [
  {
   "cell_type": "code",
   "execution_count": 1,
   "metadata": {},
   "outputs": [],
   "source": [
    "import findspark\n",
    "findspark.init()\n",
    "\n",
    "import wptools\n",
    "import pyspark\n",
    "import pyspark.sql\n",
    "from pyspark.sql import *\n",
    "import os.path\n",
    "from pyspark.sql.functions import desc\n",
    "\n",
    "from pyspark.sql import dataframe\n",
    "from pyspark.sql import functions as F\n",
    "\n",
    "from pyspark.sql import SparkSession\n",
    "from pyspark import SparkContext\n",
    "from pyspark.sql import SQLContext\n",
    "\n",
    "spark = SparkSession.builder.getOrCreate()\n",
    "sc = spark.sparkContext\n",
    "\n",
    "from pyspark.sql import SQLContext\n",
    "sqlContext = SQLContext(sc)"
   ]
  },
  {
   "cell_type": "code",
   "execution_count": 2,
   "metadata": {
    "collapsed": true
   },
   "outputs": [],
   "source": [
    "import pyspark\n",
    "import re\n",
    "import pandas as pd\n",
    "import matplotlib.pyplot as plt\n",
    "import hashlib\n",
    "\n",
    "%matplotlib inline\n",
    "\n",
    "# import get_ref_info.py\n",
    "import os\n",
    "import sys\n",
    "my_fun = './utils/'\n",
    "if my_fun not in sys.path:\n",
    "    sys.path.append(my_fun)\n",
    "    \n",
    "from get_ref_info import *\n",
    "from operator import add\n",
    "\n",
    "try:\n",
    "    from urllib.parse import urlparse\n",
    "except ImportError:\n",
    "     from urlparse import urlparse\n",
    "\n",
    "import seaborn as sns\n",
    "import numpy as np\n",
    "from pyspark.sql.functions import regexp_replace, col\n",
    "\n",
    "import time\n",
    "from datetime import timedelta, date\n",
    "from mwviews.api import PageviewsClient\n",
    "from collections import OrderedDict\n",
    "DATA_DIR = './data/data_processed/' "
   ]
  },
  {
   "cell_type": "markdown",
   "metadata": {},
   "source": [
    "# Loading data "
   ]
  },
  {
   "cell_type": "markdown",
   "metadata": {},
   "source": [
    "**File schema** is shown."
   ]
  },
  {
   "cell_type": "code",
   "execution_count": 7,
   "metadata": {},
   "outputs": [
    {
     "name": "stdout",
     "output_type": "stream",
     "text": [
      "root\n",
      " |-- id: long (nullable = true)\n",
      " |-- ns: long (nullable = true)\n",
      " |-- restrictions: string (nullable = true)\n",
      " |-- revision: struct (nullable = true)\n",
      " |    |-- comment: struct (nullable = true)\n",
      " |    |    |-- _VALUE: string (nullable = true)\n",
      " |    |    |-- _deleted: string (nullable = true)\n",
      " |    |-- contributor: struct (nullable = true)\n",
      " |    |    |-- _VALUE: string (nullable = true)\n",
      " |    |    |-- _deleted: string (nullable = true)\n",
      " |    |    |-- id: long (nullable = true)\n",
      " |    |    |-- ip: string (nullable = true)\n",
      " |    |    |-- username: string (nullable = true)\n",
      " |    |-- format: string (nullable = true)\n",
      " |    |-- id: long (nullable = true)\n",
      " |    |-- minor: string (nullable = true)\n",
      " |    |-- model: string (nullable = true)\n",
      " |    |-- parentid: long (nullable = true)\n",
      " |    |-- sha1: string (nullable = true)\n",
      " |    |-- text: struct (nullable = true)\n",
      " |    |    |-- _VALUE: string (nullable = true)\n",
      " |    |    |-- _xml:space: string (nullable = true)\n",
      " |    |-- timestamp: string (nullable = true)\n",
      " |-- title: string (nullable = true)\n",
      " |-- categories: string (nullable = true)\n",
      " |-- good_categories: boolean (nullable = true)\n",
      "\n"
     ]
    }
   ],
   "source": [
    "WIKIPEDIA_CONFLICTS_PARQUET = DATA_DIR + 'selectedAllConflict.parquet'\n",
    "\n",
    "# loading the saved parquet files\n",
    "wikipedia_ = spark.read.parquet(WIKIPEDIA_CONFLICTS_PARQUET)\n",
    "# show file schema\n",
    "wikipedia_.printSchema()"
   ]
  },
  {
   "cell_type": "code",
   "execution_count": 4,
   "metadata": {},
   "outputs": [
    {
     "name": "stdout",
     "output_type": "stream",
     "text": [
      "Number of articles: 18782\n"
     ]
    }
   ],
   "source": [
    "# how many articles are there?\n",
    "print(\"Number of articles: {}\".format(wikipedia_.count()))"
   ]
  },
  {
   "cell_type": "markdown",
   "metadata": {},
   "source": [
    "---\n",
    "\n",
    "# Article outliers removal\n",
    "\n",
    "We have some outliers we need to deal with, as a first step we use keywords (**\"war, riot, conflict, protest, revolt, operation, attack, annexation, genocide, insurgency, crisis, confrontation, clash\"**) on the article titles to extract from our chosen categories (`civilian attack`, `civil conflict`, `military conflict`).\n",
    "\n",
    "For example, we found that some articles in `civilian attack` may contain the infobox `civilian attack` but are not really a `civilian attack`. The following page \n",
    "\n",
    "> Fraunces Tavern: Fraunces Tavern is a landmark museum and restaurant in New York City, situated at 54 Pearl Street at the corner of Broad Street. The location played a prominent role in history before, during and after the American Revolution, serving as a headquarters for George Washington, a venue for peace negotiations with the British, and housing federal offices in the Early Republic.\n",
    "\n",
    "Since some pages are considered **outliers**, we remove them using the method described above and remove any disambiguations."
   ]
  },
  {
   "cell_type": "code",
   "execution_count": 5,
   "metadata": {},
   "outputs": [
    {
     "name": "stdout",
     "output_type": "stream",
     "text": [
      "Number of articles without outliers: 5651\n"
     ]
    }
   ],
   "source": [
    "# filter out outliers\n",
    "outlier_regex = \"war*|battle*|siege*|campaign*|riot*|conflict*|protest*|revolt*|operation*|attack*|annexation*|genocide*|insurgency*|crisis*|confrontation*|clash*\"\n",
    "wikipedia = wikipedia_.filter(~F.lower(wikipedia_['title']).rlike(outlier_regex))\n",
    "print(\"Number of articles without outliers: {}\".format(wikipedia.count()))\n",
    "\n",
    "wikipedia = wikipedia.filter(\"lower(revision.text._VALUE) not like '%{disambiguation}%'\")\n",
    "# save in parquet\n",
    "wikipedia.write.parquet(DATA_DIR+\"wikipedia_no_outliers.parquet\")\n",
    "# load from parquet so that the rest of notebook uses cleaned version of data\n",
    "wikipedia = spark.read.parquet(DATA_DIR+\"wikipedia_no_outliers.parquet\")\n",
    "\n",
    "#problema dei filters: già mancano battle, campaign, siege, ... In più ci sono cose tipo https://en.wikipedia.org/wiki/Falaise_Pocket che dovrebbero rimanere incluse"
   ]
  },
  {
   "cell_type": "markdown",
   "metadata": {},
   "source": [
    "Alternativa per gli outliers ditemi cosa ne pensate"
   ]
  },
  {
   "cell_type": "code",
   "execution_count": 5,
   "metadata": {
    "collapsed": true
   },
   "outputs": [],
   "source": [
    "wikipedia = wikipedia_"
   ]
  },
  {
   "cell_type": "code",
   "execution_count": 6,
   "metadata": {
    "collapsed": true
   },
   "outputs": [],
   "source": [
    "regex = r\"([A-z].+?(?=,)|[A-z].*?$)\"\n",
    "cat_regex = re.compile(regex,re.IGNORECASE);"
   ]
  },
  {
   "cell_type": "code",
   "execution_count": 7,
   "metadata": {
    "collapsed": true
   },
   "outputs": [],
   "source": [
    "categories = [];\n",
    "def extr_categories(text):\n",
    "    global categories\n",
    "    categories = categories + cat_regex.findall(text);"
   ]
  },
  {
   "cell_type": "code",
   "execution_count": 8,
   "metadata": {
    "collapsed": true
   },
   "outputs": [],
   "source": [
    "categories = [];\n",
    "for i in wikipedia.select(F.lower(col('categories')).alias('categories')).collect(): #lcase\n",
    "    extr_categories(i[0])"
   ]
  },
  {
   "cell_type": "code",
   "execution_count": 9,
   "metadata": {},
   "outputs": [
    {
     "name": "stdout",
     "output_type": "stream",
     "text": [
      "['korean name', 'chinese', 'operational plan', 'civil conflict', 'police officer', 'military person', 'pahistoric', 'football match', 'criminal', 'tv channel', 'school', 'university', 'military operation', 'east asian name', 'protected area', 'australian place', 'terrorist attack', 'military memorial', 'historic building', 'un resolution', 'election', 'military conflict', 'event', 'law enforcement agency', 'aircraft occurrence', 'settlement', 'musical artist', 'military unit', 'murderer', 'service record', 'ship career', 'civilian attack', 'news event', 'legislature', 'east asian', 'greek dimos', 'mass murderer', 'airport', 'national military', 'islands', 'shopping mall', 'mountain range', 'museum', 'military conflict  <', 'legislation', 'referendum', 'nrhp', 'saint', 'person/height', 'nobility', 'park', 'serial killer', 'officeholder', 'decat = yes', 'milit', 'television', 'holiday', 'historic site', 'military conflict', 'criminal', 'criminal organization', 'airliner accident', 'monument', 'newspaper', 'ancient site', 'former subdivision', 'country', 'aircraft incident', 'person', 'military person', 'ship image', 'military structure', 'film', 'court case', 'ship characteristics', 'historical event', 'book', 'nrhp', 'bilateral relations', 'monarch', 'protected area', 'uk feature', 'subbox = yes', 'building', 'united states district court case', 'former country', 'ship begin', 'treaty', 'person', 'organization', 'holiday', 'nobility']\n"
     ]
    }
   ],
   "source": [
    "categories_unique = list(set(categories))\n",
    "categories_map = map(str.strip, [str(i) for i in categories_unique])\n",
    "print(categories_map)"
   ]
  },
  {
   "cell_type": "code",
   "execution_count": 10,
   "metadata": {
    "collapsed": true
   },
   "outputs": [],
   "source": [
    "mainCategories = ['civil conflict','military conflict','civilian attack']\n",
    "\n",
    "filteredCategoryMap=[]\n",
    "for i in categories_map:\n",
    "    if not any(s in i for s in mainCategories):\n",
    "        if i == 'milit': #Battle of Tolbiac give a problem because of a umlaut\n",
    "            continue\n",
    "        filteredCategoryMap+=[i];\n",
    "\n",
    "filteredCategoryMap = list(set(filteredCategoryMap))\n",
    "#create a dynamic regex\n",
    "forReg = '|'.join(filteredCategoryMap);"
   ]
  },
  {
   "cell_type": "code",
   "execution_count": 11,
   "metadata": {
    "scrolled": true
   },
   "outputs": [
    {
     "data": {
      "text/plain": [
       "345"
      ]
     },
     "execution_count": 11,
     "metadata": {},
     "output_type": "execute_result"
    }
   ],
   "source": [
    "wikiExtraCat = wikipedia.filter(F.lower(wikipedia.categories).rlike(forReg))\n",
    "wikiExtraCat.count()"
   ]
  },
  {
   "cell_type": "markdown",
   "metadata": {},
   "source": [
    "questo vuole dire che ci sono **345** articoli che hanno **anche altre categorie**, non sono molti volendo potremmo scartarli già tutti"
   ]
  },
  {
   "cell_type": "code",
   "execution_count": 12,
   "metadata": {},
   "outputs": [
    {
     "data": {
      "text/plain": [
       "109"
      ]
     },
     "execution_count": 12,
     "metadata": {},
     "output_type": "execute_result"
    }
   ],
   "source": [
    "outliers_categories = ['police officer','person','tv channel','historic building',\n",
    "                       'service record','ship career','news event','legislature'\n",
    "                       'national military','islands','shopping mall',\n",
    "                       'museum','legislation','referendum',\n",
    "                       'nobility','serial killer','officeholder','decat = yes',\n",
    "                       'television','newspaper','former subdivision','film',\n",
    "                       'book','bilateral relations','monarch','building','organization']\n",
    "\n",
    "wikipedia_.select(\"id\",\"title\",\"categories\").filter(F.lower(wikipedia.categories).rlike('|'.join(outliers_categories))).count()"
   ]
  },
  {
   "cell_type": "markdown",
   "metadata": {},
   "source": [
    "e alla fine scartiamo solo 109 articoli... boh non saprei, secondo me ci siamo dai"
   ]
  },
  {
   "cell_type": "code",
   "execution_count": 13,
   "metadata": {},
   "outputs": [
    {
     "data": {
      "text/plain": [
       "18673"
      ]
     },
     "execution_count": 13,
     "metadata": {},
     "output_type": "execute_result"
    }
   ],
   "source": [
    "wikipedia = wikipedia_.select(\"id\",\"title\",\"categories\").filter(~F.lower(wikipedia.categories).rlike('|'.join(outliers_categories)))\n",
    "wikipedia.count()"
   ]
  },
  {
   "cell_type": "markdown",
   "metadata": {},
   "source": [
    "We explore how many articles have each **keyword** selected in the given keywords. "
   ]
  },
  {
   "cell_type": "code",
   "execution_count": 51,
   "metadata": {},
   "outputs": [
    {
     "data": {
      "image/png": "[encoded data removed]",
      "text/plain": [
       "<Figure size 1080x504 with 1 Axes>"
      ]
     },
     "metadata": {
      "needs_background": "light"
     },
     "output_type": "display_data"
    }
   ],
   "source": [
    "keyword_wikipedia = spark.read.parquet(DATA_DIR+\"wikipedia_no_outliers.parquet\")\n",
    "\n",
    "titles = outlier_regex.split('|')\n",
    "\n",
    "titles_count = pd.DataFrame(np.zeros((len(titles), )), index=titles, columns=['count'])\n",
    "# computationally less expansive\n",
    "wiki_titles = keyword_wikipedia.select('title')\n",
    "\n",
    "# count the titles that contains titles\n",
    "for ele in titles:\n",
    "    titles_count.loc[ele] = wiki_titles.filter(wiki_titles.title.rlike(ele)).count()\n",
    "\n",
    "    \n",
    "titles_count['count'] = titles_count['count']*100/titles_count['count'].sum()  \n",
    "f, ax1 = plt.subplots()\n",
    "plt.sca(ax1)\n",
    "sns.barplot(\n",
    "    x='count', y=titles_count.index, data=titles_count.sort_values('count', ascending=False), \n",
    "    orient='h', palette=\"RdPu\"\n",
    ");\n",
    "\n",
    "plt.xlabel('Percentage of articles [%]',fontsize=18)\n",
    "plt.ylabel('Keyword',fontsize=18)\n",
    "f.suptitle('Bar plot of percentage of articles for each keyword', fontsize=20)\n",
    "f.set_size_inches(15, 7)\n",
    "plt.show()"
   ]
  },
  {
   "cell_type": "markdown",
   "metadata": {},
   "source": [
    "**Bar plot of percentage of articles for each keyword.** \n",
    "\n",
    "We can see that the keyword `war, riot` together make up for ~50% of the articles. Very little articles are associated to `clash` or `confrontation`."
   ]
  },
  {
   "cell_type": "markdown",
   "metadata": {},
   "source": [
    "---\n",
    "# Quantifying *importance* of each page in each category\n",
    "\n",
    "We want to see how *important* each page is in each category. As we are solely focusing on *'war'*-related subjects in this pilot phase, we define *page importance* by the number of deaths. \n",
    "\n",
    "## Infobox or Wikidata per category \n",
    "\n",
    "Functions `get_wiki_civilian_attack`, `get_wiki_military_conflict`\n",
    "to get relevant information and views for each category: `civilian attack`, `military conflict`. \n",
    "Data is obtained either using the page's wikidata is the data exists or acquired through infobox parsing.\n",
    "Relevant information is chosen based on the fields found on [List of infoboxes and fields](https://en.wikipedia.org/wiki/Wikipedia:List_of_infoboxes#Event) \n",
    "\n",
    "Extract info for each category in **Infobox**:\n",
    "* `civilian attack`\n",
    "    * location\n",
    "    * date \n",
    "    * fatalities\n",
    "* `military conflict`\n",
    "    * place\n",
    "    * date \n",
    "    * casualities1\n",
    "* `civil conflict`\n",
    "    * place\n",
    "    * date \n",
    "    * casualities1\n",
    "    \n",
    "Extract info for each category in **Wikidata**:\n",
    "* `civilian attack`\n",
    "    * location\n",
    "    * date \n",
    "    * fatalities\n",
    "* `military conflict`\n",
    "    * 'number of deaths (P1120)']['amount']\n",
    "    * 'end time (P582)'\n",
    "    * 'location (P276)'\n",
    "* `civil conflict`\n",
    "    * 'number of deaths (P1120)']['amount']\n",
    "    * 'end time (P582)'\n",
    "    * 'location (P276)'\n",
    "    \n",
    "We use an external library [wptools wiki](https://github.com/siznax/wptools/wiki) to help us parse the data. \n",
    "\n",
    "### Categories\n",
    "We focus on categories : `civilian attack`, `military conflict`, `civil conflict` from our pre-filtered wikipedia dump data which had 3 categories: `civilian attack`, `military conflict`, `civil conflict` (key words we used via regex expression to extract articles containing infoboxes with such headers by parsing the revision.text.__VALUE). \n",
    "\n",
    "We also found a list of all ongoing civil wars listed on [wikipedia](https://en.wikipedia.org/wiki/List_of_civil_wars#Ongoing_civil_wars) have a `Template:Infobox military`. This may be of interest in a later step.\n",
    "\n",
    "[List of ongoing civil wars](https://en.wikipedia.org/wiki/List_of_civil_wars#Ongoing_civil_wars):\n",
    " * Myanmar, Internal conflict in Myanmar, since 1948\n",
    " * Indonesia, Papua conflict, since 1962\n",
    " * Colombia, Colombian conflict, since 1964\n",
    " * Afghanistan, War in Afghanistan, since 1978\n",
    " * Turkey, Kurdish–Turkish conflict since 1978\n",
    " * Somalia, Somali Civil War, since 1988\n",
    " * Sudan, three conflicts\n",
    "* War in Darfur, since 26 February 2003\n",
    "* Sudanese nomadic conflicts, since 26 May 2009 through at least 2017\n",
    "* Sudanese conflict in South Kordofan and Blue Nile since 5 June 2011\n",
    " * Pakistan, War in North-West Pakistan, since 16 March 2004\n",
    " * Paraguay, Paraguayan People's Army insurgency, since 2005\n",
    " * Syria, Syrian Civil War, since 15 March 2011, also see List of armed groups in the Syrian Civil War\n",
    " * Central African Republic, Central African Republic conflict, since 10 December 2012\n",
    " * South Sudan, South Sudanese Civil War, since 15 December 2013\n",
    " * Libya, Second Libyan Civil War, since 16 May 2014\n",
    " * Yemen, Second Yemeni Civil War, since 19 March 2015"
   ]
  },
  {
   "cell_type": "code",
   "execution_count": 4,
   "metadata": {
    "collapsed": true
   },
   "outputs": [],
   "source": [
    "def get_wiki_military_conflict(entity):\n",
    "    page = wptools.page(pageid=entity.id)\n",
    "    # extract relevant information and put in dictionary\n",
    "    info = {'death': None, 'end_date': None, 'location': None}\n",
    "    try:\n",
    "        page.get_parse()\n",
    "    except:\n",
    "        return Row(id=entity.id, death=info['death'],\n",
    "               end_date=info['end_date'], location=info['location'])\n",
    "    \n",
    "    try: \n",
    "        page.get_wikidata()\n",
    "        info['death'] = page.data['wikidata']['number of deaths (P1120)']['amount']\n",
    "    \n",
    "    except:\n",
    "        try:\n",
    "            info['death'] = page.data['infobox']['casualties1']\n",
    "        except:\n",
    "            info['death'] = None\n",
    "            \n",
    "    try:\n",
    "        info['end_date'] = page.data['wikidata']['end time (P582)']\n",
    "    except:\n",
    "        try:\n",
    "            info['end_date'] = page.data['infobox']['date']\n",
    "        except:\n",
    "            info['end_date'] = None\n",
    "    \n",
    "    try:\n",
    "        info['location'] = page.data['wikidata']['location (P276)']\n",
    "    except:\n",
    "        try:\n",
    "            info['location'] = page.data['infobox']['place']\n",
    "        except:\n",
    "            info['location'] = None\n",
    "    \n",
    "    \n",
    "    return Row(id=entity.id, death=info['death'],\n",
    "               end_date=info['end_date'], location=info['location'])\n",
    "\n",
    "def get_wiki_civilian_attack(entity):\n",
    "    page = wptools.page(pageid=entity.id)\n",
    "    # extract relevant information and put in dictionary\n",
    "    info = {'death': None, 'end_date': None, 'location': None}\n",
    "    try:\n",
    "        page.get_parse()\n",
    "    except:\n",
    "        return Row(id=entity.id, death=info['death'],\n",
    "               end_date=info['end_date'], location=info['location'])\n",
    "    \n",
    "    try: \n",
    "        page.get_wikidata()\n",
    "        info['death'] = page.data['wikidata']['number of deaths (P1120)']['amount']\n",
    "    \n",
    "    except:\n",
    "        try:\n",
    "            info['death'] = page.data['infobox']['fatalities']\n",
    "        except:\n",
    "            info['death'] = None\n",
    "            \n",
    "    try:\n",
    "        info['end_date'] = page.data['wikidata']['end time (P582)']\n",
    "    except:\n",
    "        try:\n",
    "            info['end_date'] = page.data['infobox']['date']\n",
    "        except:\n",
    "            info['end_date'] = None\n",
    "    \n",
    "    try:\n",
    "        info['location'] = page.data['wikidata']['location (P276)']\n",
    "    except:\n",
    "        try:\n",
    "            info['location'] = page.data['infobox']['location']\n",
    "        except:\n",
    "            info['location'] = None\n",
    "    \n",
    "    \n",
    "    return Row(id=entity.id, death=info['death'],\n",
    "               end_date=info['end_date'], location=info['location'])"
   ]
  },
  {
   "cell_type": "code",
   "execution_count": 3,
   "metadata": {
    "collapsed": true
   },
   "outputs": [],
   "source": [
    "from pyspark.sql.types import *"
   ]
  },
  {
   "cell_type": "markdown",
   "metadata": {},
   "source": [
    "### Wikidata & Infobox `military conflict `"
   ]
  },
  {
   "cell_type": "code",
   "execution_count": 117,
   "metadata": {
    "collapsed": true
   },
   "outputs": [],
   "source": [
    "infobox_military_conflict = 'military conflict'\n",
    "# find all pages that have category military conflict\n",
    "wiki_military_conflict = wikipedia.where(\"categories like '%{}%'\".format(infobox_military_conflict)) "
   ]
  },
  {
   "cell_type": "code",
   "execution_count": 119,
   "metadata": {},
   "outputs": [
    {
     "data": {
      "text/plain": [
       "14158"
      ]
     },
     "execution_count": 119,
     "metadata": {},
     "output_type": "execute_result"
    }
   ],
   "source": [
    "df = wiki_military_conflict.select(\"id\");\n",
    "df.count()"
   ]
  },
  {
   "cell_type": "code",
   "execution_count": 7,
   "metadata": {
    "collapsed": true
   },
   "outputs": [],
   "source": [
    "%%capture\n",
    "wiki_military_conflict_rows = [get_wiki_military_conflict(i) for i in df.collect()];"
   ]
  },
  {
   "cell_type": "code",
   "execution_count": 9,
   "metadata": {
    "collapsed": true
   },
   "outputs": [],
   "source": [
    "schema = StructType([StructField('death', StringType()),StructField('end_date', StringType()),\n",
    "                     StructField('id', IntegerType()),StructField('location', StringType())])"
   ]
  },
  {
   "cell_type": "code",
   "execution_count": 10,
   "metadata": {},
   "outputs": [
    {
     "name": "stdout",
     "output_type": "stream",
     "text": [
      "root\n",
      " |-- death: string (nullable = true)\n",
      " |-- end_date: string (nullable = true)\n",
      " |-- id: integer (nullable = true)\n",
      " |-- location: string (nullable = true)\n",
      "\n",
      "+--------------------+--------------------+------+--------------------+\n",
      "|               death|            end_date|    id|            location|\n",
      "+--------------------+--------------------+------+--------------------+\n",
      "|Some injuries, no...|    August 1–2, 1946|655845|   Athens (Q3292481)|\n",
      "|{{ubl|1 light cru...|{{start date|1940...|656035|    Calabria (Q1458)|\n",
      "|1,432 killed in c...|+1912-10-18T00:00...|656087|Vilayet of Tripol...|\n",
      "|approx. 1,000 killed|+1919-08-08T00:00...|656173|[[North-West Fron...|\n",
      "|Total fatalities ...|+1880-00-00T00:00...|656175|[Emirate of Afgha...|\n",
      "|                null|July 1778 – Febru...|656473|Illinois Country ...|\n",
      "|250–300 casualtie...|    2–5 October 1939|659156|      Kock (Q991819)|\n",
      "|         '''1,900'''|{{Start date|1864...|659506|Fulton County (Q4...|\n",
      "|                null|1961–1990 (29 years)|661656|    Nicaragua (Q811)|\n",
      "|               1,700|+1799-06-05T00:00...|662583|        Zürich (Q72)|\n",
      "|33 casualties<br>...|+1940-02-27T00:00...|662788|Karelian Isthmus ...|\n",
      "|'''United States'...|+1944-08-21T00:00...|664348|   Normandy (Q15878)|\n",
      "|             Unknown|+1799-05-21T00:00...|665071|Acre, [[Sidon Eya...|\n",
      "|All the men in th...|      August 15, 778|666938|Roncevaux Pass (Q...|\n",
      "|{{plainlist |\n",
      "* 4...|        June 6, 1944|667813|La Madeleine, Man...|\n",
      "|1,000–1,100 (350 ...|         6 June 1944|667826|Arromanches-les-B...|\n",
      "| 13 soldiers killed.|+2004-06-01T00:00...|668141| Gaza Strip (Q39760)|\n",
      "|'''Frieser, Zette...|+1944-02-17T00:00...|672675|  Cherkasy (Q157055)|\n",
      "|{{flagicon image|...|+1971-12-16T00:00...|672766|East Pakistan (Q8...|\n",
      "|4,140 dead or wou...|        16 June 1815|675526|[Quatre Bras (Q21...|\n",
      "+--------------------+--------------------+------+--------------------+\n",
      "only showing top 20 rows\n",
      "\n"
     ]
    }
   ],
   "source": [
    "wiki_military_attack_df = spark.createDataFrame(wiki_military_conflict_rows, schema)\n",
    "\n",
    "wiki_military_attack_df.printSchema()\n",
    "wiki_military_attack_df.show()"
   ]
  },
  {
   "cell_type": "code",
   "execution_count": 11,
   "metadata": {
    "collapsed": true
   },
   "outputs": [],
   "source": [
    "# saving binary file to future uses\n",
    "wiki_military_attack_df.write.mode('overwrite').parquet(\"data/data_processed/wiki_military_conflict_df.parquet\");"
   ]
  },
  {
   "cell_type": "markdown",
   "metadata": {},
   "source": [
    "### Wikidata & Infobox `civilian attack`"
   ]
  },
  {
   "cell_type": "code",
   "execution_count": 130,
   "metadata": {
    "collapsed": true
   },
   "outputs": [],
   "source": [
    "infobox_civilian_attack = 'civilian attack'\n",
    "# find all pages that have category civilian attack\n",
    "wiki_civilian_attack = wikipedia.where(\"categories like '%{}%'\".format(infobox_civilian_attack));"
   ]
  },
  {
   "cell_type": "code",
   "execution_count": 132,
   "metadata": {},
   "outputs": [
    {
     "data": {
      "text/plain": [
       "2468"
      ]
     },
     "execution_count": 132,
     "metadata": {},
     "output_type": "execute_result"
    }
   ],
   "source": [
    "df = wiki_civilian_attack.select(\"id\");\n",
    "df.count()"
   ]
  },
  {
   "cell_type": "code",
   "execution_count": 133,
   "metadata": {
    "collapsed": true
   },
   "outputs": [],
   "source": [
    "%%capture\n",
    "wiki_civilian_attack_rows = [get_wiki_civilian_attack(i) for i in df.collect()];"
   ]
  },
  {
   "cell_type": "code",
   "execution_count": 5,
   "metadata": {
    "collapsed": true
   },
   "outputs": [],
   "source": [
    "schema = StructType([StructField('id', IntegerType()),\n",
    "                     StructField('death', StringType()),StructField('end_date', StringType()),\n",
    "                     StructField('location', StringType())])"
   ]
  },
  {
   "cell_type": "code",
   "execution_count": 134,
   "metadata": {},
   "outputs": [
    {
     "name": "stdout",
     "output_type": "stream",
     "text": [
      "root\n",
      " |-- id: integer (nullable = true)\n",
      " |-- death: string (nullable = true)\n",
      " |-- end_date: string (nullable = true)\n",
      " |-- location: string (nullable = true)\n",
      "\n",
      "+-------+--------------------+--------------------+--------------------+\n",
      "|     id|               death|            end_date|            location|\n",
      "+-------+--------------------+--------------------+--------------------+\n",
      "| 676659|   500,000–1,000,000|7 April {{spaced ...|          [[Rwanda]]|\n",
      "| 683450|[[Patrick Argüell...|6– {{end date|df|...|     Zarqa (Q148062)|\n",
      "|1611176|        Up to 30,000|          April 1909|Adana Vilayet (Q1...|\n",
      "|1611202|     200,000–400,000|           1894–1896|Ottoman Empire (Q...|\n",
      "|1634876|10 (including the...|                null| Red Lake (Q1012803)|\n",
      "|1655234|                  +7|          1 May 2004|     Yanbu (Q466027)|\n",
      "|3119912|                  +1|    November 8, 2005|Jacksboro (Q2738438)|\n",
      "|3137442|Barbara Richardso...|{{start date|1981...|8763 Wonderland A...|\n",
      "|3177125|:16 (at least) \n",
      "*...|: August 14–16, 1908|: [[Springfield, ...|\n",
      "|1113569|       + / - 111,091|           1937–1938|Soviet Union (Q15...|\n",
      "|1120226|3,000,000 to 14,0...|                null|In and around Eas...|\n",
      "| 156496|       3,750 –30,000|3 January 1983 - ...|            Zimbabwe|\n",
      "| 158427|                 +45|{{start date and ...|   Acteal (Q1997045)|\n",
      "|  52268|460 to 3,500 (num...|16–18 September 1982|West [[Beirut]], ...|\n",
      "|  58376|                 +15|{{start date and ...|École Polytechniq...|\n",
      "|  59629|                 +18|{{Start date and ...|  Dunblane (Q614314)|\n",
      "|  59651|                 +17|       26 April 2002|Gutenberg-Gymnasi...|\n",
      "|  62638|                +642|{{date|10 June 19...|Oradour-sur-Glane...|\n",
      "|  65626|                 +15|      16 August 1819| Manchester (Q18125)|\n",
      "|  68292|                +504|       16 March 1968|  Son My (Q10823351)|\n",
      "+-------+--------------------+--------------------+--------------------+\n",
      "only showing top 20 rows\n",
      "\n"
     ]
    }
   ],
   "source": [
    "wiki_civilian_attack_df = spark.createDataFrame(wiki_civilian_attack_rows, schema)\n",
    "\n",
    "wiki_civilian_attack_df.printSchema()\n",
    "wiki_civilian_attack_df.show()"
   ]
  },
  {
   "cell_type": "code",
   "execution_count": 135,
   "metadata": {},
   "outputs": [
    {
     "data": {
      "text/plain": [
       "2468"
      ]
     },
     "execution_count": 135,
     "metadata": {},
     "output_type": "execute_result"
    }
   ],
   "source": [
    "wiki_civilian_attack_df.count()"
   ]
  },
  {
   "cell_type": "code",
   "execution_count": 136,
   "metadata": {
    "collapsed": true
   },
   "outputs": [],
   "source": [
    "# saving binary file to future uses\n",
    "wiki_civilian_attack_df.write.mode('overwrite').parquet(\"wiki_civilian_attack_df.parquet\");"
   ]
  },
  {
   "cell_type": "markdown",
   "metadata": {},
   "source": [
    "### Wikidata & Infobox `civil conflict`"
   ]
  },
  {
   "cell_type": "code",
   "execution_count": 137,
   "metadata": {
    "collapsed": true
   },
   "outputs": [],
   "source": [
    "infobox_civil_conflict = 'civil conflict'\n",
    "# find all pages that have category civilian attack\n",
    "wiki_civil_conflict = wikipedia.where(\"categories like '%{}%'\".format(infobox_civil_conflict)) "
   ]
  },
  {
   "cell_type": "code",
   "execution_count": 140,
   "metadata": {},
   "outputs": [
    {
     "data": {
      "text/plain": [
       "847"
      ]
     },
     "execution_count": 140,
     "metadata": {},
     "output_type": "execute_result"
    }
   ],
   "source": [
    "df = wiki_civil_conflict.select(\"id\");\n",
    "df.count()"
   ]
  },
  {
   "cell_type": "code",
   "execution_count": 141,
   "metadata": {
    "collapsed": true
   },
   "outputs": [],
   "source": [
    "%%capture\n",
    "wiki_civil_conflict_rows = [get_wiki_military_conflict(i) for i in df.collect()];"
   ]
  },
  {
   "cell_type": "code",
   "execution_count": 142,
   "metadata": {},
   "outputs": [
    {
     "name": "stdout",
     "output_type": "stream",
     "text": [
      "root\n",
      " |-- id: integer (nullable = true)\n",
      " |-- death: string (nullable = true)\n",
      " |-- end_date: string (nullable = true)\n",
      " |-- location: string (nullable = true)\n",
      "\n",
      "+-------+--------------------+--------------------+--------------------+\n",
      "|     id|               death|            end_date|            location|\n",
      "+-------+--------------------+--------------------+--------------------+\n",
      "| 661864|                null|11, 12 and 13 Sep...|[[Melbourne]], [[...|\n",
      "| 664490|'''Deaths''': 3<b...|  January–March 1912|[[Lawrence, Massa...|\n",
      "|1613199|                null|May 28 and July 2...|[[East St. Louis,...|\n",
      "|1619134|                null|February 24, 2005...|  [[Quebec]], Canada|\n",
      "|3138671|'''Shootout''':<b...|July 23–24, 1968 ...|[[Glenville, Clev...|\n",
      "|3158301|                null|            May 1971|[[Washington, D.C...|\n",
      "|1113889|                  +2|  August 19–21, 1991|[[Crown Heights, ...|\n",
      "| 152287|{{plainlist|\n",
      "*14 ...|[+1878-07-19T00:0...|[[Lincoln County,...|\n",
      "|  43573|                null|      April 21, 1855|[[Chicago, Illino...|\n",
      "|  44534|              +10454|+1989-06-04T00:00...|Tiananmen Square ...|\n",
      "|  49001|                null|+1968-00-00T00:00...|       United States|\n",
      "|1553191|                null|April 29 – May 4,...|[[Los Angeles Cou...|\n",
      "|1554342|                null|+2005-04-11T00:00...|      [[Kyrgyzstan]]|\n",
      "|1556708|                   0|14 February – 27 ...|[[Lebanon]] (espe...|\n",
      "|1456276|                null|                null|    [[West Germany]]|\n",
      "|1494771|                null|+2001-01-20T00:00...|     [[Philippines]]|\n",
      "|3798726|                null|         May 1, 1894| [[Cleveland]], Ohio|\n",
      "|1316143|          43 injured|28–30 September 1985|[[London Borough ...|\n",
      "|1322490|Policemen wounded...|15 December 2000 ...|city of [[Kiev]] ...|\n",
      "|1343424|                null|           1965—1985|       United States|\n",
      "+-------+--------------------+--------------------+--------------------+\n",
      "only showing top 20 rows\n",
      "\n"
     ]
    }
   ],
   "source": [
    "wiki_civil_conflict_df = spark.createDataFrame(wiki_civil_conflict_rows, schema)\n",
    "\n",
    "wiki_civil_conflict_df.printSchema()\n",
    "wiki_civil_conflict_df.show()"
   ]
  },
  {
   "cell_type": "code",
   "execution_count": 143,
   "metadata": {},
   "outputs": [
    {
     "data": {
      "text/plain": [
       "847"
      ]
     },
     "execution_count": 143,
     "metadata": {},
     "output_type": "execute_result"
    }
   ],
   "source": [
    "wiki_civil_conflict_df.count()"
   ]
  },
  {
   "cell_type": "code",
   "execution_count": 144,
   "metadata": {
    "collapsed": true
   },
   "outputs": [],
   "source": [
    "# saving binary file to future uses\n",
    "wiki_civil_conflict_df.write.mode('overwrite').parquet(\"wiki_civil_conflict_df.parquet\");"
   ]
  },
  {
   "cell_type": "markdown",
   "metadata": {},
   "source": [
    "---\n",
    "\n",
    "# Popularity Metrics\n",
    "\n",
    "## Loading the data"
   ]
  },
  {
   "cell_type": "code",
   "execution_count": 52,
   "metadata": {},
   "outputs": [
    {
     "name": "stdout",
     "output_type": "stream",
     "text": [
      "+--------+---+------------+--------------------+--------------------+-----------------+---------------+\n",
      "|      id| ns|restrictions|            revision|               title|       categories|good_categories|\n",
      "+--------+---+------------+--------------------+--------------------+-----------------+---------------+\n",
      "|25523989|  0|        null|[[/* Refugee cris...|      Dongo conflict|military conflict|           true|\n",
      "|29393333|  0|        null|[[Remove a delete...|Cincinnati riots ...|   civil conflict|           true|\n",
      "|29398957|  0|        null|[[/* Citations */...| Helwan riots (1945)|   civil conflict|           true|\n",
      "|29410468|  0|        null|[[Remove a delete...|Cincinnati riots ...|   civil conflict|           true|\n",
      "|29412323|  0|        null|[[Chronological o...|Ming–Turpan conflict|military conflict|           true|\n",
      "|29420770|  0|        null|[[Reverted edits ...| Broadway expedition|military conflict|           true|\n",
      "|26349076|  0|        null|[[Bot: [[User:Kol...|February 2010 Kab...|  civilian attack|           true|\n",
      "|22881682|  0|        null|[[Reverted 3 edit...|         Wei–Jie war|military conflict|           true|\n",
      "|22886602|  0|        null|[, [,,, 112.206.7...|      Bizerte crisis|military conflict|           true|\n",
      "|22937234|  0|        null|[[Reverted to rev...|Second Battle of ...|military conflict|           true|\n",
      "+--------+---+------------+--------------------+--------------------+-----------------+---------------+\n",
      "only showing top 10 rows\n",
      "\n"
     ]
    }
   ],
   "source": [
    "# Loading the data\n",
    "DATA_DIR = '../' \n",
    "WIKIPEDIA_REFERENCES_PARQUET = DATA_DIR + \"wikipedia_no_outliers.parquet\"\n",
    "\n",
    "# loading the saved parquet files\n",
    "wikipedia_ref = spark.read.parquet(WIKIPEDIA_REFERENCES_PARQUET)\n",
    "wikipedia_ref.show(10)"
   ]
  },
  {
   "cell_type": "markdown",
   "metadata": {},
   "source": [
    "## POPULARITY METRIC 1\n",
    "\n",
    "### Get number of references per page\n",
    "\n",
    "We use our pre-filtered data and we count the number of tag of type ```<ref>```, by parsing all pages to get the number of references. We think that the more *popular* a page is, the more references it will contain.\n",
    "\n",
    "We want to see:\n",
    "* how many references a page has\n",
    "* what does the distribution of the references look like \n",
    "* what are the top domains across these articles \n",
    "* how many articles have a reference to each domain\n",
    "\n",
    "The analysis is based on work from *Research:Characterizing Wikipedia Citation Usage*: [MetaPageQueries](https://meta.wikimedia.org/wiki/Research:Characterizing_Wikipedia_Citation_Usage/First_Round_of_Analysis#Dimensions_of_Analysis)\n",
    "\n",
    "Example of reference format:\n",
    "```html\n",
    "<ref>{{cite web| url=http://geonames.nga.mil/ggmagaz/geonames4.asp \n",
    "    |title=NGA GeoName Database |publisher=[[National Geospatial Intelligence Agency]] \n",
    "    |accessdate=2008-07-05 \n",
    "    |archiveurl = https://web.archive.org/web/20080608190852/http://geonames.nga.mil/ggmagaz/geonames4.asp \n",
    "    <!-- Bot retrieved archive --> |archivedate = 2008-06-08}}</ref>\n",
    "```\n",
    "\n",
    "**quantify the number of references per page**\n",
    "    * using regex expression to find the references in the page\n",
    "    * counting the number of references"
   ]
  },
  {
   "cell_type": "code",
   "execution_count": 53,
   "metadata": {
    "collapsed": true
   },
   "outputs": [],
   "source": [
    "# quantify the number of references per page\n",
    "\n",
    "# Compile a regular expression pattern into a regular expression object, \n",
    "#which can be used for matching using its findall.\n",
    "just_ref_regex = re.compile(r'<ref[^>]*[^\\/]>|<ref[ ]*>')\n",
    "\n",
    "# find # references <ref> per page \n",
    "def get_refs_count(entity, regex_expression=just_ref_regex ):\n",
    "    # get access to value in text in revision\n",
    "    text = entity.revision.text._VALUE\n",
    "    # find references\n",
    "    refs = just_ref_regex.findall(text)\n",
    "    return Row(id=entity.id, refs_count=len(refs), categories=entity.categories)"
   ]
  },
  {
   "cell_type": "code",
   "execution_count": 54,
   "metadata": {},
   "outputs": [
    {
     "name": "stdout",
     "output_type": "stream",
     "text": [
      "+-----------------+--------+----------+\n",
      "|       categories|      id|refs_count|\n",
      "+-----------------+--------+----------+\n",
      "|military conflict|43243199|       609|\n",
      "|military conflict| 3030955|       519|\n",
      "|military conflict|56944198|       473|\n",
      "|military conflict|47894039|       453|\n",
      "|  civilian attack| 3177125|       449|\n",
      "+-----------------+--------+----------+\n",
      "only showing top 5 rows\n",
      "\n"
     ]
    }
   ],
   "source": [
    "# get the # of references per page\n",
    "# Creates a DataFrame from an RDD, apply counting function with regex expression\n",
    "reference_count_page = sqlContext.createDataFrame(wikipedia_ref.rdd.map(get_refs_count))\n",
    "reference_count_page.sort('refs_count', ascending=False).show(5)\n",
    "reference_count_page_sql = reference_count_page.registerTempTable('reference_count_page_sql')"
   ]
  },
  {
   "cell_type": "code",
   "execution_count": 55,
   "metadata": {},
   "outputs": [
    {
     "name": "stdout",
     "output_type": "stream",
     "text": [
      "Number of articles with #references > 0: 1688\n"
     ]
    }
   ],
   "source": [
    "# quantify the # articles with # ref > 0: \n",
    "non_zero_ref_query = \"\"\"\n",
    "select count(DISTINCT id)\n",
    "from reference_count_page_sql\n",
    "where refs_count > 0\n",
    "\"\"\"\n",
    "non_zero_articles = spark.sql(non_zero_ref_query)\n",
    "\n",
    "non_zero_articles_pd = non_zero_articles.toPandas().iloc[0,0]\n",
    "print(\"Number of articles with #references > 0: \" + str(non_zero_articles_pd))"
   ]
  },
  {
   "cell_type": "markdown",
   "metadata": {},
   "source": [
    "**Distribution of number of references** We bin the number of references to get the number of pages having at least x #references. This is observed with a histogram plot."
   ]
  },
  {
   "cell_type": "code",
   "execution_count": 70,
   "metadata": {},
   "outputs": [
    {
     "data": {
      "image/png": "[encoded data removed]",
      "text/plain": [
       "<Figure size 864x504 with 1 Axes>"
      ]
     },
     "metadata": {
      "needs_background": "light"
     },
     "output_type": "display_data"
    }
   ],
   "source": [
    "just_refs_count = reference_count_page.select('refs_count').toPandas()\n",
    "just_refs_count.plot(kind=\"hist\", bins=100, \n",
    "                     figsize=(12,7), title=\"Distribution of number of references\")\n",
    "plt.xlabel('# References')\n",
    "plt.ylabel('Frequency: # Pages having at least x references')\n",
    "plt.show()"
   ]
  },
  {
   "cell_type": "code",
   "execution_count": 83,
   "metadata": {},
   "outputs": [
    {
     "data": {
      "image/png": "[encoded data removed]",
      "text/plain": [
       "<Figure size 864x504 with 1 Axes>"
      ]
     },
     "metadata": {
      "needs_background": "light"
     },
     "output_type": "display_data"
    }
   ],
   "source": [
    "just_refs_count = reference_count_page.select('refs_count').toPandas()\n",
    "just_refs_count.plot(kind=\"hist\", bins=100, log = True,\n",
    "                     figsize=(12,7), title=\"Distribution of number of references\")\n",
    "plt.xlabel('# References')\n",
    "plt.ylabel('Frequency: # Pages having at least x references (log scale)')\n",
    "plt.show()"
   ]
  },
  {
   "cell_type": "code",
   "execution_count": 193,
   "metadata": {},
   "outputs": [
    {
     "data": {
      "image/png": "[encoded data removed]",
      "text/plain": [
       "<Figure size 1296x360 with 1 Axes>"
      ]
     },
     "metadata": {
      "needs_background": "light"
     },
     "output_type": "display_data"
    }
   ],
   "source": [
    "step = 100;\n",
    "xs = pd.Series(range(1,int(just_refs_count.max()),step));\n",
    "gratherThanData = xs.apply(lambda x: (just_refs_count.refs_count[just_refs_count.refs_count>=x]).count());\n",
    "\n",
    "f, (ax2) = plt.subplots(1, 1);\n",
    "plt.sca(ax2);\n",
    "plt.plot(xs,gratherThanData);\n",
    "plt.xlabel('# references',fontsize=16);\n",
    "plt.ylabel('# articles',fontsize=16);\n",
    "plt.yscale('log'); plt.xscale('log');\n",
    "f.set_size_inches(18, 5)\n",
    "f.suptitle('Log-log of distribution of number of references',fontsize=20)\n",
    "plt.show();"
   ]
  },
  {
   "cell_type": "markdown",
   "metadata": {},
   "source": [
    "**Distribution of number of references**: It seems that the distribution may follow a power law. To verify our suspicions, we plot our cumulative distribution in normal axes and in log-log axes. We look at a \"cumulative distribution\": how many references have at least x pages?\n",
    "\n",
    "The distribution has a heavy-tailed distribution: it may follow a power law. To recognize if the distirbutions follow a power law, we plot the data in log-log axes. If it follows a power law, reporting mean or variance for a power-law-distributed data is not relevant as these statistics are not robust as they are sensitive to data. Instead, we use robust statistics and report the median and quartiles using boxplots. We compare boxplots with and without outliers."
   ]
  },
  {
   "cell_type": "code",
   "execution_count": 190,
   "metadata": {},
   "outputs": [
    {
     "data": {
      "image/png": "[encoded data removed]",
      "text/plain": [
       "<Figure size 432x288 with 1 Axes>"
      ]
     },
     "metadata": {
      "needs_background": "light"
     },
     "output_type": "display_data"
    }
   ],
   "source": [
    "# with all data\n",
    "just_refs_count.boxplot();"
   ]
  },
  {
   "cell_type": "code",
   "execution_count": 191,
   "metadata": {},
   "outputs": [
    {
     "data": {
      "image/png": "[encoded data removed]",
      "text/plain": [
       "<Figure size 432x288 with 1 Axes>"
      ]
     },
     "metadata": {
      "needs_background": "light"
     },
     "output_type": "display_data"
    }
   ],
   "source": [
    "# without extreme values (discard outliers)\n",
    "just_refs_count[just_refs_count['refs_count']< 100].boxplot();"
   ]
  },
  {
   "cell_type": "markdown",
   "metadata": {},
   "source": [
    "### Get the domains of references"
   ]
  },
  {
   "cell_type": "code",
   "execution_count": 63,
   "metadata": {},
   "outputs": [
    {
     "name": "stdout",
     "output_type": "stream",
     "text": [
      "+--------+---------+--------------------+--------------------+\n",
      "|      id| template|               title|                 url|\n",
      "+--------+---------+--------------------+--------------------+\n",
      "|29393333| cite web|Population of the...|https://www.censu...|\n",
      "|29393333|cite book|Cincinnati: From ...|https://books.goo...|\n",
      "|29393333|cite book|Contested Terrain...|https://books.goo...|\n",
      "|29393333| cite web|       Irish Ohioans|http://www.ohiohi...|\n",
      "|29393333|cite book|Frontiers of Free...|https://books.goo...|\n",
      "+--------+---------+--------------------+--------------------+\n",
      "only showing top 5 rows\n",
      "\n"
     ]
    }
   ],
   "source": [
    "references_rrd = wikipedia.rdd.flatMap(get_ref_info)\n",
    "references = sqlContext.createDataFrame(references_rrd)\n",
    "references.show(5)"
   ]
  },
  {
   "cell_type": "markdown",
   "metadata": {},
   "source": [
    "**URL parsing** \n",
    "Parse a URL into six components, returning a 6-tuple. This corresponds to the general structure of a URL: scheme://netloc/path;parameters?query#fragment. Each tuple item is a string, possibly empty."
   ]
  },
  {
   "cell_type": "code",
   "execution_count": 64,
   "metadata": {},
   "outputs": [
    {
     "data": {
      "text/plain": [
       "[('books.google.com', 1377),\n",
       " ('www.nytimes.com', 1293),\n",
       " ('www.theguardian.com', 1136),\n",
       " ('www.reuters.com', 1114),\n",
       " ('www.bbc.co.uk', 943),\n",
       " ('www.bbc.com', 678),\n",
       " ('news.bbc.co.uk', 660),\n",
       " ('www.aljazeera.com', 599),\n",
       " ('www.washingtonpost.com', 591),\n",
       " ('www.telegraph.co.uk', 482),\n",
       " ('edition.cnn.com', 400),\n",
       " ('www.cnn.com', 384),\n",
       " ('www.jpost.com', 324),\n",
       " ('www.independent.co.uk', 287),\n",
       " ('twitter.com', 284),\n",
       " ('www.haaretz.com', 271),\n",
       " ('timesofindia.indiatimes.com', 228),\n",
       " ('www.hurriyetdailynews.com', 208),\n",
       " ('www.thehindu.com', 208),\n",
       " ('abcnews.go.com', 207),\n",
       " ('news.yahoo.com', 201),\n",
       " ('www.wsj.com', 198),\n",
       " ('www.foxnews.com', 194),\n",
       " ('www.timesofisrael.com', 188),\n",
       " ('www.almasdarnews.com', 185),\n",
       " ('english.ahram.org.eg', 184),\n",
       " ('www.youtube.com', 183),\n",
       " ('www.latimes.com', 182),\n",
       " ('www.ynetnews.com', 176),\n",
       " ('www.google.com', 171)]"
      ]
     },
     "execution_count": 64,
     "metadata": {},
     "output_type": "execute_result"
    }
   ],
   "source": [
    "def get_domain(row):\n",
    "    # parse url and return for each row (url, 1) where 1 is the occurence of ref = 1 for that page\n",
    "    try:\n",
    "        parsed_uri = urlparse(row['url'])\n",
    "        return ('{uri.netloc}'.format(uri=parsed_uri), 1)\n",
    "    except:\n",
    "        return None\n",
    "\n",
    "mapped_domains = references.where(\"length(url)>0\").rdd.map(get_domain).filter(lambda row: row is not None)\n",
    "# for each domain count how many references there are in total to find top domains\n",
    "domains_count = mapped_domains.reduceByKey(lambda a,b: a+b).filter(lambda r: len(r[0])>0).sortBy(lambda r: -r[1])\n",
    "domains_count.take(30)"
   ]
  },
  {
   "cell_type": "code",
   "execution_count": 65,
   "metadata": {},
   "outputs": [
    {
     "name": "stdout",
     "output_type": "stream",
     "text": [
      "Total number of links: 43809\n"
     ]
    }
   ],
   "source": [
    "# count the number of links\n",
    "number_links = domains_count.map(lambda r: r[1]).reduce(add)\n",
    "print(\"Total number of links: {}\".format(number_links))"
   ]
  },
  {
   "cell_type": "code",
   "execution_count": 66,
   "metadata": {},
   "outputs": [
    {
     "name": "stdout",
     "output_type": "stream",
     "text": [
      "+-----+--------------------+-------------------+\n",
      "|count|              domain|               perc|\n",
      "+-----+--------------------+-------------------+\n",
      "| 1377|    books.google.com| 3.1431897555296855|\n",
      "| 1293|     www.nytimes.com| 2.9514483325344107|\n",
      "| 1136| www.theguardian.com| 2.5930744824122898|\n",
      "| 1114|     www.reuters.com|  2.542856490675432|\n",
      "|  943|       www.bbc.co.uk|  2.152525736720765|\n",
      "|  678|         www.bbc.com| 1.5476271998904334|\n",
      "|  660|      news.bbc.co.uk| 1.5065397521057318|\n",
      "|  599|   www.aljazeera.com| 1.3672989568353535|\n",
      "|  591|www.washingtonpos...| 1.3490378689310416|\n",
      "|  482| www.telegraph.co.uk| 1.1002305462347919|\n",
      "|  400|     edition.cnn.com|  0.913054395215595|\n",
      "|  384|         www.cnn.com| 0.8765322194069711|\n",
      "|  324|       www.jpost.com| 0.7395740601246319|\n",
      "|  287|www.independent.c...| 0.6551165285671894|\n",
      "|  284|         twitter.com| 0.6482686206030724|\n",
      "|  271|     www.haaretz.com| 0.6185943527585656|\n",
      "|  228|timesofindia.indi...| 0.5204410052728892|\n",
      "|  208|www.hurriyetdaily...| 0.4747882855121094|\n",
      "|  208|    www.thehindu.com| 0.4747882855121094|\n",
      "|  207|      abcnews.go.com|0.47250564952407037|\n",
      "+-----+--------------------+-------------------+\n",
      "only showing top 20 rows\n",
      "\n"
     ]
    }
   ],
   "source": [
    "def percentage(rdd):\n",
    "    return Row(domain=rdd[0], count=rdd[1], perc=rdd[1]*100/number_links)\n",
    "\n",
    "domains_distribution = sqlContext.createDataFrame(domains_count.map(percentage)).sort(\"count\", ascending=False)\n",
    "domains_distribution.show()"
   ]
  },
  {
   "cell_type": "code",
   "execution_count": 67,
   "metadata": {
    "collapsed": true
   },
   "outputs": [],
   "source": [
    "domains_distribution_pd = domains_distribution.toPandas().set_index('domain')"
   ]
  },
  {
   "cell_type": "code",
   "execution_count": 68,
   "metadata": {},
   "outputs": [
    {
     "data": {
      "image/png": "[encoded data removed]",
      "text/plain": [
       "<Figure size 720x720 with 1 Axes>"
      ]
     },
     "metadata": {
      "needs_background": "light"
     },
     "output_type": "display_data"
    }
   ],
   "source": [
    "domains_distribution_pd20 = domains_distribution_pd.head(15)\n",
    "\n",
    "# plot using bar plot\n",
    "f, ax1 = plt.subplots()\n",
    "plt.sca(ax1)\n",
    "sns.barplot(domains_distribution_pd20['perc'], domains_distribution_pd20.index, palette=\"YlOrRd\", ax=ax1, orient='h')\n",
    "plt.xlabel('Percentage of references [%]',fontsize=18)\n",
    "plt.ylabel('Domains',fontsize=18)\n",
    "f.suptitle('Bar plot of percentage of references for domains', fontsize=20)\n",
    "f.set_size_inches(10, 10)\n",
    "plt.show()"
   ]
  },
  {
   "cell_type": "markdown",
   "metadata": {},
   "source": [
    "# Popularity metric 2\n",
    "\n",
    "### Get number of views per page\n",
    "\n",
    "A way of measuring the popularity of a page can be done by looking at the number of views per page. Let's follow the trend!"
   ]
  },
  {
   "cell_type": "code",
   "execution_count": 159,
   "metadata": {
    "collapsed": true
   },
   "outputs": [],
   "source": [
    "# Loading the data\n",
    "DATA_DIR = '../' \n",
    "WIKIPEDIA_VIEWCOUNT_PARQUET = DATA_DIR + \"wikipedia_no_outliers.parquet\"\n",
    "# loading the saved parquet files\n",
    "wikipedia_VIEWS = spark.read.parquet(WIKIPEDIA_VIEWCOUNT_PARQUET)"
   ]
  },
  {
   "cell_type": "code",
   "execution_count": 160,
   "metadata": {
    "collapsed": true
   },
   "outputs": [],
   "source": [
    "df = wikipedia_VIEWS.select(\"title\")\n",
    "conflict_array = [(i.title) for i in df.collect()];"
   ]
  },
  {
   "cell_type": "code",
   "execution_count": 161,
   "metadata": {
    "collapsed": true
   },
   "outputs": [],
   "source": [
    "def getViewsFromAPI(conflict_array):\n",
    "    views_dict = p.article_views('en.wikipedia', conflict_array, granularity='monthly',\n",
    "                                 start='20150701', end=time.strftime('%Y%m%d'), agent='user')\n",
    "    return views_dict"
   ]
  },
  {
   "cell_type": "code",
   "execution_count": 162,
   "metadata": {
    "collapsed": true
   },
   "outputs": [],
   "source": [
    "startingLogDate = '20150701';\n",
    "today = time.strftime('%Y%m%d');\n",
    "\n",
    "p = PageviewsClient(user_agent=\"<ada@epfl.ch> Applied data analysis project\")\n",
    "\n",
    "views_dict = p.article_views('en.wikipedia', conflict_array, granularity='monthly', start=startingLogDate, end=today, agent='user')\n"
   ]
  },
  {
   "cell_type": "code",
   "execution_count": 163,
   "metadata": {
    "collapsed": true
   },
   "outputs": [],
   "source": [
    "dizioTizio = [];\n",
    "for key, value in views_dict.items():\n",
    "    chiave = list(value.keys());\n",
    "    valore = list(value.values());\n",
    "    pippo  = list(zip(chiave,valore));\n",
    "    dizioTizio.extend(pippo)"
   ]
  },
  {
   "cell_type": "code",
   "execution_count": 164,
   "metadata": {
    "collapsed": true
   },
   "outputs": [],
   "source": [
    "views = spark.createDataFrame(dizioTizio,[\"title\", \"views\"])\n",
    "\n",
    "views = views.select('title', views.views.cast('int')).na.fill(0);"
   ]
  },
  {
   "cell_type": "code",
   "execution_count": 165,
   "metadata": {
    "collapsed": true
   },
   "outputs": [],
   "source": [
    "views_df = views.groupBy(\"title\").agg(F.sum(\"views\")).select(\"title\",F.col(\"sum(views)\").alias(\"views\"))"
   ]
  },
  {
   "cell_type": "code",
   "execution_count": 166,
   "metadata": {
    "collapsed": true
   },
   "outputs": [],
   "source": [
    "# saving binary file\n",
    "views_df.write.mode('overwrite').parquet(DATA_DIR+\"Views_no_outliers.parquet\");"
   ]
  },
  {
   "cell_type": "code",
   "execution_count": 167,
   "metadata": {},
   "outputs": [
    {
     "name": "stdout",
     "output_type": "stream",
     "text": [
      "+--------------------+--------+\n",
      "|               title|   views|\n",
      "+--------------------+--------+\n",
      "|September_11_attacks|21830148|\n",
      "|2012_Benghazi_attack|13205917|\n",
      "|November_2015_Par...| 7942141|\n",
      "|Tiananmen_Square_...| 6554664|\n",
      "|    Battle_of_Midway| 4126864|\n",
      "|   Battle_of_Okinawa| 4118820|\n",
      "|Israeli–Palestini...| 3840491|\n",
      "|    Rwandan_genocide| 3801129|\n",
      "| 2008_Mumbai_attacks| 3702104|\n",
      "| 2011_Norway_attacks| 3624349|\n",
      "+--------------------+--------+\n",
      "only showing top 10 rows\n",
      "\n"
     ]
    }
   ],
   "source": [
    "# loading the saved parquet files\n",
    "views_df = spark.read.parquet(DATA_DIR+\"Views_no_outliers.parquet\");\n",
    "views_df.sort('views', ascending=False).show(10)"
   ]
  },
  {
   "cell_type": "code",
   "execution_count": 171,
   "metadata": {
    "collapsed": true
   },
   "outputs": [],
   "source": [
    "views_df = views_df.select(regexp_replace(col(\"title\"), \"_+\", \" \").alias('title'), 'views')"
   ]
  },
  {
   "cell_type": "code",
   "execution_count": 172,
   "metadata": {},
   "outputs": [
    {
     "name": "stdout",
     "output_type": "stream",
     "text": [
      "+--------------------+------+\n",
      "|               title| views|\n",
      "+--------------------+------+\n",
      "|2013 Muzaffarnaga...|304002|\n",
      "|Battle of Pokoku ...| 21117|\n",
      "|2012–13 Iraqi pro...| 29295|\n",
      "|Battles of Kawana...|126809|\n",
      "|2004 Republican N...| 22108|\n",
      "|Battle of Isandlwana|968910|\n",
      "|     Jahriyya revolt|  2865|\n",
      "|First conflict of...|  4799|\n",
      "|2012 Afghanistan ...| 45655|\n",
      "|Deir ez-Zor Gover...| 24945|\n",
      "|2017 Notre Dame a...| 31000|\n",
      "|Italian guerrilla...| 58086|\n",
      "|Ballygawley land ...|  4056|\n",
      "|     Awa'uq Massacre| 23629|\n",
      "|  Humboldt Park riot| 12401|\n",
      "|Oakland freeway s...|  2798|\n",
      "|2001 South Armagh...|   247|\n",
      "|2014 Gamboru Ngal...| 18343|\n",
      "|Siege of Kurokawa...|  1946|\n",
      "|2012 Romanian con...|  9158|\n",
      "+--------------------+------+\n",
      "only showing top 20 rows\n",
      "\n"
     ]
    }
   ],
   "source": [
    "views_df.show()"
   ]
  },
  {
   "cell_type": "markdown",
   "metadata": {},
   "source": [
    "**Distribution of number of views** We bin the number of references to get the number of pages having at least x #views. This is observed with a histogram plot."
   ]
  },
  {
   "cell_type": "code",
   "execution_count": 200,
   "metadata": {},
   "outputs": [
    {
     "data": {
      "image/png": "[encoded data removed]",
      "text/plain": [
       "<Figure size 864x504 with 1 Axes>"
      ]
     },
     "metadata": {
      "needs_background": "light"
     },
     "output_type": "display_data"
    }
   ],
   "source": [
    "just_views_count = views_df.select('views').toPandas()\n",
    "just_views_count.plot(kind=\"hist\", bins=100, \n",
    "                     figsize=(12,7), title=\"Distribution of number of views\")\n",
    "plt.xlabel('# Views')\n",
    "plt.ylabel('Frequency: # Pages having at least x views')\n",
    "plt.xlim(0.0e7,0.6e7)\n",
    "plt.show()"
   ]
  },
  {
   "cell_type": "code",
   "execution_count": 202,
   "metadata": {},
   "outputs": [
    {
     "data": {
      "image/png": "[encoded data removed]",
      "text/plain": [
       "<Figure size 1296x360 with 1 Axes>"
      ]
     },
     "metadata": {
      "needs_background": "light"
     },
     "output_type": "display_data"
    }
   ],
   "source": [
    "step = 100000;\n",
    "xs = pd.Series(range(1,int(just_views_count.max()),step));\n",
    "gratherThanData = xs.apply(lambda x: (just_views_count.views[just_views_count.views>=x]).count());\n",
    "\n",
    "f, (ax2) = plt.subplots(1, 1);\n",
    "plt.sca(ax2);\n",
    "plt.plot(xs,gratherThanData);\n",
    "plt.xlabel('views',fontsize=16);\n",
    "plt.ylabel('# articles',fontsize=16);\n",
    "plt.yscale('log'); plt.xscale('log');\n",
    "f.set_size_inches(18, 5)\n",
    "f.suptitle('Log-log of distribution of number of views',fontsize=20)\n",
    "plt.show();"
   ]
  },
  {
   "cell_type": "markdown",
   "metadata": {},
   "source": [
    "As seen we plotted our cumulative distribution in normal axes and in log-log axes. The distribution of the number of views follows a power law. Since it follows a power law, reporting mean or variance for a power-law-distributed data is not relevant as these statistics are not robust as they are sensitive to data. Instead, we use robust statistics and report the median and quartiles using boxplots. We compare boxplots with and without outliers."
   ]
  },
  {
   "cell_type": "code",
   "execution_count": 203,
   "metadata": {},
   "outputs": [
    {
     "data": {
      "image/png": "[encoded data removed]",
      "text/plain": [
       "<Figure size 432x288 with 1 Axes>"
      ]
     },
     "metadata": {
      "needs_background": "light"
     },
     "output_type": "display_data"
    }
   ],
   "source": [
    "# with all data\n",
    "just_views_count.boxplot();"
   ]
  },
  {
   "cell_type": "code",
   "execution_count": 206,
   "metadata": {},
   "outputs": [
    {
     "data": {
      "image/png": "[encoded data removed]",
      "text/plain": [
       "<Figure size 432x288 with 1 Axes>"
      ]
     },
     "metadata": {
      "needs_background": "light"
     },
     "output_type": "display_data"
    }
   ],
   "source": [
    "# without outliers\n",
    "just_views_count[just_views_count['views'] < 200000].boxplot();"
   ]
  },
  {
   "cell_type": "markdown",
   "metadata": {},
   "source": [
    "# Popularity metric 3\n",
    "\n",
    "### Get number of external links per page\n"
   ]
  },
  {
   "cell_type": "markdown",
   "metadata": {},
   "source": [
    "# Popularity metric 4\n",
    "\n",
    "### Get length of article \n",
    "We assume that the longer the article, the more popular it may be."
   ]
  },
  {
   "cell_type": "code",
   "execution_count": 81,
   "metadata": {},
   "outputs": [
    {
     "name": "stdout",
     "output_type": "stream",
     "text": [
      "+--------+--------------------+-----------------+--------------+\n",
      "|      id|               title|       categories|article_lenght|\n",
      "+--------+--------------------+-----------------+--------------+\n",
      "| 3030955|    Kashmir conflict|military conflict|        364091|\n",
      "|43243199|2014 Israel–Gaza ...|military conflict|        293156|\n",
      "| 3177125|Springfield race ...|  civilian attack|        274021|\n",
      "|39543021|2013–14 Bulgarian...|   civil conflict|        256709|\n",
      "|41979235|2014 Ukrainian re...|   Civil Conflict|        252912|\n",
      "+--------+--------------------+-----------------+--------------+\n",
      "only showing top 5 rows\n",
      "\n"
     ]
    }
   ],
   "source": [
    "# Loading the data\n",
    "DATA_DIR = '../' \n",
    "WIKIPEDIA_LENGTH_PARQUET = DATA_DIR + \"wikipedia_no_outliers.parquet\"\n",
    "\n",
    "# loading the saved parquet files\n",
    "articles = spark.read.parquet(WIKIPEDIA_LENGTH_PARQUET)\n",
    "articles_length = articles.withColumn('article_lenght', F.length(articles.revision.text._VALUE))\n",
    "articles_length_filter = articles_length.select(\"id\",\"title\",\"categories\",\"article_lenght\")\n",
    "articles_length_filter.sort('article_lenght', ascending=False).show(5)"
   ]
  },
  {
   "cell_type": "markdown",
   "metadata": {},
   "source": [
    "**Distribution of article length** We bin the article length to get the number of pages having at least x article lengths. This is observed with a histogram plot."
   ]
  },
  {
   "cell_type": "code",
   "execution_count": 175,
   "metadata": {},
   "outputs": [
    {
     "data": {
      "image/png": "[encoded data removed]",
      "text/plain": [
       "<Figure size 864x504 with 1 Axes>"
      ]
     },
     "metadata": {
      "needs_background": "light"
     },
     "output_type": "display_data"
    }
   ],
   "source": [
    "just_article_length = articles_length_filter.select('article_lenght').toPandas()\n",
    "just_article_length.plot(kind=\"hist\", bins=100, \n",
    "                     figsize=(12,7), title=\"Distribution of article lengths\")\n",
    "plt.xlabel('Article length')\n",
    "plt.ylabel('Frequency: # Pages having at least x Article length')\n",
    "plt.show()"
   ]
  },
  {
   "cell_type": "code",
   "execution_count": 180,
   "metadata": {},
   "outputs": [
    {
     "data": {
      "image/png": "[encoded data removed]",
      "text/plain": [
       "<Figure size 864x504 with 1 Axes>"
      ]
     },
     "metadata": {
      "needs_background": "light"
     },
     "output_type": "display_data"
    }
   ],
   "source": [
    "just_article_length = articles_length_filter.select('article_lenght').toPandas()\n",
    "just_article_length.plot(kind=\"hist\", bins=100, log = True,\n",
    "                     figsize=(12,7), title=\"Distribution of article lengths\")\n",
    "plt.xlabel('Article length')\n",
    "plt.ylabel('Frequency: # Pages having at least x Article length')\n",
    "plt.show()"
   ]
  },
  {
   "cell_type": "markdown",
   "metadata": {},
   "source": [
    "The distribution has a heavy-tailed distribution: it may follow a power law."
   ]
  },
  {
   "cell_type": "code",
   "execution_count": 194,
   "metadata": {},
   "outputs": [
    {
     "data": {
      "image/png": "[encoded data removed]",
      "text/plain": [
       "<Figure size 1296x360 with 1 Axes>"
      ]
     },
     "metadata": {
      "needs_background": "light"
     },
     "output_type": "display_data"
    }
   ],
   "source": [
    "step = 100;\n",
    "xs = pd.Series(range(1,int(just_article_length.max()),step));\n",
    "gratherThanData = xs.apply(lambda x: (just_article_length.article_lenght[just_article_length.article_lenght>=x]).count());\n",
    "\n",
    "f, (ax2) = plt.subplots(1, 1);\n",
    "plt.sca(ax2);\n",
    "plt.plot(xs,gratherThanData);\n",
    "plt.xlabel('article length',fontsize=16);\n",
    "plt.ylabel('# articles',fontsize=16);\n",
    "plt.yscale('log'); plt.xscale('log');\n",
    "f.set_size_inches(18, 5)\n",
    "f.suptitle('Log-log of distribution of article length',fontsize=20)\n",
    "plt.show();"
   ]
  },
  {
   "cell_type": "markdown",
   "metadata": {},
   "source": [
    "---\n",
    "\n",
    "# Joining tables on the page id\n",
    "\n",
    "Having defined popularity metrics and importance criterion, we now join the tables on the page ID."
   ]
  },
  {
   "cell_type": "markdown",
   "metadata": {},
   "source": [
    "## 1. Join all popularity tables on page id"
   ]
  },
  {
   "cell_type": "code",
   "execution_count": 173,
   "metadata": {},
   "outputs": [
    {
     "name": "stdout",
     "output_type": "stream",
     "text": [
      "+--------+--------------------+-----------------+--------------+\n",
      "|      id|               title|       categories|article_lenght|\n",
      "+--------+--------------------+-----------------+--------------+\n",
      "|25523989|      Dongo conflict|military conflict|         11478|\n",
      "|29393333|Cincinnati riots ...|   civil conflict|         14045|\n",
      "|29398957| Helwan riots (1945)|   civil conflict|          7679|\n",
      "|29410468|Cincinnati riots ...|   civil conflict|          5373|\n",
      "|29412323|Ming–Turpan conflict|military conflict|          8590|\n",
      "+--------+--------------------+-----------------+--------------+\n",
      "only showing top 5 rows\n",
      "\n"
     ]
    }
   ],
   "source": [
    "# need tables reference_count_page & articles_length_filter\n",
    "references_popularity = reference_count_page.registerTempTable('references_popularity')\n",
    "length_popularity = articles_length_filter.registerTempTable('length_popularity')\n",
    "views_popularity = views_df.registerTempTable('views_popularity')\n",
    "\n",
    "query_join_ref_length = \"\"\"\n",
    "select length_popularity.id, length_popularity.title, length_popularity.categories, length_popularity.article_lenght, references_popularity.refs_count\n",
    "from length_popularity\n",
    "join references_popularity\n",
    "on length_popularity.id = references_popularity.id\n",
    "\"\"\"\n",
    "\n",
    "join_ref_length = spark.sql(query_join_ref_length)\n",
    "join_ref_length.show(5)"
   ]
  },
  {
   "cell_type": "code",
   "execution_count": 140,
   "metadata": {},
   "outputs": [
    {
     "data": {
      "text/plain": [
       "[Row(id=57214505, title='Jahriyya revolt', categories='military conflict', article_lenght=10027)]"
      ]
     },
     "execution_count": 140,
     "metadata": {},
     "output_type": "execute_result"
    }
   ],
   "source": [
    "# mini-test\n",
    "join_ref_length.filter(\"title = 'Jahriyya revolt'\").collect()"
   ]
  },
  {
   "cell_type": "code",
   "execution_count": 174,
   "metadata": {},
   "outputs": [
    {
     "name": "stdout",
     "output_type": "stream",
     "text": [
      "+--------+--------------------+-----------------+--------------+-----+\n",
      "|      id|               title|       categories|article_lenght|views|\n",
      "+--------+--------------------+-----------------+--------------+-----+\n",
      "|25523989|      Dongo conflict|military conflict|         11478|40836|\n",
      "|29393333|Cincinnati riots ...|   civil conflict|         14045|23457|\n",
      "|29398957| Helwan riots (1945)|   civil conflict|          7679| 3605|\n",
      "|29410468|Cincinnati riots ...|   civil conflict|          5373| 7734|\n",
      "|29412323|Ming–Turpan conflict|military conflict|          8590|10248|\n",
      "+--------+--------------------+-----------------+--------------+-----+\n",
      "only showing top 5 rows\n",
      "\n"
     ]
    }
   ],
   "source": [
    "join_ref_length_sql = join_ref_length.registerTempTable('join_ref_length_sql')\n",
    "query_join_popularity = \"\"\"\n",
    "select join_ref_length_sql.id, join_ref_length_sql.title, join_ref_length_sql.categories, join_ref_length_sql.article_lenght, views_popularity.views, join_ref_length_sql.refs_count  \n",
    "from join_ref_length_sql\n",
    "join views_popularity\n",
    "on join_ref_length_sql.title = views_popularity.title\n",
    "\"\"\"\n",
    "popularity = spark.sql(query_join_popularity)\n",
    "popularity.show(5)"
   ]
  },
  {
   "cell_type": "markdown",
   "metadata": {},
   "source": [
    "## 2. Join each category table with popularity table"
   ]
  },
  {
   "cell_type": "code",
   "execution_count": 176,
   "metadata": {
    "collapsed": true
   },
   "outputs": [],
   "source": [
    "# need tables popularity, wiki_civil_conflict_df, wiki_civilian_attack_df, wiki_military_conflict_df\n",
    "popularity_sql = popularity.registerTempTable('popularity_sql')\n",
    "civil_conflict = wiki_civil_conflict_df.registerTempTable('civil_conflict')\n",
    "military_conflict = wiki_military_conflict_df.registerTempTable('military_conflict')\n",
    "civilian_attack = wiki_civilian_attack_df.registerTempTable('civilian_attack')"
   ]
  },
  {
   "cell_type": "markdown",
   "metadata": {},
   "source": [
    "**Join between popularity & `civil conflict`**"
   ]
  },
  {
   "cell_type": "code",
   "execution_count": 178,
   "metadata": {},
   "outputs": [
    {
     "name": "stdout",
     "output_type": "stream",
     "text": [
      "+--------+--------------------+--------------+--------------+------+-----+--------+--------+\n",
      "|      id|               title|    categories|article_lenght| views|death|end_date|location|\n",
      "+--------+--------------------+--------------+--------------+------+-----+--------+--------+\n",
      "|34516509|2000 UEFA Cup Fin...|civil conflict|         26461| 72312| null|    null|    null|\n",
      "|49364124|Şırnak clashes (2...|civil conflict|         13430|  2575| null|    null|    null|\n",
      "|30953438|2011 Chinese pro-...|civil conflict|         55912| 76683| null|    null|    null|\n",
      "|32025295|  2011 Chaozhou riot|civil conflict|          6145|  3385| null|    null|    null|\n",
      "|39540142|  Gezi Park protests|civil conflict|        200699|265121|  +11|    null|    null|\n",
      "+--------+--------------------+--------------+--------------+------+-----+--------+--------+\n",
      "only showing top 5 rows\n",
      "\n"
     ]
    }
   ],
   "source": [
    "query_join_popularity_civil_conflict = \"\"\"\n",
    "select popularity_sql.id, popularity_sql.title, popularity_sql.categories, popularity_sql.article_lenght, popularity_sql.views, popularity_sql.refs_count, civil_conflict.death, civil_conflict.end_date, civil_conflict.location\n",
    "from popularity_sql, civil_conflict\n",
    "where popularity_sql.id = civil_conflict.id\n",
    "\"\"\"\n",
    "\n",
    "popularity_civil_conflict = spark.sql(query_join_popularity_civil_conflict)\n",
    "popularity_civil_conflict.show(5)"
   ]
  },
  {
   "cell_type": "code",
   "execution_count": 208,
   "metadata": {
    "collapsed": true
   },
   "outputs": [],
   "source": [
    "# saving binary file\n",
    "popularity_civil_conflict.write.parquet(DATA_DIR+\"popularity_civil_conflict.parquet\");"
   ]
  },
  {
   "cell_type": "markdown",
   "metadata": {},
   "source": [
    "**Join between popularity & `military conflict`**"
   ]
  },
  {
   "cell_type": "code",
   "execution_count": 207,
   "metadata": {},
   "outputs": [
    {
     "name": "stdout",
     "output_type": "stream",
     "text": [
      "+--------+--------------------+-----------------+--------------+------+-----+--------------------+--------------------+\n",
      "|      id|               title|       categories|article_lenght| views|death|            end_date|            location|\n",
      "+--------+--------------------+-----------------+--------------+------+-----+--------------------+--------------------+\n",
      "|55579888|Iraq conflict (20...|military conflict|         36485| 97529| null|                null|         Iraq (Q796)|\n",
      "| 8949710|Communist insurge...|military conflict|         35533|100519| null|+1989-00-00T00:00...|Peninsular Malays...|\n",
      "|10558427|Tsotsin-Yurt oper...|military conflict|          6257|  4427| null|+2002-01-03T00:00...|                null|\n",
      "|19230085|  Battle of Kumegawa|military conflict|          5057|  2360| null|                null|Yanase River (Q11...|\n",
      "|21257070|    Battle of Shewan|military conflict|          8248| 17167| null|                null|     Farah (Q180330)|\n",
      "+--------+--------------------+-----------------+--------------+------+-----+--------------------+--------------------+\n",
      "only showing top 5 rows\n",
      "\n"
     ]
    }
   ],
   "source": [
    "query_join_popularity_military_conflict = \"\"\"\n",
    "select popularity_sql.id, popularity_sql.title, popularity_sql.categories, popularity_sql.article_lenght, popularity_sql.views, popularity_sql.refs_count, military_conflict.death, military_conflict.end_date, military_conflict.location\n",
    "from popularity_sql, military_conflict\n",
    "where popularity_sql.id = military_conflict.id\n",
    "\"\"\"\n",
    "\n",
    "popularity_military_conflict = spark.sql(query_join_popularity_military_conflict)\n",
    "popularity_military_conflict.show(5)"
   ]
  },
  {
   "cell_type": "code",
   "execution_count": 210,
   "metadata": {
    "collapsed": true
   },
   "outputs": [],
   "source": [
    "# saving binary file\n",
    "popularity_military_conflict.write.parquet(DATA_DIR+\"popularity_military_conflict.parquet\");"
   ]
  },
  {
   "cell_type": "markdown",
   "metadata": {},
   "source": [
    "**Join between popularity & `civilian attack`**"
   ]
  },
  {
   "cell_type": "code",
   "execution_count": 209,
   "metadata": {},
   "outputs": [
    {
     "name": "stdout",
     "output_type": "stream",
     "text": [
      "+--------+--------------------+---------------+--------------+-----+-----+--------+--------------------+\n",
      "|      id|               title|     categories|article_lenght|views|death|end_date|            location|\n",
      "+--------+--------------------+---------------+--------------+-----+-----+--------+--------------------+\n",
      "| 3177125|Springfield race ...|civilian attack|        274021|42752| null|    null|                null|\n",
      "|38332721|2013 Uribana pris...|civilian attack|          4528|13891| null|    null|                null|\n",
      "|47763281|Phoenix freeway s...|civilian attack|         17495|89855| null|    null|Interstate 10 in ...|\n",
      "|48825364|2015 Spanish Emba...|civilian attack|          4182|15980| null|    null|                null|\n",
      "|54352051|June 2017 Brussel...|civilian attack|         22146|20056|   +1|    null|Brussels-Central ...|\n",
      "+--------+--------------------+---------------+--------------+-----+-----+--------+--------------------+\n",
      "only showing top 5 rows\n",
      "\n"
     ]
    }
   ],
   "source": [
    "query_join_popularity_civilian_attack = \"\"\"\n",
    "select popularity_sql.id, popularity_sql.title, popularity_sql.categories, popularity_sql.article_lenght, popularity_sql.views, popularity_sql.refs_count, civilian_attack.death, civilian_attack.end_date, civilian_attack.location\n",
    "from popularity_sql, civilian_attack\n",
    "where popularity_sql.id = civilian_attack.id\n",
    "\"\"\"\n",
    "\n",
    "popularity_civilian_attack = spark.sql(query_join_popularity_civilian_attack)\n",
    "popularity_civilian_attack.show(5)"
   ]
  },
  {
   "cell_type": "code",
   "execution_count": 211,
   "metadata": {
    "collapsed": true
   },
   "outputs": [],
   "source": [
    "# saving binary file\n",
    "popularity_civilian_attack.write.parquet(DATA_DIR+\"popularity_civilian_attack.parquet\");"
   ]
  },
  {
   "cell_type": "markdown",
   "metadata": {},
   "source": [
    "--- \n",
    "# Define a popularity score for each page\n"
   ]
  },
  {
   "cell_type": "markdown",
   "metadata": {},
   "source": [
    "We use 4 features to define the popularity score of a page.\n",
    "\n",
    "    We define the popularity score of an article as:\n",
    "\n",
    "         SCORE = w1 * views + w2 * links + w3 * references + w4 * length \n",
    "        \n",
    "        w1, w2, w3 and w4 are arbitrary weigths that normalize the features.\n",
    "\n",
    "    We have noticed that the features references,length and views seem to follow a power law. Therefore, we use the 1/median to construct the weights associated to them."
   ]
  },
  {
   "cell_type": "markdown",
   "metadata": {},
   "source": [
    "### Civil conflict score "
   ]
  },
  {
   "cell_type": "code",
   "execution_count": 8,
   "metadata": {
    "collapsed": true
   },
   "outputs": [],
   "source": [
    "popularity_civil_conflict_scoring = spark.read.parquet(DATA_DIR+\"popularity_civil_conflict.parquet\")"
   ]
  },
  {
   "cell_type": "code",
   "execution_count": 221,
   "metadata": {
    "collapsed": true
   },
   "outputs": [],
   "source": [
    "from pyspark.sql.types import IntegerType\n",
    "\n",
    "def compute_weight(a_df, features_col):\n",
    "    qnt_50 = []\n",
    "    # for each col of the input features, cast into integer and compute median\n",
    "    for col_ in features_col:\n",
    "        a_df = a_df.withColumn(col_, a_df[col_].cast(IntegerType()))\n",
    "        qnt_50.append(1/a_df.approxQuantile(col_, [0.5], 0.1)[0])\n",
    "        \n",
    "    weights = np.array(qnt_50)\n",
    "    return weights, a_df\n",
    "\n",
    "\n",
    "def compute_score(a_df, features_col):\n",
    "    weights, a_df = compute_weight(a_df, features_col[1:])\n",
    "    a_pd = a_df.toPandas()\n",
    "    score = a_pd.iloc[:, 1] * weights[1] \\\n",
    "    + a_pd.iloc[:, 2] * weights[2]\n",
    "    \n",
    "    return score"
   ]
  },
  {
   "cell_type": "code",
   "execution_count": 216,
   "metadata": {},
   "outputs": [
    {
     "name": "stdout",
     "output_type": "stream",
     "text": [
      "+-------+-----------------+--------------+--------------+------+-----+--------------------+--------------------+\n",
      "|     id|            title|    categories|article_lenght| views|death|            end_date|            location|\n",
      "+-------+-----------------+--------------+--------------+------+-----+--------------------+--------------------+\n",
      "|1690078|1967 Newark riots|civil conflict|         18540|225656|  +26|+1967-07-17T00:00...|[Jersey City (Q26...|\n",
      "+-------+-----------------+--------------+--------------+------+-----+--------------------+--------------------+\n",
      "only showing top 1 row\n",
      "\n"
     ]
    }
   ],
   "source": [
    "popularity_civil_conflict_scoring.show(1)"
   ]
  },
  {
   "cell_type": "code",
   "execution_count": 223,
   "metadata": {
    "collapsed": true
   },
   "outputs": [],
   "source": [
    "to_score = popularity_civil_conflict_scoring.select('id','views','article_lenght')"
   ]
  },
  {
   "cell_type": "code",
   "execution_count": 224,
   "metadata": {},
   "outputs": [
    {
     "data": {
      "text/plain": [
       "(array([2.61718649e-08, 5.65259171e-05, 6.54065014e-05]),\n",
       " DataFrame[id: int, views: int, article_lenght: int])"
      ]
     },
     "execution_count": 224,
     "metadata": {},
     "output_type": "execute_result"
    }
   ],
   "source": [
    "compute_weight(to_score, ['id','views','article_lenght'])"
   ]
  },
  {
   "cell_type": "markdown",
   "metadata": {
    "collapsed": true
   },
   "source": [
    "# Clustering approach\n",
    "\n",
    "## Feature standardization"
   ]
  },
  {
   "cell_type": "code",
   "execution_count": 3,
   "metadata": {
    "collapsed": true
   },
   "outputs": [],
   "source": [
    "popularity_civil_conflict_scoring_ft = spark.read.parquet(DATA_DIR+\"popularity_civil_conflict.parquet\")"
   ]
  },
  {
   "cell_type": "code",
   "execution_count": 4,
   "metadata": {
    "collapsed": true
   },
   "outputs": [],
   "source": [
    "popularity_civil_conflict_pd = popularity_civil_conflict_scoring_ft.toPandas()"
   ]
  },
  {
   "cell_type": "code",
   "execution_count": 7,
   "metadata": {},
   "outputs": [
    {
     "data": {
      "text/html": [
       "<div>\n",
       "<style scoped>\n",
       "    .dataframe tbody tr th:only-of-type {\n",
       "        vertical-align: middle;\n",
       "    }\n",
       "\n",
       "    .dataframe tbody tr th {\n",
       "        vertical-align: top;\n",
       "    }\n",
       "\n",
       "    .dataframe thead th {\n",
       "        text-align: right;\n",
       "    }\n",
       "</style>\n",
       "<table border=\"1\" class=\"dataframe\">\n",
       "  <thead>\n",
       "    <tr style=\"text-align: right;\">\n",
       "      <th></th>\n",
       "      <th>id</th>\n",
       "      <th>title</th>\n",
       "      <th>categories</th>\n",
       "      <th>article_lenght</th>\n",
       "      <th>views</th>\n",
       "      <th>death</th>\n",
       "      <th>end_date</th>\n",
       "      <th>location</th>\n",
       "    </tr>\n",
       "  </thead>\n",
       "  <tbody>\n",
       "    <tr>\n",
       "      <th>0</th>\n",
       "      <td>1690078</td>\n",
       "      <td>1967 Newark riots</td>\n",
       "      <td>civil conflict</td>\n",
       "      <td>18540</td>\n",
       "      <td>225656</td>\n",
       "      <td>+26</td>\n",
       "      <td>+1967-07-17T00:00:00Z</td>\n",
       "      <td>[Jersey City (Q26339), Newark (Q25395)]</td>\n",
       "    </tr>\n",
       "    <tr>\n",
       "      <th>1</th>\n",
       "      <td>39415364</td>\n",
       "      <td>2013 Israeli protests</td>\n",
       "      <td>civil conflict</td>\n",
       "      <td>4431</td>\n",
       "      <td>1812</td>\n",
       "      <td>None</td>\n",
       "      <td>None</td>\n",
       "      <td>None</td>\n",
       "    </tr>\n",
       "    <tr>\n",
       "      <th>2</th>\n",
       "      <td>40496099</td>\n",
       "      <td>2013 Romanian protests against the Roșia Monta...</td>\n",
       "      <td>civil conflict</td>\n",
       "      <td>69406</td>\n",
       "      <td>19639</td>\n",
       "      <td>None</td>\n",
       "      <td>None</td>\n",
       "      <td>None</td>\n",
       "    </tr>\n",
       "    <tr>\n",
       "      <th>3</th>\n",
       "      <td>53285609</td>\n",
       "      <td>2017 Anaheim protests</td>\n",
       "      <td>civil conflict</td>\n",
       "      <td>5030</td>\n",
       "      <td>762</td>\n",
       "      <td>None</td>\n",
       "      <td>None</td>\n",
       "      <td>None</td>\n",
       "    </tr>\n",
       "    <tr>\n",
       "      <th>4</th>\n",
       "      <td>32071886</td>\n",
       "      <td>2011–13 Chilean student protests</td>\n",
       "      <td>civil conflict</td>\n",
       "      <td>40592</td>\n",
       "      <td>54908</td>\n",
       "      <td>None</td>\n",
       "      <td>+2013-01-01T00:00:00Z</td>\n",
       "      <td>None</td>\n",
       "    </tr>\n",
       "    <tr>\n",
       "      <th>5</th>\n",
       "      <td>41693718</td>\n",
       "      <td>1962 Rangoon University protests</td>\n",
       "      <td>civil conflict</td>\n",
       "      <td>46680</td>\n",
       "      <td>17558</td>\n",
       "      <td>None</td>\n",
       "      <td>None</td>\n",
       "      <td>None</td>\n",
       "    </tr>\n",
       "    <tr>\n",
       "      <th>6</th>\n",
       "      <td>42601767</td>\n",
       "      <td>New Orleans school desegregation crisis</td>\n",
       "      <td>civil conflict</td>\n",
       "      <td>18625</td>\n",
       "      <td>53620</td>\n",
       "      <td>None</td>\n",
       "      <td>None</td>\n",
       "      <td>None</td>\n",
       "    </tr>\n",
       "    <tr>\n",
       "      <th>7</th>\n",
       "      <td>55185370</td>\n",
       "      <td>2017–18 Spanish constitutional crisis</td>\n",
       "      <td>civil conflict</td>\n",
       "      <td>109523</td>\n",
       "      <td>50424</td>\n",
       "      <td>None</td>\n",
       "      <td>None</td>\n",
       "      <td>None</td>\n",
       "    </tr>\n",
       "    <tr>\n",
       "      <th>8</th>\n",
       "      <td>14281867</td>\n",
       "      <td>Grabow riot</td>\n",
       "      <td>civil conflict</td>\n",
       "      <td>24162</td>\n",
       "      <td>3942</td>\n",
       "      <td>None</td>\n",
       "      <td>None</td>\n",
       "      <td>None</td>\n",
       "    </tr>\n",
       "    <tr>\n",
       "      <th>9</th>\n",
       "      <td>38594310</td>\n",
       "      <td>2013 Bulgarian protests against the first Bori...</td>\n",
       "      <td>civil conflict</td>\n",
       "      <td>95435</td>\n",
       "      <td>10951</td>\n",
       "      <td>None</td>\n",
       "      <td>None</td>\n",
       "      <td>None</td>\n",
       "    </tr>\n",
       "  </tbody>\n",
       "</table>\n",
       "</div>"
      ],
      "text/plain": [
       "         id                                              title  \\\n",
       "0   1690078                                  1967 Newark riots   \n",
       "1  39415364                              2013 Israeli protests   \n",
       "2  40496099  2013 Romanian protests against the Roșia Monta...   \n",
       "3  53285609                              2017 Anaheim protests   \n",
       "4  32071886                   2011–13 Chilean student protests   \n",
       "5  41693718                   1962 Rangoon University protests   \n",
       "6  42601767            New Orleans school desegregation crisis   \n",
       "7  55185370              2017–18 Spanish constitutional crisis   \n",
       "8  14281867                                        Grabow riot   \n",
       "9  38594310  2013 Bulgarian protests against the first Bori...   \n",
       "\n",
       "       categories  article_lenght   views death               end_date  \\\n",
       "0  civil conflict           18540  225656   +26  +1967-07-17T00:00:00Z   \n",
       "1  civil conflict            4431    1812  None                   None   \n",
       "2  civil conflict           69406   19639  None                   None   \n",
       "3  civil conflict            5030     762  None                   None   \n",
       "4  civil conflict           40592   54908  None  +2013-01-01T00:00:00Z   \n",
       "5  civil conflict           46680   17558  None                   None   \n",
       "6  civil conflict           18625   53620  None                   None   \n",
       "7  civil conflict          109523   50424  None                   None   \n",
       "8  civil conflict           24162    3942  None                   None   \n",
       "9  civil conflict           95435   10951  None                   None   \n",
       "\n",
       "                                  location  \n",
       "0  [Jersey City (Q26339), Newark (Q25395)]  \n",
       "1                                     None  \n",
       "2                                     None  \n",
       "3                                     None  \n",
       "4                                     None  \n",
       "5                                     None  \n",
       "6                                     None  \n",
       "7                                     None  \n",
       "8                                     None  \n",
       "9                                     None  "
      ]
     },
     "execution_count": 7,
     "metadata": {},
     "output_type": "execute_result"
    }
   ],
   "source": [
    "popularity_civil_conflict_pd.head(10)"
   ]
  },
  {
   "cell_type": "code",
   "execution_count": 11,
   "metadata": {},
   "outputs": [
    {
     "data": {
      "image/png": "[encoded data removed]",
      "text/plain": [
       "<Figure size 720x360 with 6 Axes>"
      ]
     },
     "metadata": {
      "needs_background": "light"
     },
     "output_type": "display_data"
    }
   ],
   "source": [
    "sns.pairplot(data=popularity_civil_conflict_pd, vars=['article_lenght', 'views'], aspect=2);"
   ]
  },
  {
   "cell_type": "code",
   "execution_count": 13,
   "metadata": {},
   "outputs": [
    {
     "name": "stderr",
     "output_type": "stream",
     "text": [
      "/Users/nasrine/miniconda3/envs/ada/lib/python3.6/site-packages/sklearn/preprocessing/data.py:323: DataConversionWarning: Data with input dtype int32, int64 were all converted to float64 by MinMaxScaler.\n",
      "  return self.partial_fit(X, y)\n"
     ]
    }
   ],
   "source": [
    "from sklearn import preprocessing\n",
    "min_max_scaler = preprocessing.MinMaxScaler()\n",
    "popularity_civil_conflict_pd_minmax = min_max_scaler.fit_transform(popularity_civil_conflict_pd[['article_lenght', 'views']])"
   ]
  },
  {
   "cell_type": "code",
   "execution_count": 17,
   "metadata": {},
   "outputs": [
    {
     "data": {
      "text/plain": [
       "<seaborn.axisgrid.PairGrid at 0x1a1c521a58>"
      ]
     },
     "execution_count": 17,
     "metadata": {},
     "output_type": "execute_result"
    },
    {
     "data": {
      "image/png": "[encoded data removed]",
      "text/plain": [
       "<Figure size 360x360 with 6 Axes>"
      ]
     },
     "metadata": {
      "needs_background": "light"
     },
     "output_type": "display_data"
    }
   ],
   "source": [
    "#popularity_civil_conflict_pd_minmax\n",
    "sns.pairplot(pd.DataFrame(popularity_civil_conflict_pd_minmax));"
   ]
  },
  {
   "cell_type": "code",
   "execution_count": 20,
   "metadata": {
    "collapsed": true
   },
   "outputs": [],
   "source": [
    "X_normalized = preprocessing.normalize(popularity_civil_conflict_pd[['article_lenght', 'views']], norm='l1')"
   ]
  },
  {
   "cell_type": "code",
   "execution_count": 21,
   "metadata": {},
   "outputs": [
    {
     "data": {
      "image/png": "[encoded data removed]",
      "text/plain": [
       "<Figure size 360x360 with 6 Axes>"
      ]
     },
     "metadata": {
      "needs_background": "light"
     },
     "output_type": "display_data"
    }
   ],
   "source": [
    "sns.pairplot(pd.DataFrame(X_normalized));"
   ]
  },
  {
   "cell_type": "code",
   "execution_count": null,
   "metadata": {
    "collapsed": true
   },
   "outputs": [],
   "source": []
  }
 ],
 "metadata": {
  "kernelspec": {
   "display_name": "Python (ada)",
   "language": "python",
   "name": "ada"
  },
  "language_info": {
   "codemirror_mode": {
    "name": "ipython",
    "version": 2
   },
   "file_extension": ".py",
   "mimetype": "text/x-python",
   "name": "python",
   "nbconvert_exporter": "python",
   "pygments_lexer": "ipython2",
   "version": "2.7.15"
  }
 },
 "nbformat": 4,
 "nbformat_minor": 2
}
