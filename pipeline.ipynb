{
 "cells": [
  {
   "cell_type": "code",
   "execution_count": 1,
   "metadata": {},
   "outputs": [],
   "source": [
    "import findspark\n",
    "findspark.init()\n",
    "\n",
    "import wptools\n",
    "import pyspark\n",
    "import pyspark.sql\n",
    "from pyspark.sql import *\n",
    "import os.path\n",
    "from pyspark.sql.functions import desc\n",
    "\n",
    "from pyspark.sql import dataframe\n",
    "from pyspark.sql import functions as F\n",
    "\n",
    "from pyspark.sql import SparkSession\n",
    "from pyspark import SparkContext\n",
    "from pyspark.sql import SQLContext\n",
    "\n",
    "spark = SparkSession.builder.getOrCreate()\n",
    "sc = spark.sparkContext\n",
    "\n",
    "from pyspark.sql import SQLContext\n",
    "sqlContext = SQLContext(sc)"
   ]
  },
  {
   "cell_type": "code",
   "execution_count": 61,
   "metadata": {},
   "outputs": [],
   "source": [
    "import re\n",
    "import pandas as pd\n",
    "import matplotlib.pyplot as plt\n",
    "import hashlib\n",
    "\n",
    "%matplotlib inline\n",
    "\n",
    "# import get_ref_info.py\n",
    "import os\n",
    "import sys\n",
    "my_fun = './utils/'\n",
    "if my_fun not in sys.path:\n",
    "    sys.path.append(my_fun)\n",
    "    \n",
    "from get_ref_info import *\n",
    "from operator import add\n",
    "\n",
    "try:\n",
    "    from urllib.parse import urlparse\n",
    "except ImportError:\n",
    "     from urlparse import urlparse\n",
    "\n",
    "import seaborn as sns\n",
    "import numpy as np\n",
    "from pyspark.sql.functions import regexp_replace, col\n",
    "\n",
    "import time\n",
    "from datetime import timedelta, date\n",
    "from mwviews.api import PageviewsClient\n",
    "from collections import OrderedDict\n",
    "DATA_DIR = './data/data_processed/' \n",
    "\n",
    "sc.addPyFile(\"./utils/get_ref_info.py\")"
   ]
  },
  {
   "cell_type": "markdown",
   "metadata": {},
   "source": [
    "# Loading data "
   ]
  },
  {
   "cell_type": "markdown",
   "metadata": {},
   "source": [
    "**File schema** is shown."
   ]
  },
  {
   "cell_type": "code",
   "execution_count": 3,
   "metadata": {},
   "outputs": [
    {
     "name": "stdout",
     "output_type": "stream",
     "text": [
      "root\n",
      " |-- id: long (nullable = true)\n",
      " |-- ns: long (nullable = true)\n",
      " |-- restrictions: string (nullable = true)\n",
      " |-- revision: struct (nullable = true)\n",
      " |    |-- comment: struct (nullable = true)\n",
      " |    |    |-- _VALUE: string (nullable = true)\n",
      " |    |    |-- _deleted: string (nullable = true)\n",
      " |    |-- contributor: struct (nullable = true)\n",
      " |    |    |-- _VALUE: string (nullable = true)\n",
      " |    |    |-- _deleted: string (nullable = true)\n",
      " |    |    |-- id: long (nullable = true)\n",
      " |    |    |-- ip: string (nullable = true)\n",
      " |    |    |-- username: string (nullable = true)\n",
      " |    |-- format: string (nullable = true)\n",
      " |    |-- id: long (nullable = true)\n",
      " |    |-- minor: string (nullable = true)\n",
      " |    |-- model: string (nullable = true)\n",
      " |    |-- parentid: long (nullable = true)\n",
      " |    |-- sha1: string (nullable = true)\n",
      " |    |-- text: struct (nullable = true)\n",
      " |    |    |-- _VALUE: string (nullable = true)\n",
      " |    |    |-- _xml:space: string (nullable = true)\n",
      " |    |-- timestamp: string (nullable = true)\n",
      " |-- title: string (nullable = true)\n",
      " |-- categories: string (nullable = true)\n",
      " |-- good_categories: boolean (nullable = true)\n",
      "\n"
     ]
    }
   ],
   "source": [
    "WIKIPEDIA_CONFLICTS_PARQUET = DATA_DIR + 'selectedAllConflict.parquet'\n",
    "\n",
    "# loading the saved parquet files\n",
    "wikipedia_ = spark.read.parquet(WIKIPEDIA_CONFLICTS_PARQUET)\n",
    "# show file schema\n",
    "wikipedia_.printSchema()"
   ]
  },
  {
   "cell_type": "code",
   "execution_count": 4,
   "metadata": {},
   "outputs": [
    {
     "name": "stdout",
     "output_type": "stream",
     "text": [
      "Number of articles: 18782\n"
     ]
    }
   ],
   "source": [
    "# how many articles are there?\n",
    "print(\"Number of articles: {}\".format(wikipedia_.count()))"
   ]
  },
  {
   "cell_type": "markdown",
   "metadata": {},
   "source": [
    "---\n",
    "\n",
    "# Article outliers removal\n",
    "\n",
    "We have some outliers we need to deal with, as a first step we use keywords (**\"war, riot, conflict, protest, revolt, operation, attack, annexation, genocide, insurgency, crisis, confrontation, clash\"**) on the article titles to extract from our chosen categories (`civilian attack`, `civil conflict`, `military conflict`).\n",
    "\n",
    "For example, we found that some articles in `civilian attack` may contain the infobox `civilian attack` but are not really a `civilian attack`. The following page \n",
    "\n",
    "> Fraunces Tavern: Fraunces Tavern is a landmark museum and restaurant in New York City, situated at 54 Pearl Street at the corner of Broad Street. The location played a prominent role in history before, during and after the American Revolution, serving as a headquarters for George Washington, a venue for peace negotiations with the British, and housing federal offices in the Early Republic.\n",
    "\n",
    "Since some pages are considered **outliers**, we remove them using the method described above and remove any disambiguations."
   ]
  },
  {
   "cell_type": "code",
   "execution_count": 5,
   "metadata": {},
   "outputs": [
    {
     "name": "stdout",
     "output_type": "stream",
     "text": [
      "Number of articles without outliers: 5651\n"
     ]
    }
   ],
   "source": [
    "# filter out outliers\n",
    "outlier_regex = \"war*|battle*|siege*|campaign*|riot*|conflict*|protest*|revolt*|operation*|attack*|annexation*|genocide*|insurgency*|crisis*|confrontation*|clash*\"\n",
    "wikipedia = wikipedia_.filter(~F.lower(wikipedia_['title']).rlike(outlier_regex))\n",
    "print(\"Number of articles without outliers: {}\".format(wikipedia.count()))\n",
    "\n",
    "wikipedia = wikipedia.filter(\"lower(revision.text._VALUE) not like '%{disambiguation}%'\")\n",
    "# save in parquet\n",
    "wikipedia.write.parquet(DATA_DIR+\"wikipedia_no_outliers.parquet\")\n",
    "# load from parquet so that the rest of notebook uses cleaned version of data\n",
    "wikipedia = spark.read.parquet(DATA_DIR+\"wikipedia_no_outliers.parquet\")\n",
    "\n",
    "#problema dei filters: già mancano battle, campaign, siege, ... In più ci sono cose tipo https://en.wikipedia.org/wiki/Falaise_Pocket che dovrebbero rimanere incluse"
   ]
  },
  {
   "cell_type": "markdown",
   "metadata": {},
   "source": [
    "Alternativa per gli outliers ditemi cosa ne pensate"
   ]
  },
  {
   "cell_type": "code",
   "execution_count": 5,
   "metadata": {},
   "outputs": [],
   "source": [
    "wikipedia = spark.read.parquet(WIKIPEDIA_CONFLICTS_PARQUET)"
   ]
  },
  {
   "cell_type": "code",
   "execution_count": 6,
   "metadata": {},
   "outputs": [],
   "source": [
    "regex = r\"([A-z].+?(?=,)|[A-z].*?$)\"\n",
    "cat_regex = re.compile(regex,re.IGNORECASE);"
   ]
  },
  {
   "cell_type": "code",
   "execution_count": 7,
   "metadata": {},
   "outputs": [],
   "source": [
    "categories = [];\n",
    "def extr_categories(text):\n",
    "    global categories\n",
    "    categories = categories + cat_regex.findall(text);"
   ]
  },
  {
   "cell_type": "code",
   "execution_count": 8,
   "metadata": {},
   "outputs": [],
   "source": [
    "categories = [];\n",
    "for i in wikipedia.select(F.lower(col('categories')).alias('categories')).collect(): #lcase\n",
    "    extr_categories(i[0])"
   ]
  },
  {
   "cell_type": "code",
   "execution_count": 9,
   "metadata": {},
   "outputs": [
    {
     "name": "stdout",
     "output_type": "stream",
     "text": [
      "['mountain range', 'protected area', 'milit', 'islands', 'historical event', 'newspaper', 'east asian', 'building', 'event', 'monarch', 'united states district court case', 'korean name', 'historic building', 'aircraft incident', 'television', 'nrhp', 'australian place', 'book', 'military conflict', 'civilian attack', 'airport', 'ship begin', 'protected area', 'military person', 'monument', 'news event', 'murderer', 'pahistoric', 'airliner accident', 'legislature', 'operational plan', 'court case', 'subbox = yes', 'service record', 'person', 'aircraft occurrence', 'military conflict  <', 'legislation', 'former country', 'military person', 'ship image', 'treaty', 'military structure', 'mass murderer', 'law enforcement agency', 'nrhp', 'holiday', 'shopping mall', 'film', 'ship career', 'former subdivision', 'uk feature', 'greek dimos', 'football match', 'military operation', 'historic site', 'person', 'national military', 'east asian name', 'election', 'ship characteristics', 'school', 'holiday', 'ancient site', 'park', 'country', 'tv channel', 'terrorist attack', 'musical artist', 'criminal', 'person/height', 'nobility', 'military conflict', 'civil conflict', 'museum', 'decat = yes', 'saint', 'criminal', 'criminal organization', 'bilateral relations', 'university', 'organization', 'military unit', 'officeholder', 'military memorial', 'chinese', 'referendum', 'serial killer', 'settlement', 'nobility', 'un resolution', 'police officer']\n"
     ]
    }
   ],
   "source": [
    "categories_unique = list(set(categories))\n",
    "categories_map = map(str.strip, [str(i) for i in categories_unique])\n",
    "print(list(categories_map))"
   ]
  },
  {
   "cell_type": "code",
   "execution_count": 16,
   "metadata": {},
   "outputs": [],
   "source": [
    "mainCategories = ['civil conflict','military conflict','civilian attack']\n",
    "\n",
    "filteredCategoryMap=[]\n",
    "for i in categories_map:\n",
    "    if not any(s in i for s in mainCategories):\n",
    "        if i == 'milit': #Battle of Tolbiac give a problem because of a umlaut\n",
    "            continue\n",
    "        filteredCategoryMap+=[i];\n",
    "\n",
    "filteredCategoryMap = list(set(filteredCategoryMap))\n",
    "#create a dynamic regex\n",
    "forReg = '|'.join(filteredCategoryMap);"
   ]
  },
  {
   "cell_type": "code",
   "execution_count": 11,
   "metadata": {
    "scrolled": true
   },
   "outputs": [
    {
     "data": {
      "text/plain": [
       "18782"
      ]
     },
     "execution_count": 11,
     "metadata": {},
     "output_type": "execute_result"
    }
   ],
   "source": [
    "wikiExtraCat = wikipedia.filter(F.lower(wikipedia.categories).rlike(forReg))\n",
    "wikiExtraCat.count()"
   ]
  },
  {
   "cell_type": "markdown",
   "metadata": {},
   "source": [
    "questo vuole dire che ci sono **345** articoli che hanno **anche altre categorie**, non sono molti volendo potremmo scartarli già tutti"
   ]
  },
  {
   "cell_type": "code",
   "execution_count": 12,
   "metadata": {},
   "outputs": [
    {
     "data": {
      "text/plain": [
       "109"
      ]
     },
     "execution_count": 12,
     "metadata": {},
     "output_type": "execute_result"
    }
   ],
   "source": [
    "outliers_categories = ['police officer','person','tv channel','historic building',\n",
    "                       'service record','ship career','news event','legislature'\n",
    "                       'national military','islands','shopping mall',\n",
    "                       'museum','legislation','referendum',\n",
    "                       'nobility','serial killer','officeholder','decat = yes',\n",
    "                       'television','newspaper','former subdivision','film',\n",
    "                       'book','bilateral relations','monarch','building','organization']\n",
    "\n",
    "wikipedia.select(\"id\",\"title\",\"categories\", \"revision\").filter(F.lower(wikipedia.categories).rlike('|'.join(outliers_categories))).count()"
   ]
  },
  {
   "cell_type": "markdown",
   "metadata": {},
   "source": [
    "e alla fine scartiamo solo 109 articoli... boh non saprei, secondo me ci siamo dai"
   ]
  },
  {
   "cell_type": "code",
   "execution_count": 13,
   "metadata": {},
   "outputs": [
    {
     "data": {
      "text/plain": [
       "18673"
      ]
     },
     "execution_count": 13,
     "metadata": {},
     "output_type": "execute_result"
    }
   ],
   "source": [
    "wikipedia = wikipedia.select(\"id\",\"title\",\"categories\",\"revision\").filter(~F.lower(wikipedia.categories).rlike('|'.join(outliers_categories)))\n",
    "wikipedia.count()"
   ]
  },
  {
   "cell_type": "code",
   "execution_count": 14,
   "metadata": {},
   "outputs": [
    {
     "name": "stdout",
     "output_type": "stream",
     "text": [
      "root\n",
      " |-- id: long (nullable = true)\n",
      " |-- title: string (nullable = true)\n",
      " |-- categories: string (nullable = true)\n",
      " |-- revision: struct (nullable = true)\n",
      " |    |-- comment: struct (nullable = true)\n",
      " |    |    |-- _VALUE: string (nullable = true)\n",
      " |    |    |-- _deleted: string (nullable = true)\n",
      " |    |-- contributor: struct (nullable = true)\n",
      " |    |    |-- _VALUE: string (nullable = true)\n",
      " |    |    |-- _deleted: string (nullable = true)\n",
      " |    |    |-- id: long (nullable = true)\n",
      " |    |    |-- ip: string (nullable = true)\n",
      " |    |    |-- username: string (nullable = true)\n",
      " |    |-- format: string (nullable = true)\n",
      " |    |-- id: long (nullable = true)\n",
      " |    |-- minor: string (nullable = true)\n",
      " |    |-- model: string (nullable = true)\n",
      " |    |-- parentid: long (nullable = true)\n",
      " |    |-- sha1: string (nullable = true)\n",
      " |    |-- text: struct (nullable = true)\n",
      " |    |    |-- _VALUE: string (nullable = true)\n",
      " |    |    |-- _xml:space: string (nullable = true)\n",
      " |    |-- timestamp: string (nullable = true)\n",
      "\n"
     ]
    }
   ],
   "source": [
    "wikipedia.printSchema()"
   ]
  },
  {
   "cell_type": "code",
   "execution_count": 15,
   "metadata": {},
   "outputs": [],
   "source": [
    "# save to binary files \n",
    "wikipedia.write.mode('overwrite').parquet(\"data/data_processed/wikipedia_no_outliers.parquet\");"
   ]
  },
  {
   "cell_type": "markdown",
   "metadata": {},
   "source": [
    "We explore how many articles have each **keyword** selected in the given keywords. "
   ]
  },
  {
   "cell_type": "code",
   "execution_count": 51,
   "metadata": {},
   "outputs": [
    {
     "data": {
      "image/png": "[encoded data removed]",
      "text/plain": [
       "<Figure size 1080x504 with 1 Axes>"
      ]
     },
     "metadata": {
      "needs_background": "light"
     },
     "output_type": "display_data"
    }
   ],
   "source": [
    "keyword_wikipedia = spark.read.parquet(DATA_DIR+\"wikipedia_no_outliers.parquet\")\n",
    "\n",
    "titles = outlier_regex.split('|')\n",
    "\n",
    "titles_count = pd.DataFrame(np.zeros((len(titles), )), index=titles, columns=['count'])\n",
    "# computationally less expansive\n",
    "wiki_titles = keyword_wikipedia.select('title')\n",
    "\n",
    "# count the titles that contains titles\n",
    "for ele in titles:\n",
    "    titles_count.loc[ele] = wiki_titles.filter(wiki_titles.title.rlike(ele)).count()\n",
    "\n",
    "    \n",
    "titles_count['count'] = titles_count['count']*100/titles_count['count'].sum()  \n",
    "f, ax1 = plt.subplots()\n",
    "plt.sca(ax1)\n",
    "sns.barplot(\n",
    "    x='count', y=titles_count.index, data=titles_count.sort_values('count', ascending=False), \n",
    "    orient='h', palette=\"RdPu\"\n",
    ");\n",
    "\n",
    "plt.xlabel('Percentage of articles [%]',fontsize=18)\n",
    "plt.ylabel('Keyword',fontsize=18)\n",
    "f.suptitle('Bar plot of percentage of articles for each keyword', fontsize=20)\n",
    "f.set_size_inches(15, 7)\n",
    "plt.show()"
   ]
  },
  {
   "cell_type": "markdown",
   "metadata": {},
   "source": [
    "**Bar plot of percentage of articles for each keyword.** \n",
    "\n",
    "We can see that the keyword `war, riot` together make up for ~50% of the articles. Very little articles are associated to `clash` or `confrontation`."
   ]
  },
  {
   "cell_type": "markdown",
   "metadata": {},
   "source": [
    "---\n",
    "# Quantifying *importance* of each page in each category\n",
    "\n",
    "We want to see how *important* each page is in each category. As we are solely focusing on *'war'*-related subjects in this pilot phase, we define *page importance* by the number of deaths. \n",
    "\n",
    "## Infobox or Wikidata per category \n",
    "\n",
    "Functions `get_wiki_civilian_attack`, `get_wiki_military_conflict`\n",
    "to get relevant information and views for each category: `civilian attack`, `military conflict`. \n",
    "Data is obtained either using the page's wikidata is the data exists or acquired through infobox parsing.\n",
    "Relevant information is chosen based on the fields found on [List of infoboxes and fields](https://en.wikipedia.org/wiki/Wikipedia:List_of_infoboxes#Event) \n",
    "\n",
    "Extract info for each category in **Infobox**:\n",
    "* `civilian attack`\n",
    "    * location\n",
    "    * date \n",
    "    * fatalities\n",
    "* `military conflict`\n",
    "    * place\n",
    "    * date \n",
    "    * casualities1\n",
    "* `civil conflict`\n",
    "    * place\n",
    "    * date \n",
    "    * casualities1\n",
    "    \n",
    "Extract info for each category in **Wikidata**:\n",
    "* `civilian attack`\n",
    "    * location\n",
    "    * date \n",
    "    * fatalities\n",
    "* `military conflict`\n",
    "    * 'number of deaths (P1120)']['amount']\n",
    "    * 'end time (P582)'\n",
    "    * 'location (P276)'\n",
    "* `civil conflict`\n",
    "    * 'number of deaths (P1120)']['amount']\n",
    "    * 'end time (P582)'\n",
    "    * 'location (P276)'\n",
    "    \n",
    "We use an external library [wptools wiki](https://github.com/siznax/wptools/wiki) to help us parse the data. \n",
    "\n",
    "### Categories\n",
    "We focus on categories : `civilian attack`, `military conflict`, `civil conflict` from our pre-filtered wikipedia dump data which had 3 categories: `civilian attack`, `military conflict`, `civil conflict` (key words we used via regex expression to extract articles containing infoboxes with such headers by parsing the revision.text.__VALUE). \n",
    "\n",
    "We also found a list of all ongoing civil wars listed on [wikipedia](https://en.wikipedia.org/wiki/List_of_civil_wars#Ongoing_civil_wars) have a `Template:Infobox military`. This may be of interest in a later step.\n",
    "\n",
    "[List of ongoing civil wars](https://en.wikipedia.org/wiki/List_of_civil_wars#Ongoing_civil_wars):\n",
    " * Myanmar, Internal conflict in Myanmar, since 1948\n",
    " * Indonesia, Papua conflict, since 1962\n",
    " * Colombia, Colombian conflict, since 1964\n",
    " * Afghanistan, War in Afghanistan, since 1978\n",
    " * Turkey, Kurdish–Turkish conflict since 1978\n",
    " * Somalia, Somali Civil War, since 1988\n",
    " * Sudan, three conflicts\n",
    "* War in Darfur, since 26 February 2003\n",
    "* Sudanese nomadic conflicts, since 26 May 2009 through at least 2017\n",
    "* Sudanese conflict in South Kordofan and Blue Nile since 5 June 2011\n",
    " * Pakistan, War in North-West Pakistan, since 16 March 2004\n",
    " * Paraguay, Paraguayan People's Army insurgency, since 2005\n",
    " * Syria, Syrian Civil War, since 15 March 2011, also see List of armed groups in the Syrian Civil War\n",
    " * Central African Republic, Central African Republic conflict, since 10 December 2012\n",
    " * South Sudan, South Sudanese Civil War, since 15 December 2013\n",
    " * Libya, Second Libyan Civil War, since 16 May 2014\n",
    " * Yemen, Second Yemeni Civil War, since 19 March 2015"
   ]
  },
  {
   "cell_type": "code",
   "execution_count": 4,
   "metadata": {
    "collapsed": true
   },
   "outputs": [],
   "source": [
    "def get_wiki_military_conflict(entity):\n",
    "    page = wptools.page(pageid=entity.id)\n",
    "    # extract relevant information and put in dictionary\n",
    "    info = {'death': None, 'end_date': None, 'location': None}\n",
    "    try:\n",
    "        page.get_parse()\n",
    "    except:\n",
    "        return Row(id=entity.id, death=info['death'],\n",
    "               end_date=info['end_date'], location=info['location'])\n",
    "    \n",
    "    try: \n",
    "        page.get_wikidata()\n",
    "        info['death'] = page.data['wikidata']['number of deaths (P1120)']['amount']\n",
    "    \n",
    "    except:\n",
    "        try:\n",
    "            info['death'] = page.data['infobox']['casualties1']\n",
    "        except:\n",
    "            info['death'] = None\n",
    "            \n",
    "    try:\n",
    "        info['end_date'] = page.data['wikidata']['end time (P582)']\n",
    "    except:\n",
    "        try:\n",
    "            info['end_date'] = page.data['infobox']['date']\n",
    "        except:\n",
    "            info['end_date'] = None\n",
    "    \n",
    "    try:\n",
    "        info['location'] = page.data['wikidata']['location (P276)']\n",
    "    except:\n",
    "        try:\n",
    "            info['location'] = page.data['infobox']['place']\n",
    "        except:\n",
    "            info['location'] = None\n",
    "    \n",
    "    \n",
    "    return Row(id=entity.id, death=info['death'],\n",
    "               end_date=info['end_date'], location=info['location'])\n",
    "\n",
    "def get_wiki_civilian_attack(entity):\n",
    "    page = wptools.page(pageid=entity.id)\n",
    "    # extract relevant information and put in dictionary\n",
    "    info = {'death': None, 'end_date': None, 'location': None}\n",
    "    try:\n",
    "        page.get_parse()\n",
    "    except:\n",
    "        return Row(id=entity.id, death=info['death'],\n",
    "               end_date=info['end_date'], location=info['location'])\n",
    "    \n",
    "    try: \n",
    "        page.get_wikidata()\n",
    "        info['death'] = page.data['wikidata']['number of deaths (P1120)']['amount']\n",
    "    \n",
    "    except:\n",
    "        try:\n",
    "            info['death'] = page.data['infobox']['fatalities']\n",
    "        except:\n",
    "            info['death'] = None\n",
    "            \n",
    "    try:\n",
    "        info['end_date'] = page.data['wikidata']['end time (P582)']\n",
    "    except:\n",
    "        try:\n",
    "            info['end_date'] = page.data['infobox']['date']\n",
    "        except:\n",
    "            info['end_date'] = None\n",
    "    \n",
    "    try:\n",
    "        info['location'] = page.data['wikidata']['location (P276)']\n",
    "    except:\n",
    "        try:\n",
    "            info['location'] = page.data['infobox']['location']\n",
    "        except:\n",
    "            info['location'] = None\n",
    "    \n",
    "    \n",
    "    return Row(id=entity.id, death=info['death'],\n",
    "               end_date=info['end_date'], location=info['location'])"
   ]
  },
  {
   "cell_type": "code",
   "execution_count": 3,
   "metadata": {
    "collapsed": true
   },
   "outputs": [],
   "source": [
    "from pyspark.sql.types import *"
   ]
  },
  {
   "cell_type": "markdown",
   "metadata": {},
   "source": [
    "### Wikidata & Infobox `military conflict `"
   ]
  },
  {
   "cell_type": "code",
   "execution_count": 117,
   "metadata": {
    "collapsed": true
   },
   "outputs": [],
   "source": [
    "infobox_military_conflict = 'military conflict'\n",
    "# find all pages that have category military conflict\n",
    "wiki_military_conflict = wikipedia.where(\"categories like '%{}%'\".format(infobox_military_conflict)) "
   ]
  },
  {
   "cell_type": "code",
   "execution_count": 119,
   "metadata": {},
   "outputs": [
    {
     "data": {
      "text/plain": [
       "14158"
      ]
     },
     "execution_count": 119,
     "metadata": {},
     "output_type": "execute_result"
    }
   ],
   "source": [
    "df = wiki_military_conflict.select(\"id\");\n",
    "df.count()"
   ]
  },
  {
   "cell_type": "code",
   "execution_count": 7,
   "metadata": {
    "collapsed": true
   },
   "outputs": [],
   "source": [
    "%%capture\n",
    "wiki_military_conflict_rows = [get_wiki_military_conflict(i) for i in df.collect()];"
   ]
  },
  {
   "cell_type": "code",
   "execution_count": 9,
   "metadata": {
    "collapsed": true
   },
   "outputs": [],
   "source": [
    "schema = StructType([StructField('death', StringType()),StructField('end_date', StringType()),\n",
    "                     StructField('id', IntegerType()),StructField('location', StringType())])"
   ]
  },
  {
   "cell_type": "code",
   "execution_count": 10,
   "metadata": {},
   "outputs": [
    {
     "name": "stdout",
     "output_type": "stream",
     "text": [
      "root\n",
      " |-- death: string (nullable = true)\n",
      " |-- end_date: string (nullable = true)\n",
      " |-- id: integer (nullable = true)\n",
      " |-- location: string (nullable = true)\n",
      "\n",
      "+--------------------+--------------------+------+--------------------+\n",
      "|               death|            end_date|    id|            location|\n",
      "+--------------------+--------------------+------+--------------------+\n",
      "|Some injuries, no...|    August 1–2, 1946|655845|   Athens (Q3292481)|\n",
      "|{{ubl|1 light cru...|{{start date|1940...|656035|    Calabria (Q1458)|\n",
      "|1,432 killed in c...|+1912-10-18T00:00...|656087|Vilayet of Tripol...|\n",
      "|approx. 1,000 killed|+1919-08-08T00:00...|656173|[[North-West Fron...|\n",
      "|Total fatalities ...|+1880-00-00T00:00...|656175|[Emirate of Afgha...|\n",
      "|                null|July 1778 – Febru...|656473|Illinois Country ...|\n",
      "|250–300 casualtie...|    2–5 October 1939|659156|      Kock (Q991819)|\n",
      "|         '''1,900'''|{{Start date|1864...|659506|Fulton County (Q4...|\n",
      "|                null|1961–1990 (29 years)|661656|    Nicaragua (Q811)|\n",
      "|               1,700|+1799-06-05T00:00...|662583|        Zürich (Q72)|\n",
      "|33 casualties<br>...|+1940-02-27T00:00...|662788|Karelian Isthmus ...|\n",
      "|'''United States'...|+1944-08-21T00:00...|664348|   Normandy (Q15878)|\n",
      "|             Unknown|+1799-05-21T00:00...|665071|Acre, [[Sidon Eya...|\n",
      "|All the men in th...|      August 15, 778|666938|Roncevaux Pass (Q...|\n",
      "|{{plainlist |\n",
      "* 4...|        June 6, 1944|667813|La Madeleine, Man...|\n",
      "|1,000–1,100 (350 ...|         6 June 1944|667826|Arromanches-les-B...|\n",
      "| 13 soldiers killed.|+2004-06-01T00:00...|668141| Gaza Strip (Q39760)|\n",
      "|'''Frieser, Zette...|+1944-02-17T00:00...|672675|  Cherkasy (Q157055)|\n",
      "|{{flagicon image|...|+1971-12-16T00:00...|672766|East Pakistan (Q8...|\n",
      "|4,140 dead or wou...|        16 June 1815|675526|[Quatre Bras (Q21...|\n",
      "+--------------------+--------------------+------+--------------------+\n",
      "only showing top 20 rows\n",
      "\n"
     ]
    }
   ],
   "source": [
    "wiki_military_attack_df = spark.createDataFrame(wiki_military_conflict_rows, schema)\n",
    "\n",
    "wiki_military_attack_df.printSchema()\n",
    "wiki_military_attack_df.show()"
   ]
  },
  {
   "cell_type": "code",
   "execution_count": 11,
   "metadata": {
    "collapsed": true
   },
   "outputs": [],
   "source": [
    "# saving binary file to future uses\n",
    "wiki_military_attack_df.write.mode('overwrite').parquet(\"data/data_processed/wiki_military_conflict_df.parquet\");"
   ]
  },
  {
   "cell_type": "markdown",
   "metadata": {},
   "source": [
    "### Wikidata & Infobox `civilian attack`"
   ]
  },
  {
   "cell_type": "code",
   "execution_count": 130,
   "metadata": {
    "collapsed": true
   },
   "outputs": [],
   "source": [
    "infobox_civilian_attack = 'civilian attack'\n",
    "# find all pages that have category civilian attack\n",
    "wiki_civilian_attack = wikipedia.where(\"categories like '%{}%'\".format(infobox_civilian_attack));"
   ]
  },
  {
   "cell_type": "code",
   "execution_count": 132,
   "metadata": {},
   "outputs": [
    {
     "data": {
      "text/plain": [
       "2468"
      ]
     },
     "execution_count": 132,
     "metadata": {},
     "output_type": "execute_result"
    }
   ],
   "source": [
    "df = wiki_civilian_attack.select(\"id\");\n",
    "df.count()"
   ]
  },
  {
   "cell_type": "code",
   "execution_count": 133,
   "metadata": {
    "collapsed": true
   },
   "outputs": [],
   "source": [
    "%%capture\n",
    "wiki_civilian_attack_rows = [get_wiki_civilian_attack(i) for i in df.collect()];"
   ]
  },
  {
   "cell_type": "code",
   "execution_count": 5,
   "metadata": {
    "collapsed": true
   },
   "outputs": [],
   "source": [
    "schema = StructType([StructField('id', IntegerType()),\n",
    "                     StructField('death', StringType()),StructField('end_date', StringType()),\n",
    "                     StructField('location', StringType())])"
   ]
  },
  {
   "cell_type": "code",
   "execution_count": 134,
   "metadata": {},
   "outputs": [
    {
     "name": "stdout",
     "output_type": "stream",
     "text": [
      "root\n",
      " |-- id: integer (nullable = true)\n",
      " |-- death: string (nullable = true)\n",
      " |-- end_date: string (nullable = true)\n",
      " |-- location: string (nullable = true)\n",
      "\n",
      "+-------+--------------------+--------------------+--------------------+\n",
      "|     id|               death|            end_date|            location|\n",
      "+-------+--------------------+--------------------+--------------------+\n",
      "| 676659|   500,000–1,000,000|7 April {{spaced ...|          [[Rwanda]]|\n",
      "| 683450|[[Patrick Argüell...|6– {{end date|df|...|     Zarqa (Q148062)|\n",
      "|1611176|        Up to 30,000|          April 1909|Adana Vilayet (Q1...|\n",
      "|1611202|     200,000–400,000|           1894–1896|Ottoman Empire (Q...|\n",
      "|1634876|10 (including the...|                null| Red Lake (Q1012803)|\n",
      "|1655234|                  +7|          1 May 2004|     Yanbu (Q466027)|\n",
      "|3119912|                  +1|    November 8, 2005|Jacksboro (Q2738438)|\n",
      "|3137442|Barbara Richardso...|{{start date|1981...|8763 Wonderland A...|\n",
      "|3177125|:16 (at least) \n",
      "*...|: August 14–16, 1908|: [[Springfield, ...|\n",
      "|1113569|       + / - 111,091|           1937–1938|Soviet Union (Q15...|\n",
      "|1120226|3,000,000 to 14,0...|                null|In and around Eas...|\n",
      "| 156496|       3,750 –30,000|3 January 1983 - ...|            Zimbabwe|\n",
      "| 158427|                 +45|{{start date and ...|   Acteal (Q1997045)|\n",
      "|  52268|460 to 3,500 (num...|16–18 September 1982|West [[Beirut]], ...|\n",
      "|  58376|                 +15|{{start date and ...|École Polytechniq...|\n",
      "|  59629|                 +18|{{Start date and ...|  Dunblane (Q614314)|\n",
      "|  59651|                 +17|       26 April 2002|Gutenberg-Gymnasi...|\n",
      "|  62638|                +642|{{date|10 June 19...|Oradour-sur-Glane...|\n",
      "|  65626|                 +15|      16 August 1819| Manchester (Q18125)|\n",
      "|  68292|                +504|       16 March 1968|  Son My (Q10823351)|\n",
      "+-------+--------------------+--------------------+--------------------+\n",
      "only showing top 20 rows\n",
      "\n"
     ]
    }
   ],
   "source": [
    "wiki_civilian_attack_df = spark.createDataFrame(wiki_civilian_attack_rows, schema)\n",
    "\n",
    "wiki_civilian_attack_df.printSchema()\n",
    "wiki_civilian_attack_df.show()"
   ]
  },
  {
   "cell_type": "code",
   "execution_count": 135,
   "metadata": {},
   "outputs": [
    {
     "data": {
      "text/plain": [
       "2468"
      ]
     },
     "execution_count": 135,
     "metadata": {},
     "output_type": "execute_result"
    }
   ],
   "source": [
    "wiki_civilian_attack_df.count()"
   ]
  },
  {
   "cell_type": "code",
   "execution_count": 136,
   "metadata": {
    "collapsed": true
   },
   "outputs": [],
   "source": [
    "# saving binary file to future uses\n",
    "wiki_civilian_attack_df.write.mode('overwrite').parquet(\"wiki_civilian_attack_df.parquet\");"
   ]
  },
  {
   "cell_type": "markdown",
   "metadata": {},
   "source": [
    "### Wikidata & Infobox `civil conflict`"
   ]
  },
  {
   "cell_type": "code",
   "execution_count": 137,
   "metadata": {
    "collapsed": true
   },
   "outputs": [],
   "source": [
    "infobox_civil_conflict = 'civil conflict'\n",
    "# find all pages that have category civilian attack\n",
    "wiki_civil_conflict = wikipedia.where(\"categories like '%{}%'\".format(infobox_civil_conflict)) "
   ]
  },
  {
   "cell_type": "code",
   "execution_count": 140,
   "metadata": {},
   "outputs": [
    {
     "data": {
      "text/plain": [
       "847"
      ]
     },
     "execution_count": 140,
     "metadata": {},
     "output_type": "execute_result"
    }
   ],
   "source": [
    "df = wiki_civil_conflict.select(\"id\");\n",
    "df.count()"
   ]
  },
  {
   "cell_type": "code",
   "execution_count": 141,
   "metadata": {
    "collapsed": true
   },
   "outputs": [],
   "source": [
    "%%capture\n",
    "wiki_civil_conflict_rows = [get_wiki_military_conflict(i) for i in df.collect()];"
   ]
  },
  {
   "cell_type": "code",
   "execution_count": 142,
   "metadata": {},
   "outputs": [
    {
     "name": "stdout",
     "output_type": "stream",
     "text": [
      "root\n",
      " |-- id: integer (nullable = true)\n",
      " |-- death: string (nullable = true)\n",
      " |-- end_date: string (nullable = true)\n",
      " |-- location: string (nullable = true)\n",
      "\n",
      "+-------+--------------------+--------------------+--------------------+\n",
      "|     id|               death|            end_date|            location|\n",
      "+-------+--------------------+--------------------+--------------------+\n",
      "| 661864|                null|11, 12 and 13 Sep...|[[Melbourne]], [[...|\n",
      "| 664490|'''Deaths''': 3<b...|  January–March 1912|[[Lawrence, Massa...|\n",
      "|1613199|                null|May 28 and July 2...|[[East St. Louis,...|\n",
      "|1619134|                null|February 24, 2005...|  [[Quebec]], Canada|\n",
      "|3138671|'''Shootout''':<b...|July 23–24, 1968 ...|[[Glenville, Clev...|\n",
      "|3158301|                null|            May 1971|[[Washington, D.C...|\n",
      "|1113889|                  +2|  August 19–21, 1991|[[Crown Heights, ...|\n",
      "| 152287|{{plainlist|\n",
      "*14 ...|[+1878-07-19T00:0...|[[Lincoln County,...|\n",
      "|  43573|                null|      April 21, 1855|[[Chicago, Illino...|\n",
      "|  44534|              +10454|+1989-06-04T00:00...|Tiananmen Square ...|\n",
      "|  49001|                null|+1968-00-00T00:00...|       United States|\n",
      "|1553191|                null|April 29 – May 4,...|[[Los Angeles Cou...|\n",
      "|1554342|                null|+2005-04-11T00:00...|      [[Kyrgyzstan]]|\n",
      "|1556708|                   0|14 February – 27 ...|[[Lebanon]] (espe...|\n",
      "|1456276|                null|                null|    [[West Germany]]|\n",
      "|1494771|                null|+2001-01-20T00:00...|     [[Philippines]]|\n",
      "|3798726|                null|         May 1, 1894| [[Cleveland]], Ohio|\n",
      "|1316143|          43 injured|28–30 September 1985|[[London Borough ...|\n",
      "|1322490|Policemen wounded...|15 December 2000 ...|city of [[Kiev]] ...|\n",
      "|1343424|                null|           1965—1985|       United States|\n",
      "+-------+--------------------+--------------------+--------------------+\n",
      "only showing top 20 rows\n",
      "\n"
     ]
    }
   ],
   "source": [
    "wiki_civil_conflict_df = spark.createDataFrame(wiki_civil_conflict_rows, schema)\n",
    "\n",
    "wiki_civil_conflict_df.printSchema()\n",
    "wiki_civil_conflict_df.show()"
   ]
  },
  {
   "cell_type": "code",
   "execution_count": 143,
   "metadata": {},
   "outputs": [
    {
     "data": {
      "text/plain": [
       "847"
      ]
     },
     "execution_count": 143,
     "metadata": {},
     "output_type": "execute_result"
    }
   ],
   "source": [
    "wiki_civil_conflict_df.count()"
   ]
  },
  {
   "cell_type": "code",
   "execution_count": 144,
   "metadata": {
    "collapsed": true
   },
   "outputs": [],
   "source": [
    "# saving binary file to future uses\n",
    "wiki_civil_conflict_df.write.mode('overwrite').parquet(\"wiki_civil_conflict_df.parquet\");"
   ]
  },
  {
   "cell_type": "markdown",
   "metadata": {},
   "source": [
    "---\n",
    "\n",
    "# Popularity Metrics\n",
    "\n",
    "## Loading the data"
   ]
  },
  {
   "cell_type": "code",
   "execution_count": 18,
   "metadata": {},
   "outputs": [
    {
     "name": "stdout",
     "output_type": "stream",
     "text": [
      "+------+--------------------+-----------------+--------------------+\n",
      "|    id|               title|       categories|            revision|\n",
      "+------+--------------------+-----------------+--------------------+\n",
      "|655845|Battle of Athens ...|military conflict|[, [,, 5175837,, ...|\n",
      "|656035|  Battle of Calabria|military conflict|[[link,], [,, 268...|\n",
      "|656087|   Italo-Turkish War|military conflict|[, [,,, 96.77.37....|\n",
      "|656173|Third Anglo-Afgha...|military conflict|[[Formatting.,], ...|\n",
      "|656175|Second Anglo-Afgh...|military conflict|[[/* 1879 */The B...|\n",
      "|656473|   Illinois campaign|military conflict|[[Moved images.,]...|\n",
      "|659156|Battle of Kock (1...|military conflict|[, [,, 29980587,,...|\n",
      "|659506|Battle of Peachtr...|military conflict|[[c/e.,], [,, 193...|\n",
      "|661656|Nicaraguan Revolu...|military conflict|[, [,, 33124044,,...|\n",
      "|661864|       S11 (protest)|   civil conflict|[[Rescuing 3 sour...|\n",
      "+------+--------------------+-----------------+--------------------+\n",
      "only showing top 10 rows\n",
      "\n"
     ]
    }
   ],
   "source": [
    "# Loading the data\n",
    "WIKIPEDIA_REFERENCES_PARQUET = DATA_DIR + \"wikipedia_no_outliers.parquet\"\n",
    "\n",
    "# loading the saved parquet files\n",
    "wikipedia_ref = spark.read.parquet(WIKIPEDIA_REFERENCES_PARQUET)\n",
    "wikipedia_ref.show(10)"
   ]
  },
  {
   "cell_type": "markdown",
   "metadata": {},
   "source": [
    "## POPULARITY METRIC 1\n",
    "\n",
    "### Get number of references per page\n",
    "\n",
    "We use our pre-filtered data and we count the number of tag of type ```<ref>```, by parsing all pages to get the number of references. We think that the more *popular* a page is, the more references it will contain.\n",
    "\n",
    "We want to see:\n",
    "* how many references a page has\n",
    "* what does the distribution of the references look like \n",
    "* what are the top domains across these articles \n",
    "* how many articles have a reference to each domain\n",
    "\n",
    "The analysis is based on work from *Research:Characterizing Wikipedia Citation Usage*: [MetaPageQueries](https://meta.wikimedia.org/wiki/Research:Characterizing_Wikipedia_Citation_Usage/First_Round_of_Analysis#Dimensions_of_Analysis)\n",
    "\n",
    "Example of reference format:\n",
    "```html\n",
    "<ref>{{cite web| url=http://geonames.nga.mil/ggmagaz/geonames4.asp \n",
    "    |title=NGA GeoName Database |publisher=[[National Geospatial Intelligence Agency]] \n",
    "    |accessdate=2008-07-05 \n",
    "    |archiveurl = https://web.archive.org/web/20080608190852/http://geonames.nga.mil/ggmagaz/geonames4.asp \n",
    "    <!-- Bot retrieved archive --> |archivedate = 2008-06-08}}</ref>\n",
    "```\n",
    "\n",
    "**quantify the number of references per page**\n",
    "    * using regex expression to find the references in the page\n",
    "    * counting the number of references"
   ]
  },
  {
   "cell_type": "code",
   "execution_count": 19,
   "metadata": {},
   "outputs": [],
   "source": [
    "# quantify the number of references per page\n",
    "\n",
    "# Compile a regular expression pattern into a regular expression object, \n",
    "#which can be used for matching using its findall.\n",
    "just_ref_regex = re.compile(r'<ref[^>]*[^\\/]>|<ref[ ]*>')\n",
    "\n",
    "# find # references <ref> per page \n",
    "def get_refs_count(entity, regex_expression=just_ref_regex ):\n",
    "    # get access to value in text in revision\n",
    "    text = entity.revision.text._VALUE\n",
    "    # find references\n",
    "    refs = just_ref_regex.findall(text)\n",
    "    return Row(id=entity.id, refs_count=len(refs), categories=entity.categories)"
   ]
  },
  {
   "cell_type": "code",
   "execution_count": 20,
   "metadata": {},
   "outputs": [
    {
     "name": "stdout",
     "output_type": "stream",
     "text": [
      "+-----------------+--------+----------+\n",
      "|       categories|      id|refs_count|\n",
      "+-----------------+--------+----------+\n",
      "|military conflict|52019122|      1000|\n",
      "|military conflict|46230181|       818|\n",
      "|military conflict|42563745|       734|\n",
      "|military conflict|43243199|       609|\n",
      "|military conflict|     771|       598|\n",
      "+-----------------+--------+----------+\n",
      "only showing top 5 rows\n",
      "\n"
     ]
    }
   ],
   "source": [
    "# get the # of references per page\n",
    "# Creates a DataFrame from an RDD, apply counting function with regex expression\n",
    "reference_count_page = sqlContext.createDataFrame(wikipedia_ref.rdd.map(get_refs_count))\n",
    "reference_count_page.sort('refs_count', ascending=False).show(5)\n",
    "reference_count_page_sql = reference_count_page.registerTempTable('reference_count_page_sql')"
   ]
  },
  {
   "cell_type": "code",
   "execution_count": 21,
   "metadata": {},
   "outputs": [
    {
     "name": "stdout",
     "output_type": "stream",
     "text": [
      "Number of articles with #references > 0: 15879\n"
     ]
    }
   ],
   "source": [
    "# quantify the # articles with # ref > 0: \n",
    "non_zero_ref_query = \"\"\"\n",
    "select count(DISTINCT id)\n",
    "from reference_count_page_sql\n",
    "where refs_count > 0\n",
    "\"\"\"\n",
    "non_zero_articles = spark.sql(non_zero_ref_query)\n",
    "\n",
    "non_zero_articles_pd = non_zero_articles.toPandas().iloc[0,0]\n",
    "print(\"Number of articles with #references > 0: \" + str(non_zero_articles_pd))"
   ]
  },
  {
   "cell_type": "markdown",
   "metadata": {},
   "source": [
    "**Distribution of number of references** We bin the number of references to get the number of pages having at least x #references. This is observed with a histogram plot."
   ]
  },
  {
   "cell_type": "code",
   "execution_count": 22,
   "metadata": {},
   "outputs": [
    {
     "data": {
      "image/png": "[encoded data removed]",
      "text/plain": [
       "<Figure size 864x504 with 1 Axes>"
      ]
     },
     "metadata": {
      "needs_background": "light"
     },
     "output_type": "display_data"
    }
   ],
   "source": [
    "just_refs_count = reference_count_page.select('refs_count').toPandas()\n",
    "just_refs_count.plot(kind=\"hist\", bins=100, \n",
    "                     figsize=(12,7), title=\"Distribution of number of references\")\n",
    "plt.xlabel('# References')\n",
    "plt.ylabel('Frequency: # Pages having at least x references')\n",
    "plt.show()"
   ]
  },
  {
   "cell_type": "code",
   "execution_count": 23,
   "metadata": {},
   "outputs": [
    {
     "data": {
      "image/png": "[encoded data removed]",
      "text/plain": [
       "<Figure size 864x504 with 1 Axes>"
      ]
     },
     "metadata": {
      "needs_background": "light"
     },
     "output_type": "display_data"
    }
   ],
   "source": [
    "just_refs_count = reference_count_page.select('refs_count').toPandas()\n",
    "just_refs_count.plot(kind=\"hist\", bins=100, log = True,\n",
    "                     figsize=(12,7), title=\"Distribution of number of references\")\n",
    "plt.xlabel('# References')\n",
    "plt.ylabel('Frequency: # Pages having at least x references (log scale)')\n",
    "plt.show()"
   ]
  },
  {
   "cell_type": "code",
   "execution_count": 24,
   "metadata": {},
   "outputs": [
    {
     "data": {
      "image/png": "[encoded data removed]",
      "text/plain": [
       "<Figure size 1296x360 with 1 Axes>"
      ]
     },
     "metadata": {
      "needs_background": "light"
     },
     "output_type": "display_data"
    }
   ],
   "source": [
    "step = 100;\n",
    "xs = pd.Series(range(1,int(just_refs_count.max()),step));\n",
    "gratherThanData = xs.apply(lambda x: (just_refs_count.refs_count[just_refs_count.refs_count>=x]).count());\n",
    "\n",
    "f, (ax2) = plt.subplots(1, 1);\n",
    "plt.sca(ax2);\n",
    "plt.plot(xs,gratherThanData);\n",
    "plt.xlabel('# references',fontsize=16);\n",
    "plt.ylabel('# articles',fontsize=16);\n",
    "plt.yscale('log'); plt.xscale('log');\n",
    "f.set_size_inches(18, 5)\n",
    "f.suptitle('Log-log of distribution of number of references',fontsize=20)\n",
    "plt.show();"
   ]
  },
  {
   "cell_type": "markdown",
   "metadata": {},
   "source": [
    "**Distribution of number of references**: It seems that the distribution may follow a power law. To verify our suspicions, we plot our cumulative distribution in normal axes and in log-log axes. We look at a \"cumulative distribution\": how many references have at least x pages?\n",
    "\n",
    "The distribution has a heavy-tailed distribution: it may follow a power law. To recognize if the distirbutions follow a power law, we plot the data in log-log axes. If it follows a power law, reporting mean or variance for a power-law-distributed data is not relevant as these statistics are not robust as they are sensitive to data. Instead, we use robust statistics and report the median and quartiles using boxplots. We compare boxplots with and without outliers."
   ]
  },
  {
   "cell_type": "code",
   "execution_count": 25,
   "metadata": {},
   "outputs": [
    {
     "data": {
      "image/png": "[encoded data removed]",
      "text/plain": [
       "<Figure size 432x288 with 1 Axes>"
      ]
     },
     "metadata": {
      "needs_background": "light"
     },
     "output_type": "display_data"
    }
   ],
   "source": [
    "# with all data\n",
    "just_refs_count.boxplot();"
   ]
  },
  {
   "cell_type": "code",
   "execution_count": 26,
   "metadata": {},
   "outputs": [
    {
     "data": {
      "image/png": "[encoded data removed]",
      "text/plain": [
       "<Figure size 432x288 with 1 Axes>"
      ]
     },
     "metadata": {
      "needs_background": "light"
     },
     "output_type": "display_data"
    }
   ],
   "source": [
    "# without extreme values (discard outliers)\n",
    "just_refs_count[just_refs_count['refs_count']< 100].boxplot();"
   ]
  },
  {
   "cell_type": "markdown",
   "metadata": {},
   "source": [
    "### Get the domains of references"
   ]
  },
  {
   "cell_type": "code",
   "execution_count": 35,
   "metadata": {},
   "outputs": [
    {
     "name": "stdout",
     "output_type": "stream",
     "text": [
      "+------+---------+--------------------+--------------------+\n",
      "|    id| template|               title|                 url|\n",
      "+------+---------+--------------------+--------------------+\n",
      "|655845|cite book|     South vs. South|                    |\n",
      "|655845|cite book|       McMinn County|https://archive.o...|\n",
      "|655845|cite book|     South vs. South|                    |\n",
      "|655845|cite book|       McMinn County|https://archive.o...|\n",
      "|655845| cite web|The Battle of Athens|http://www.americ...|\n",
      "+------+---------+--------------------+--------------------+\n",
      "only showing top 5 rows\n",
      "\n"
     ]
    }
   ],
   "source": [
    "references_rrd = wikipedia_ref.rdd.flatMap(get_ref_info)\n",
    "references = sqlContext.createDataFrame(references_rrd)\n",
    "references.show(5)"
   ]
  },
  {
   "cell_type": "markdown",
   "metadata": {},
   "source": [
    "**URL parsing** \n",
    "Parse a URL into six components, returning a 6-tuple. This corresponds to the general structure of a URL: scheme://netloc/path;parameters?query#fragment. Each tuple item is a string, possibly empty."
   ]
  },
  {
   "cell_type": "code",
   "execution_count": 38,
   "metadata": {},
   "outputs": [
    {
     "data": {
      "text/plain": [
       "[('books.google.com', 10113),\n",
       " ('www.nytimes.com', 4170),\n",
       " ('www.reuters.com', 3715),\n",
       " ('www.almasdarnews.com', 3397),\n",
       " ('www.theguardian.com', 3313),\n",
       " ('www.bbc.co.uk', 2829),\n",
       " ('news.bbc.co.uk', 2318),\n",
       " ('www.aljazeera.com', 1988),\n",
       " ('www.washingtonpost.com', 1970),\n",
       " ('www.bbc.com', 1962),\n",
       " ('www.cnn.com', 1541),\n",
       " ('www.syriahr.com', 1518),\n",
       " ('www.telegraph.co.uk', 1505),\n",
       " ('edition.cnn.com', 1170),\n",
       " ('www.independent.co.uk', 976),\n",
       " ('abcnews.go.com', 840),\n",
       " ('twitter.com', 811),\n",
       " ('www.haaretz.com', 707),\n",
       " ('www.foxnews.com', 689),\n",
       " ('www.dailystar.com.lb', 682),\n",
       " ('www.dawn.com', 678),\n",
       " ('www.jpost.com', 677),\n",
       " ('www.wsj.com', 626),\n",
       " ('www.youtube.com', 619),\n",
       " ('news.yahoo.com', 614),\n",
       " ('www.cbsnews.com', 607),\n",
       " ('archive.org', 605),\n",
       " ('www.huffingtonpost.com', 580),\n",
       " ('www.latimes.com', 577),\n",
       " ('www.dailymail.co.uk', 565)]"
      ]
     },
     "execution_count": 38,
     "metadata": {},
     "output_type": "execute_result"
    }
   ],
   "source": [
    "def get_domain(row):\n",
    "    # parse url and return for each row (url, 1) where 1 is the occurence of ref = 1 for that page\n",
    "    try:\n",
    "        parsed_uri = urlparse(row['url'])\n",
    "        return ('{uri.netloc}'.format(uri=parsed_uri), 1)\n",
    "    except:\n",
    "        return None\n",
    "\n",
    "mapped_domains = references.where(\"length(url)>0\").rdd.map(get_domain).filter(lambda row: row is not None)\n",
    "# for each domain count how many references there are in total to find top domains\n",
    "domains_count = mapped_domains.reduceByKey(lambda a,b: a+b).filter(lambda r: len(r[0])>0).sortBy(lambda r: -r[1])\n",
    "domains_count.take(30)"
   ]
  },
  {
   "cell_type": "code",
   "execution_count": 39,
   "metadata": {},
   "outputs": [
    {
     "name": "stdout",
     "output_type": "stream",
     "text": [
      "Total number of links: 163487\n"
     ]
    }
   ],
   "source": [
    "# count the number of links\n",
    "number_links = domains_count.map(lambda r: r[1]).reduce(add)\n",
    "print(\"Total number of links: {}\".format(number_links))"
   ]
  },
  {
   "cell_type": "code",
   "execution_count": 40,
   "metadata": {},
   "outputs": [
    {
     "name": "stdout",
     "output_type": "stream",
     "text": [
      "+-----+--------------------+-------------------+\n",
      "|count|              domain|               perc|\n",
      "+-----+--------------------+-------------------+\n",
      "|10113|    books.google.com|  6.185812939255109|\n",
      "| 4170|     www.nytimes.com| 2.5506615204878673|\n",
      "| 3715|     www.reuters.com| 2.2723519301228845|\n",
      "| 3397|www.almasdarnews.com|  2.077841051582083|\n",
      "| 3313| www.theguardian.com| 2.0264608195147016|\n",
      "| 2829|       www.bbc.co.uk| 1.7304128156978842|\n",
      "| 2318|      news.bbc.co.uk| 1.4178497372879801|\n",
      "| 1988|   www.aljazeera.com| 1.2159988255946956|\n",
      "| 1970|www.washingtonpos...|  1.204988775865971|\n",
      "| 1962|         www.bbc.com| 1.2000954204309824|\n",
      "| 1541|         www.cnn.com| 0.9425825906647012|\n",
      "| 1518|     www.syriahr.com| 0.9285141937891086|\n",
      "| 1505| www.telegraph.co.uk|  0.920562491207252|\n",
      "| 1170|     edition.cnn.com| 0.7156532323670995|\n",
      "|  976|www.independent.c...| 0.5969893630686232|\n",
      "|  840|      abcnews.go.com|  0.513802320673815|\n",
      "|  811|         twitter.com|0.49606390722198096|\n",
      "|  707|     www.haaretz.com|0.43245028656712764|\n",
      "|  689|     www.foxnews.com|0.42144023683840304|\n",
      "|  682|www.dailystar.com.lb| 0.4171585508327879|\n",
      "+-----+--------------------+-------------------+\n",
      "only showing top 20 rows\n",
      "\n"
     ]
    }
   ],
   "source": [
    "def percentage(rdd):\n",
    "    return Row(domain=rdd[0], count=rdd[1], perc=rdd[1]*100/number_links)\n",
    "\n",
    "domains_distribution = sqlContext.createDataFrame(domains_count.map(percentage)).sort(\"count\", ascending=False)\n",
    "domains_distribution.show()"
   ]
  },
  {
   "cell_type": "code",
   "execution_count": 41,
   "metadata": {},
   "outputs": [],
   "source": [
    "domains_distribution_pd = domains_distribution.toPandas().set_index('domain')"
   ]
  },
  {
   "cell_type": "code",
   "execution_count": 42,
   "metadata": {},
   "outputs": [
    {
     "data": {
      "image/png": "[encoded data removed]",
      "text/plain": [
       "<Figure size 720x720 with 1 Axes>"
      ]
     },
     "metadata": {
      "needs_background": "light"
     },
     "output_type": "display_data"
    }
   ],
   "source": [
    "domains_distribution_pd20 = domains_distribution_pd.head(15)\n",
    "\n",
    "# plot using bar plot\n",
    "f, ax1 = plt.subplots()\n",
    "plt.sca(ax1)\n",
    "sns.barplot(domains_distribution_pd20['perc'], domains_distribution_pd20.index, palette=\"YlOrRd\", ax=ax1, orient='h')\n",
    "plt.xlabel('Percentage of references [%]',fontsize=18)\n",
    "plt.ylabel('Domains',fontsize=18)\n",
    "f.suptitle('Bar plot of percentage of references for domains', fontsize=20)\n",
    "f.set_size_inches(10, 10)\n",
    "plt.show()"
   ]
  },
  {
   "cell_type": "markdown",
   "metadata": {},
   "source": [
    "# Popularity metric 2\n",
    "\n",
    "### Get number of views per page\n",
    "\n",
    "A way of measuring the popularity of a page can be done by looking at the number of views per page. Let's follow the trend!"
   ]
  },
  {
   "cell_type": "code",
   "execution_count": 45,
   "metadata": {},
   "outputs": [],
   "source": [
    "# Loading the data\n",
    "WIKIPEDIA_VIEWCOUNT_PARQUET = DATA_DIR + \"wikipedia_no_outliers.parquet\"\n",
    "# loading the saved parquet files\n",
    "wikipedia_VIEWS = spark.read.parquet(WIKIPEDIA_VIEWCOUNT_PARQUET)"
   ]
  },
  {
   "cell_type": "code",
   "execution_count": 46,
   "metadata": {},
   "outputs": [],
   "source": [
    "df = wikipedia_VIEWS.select(\"title\")\n",
    "conflict_array = [(i.title) for i in df.collect()];"
   ]
  },
  {
   "cell_type": "code",
   "execution_count": 47,
   "metadata": {},
   "outputs": [],
   "source": [
    "def getViewsFromAPI(conflict_array):\n",
    "    views_dict = p.article_views('en.wikipedia', conflict_array, granularity='monthly',\n",
    "                                 start='20150701', end=time.strftime('%Y%m%d'), agent='user')\n",
    "    return views_dict"
   ]
  },
  {
   "cell_type": "code",
   "execution_count": 48,
   "metadata": {},
   "outputs": [],
   "source": [
    "startingLogDate = '20150701';\n",
    "today = time.strftime('%Y%m%d');\n",
    "\n",
    "p = PageviewsClient(user_agent=\"<ada@epfl.ch> Applied data analysis project\")\n",
    "\n",
    "views_dict = p.article_views('en.wikipedia', conflict_array, granularity='monthly', start=startingLogDate, end=today, agent='user')\n"
   ]
  },
  {
   "cell_type": "code",
   "execution_count": 49,
   "metadata": {},
   "outputs": [],
   "source": [
    "dizioTizio = [];\n",
    "for key, value in views_dict.items():\n",
    "    chiave = list(value.keys());\n",
    "    valore = list(value.values());\n",
    "    pippo  = list(zip(chiave,valore));\n",
    "    dizioTizio.extend(pippo)"
   ]
  },
  {
   "cell_type": "code",
   "execution_count": 50,
   "metadata": {},
   "outputs": [],
   "source": [
    "views = spark.createDataFrame(dizioTizio,[\"title\", \"views\"])\n",
    "\n",
    "views = views.select('title', views.views.cast('int')).na.fill(0);"
   ]
  },
  {
   "cell_type": "code",
   "execution_count": 51,
   "metadata": {},
   "outputs": [],
   "source": [
    "views_df = views.groupBy(\"title\").agg(F.sum(\"views\")).select(\"title\",F.col(\"sum(views)\").alias(\"views\"))"
   ]
  },
  {
   "cell_type": "code",
   "execution_count": 52,
   "metadata": {},
   "outputs": [],
   "source": [
    "# saving binary file\n",
    "views_df.write.mode('overwrite').parquet(DATA_DIR+\"Views_no_outliers.parquet\");"
   ]
  },
  {
   "cell_type": "code",
   "execution_count": 53,
   "metadata": {},
   "outputs": [
    {
     "name": "stdout",
     "output_type": "stream",
     "text": [
      "+--------------------+--------+\n",
      "|               title|   views|\n",
      "+--------------------+--------+\n",
      "|        World_War_II|33835972|\n",
      "|         World_War_I|31481685|\n",
      "|September_11_attacks|22233107|\n",
      "|         Vietnam_War|22085710|\n",
      "|  American_Civil_War|17696187|\n",
      "|Atomic_bombings_o...|13998970|\n",
      "|2012_Benghazi_attack|13324641|\n",
      "|          Korean_War|12674791|\n",
      "|Attack_on_Pearl_H...|12641959|\n",
      "|       The_Holocaust|12350383|\n",
      "+--------------------+--------+\n",
      "only showing top 10 rows\n",
      "\n"
     ]
    }
   ],
   "source": [
    "# loading the saved parquet files\n",
    "views_df = spark.read.parquet(DATA_DIR+\"Views_no_outliers.parquet\");\n",
    "views_df.sort('views', ascending=False).show(10)"
   ]
  },
  {
   "cell_type": "code",
   "execution_count": 54,
   "metadata": {},
   "outputs": [],
   "source": [
    "views_df = views_df.select(regexp_replace(col(\"title\"), \"_+\", \" \").alias('title'), 'views')"
   ]
  },
  {
   "cell_type": "code",
   "execution_count": 55,
   "metadata": {},
   "outputs": [
    {
     "name": "stdout",
     "output_type": "stream",
     "text": [
      "+--------------------+------+\n",
      "|               title| views|\n",
      "+--------------------+------+\n",
      "|Battle of Landshu...| 18559|\n",
      "|Northern Virginia...| 70274|\n",
      "|      Te Kooti's War| 26656|\n",
      "|         Radical War| 50461|\n",
      "|       Convoy HX 106|  8568|\n",
      "|Operation Rolling...|615607|\n",
      "|         Watts riots|931645|\n",
      "|    Battle of Sarmin| 12980|\n",
      "|Battle of Guilin–...| 18230|\n",
      "|Insurgency in the...|113083|\n",
      "|            Ifni War|194049|\n",
      "|Attacks on High Wood| 27921|\n",
      "|     Battle of Szack| 26044|\n",
      "|Pruth River Campaign| 66706|\n",
      "|Battle of Albert ...| 23943|\n",
      "|     Al Asad Airbase|163127|\n",
      "|Second Battle of ...| 35580|\n",
      "|    Battle of Asiago| 67385|\n",
      "|Siege of Albarrac...|  1902|\n",
      "|Action of 30 Marc...| 16841|\n",
      "+--------------------+------+\n",
      "only showing top 20 rows\n",
      "\n"
     ]
    }
   ],
   "source": [
    "views_df.show()"
   ]
  },
  {
   "cell_type": "markdown",
   "metadata": {},
   "source": [
    "**Distribution of number of views** We bin the number of references to get the number of pages having at least x #views. This is observed with a histogram plot."
   ]
  },
  {
   "cell_type": "code",
   "execution_count": 56,
   "metadata": {},
   "outputs": [
    {
     "data": {
      "image/png": "[encoded data removed]",
      "text/plain": [
       "<Figure size 864x504 with 1 Axes>"
      ]
     },
     "metadata": {
      "needs_background": "light"
     },
     "output_type": "display_data"
    }
   ],
   "source": [
    "just_views_count = views_df.select('views').toPandas()\n",
    "just_views_count.plot(kind=\"hist\", bins=100, \n",
    "                     figsize=(12,7), title=\"Distribution of number of views\")\n",
    "plt.xlabel('# Views')\n",
    "plt.ylabel('Frequency: # Pages having at least x views')\n",
    "plt.xlim(0.0e7,0.6e7)\n",
    "plt.show()"
   ]
  },
  {
   "cell_type": "code",
   "execution_count": 57,
   "metadata": {},
   "outputs": [
    {
     "data": {
      "image/png": "[encoded data removed]",
      "text/plain": [
       "<Figure size 1296x360 with 1 Axes>"
      ]
     },
     "metadata": {
      "needs_background": "light"
     },
     "output_type": "display_data"
    }
   ],
   "source": [
    "step = 100000;\n",
    "xs = pd.Series(range(1,int(just_views_count.max()),step));\n",
    "gratherThanData = xs.apply(lambda x: (just_views_count.views[just_views_count.views>=x]).count());\n",
    "\n",
    "f, (ax2) = plt.subplots(1, 1);\n",
    "plt.sca(ax2);\n",
    "plt.plot(xs,gratherThanData);\n",
    "plt.xlabel('views',fontsize=16);\n",
    "plt.ylabel('# articles',fontsize=16);\n",
    "plt.yscale('log'); plt.xscale('log');\n",
    "f.set_size_inches(18, 5)\n",
    "f.suptitle('Log-log of distribution of number of views',fontsize=20)\n",
    "plt.show();"
   ]
  },
  {
   "cell_type": "markdown",
   "metadata": {},
   "source": [
    "As seen we plotted our cumulative distribution in normal axes and in log-log axes. The distribution of the number of views follows a power law. Since it follows a power law, reporting mean or variance for a power-law-distributed data is not relevant as these statistics are not robust as they are sensitive to data. Instead, we use robust statistics and report the median and quartiles using boxplots. We compare boxplots with and without outliers."
   ]
  },
  {
   "cell_type": "code",
   "execution_count": 58,
   "metadata": {},
   "outputs": [
    {
     "data": {
      "image/png": "[encoded data removed]",
      "text/plain": [
       "<Figure size 432x288 with 1 Axes>"
      ]
     },
     "metadata": {
      "needs_background": "light"
     },
     "output_type": "display_data"
    }
   ],
   "source": [
    "# with all data\n",
    "just_views_count.boxplot();"
   ]
  },
  {
   "cell_type": "code",
   "execution_count": 59,
   "metadata": {},
   "outputs": [
    {
     "data": {
      "image/png": "[encoded data removed]",
      "text/plain": [
       "<Figure size 432x288 with 1 Axes>"
      ]
     },
     "metadata": {
      "needs_background": "light"
     },
     "output_type": "display_data"
    }
   ],
   "source": [
    "# without outliers\n",
    "just_views_count[just_views_count['views'] < 200000].boxplot();"
   ]
  },
  {
   "cell_type": "markdown",
   "metadata": {},
   "source": [
    "# Popularity metric 3\n",
    "\n",
    "### Get number of external links per page\n"
   ]
  },
  {
   "cell_type": "markdown",
   "metadata": {},
   "source": [
    "# Popularity metric 4\n",
    "\n",
    "### Get length of article \n",
    "We assume that the longer the article, the more popular it may be."
   ]
  },
  {
   "cell_type": "code",
   "execution_count": 62,
   "metadata": {},
   "outputs": [
    {
     "name": "stdout",
     "output_type": "stream",
     "text": [
      "+--------+--------------------+--------------------+--------------+\n",
      "|      id|               title|          categories|article_lenght|\n",
      "+--------+--------------------+--------------------+--------------+\n",
      "|52019122|Battle of Mosul (...|   military conflict|        636363|\n",
      "|46230181|Saudi Arabian-led...|   military conflict|        434819|\n",
      "|42563745|      War in Donbass|   military conflict|        393174|\n",
      "| 6750583| History of Xinjiang|military conflict...|        364205|\n",
      "| 3030955|    Kashmir conflict|   military conflict|        364091|\n",
      "+--------+--------------------+--------------------+--------------+\n",
      "only showing top 5 rows\n",
      "\n"
     ]
    }
   ],
   "source": [
    "# Loading the data\n",
    "WIKIPEDIA_LENGTH_PARQUET = DATA_DIR + \"wikipedia_no_outliers.parquet\"\n",
    "\n",
    "# loading the saved parquet files\n",
    "articles = spark.read.parquet(WIKIPEDIA_LENGTH_PARQUET)\n",
    "articles_length = articles.withColumn('article_lenght', F.length(articles.revision.text._VALUE))\n",
    "articles_length_filter = articles_length.select(\"id\",\"title\",\"categories\",\"article_lenght\")\n",
    "articles_length_filter.sort('article_lenght', ascending=False).show(5)"
   ]
  },
  {
   "cell_type": "markdown",
   "metadata": {},
   "source": [
    "**Distribution of article length** We bin the article length to get the number of pages having at least x article lengths. This is observed with a histogram plot."
   ]
  },
  {
   "cell_type": "code",
   "execution_count": 63,
   "metadata": {},
   "outputs": [
    {
     "data": {
      "image/png": "[encoded data removed]",
      "text/plain": [
       "<Figure size 864x504 with 1 Axes>"
      ]
     },
     "metadata": {
      "needs_background": "light"
     },
     "output_type": "display_data"
    }
   ],
   "source": [
    "just_article_length = articles_length_filter.select('article_lenght').toPandas()\n",
    "just_article_length.plot(kind=\"hist\", bins=100, \n",
    "                     figsize=(12,7), title=\"Distribution of article lengths\")\n",
    "plt.xlabel('Article length')\n",
    "plt.ylabel('Frequency: # Pages having at least x Article length')\n",
    "plt.show()"
   ]
  },
  {
   "cell_type": "code",
   "execution_count": 64,
   "metadata": {},
   "outputs": [
    {
     "data": {
      "image/png": "[encoded data removed]",
      "text/plain": [
       "<Figure size 864x504 with 1 Axes>"
      ]
     },
     "metadata": {
      "needs_background": "light"
     },
     "output_type": "display_data"
    }
   ],
   "source": [
    "just_article_length = articles_length_filter.select('article_lenght').toPandas()\n",
    "just_article_length.plot(kind=\"hist\", bins=100, log = True,\n",
    "                     figsize=(12,7), title=\"Distribution of article lengths\")\n",
    "plt.xlabel('Article length')\n",
    "plt.ylabel('Frequency: # Pages having at least x Article length')\n",
    "plt.show()"
   ]
  },
  {
   "cell_type": "markdown",
   "metadata": {},
   "source": [
    "The distribution has a heavy-tailed distribution: it may follow a power law."
   ]
  },
  {
   "cell_type": "code",
   "execution_count": 65,
   "metadata": {},
   "outputs": [
    {
     "data": {
      "image/png": "[encoded data removed]",
      "text/plain": [
       "<Figure size 1296x360 with 1 Axes>"
      ]
     },
     "metadata": {
      "needs_background": "light"
     },
     "output_type": "display_data"
    }
   ],
   "source": [
    "step = 100;\n",
    "xs = pd.Series(range(1,int(just_article_length.max()),step));\n",
    "gratherThanData = xs.apply(lambda x: (just_article_length.article_lenght[just_article_length.article_lenght>=x]).count());\n",
    "\n",
    "f, (ax2) = plt.subplots(1, 1);\n",
    "plt.sca(ax2);\n",
    "plt.plot(xs,gratherThanData);\n",
    "plt.xlabel('article length',fontsize=16);\n",
    "plt.ylabel('# articles',fontsize=16);\n",
    "plt.yscale('log'); plt.xscale('log');\n",
    "f.set_size_inches(18, 5)\n",
    "f.suptitle('Log-log of distribution of article length',fontsize=20)\n",
    "plt.show();"
   ]
  },
  {
   "cell_type": "markdown",
   "metadata": {},
   "source": [
    "---\n",
    "\n",
    "# Joining tables on the page id\n",
    "\n",
    "Having defined popularity metrics and importance criterion, we now join the tables on the page ID."
   ]
  },
  {
   "cell_type": "markdown",
   "metadata": {},
   "source": [
    "## 1. Join all popularity tables on page id"
   ]
  },
  {
   "cell_type": "code",
   "execution_count": 66,
   "metadata": {},
   "outputs": [
    {
     "name": "stdout",
     "output_type": "stream",
     "text": [
      "+------+--------------------+--------------------+--------------+----------+\n",
      "|    id|               title|          categories|article_lenght|refs_count|\n",
      "+------+--------------------+--------------------+--------------+----------+\n",
      "|  4823|         Balkan Wars|   military conflict|         56312|         8|\n",
      "| 47928|   Battle of Naissus|   military conflict|         12440|        23|\n",
      "| 50157|Battle of Stoke F...|   military conflict|         16061|        12|\n",
      "|381602|    Baby Face Nelson|criminal, civilia...|         39762|        57|\n",
      "|424102|Battle of Beachy ...|   military conflict|         21589|        26|\n",
      "+------+--------------------+--------------------+--------------+----------+\n",
      "only showing top 5 rows\n",
      "\n"
     ]
    }
   ],
   "source": [
    "# need tables reference_count_page & articles_length_filter\n",
    "references_popularity = reference_count_page.registerTempTable('references_popularity')\n",
    "length_popularity = articles_length_filter.registerTempTable('length_popularity')\n",
    "views_popularity = views_df.registerTempTable('views_popularity')\n",
    "\n",
    "query_join_ref_length = \"\"\"\n",
    "select length_popularity.id, length_popularity.title, length_popularity.categories, length_popularity.article_lenght, references_popularity.refs_count\n",
    "from length_popularity\n",
    "join references_popularity\n",
    "on length_popularity.id = references_popularity.id\n",
    "\"\"\"\n",
    "\n",
    "join_ref_length = spark.sql(query_join_ref_length)\n",
    "join_ref_length.show(5)"
   ]
  },
  {
   "cell_type": "code",
   "execution_count": 67,
   "metadata": {},
   "outputs": [
    {
     "data": {
      "text/plain": [
       "[Row(id=57214505, title='Jahriyya revolt', categories='military conflict', article_lenght=10027, refs_count=22)]"
      ]
     },
     "execution_count": 67,
     "metadata": {},
     "output_type": "execute_result"
    }
   ],
   "source": [
    "# mini-test\n",
    "join_ref_length.filter(\"title = 'Jahriyya revolt'\").collect()"
   ]
  },
  {
   "cell_type": "code",
   "execution_count": 68,
   "metadata": {},
   "outputs": [
    {
     "name": "stdout",
     "output_type": "stream",
     "text": [
      "+------+--------------------+--------------------+--------------+-------+----------+\n",
      "|    id|               title|          categories|article_lenght|  views|refs_count|\n",
      "+------+--------------------+--------------------+--------------+-------+----------+\n",
      "|  4823|         Balkan Wars|   military conflict|         56312|1124826|         8|\n",
      "| 47928|   Battle of Naissus|   military conflict|         12440|  56441|        23|\n",
      "| 50157|Battle of Stoke F...|   military conflict|         16061| 113136|        12|\n",
      "|381602|    Baby Face Nelson|criminal, civilia...|         39762|1927516|        57|\n",
      "|424102|Battle of Beachy ...|   military conflict|         21589|  66081|        26|\n",
      "+------+--------------------+--------------------+--------------+-------+----------+\n",
      "only showing top 5 rows\n",
      "\n"
     ]
    }
   ],
   "source": [
    "join_ref_length_sql = join_ref_length.registerTempTable('join_ref_length_sql')\n",
    "query_join_popularity = \"\"\"\n",
    "select join_ref_length_sql.id, join_ref_length_sql.title, join_ref_length_sql.categories, join_ref_length_sql.article_lenght, views_popularity.views, join_ref_length_sql.refs_count  \n",
    "from join_ref_length_sql\n",
    "join views_popularity\n",
    "on join_ref_length_sql.title = views_popularity.title\n",
    "\"\"\"\n",
    "popularity = spark.sql(query_join_popularity)\n",
    "popularity.show(5)"
   ]
  },
  {
   "cell_type": "markdown",
   "metadata": {},
   "source": [
    "## 2. Join each category table with popularity table"
   ]
  },
  {
   "cell_type": "code",
   "execution_count": 69,
   "metadata": {},
   "outputs": [
    {
     "ename": "NameError",
     "evalue": "name 'wiki_civil_conflict_df' is not defined",
     "output_type": "error",
     "traceback": [
      "\u001b[0;31m---------------------------------------------------------------------------\u001b[0m",
      "\u001b[0;31mNameError\u001b[0m                                 Traceback (most recent call last)",
      "\u001b[0;32m<ipython-input-69-a110e26f8ca1>\u001b[0m in \u001b[0;36m<module>\u001b[0;34m()\u001b[0m\n\u001b[1;32m      1\u001b[0m \u001b[0;31m# need tables popularity, wiki_civil_conflict_df, wiki_civilian_attack_df, wiki_military_conflict_df\u001b[0m\u001b[0;34m\u001b[0m\u001b[0;34m\u001b[0m\u001b[0m\n\u001b[1;32m      2\u001b[0m \u001b[0mpopularity_sql\u001b[0m \u001b[0;34m=\u001b[0m \u001b[0mpopularity\u001b[0m\u001b[0;34m.\u001b[0m\u001b[0mregisterTempTable\u001b[0m\u001b[0;34m(\u001b[0m\u001b[0;34m'popularity_sql'\u001b[0m\u001b[0;34m)\u001b[0m\u001b[0;34m\u001b[0m\u001b[0m\n\u001b[0;32m----> 3\u001b[0;31m \u001b[0mcivil_conflict\u001b[0m \u001b[0;34m=\u001b[0m \u001b[0mwiki_civil_conflict_df\u001b[0m\u001b[0;34m.\u001b[0m\u001b[0mregisterTempTable\u001b[0m\u001b[0;34m(\u001b[0m\u001b[0;34m'civil_conflict'\u001b[0m\u001b[0;34m)\u001b[0m\u001b[0;34m\u001b[0m\u001b[0m\n\u001b[0m\u001b[1;32m      4\u001b[0m \u001b[0mmilitary_conflict\u001b[0m \u001b[0;34m=\u001b[0m \u001b[0mwiki_military_conflict_df\u001b[0m\u001b[0;34m.\u001b[0m\u001b[0mregisterTempTable\u001b[0m\u001b[0;34m(\u001b[0m\u001b[0;34m'military_conflict'\u001b[0m\u001b[0;34m)\u001b[0m\u001b[0;34m\u001b[0m\u001b[0m\n\u001b[1;32m      5\u001b[0m \u001b[0mcivilian_attack\u001b[0m \u001b[0;34m=\u001b[0m \u001b[0mwiki_civilian_attack_df\u001b[0m\u001b[0;34m.\u001b[0m\u001b[0mregisterTempTable\u001b[0m\u001b[0;34m(\u001b[0m\u001b[0;34m'civilian_attack'\u001b[0m\u001b[0;34m)\u001b[0m\u001b[0;34m\u001b[0m\u001b[0m\n",
      "\u001b[0;31mNameError\u001b[0m: name 'wiki_civil_conflict_df' is not defined"
     ]
    }
   ],
   "source": [
    "# need tables popularity, wiki_civil_conflict_df, wiki_civilian_attack_df, wiki_military_conflict_df\n",
    "popularity_sql = popularity.registerTempTable('popularity_sql')\n",
    "civil_conflict = wiki_civil_conflict_df.registerTempTable('civil_conflict')\n",
    "military_conflict = wiki_military_conflict_df.registerTempTable('military_conflict')\n",
    "civilian_attack = wiki_civilian_attack_df.registerTempTable('civilian_attack')"
   ]
  },
  {
   "cell_type": "markdown",
   "metadata": {},
   "source": [
    "**Join between popularity & `civil conflict`**"
   ]
  },
  {
   "cell_type": "code",
   "execution_count": 178,
   "metadata": {},
   "outputs": [
    {
     "name": "stdout",
     "output_type": "stream",
     "text": [
      "+--------+--------------------+--------------+--------------+------+-----+--------+--------+\n",
      "|      id|               title|    categories|article_lenght| views|death|end_date|location|\n",
      "+--------+--------------------+--------------+--------------+------+-----+--------+--------+\n",
      "|34516509|2000 UEFA Cup Fin...|civil conflict|         26461| 72312| null|    null|    null|\n",
      "|49364124|Şırnak clashes (2...|civil conflict|         13430|  2575| null|    null|    null|\n",
      "|30953438|2011 Chinese pro-...|civil conflict|         55912| 76683| null|    null|    null|\n",
      "|32025295|  2011 Chaozhou riot|civil conflict|          6145|  3385| null|    null|    null|\n",
      "|39540142|  Gezi Park protests|civil conflict|        200699|265121|  +11|    null|    null|\n",
      "+--------+--------------------+--------------+--------------+------+-----+--------+--------+\n",
      "only showing top 5 rows\n",
      "\n"
     ]
    }
   ],
   "source": [
    "query_join_popularity_civil_conflict = \"\"\"\n",
    "select popularity_sql.id, popularity_sql.title, popularity_sql.categories, popularity_sql.article_lenght, popularity_sql.views, popularity_sql.refs_count, civil_conflict.death, civil_conflict.end_date, civil_conflict.location\n",
    "from popularity_sql, civil_conflict\n",
    "where popularity_sql.id = civil_conflict.id\n",
    "\"\"\"\n",
    "\n",
    "popularity_civil_conflict = spark.sql(query_join_popularity_civil_conflict)\n",
    "popularity_civil_conflict.show(5)"
   ]
  },
  {
   "cell_type": "code",
   "execution_count": 208,
   "metadata": {
    "collapsed": true
   },
   "outputs": [],
   "source": [
    "# saving binary file\n",
    "popularity_civil_conflict.write.mode('overwrite').parquet(DATA_DIR+\"popularity_civil_conflict.parquet\");"
   ]
  },
  {
   "cell_type": "markdown",
   "metadata": {},
   "source": [
    "**Join between popularity & `military conflict`**"
   ]
  },
  {
   "cell_type": "code",
   "execution_count": 207,
   "metadata": {},
   "outputs": [
    {
     "name": "stdout",
     "output_type": "stream",
     "text": [
      "+--------+--------------------+-----------------+--------------+------+-----+--------------------+--------------------+\n",
      "|      id|               title|       categories|article_lenght| views|death|            end_date|            location|\n",
      "+--------+--------------------+-----------------+--------------+------+-----+--------------------+--------------------+\n",
      "|55579888|Iraq conflict (20...|military conflict|         36485| 97529| null|                null|         Iraq (Q796)|\n",
      "| 8949710|Communist insurge...|military conflict|         35533|100519| null|+1989-00-00T00:00...|Peninsular Malays...|\n",
      "|10558427|Tsotsin-Yurt oper...|military conflict|          6257|  4427| null|+2002-01-03T00:00...|                null|\n",
      "|19230085|  Battle of Kumegawa|military conflict|          5057|  2360| null|                null|Yanase River (Q11...|\n",
      "|21257070|    Battle of Shewan|military conflict|          8248| 17167| null|                null|     Farah (Q180330)|\n",
      "+--------+--------------------+-----------------+--------------+------+-----+--------------------+--------------------+\n",
      "only showing top 5 rows\n",
      "\n"
     ]
    }
   ],
   "source": [
    "query_join_popularity_military_conflict = \"\"\"\n",
    "select popularity_sql.id, popularity_sql.title, popularity_sql.categories, popularity_sql.article_lenght, popularity_sql.views, popularity_sql.refs_count, military_conflict.death, military_conflict.end_date, military_conflict.location\n",
    "from popularity_sql, military_conflict\n",
    "where popularity_sql.id = military_conflict.id\n",
    "\"\"\"\n",
    "\n",
    "popularity_military_conflict = spark.sql(query_join_popularity_military_conflict)\n",
    "popularity_military_conflict.show(5)"
   ]
  },
  {
   "cell_type": "code",
   "execution_count": 210,
   "metadata": {
    "collapsed": true
   },
   "outputs": [],
   "source": [
    "# saving binary file\n",
    "popularity_military_conflict.write.mode('overwrite').parquet(DATA_DIR+\"popularity_military_conflict.parquet\");"
   ]
  },
  {
   "cell_type": "markdown",
   "metadata": {},
   "source": [
    "**Join between popularity & `civilian attack`**"
   ]
  },
  {
   "cell_type": "code",
   "execution_count": 209,
   "metadata": {},
   "outputs": [
    {
     "name": "stdout",
     "output_type": "stream",
     "text": [
      "+--------+--------------------+---------------+--------------+-----+-----+--------+--------------------+\n",
      "|      id|               title|     categories|article_lenght|views|death|end_date|            location|\n",
      "+--------+--------------------+---------------+--------------+-----+-----+--------+--------------------+\n",
      "| 3177125|Springfield race ...|civilian attack|        274021|42752| null|    null|                null|\n",
      "|38332721|2013 Uribana pris...|civilian attack|          4528|13891| null|    null|                null|\n",
      "|47763281|Phoenix freeway s...|civilian attack|         17495|89855| null|    null|Interstate 10 in ...|\n",
      "|48825364|2015 Spanish Emba...|civilian attack|          4182|15980| null|    null|                null|\n",
      "|54352051|June 2017 Brussel...|civilian attack|         22146|20056|   +1|    null|Brussels-Central ...|\n",
      "+--------+--------------------+---------------+--------------+-----+-----+--------+--------------------+\n",
      "only showing top 5 rows\n",
      "\n"
     ]
    }
   ],
   "source": [
    "query_join_popularity_civilian_attack = \"\"\"\n",
    "select popularity_sql.id, popularity_sql.title, popularity_sql.categories, popularity_sql.article_lenght, popularity_sql.views, popularity_sql.refs_count, civilian_attack.death, civilian_attack.end_date, civilian_attack.location\n",
    "from popularity_sql, civilian_attack\n",
    "where popularity_sql.id = civilian_attack.id\n",
    "\"\"\"\n",
    "\n",
    "popularity_civilian_attack = spark.sql(query_join_popularity_civilian_attack)\n",
    "popularity_civilian_attack.show(5)"
   ]
  },
  {
   "cell_type": "code",
   "execution_count": 211,
   "metadata": {
    "collapsed": true
   },
   "outputs": [],
   "source": [
    "# saving binary file\n",
    "popularity_civilian_attack.write.mode('overwrite').parquet(DATA_DIR+\"popularity_civilian_attack.parquet\");"
   ]
  },
  {
   "cell_type": "markdown",
   "metadata": {},
   "source": [
    "--- \n",
    "# Define a popularity score for each page\n"
   ]
  },
  {
   "cell_type": "markdown",
   "metadata": {},
   "source": [
    "We use 4 features to define the popularity score of a page.\n",
    "\n",
    "    We define the popularity score of an article as:\n",
    "\n",
    "         SCORE = w1 * views + w2 * links + w3 * references + w4 * length \n",
    "        \n",
    "        w1, w2, w3 and w4 are arbitrary weigths that normalize the features.\n",
    "\n",
    "    We have noticed that the features references,length and views seem to follow a power law. Therefore, we use the 1/median to construct the weights associated to them."
   ]
  },
  {
   "cell_type": "markdown",
   "metadata": {},
   "source": [
    "### Civil conflict score "
   ]
  },
  {
   "cell_type": "code",
   "execution_count": 8,
   "metadata": {
    "collapsed": true
   },
   "outputs": [],
   "source": [
    "popularity_civil_conflict_scoring = spark.read.parquet(DATA_DIR+\"popularity_civil_conflict.parquet\")"
   ]
  },
  {
   "cell_type": "code",
   "execution_count": 221,
   "metadata": {
    "collapsed": true
   },
   "outputs": [],
   "source": [
    "from pyspark.sql.types import IntegerType\n",
    "\n",
    "def compute_weight(a_df, features_col):\n",
    "    qnt_50 = []\n",
    "    # for each col of the input features, cast into integer and compute median\n",
    "    for col_ in features_col:\n",
    "        a_df = a_df.withColumn(col_, a_df[col_].cast(IntegerType()))\n",
    "        qnt_50.append(1/a_df.approxQuantile(col_, [0.5], 0.1)[0])\n",
    "        \n",
    "    weights = np.array(qnt_50)\n",
    "    return weights, a_df\n",
    "\n",
    "\n",
    "def compute_score(a_df, features_col):\n",
    "    weights, a_df = compute_weight(a_df, features_col[1:])\n",
    "    a_pd = a_df.toPandas()\n",
    "    score = a_pd.iloc[:, 1] * weights[1] \\\n",
    "    + a_pd.iloc[:, 2] * weights[2]\n",
    "    \n",
    "    return score"
   ]
  },
  {
   "cell_type": "code",
   "execution_count": 216,
   "metadata": {},
   "outputs": [
    {
     "name": "stdout",
     "output_type": "stream",
     "text": [
      "+-------+-----------------+--------------+--------------+------+-----+--------------------+--------------------+\n",
      "|     id|            title|    categories|article_lenght| views|death|            end_date|            location|\n",
      "+-------+-----------------+--------------+--------------+------+-----+--------------------+--------------------+\n",
      "|1690078|1967 Newark riots|civil conflict|         18540|225656|  +26|+1967-07-17T00:00...|[Jersey City (Q26...|\n",
      "+-------+-----------------+--------------+--------------+------+-----+--------------------+--------------------+\n",
      "only showing top 1 row\n",
      "\n"
     ]
    }
   ],
   "source": [
    "popularity_civil_conflict_scoring.show(1)"
   ]
  },
  {
   "cell_type": "code",
   "execution_count": 223,
   "metadata": {
    "collapsed": true
   },
   "outputs": [],
   "source": [
    "to_score = popularity_civil_conflict_scoring.select('id','views','article_lenght')"
   ]
  },
  {
   "cell_type": "code",
   "execution_count": 224,
   "metadata": {},
   "outputs": [
    {
     "data": {
      "text/plain": [
       "(array([2.61718649e-08, 5.65259171e-05, 6.54065014e-05]),\n",
       " DataFrame[id: int, views: int, article_lenght: int])"
      ]
     },
     "execution_count": 224,
     "metadata": {},
     "output_type": "execute_result"
    }
   ],
   "source": [
    "compute_weight(to_score, ['id','views','article_lenght'])"
   ]
  },
  {
   "cell_type": "markdown",
   "metadata": {
    "collapsed": true
   },
   "source": [
    "# Clustering approach\n",
    "\n",
    "## Feature standardization"
   ]
  },
  {
   "cell_type": "code",
   "execution_count": 3,
   "metadata": {},
   "outputs": [],
   "source": [
    "popularity_civil_conflict_scoring_ft = spark.read.parquet(DATA_DIR+\"popularity_civil_conflict.parquet\")"
   ]
  },
  {
   "cell_type": "code",
   "execution_count": 4,
   "metadata": {},
   "outputs": [],
   "source": [
    "popularity_civil_conflict_pd = popularity_civil_conflict_scoring_ft.toPandas()"
   ]
  },
  {
   "cell_type": "code",
   "execution_count": 5,
   "metadata": {},
   "outputs": [
    {
     "data": {
      "text/html": [
       "<div>\n",
       "<style scoped>\n",
       "    .dataframe tbody tr th:only-of-type {\n",
       "        vertical-align: middle;\n",
       "    }\n",
       "\n",
       "    .dataframe tbody tr th {\n",
       "        vertical-align: top;\n",
       "    }\n",
       "\n",
       "    .dataframe thead th {\n",
       "        text-align: right;\n",
       "    }\n",
       "</style>\n",
       "<table border=\"1\" class=\"dataframe\">\n",
       "  <thead>\n",
       "    <tr style=\"text-align: right;\">\n",
       "      <th></th>\n",
       "      <th>id</th>\n",
       "      <th>title</th>\n",
       "      <th>categories</th>\n",
       "      <th>article_lenght</th>\n",
       "      <th>views</th>\n",
       "      <th>death</th>\n",
       "      <th>end_date</th>\n",
       "      <th>location</th>\n",
       "    </tr>\n",
       "  </thead>\n",
       "  <tbody>\n",
       "    <tr>\n",
       "      <th>0</th>\n",
       "      <td>1690078</td>\n",
       "      <td>1967 Newark riots</td>\n",
       "      <td>civil conflict</td>\n",
       "      <td>18540</td>\n",
       "      <td>225656</td>\n",
       "      <td>+26</td>\n",
       "      <td>+1967-07-17T00:00:00Z</td>\n",
       "      <td>[Jersey City (Q26339), Newark (Q25395)]</td>\n",
       "    </tr>\n",
       "    <tr>\n",
       "      <th>1</th>\n",
       "      <td>39415364</td>\n",
       "      <td>2013 Israeli protests</td>\n",
       "      <td>civil conflict</td>\n",
       "      <td>4431</td>\n",
       "      <td>1812</td>\n",
       "      <td>None</td>\n",
       "      <td>None</td>\n",
       "      <td>None</td>\n",
       "    </tr>\n",
       "    <tr>\n",
       "      <th>2</th>\n",
       "      <td>40496099</td>\n",
       "      <td>2013 Romanian protests against the Roșia Monta...</td>\n",
       "      <td>civil conflict</td>\n",
       "      <td>69406</td>\n",
       "      <td>19639</td>\n",
       "      <td>None</td>\n",
       "      <td>None</td>\n",
       "      <td>None</td>\n",
       "    </tr>\n",
       "    <tr>\n",
       "      <th>3</th>\n",
       "      <td>53285609</td>\n",
       "      <td>2017 Anaheim protests</td>\n",
       "      <td>civil conflict</td>\n",
       "      <td>5030</td>\n",
       "      <td>762</td>\n",
       "      <td>None</td>\n",
       "      <td>None</td>\n",
       "      <td>None</td>\n",
       "    </tr>\n",
       "    <tr>\n",
       "      <th>4</th>\n",
       "      <td>32071886</td>\n",
       "      <td>2011–13 Chilean student protests</td>\n",
       "      <td>civil conflict</td>\n",
       "      <td>40592</td>\n",
       "      <td>54908</td>\n",
       "      <td>None</td>\n",
       "      <td>+2013-01-01T00:00:00Z</td>\n",
       "      <td>None</td>\n",
       "    </tr>\n",
       "    <tr>\n",
       "      <th>5</th>\n",
       "      <td>41693718</td>\n",
       "      <td>1962 Rangoon University protests</td>\n",
       "      <td>civil conflict</td>\n",
       "      <td>46680</td>\n",
       "      <td>17558</td>\n",
       "      <td>None</td>\n",
       "      <td>None</td>\n",
       "      <td>None</td>\n",
       "    </tr>\n",
       "    <tr>\n",
       "      <th>6</th>\n",
       "      <td>42601767</td>\n",
       "      <td>New Orleans school desegregation crisis</td>\n",
       "      <td>civil conflict</td>\n",
       "      <td>18625</td>\n",
       "      <td>53620</td>\n",
       "      <td>None</td>\n",
       "      <td>None</td>\n",
       "      <td>None</td>\n",
       "    </tr>\n",
       "    <tr>\n",
       "      <th>7</th>\n",
       "      <td>55185370</td>\n",
       "      <td>2017–18 Spanish constitutional crisis</td>\n",
       "      <td>civil conflict</td>\n",
       "      <td>109523</td>\n",
       "      <td>50424</td>\n",
       "      <td>None</td>\n",
       "      <td>None</td>\n",
       "      <td>None</td>\n",
       "    </tr>\n",
       "    <tr>\n",
       "      <th>8</th>\n",
       "      <td>14281867</td>\n",
       "      <td>Grabow riot</td>\n",
       "      <td>civil conflict</td>\n",
       "      <td>24162</td>\n",
       "      <td>3942</td>\n",
       "      <td>None</td>\n",
       "      <td>None</td>\n",
       "      <td>None</td>\n",
       "    </tr>\n",
       "    <tr>\n",
       "      <th>9</th>\n",
       "      <td>38594310</td>\n",
       "      <td>2013 Bulgarian protests against the first Bori...</td>\n",
       "      <td>civil conflict</td>\n",
       "      <td>95435</td>\n",
       "      <td>10951</td>\n",
       "      <td>None</td>\n",
       "      <td>None</td>\n",
       "      <td>None</td>\n",
       "    </tr>\n",
       "  </tbody>\n",
       "</table>\n",
       "</div>"
      ],
      "text/plain": [
       "         id                                              title  \\\n",
       "0   1690078                                  1967 Newark riots   \n",
       "1  39415364                              2013 Israeli protests   \n",
       "2  40496099  2013 Romanian protests against the Roșia Monta...   \n",
       "3  53285609                              2017 Anaheim protests   \n",
       "4  32071886                   2011–13 Chilean student protests   \n",
       "5  41693718                   1962 Rangoon University protests   \n",
       "6  42601767            New Orleans school desegregation crisis   \n",
       "7  55185370              2017–18 Spanish constitutional crisis   \n",
       "8  14281867                                        Grabow riot   \n",
       "9  38594310  2013 Bulgarian protests against the first Bori...   \n",
       "\n",
       "       categories  article_lenght   views death               end_date  \\\n",
       "0  civil conflict           18540  225656   +26  +1967-07-17T00:00:00Z   \n",
       "1  civil conflict            4431    1812  None                   None   \n",
       "2  civil conflict           69406   19639  None                   None   \n",
       "3  civil conflict            5030     762  None                   None   \n",
       "4  civil conflict           40592   54908  None  +2013-01-01T00:00:00Z   \n",
       "5  civil conflict           46680   17558  None                   None   \n",
       "6  civil conflict           18625   53620  None                   None   \n",
       "7  civil conflict          109523   50424  None                   None   \n",
       "8  civil conflict           24162    3942  None                   None   \n",
       "9  civil conflict           95435   10951  None                   None   \n",
       "\n",
       "                                  location  \n",
       "0  [Jersey City (Q26339), Newark (Q25395)]  \n",
       "1                                     None  \n",
       "2                                     None  \n",
       "3                                     None  \n",
       "4                                     None  \n",
       "5                                     None  \n",
       "6                                     None  \n",
       "7                                     None  \n",
       "8                                     None  \n",
       "9                                     None  "
      ]
     },
     "execution_count": 5,
     "metadata": {},
     "output_type": "execute_result"
    }
   ],
   "source": [
    "popularity_civil_conflict_pd.head(10)"
   ]
  },
  {
   "cell_type": "code",
   "execution_count": 31,
   "metadata": {},
   "outputs": [
    {
     "data": {
      "text/html": [
       "<div>\n",
       "<style scoped>\n",
       "    .dataframe tbody tr th:only-of-type {\n",
       "        vertical-align: middle;\n",
       "    }\n",
       "\n",
       "    .dataframe tbody tr th {\n",
       "        vertical-align: top;\n",
       "    }\n",
       "\n",
       "    .dataframe thead th {\n",
       "        text-align: right;\n",
       "    }\n",
       "</style>\n",
       "<table border=\"1\" class=\"dataframe\">\n",
       "  <thead>\n",
       "    <tr style=\"text-align: right;\">\n",
       "      <th></th>\n",
       "      <th>id</th>\n",
       "      <th>title</th>\n",
       "      <th>categories</th>\n",
       "      <th>article_lenght</th>\n",
       "      <th>views</th>\n",
       "      <th>death</th>\n",
       "      <th>end_date</th>\n",
       "      <th>location</th>\n",
       "    </tr>\n",
       "  </thead>\n",
       "  <tbody>\n",
       "    <tr>\n",
       "      <th>73</th>\n",
       "      <td>44534</td>\n",
       "      <td>Tiananmen Square protests of 1989</td>\n",
       "      <td>civil conflict, Chinese</td>\n",
       "      <td>195805</td>\n",
       "      <td>6554664</td>\n",
       "      <td>None</td>\n",
       "      <td>None</td>\n",
       "      <td>None</td>\n",
       "    </tr>\n",
       "    <tr>\n",
       "      <th>54</th>\n",
       "      <td>1553191</td>\n",
       "      <td>1992 Los Angeles riots</td>\n",
       "      <td>civil conflict</td>\n",
       "      <td>117557</td>\n",
       "      <td>3497439</td>\n",
       "      <td>None</td>\n",
       "      <td>None</td>\n",
       "      <td>None</td>\n",
       "    </tr>\n",
       "    <tr>\n",
       "      <th>350</th>\n",
       "      <td>6356686</td>\n",
       "      <td>2002 Gujarat riots</td>\n",
       "      <td>civil conflict</td>\n",
       "      <td>126102</td>\n",
       "      <td>1587209</td>\n",
       "      <td>None</td>\n",
       "      <td>None</td>\n",
       "      <td>None</td>\n",
       "    </tr>\n",
       "    <tr>\n",
       "      <th>48</th>\n",
       "      <td>319973</td>\n",
       "      <td>1967 Detroit riot</td>\n",
       "      <td>civil conflict</td>\n",
       "      <td>95893</td>\n",
       "      <td>1447723</td>\n",
       "      <td>+43</td>\n",
       "      <td>None</td>\n",
       "      <td>None</td>\n",
       "    </tr>\n",
       "    <tr>\n",
       "      <th>262</th>\n",
       "      <td>266455</td>\n",
       "      <td>New York City draft riots</td>\n",
       "      <td>civil conflict</td>\n",
       "      <td>45219</td>\n",
       "      <td>917880</td>\n",
       "      <td>None</td>\n",
       "      <td>None</td>\n",
       "      <td>None</td>\n",
       "    </tr>\n",
       "    <tr>\n",
       "      <th>258</th>\n",
       "      <td>340330</td>\n",
       "      <td>Watts riots</td>\n",
       "      <td>civil conflict</td>\n",
       "      <td>34862</td>\n",
       "      <td>914726</td>\n",
       "      <td>+34</td>\n",
       "      <td>+1965-08-16T00:00:00Z</td>\n",
       "      <td>None</td>\n",
       "    </tr>\n",
       "    <tr>\n",
       "      <th>220</th>\n",
       "      <td>51676196</td>\n",
       "      <td>U.S. national anthem protests (2016–present)</td>\n",
       "      <td>civil conflict</td>\n",
       "      <td>89338</td>\n",
       "      <td>842074</td>\n",
       "      <td>None</td>\n",
       "      <td>None</td>\n",
       "      <td>None</td>\n",
       "    </tr>\n",
       "    <tr>\n",
       "      <th>185</th>\n",
       "      <td>51439308</td>\n",
       "      <td>Dakota Access Pipeline protests</td>\n",
       "      <td>civil conflict</td>\n",
       "      <td>129707</td>\n",
       "      <td>838764</td>\n",
       "      <td>None</td>\n",
       "      <td>None</td>\n",
       "      <td>None</td>\n",
       "    </tr>\n",
       "    <tr>\n",
       "      <th>153</th>\n",
       "      <td>2298023</td>\n",
       "      <td>Sinking of the Rainbow Warrior</td>\n",
       "      <td>civil conflict</td>\n",
       "      <td>31420</td>\n",
       "      <td>618907</td>\n",
       "      <td>+1</td>\n",
       "      <td>None</td>\n",
       "      <td>None</td>\n",
       "    </tr>\n",
       "    <tr>\n",
       "      <th>254</th>\n",
       "      <td>692884</td>\n",
       "      <td>Gwangju Uprising</td>\n",
       "      <td>civil conflict</td>\n",
       "      <td>34856</td>\n",
       "      <td>524044</td>\n",
       "      <td>+606</td>\n",
       "      <td>None</td>\n",
       "      <td>None</td>\n",
       "    </tr>\n",
       "    <tr>\n",
       "      <th>268</th>\n",
       "      <td>43971623</td>\n",
       "      <td>2014 Hong Kong protests</td>\n",
       "      <td>civil conflict, | subbox = yes</td>\n",
       "      <td>229612</td>\n",
       "      <td>483871</td>\n",
       "      <td>None</td>\n",
       "      <td>None</td>\n",
       "      <td>None</td>\n",
       "    </tr>\n",
       "    <tr>\n",
       "      <th>199</th>\n",
       "      <td>3409267</td>\n",
       "      <td>2005 Cronulla riots</td>\n",
       "      <td>civil conflict</td>\n",
       "      <td>49439</td>\n",
       "      <td>455011</td>\n",
       "      <td>None</td>\n",
       "      <td>None</td>\n",
       "      <td>None</td>\n",
       "    </tr>\n",
       "    <tr>\n",
       "      <th>211</th>\n",
       "      <td>312622</td>\n",
       "      <td>1999 Seattle WTO protests</td>\n",
       "      <td>civil conflict</td>\n",
       "      <td>34016</td>\n",
       "      <td>398686</td>\n",
       "      <td>None</td>\n",
       "      <td>None</td>\n",
       "      <td>None</td>\n",
       "    </tr>\n",
       "    <tr>\n",
       "      <th>323</th>\n",
       "      <td>251783</td>\n",
       "      <td>Nika riots</td>\n",
       "      <td>civil conflict</td>\n",
       "      <td>13364</td>\n",
       "      <td>362257</td>\n",
       "      <td>None</td>\n",
       "      <td>None</td>\n",
       "      <td>None</td>\n",
       "    </tr>\n",
       "    <tr>\n",
       "      <th>60</th>\n",
       "      <td>1372487</td>\n",
       "      <td>May 1998 riots of Indonesia</td>\n",
       "      <td>civil conflict</td>\n",
       "      <td>59790</td>\n",
       "      <td>321061</td>\n",
       "      <td>None</td>\n",
       "      <td>+1998-05-15T00:00:00Z</td>\n",
       "      <td>None</td>\n",
       "    </tr>\n",
       "    <tr>\n",
       "      <th>61</th>\n",
       "      <td>56158430</td>\n",
       "      <td>2017–18 Iranian protests</td>\n",
       "      <td>civil conflict</td>\n",
       "      <td>112262</td>\n",
       "      <td>314142</td>\n",
       "      <td>+30</td>\n",
       "      <td>None</td>\n",
       "      <td>None</td>\n",
       "    </tr>\n",
       "    <tr>\n",
       "      <th>33</th>\n",
       "      <td>40475853</td>\n",
       "      <td>2013 Muzaffarnagar riots</td>\n",
       "      <td>civil conflict</td>\n",
       "      <td>48664</td>\n",
       "      <td>304002</td>\n",
       "      <td>None</td>\n",
       "      <td>None</td>\n",
       "      <td>None</td>\n",
       "    </tr>\n",
       "    <tr>\n",
       "      <th>27</th>\n",
       "      <td>53074396</td>\n",
       "      <td>2017 Berkeley protests</td>\n",
       "      <td>civil conflict</td>\n",
       "      <td>45527</td>\n",
       "      <td>298844</td>\n",
       "      <td>None</td>\n",
       "      <td>None</td>\n",
       "      <td>None</td>\n",
       "    </tr>\n",
       "    <tr>\n",
       "      <th>43</th>\n",
       "      <td>48303468</td>\n",
       "      <td>Rojava conflict</td>\n",
       "      <td>civil conflict</td>\n",
       "      <td>71909</td>\n",
       "      <td>292451</td>\n",
       "      <td>None</td>\n",
       "      <td>None</td>\n",
       "      <td>[Al-Hasakah Governorate (Q233914), Aleppo Gove...</td>\n",
       "    </tr>\n",
       "    <tr>\n",
       "      <th>198</th>\n",
       "      <td>39540142</td>\n",
       "      <td>Gezi Park protests</td>\n",
       "      <td>civil conflict</td>\n",
       "      <td>200699</td>\n",
       "      <td>265121</td>\n",
       "      <td>+11</td>\n",
       "      <td>None</td>\n",
       "      <td>None</td>\n",
       "    </tr>\n",
       "    <tr>\n",
       "      <th>87</th>\n",
       "      <td>1230197</td>\n",
       "      <td>1981 Brixton riot</td>\n",
       "      <td>civil conflict</td>\n",
       "      <td>21890</td>\n",
       "      <td>259610</td>\n",
       "      <td>None</td>\n",
       "      <td>+1981-04-11T00:00:00Z</td>\n",
       "      <td>[South London (Q1394500), Lambeth (Q148349)]</td>\n",
       "    </tr>\n",
       "    <tr>\n",
       "      <th>109</th>\n",
       "      <td>36474617</td>\n",
       "      <td>King assassination riots</td>\n",
       "      <td>civil conflict</td>\n",
       "      <td>41251</td>\n",
       "      <td>258406</td>\n",
       "      <td>None</td>\n",
       "      <td>None</td>\n",
       "      <td>None</td>\n",
       "    </tr>\n",
       "    <tr>\n",
       "      <th>159</th>\n",
       "      <td>1113889</td>\n",
       "      <td>Crown Heights riot</td>\n",
       "      <td>civil conflict</td>\n",
       "      <td>41204</td>\n",
       "      <td>258056</td>\n",
       "      <td>+2</td>\n",
       "      <td>None</td>\n",
       "      <td>None</td>\n",
       "    </tr>\n",
       "    <tr>\n",
       "      <th>280</th>\n",
       "      <td>3052270</td>\n",
       "      <td>2005 French riots</td>\n",
       "      <td>civil conflict</td>\n",
       "      <td>48750</td>\n",
       "      <td>252355</td>\n",
       "      <td>None</td>\n",
       "      <td>None</td>\n",
       "      <td>None</td>\n",
       "    </tr>\n",
       "    <tr>\n",
       "      <th>304</th>\n",
       "      <td>21898839</td>\n",
       "      <td>Tea Party protests</td>\n",
       "      <td>civil conflict</td>\n",
       "      <td>60675</td>\n",
       "      <td>227322</td>\n",
       "      <td>None</td>\n",
       "      <td>None</td>\n",
       "      <td>None</td>\n",
       "    </tr>\n",
       "    <tr>\n",
       "      <th>0</th>\n",
       "      <td>1690078</td>\n",
       "      <td>1967 Newark riots</td>\n",
       "      <td>civil conflict</td>\n",
       "      <td>18540</td>\n",
       "      <td>225656</td>\n",
       "      <td>+26</td>\n",
       "      <td>+1967-07-17T00:00:00Z</td>\n",
       "      <td>[Jersey City (Q26339), Newark (Q25395)]</td>\n",
       "    </tr>\n",
       "    <tr>\n",
       "      <th>100</th>\n",
       "      <td>23505559</td>\n",
       "      <td>July 2009 Ürümqi riots</td>\n",
       "      <td>civil conflict</td>\n",
       "      <td>134058</td>\n",
       "      <td>185255</td>\n",
       "      <td>+197</td>\n",
       "      <td>None</td>\n",
       "      <td>None</td>\n",
       "    </tr>\n",
       "    <tr>\n",
       "      <th>149</th>\n",
       "      <td>23415325</td>\n",
       "      <td>Ole Miss riot of 1962</td>\n",
       "      <td>civil conflict</td>\n",
       "      <td>19934</td>\n",
       "      <td>184146</td>\n",
       "      <td>None</td>\n",
       "      <td>None</td>\n",
       "      <td>None</td>\n",
       "    </tr>\n",
       "    <tr>\n",
       "      <th>137</th>\n",
       "      <td>15485731</td>\n",
       "      <td>1968 Democratic National Convention protest ac...</td>\n",
       "      <td>civil conflict</td>\n",
       "      <td>27136</td>\n",
       "      <td>181614</td>\n",
       "      <td>None</td>\n",
       "      <td>None</td>\n",
       "      <td>None</td>\n",
       "    </tr>\n",
       "    <tr>\n",
       "      <th>246</th>\n",
       "      <td>52912897</td>\n",
       "      <td>2017 pro-jallikattu protests</td>\n",
       "      <td>civil conflict</td>\n",
       "      <td>66932</td>\n",
       "      <td>179095</td>\n",
       "      <td>None</td>\n",
       "      <td>None</td>\n",
       "      <td>None</td>\n",
       "    </tr>\n",
       "    <tr>\n",
       "      <th>...</th>\n",
       "      <td>...</td>\n",
       "      <td>...</td>\n",
       "      <td>...</td>\n",
       "      <td>...</td>\n",
       "      <td>...</td>\n",
       "      <td>...</td>\n",
       "      <td>...</td>\n",
       "      <td>...</td>\n",
       "    </tr>\n",
       "    <tr>\n",
       "      <th>1</th>\n",
       "      <td>39415364</td>\n",
       "      <td>2013 Israeli protests</td>\n",
       "      <td>civil conflict</td>\n",
       "      <td>4431</td>\n",
       "      <td>1812</td>\n",
       "      <td>None</td>\n",
       "      <td>None</td>\n",
       "      <td>None</td>\n",
       "    </tr>\n",
       "    <tr>\n",
       "      <th>174</th>\n",
       "      <td>57808418</td>\n",
       "      <td>2018 Iranian water protests</td>\n",
       "      <td>civil conflict</td>\n",
       "      <td>5329</td>\n",
       "      <td>1690</td>\n",
       "      <td>None</td>\n",
       "      <td>None</td>\n",
       "      <td>None</td>\n",
       "    </tr>\n",
       "    <tr>\n",
       "      <th>180</th>\n",
       "      <td>34304876</td>\n",
       "      <td>2011 Bolivian indigenous rights protests</td>\n",
       "      <td>civil conflict</td>\n",
       "      <td>27620</td>\n",
       "      <td>1559</td>\n",
       "      <td>None</td>\n",
       "      <td>None</td>\n",
       "      <td>None</td>\n",
       "    </tr>\n",
       "    <tr>\n",
       "      <th>66</th>\n",
       "      <td>43282613</td>\n",
       "      <td>2014 Enugu State Broadcasting Service attack</td>\n",
       "      <td>civil conflict</td>\n",
       "      <td>3076</td>\n",
       "      <td>1557</td>\n",
       "      <td>None</td>\n",
       "      <td>None</td>\n",
       "      <td>None</td>\n",
       "    </tr>\n",
       "    <tr>\n",
       "      <th>315</th>\n",
       "      <td>57570985</td>\n",
       "      <td>1996 Derry riots</td>\n",
       "      <td>civil conflict</td>\n",
       "      <td>3709</td>\n",
       "      <td>1388</td>\n",
       "      <td>None</td>\n",
       "      <td>None</td>\n",
       "      <td>None</td>\n",
       "    </tr>\n",
       "    <tr>\n",
       "      <th>83</th>\n",
       "      <td>57568353</td>\n",
       "      <td>2002 Short Strand clashes</td>\n",
       "      <td>civil conflict</td>\n",
       "      <td>8909</td>\n",
       "      <td>1285</td>\n",
       "      <td>None</td>\n",
       "      <td>None</td>\n",
       "      <td>None</td>\n",
       "    </tr>\n",
       "    <tr>\n",
       "      <th>229</th>\n",
       "      <td>50535617</td>\n",
       "      <td>1914 Saint John street railway strike</td>\n",
       "      <td>civil conflict</td>\n",
       "      <td>14249</td>\n",
       "      <td>1135</td>\n",
       "      <td>None</td>\n",
       "      <td>None</td>\n",
       "      <td>None</td>\n",
       "    </tr>\n",
       "    <tr>\n",
       "      <th>346</th>\n",
       "      <td>57501416</td>\n",
       "      <td>2005 Belfast riots</td>\n",
       "      <td>civil conflict</td>\n",
       "      <td>7717</td>\n",
       "      <td>1133</td>\n",
       "      <td>None</td>\n",
       "      <td>None</td>\n",
       "      <td>None</td>\n",
       "    </tr>\n",
       "    <tr>\n",
       "      <th>101</th>\n",
       "      <td>19720840</td>\n",
       "      <td>2002 World Bank Oslo protests</td>\n",
       "      <td>civil conflict</td>\n",
       "      <td>13680</td>\n",
       "      <td>1128</td>\n",
       "      <td>None</td>\n",
       "      <td>None</td>\n",
       "      <td>None</td>\n",
       "    </tr>\n",
       "    <tr>\n",
       "      <th>235</th>\n",
       "      <td>57577330</td>\n",
       "      <td>2013 Belfast riots</td>\n",
       "      <td>civil conflict</td>\n",
       "      <td>6206</td>\n",
       "      <td>1056</td>\n",
       "      <td>None</td>\n",
       "      <td>None</td>\n",
       "      <td>None</td>\n",
       "    </tr>\n",
       "    <tr>\n",
       "      <th>29</th>\n",
       "      <td>50072189</td>\n",
       "      <td>Syrian protests (March–April 2016)</td>\n",
       "      <td>civil conflict</td>\n",
       "      <td>10235</td>\n",
       "      <td>975</td>\n",
       "      <td>None</td>\n",
       "      <td>None</td>\n",
       "      <td>None</td>\n",
       "    </tr>\n",
       "    <tr>\n",
       "      <th>117</th>\n",
       "      <td>53768122</td>\n",
       "      <td>Anacostia Pool riot</td>\n",
       "      <td>civil conflict</td>\n",
       "      <td>10817</td>\n",
       "      <td>962</td>\n",
       "      <td>None</td>\n",
       "      <td>None</td>\n",
       "      <td>None</td>\n",
       "    </tr>\n",
       "    <tr>\n",
       "      <th>210</th>\n",
       "      <td>57931030</td>\n",
       "      <td>December 2013 Stockholm riots</td>\n",
       "      <td>civil conflict</td>\n",
       "      <td>5562</td>\n",
       "      <td>955</td>\n",
       "      <td>None</td>\n",
       "      <td>None</td>\n",
       "      <td>None</td>\n",
       "    </tr>\n",
       "    <tr>\n",
       "      <th>154</th>\n",
       "      <td>5863017</td>\n",
       "      <td>Baxter protests</td>\n",
       "      <td>civil conflict</td>\n",
       "      <td>6672</td>\n",
       "      <td>954</td>\n",
       "      <td>None</td>\n",
       "      <td>None</td>\n",
       "      <td>None</td>\n",
       "    </tr>\n",
       "    <tr>\n",
       "      <th>125</th>\n",
       "      <td>18467680</td>\n",
       "      <td>1967 Buffalo riot</td>\n",
       "      <td>civil conflict</td>\n",
       "      <td>4696</td>\n",
       "      <td>833</td>\n",
       "      <td>None</td>\n",
       "      <td>None</td>\n",
       "      <td>None</td>\n",
       "    </tr>\n",
       "    <tr>\n",
       "      <th>186</th>\n",
       "      <td>58156029</td>\n",
       "      <td>1968 Mauritian riots</td>\n",
       "      <td>civil conflict</td>\n",
       "      <td>4140</td>\n",
       "      <td>797</td>\n",
       "      <td>None</td>\n",
       "      <td>None</td>\n",
       "      <td>None</td>\n",
       "    </tr>\n",
       "    <tr>\n",
       "      <th>339</th>\n",
       "      <td>58207802</td>\n",
       "      <td>1999 Mauritian riots</td>\n",
       "      <td>civil conflict</td>\n",
       "      <td>7839</td>\n",
       "      <td>779</td>\n",
       "      <td>None</td>\n",
       "      <td>None</td>\n",
       "      <td>None</td>\n",
       "    </tr>\n",
       "    <tr>\n",
       "      <th>3</th>\n",
       "      <td>53285609</td>\n",
       "      <td>2017 Anaheim protests</td>\n",
       "      <td>civil conflict</td>\n",
       "      <td>5030</td>\n",
       "      <td>762</td>\n",
       "      <td>None</td>\n",
       "      <td>None</td>\n",
       "      <td>None</td>\n",
       "    </tr>\n",
       "    <tr>\n",
       "      <th>126</th>\n",
       "      <td>55571911</td>\n",
       "      <td>2016 Coimbatore riots</td>\n",
       "      <td>civil conflict</td>\n",
       "      <td>1340</td>\n",
       "      <td>685</td>\n",
       "      <td>None</td>\n",
       "      <td>None</td>\n",
       "      <td>None</td>\n",
       "    </tr>\n",
       "    <tr>\n",
       "      <th>76</th>\n",
       "      <td>58402287</td>\n",
       "      <td>2018 Peruvian agrarian protests</td>\n",
       "      <td>civil conflict</td>\n",
       "      <td>8415</td>\n",
       "      <td>608</td>\n",
       "      <td>None</td>\n",
       "      <td>None</td>\n",
       "      <td>None</td>\n",
       "    </tr>\n",
       "    <tr>\n",
       "      <th>352</th>\n",
       "      <td>57054152</td>\n",
       "      <td>2018 Mrauk U riot</td>\n",
       "      <td>civil conflict</td>\n",
       "      <td>8019</td>\n",
       "      <td>604</td>\n",
       "      <td>None</td>\n",
       "      <td>None</td>\n",
       "      <td>None</td>\n",
       "    </tr>\n",
       "    <tr>\n",
       "      <th>335</th>\n",
       "      <td>53619461</td>\n",
       "      <td>2016 Albuquerque riot</td>\n",
       "      <td>civil conflict</td>\n",
       "      <td>5616</td>\n",
       "      <td>554</td>\n",
       "      <td>None</td>\n",
       "      <td>None</td>\n",
       "      <td>None</td>\n",
       "    </tr>\n",
       "    <tr>\n",
       "      <th>167</th>\n",
       "      <td>55199960</td>\n",
       "      <td>May 1, 2015, Jalisco attacks</td>\n",
       "      <td>civil conflict</td>\n",
       "      <td>140237</td>\n",
       "      <td>494</td>\n",
       "      <td>None</td>\n",
       "      <td>None</td>\n",
       "      <td>None</td>\n",
       "    </tr>\n",
       "    <tr>\n",
       "      <th>91</th>\n",
       "      <td>57361263</td>\n",
       "      <td>VCUarts adjunct workers' protests</td>\n",
       "      <td>civil conflict</td>\n",
       "      <td>7318</td>\n",
       "      <td>488</td>\n",
       "      <td>None</td>\n",
       "      <td>None</td>\n",
       "      <td>None</td>\n",
       "    </tr>\n",
       "    <tr>\n",
       "      <th>281</th>\n",
       "      <td>58192555</td>\n",
       "      <td>Uba riots of 1937</td>\n",
       "      <td>civil conflict</td>\n",
       "      <td>7554</td>\n",
       "      <td>445</td>\n",
       "      <td>None</td>\n",
       "      <td>None</td>\n",
       "      <td>None</td>\n",
       "    </tr>\n",
       "    <tr>\n",
       "      <th>288</th>\n",
       "      <td>57570216</td>\n",
       "      <td>2010 Northern Ireland riots</td>\n",
       "      <td>civil conflict</td>\n",
       "      <td>5154</td>\n",
       "      <td>440</td>\n",
       "      <td>None</td>\n",
       "      <td>None</td>\n",
       "      <td>None</td>\n",
       "    </tr>\n",
       "    <tr>\n",
       "      <th>276</th>\n",
       "      <td>57470570</td>\n",
       "      <td>Howard University sit-ins</td>\n",
       "      <td>civil conflict</td>\n",
       "      <td>2948</td>\n",
       "      <td>345</td>\n",
       "      <td>None</td>\n",
       "      <td>None</td>\n",
       "      <td>None</td>\n",
       "    </tr>\n",
       "    <tr>\n",
       "      <th>59</th>\n",
       "      <td>58497945</td>\n",
       "      <td>2018 attack on the Iran Embassy in France</td>\n",
       "      <td>civil conflict</td>\n",
       "      <td>4490</td>\n",
       "      <td>341</td>\n",
       "      <td>None</td>\n",
       "      <td>None</td>\n",
       "      <td>None</td>\n",
       "    </tr>\n",
       "    <tr>\n",
       "      <th>284</th>\n",
       "      <td>53621616</td>\n",
       "      <td>2016 Costa Mesa protests</td>\n",
       "      <td>civil conflict</td>\n",
       "      <td>4514</td>\n",
       "      <td>311</td>\n",
       "      <td>None</td>\n",
       "      <td>None</td>\n",
       "      <td>None</td>\n",
       "    </tr>\n",
       "    <tr>\n",
       "      <th>161</th>\n",
       "      <td>57567086</td>\n",
       "      <td>2001 South Armagh attacks</td>\n",
       "      <td>civil conflict</td>\n",
       "      <td>3197</td>\n",
       "      <td>247</td>\n",
       "      <td>None</td>\n",
       "      <td>None</td>\n",
       "      <td>None</td>\n",
       "    </tr>\n",
       "  </tbody>\n",
       "</table>\n",
       "<p>356 rows × 8 columns</p>\n",
       "</div>"
      ],
      "text/plain": [
       "           id                                              title  \\\n",
       "73      44534                  Tiananmen Square protests of 1989   \n",
       "54    1553191                             1992 Los Angeles riots   \n",
       "350   6356686                                 2002 Gujarat riots   \n",
       "48     319973                                  1967 Detroit riot   \n",
       "262    266455                          New York City draft riots   \n",
       "258    340330                                        Watts riots   \n",
       "220  51676196       U.S. national anthem protests (2016–present)   \n",
       "185  51439308                    Dakota Access Pipeline protests   \n",
       "153   2298023                     Sinking of the Rainbow Warrior   \n",
       "254    692884                                   Gwangju Uprising   \n",
       "268  43971623                            2014 Hong Kong protests   \n",
       "199   3409267                                2005 Cronulla riots   \n",
       "211    312622                          1999 Seattle WTO protests   \n",
       "323    251783                                         Nika riots   \n",
       "60    1372487                        May 1998 riots of Indonesia   \n",
       "61   56158430                           2017–18 Iranian protests   \n",
       "33   40475853                           2013 Muzaffarnagar riots   \n",
       "27   53074396                             2017 Berkeley protests   \n",
       "43   48303468                                    Rojava conflict   \n",
       "198  39540142                                 Gezi Park protests   \n",
       "87    1230197                                  1981 Brixton riot   \n",
       "109  36474617                           King assassination riots   \n",
       "159   1113889                                 Crown Heights riot   \n",
       "280   3052270                                  2005 French riots   \n",
       "304  21898839                                 Tea Party protests   \n",
       "0     1690078                                  1967 Newark riots   \n",
       "100  23505559                             July 2009 Ürümqi riots   \n",
       "149  23415325                              Ole Miss riot of 1962   \n",
       "137  15485731  1968 Democratic National Convention protest ac...   \n",
       "246  52912897                       2017 pro-jallikattu protests   \n",
       "..        ...                                                ...   \n",
       "1    39415364                              2013 Israeli protests   \n",
       "174  57808418                        2018 Iranian water protests   \n",
       "180  34304876           2011 Bolivian indigenous rights protests   \n",
       "66   43282613       2014 Enugu State Broadcasting Service attack   \n",
       "315  57570985                                   1996 Derry riots   \n",
       "83   57568353                          2002 Short Strand clashes   \n",
       "229  50535617              1914 Saint John street railway strike   \n",
       "346  57501416                                 2005 Belfast riots   \n",
       "101  19720840                      2002 World Bank Oslo protests   \n",
       "235  57577330                                 2013 Belfast riots   \n",
       "29   50072189                 Syrian protests (March–April 2016)   \n",
       "117  53768122                                Anacostia Pool riot   \n",
       "210  57931030                      December 2013 Stockholm riots   \n",
       "154   5863017                                    Baxter protests   \n",
       "125  18467680                                  1967 Buffalo riot   \n",
       "186  58156029                               1968 Mauritian riots   \n",
       "339  58207802                               1999 Mauritian riots   \n",
       "3    53285609                              2017 Anaheim protests   \n",
       "126  55571911                              2016 Coimbatore riots   \n",
       "76   58402287                    2018 Peruvian agrarian protests   \n",
       "352  57054152                                  2018 Mrauk U riot   \n",
       "335  53619461                              2016 Albuquerque riot   \n",
       "167  55199960                       May 1, 2015, Jalisco attacks   \n",
       "91   57361263                  VCUarts adjunct workers' protests   \n",
       "281  58192555                                  Uba riots of 1937   \n",
       "288  57570216                        2010 Northern Ireland riots   \n",
       "276  57470570                          Howard University sit-ins   \n",
       "59   58497945          2018 attack on the Iran Embassy in France   \n",
       "284  53621616                           2016 Costa Mesa protests   \n",
       "161  57567086                          2001 South Armagh attacks   \n",
       "\n",
       "                         categories  article_lenght    views death  \\\n",
       "73          civil conflict, Chinese          195805  6554664  None   \n",
       "54                   civil conflict          117557  3497439  None   \n",
       "350                  civil conflict          126102  1587209  None   \n",
       "48                   civil conflict           95893  1447723   +43   \n",
       "262                  civil conflict           45219   917880  None   \n",
       "258                  civil conflict           34862   914726   +34   \n",
       "220                  civil conflict           89338   842074  None   \n",
       "185                  civil conflict          129707   838764  None   \n",
       "153                  civil conflict           31420   618907    +1   \n",
       "254                  civil conflict           34856   524044  +606   \n",
       "268  civil conflict, | subbox = yes          229612   483871  None   \n",
       "199                  civil conflict           49439   455011  None   \n",
       "211                  civil conflict           34016   398686  None   \n",
       "323                  civil conflict           13364   362257  None   \n",
       "60                   civil conflict           59790   321061  None   \n",
       "61                   civil conflict          112262   314142   +30   \n",
       "33                   civil conflict           48664   304002  None   \n",
       "27                   civil conflict           45527   298844  None   \n",
       "43                   civil conflict           71909   292451  None   \n",
       "198                  civil conflict          200699   265121   +11   \n",
       "87                   civil conflict           21890   259610  None   \n",
       "109                  civil conflict           41251   258406  None   \n",
       "159                  civil conflict           41204   258056    +2   \n",
       "280                  civil conflict           48750   252355  None   \n",
       "304                  civil conflict           60675   227322  None   \n",
       "0                    civil conflict           18540   225656   +26   \n",
       "100                  civil conflict          134058   185255  +197   \n",
       "149                  civil conflict           19934   184146  None   \n",
       "137                  civil conflict           27136   181614  None   \n",
       "246                  civil conflict           66932   179095  None   \n",
       "..                              ...             ...      ...   ...   \n",
       "1                    civil conflict            4431     1812  None   \n",
       "174                  civil conflict            5329     1690  None   \n",
       "180                  civil conflict           27620     1559  None   \n",
       "66                   civil conflict            3076     1557  None   \n",
       "315                  civil conflict            3709     1388  None   \n",
       "83                   civil conflict            8909     1285  None   \n",
       "229                  civil conflict           14249     1135  None   \n",
       "346                  civil conflict            7717     1133  None   \n",
       "101                  civil conflict           13680     1128  None   \n",
       "235                  civil conflict            6206     1056  None   \n",
       "29                   civil conflict           10235      975  None   \n",
       "117                  civil conflict           10817      962  None   \n",
       "210                  civil conflict            5562      955  None   \n",
       "154                  civil conflict            6672      954  None   \n",
       "125                  civil conflict            4696      833  None   \n",
       "186                  civil conflict            4140      797  None   \n",
       "339                  civil conflict            7839      779  None   \n",
       "3                    civil conflict            5030      762  None   \n",
       "126                  civil conflict            1340      685  None   \n",
       "76                   civil conflict            8415      608  None   \n",
       "352                  civil conflict            8019      604  None   \n",
       "335                  civil conflict            5616      554  None   \n",
       "167                  civil conflict          140237      494  None   \n",
       "91                   civil conflict            7318      488  None   \n",
       "281                  civil conflict            7554      445  None   \n",
       "288                  civil conflict            5154      440  None   \n",
       "276                  civil conflict            2948      345  None   \n",
       "59                   civil conflict            4490      341  None   \n",
       "284                  civil conflict            4514      311  None   \n",
       "161                  civil conflict            3197      247  None   \n",
       "\n",
       "                  end_date                                           location  \n",
       "73                    None                                               None  \n",
       "54                    None                                               None  \n",
       "350                   None                                               None  \n",
       "48                    None                                               None  \n",
       "262                   None                                               None  \n",
       "258  +1965-08-16T00:00:00Z                                               None  \n",
       "220                   None                                               None  \n",
       "185                   None                                               None  \n",
       "153                   None                                               None  \n",
       "254                   None                                               None  \n",
       "268                   None                                               None  \n",
       "199                   None                                               None  \n",
       "211                   None                                               None  \n",
       "323                   None                                               None  \n",
       "60   +1998-05-15T00:00:00Z                                               None  \n",
       "61                    None                                               None  \n",
       "33                    None                                               None  \n",
       "27                    None                                               None  \n",
       "43                    None  [Al-Hasakah Governorate (Q233914), Aleppo Gove...  \n",
       "198                   None                                               None  \n",
       "87   +1981-04-11T00:00:00Z       [South London (Q1394500), Lambeth (Q148349)]  \n",
       "109                   None                                               None  \n",
       "159                   None                                               None  \n",
       "280                   None                                               None  \n",
       "304                   None                                               None  \n",
       "0    +1967-07-17T00:00:00Z            [Jersey City (Q26339), Newark (Q25395)]  \n",
       "100                   None                                               None  \n",
       "149                   None                                               None  \n",
       "137                   None                                               None  \n",
       "246                   None                                               None  \n",
       "..                     ...                                                ...  \n",
       "1                     None                                               None  \n",
       "174                   None                                               None  \n",
       "180                   None                                               None  \n",
       "66                    None                                               None  \n",
       "315                   None                                               None  \n",
       "83                    None                                               None  \n",
       "229                   None                                               None  \n",
       "346                   None                                               None  \n",
       "101                   None                                               None  \n",
       "235                   None                                               None  \n",
       "29                    None                                               None  \n",
       "117                   None                                               None  \n",
       "210                   None                                               None  \n",
       "154                   None                                               None  \n",
       "125                   None                                               None  \n",
       "186                   None                                               None  \n",
       "339                   None                                               None  \n",
       "3                     None                                               None  \n",
       "126                   None                                               None  \n",
       "76                    None                                               None  \n",
       "352                   None                                               None  \n",
       "335                   None                                               None  \n",
       "167                   None                                               None  \n",
       "91                    None                                               None  \n",
       "281                   None                                               None  \n",
       "288                   None                                               None  \n",
       "276                   None                                               None  \n",
       "59                    None                                               None  \n",
       "284                   None                                               None  \n",
       "161                   None                                               None  \n",
       "\n",
       "[356 rows x 8 columns]"
      ]
     },
     "execution_count": 31,
     "metadata": {},
     "output_type": "execute_result"
    }
   ],
   "source": [
    "popularity_civil_conflict_pd.sort_values(by='views', ascending=False)"
   ]
  },
  {
   "cell_type": "code",
   "execution_count": 6,
   "metadata": {},
   "outputs": [
    {
     "data": {
      "image/png": "[encoded data removed]",
      "text/plain": [
       "<Figure size 720x360 with 6 Axes>"
      ]
     },
     "metadata": {
      "needs_background": "light"
     },
     "output_type": "display_data"
    }
   ],
   "source": [
    "sns.pairplot(data=popularity_civil_conflict_pd, vars=['article_lenght', 'views'], aspect=2);"
   ]
  },
  {
   "cell_type": "code",
   "execution_count": 28,
   "metadata": {},
   "outputs": [
    {
     "name": "stderr",
     "output_type": "stream",
     "text": [
      "/Users/nasrine/miniconda3/envs/ada/lib/python3.6/site-packages/sklearn/preprocessing/data.py:323: DataConversionWarning: Data with input dtype int32, int64 were all converted to float64 by MinMaxScaler.\n",
      "  return self.partial_fit(X, y)\n"
     ]
    }
   ],
   "source": [
    "from sklearn import preprocessing\n",
    "min_max_scaler = preprocessing.MinMaxScaler(feature_range=(-1,1))\n",
    "popularity_civil_conflict_pd_minmax = min_max_scaler.fit_transform(popularity_civil_conflict_pd[['article_lenght', 'views']])"
   ]
  },
  {
   "cell_type": "code",
   "execution_count": 29,
   "metadata": {},
   "outputs": [
    {
     "data": {
      "text/plain": [
       "array([[-0.86529297, -0.93121921],\n",
       "       [-0.97579189, -0.99952246],\n",
       "       [-0.46692042, -0.99408277],\n",
       "       [-0.97110064, -0.99984285],\n",
       "       [-0.69258602, -0.98332087],\n",
       "       [-0.644906  , -0.99471776],\n",
       "       [-0.86462726, -0.98371388],\n",
       "       [-0.15273193, -0.9846891 ],\n",
       "       [-0.82126257, -0.99887252],\n",
       "       [-0.26306639, -0.99673381],\n",
       "       [-0.83431035, -0.99934792],\n",
       "       [-0.97041144, -0.99931008],\n",
       "       [-0.77915879, -0.9889946 ],\n",
       "       [-0.25917398, -0.99728092],\n",
       "       [-0.91968485, -0.99814995],\n",
       "       [-0.66475962, -0.97829372],\n",
       "       [-0.94144943, -0.99540096],\n",
       "       [-0.92694493, -0.99621538],\n",
       "       [-0.81942992, -0.99748109],\n",
       "       [-0.99024157, -0.99067957],\n",
       "       [-0.79400789, -0.99141312],\n",
       "       [ 1.        , -0.99296902],\n",
       "       [-0.34629497, -0.98036683],\n",
       "       [-0.72065521, -0.99271179],\n",
       "       [-0.94516171, -0.99605915],\n",
       "       [-0.77503143, -0.98292937],\n",
       "       [-0.95420744, -0.99943794],\n",
       "       [-0.65393607, -0.90888679],\n",
       "       [-0.96637023, -0.99504609],\n",
       "       [-0.9303361 , -0.99977786],\n",
       "       [-0.79224573, -0.99282652],\n",
       "       [-0.89873477, -0.99709082],\n",
       "       [-0.9380426 , -0.99272948],\n",
       "       [-0.6293677 , -0.90731289],\n",
       "       [-0.85186926, -0.99793483],\n",
       "       [-0.96545391, -0.99884048],\n",
       "       [-0.84660628, -0.99393081],\n",
       "       [-0.6660597 , -0.96451218],\n",
       "       [-0.90028547, -0.99394912],\n",
       "       [-0.81104989, -0.96085083],\n",
       "       [-0.89646355, -0.99931924],\n",
       "       [-0.93678168, -0.99770781],\n",
       "       [-0.96841433, -0.99771543],\n",
       "       [-0.44731741, -0.91083753],\n",
       "       [-0.90781183, -0.98851492],\n",
       "       [-0.92938062, -0.99763549],\n",
       "       [-0.84443687, -0.99629136],\n",
       "       [-0.94622683, -0.99854114],\n",
       "       [-0.25947942, -0.55832044],\n",
       "       [-0.8080973 , -0.98136341],\n",
       "       [-0.92677263, -0.99715123],\n",
       "       [-0.90634729, -0.99817406],\n",
       "       [-0.41175319, -0.98155809],\n",
       "       [-0.41369548, -0.99577415],\n",
       "       [-0.08981121,  0.06712527],\n",
       "       [-0.96915836, -0.99893385],\n",
       "       [-0.87122948, -0.99497713],\n",
       "       [-0.86491704, -0.99726749],\n",
       "       [-0.88447306, -0.99597981],\n",
       "       [-0.97532982, -0.99997132],\n",
       "       [-0.54223105, -0.90210754],\n",
       "       [-0.13128062, -0.90421879],\n",
       "       [-0.81990766, -0.94615875],\n",
       "       [-0.91710035, -0.99950354],\n",
       "       [-0.9778125 , -0.99795893],\n",
       "       [-0.93227839, -0.99702948],\n",
       "       [-0.98640399, -0.99960027],\n",
       "       [-0.98578528, -0.99758606],\n",
       "       [-0.96861013, -0.99711096],\n",
       "       [-0.87276451, -0.99232731],\n",
       "       [-0.77095889, -0.99271941],\n",
       "       [-0.96972225, -0.99661236],\n",
       "       [-0.71259628, -0.97982185],\n",
       "       [ 0.5230118 ,  1.        ],\n",
       "       [-0.77857923, -0.98377888],\n",
       "       [-0.67833214, -0.98703592],\n",
       "       [-0.94458999, -0.99988985],\n",
       "       [-0.85936429, -0.97959178],\n",
       "       [-0.93829321, -0.99466192],\n",
       "       [-0.8741899 , -0.99681985],\n",
       "       [-0.90640211, -0.9923145 ],\n",
       "       [-0.49194303, -0.98459604],\n",
       "       [-0.90243138, -0.99544185],\n",
       "       [-0.94072107, -0.99968327],\n",
       "       [-0.93440081, -0.9749845 ],\n",
       "       [-0.92243381, -0.99268982],\n",
       "       [-0.93957763, -0.99940498],\n",
       "       [-0.83905642, -0.92085856],\n",
       "       [-0.82907871, -0.99197549],\n",
       "       [-0.77626885, -0.99853809],\n",
       "       [-0.89501467, -0.99155897],\n",
       "       [-0.95318147, -0.99992646],\n",
       "       [-0.93696181, -0.95475051],\n",
       "       [-0.73956118, -0.9573747 ],\n",
       "       [-0.34697634, -0.98824731],\n",
       "       [-0.82418383, -0.99907421],\n",
       "       [-0.97308992, -0.99876755],\n",
       "       [-0.94511472, -0.99854022],\n",
       "       [-0.94244407, -0.99815636],\n",
       "       [ 0.07475849, -0.95619046],\n",
       "       [ 0.03942139, -0.94354708],\n",
       "       [-0.90335554, -0.99973117],\n",
       "       [-0.36643054, -0.99667888],\n",
       "       [-0.91074093, -0.99789913],\n",
       "       [-0.98737513, -0.9994062 ],\n",
       "       [-0.86382059, -0.98779357],\n",
       "       [ 0.48996159, -0.9922849 ],\n",
       "       [-0.84727199, -0.9791594 ],\n",
       "       [-0.94148859, -0.99878189],\n",
       "       [-0.68742486, -0.92122595],\n",
       "       [-0.84066978, -0.99757995],\n",
       "       [-0.59321609, -0.98314083],\n",
       "       [-0.72612181, -0.99543453],\n",
       "       [-0.77543085, -0.99308466],\n",
       "       [-0.96135788, -0.99558771],\n",
       "       [-0.87480861, -0.99521147],\n",
       "       [-0.86314705, -0.99370714],\n",
       "       [-0.92577799, -0.99978183],\n",
       "       [-0.60963155, -0.97169176],\n",
       "       [-0.96434963, -0.99925821],\n",
       "       [-0.82708943, -0.99753815],\n",
       "       [-0.98041266, -0.99640792],\n",
       "       [-0.87209881, -0.98974737],\n",
       "       [-0.89629125, -0.98891435],\n",
       "       [-0.70407528, -0.99061732],\n",
       "       [-0.97371647, -0.99982119],\n",
       "       [-1.        , -0.99986635],\n",
       "       [-0.72134441, -0.99309138],\n",
       "       [-0.31256339, -0.98703012],\n",
       "       [-0.9808904 , -0.9954626 ],\n",
       "       [-0.5783435 , -0.99776609],\n",
       "       [-0.26653588, -0.96084289],\n",
       "       [-0.88339227, -0.97734688],\n",
       "       [-0.90688768, -0.99949713],\n",
       "       [-0.7355748 , -0.98840629],\n",
       "       [-0.96579851, -0.99673503],\n",
       "       [-0.95697207, -0.99765258],\n",
       "       [-0.79797078, -0.94465808],\n",
       "       [-0.93979692, -0.99411633],\n",
       "       [-0.73495608, -0.99781888],\n",
       "       [-0.9677173 , -0.99943427],\n",
       "       [-0.65046658, -0.98580835],\n",
       "       [-0.73879367, -0.99332938],\n",
       "       [-0.92406283, -0.99518859],\n",
       "       [-0.88844378, -0.99445138],\n",
       "       [-0.59681872, -0.99636642],\n",
       "       [-0.87864619, -0.99625108],\n",
       "       [-0.79386691, -0.99669231],\n",
       "       [-0.71042687, -0.99752716],\n",
       "       [-0.85437543, -0.94388547],\n",
       "       [-0.89075416, -0.99140366],\n",
       "       [-0.9600343 , -0.99855609],\n",
       "       [-0.7836934 , -0.95833192],\n",
       "       [-0.76441933, -0.81122348],\n",
       "       [-0.95824082, -0.99978427],\n",
       "       [-0.94251456, -0.99808587],\n",
       "       [-0.9561184 , -0.99582266],\n",
       "       [-0.90702082, -0.99908245],\n",
       "       [-0.90604185, -0.99574913],\n",
       "       [-0.68779296, -0.92133274],\n",
       "       [-0.74692308, -0.99056941],\n",
       "       [-0.98545634, -1.        ],\n",
       "       [-0.98866738, -0.99224584],\n",
       "       [-0.89221871, -0.99486331],\n",
       "       [-0.93314772, -0.99494173],\n",
       "       [-0.86559841, -0.99746888],\n",
       "       [-0.96962043, -0.99411633],\n",
       "       [ 0.0878141 , -0.99992463],\n",
       "       [-0.87526285, -0.9791179 ],\n",
       "       [-0.77270538, -0.99231541],\n",
       "       [-0.9631357 , -0.99893537],\n",
       "       [-0.91294166, -0.96526648],\n",
       "       [-0.88068246, -0.99420025],\n",
       "       [-0.88592194, -0.99737185],\n",
       "       [-0.96875893, -0.99955969],\n",
       "       [ 0.29442493, -0.99475956],\n",
       "       [-0.94716665, -0.99546413],\n",
       "       [-0.8007589 , -0.98760653],\n",
       "       [-0.92514362, -0.99644392],\n",
       "       [-0.62061174, -0.96149986],\n",
       "       [-0.79418019, -0.99959966],\n",
       "       [-0.91608222, -0.99143112],\n",
       "       [-0.93870047, -0.99491641],\n",
       "       [-0.77457718, -0.97370598],\n",
       "       [-0.91285551, -0.99461676],\n",
       "       [ 0.00534521, -0.74413682],\n",
       "       [-0.97807095, -0.99983217],\n",
       "       [-0.95094158, -0.99914531],\n",
       "       [-0.75973591, -0.99875748],\n",
       "       [-0.91400679, -0.99538388],\n",
       "       [-0.88181024, -0.99693703],\n",
       "       [-0.93502735, -0.99348378],\n",
       "       [-0.91242477, -0.99462897],\n",
       "       [-0.95745764, -0.99769133],\n",
       "       [-0.89129456, -0.99601887],\n",
       "       [-0.99005361, -0.9970841 ],\n",
       "       [-0.57260278, -0.97667649],\n",
       "       [-0.96236818, -0.99904248],\n",
       "       [ 0.56134065, -0.91917695],\n",
       "       [-0.62329805, -0.86123434],\n",
       "       [-0.8775889 , -0.99719914],\n",
       "       [-0.92813536, -0.98419631],\n",
       "       [-0.8700782 , -0.95680928],\n",
       "       [-0.37364363, -0.9871122 ],\n",
       "       [-0.84236928, -0.99503816],\n",
       "       [-0.97192298, -0.99777799],\n",
       "       [-0.8024584 , -0.9878189 ],\n",
       "       [-0.9733562 , -0.99874741],\n",
       "       [-0.95829564, -0.9969767 ],\n",
       "       [-0.95488881, -0.9902481 ],\n",
       "       [-0.96693412, -0.99978396],\n",
       "       [-0.74408797, -0.87842122],\n",
       "       [-0.8782781 , -0.99424876],\n",
       "       [-0.96778779, -0.99620592],\n",
       "       [-0.76972929, -0.97624106],\n",
       "       [-0.82624359, -0.99726322],\n",
       "       [-0.83059808, -0.99246005],\n",
       "       [-0.95035419, -0.99897535],\n",
       "       [-0.9928339 , -0.99882827],\n",
       "       [-0.88697923, -0.99329185],\n",
       "       [-0.3108169 , -0.74312681],\n",
       "       [-0.93517616, -0.99835226],\n",
       "       [-0.36274959, -0.99434915],\n",
       "       [-0.17867086, -0.99920847],\n",
       "       [-0.73154142, -0.98614431],\n",
       "       [-0.95072229, -0.99496187],\n",
       "       [-0.96108377, -0.9971372 ],\n",
       "       [-0.97923006, -0.99900952],\n",
       "       [-0.91420259, -0.97382803],\n",
       "       [-0.89889924, -0.99972904],\n",
       "       [-0.88617256, -0.99707831],\n",
       "       [-0.65156303, -0.94984115],\n",
       "       [-0.97602685, -0.99949408],\n",
       "       [-0.65988824, -0.99561975],\n",
       "       [-0.83126378, -0.99174419],\n",
       "       [-0.96189044, -0.99975314],\n",
       "       [-0.93006199, -0.99538205],\n",
       "       [-0.91552616, -0.99529508],\n",
       "       [-0.87159757, -0.95021037],\n",
       "       [-0.80325725, -0.97801025],\n",
       "       [-0.90531349, -0.99928964],\n",
       "       [-0.75841234, -0.96179035],\n",
       "       [-0.92038188, -0.99559656],\n",
       "       [-0.62896828, -0.98409836],\n",
       "       [-0.82133305, -0.99226049],\n",
       "       [-0.68794959, -0.99113636],\n",
       "       [-0.4862963 , -0.94542673],\n",
       "       [-0.91884685, -0.96948684],\n",
       "       [-0.95925895, -0.9964482 ],\n",
       "       [-0.96804624, -0.9991688 ],\n",
       "       [-0.76766953, -0.96799471],\n",
       "       [-0.90084936, -0.99186686],\n",
       "       [-0.72612181, -0.97081602],\n",
       "       [-0.69172452, -0.97630666],\n",
       "       [-0.73750925, -0.84016977],\n",
       "       [-0.98213565, -0.99940101],\n",
       "       [-0.97447615, -0.99858935],\n",
       "       [-0.22526227, -0.94632505],\n",
       "       [-0.73746226, -0.72095794],\n",
       "       [-0.90928421, -0.99286527],\n",
       "       [-0.94294531, -0.99615923],\n",
       "       [-0.83613516, -0.99342672],\n",
       "       [-0.65634826, -0.71999554],\n",
       "       [ 0.83514052, -0.96324097],\n",
       "       [-0.94131629, -0.99885421],\n",
       "       [-0.97668472, -0.99845326],\n",
       "       [ 0.29432312, -0.97737861],\n",
       "       [-0.75029859, -0.9898383 ],\n",
       "       [ 0.7877816 , -0.85242806],\n",
       "       [ 0.44792829, -0.98415206],\n",
       "       [-0.83494473, -0.95381252],\n",
       "       [-0.9846105 , -0.99643324],\n",
       "       [-0.98144646, -0.99830862],\n",
       "       [-0.94443335, -0.99711218],\n",
       "       [-0.82321268, -0.97644184],\n",
       "       [-0.97348151, -0.98863087],\n",
       "       [-0.98740646, -0.9999701 ],\n",
       "       [-0.90049693, -0.99291775],\n",
       "       [-0.89311154, -0.99650373],\n",
       "       [-0.96097412, -0.99409223],\n",
       "       [-0.62869416, -0.92307233],\n",
       "       [-0.95133317, -0.99993958],\n",
       "       [-0.78396751, -0.99753235],\n",
       "       [-0.91307481, -0.99730655],\n",
       "       [-0.97514185, -0.99998047],\n",
       "       [-0.94890531, -0.98474586],\n",
       "       [-0.85273859, -0.99371508],\n",
       "       [-0.80707917, -0.98383655],\n",
       "       [-0.9701295 , -0.99994111],\n",
       "       [-0.92769678, -0.99435404],\n",
       "       [-0.85690511, -0.99605365],\n",
       "       [-0.89717624, -0.99457557],\n",
       "       [-0.93499603, -0.99624803],\n",
       "       [-0.99201939, -0.99916423],\n",
       "       [-0.95667446, -0.99913097],\n",
       "       [-0.93783897, -0.99141709],\n",
       "       [-0.93129941, -0.99571495],\n",
       "       [-0.62083103, -0.99456794],\n",
       "       [-0.78784426, -0.96977702],\n",
       "       [-0.97323873, -0.99897565],\n",
       "       [-0.78109324, -0.99870316],\n",
       "       [-0.91702987, -0.99527555],\n",
       "       [-0.86158069, -0.99310145],\n",
       "       [-0.94628166, -0.9988893 ],\n",
       "       [-0.5352999 , -0.93071085],\n",
       "       [-0.96304172, -0.99881576],\n",
       "       [-0.58139007, -0.9856451 ],\n",
       "       [-0.95092592, -0.98634753],\n",
       "       [-0.98540152, -0.99935982],\n",
       "       [-0.91293383, -0.99651502],\n",
       "       [-0.85891005, -0.99877701],\n",
       "       [-0.92472853, -0.98871387],\n",
       "       [-0.95940776, -0.9974579 ],\n",
       "       [-0.42950789, -0.98866261],\n",
       "       [-0.96137354, -0.99890364],\n",
       "       [-0.98144646, -0.99965184],\n",
       "       [-0.41335871, -0.98129139],\n",
       "       [-0.81565499, -0.97517003],\n",
       "       [-0.5419491 , -0.99226232],\n",
       "       [-0.50280574, -0.96708693],\n",
       "       [-0.95780224, -0.98945352],\n",
       "       [-0.92186209, -0.99227239],\n",
       "       [-0.90219643, -0.99294766],\n",
       "       [-0.90583039, -0.88953709],\n",
       "       [-0.98931742, -0.99884841],\n",
       "       [-0.73869969, -0.99467718],\n",
       "       [-0.86643641, -0.99750794],\n",
       "       [-0.84030168, -0.97386556],\n",
       "       [-0.20934804, -0.94612824],\n",
       "       [-0.95716786, -0.99344534],\n",
       "       [-0.98337308, -0.99928659],\n",
       "       [-0.99118922, -0.99521117],\n",
       "       [-0.84772623, -0.9952963 ],\n",
       "       [-0.87222411, -0.9944053 ],\n",
       "       [-0.56390948, -0.99784024],\n",
       "       [-0.96651121, -0.99990632],\n",
       "       [-0.95152113, -0.99815849],\n",
       "       [-0.90701299, -0.98873981],\n",
       "       [-0.87195783, -0.95665885],\n",
       "       [-0.9491011 , -0.99983767],\n",
       "       [-0.81793405, -0.99145126],\n",
       "       [-0.46860426, -0.97533602],\n",
       "       [-0.88128551, -0.99240421],\n",
       "       [-0.69580489, -0.9901352 ],\n",
       "       [-0.9914555 , -0.99786434],\n",
       "       [-0.96037107, -0.99771086],\n",
       "       [-0.95005658, -0.99972965],\n",
       "       [-0.74713454, -0.99766936],\n",
       "       [-0.85865943, -0.99750641],\n",
       "       [-0.9151659 , -0.98875079],\n",
       "       [-0.02288845, -0.515758  ],\n",
       "       [-0.9171865 , -0.99778714],\n",
       "       [-0.94769138, -0.99989107],\n",
       "       [-0.941935  , -0.99943794],\n",
       "       [-0.93559124, -0.98711251],\n",
       "       [-0.83154572, -0.99665508]])"
      ]
     },
     "execution_count": 29,
     "metadata": {},
     "output_type": "execute_result"
    }
   ],
   "source": [
    "popularity_civil_conflict_pd_minmax"
   ]
  },
  {
   "cell_type": "code",
   "execution_count": 30,
   "metadata": {},
   "outputs": [
    {
     "data": {
      "image/png": "[encoded data removed]",
      "text/plain": [
       "<Figure size 360x360 with 6 Axes>"
      ]
     },
     "metadata": {
      "needs_background": "light"
     },
     "output_type": "display_data"
    }
   ],
   "source": [
    "#popularity_civil_conflict_pd_minmax\n",
    "sns.pairplot(pd.DataFrame(popularity_civil_conflict_pd_minmax, columns=[['article_lenght', 'views']]));"
   ]
  },
  {
   "cell_type": "code",
   "execution_count": 24,
   "metadata": {},
   "outputs": [],
   "source": [
    "X_normalized = preprocessing.normalize(popularity_civil_conflict_pd[['article_lenght', 'views']], norm='l1')"
   ]
  },
  {
   "cell_type": "code",
   "execution_count": 21,
   "metadata": {},
   "outputs": [
    {
     "data": {
      "image/png": "[encoded data removed]",
      "text/plain": [
       "<Figure size 360x360 with 6 Axes>"
      ]
     },
     "metadata": {
      "needs_background": "light"
     },
     "output_type": "display_data"
    }
   ],
   "source": [
    "sns.pairplot(pd.DataFrame(X_normalized));"
   ]
  },
  {
   "cell_type": "markdown",
   "metadata": {
    "collapsed": true
   },
   "source": [
    "## Kmeans clustering"
   ]
  },
  {
   "cell_type": "code",
   "execution_count": 25,
   "metadata": {},
   "outputs": [
    {
     "data": {
      "text/plain": [
       "array([0, 1, 1, 1, 0, 1, 0, 1, 1, 1, 1, 1, 0, 1, 1, 0, 0, 0, 1, 0, 0, 1,\n",
       "       1, 1, 0, 0, 1, 0, 0, 1, 1, 1, 0, 0, 1, 1, 0, 0, 0, 0, 1, 1, 0, 0,\n",
       "       0, 1, 1, 1, 0, 0, 1, 1, 1, 1, 0, 1, 1, 1, 1, 1, 0, 0, 0, 1, 0, 0,\n",
       "       1, 0, 0, 0, 1, 0, 0, 0, 0, 0, 1, 0, 0, 1, 0, 1, 0, 1, 0, 0, 1, 0,\n",
       "       0, 1, 0, 1, 0, 0, 1, 1, 1, 1, 1, 0, 0, 1, 1, 1, 1, 0, 1, 0, 1, 0,\n",
       "       1, 0, 1, 1, 0, 1, 0, 1, 0, 1, 1, 0, 0, 0, 1, 1, 1, 1, 1, 0, 1, 0,\n",
       "       0, 1, 0, 0, 0, 0, 0, 1, 1, 0, 1, 0, 0, 1, 1, 1, 1, 0, 0, 1, 0, 0,\n",
       "       1, 1, 0, 1, 0, 0, 1, 1, 0, 0, 0, 1, 0, 1, 0, 1, 1, 0, 0, 1, 1, 1,\n",
       "       0, 0, 0, 0, 1, 0, 0, 0, 0, 0, 1, 1, 1, 0, 1, 0, 0, 0, 1, 0, 0, 1,\n",
       "       0, 0, 1, 0, 0, 1, 1, 0, 0, 1, 0, 0, 1, 0, 0, 0, 0, 1, 0, 1, 0, 0,\n",
       "       0, 1, 1, 1, 0, 0, 0, 1, 0, 1, 1, 0, 1, 1, 0, 1, 0, 0, 0, 0, 1, 0,\n",
       "       0, 0, 0, 1, 0, 0, 0, 1, 0, 0, 0, 0, 0, 1, 0, 0, 0, 0, 0, 0, 0, 1,\n",
       "       1, 0, 1, 0, 0, 1, 0, 0, 0, 0, 0, 0, 1, 0, 1, 0, 0, 1, 1, 1, 1, 0,\n",
       "       0, 0, 1, 0, 1, 0, 0, 0, 1, 0, 0, 1, 0, 1, 1, 0, 0, 1, 0, 1, 1, 0,\n",
       "       1, 1, 1, 0, 0, 1, 1, 1, 1, 0, 1, 0, 0, 0, 0, 0, 0, 1, 1, 0, 0, 0,\n",
       "       1, 0, 1, 0, 1, 1, 1, 0, 0, 1, 0, 0, 0, 1, 0, 0, 1, 1, 1, 0, 0, 1,\n",
       "       1, 1, 0, 1], dtype=int32)"
      ]
     },
     "execution_count": 25,
     "metadata": {},
     "output_type": "execute_result"
    }
   ],
   "source": [
    "from sklearn.cluster import KMeans\n",
    "\n",
    "#kmeans = KMeans(n_clusters=2, init='k-means++', random_state=0, n_jobs=-1).fit(popularity_civil_conflict_pd_minmax)\n",
    "#popularity_civil_conflict_pd\n",
    "kmeans = KMeans(n_clusters=2, init='k-means++', random_state=0, n_jobs=-1).fit(\n",
    "    X_normalized)\n",
    "# fit_predict\n",
    "kmeans.labels_"
   ]
  },
  {
   "cell_type": "code",
   "execution_count": 26,
   "metadata": {},
   "outputs": [
    {
     "data": {
      "image/png": "[encoded data removed]",
      "text/plain": [
       "<Figure size 432x288 with 1 Axes>"
      ]
     },
     "metadata": {},
     "output_type": "display_data"
    }
   ],
   "source": [
    "h = .02     # point in the mesh [x_min, x_max]x[y_min, y_max].\n",
    "reduced_data = X_normalized #popularity_civil_conflict_pd_minmax\n",
    "# Plot the decision boundary. For that, we will assign a color to each\n",
    "x_min, x_max = reduced_data[:, 0].min() - 1, reduced_data[:, 0].max() + 1\n",
    "y_min, y_max = reduced_data[:, 1].min() - 1, reduced_data[:, 1].max() + 1\n",
    "xx, yy = np.meshgrid(np.arange(x_min, x_max, h), np.arange(y_min, y_max, h))\n",
    "\n",
    "# Obtain labels for each point in mesh. Use last trained model.\n",
    "Z = kmeans.predict(np.c_[xx.ravel(), yy.ravel()])\n",
    "\n",
    "# Put the result into a color plot\n",
    "Z = Z.reshape(xx.shape)\n",
    "plt.figure(1)\n",
    "plt.clf()\n",
    "plt.imshow(Z, interpolation='nearest',\n",
    "           extent=(xx.min(), xx.max(), yy.min(), yy.max()),\n",
    "           cmap=plt.cm.Paired,\n",
    "           aspect='auto', origin='lower')\n",
    "\n",
    "plt.plot(reduced_data[:, 0], reduced_data[:, 1], 'k.', markersize=2)\n",
    "# Plot the centroids as a white X\n",
    "centroids = kmeans.cluster_centers_\n",
    "plt.scatter(centroids[:, 0], centroids[:, 1],\n",
    "            marker='x', s=169, linewidths=3,\n",
    "            color='w', zorder=10)\n",
    "plt.title('K-means clustering on the digits dataset \\n'\n",
    "          'Centroids are marked with white cross')\n",
    "plt.xlim(x_min, x_max)\n",
    "plt.ylim(y_min, y_max)\n",
    "plt.xticks(())\n",
    "plt.yticks(())\n",
    "plt.show()"
   ]
  },
  {
   "cell_type": "code",
   "execution_count": null,
   "metadata": {},
   "outputs": [],
   "source": []
  }
 ],
 "metadata": {
  "kernelspec": {
   "display_name": "Python [conda env:ada]",
   "language": "python",
   "name": "conda-env-ada-py"
  },
  "language_info": {
   "codemirror_mode": {
    "name": "ipython",
    "version": 3
   },
   "file_extension": ".py",
   "mimetype": "text/x-python",
   "name": "python",
   "nbconvert_exporter": "python",
   "pygments_lexer": "ipython3",
   "version": "3.6.6"
  }
 },
 "nbformat": 4,
 "nbformat_minor": 2
}
