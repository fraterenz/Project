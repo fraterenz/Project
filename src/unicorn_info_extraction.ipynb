{
 "cells": [
  {
   "cell_type": "code",
   "execution_count": 1,
   "metadata": {},
   "outputs": [],
   "source": [
    "import wptools\n",
    "import pyspark\n",
    "import pyspark.sql\n",
    "from pyspark.sql import *\n",
    "import os.path\n",
    "from pyspark.sql.functions import desc\n",
    "\n",
    "import findspark\n",
    "findspark.init()\n",
    "\n",
    "from pyspark.sql import dataframe\n",
    "from pyspark.sql import functions as F\n",
    "\n",
    "from pyspark.sql import SparkSession\n",
    "from pyspark import SparkContext\n",
    "from pyspark.sql import SQLContext\n",
    "\n",
    "spark = SparkSession.builder.getOrCreate()\n",
    "sc = spark.sparkContext\n",
    "\n",
    "from pyspark.sql import SQLContext\n",
    "sqlContext = SQLContext(sc)"
   ]
  },
  {
   "cell_type": "markdown",
   "metadata": {},
   "source": [
    "# Loading data "
   ]
  },
  {
   "cell_type": "markdown",
   "metadata": {},
   "source": [
    "**File schema** is shown."
   ]
  },
  {
   "cell_type": "code",
   "execution_count": 86,
   "metadata": {},
   "outputs": [
    {
     "name": "stdout",
     "output_type": "stream",
     "text": [
      "root\n",
      " |-- id: long (nullable = true)\n",
      " |-- ns: long (nullable = true)\n",
      " |-- restrictions: string (nullable = true)\n",
      " |-- revision: struct (nullable = true)\n",
      " |    |-- comment: struct (nullable = true)\n",
      " |    |    |-- _VALUE: string (nullable = true)\n",
      " |    |    |-- _deleted: string (nullable = true)\n",
      " |    |-- contributor: struct (nullable = true)\n",
      " |    |    |-- _VALUE: string (nullable = true)\n",
      " |    |    |-- _deleted: string (nullable = true)\n",
      " |    |    |-- id: long (nullable = true)\n",
      " |    |    |-- ip: string (nullable = true)\n",
      " |    |    |-- username: string (nullable = true)\n",
      " |    |-- format: string (nullable = true)\n",
      " |    |-- id: long (nullable = true)\n",
      " |    |-- minor: string (nullable = true)\n",
      " |    |-- model: string (nullable = true)\n",
      " |    |-- parentid: long (nullable = true)\n",
      " |    |-- sha1: string (nullable = true)\n",
      " |    |-- text: struct (nullable = true)\n",
      " |    |    |-- _VALUE: string (nullable = true)\n",
      " |    |    |-- _xml:space: string (nullable = true)\n",
      " |    |-- timestamp: string (nullable = true)\n",
      " |-- title: string (nullable = true)\n",
      " |-- categories: string (nullable = true)\n",
      " |-- good_categories: boolean (nullable = true)\n",
      "\n"
     ]
    }
   ],
   "source": [
    "DATA_DIR = '../' \n",
    "WIKIPEDIA_CONFLICTS_PARQUET = DATA_DIR + 'selectedAllConflict.parquet'\n",
    "\n",
    "# loading the saved parquet files\n",
    "wikipedia = spark.read.parquet(WIKIPEDIA_CONFLICTS_PARQUET)\n",
    "# show file schema\n",
    "wikipedia.printSchema()"
   ]
  },
  {
   "cell_type": "markdown",
   "metadata": {},
   "source": [
    "---\n",
    "# Quantifying *importance* of each page in each category\n",
    "\n",
    "We want to see how *important* each page is in each category. As we are solely focusing on *'war'*-related subjects in this pilot phase, we define *page importance* by the number of deaths. \n",
    "\n",
    "## Infobox or Wikidata per category \n",
    "\n",
    "Functions `get_wiki_civilian_attack`, `get_wiki_civil_conflict`, `get_wiki_military_conflict`\n",
    "to get relevant information and views for each category: `civilian attack`, `civil conflict`, `military conflict`. \n",
    "Data is obtained either using the page's wikidata is the data exists or acquired through infobox parsing.\n",
    "Relevant information is chosen based on the fields found on [List of infoboxes and fields](https://en.wikipedia.org/wiki/Wikipedia:List_of_infoboxes#Event) \n",
    "\n",
    "Extract info for each category in **Infobox**:\n",
    "* `civilian attack`\n",
    "    * location\n",
    "    * date \n",
    "    * fatalities\n",
    "* `civil conflict`\n",
    "    * place\n",
    "    * date\n",
    "    * casualities1\n",
    "* `military conflict`\n",
    "    * place\n",
    "    * date \n",
    "    * casualities1\n",
    "    \n",
    "Extract info for each category in **Wikidata**:\n",
    "* `civilian attack`\n",
    "    * location\n",
    "    * date \n",
    "    * fatalities\n",
    "* `civil conflict`\n",
    "    * place\n",
    "    * date\n",
    "    * casualities1\n",
    "* `military conflict`\n",
    "    * 'number of deaths (P1120)']['amount']\n",
    "    * 'end time (P582)'\n",
    "    * 'location (P276)'\n",
    "    \n",
    "We use an external library [wptools wiki](https://github.com/siznax/wptools/wiki) to help us parse the data. "
   ]
  },
  {
   "cell_type": "code",
   "execution_count": 87,
   "metadata": {},
   "outputs": [],
   "source": [
    "def get_wiki_military_conflict(entity):\n",
    "    page = wptools.page(entity.title)\n",
    "    # extract relevant information and put in dictionary\n",
    "    info = {'death': None, 'end_date': None, 'location': None}\n",
    "    \n",
    "    try: \n",
    "        page.get_wikidata()\n",
    "        info['death'] = page.data['wikidata']['number of deaths (P1120)']['amount']\n",
    "    \n",
    "    except KeyError:\n",
    "        try:\n",
    "            page.get_parse()\n",
    "            info['death'] = poly_page.data['infobox']['casualties1']\n",
    "        except KeyError:\n",
    "            info['death'] = None\n",
    "            \n",
    "    try:\n",
    "        page.get_wikidata()\n",
    "        info['end_date'] = page.data['wikidata']['end time (P582)']\n",
    "    except KeyError:\n",
    "        try:\n",
    "            page.get_parse()\n",
    "            info['end_date'] = poly_page.data['infobox']['date']\n",
    "        except KeyError:\n",
    "            info['end_date'] = None\n",
    "    \n",
    "    try:\n",
    "        page.get_wikidata()\n",
    "        info['location'] = page.data['wikidata']['location (P276)']\n",
    "    except KeyError:\n",
    "        try:\n",
    "            page.get_parse()\n",
    "            info['location'] = poly_page.data['infobox']['place']\n",
    "        except KeyError:\n",
    "            info['location'] = None\n",
    "    \n",
    "    \n",
    "    return Row(id=entity.id, title=entity.title, death=info['death'],\n",
    "               end_date=info['end_date'], location=info['location'])"
   ]
  },
  {
   "cell_type": "markdown",
   "metadata": {},
   "source": [
    "### Infobox `military conflict `"
   ]
  },
  {
   "cell_type": "code",
   "execution_count": 88,
   "metadata": {},
   "outputs": [],
   "source": [
    "infobox_military_conflict = 'military conflict'\n",
    "# find all pages that have category military conflict\n",
    "wiki_military_conflict = wikipedia.where(\"categories like '%{}%'\".format(infobox_military_conflict)) "
   ]
  },
  {
   "cell_type": "code",
   "execution_count": 89,
   "metadata": {},
   "outputs": [],
   "source": [
    "wiki_military_conflict_df = sqlContext.createDataFrame(wiki_military_conflict.rdd.map(get_wiki_military_conflict))"
   ]
  },
  {
   "cell_type": "code",
   "execution_count": 94,
   "metadata": {},
   "outputs": [
    {
     "data": {
      "text/plain": [
       "[Row(death=\"{{plainlist|\\n* '''Military dead:'''\\n* Over 16,000,000\\n* '''Civilian dead:'''\\n* Over 45,000,000\\n* '''Total dead:'''\\n* Over 61,000,000\\n* (1937–1945)\\n* [[World War II casualties|...''further details'']]}}\", end_date='{{ubl|start and end dates|1939|9|1|1945|9|2|df|=|yes|\\n                  |(|Age in years and days|1 September 1939|2 September 1945|sep|=|and|)|efn| While [[World War II#Chronology|various other dates]] have been proposed as the date on which World War II began or ended, this is the time span most frequently cited.}} {{start and end dates|1939|9|1|1945|9|2|df|=|yes}} {{Age in years and days|1 September 1939|2 September 1945|sep|=|and}} ) {{efn| While [[World War II#Chronology|various other dates]] have been proposed as the date on which World War II began or ended, this is the time span most frequently cited.}}', id=655845, location='Athens (Q3292481)', title='Battle of Athens (1946)'),\n",
       " Row(death=\"{{plainlist|\\n* '''Military dead:'''\\n* Over 16,000,000\\n* '''Civilian dead:'''\\n* Over 45,000,000\\n* '''Total dead:'''\\n* Over 61,000,000\\n* (1937–1945)\\n* [[World War II casualties|...''further details'']]}}\", end_date='{{ubl|start and end dates|1939|9|1|1945|9|2|df|=|yes|\\n                  |(|Age in years and days|1 September 1939|2 September 1945|sep|=|and|)|efn| While [[World War II#Chronology|various other dates]] have been proposed as the date on which World War II began or ended, this is the time span most frequently cited.}} {{start and end dates|1939|9|1|1945|9|2|df|=|yes}} {{Age in years and days|1 September 1939|2 September 1945|sep|=|and}} ) {{efn| While [[World War II#Chronology|various other dates]] have been proposed as the date on which World War II began or ended, this is the time span most frequently cited.}}', id=656035, location='Calabria (Q1458)', title='Battle of Calabria'),\n",
       " Row(death=\"{{plainlist|\\n* '''Military dead:'''\\n* Over 16,000,000\\n* '''Civilian dead:'''\\n* Over 45,000,000\\n* '''Total dead:'''\\n* Over 61,000,000\\n* (1937–1945)\\n* [[World War II casualties|...''further details'']]}}\", end_date='+1912-10-18T00:00:00Z', id=656087, location='Vilayet of Tripolitania (Q1529261)', title='Italo-Turkish War')]"
      ]
     },
     "execution_count": 94,
     "metadata": {},
     "output_type": "execute_result"
    }
   ],
   "source": [
    "wiki_military_conflict_df.take(3)"
   ]
  },
  {
   "cell_type": "code",
   "execution_count": null,
   "metadata": {},
   "outputs": [],
   "source": [
    "# saving binary file to future uses\n",
    "wiki_military_conflict_df.write.parquet(DATA_DIR +\"{}.parquet\".format(infobox_military_conflict));\n",
    "# loading the saved parquet files\n",
    "wiki_military_conflict_df_reload = spark.read.parquet(\n",
    "    DATA_DIR_FILTERED+\"{}.parquet\".format(infobox_military_conflict));"
   ]
  },
  {
   "cell_type": "code",
   "execution_count": null,
   "metadata": {},
   "outputs": [],
   "source": [
    "def get_wiki_civilian_attack(entity):\n",
    "    page = wptools.page(entity.title)\n",
    "    # extract relevant information and put in dictionary\n",
    "    info = {'death': None, 'end_date': None, 'location': None}\n",
    "    \n",
    "    try: \n",
    "        page.get_wikidata()\n",
    "        info['death'] = page.data['wikidata']['number of deaths (P1120)']['amount']\n",
    "    \n",
    "    except KeyError:\n",
    "        try:\n",
    "            page.get_parse()\n",
    "            info['death'] = poly_page.data['infobox']['casualties1']\n",
    "        except KeyError:\n",
    "            info['death'] = None\n",
    "            \n",
    "    try:\n",
    "        page.get_wikidata()\n",
    "        info['end_date'] = page.data['wikidata']['end time (P582)']\n",
    "    except KeyError:\n",
    "        try:\n",
    "            page.get_parse()\n",
    "            info['end_date'] = poly_page.data['infobox']['date']\n",
    "        except KeyError:\n",
    "            info['end_date'] = None\n",
    "    \n",
    "    try:\n",
    "        page.get_wikidata()\n",
    "        info['location'] = page.data['wikidata']['location (P276)']\n",
    "    except KeyError:\n",
    "        try:\n",
    "            page.get_parse()\n",
    "            info['location'] = poly_page.data['infobox']['location']\n",
    "        except KeyError:\n",
    "            info['location'] = None\n",
    "    \n",
    "    \n",
    "    return Row(id=entity.id, title=entity.title, death=info['death'],\n",
    "               end_date=info['end_date'], location=info['location'])"
   ]
  },
  {
   "cell_type": "markdown",
   "metadata": {},
   "source": [
    "# ===== TO DELETE ========"
   ]
  },
  {
   "cell_type": "markdown",
   "metadata": {},
   "source": [
    "### Infobox `civilian attack`"
   ]
  },
  {
   "cell_type": "code",
   "execution_count": null,
   "metadata": {},
   "outputs": [],
   "source": [
    "infobox_civil_attack = 'civilian attack'\n",
    "# find all pages that have category civilian attack\n",
    "wiki_civil_attack = wikipedia.where(\"categories like '%{}%'\".format(infobox_civil_attack)) \n",
    "# show file schema\n",
    "wiki_civil_attack.printSchema()"
   ]
  },
  {
   "cell_type": "code",
   "execution_count": null,
   "metadata": {},
   "outputs": [],
   "source": [
    "wiki_civil_attack.filter(\"title like '%Fraunces Tavern%'\").select(\"categories\").collect()"
   ]
  },
  {
   "cell_type": "code",
   "execution_count": null,
   "metadata": {},
   "outputs": [],
   "source": [
    "wiki_civil_attack_df = sqlContext.createDataFrame(wiki_civil_attack.rdd.map(get_infobox_civilian_attack))"
   ]
  },
  {
   "cell_type": "code",
   "execution_count": null,
   "metadata": {},
   "outputs": [],
   "source": [
    "wiki_civil_attack_df.take(3)"
   ]
  },
  {
   "cell_type": "code",
   "execution_count": null,
   "metadata": {},
   "outputs": [],
   "source": [
    "# GET INFO FROM INFOBOX + VIEWS for different categories\n",
    "def get_infobox_civilian_attack(entity):\n",
    "    # get page\n",
    "    page = wptools.page(entity.title)\n",
    "    page.get_parse()\n",
    "    page.get_more()\n",
    "    # extract relevant information and put in dictionary\n",
    "    info = {'views': None, 'location': None, \n",
    "            'date': None, 'fatalities': None, 'injuries': None }\n",
    "    try:\n",
    "        info['views'] = page.data['views']\n",
    "    except KeyError:\n",
    "        info['views'] = None\n",
    "    \n",
    "    for ele in list(info.keys())[1:]:\n",
    "        try:\n",
    "            info[ele] = page.data['infobox'][ele]\n",
    "        except KeyError:\n",
    "            pass\n",
    "    \n",
    "    return Row(id=entity.id, title=entity.title, location=info['location'], views=info['views'], date=info['date'], \n",
    "                fatalities=info['fatalities'], injuries=info['injuries'])\n",
    "\n",
    "def get_infobox_civil_conflict(entity):\n",
    "    # get page\n",
    "    page = wptools.page(entity.title)\n",
    "    page.get_parse()\n",
    "    page.get_more()\n",
    "    # extract relevant information and put in dictionary\n",
    "    info = {'views': None, 'place': None, 'injuries': None,\n",
    "            'date': None, 'fatalities': None, 'casualties1': None, 'casualties2': None,\n",
    "            'leadfigures1': None, 'leadfigures2': None} \n",
    "    try:\n",
    "        info['views'] = page.data['views']\n",
    "    except KeyError:\n",
    "        info['views'] = None\n",
    "    \n",
    "    for ele in list(info.keys())[1:]:\n",
    "        try:\n",
    "            info[ele] = page.data['infobox'][ele]\n",
    "        except KeyError:\n",
    "            pass\n",
    "    \n",
    "    return Row(id=entity.id, title=entity.title, location=info['place'], views=info['views'], date=info['date'], \n",
    "               fatalities=info['fatalities'], casualties1=info['casualties1'], casualties2=info['casualties2'],\n",
    "               injuries=info['injuries'], leadfigures1=info['leadfigures1'], leadfigures2=info['leadfigures2'])\n",
    "\n",
    "def get_infobox_military_conflict(entity):\n",
    "    # get page\n",
    "    page = wptools.page(entity.title)\n",
    "    page.get_parse()\n",
    "    page.get_more()\n",
    "    # extract relevant information and put in dictionary\n",
    "    info = {'views': None, 'place': None, \n",
    "            'date': None, 'casualties1': None, 'casualties2': None}#, 'status': None}\n",
    "            #'combatant1': None, 'combatant2': None, 'status': None} \n",
    "    try:\n",
    "        info['views'] = page.data['views']\n",
    "    except KeyError:\n",
    "        info['views'] = None\n",
    "    \n",
    "    for ele in list(info.keys())[1:]:\n",
    "        try:\n",
    "            info[ele] = page.data['infobox'][ele]\n",
    "        except KeyError:\n",
    "            pass\n",
    "    \n",
    "    return Row(id=entity.id, title=entity.title, location=info['place'], views=info['views'], date=info['date'], \n",
    "               casualties1=info['casualties1'], casualties2=info['casualties2']) #, status=info['status'])\n",
    "               #combatant1=info['combatant1'], combatant2=info['combatant2'])"
   ]
  },
  {
   "cell_type": "code",
   "execution_count": null,
   "metadata": {},
   "outputs": [],
   "source": [
    "DATA_DIR_FILTERED = '../clean_data/'"
   ]
  },
  {
   "cell_type": "code",
   "execution_count": null,
   "metadata": {},
   "outputs": [],
   "source": [
    "# saving binary file to future uses\n",
    "wiki_civil_attack_df.write.parquet(DATA_DIR_FILTERED+\"{}.parquet\".format(infobox_civil_attack));\n",
    "# loading the saved parquet files\n",
    "wiki_civil_attack_df_reload = spark.read.parquet(DATA_DIR_FILTERED+\"{}.parquet\".format(infobox_civil_attack));"
   ]
  },
  {
   "cell_type": "code",
   "execution_count": null,
   "metadata": {},
   "outputs": [],
   "source": []
  },
  {
   "cell_type": "code",
   "execution_count": null,
   "metadata": {},
   "outputs": [],
   "source": [
    "wiki_civil_attack_df = sqlContext.createDataFrame(wiki_civil_attack_RDD)"
   ]
  },
  {
   "cell_type": "markdown",
   "metadata": {},
   "source": [
    "### Infobox `civil conflict`"
   ]
  },
  {
   "cell_type": "code",
   "execution_count": null,
   "metadata": {},
   "outputs": [],
   "source": [
    "infobox_civil_conflict = 'civil conflict'\n",
    "# find all pages that have category civil conflict\n",
    "wiki_civil_conflict = wikipedia.where(\"categories like '%{}%'\".format(infobox_civil_conflict)) \n",
    "# show file schema\n",
    "wiki_civil_conflict.printSchema()"
   ]
  },
  {
   "cell_type": "code",
   "execution_count": null,
   "metadata": {},
   "outputs": [],
   "source": [
    "wiki_civil_conflict_df = sqlContext.createDataFrame(wiki_civil_conflict.rdd.map(get_infobox_civil_conflict))"
   ]
  },
  {
   "cell_type": "code",
   "execution_count": null,
   "metadata": {},
   "outputs": [],
   "source": [
    "wiki_civil_conflict_df.take(3)"
   ]
  },
  {
   "cell_type": "code",
   "execution_count": null,
   "metadata": {},
   "outputs": [],
   "source": [
    "# saving binary file to future uses\n",
    "wiki_civil_conflict_df.write.parquet(DATA_DIR_FILTERED+\"{}.parquet\".format(infobox_civil_conflict));\n",
    "# loading the saved parquet files\n",
    "wiki_civil_conflict_df_reload = spark.read.parquet(DATA_DIR_FILTERED+\"{}.parquet\".format(infobox_civil_conflict));"
   ]
  },
  {
   "cell_type": "markdown",
   "metadata": {},
   "source": [
    "### Infobox `military conflict `"
   ]
  },
  {
   "cell_type": "code",
   "execution_count": null,
   "metadata": {},
   "outputs": [],
   "source": [
    "infobox_military_conflict = 'military conflict'\n",
    "# find all pages that have category military conflict\n",
    "wiki_military_conflict = wikipedia.where(\"categories like '%{}%'\".format(infobox_military_conflict)) \n",
    "# show file schema\n",
    "wiki_military_conflict.printSchema()"
   ]
  },
  {
   "cell_type": "code",
   "execution_count": null,
   "metadata": {},
   "outputs": [],
   "source": [
    "wiki_military_conflict_df = sqlContext.createDataFrame(wiki_military_conflict.rdd.map(get_infobox_military_conflict))"
   ]
  },
  {
   "cell_type": "code",
   "execution_count": null,
   "metadata": {},
   "outputs": [],
   "source": [
    "wiki_military_conflict_df.take(3)"
   ]
  },
  {
   "cell_type": "code",
   "execution_count": null,
   "metadata": {},
   "outputs": [],
   "source": [
    "# saving binary file to future uses\n",
    "wiki_military_conflict_df.write.parquet(DATA_DIR_FILTERED+\"{}.parquet\".format(infobox_military_conflict));\n",
    "# loading the saved parquet files\n",
    "wiki_military_conflict_df_reload = spark.read.parquet(\n",
    "    DATA_DIR_FILTERED+\"{}.parquet\".format(infobox_military_conflict));"
   ]
  },
  {
   "cell_type": "markdown",
   "metadata": {},
   "source": [
    "### Functions"
   ]
  },
  {
   "cell_type": "code",
   "execution_count": 79,
   "metadata": {},
   "outputs": [],
   "source": [
    "def get_wiki_military_conflict(entity):\n",
    "    page = wptools.page(entity.title)\n",
    "    # extract relevant information and put in dictionary\n",
    "    info = {'death': None, 'end_date': None, 'location': None}\n",
    "    \n",
    "    try: \n",
    "        page.get_wikidata()\n",
    "        info['death'] = page.data['wikidata']['number of deaths (P1120)']['amount']\n",
    "    \n",
    "    except KeyError:\n",
    "        try:\n",
    "            page.get_parse()\n",
    "            info['death'] = poly_page.data['infobox']['casualties1']\n",
    "        except KeyError:\n",
    "            info['death'] = None\n",
    "            \n",
    "    try:\n",
    "        page.get_wikidata()\n",
    "        info['end_date'] = page.data['wikidata']['end time (P582)']\n",
    "    except KeyError:\n",
    "        try:\n",
    "            page.get_parse()\n",
    "            info['end_date'] = poly_page.data['infobox']['date']\n",
    "        except KeyError:\n",
    "            info['end_date'] = None\n",
    "    \n",
    "    try:\n",
    "        page.get_wikidata()\n",
    "        info['location'] = page.data['wikidata']['location (P276)']\n",
    "    except KeyError:\n",
    "        try:\n",
    "            page.get_parse()\n",
    "            info['location'] = poly_page.data['infobox']['place']\n",
    "        except KeyError:\n",
    "            info['location'] = None\n",
    "    \n",
    "    \n",
    "    return Row(id=entity.id, title=entity.title, death=info['death'],\n",
    "               end_date=info['end_date'], location=info['location']) #, location=info['location'])    \n"
   ]
  },
  {
   "cell_type": "markdown",
   "metadata": {},
   "source": [
    "### UNICORN ON THE GOOO"
   ]
  },
  {
   "cell_type": "code",
   "execution_count": 91,
   "metadata": {},
   "outputs": [
    {
     "name": "stderr",
     "output_type": "stream",
     "text": [
      "en.wikipedia.org (parse) 1993 World Trade Center bombing\n",
      "en.wikipedia.org (imageinfo) File:WTC 1993 ATF Commons.jpg\n",
      "1993 World Trade Center bombing (en) data\n",
      "{\n",
      "  image: <list(1)> {'kind': 'parse-image', 'file': 'File:WTC 1993 ...\n",
      "  infobox: <dict(15)> title, partof, image, caption, location, coo...\n",
      "  iwlinks: <list(1)> https://commons.wikimedia.org/wiki/Category:1...\n",
      "  pageid: 46815127\n",
      "  parsetree: <str(50244)> <root><template><title>about</title><par...\n",
      "  requests: <list(2)> parse, imageinfo\n",
      "  title: 1993 World Trade Center bombing\n",
      "  wikibase: Q11240\n",
      "  wikidata_url: https://www.wikidata.org/wiki/Q11240\n",
      "  wikitext: <str(40355)> {{about|the 1993 World Trade Center bombi...\n",
      "}\n",
      "www.wikidata.org (wikidata) Q11240\n",
      "www.wikidata.org (labels) Q51762078|P1120|P276|P373|P625|P31|Q816...\n",
      "en.wikipedia.org (imageinfo) File:WTC 1993 ATF Commons.jpg\n",
      "1993 World Trade Center bombing (en) data\n",
      "{\n",
      "  claims: <dict(11)> P373, P31, P585, P625, P646, P18, P17, P1120,...\n",
      "  description: <str(84)> truck bomb detonated below the North Towe...\n",
      "  image: <list(2)> {'kind': 'parse-image', 'file': 'File:WTC 1993 ...\n",
      "  infobox: <dict(15)> title, partof, image, caption, location, coo...\n",
      "  iwlinks: <list(1)> https://commons.wikimedia.org/wiki/Category:1...\n",
      "  label: World Trade Center bombing 1993\n",
      "  labels: <dict(15)> Q51762078, P1120, P276, P373, P625, P31, Q816...\n",
      "  modified: <dict(1)> wikidata\n",
      "  pageid: 46815127\n",
      "  parsetree: <str(50244)> <root><template><title>about</title><par...\n",
      "  requests: <list(5)> parse, imageinfo, wikidata, labels, imageinfo\n",
      "  title: 1993_World_Trade_Center_bombing\n",
      "  what: attack\n",
      "  wikibase: Q11240\n",
      "  wikidata: <dict(11)> Commons category (P373), instance of (P31),...\n",
      "  wikidata_pageid: 12731\n",
      "  wikidata_url: https://www.wikidata.org/wiki/Q11240\n",
      "  wikitext: <str(40355)> {{about|the 1993 World Trade Center bombi...\n",
      "}\n"
     ]
    },
    {
     "data": {
      "text/plain": [
       "<wptools.page.WPToolsPage at 0x11d45e470>"
      ]
     },
     "execution_count": 91,
     "metadata": {},
     "output_type": "execute_result"
    }
   ],
   "source": [
    "## trying access to infobox\n",
    "poly_page = wptools.page('1993 World Trade Center bombing')\n",
    "poly_page.get_parse()\n",
    "poly_page.get_wikidata()"
   ]
  },
  {
   "cell_type": "code",
   "execution_count": 92,
   "metadata": {},
   "outputs": [
    {
     "data": {
      "text/plain": [
       "{'title': '1993 World Trade Center bombing',\n",
       " 'partof': '[[terrorism in the United States]]',\n",
       " 'image': 'WTC 1993 ATF Commons.jpg',\n",
       " 'caption': 'Underground damage after the bombing',\n",
       " 'location': '[[World Trade Center (1973–2001)|World Trade Center]]<br />[[New York City]], [[New York (state)|New York]], U.S.',\n",
       " 'coordinates': '{{coord|40.711452|N|74.011919|W|region:US-NY_type:event|display|=|title,inline}}',\n",
       " 'target': '[[World Trade Center (1973-2001)|World Trade Center]]',\n",
       " 'date': '{{start date and age|1993|02|26}}',\n",
       " 'time': '12:17:37 p.m.',\n",
       " 'timezone': '[[UTC-05:00]]',\n",
       " 'type': '[[Car bomb|Truck bombing]], [[mass murder]]',\n",
       " 'fatalities': '6',\n",
       " 'injuries': '1,042',\n",
       " 'perpetrators': '[[Ramzi Yousef]], [[Eyad Ismoil]], and co-conspirators',\n",
       " 'motive': '[[Islamic fundamentalism]] <br />[[American foreign policy]]<br />[[Israel–United States military relations#Military aid and procurement|U.S. support for Israel]]'}"
      ]
     },
     "execution_count": 92,
     "metadata": {},
     "output_type": "execute_result"
    }
   ],
   "source": [
    "poly_page.data['infobox']"
   ]
  },
  {
   "cell_type": "code",
   "execution_count": 93,
   "metadata": {},
   "outputs": [
    {
     "data": {
      "text/plain": [
       "{'Commons category (P373)': '1993 World Trade Center bombing',\n",
       " 'instance of (P31)': 'attack (Q81672)',\n",
       " 'point in time (P585)': '+1993-02-26T00:00:00Z',\n",
       " 'coordinate location (P625)': {'latitude': 40.71166667,\n",
       "  'longitude': -74.01361111,\n",
       "  'altitude': None,\n",
       "  'precision': 0.00027777777777778,\n",
       "  'globe': 'http://www.wikidata.org/entity/Q2'},\n",
       " 'Freebase ID (P646)': '/m/08gcw',\n",
       " 'image (P18)': 'WTC 1993 ATF Commons.jpg',\n",
       " 'country (P17)': 'United States of America (Q30)',\n",
       " 'number of deaths (P1120)': {'amount': '+6', 'unit': '1'},\n",
       " 'number of injured (P1339)': {'amount': '+1042', 'unit': '1'},\n",
       " 'location (P276)': 'World Trade Center (Q11235)',\n",
       " \"topic's main category (P910)\": 'Category:1993 World Trade Center bombing (Q51762078)'}"
      ]
     },
     "execution_count": 93,
     "metadata": {},
     "output_type": "execute_result"
    }
   ],
   "source": [
    "poly_page.data['wikidata']"
   ]
  },
  {
   "cell_type": "code",
   "execution_count": null,
   "metadata": {},
   "outputs": [],
   "source": [
    "ww2 = wikipedia.filter(\"title like '%1993 World Trade Center bombing%'\") #World War II for military, civilian attack 1993 World Trade Center bombing\n",
    "ww2_df = sqlContext.createDataFrame(ww2.rdd.map(get_wiki_military_conflict))"
   ]
  },
  {
   "cell_type": "code",
   "execution_count": 81,
   "metadata": {},
   "outputs": [
    {
     "name": "stdout",
     "output_type": "stream",
     "text": [
      "+--------------------+--------------------+------+---------------+--------------------+\n",
      "|               death|            end_date|    id|       location|               title|\n",
      "+--------------------+--------------------+------+---------------+--------------------+\n",
      "|{{plainlist|\n",
      "* ''...|+1945-02-15T00:00...| 64692|Dresden (Q1731)|Bombing of Dresde...|\n",
      "|{{plainlist|\n",
      "* ''...|+1941-06-01T00:00...|627326| Albania (Q222)|Balkans Campaign ...|\n",
      "+--------------------+--------------------+------+---------------+--------------------+\n",
      "only showing top 2 rows\n",
      "\n"
     ]
    }
   ],
   "source": [
    "ww2_df.show(2)"
   ]
  },
  {
   "cell_type": "code",
   "execution_count": 82,
   "metadata": {
    "scrolled": true
   },
   "outputs": [
    {
     "data": {
      "text/plain": [
       "[Row(location='Dresden (Q1731)'),\n",
       " Row(location='Albania (Q222)'),\n",
       " Row(location='[Russia (Q159), Europe (Q46), Africa (Q15), Pacific Ocean (Q98), Mediterranean Sea (Q4918), Asia (Q48), Atlantic Ocean (Q97), Middle East (Q7204), Southeast Asia (Q11708), Scandinavia (Q21195)]'),\n",
       " Row(location='Mediterranean Sea (Q4918)'),\n",
       " Row(location='Lienz (Q336250)'),\n",
       " Row(location='Malta Colony (Q6744657)'),\n",
       " Row(location='East Africa (Q27407)'),\n",
       " Row(location='[Norwegian Sea (Q47545), Arctic Ocean (Q788)]'),\n",
       " Row(location='State of Burma (Q704358)'),\n",
       " Row(location='Europe (Q46)'),\n",
       " Row(location='Vienna (Q1741)'),\n",
       " Row(location='Königsberg (Q4120832)'),\n",
       " Row(location='Warsaw (Q270)'),\n",
       " Row(location='Berlin (Q64)'),\n",
       " Row(location='[[European theatre of World War II|Europe]], [[Pacific War|Pacific]], [[Battle of the Atlantic|Atlantic]], [[South-East Asian theatre of World War II|South-East Asia]], [[Second Sino-Japanese War|China]], [[Mediterranean and Middle East theatre of World War II|Middle East]], [[Mediterranean and Middle East theatre of World War II|Mediterranean]], [[North African Campaign|North Africa]], [[East African Campaign (World War II)|Horn of Africa]], [[Air raids on Australia, 1942–43|Australia]], briefly [[American Theater (World War II)|North]] and [[Battle of the River Plate|South America]]'),\n",
       " Row(location='[Southern Europe (Q27449), Middle East (Q7204), Horn of Africa (Q40556), North Africa (Q27381)]'),\n",
       " Row(location='Eastern Europe (Q27468)'),\n",
       " Row(location='Northern Europe (Q27479)'),\n",
       " Row(location='European Theatre of World War II (Q44700)'),\n",
       " Row(location='Italy (Q38)'),\n",
       " Row(location='Zadar (Q3370)'),\n",
       " Row(location='Bavaria (Q980)'),\n",
       " Row(location='Nizhny Novgorod (Q891)'),\n",
       " Row(location='[[European theatre of World War II|Europe]], [[Pacific War|Pacific]], [[Battle of the Atlantic|Atlantic]], [[South-East Asian theatre of World War II|South-East Asia]], [[Second Sino-Japanese War|China]], [[Mediterranean and Middle East theatre of World War II|Middle East]], [[Mediterranean and Middle East theatre of World War II|Mediterranean]], [[North African Campaign|North Africa]], [[East African Campaign (World War II)|Horn of Africa]], [[Air raids on Australia, 1942–43|Australia]], briefly [[American Theater (World War II)|North]] and [[Battle of the River Plate|South America]]'),\n",
       " Row(location='Duisburg (Q2100)'),\n",
       " Row(location='Yugoslavia (Q36704)'),\n",
       " Row(location='Treviso (Q5475)'),\n",
       " Row(location='[[European theatre of World War II|Europe]], [[Pacific War|Pacific]], [[Battle of the Atlantic|Atlantic]], [[South-East Asian theatre of World War II|South-East Asia]], [[Second Sino-Japanese War|China]], [[Mediterranean and Middle East theatre of World War II|Middle East]], [[Mediterranean and Middle East theatre of World War II|Mediterranean]], [[North African Campaign|North Africa]], [[East African Campaign (World War II)|Horn of Africa]], [[Air raids on Australia, 1942–43|Australia]], briefly [[American Theater (World War II)|North]] and [[Battle of the River Plate|South America]]'),\n",
       " Row(location='Rome (Q220)'),\n",
       " Row(location='European Theatre of World War II (Q44700)'),\n",
       " Row(location='Bucharest (Q19660)'),\n",
       " Row(location='Black Sea (Q166)'),\n",
       " Row(location='Kassel (Q2865)'),\n",
       " Row(location='Austria (Q40)'),\n",
       " Row(location='Adriatic Sea (Q13924)'),\n",
       " Row(location='Bodensee (Q8228)'),\n",
       " Row(location='Nordhausen (Q7033)'),\n",
       " Row(location='Taganrog (Q170513)'),\n",
       " Row(location='Albanian Kingdom (Q1448131)'),\n",
       " Row(location='[North America (Q49), Atlantic Ocean (Q97), Pacific Ocean (Q98)]'),\n",
       " Row(location='Greenland (Q223)'),\n",
       " Row(location='Bangkok (Q1861)'),\n",
       " Row(location='Toyokawa (Q389495)'),\n",
       " Row(location='Vosges Mountains (Q187843)'),\n",
       " Row(location='Mandatory Palestine (Q193714)'),\n",
       " Row(location='Helsinki (Q1757)'),\n",
       " Row(location='[[European theatre of World War II|Europe]], [[Pacific War|Pacific]], [[Battle of the Atlantic|Atlantic]], [[South-East Asian theatre of World War II|South-East Asia]], [[Second Sino-Japanese War|China]], [[Mediterranean and Middle East theatre of World War II|Middle East]], [[Mediterranean and Middle East theatre of World War II|Mediterranean]], [[North African Campaign|North Africa]], [[East African Campaign (World War II)|Horn of Africa]], [[Air raids on Australia, 1942–43|Australia]], briefly [[American Theater (World War II)|North]] and [[Battle of the River Plate|South America]]'),\n",
       " Row(location='Ludwigshafen (Q2910)'),\n",
       " Row(location='[[European theatre of World War II|Europe]], [[Pacific War|Pacific]], [[Battle of the Atlantic|Atlantic]], [[South-East Asian theatre of World War II|South-East Asia]], [[Second Sino-Japanese War|China]], [[Mediterranean and Middle East theatre of World War II|Middle East]], [[Mediterranean and Middle East theatre of World War II|Mediterranean]], [[North African Campaign|North Africa]], [[East African Campaign (World War II)|Horn of Africa]], [[Air raids on Australia, 1942–43|Australia]], briefly [[American Theater (World War II)|North]] and [[Battle of the River Plate|South America]]'),\n",
       " Row(location='[[European theatre of World War II|Europe]], [[Pacific War|Pacific]], [[Battle of the Atlantic|Atlantic]], [[South-East Asian theatre of World War II|South-East Asia]], [[Second Sino-Japanese War|China]], [[Mediterranean and Middle East theatre of World War II|Middle East]], [[Mediterranean and Middle East theatre of World War II|Mediterranean]], [[North African Campaign|North Africa]], [[East African Campaign (World War II)|Horn of Africa]], [[Air raids on Australia, 1942–43|Australia]], briefly [[American Theater (World War II)|North]] and [[Battle of the River Plate|South America]]'),\n",
       " Row(location='[[European theatre of World War II|Europe]], [[Pacific War|Pacific]], [[Battle of the Atlantic|Atlantic]], [[South-East Asian theatre of World War II|South-East Asia]], [[Second Sino-Japanese War|China]], [[Mediterranean and Middle East theatre of World War II|Middle East]], [[Mediterranean and Middle East theatre of World War II|Mediterranean]], [[North African Campaign|North Africa]], [[East African Campaign (World War II)|Horn of Africa]], [[Air raids on Australia, 1942–43|Australia]], briefly [[American Theater (World War II)|North]] and [[Battle of the River Plate|South America]]'),\n",
       " Row(location='Bahrain (Q398)')]"
      ]
     },
     "execution_count": 82,
     "metadata": {},
     "output_type": "execute_result"
    }
   ],
   "source": [
    "ww2_df.select('location').collect()"
   ]
  },
  {
   "cell_type": "code",
   "execution_count": 83,
   "metadata": {},
   "outputs": [
    {
     "data": {
      "text/plain": [
       "[Row(end_date='+1945-02-15T00:00:00Z'),\n",
       " Row(end_date='+1941-06-01T00:00:00Z'),\n",
       " Row(end_date='+1945-09-02T00:00:00Z'),\n",
       " Row(end_date='{{ubl|start and end dates|1939|9|1|1945|9|2|df|=|yes|\\n                  |(|Age in years and days|1 September 1939|2 September 1945|sep|=|and|)|efn| While [[World War II#Chronology|various other dates]] have been proposed as the date on which World War II began or ended, this is the time span most frequently cited.}} {{start and end dates|1939|9|1|1945|9|2|df|=|yes}} {{Age in years and days|1 September 1939|2 September 1945|sep|=|and}} ) {{efn| While [[World War II#Chronology|various other dates]] have been proposed as the date on which World War II began or ended, this is the time span most frequently cited.}}'),\n",
       " Row(end_date='{{ubl|start and end dates|1939|9|1|1945|9|2|df|=|yes|\\n                  |(|Age in years and days|1 September 1939|2 September 1945|sep|=|and|)|efn| While [[World War II#Chronology|various other dates]] have been proposed as the date on which World War II began or ended, this is the time span most frequently cited.}} {{start and end dates|1939|9|1|1945|9|2|df|=|yes}} {{Age in years and days|1 September 1939|2 September 1945|sep|=|and}} ) {{efn| While [[World War II#Chronology|various other dates]] have been proposed as the date on which World War II began or ended, this is the time span most frequently cited.}}'),\n",
       " Row(end_date='+1942-11-20T00:00:00Z'),\n",
       " Row(end_date='+1941-11-27T00:00:00Z'),\n",
       " Row(end_date='+1945-05-01T00:00:00Z'),\n",
       " Row(end_date='+1945-09-09T00:00:00Z'),\n",
       " Row(end_date='+1945-05-08T00:00:00Z'),\n",
       " Row(end_date='+1945-04-16T00:00:00Z'),\n",
       " Row(end_date='+1945-00-00T00:00:00Z'),\n",
       " Row(end_date='+1939-09-27T00:00:00Z'),\n",
       " Row(end_date='{{ubl|start and end dates|1939|9|1|1945|9|2|df|=|yes|\\n                  |(|Age in years and days|1 September 1939|2 September 1945|sep|=|and|)|efn| While [[World War II#Chronology|various other dates]] have been proposed as the date on which World War II began or ended, this is the time span most frequently cited.}} {{start and end dates|1939|9|1|1945|9|2|df|=|yes}} {{Age in years and days|1 September 1939|2 September 1945|sep|=|and}} ) {{efn| While [[World War II#Chronology|various other dates]] have been proposed as the date on which World War II began or ended, this is the time span most frequently cited.}}'),\n",
       " Row(end_date='{{ubl|start and end dates|1939|9|1|1945|9|2|df|=|yes|\\n                  |(|Age in years and days|1 September 1939|2 September 1945|sep|=|and|)|efn| While [[World War II#Chronology|various other dates]] have been proposed as the date on which World War II began or ended, this is the time span most frequently cited.}} {{start and end dates|1939|9|1|1945|9|2|df|=|yes}} {{Age in years and days|1 September 1939|2 September 1945|sep|=|and}} ) {{efn| While [[World War II#Chronology|various other dates]] have been proposed as the date on which World War II began or ended, this is the time span most frequently cited.}}'),\n",
       " Row(end_date='+1945-05-02T00:00:00Z'),\n",
       " Row(end_date='+1945-05-10T00:00:00Z'),\n",
       " Row(end_date='+1945-00-00T00:00:00Z'),\n",
       " Row(end_date='{{ubl|start and end dates|1939|9|1|1945|9|2|df|=|yes|\\n                  |(|Age in years and days|1 September 1939|2 September 1945|sep|=|and|)|efn| While [[World War II#Chronology|various other dates]] have been proposed as the date on which World War II began or ended, this is the time span most frequently cited.}} {{start and end dates|1939|9|1|1945|9|2|df|=|yes}} {{Age in years and days|1 September 1939|2 September 1945|sep|=|and}} ) {{efn| While [[World War II#Chronology|various other dates]] have been proposed as the date on which World War II began or ended, this is the time span most frequently cited.}}'),\n",
       " Row(end_date='+1945-05-02T00:00:00Z'),\n",
       " Row(end_date='{{ubl|start and end dates|1939|9|1|1945|9|2|df|=|yes|\\n                  |(|Age in years and days|1 September 1939|2 September 1945|sep|=|and|)|efn| While [[World War II#Chronology|various other dates]] have been proposed as the date on which World War II began or ended, this is the time span most frequently cited.}} {{start and end dates|1939|9|1|1945|9|2|df|=|yes}} {{Age in years and days|1 September 1939|2 September 1945|sep|=|and}} ) {{efn| While [[World War II#Chronology|various other dates]] have been proposed as the date on which World War II began or ended, this is the time span most frequently cited.}}'),\n",
       " Row(end_date='{{ubl|start and end dates|1939|9|1|1945|9|2|df|=|yes|\\n                  |(|Age in years and days|1 September 1939|2 September 1945|sep|=|and|)|efn| While [[World War II#Chronology|various other dates]] have been proposed as the date on which World War II began or ended, this is the time span most frequently cited.}} {{start and end dates|1939|9|1|1945|9|2|df|=|yes}} {{Age in years and days|1 September 1939|2 September 1945|sep|=|and}} ) {{efn| While [[World War II#Chronology|various other dates]] have been proposed as the date on which World War II began or ended, this is the time span most frequently cited.}}'),\n",
       " Row(end_date='{{ubl|start and end dates|1939|9|1|1945|9|2|df|=|yes|\\n                  |(|Age in years and days|1 September 1939|2 September 1945|sep|=|and|)|efn| While [[World War II#Chronology|various other dates]] have been proposed as the date on which World War II began or ended, this is the time span most frequently cited.}} {{start and end dates|1939|9|1|1945|9|2|df|=|yes}} {{Age in years and days|1 September 1939|2 September 1945|sep|=|and}} ) {{efn| While [[World War II#Chronology|various other dates]] have been proposed as the date on which World War II began or ended, this is the time span most frequently cited.}}'),\n",
       " Row(end_date='{{ubl|start and end dates|1939|9|1|1945|9|2|df|=|yes|\\n                  |(|Age in years and days|1 September 1939|2 September 1945|sep|=|and|)|efn| While [[World War II#Chronology|various other dates]] have been proposed as the date on which World War II began or ended, this is the time span most frequently cited.}} {{start and end dates|1939|9|1|1945|9|2|df|=|yes}} {{Age in years and days|1 September 1939|2 September 1945|sep|=|and}} ) {{efn| While [[World War II#Chronology|various other dates]] have been proposed as the date on which World War II began or ended, this is the time span most frequently cited.}}'),\n",
       " Row(end_date='{{ubl|start and end dates|1939|9|1|1945|9|2|df|=|yes|\\n                  |(|Age in years and days|1 September 1939|2 September 1945|sep|=|and|)|efn| While [[World War II#Chronology|various other dates]] have been proposed as the date on which World War II began or ended, this is the time span most frequently cited.}} {{start and end dates|1939|9|1|1945|9|2|df|=|yes}} {{Age in years and days|1 September 1939|2 September 1945|sep|=|and}} ) {{efn| While [[World War II#Chronology|various other dates]] have been proposed as the date on which World War II began or ended, this is the time span most frequently cited.}}'),\n",
       " Row(end_date='+1945-05-15T00:00:00Z'),\n",
       " Row(end_date='{{ubl|start and end dates|1939|9|1|1945|9|2|df|=|yes|\\n                  |(|Age in years and days|1 September 1939|2 September 1945|sep|=|and|)|efn| While [[World War II#Chronology|various other dates]] have been proposed as the date on which World War II began or ended, this is the time span most frequently cited.}} {{start and end dates|1939|9|1|1945|9|2|df|=|yes}} {{Age in years and days|1 September 1939|2 September 1945|sep|=|and}} ) {{efn| While [[World War II#Chronology|various other dates]] have been proposed as the date on which World War II began or ended, this is the time span most frequently cited.}}'),\n",
       " Row(end_date='+1944-11-23T00:00:00Z'),\n",
       " Row(end_date='{{ubl|start and end dates|1939|9|1|1945|9|2|df|=|yes|\\n                  |(|Age in years and days|1 September 1939|2 September 1945|sep|=|and|)|efn| While [[World War II#Chronology|various other dates]] have been proposed as the date on which World War II began or ended, this is the time span most frequently cited.}} {{start and end dates|1939|9|1|1945|9|2|df|=|yes}} {{Age in years and days|1 September 1939|2 September 1945|sep|=|and}} ) {{efn| While [[World War II#Chronology|various other dates]] have been proposed as the date on which World War II began or ended, this is the time span most frequently cited.}}'),\n",
       " Row(end_date='{{ubl|start and end dates|1939|9|1|1945|9|2|df|=|yes|\\n                  |(|Age in years and days|1 September 1939|2 September 1945|sep|=|and|)|efn| While [[World War II#Chronology|various other dates]] have been proposed as the date on which World War II began or ended, this is the time span most frequently cited.}} {{start and end dates|1939|9|1|1945|9|2|df|=|yes}} {{Age in years and days|1 September 1939|2 September 1945|sep|=|and}} ) {{efn| While [[World War II#Chronology|various other dates]] have been proposed as the date on which World War II began or ended, this is the time span most frequently cited.}}'),\n",
       " Row(end_date='{{ubl|start and end dates|1939|9|1|1945|9|2|df|=|yes|\\n                  |(|Age in years and days|1 September 1939|2 September 1945|sep|=|and|)|efn| While [[World War II#Chronology|various other dates]] have been proposed as the date on which World War II began or ended, this is the time span most frequently cited.}} {{start and end dates|1939|9|1|1945|9|2|df|=|yes}} {{Age in years and days|1 September 1939|2 September 1945|sep|=|and}} ) {{efn| While [[World War II#Chronology|various other dates]] have been proposed as the date on which World War II began or ended, this is the time span most frequently cited.}}'),\n",
       " Row(end_date='{{ubl|start and end dates|1939|9|1|1945|9|2|df|=|yes|\\n                  |(|Age in years and days|1 September 1939|2 September 1945|sep|=|and|)|efn| While [[World War II#Chronology|various other dates]] have been proposed as the date on which World War II began or ended, this is the time span most frequently cited.}} {{start and end dates|1939|9|1|1945|9|2|df|=|yes}} {{Age in years and days|1 September 1939|2 September 1945|sep|=|and}} ) {{efn| While [[World War II#Chronology|various other dates]] have been proposed as the date on which World War II began or ended, this is the time span most frequently cited.}}'),\n",
       " Row(end_date='{{ubl|start and end dates|1939|9|1|1945|9|2|df|=|yes|\\n                  |(|Age in years and days|1 September 1939|2 September 1945|sep|=|and|)|efn| While [[World War II#Chronology|various other dates]] have been proposed as the date on which World War II began or ended, this is the time span most frequently cited.}} {{start and end dates|1939|9|1|1945|9|2|df|=|yes}} {{Age in years and days|1 September 1939|2 September 1945|sep|=|and}} ) {{efn| While [[World War II#Chronology|various other dates]] have been proposed as the date on which World War II began or ended, this is the time span most frequently cited.}}'),\n",
       " Row(end_date='+1945-00-00T00:00:00Z'),\n",
       " Row(end_date='+1945-05-01T00:00:00Z'),\n",
       " Row(end_date='+1945-00-00T00:00:00Z'),\n",
       " Row(end_date='{{ubl|start and end dates|1939|9|1|1945|9|2|df|=|yes|\\n                  |(|Age in years and days|1 September 1939|2 September 1945|sep|=|and|)|efn| While [[World War II#Chronology|various other dates]] have been proposed as the date on which World War II began or ended, this is the time span most frequently cited.}} {{start and end dates|1939|9|1|1945|9|2|df|=|yes}} {{Age in years and days|1 September 1939|2 September 1945|sep|=|and}} ) {{efn| While [[World War II#Chronology|various other dates]] have been proposed as the date on which World War II began or ended, this is the time span most frequently cited.}}'),\n",
       " Row(end_date='+1945-00-00T00:00:00Z'),\n",
       " Row(end_date='+1944-00-00T00:00:00Z'),\n",
       " Row(end_date='{{ubl|start and end dates|1939|9|1|1945|9|2|df|=|yes|\\n                  |(|Age in years and days|1 September 1939|2 September 1945|sep|=|and|)|efn| While [[World War II#Chronology|various other dates]] have been proposed as the date on which World War II began or ended, this is the time span most frequently cited.}} {{start and end dates|1939|9|1|1945|9|2|df|=|yes}} {{Age in years and days|1 September 1939|2 September 1945|sep|=|and}} ) {{efn| While [[World War II#Chronology|various other dates]] have been proposed as the date on which World War II began or ended, this is the time span most frequently cited.}}'),\n",
       " Row(end_date='{{ubl|start and end dates|1939|9|1|1945|9|2|df|=|yes|\\n                  |(|Age in years and days|1 September 1939|2 September 1945|sep|=|and|)|efn| While [[World War II#Chronology|various other dates]] have been proposed as the date on which World War II began or ended, this is the time span most frequently cited.}} {{start and end dates|1939|9|1|1945|9|2|df|=|yes}} {{Age in years and days|1 September 1939|2 September 1945|sep|=|and}} ) {{efn| While [[World War II#Chronology|various other dates]] have been proposed as the date on which World War II began or ended, this is the time span most frequently cited.}}'),\n",
       " Row(end_date='+1945-00-00T00:00:00Z'),\n",
       " Row(end_date='{{ubl|start and end dates|1939|9|1|1945|9|2|df|=|yes|\\n                  |(|Age in years and days|1 September 1939|2 September 1945|sep|=|and|)|efn| While [[World War II#Chronology|various other dates]] have been proposed as the date on which World War II began or ended, this is the time span most frequently cited.}} {{start and end dates|1939|9|1|1945|9|2|df|=|yes}} {{Age in years and days|1 September 1939|2 September 1945|sep|=|and}} ) {{efn| While [[World War II#Chronology|various other dates]] have been proposed as the date on which World War II began or ended, this is the time span most frequently cited.}}'),\n",
       " Row(end_date='+1944-10-30T00:00:00Z'),\n",
       " Row(end_date='{{ubl|start and end dates|1939|9|1|1945|9|2|df|=|yes|\\n                  |(|Age in years and days|1 September 1939|2 September 1945|sep|=|and|)|efn| While [[World War II#Chronology|various other dates]] have been proposed as the date on which World War II began or ended, this is the time span most frequently cited.}} {{start and end dates|1939|9|1|1945|9|2|df|=|yes}} {{Age in years and days|1 September 1939|2 September 1945|sep|=|and}} ) {{efn| While [[World War II#Chronology|various other dates]] have been proposed as the date on which World War II began or ended, this is the time span most frequently cited.}}'),\n",
       " Row(end_date='{{ubl|start and end dates|1939|9|1|1945|9|2|df|=|yes|\\n                  |(|Age in years and days|1 September 1939|2 September 1945|sep|=|and|)|efn| While [[World War II#Chronology|various other dates]] have been proposed as the date on which World War II began or ended, this is the time span most frequently cited.}} {{start and end dates|1939|9|1|1945|9|2|df|=|yes}} {{Age in years and days|1 September 1939|2 September 1945|sep|=|and}} ) {{efn| While [[World War II#Chronology|various other dates]] have been proposed as the date on which World War II began or ended, this is the time span most frequently cited.}}'),\n",
       " Row(end_date='{{ubl|start and end dates|1939|9|1|1945|9|2|df|=|yes|\\n                  |(|Age in years and days|1 September 1939|2 September 1945|sep|=|and|)|efn| While [[World War II#Chronology|various other dates]] have been proposed as the date on which World War II began or ended, this is the time span most frequently cited.}} {{start and end dates|1939|9|1|1945|9|2|df|=|yes}} {{Age in years and days|1 September 1939|2 September 1945|sep|=|and}} ) {{efn| While [[World War II#Chronology|various other dates]] have been proposed as the date on which World War II began or ended, this is the time span most frequently cited.}}'),\n",
       " Row(end_date='{{ubl|start and end dates|1939|9|1|1945|9|2|df|=|yes|\\n                  |(|Age in years and days|1 September 1939|2 September 1945|sep|=|and|)|efn| While [[World War II#Chronology|various other dates]] have been proposed as the date on which World War II began or ended, this is the time span most frequently cited.}} {{start and end dates|1939|9|1|1945|9|2|df|=|yes}} {{Age in years and days|1 September 1939|2 September 1945|sep|=|and}} ) {{efn| While [[World War II#Chronology|various other dates]] have been proposed as the date on which World War II began or ended, this is the time span most frequently cited.}}'),\n",
       " Row(end_date='{{ubl|start and end dates|1939|9|1|1945|9|2|df|=|yes|\\n                  |(|Age in years and days|1 September 1939|2 September 1945|sep|=|and|)|efn| While [[World War II#Chronology|various other dates]] have been proposed as the date on which World War II began or ended, this is the time span most frequently cited.}} {{start and end dates|1939|9|1|1945|9|2|df|=|yes}} {{Age in years and days|1 September 1939|2 September 1945|sep|=|and}} ) {{efn| While [[World War II#Chronology|various other dates]] have been proposed as the date on which World War II began or ended, this is the time span most frequently cited.}}'),\n",
       " Row(end_date='{{ubl|start and end dates|1939|9|1|1945|9|2|df|=|yes|\\n                  |(|Age in years and days|1 September 1939|2 September 1945|sep|=|and|)|efn| While [[World War II#Chronology|various other dates]] have been proposed as the date on which World War II began or ended, this is the time span most frequently cited.}} {{start and end dates|1939|9|1|1945|9|2|df|=|yes}} {{Age in years and days|1 September 1939|2 September 1945|sep|=|and}} ) {{efn| While [[World War II#Chronology|various other dates]] have been proposed as the date on which World War II began or ended, this is the time span most frequently cited.}}'),\n",
       " Row(end_date='{{ubl|start and end dates|1939|9|1|1945|9|2|df|=|yes|\\n                  |(|Age in years and days|1 September 1939|2 September 1945|sep|=|and|)|efn| While [[World War II#Chronology|various other dates]] have been proposed as the date on which World War II began or ended, this is the time span most frequently cited.}} {{start and end dates|1939|9|1|1945|9|2|df|=|yes}} {{Age in years and days|1 September 1939|2 September 1945|sep|=|and}} ) {{efn| While [[World War II#Chronology|various other dates]] have been proposed as the date on which World War II began or ended, this is the time span most frequently cited.}}'),\n",
       " Row(end_date='{{ubl|start and end dates|1939|9|1|1945|9|2|df|=|yes|\\n                  |(|Age in years and days|1 September 1939|2 September 1945|sep|=|and|)|efn| While [[World War II#Chronology|various other dates]] have been proposed as the date on which World War II began or ended, this is the time span most frequently cited.}} {{start and end dates|1939|9|1|1945|9|2|df|=|yes}} {{Age in years and days|1 September 1939|2 September 1945|sep|=|and}} ) {{efn| While [[World War II#Chronology|various other dates]] have been proposed as the date on which World War II began or ended, this is the time span most frequently cited.}}')]"
      ]
     },
     "execution_count": 83,
     "metadata": {},
     "output_type": "execute_result"
    }
   ],
   "source": [
    "ww2_df.select('end_date').collect()"
   ]
  },
  {
   "cell_type": "code",
   "execution_count": 43,
   "metadata": {},
   "outputs": [
    {
     "data": {
      "text/plain": [
       "[Row(title='Bombing of Dresden in World War II'),\n",
       " Row(title='Balkans Campaign (World War II)'),\n",
       " Row(title='World War II'),\n",
       " Row(title='Mediterranean U-boat Campaign (World War II)'),\n",
       " Row(title='Repatriation of Cossacks after World War II'),\n",
       " Row(title='Siege of Malta (World War II)'),\n",
       " Row(title='East African Campaign (World War II)'),\n",
       " Row(title='Arctic convoys of World War II'),\n",
       " Row(title='South-East Asian theatre of World War II'),\n",
       " Row(title='European theatre of World War II'),\n",
       " Row(title='Bombing of Vienna in World War II'),\n",
       " Row(title='Bombing of Königsberg in World War II'),\n",
       " Row(title='Bombing of Warsaw in World War II'),\n",
       " Row(title='Bombing of Berlin in World War II'),\n",
       " Row(title='Polish resistance movement in World War II'),\n",
       " Row(title='Mediterranean and Middle East theatre of World War II'),\n",
       " Row(title='Eastern Front (World War II)'),\n",
       " Row(title='Western Front (World War II)'),\n",
       " Row(title='Strategic bombing during World War II'),\n",
       " Row(title='Italian Campaign (World War II)'),\n",
       " Row(title='Bombing of Zadar in World War II'),\n",
       " Row(title='Bombing of Würzburg in World War II'),\n",
       " Row(title='Bombing of Gorky in World War II'),\n",
       " Row(title='Gibraltar convoys of World War II'),\n",
       " Row(title='Bombing of Duisburg in World War II'),\n",
       " Row(title='World War II in Yugoslavia'),\n",
       " Row(title='Bombing of Treviso in World War II'),\n",
       " Row(title='World War II in Yugoslav Macedonia'),\n",
       " Row(title='Bombing of Rome in World War II'),\n",
       " Row(title='Oil campaign of World War II'),\n",
       " Row(title='Bombing of Bucharest in World War II'),\n",
       " Row(title='Romanian Navy during World War II'),\n",
       " Row(title='Bombing of Kassel in World War II'),\n",
       " Row(title='Bombing of Wiener Neustadt in World War II'),\n",
       " Row(title='Adriatic Campaign of World War II'),\n",
       " Row(title='Bombing of Friedrichshafen in World War II'),\n",
       " Row(title='Bombing of Nordhausen in World War II'),\n",
       " Row(title='Taganrog during World War II'),\n",
       " Row(title='World War II in Albania'),\n",
       " Row(title='American Theater (World War II)'),\n",
       " Row(title='Greenland in World War II'),\n",
       " Row(title='Bombing of Bangkok in World War II'),\n",
       " Row(title='Bombing of Toyokawa in World War II'),\n",
       " Row(title='Lost Battalion (Europe, World War II)'),\n",
       " Row(title='Italian bombing of Mandatory Palestine in World War II'),\n",
       " Row(title='Bombing of Helsinki in World War II'),\n",
       " Row(title='World War III (film)'),\n",
       " Row(title='Bombing of Ludwigshafen and Oppau in World War II'),\n",
       " Row(title='Allied naval bombardments of Japan during World War II'),\n",
       " Row(title='Bombing of Bremen in World War II'),\n",
       " Row(title='Arctic naval operations of World War II'),\n",
       " Row(title='Bombing of Bahrain in World War II')]"
      ]
     },
     "execution_count": 43,
     "metadata": {},
     "output_type": "execute_result"
    }
   ],
   "source": [
    "ww2_df.select('title').collect()"
   ]
  },
  {
   "cell_type": "code",
   "execution_count": 44,
   "metadata": {},
   "outputs": [
    {
     "data": {
      "text/plain": [
       "[Row(death=\"{{plainlist|\\n* '''Military dead:'''\\n* Over 16,000,000\\n* '''Civilian dead:'''\\n* Over 45,000,000\\n* '''Total dead:'''\\n* Over 61,000,000\\n* (1937–1945)\\n* [[World War II casualties|...''further details'']]}}\"),\n",
       " Row(death=\"{{plainlist|\\n* '''Military dead:'''\\n* Over 16,000,000\\n* '''Civilian dead:'''\\n* Over 45,000,000\\n* '''Total dead:'''\\n* Over 61,000,000\\n* (1937–1945)\\n* [[World War II casualties|...''further details'']]}}\"),\n",
       " Row(death='+73000000'),\n",
       " Row(death=\"{{plainlist|\\n* '''Military dead:'''\\n* Over 16,000,000\\n* '''Civilian dead:'''\\n* Over 45,000,000\\n* '''Total dead:'''\\n* Over 61,000,000\\n* (1937–1945)\\n* [[World War II casualties|...''further details'']]}}\"),\n",
       " Row(death=\"{{plainlist|\\n* '''Military dead:'''\\n* Over 16,000,000\\n* '''Civilian dead:'''\\n* Over 45,000,000\\n* '''Total dead:'''\\n* Over 61,000,000\\n* (1937–1945)\\n* [[World War II casualties|...''further details'']]}}\"),\n",
       " Row(death=\"{{plainlist|\\n* '''Military dead:'''\\n* Over 16,000,000\\n* '''Civilian dead:'''\\n* Over 45,000,000\\n* '''Total dead:'''\\n* Over 61,000,000\\n* (1937–1945)\\n* [[World War II casualties|...''further details'']]}}\"),\n",
       " Row(death=\"{{plainlist|\\n* '''Military dead:'''\\n* Over 16,000,000\\n* '''Civilian dead:'''\\n* Over 45,000,000\\n* '''Total dead:'''\\n* Over 61,000,000\\n* (1937–1945)\\n* [[World War II casualties|...''further details'']]}}\"),\n",
       " Row(death=\"{{plainlist|\\n* '''Military dead:'''\\n* Over 16,000,000\\n* '''Civilian dead:'''\\n* Over 45,000,000\\n* '''Total dead:'''\\n* Over 61,000,000\\n* (1937–1945)\\n* [[World War II casualties|...''further details'']]}}\"),\n",
       " Row(death=\"{{plainlist|\\n* '''Military dead:'''\\n* Over 16,000,000\\n* '''Civilian dead:'''\\n* Over 45,000,000\\n* '''Total dead:'''\\n* Over 61,000,000\\n* (1937–1945)\\n* [[World War II casualties|...''further details'']]}}\"),\n",
       " Row(death=\"{{plainlist|\\n* '''Military dead:'''\\n* Over 16,000,000\\n* '''Civilian dead:'''\\n* Over 45,000,000\\n* '''Total dead:'''\\n* Over 61,000,000\\n* (1937–1945)\\n* [[World War II casualties|...''further details'']]}}\"),\n",
       " Row(death=\"{{plainlist|\\n* '''Military dead:'''\\n* Over 16,000,000\\n* '''Civilian dead:'''\\n* Over 45,000,000\\n* '''Total dead:'''\\n* Over 61,000,000\\n* (1937–1945)\\n* [[World War II casualties|...''further details'']]}}\"),\n",
       " Row(death=\"{{plainlist|\\n* '''Military dead:'''\\n* Over 16,000,000\\n* '''Civilian dead:'''\\n* Over 45,000,000\\n* '''Total dead:'''\\n* Over 61,000,000\\n* (1937–1945)\\n* [[World War II casualties|...''further details'']]}}\"),\n",
       " Row(death=\"{{plainlist|\\n* '''Military dead:'''\\n* Over 16,000,000\\n* '''Civilian dead:'''\\n* Over 45,000,000\\n* '''Total dead:'''\\n* Over 61,000,000\\n* (1937–1945)\\n* [[World War II casualties|...''further details'']]}}\"),\n",
       " Row(death=\"{{plainlist|\\n* '''Military dead:'''\\n* Over 16,000,000\\n* '''Civilian dead:'''\\n* Over 45,000,000\\n* '''Total dead:'''\\n* Over 61,000,000\\n* (1937–1945)\\n* [[World War II casualties|...''further details'']]}}\"),\n",
       " Row(death=\"{{plainlist|\\n* '''Military dead:'''\\n* Over 16,000,000\\n* '''Civilian dead:'''\\n* Over 45,000,000\\n* '''Total dead:'''\\n* Over 61,000,000\\n* (1937–1945)\\n* [[World War II casualties|...''further details'']]}}\"),\n",
       " Row(death=\"{{plainlist|\\n* '''Military dead:'''\\n* Over 16,000,000\\n* '''Civilian dead:'''\\n* Over 45,000,000\\n* '''Total dead:'''\\n* Over 61,000,000\\n* (1937–1945)\\n* [[World War II casualties|...''further details'']]}}\"),\n",
       " Row(death=\"{{plainlist|\\n* '''Military dead:'''\\n* Over 16,000,000\\n* '''Civilian dead:'''\\n* Over 45,000,000\\n* '''Total dead:'''\\n* Over 61,000,000\\n* (1937–1945)\\n* [[World War II casualties|...''further details'']]}}\"),\n",
       " Row(death=\"{{plainlist|\\n* '''Military dead:'''\\n* Over 16,000,000\\n* '''Civilian dead:'''\\n* Over 45,000,000\\n* '''Total dead:'''\\n* Over 61,000,000\\n* (1937–1945)\\n* [[World War II casualties|...''further details'']]}}\"),\n",
       " Row(death=\"{{plainlist|\\n* '''Military dead:'''\\n* Over 16,000,000\\n* '''Civilian dead:'''\\n* Over 45,000,000\\n* '''Total dead:'''\\n* Over 61,000,000\\n* (1937–1945)\\n* [[World War II casualties|...''further details'']]}}\"),\n",
       " Row(death=\"{{plainlist|\\n* '''Military dead:'''\\n* Over 16,000,000\\n* '''Civilian dead:'''\\n* Over 45,000,000\\n* '''Total dead:'''\\n* Over 61,000,000\\n* (1937–1945)\\n* [[World War II casualties|...''further details'']]}}\"),\n",
       " Row(death=\"{{plainlist|\\n* '''Military dead:'''\\n* Over 16,000,000\\n* '''Civilian dead:'''\\n* Over 45,000,000\\n* '''Total dead:'''\\n* Over 61,000,000\\n* (1937–1945)\\n* [[World War II casualties|...''further details'']]}}\"),\n",
       " Row(death=\"{{plainlist|\\n* '''Military dead:'''\\n* Over 16,000,000\\n* '''Civilian dead:'''\\n* Over 45,000,000\\n* '''Total dead:'''\\n* Over 61,000,000\\n* (1937–1945)\\n* [[World War II casualties|...''further details'']]}}\"),\n",
       " Row(death=\"{{plainlist|\\n* '''Military dead:'''\\n* Over 16,000,000\\n* '''Civilian dead:'''\\n* Over 45,000,000\\n* '''Total dead:'''\\n* Over 61,000,000\\n* (1937–1945)\\n* [[World War II casualties|...''further details'']]}}\"),\n",
       " Row(death=\"{{plainlist|\\n* '''Military dead:'''\\n* Over 16,000,000\\n* '''Civilian dead:'''\\n* Over 45,000,000\\n* '''Total dead:'''\\n* Over 61,000,000\\n* (1937–1945)\\n* [[World War II casualties|...''further details'']]}}\"),\n",
       " Row(death=\"{{plainlist|\\n* '''Military dead:'''\\n* Over 16,000,000\\n* '''Civilian dead:'''\\n* Over 45,000,000\\n* '''Total dead:'''\\n* Over 61,000,000\\n* (1937–1945)\\n* [[World War II casualties|...''further details'']]}}\"),\n",
       " Row(death=\"{{plainlist|\\n* '''Military dead:'''\\n* Over 16,000,000\\n* '''Civilian dead:'''\\n* Over 45,000,000\\n* '''Total dead:'''\\n* Over 61,000,000\\n* (1937–1945)\\n* [[World War II casualties|...''further details'']]}}\"),\n",
       " Row(death=\"{{plainlist|\\n* '''Military dead:'''\\n* Over 16,000,000\\n* '''Civilian dead:'''\\n* Over 45,000,000\\n* '''Total dead:'''\\n* Over 61,000,000\\n* (1937–1945)\\n* [[World War II casualties|...''further details'']]}}\"),\n",
       " Row(death=\"{{plainlist|\\n* '''Military dead:'''\\n* Over 16,000,000\\n* '''Civilian dead:'''\\n* Over 45,000,000\\n* '''Total dead:'''\\n* Over 61,000,000\\n* (1937–1945)\\n* [[World War II casualties|...''further details'']]}}\"),\n",
       " Row(death=\"{{plainlist|\\n* '''Military dead:'''\\n* Over 16,000,000\\n* '''Civilian dead:'''\\n* Over 45,000,000\\n* '''Total dead:'''\\n* Over 61,000,000\\n* (1937–1945)\\n* [[World War II casualties|...''further details'']]}}\"),\n",
       " Row(death=\"{{plainlist|\\n* '''Military dead:'''\\n* Over 16,000,000\\n* '''Civilian dead:'''\\n* Over 45,000,000\\n* '''Total dead:'''\\n* Over 61,000,000\\n* (1937–1945)\\n* [[World War II casualties|...''further details'']]}}\"),\n",
       " Row(death=\"{{plainlist|\\n* '''Military dead:'''\\n* Over 16,000,000\\n* '''Civilian dead:'''\\n* Over 45,000,000\\n* '''Total dead:'''\\n* Over 61,000,000\\n* (1937–1945)\\n* [[World War II casualties|...''further details'']]}}\"),\n",
       " Row(death=\"{{plainlist|\\n* '''Military dead:'''\\n* Over 16,000,000\\n* '''Civilian dead:'''\\n* Over 45,000,000\\n* '''Total dead:'''\\n* Over 61,000,000\\n* (1937–1945)\\n* [[World War II casualties|...''further details'']]}}\"),\n",
       " Row(death=\"{{plainlist|\\n* '''Military dead:'''\\n* Over 16,000,000\\n* '''Civilian dead:'''\\n* Over 45,000,000\\n* '''Total dead:'''\\n* Over 61,000,000\\n* (1937–1945)\\n* [[World War II casualties|...''further details'']]}}\"),\n",
       " Row(death=\"{{plainlist|\\n* '''Military dead:'''\\n* Over 16,000,000\\n* '''Civilian dead:'''\\n* Over 45,000,000\\n* '''Total dead:'''\\n* Over 61,000,000\\n* (1937–1945)\\n* [[World War II casualties|...''further details'']]}}\"),\n",
       " Row(death=\"{{plainlist|\\n* '''Military dead:'''\\n* Over 16,000,000\\n* '''Civilian dead:'''\\n* Over 45,000,000\\n* '''Total dead:'''\\n* Over 61,000,000\\n* (1937–1945)\\n* [[World War II casualties|...''further details'']]}}\"),\n",
       " Row(death=\"{{plainlist|\\n* '''Military dead:'''\\n* Over 16,000,000\\n* '''Civilian dead:'''\\n* Over 45,000,000\\n* '''Total dead:'''\\n* Over 61,000,000\\n* (1937–1945)\\n* [[World War II casualties|...''further details'']]}}\"),\n",
       " Row(death=\"{{plainlist|\\n* '''Military dead:'''\\n* Over 16,000,000\\n* '''Civilian dead:'''\\n* Over 45,000,000\\n* '''Total dead:'''\\n* Over 61,000,000\\n* (1937–1945)\\n* [[World War II casualties|...''further details'']]}}\"),\n",
       " Row(death=\"{{plainlist|\\n* '''Military dead:'''\\n* Over 16,000,000\\n* '''Civilian dead:'''\\n* Over 45,000,000\\n* '''Total dead:'''\\n* Over 61,000,000\\n* (1937–1945)\\n* [[World War II casualties|...''further details'']]}}\"),\n",
       " Row(death=\"{{plainlist|\\n* '''Military dead:'''\\n* Over 16,000,000\\n* '''Civilian dead:'''\\n* Over 45,000,000\\n* '''Total dead:'''\\n* Over 61,000,000\\n* (1937–1945)\\n* [[World War II casualties|...''further details'']]}}\"),\n",
       " Row(death=\"{{plainlist|\\n* '''Military dead:'''\\n* Over 16,000,000\\n* '''Civilian dead:'''\\n* Over 45,000,000\\n* '''Total dead:'''\\n* Over 61,000,000\\n* (1937–1945)\\n* [[World War II casualties|...''further details'']]}}\"),\n",
       " Row(death=\"{{plainlist|\\n* '''Military dead:'''\\n* Over 16,000,000\\n* '''Civilian dead:'''\\n* Over 45,000,000\\n* '''Total dead:'''\\n* Over 61,000,000\\n* (1937–1945)\\n* [[World War II casualties|...''further details'']]}}\"),\n",
       " Row(death=\"{{plainlist|\\n* '''Military dead:'''\\n* Over 16,000,000\\n* '''Civilian dead:'''\\n* Over 45,000,000\\n* '''Total dead:'''\\n* Over 61,000,000\\n* (1937–1945)\\n* [[World War II casualties|...''further details'']]}}\"),\n",
       " Row(death=\"{{plainlist|\\n* '''Military dead:'''\\n* Over 16,000,000\\n* '''Civilian dead:'''\\n* Over 45,000,000\\n* '''Total dead:'''\\n* Over 61,000,000\\n* (1937–1945)\\n* [[World War II casualties|...''further details'']]}}\"),\n",
       " Row(death=\"{{plainlist|\\n* '''Military dead:'''\\n* Over 16,000,000\\n* '''Civilian dead:'''\\n* Over 45,000,000\\n* '''Total dead:'''\\n* Over 61,000,000\\n* (1937–1945)\\n* [[World War II casualties|...''further details'']]}}\"),\n",
       " Row(death='+137'),\n",
       " Row(death=\"{{plainlist|\\n* '''Military dead:'''\\n* Over 16,000,000\\n* '''Civilian dead:'''\\n* Over 45,000,000\\n* '''Total dead:'''\\n* Over 61,000,000\\n* (1937–1945)\\n* [[World War II casualties|...''further details'']]}}\"),\n",
       " Row(death=\"{{plainlist|\\n* '''Military dead:'''\\n* Over 16,000,000\\n* '''Civilian dead:'''\\n* Over 45,000,000\\n* '''Total dead:'''\\n* Over 61,000,000\\n* (1937–1945)\\n* [[World War II casualties|...''further details'']]}}\"),\n",
       " Row(death=\"{{plainlist|\\n* '''Military dead:'''\\n* Over 16,000,000\\n* '''Civilian dead:'''\\n* Over 45,000,000\\n* '''Total dead:'''\\n* Over 61,000,000\\n* (1937–1945)\\n* [[World War II casualties|...''further details'']]}}\"),\n",
       " Row(death=\"{{plainlist|\\n* '''Military dead:'''\\n* Over 16,000,000\\n* '''Civilian dead:'''\\n* Over 45,000,000\\n* '''Total dead:'''\\n* Over 61,000,000\\n* (1937–1945)\\n* [[World War II casualties|...''further details'']]}}\"),\n",
       " Row(death=\"{{plainlist|\\n* '''Military dead:'''\\n* Over 16,000,000\\n* '''Civilian dead:'''\\n* Over 45,000,000\\n* '''Total dead:'''\\n* Over 61,000,000\\n* (1937–1945)\\n* [[World War II casualties|...''further details'']]}}\"),\n",
       " Row(death=\"{{plainlist|\\n* '''Military dead:'''\\n* Over 16,000,000\\n* '''Civilian dead:'''\\n* Over 45,000,000\\n* '''Total dead:'''\\n* Over 61,000,000\\n* (1937–1945)\\n* [[World War II casualties|...''further details'']]}}\"),\n",
       " Row(death=\"{{plainlist|\\n* '''Military dead:'''\\n* Over 16,000,000\\n* '''Civilian dead:'''\\n* Over 45,000,000\\n* '''Total dead:'''\\n* Over 61,000,000\\n* (1937–1945)\\n* [[World War II casualties|...''further details'']]}}\")]"
      ]
     },
     "execution_count": 44,
     "metadata": {},
     "output_type": "execute_result"
    }
   ],
   "source": [
    "ww2_df.select('death').collect()"
   ]
  },
  {
   "cell_type": "code",
   "execution_count": 45,
   "metadata": {},
   "outputs": [
    {
     "data": {
      "text/plain": [
       "[Row(id=64692),\n",
       " Row(id=627326),\n",
       " Row(id=32927),\n",
       " Row(id=8027546),\n",
       " Row(id=3498598),\n",
       " Row(id=776074),\n",
       " Row(id=988219),\n",
       " Row(id=998807),\n",
       " Row(id=902040),\n",
       " Row(id=342640),\n",
       " Row(id=7439614),\n",
       " Row(id=7468801),\n",
       " Row(id=927764),\n",
       " Row(id=936661),\n",
       " Row(id=4329310),\n",
       " Row(id=1779568),\n",
       " Row(id=519489),\n",
       " Row(id=519516),\n",
       " Row(id=730658),\n",
       " Row(id=493696),\n",
       " Row(id=5352468),\n",
       " Row(id=4149594),\n",
       " Row(id=54639200),\n",
       " Row(id=52997544),\n",
       " Row(id=7668163),\n",
       " Row(id=7148715),\n",
       " Row(id=11413940),\n",
       " Row(id=13669170),\n",
       " Row(id=8814971),\n",
       " Row(id=20537542),\n",
       " Row(id=6820802),\n",
       " Row(id=54956721),\n",
       " Row(id=537817),\n",
       " Row(id=22573476),\n",
       " Row(id=22619466),\n",
       " Row(id=22752221),\n",
       " Row(id=22878403),\n",
       " Row(id=25536548),\n",
       " Row(id=291341),\n",
       " Row(id=2728998),\n",
       " Row(id=10805870),\n",
       " Row(id=33247384),\n",
       " Row(id=32732761),\n",
       " Row(id=15873865),\n",
       " Row(id=2823356),\n",
       " Row(id=10262809),\n",
       " Row(id=4397117),\n",
       " Row(id=30281564),\n",
       " Row(id=30319330),\n",
       " Row(id=17426585),\n",
       " Row(id=36240634),\n",
       " Row(id=27495752)]"
      ]
     },
     "execution_count": 45,
     "metadata": {},
     "output_type": "execute_result"
    }
   ],
   "source": [
    "ww2_df.select('id').collect()"
   ]
  },
  {
   "cell_type": "code",
   "execution_count": null,
   "metadata": {},
   "outputs": [],
   "source": []
  }
 ],
 "metadata": {
  "kernelspec": {
   "display_name": "Python [conda env:ada]",
   "language": "python",
   "name": "conda-env-ada-py"
  },
  "language_info": {
   "codemirror_mode": {
    "name": "ipython",
    "version": 3
   },
   "file_extension": ".py",
   "mimetype": "text/x-python",
   "name": "python",
   "nbconvert_exporter": "python",
   "pygments_lexer": "ipython3",
   "version": "3.6.6"
  }
 },
 "nbformat": 4,
 "nbformat_minor": 2
}
