{
 "cells": [
  {
   "cell_type": "code",
   "execution_count": 1,
   "metadata": {},
   "outputs": [],
   "source": [
    "import wptools\n",
    "import pyspark\n",
    "import pyspark.sql\n",
    "from pyspark.sql import *\n",
    "import os.path\n",
    "from pyspark.sql.functions import desc\n",
    "\n",
    "import findspark\n",
    "findspark.init()\n",
    "\n",
    "from pyspark.sql import dataframe\n",
    "from pyspark.sql import functions as F\n",
    "\n",
    "from pyspark.sql import SparkSession\n",
    "from pyspark import SparkContext\n",
    "from pyspark.sql import SQLContext\n",
    "\n",
    "spark = SparkSession.builder.getOrCreate()\n",
    "sc = spark.sparkContext\n",
    "\n",
    "from pyspark.sql import SQLContext\n",
    "sqlContext = SQLContext(sc)"
   ]
  },
  {
   "cell_type": "markdown",
   "metadata": {},
   "source": [
    "### Loading data "
   ]
  },
  {
   "cell_type": "code",
   "execution_count": 2,
   "metadata": {},
   "outputs": [],
   "source": [
    "DATA_DIR = '../' \n",
    "WIKIPEDIA_CONFLICTS_PARQUET = DATA_DIR + 'selectedConflict.parquet'\n",
    "\n",
    "# loading the saved parquet files\n",
    "wikipedia = spark.read.parquet(WIKIPEDIA_CONFLICTS_PARQUET)"
   ]
  },
  {
   "cell_type": "code",
   "execution_count": 3,
   "metadata": {},
   "outputs": [],
   "source": [
    "wikipedia_temp = wikipedia.registerTempTable('wikipedia_temp')\n",
    "\n",
    "categories_query = \"\"\"\n",
    "select DISTINCT categories\n",
    "from wikipedia_temp\"\"\"\n",
    "\n",
    "categories = spark.sql(categories_query)"
   ]
  },
  {
   "cell_type": "code",
   "execution_count": null,
   "metadata": {},
   "outputs": [],
   "source": [
    "categories.show(10)"
   ]
  },
  {
   "cell_type": "code",
   "execution_count": null,
   "metadata": {},
   "outputs": [],
   "source": [
    "wikipedia.where(\"categories like '%civilian attack%'\").show(5) #to change to military conflict in script"
   ]
  },
  {
   "cell_type": "code",
   "execution_count": null,
   "metadata": {
    "scrolled": true
   },
   "outputs": [],
   "source": [
    "wikipedia.filter(\"ns = '0'\") \\\n",
    "            .select(\"revision.text._VALUE\") \\\n",
    "            .filter(\"_VALUE like '%{{%Infobox civilian attack'\") \\\n",
    "            .show(2)"
   ]
  },
  {
   "cell_type": "code",
   "execution_count": null,
   "metadata": {},
   "outputs": [],
   "source": [
    "wikipedia.where(\"title = 'Tulsa race riot'\").show()"
   ]
  },
  {
   "cell_type": "code",
   "execution_count": null,
   "metadata": {},
   "outputs": [],
   "source": [
    "wikipedia.where(\"title = 'Tulsa race riot'\") \\\n",
    "        .select(\"revision.text._VALUE\") \\\n",
    "        .filter(\"_VALUE like '%{{Infobox civilian attack%'\").collect()[0]"
   ]
  },
  {
   "cell_type": "markdown",
   "metadata": {},
   "source": [
    "### UNICORN ON THE GOOO"
   ]
  },
  {
   "cell_type": "code",
   "execution_count": 4,
   "metadata": {},
   "outputs": [
    {
     "name": "stderr",
     "output_type": "stream",
     "text": [
      "en.wikipedia.org (parse) Tulsa race riot\n",
      "en.wikipedia.org (imageinfo) File:TulsaRaceRiot-1921.png\n",
      "Tulsa race riot (en) data\n",
      "{\n",
      "  image: <list(1)> {'kind': 'parse-image', 'file': 'File:TulsaRace...\n",
      "  infobox: <dict(13)> title, partof, image, image_upright, caption...\n",
      "  iwlinks: <list(1)> https://commons.wikimedia.org/wiki/Category:T...\n",
      "  pageid: 30785\n",
      "  parsetree: <str(92653)> <root><template><title>Use mdy dates</ti...\n",
      "  requests: <list(2)> parse, imageinfo\n",
      "  title: Tulsa race riot\n",
      "  wikibase: Q1824714\n",
      "  wikidata_url: https://www.wikidata.org/wiki/Q1824714\n",
      "  wikitext: <str(75336)> {{Use mdy dates|date=March 2016}}{{Infobo...\n",
      "}\n"
     ]
    },
    {
     "data": {
      "text/plain": [
       "<wptools.page.WPToolsPage at 0x10b0aca20>"
      ]
     },
     "execution_count": 4,
     "metadata": {},
     "output_type": "execute_result"
    }
   ],
   "source": [
    "bubu_page = wptools.page('Tulsa race riot')\n",
    "#dir(page.get_parse())\n",
    "bubu_page.get_parse()"
   ]
  },
  {
   "cell_type": "code",
   "execution_count": 5,
   "metadata": {},
   "outputs": [
    {
     "name": "stderr",
     "output_type": "stream",
     "text": [
      "en.wikipedia.org (querymore) 30785\n",
      "Tulsa race riot (en) data\n",
      "{\n",
      "  backlinks: <list(412)> {'pageid': 15080, 'ns': 0, 'title': 'Indi...\n",
      "  categories: <list(20)> Category:1921 crimes, Category:1921 in Ok...\n",
      "  contributors: 955\n",
      "  files: <list(16)> File:All That Was Left of His Home after the T...\n",
      "  image: <list(1)> {'kind': 'parse-image', 'file': 'File:TulsaRace...\n",
      "  infobox: <dict(13)> title, partof, image, image_upright, caption...\n",
      "  iwlinks: <list(1)> https://commons.wikimedia.org/wiki/Category:T...\n",
      "  languages: <list(11)> {'lang': 'da', 'title': 'Raceoptøjerne i T...\n",
      "  pageid: 30785\n",
      "  parsetree: <str(92653)> <root><template><title>Use mdy dates</ti...\n",
      "  requests: <list(3)> parse, imageinfo, querymore\n",
      "  title: Tulsa race riot\n",
      "  views: 1,916\n",
      "  wikibase: Q1824714\n",
      "  wikidata_url: https://www.wikidata.org/wiki/Q1824714\n",
      "  wikitext: <str(75336)> {{Use mdy dates|date=March 2016}}{{Infobo...\n",
      "}\n"
     ]
    },
    {
     "data": {
      "text/plain": [
       "<wptools.page.WPToolsPage at 0x10b0aca20>"
      ]
     },
     "execution_count": 5,
     "metadata": {},
     "output_type": "execute_result"
    }
   ],
   "source": [
    "bubu_page.get_more()"
   ]
  },
  {
   "cell_type": "code",
   "execution_count": 6,
   "metadata": {},
   "outputs": [
    {
     "data": {
      "text/plain": [
       "{'title': 'Tulsa race riot',\n",
       " 'partof': '[[racism in the United States]]',\n",
       " 'image': 'TulsaRaceRiot-1921.png',\n",
       " 'image_upright': '1.3',\n",
       " 'caption': 'Buildings burning during the Tulsa race riot',\n",
       " 'location': '[[Greenwood, Tulsa]], Oklahoma, U.S.',\n",
       " 'date': 'May 31 – June 1, 1921',\n",
       " 'coordinates': '{{coord |36.1594 |N |95.9864 |W |region:US-OK_type:event |display|=|inline,title|format|=|dms}}',\n",
       " 'fatalities': '36 (1921 findings)<br />Total unknown according to Red Cross <br>100–300 (2001 Oklahoma Commission Report)',\n",
       " 'injuries': 'Over 800',\n",
       " 'target': 'Black citizens',\n",
       " 'perps': 'White mob, the police, the [[United States National Guard]] {{rp|193, 196}}',\n",
       " 'weapons': 'Guns, incendiary devices, explosives, airplanes {{rp|196}}'}"
      ]
     },
     "execution_count": 6,
     "metadata": {},
     "output_type": "execute_result"
    }
   ],
   "source": [
    "bubu_page.data['infobox']"
   ]
  },
  {
   "cell_type": "code",
   "execution_count": 7,
   "metadata": {},
   "outputs": [
    {
     "name": "stdout",
     "output_type": "stream",
     "text": [
      "1916\n",
      "[[Greenwood, Tulsa]], Oklahoma, U.S.\n",
      "May 31 – June 1, 1921\n",
      "36 (1921 findings)<br />Total unknown according to Red Cross <br>100–300 (2001 Oklahoma Commission Report)\n",
      "Over 800\n"
     ]
    }
   ],
   "source": [
    "print(bubu_page.data['views'])\n",
    "print(bubu_page.data['infobox']['location'])\n",
    "print(bubu_page.data['infobox']['date'])\n",
    "print(bubu_page.data['infobox']['fatalities'])\n",
    "print(bubu_page.data['infobox']['injuries'])"
   ]
  },
  {
   "cell_type": "markdown",
   "metadata": {},
   "source": [
    "---\n",
    "\n",
    "### Infobox per category ?"
   ]
  },
  {
   "cell_type": "markdown",
   "metadata": {},
   "source": [
    "### Infobox `civilian attack`"
   ]
  },
  {
   "cell_type": "code",
   "execution_count": 8,
   "metadata": {},
   "outputs": [
    {
     "name": "stdout",
     "output_type": "stream",
     "text": [
      "root\n",
      " |-- id: long (nullable = true)\n",
      " |-- ns: long (nullable = true)\n",
      " |-- restrictions: string (nullable = true)\n",
      " |-- revision: struct (nullable = true)\n",
      " |    |-- comment: struct (nullable = true)\n",
      " |    |    |-- _VALUE: string (nullable = true)\n",
      " |    |    |-- _deleted: string (nullable = true)\n",
      " |    |-- contributor: struct (nullable = true)\n",
      " |    |    |-- id: long (nullable = true)\n",
      " |    |    |-- ip: string (nullable = true)\n",
      " |    |    |-- username: string (nullable = true)\n",
      " |    |-- format: string (nullable = true)\n",
      " |    |-- id: long (nullable = true)\n",
      " |    |-- minor: string (nullable = true)\n",
      " |    |-- model: string (nullable = true)\n",
      " |    |-- parentid: long (nullable = true)\n",
      " |    |-- sha1: string (nullable = true)\n",
      " |    |-- text: struct (nullable = true)\n",
      " |    |    |-- _VALUE: string (nullable = true)\n",
      " |    |    |-- _space: string (nullable = true)\n",
      " |    |-- timestamp: string (nullable = true)\n",
      " |-- title: string (nullable = true)\n",
      " |-- article_lenght: integer (nullable = true)\n",
      " |-- categories: string (nullable = true)\n",
      " |-- good_categories: boolean (nullable = true)\n",
      "\n"
     ]
    }
   ],
   "source": [
    "#to change to military conflict in script\n",
    "infobox = 'civilian attack'\n",
    "# find all pages that have category civilian attack\n",
    "wiki_civil_attack = wikipedia.where(\"categories like '%{}%'\".format(infobox)) \n",
    "# show file schema\n",
    "wiki_civil_attack.printSchema()"
   ]
  },
  {
   "cell_type": "markdown",
   "metadata": {},
   "source": [
    "# TRIAL ===================================\n",
    "def extract_infobox_civilian_attack(entity):\n",
    "    # get page\n",
    "    page = wptools.page(entity.title)\n",
    "    page.get_parse()\n",
    "    page.get_more()\n",
    "    # extract relevant information\n",
    "    views_ = page.data['views']\n",
    "    location_ = page.data['infobox']['location']\n",
    "    date_ = page.data['infobox']['date']\n",
    "    fatalities_ = page.data['infobox']['fatalities']\n",
    "    #injuries_ = page.data['infobox']['injuries']\n",
    "    \n",
    "    \n",
    "    return Row(id=entity.id, title=entity.title, location=location_, views=views_, date=date_, \n",
    "                fatalities=fatalities_ )# , injuries=injuries_ \n",
    "\n",
    "\n",
    "def extract_infobox_civil_conflict(entity):\n",
    "    # get page\n",
    "    page = wptools.page(entity.title)\n",
    "    page.get_parse()\n",
    "    page.get_more()\n",
    "    # extract relevant information\n",
    "    views_ = page.data['views']\n",
    "    location_ = page.data['infobox']['place']\n",
    "    date_ = page.data['infobox']['date']\n",
    "    fatalities_ = page.data['infobox']['fatalities']\n",
    "    #injuries_ = page.data['infobox']['injuries']\n",
    "    casualities1_ = page.data['infobox']['casualties1']\n",
    "    casualities2_ = page.data['infobox']['casualties2']\n",
    "    leadfigures1_ = page.data['infobox']['leadfigures1'] \n",
    "    leadfigures2_ = page.data['infobox']['leadfigures2']\n",
    "    \n",
    "    \n",
    "    return Row(id=entity.id, title=entity.title, location=location_, views=views_, date=date_, \n",
    "                fatalities=fatalities_, casualities1=casualities1_, casualities2=casualities2_,\n",
    "              leadfigures1=leadfigures1_, leadfigures2=leadfigures2_)# , injuries=injuries_ \n",
    "\n",
    "def extract_infobox_military_conflict(entity):\n",
    "    # get page\n",
    "    page = wptools.page(entity.title)\n",
    "    page.get_parse()\n",
    "    page.get_more()\n",
    "    # extract relevant information\n",
    "    views_ = page.data['views']\n",
    "    location_ = page.data['infobox']['place']\n",
    "    date_ = page.data['infobox']['date']\n",
    "    fatalities_ = page.data['infobox']['fatalities']\n",
    "    #injuries_ = page.data['infobox']['injuries']\n",
    "    casualities1_ = page.data['infobox']['casualties1']\n",
    "    casualities2_ = page.data['infobox']['casualties2']\n",
    "    combatant1_ = page.data['infobox']['combatant1'] \n",
    "    combatant2_ = page.data['infobox']['combatant2']\n",
    "    \n",
    "    \n",
    "    return Row(id=entity.id, title=entity.title, location=location_, views=views_, date=date_, \n",
    "                fatalities=fatalities_, casualities1=casualities1_, casualities2=casualities2_,\n",
    "              combatant1=combatant1_, combatant2=combatant2_)# , injuries=injuries_ \n",
    "              \n",
    "              \n",
    "# THE END OF TRIAL"
   ]
  },
  {
   "cell_type": "code",
   "execution_count": 14,
   "metadata": {},
   "outputs": [],
   "source": [
    "# GET INFO FROM INFOBOX + VIEWS for different categories\n",
    "def get_infobox_civilian_attack(entity):\n",
    "    # get page\n",
    "    page = wptools.page(entity.title)\n",
    "    page.get_parse()\n",
    "    page.get_more()\n",
    "    # extract relevant information and put in dictionary\n",
    "    info = {'views': None, 'location': None, \n",
    "            'date': None, 'fatalities': None, 'injuries': None }\n",
    "    try:\n",
    "        info['views'] = page.data['views']\n",
    "    except KeyError:\n",
    "        info['views'] = None\n",
    "    \n",
    "    for ele in list(info.keys())[1:]:\n",
    "        try:\n",
    "            info[ele] = page.data['infobox'][ele]\n",
    "        except KeyError:\n",
    "            pass\n",
    "    \n",
    "    return Row(id=entity.id, title=entity.title, location=info['location'], views=info['views'], date=info['date'], \n",
    "                fatalities=info['fatalities'], injuries=info['injuries'])\n",
    "\n",
    "def get_infobox_civil_conflict(entity):\n",
    "    # get page\n",
    "    page = wptools.page(entity.title)\n",
    "    page.get_parse()\n",
    "    page.get_more()\n",
    "    # extract relevant information and put in dictionary\n",
    "    info = {'views': None, 'place': None, 'injuries': None\n",
    "            'date': None, 'fatalities': None, 'casualties1': None, 'casualties2': None,\n",
    "            'leadfigures1': None, 'leadfigures2': None} \n",
    "    try:\n",
    "        info['views'] = page.data['views']\n",
    "    except KeyError:\n",
    "        info['views'] = None\n",
    "    \n",
    "    for ele in list(info.keys())[1:]:\n",
    "        try:\n",
    "            info[ele] = page.data['infobox'][ele]\n",
    "        except KeyError:\n",
    "            pass\n",
    "    \n",
    "    return Row(id=entity.id, title=entity.title, location=info['place'], views=info['views'], date=info['date'], \n",
    "               fatalities=info['fatalities'], casualties1=info['casualties1'], casualties2=info['casualties2'],\n",
    "               injuries=info['injuries'], leadfigures1=info['leadfigures1'], leadfigures2=info['leadfigures2'])\n",
    "\n",
    "def get_infobox_military_conflict(entity):\n",
    "    # get page\n",
    "    page = wptools.page(entity.title)\n",
    "    page.get_parse()\n",
    "    page.get_more()\n",
    "    # extract relevant information and put in dictionary\n",
    "    info = {'views': None, 'place': None, \n",
    "            'date': None, 'casualties1': None, 'casualties2': None,\n",
    "            'combatant1': None, 'combatant2': None, 'status': None} \n",
    "    try:\n",
    "        info['views'] = page.data['views']\n",
    "    except KeyError:\n",
    "        info['views'] = None\n",
    "    \n",
    "    for ele in list(info.keys())[1:]:\n",
    "        try:\n",
    "            info[ele] = page.data['infobox'][ele]\n",
    "        except KeyError:\n",
    "            pass\n",
    "    \n",
    "    return Row(id=entity.id, title=entity.title, location=info['place'], views=info['views'], date=info['date'], \n",
    "               casualties1=info['casualties1'], casualties2=info['casualties2'], combatant1=info['combatant1'], \n",
    "               combatant2=info['combatant2'], status=info['status'])"
   ]
  },
  {
   "cell_type": "code",
   "execution_count": 15,
   "metadata": {},
   "outputs": [],
   "source": [
    "wiki_civil_attack_RDD = sqlContext.createDataFrame(wiki_civil_attack.rdd.map(get_infobox_civilian_attack))\n",
    "\n"
   ]
  },
  {
   "cell_type": "code",
   "execution_count": 16,
   "metadata": {},
   "outputs": [
    {
     "data": {
      "text/plain": [
       "[Row(date=None, fatalities='168 confirmed + 1 possible additional fatality', id=22467, injuries='680+', location='[[Alfred P. Murrah Federal Building]]<br />[[Oklahoma City]], [[Oklahoma]], U.S.', title='Oklahoma City bombing', views=4319),\n",
       " Row(date='16 March 1968', fatalities='347 according to the United States Army (not including My Khe killings), others estimate more than 400 killed and injuries are unknown, Vietnamese government lists 504 killed in total from both My Lai and My Khe', id=68292, injuries=None, location='[[Son My|Sơn Mỹ]] (village), [[Sơn Tịnh District]], [[South Vietnam]]', title='My Lai Massacre', views=2251)]"
      ]
     },
     "execution_count": 16,
     "metadata": {},
     "output_type": "execute_result"
    }
   ],
   "source": [
    "wiki_civil_attack_RDD.take(2)"
   ]
  },
  {
   "cell_type": "code",
   "execution_count": null,
   "metadata": {},
   "outputs": [],
   "source": []
  }
 ],
 "metadata": {
  "kernelspec": {
   "display_name": "Python [conda env:ada]",
   "language": "python",
   "name": "conda-env-ada-py"
  },
  "language_info": {
   "codemirror_mode": {
    "name": "ipython",
    "version": 3
   },
   "file_extension": ".py",
   "mimetype": "text/x-python",
   "name": "python",
   "nbconvert_exporter": "python",
   "pygments_lexer": "ipython3",
   "version": "3.6.6"
  }
 },
 "nbformat": 4,
 "nbformat_minor": 2
}
