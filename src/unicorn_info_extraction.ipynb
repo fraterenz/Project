{
 "cells": [
  {
   "cell_type": "code",
   "execution_count": 1,
   "metadata": {},
   "outputs": [],
   "source": [
    "import wptools\n",
    "import pyspark\n",
    "import pyspark.sql\n",
    "from pyspark.sql import *\n",
    "import os.path\n",
    "from pyspark.sql.functions import desc\n",
    "\n",
    "import findspark\n",
    "findspark.init()\n",
    "\n",
    "from pyspark.sql import dataframe\n",
    "from pyspark.sql import functions as F\n",
    "\n",
    "from pyspark.sql import SparkSession\n",
    "from pyspark import SparkContext\n",
    "from pyspark.sql import SQLContext\n",
    "\n",
    "spark = SparkSession.builder.getOrCreate()\n",
    "sc = spark.sparkContext\n",
    "\n",
    "from pyspark.sql import SQLContext\n",
    "sqlContext = SQLContext(sc)"
   ]
  },
  {
   "cell_type": "markdown",
   "metadata": {},
   "source": [
    "# Loading data "
   ]
  },
  {
   "cell_type": "code",
   "execution_count": 2,
   "metadata": {},
   "outputs": [],
   "source": [
    "DATA_DIR = '../' \n",
    "WIKIPEDIA_CONFLICTS_PARQUET = DATA_DIR + 'selectedAllConflict.parquet'\n",
    "\n",
    "# loading the saved parquet files\n",
    "wikipedia = spark.read.parquet(WIKIPEDIA_CONFLICTS_PARQUET)"
   ]
  },
  {
   "cell_type": "markdown",
   "metadata": {},
   "source": [
    "---\n",
    "\n",
    "# Descriptive analysis"
   ]
  },
  {
   "cell_type": "code",
   "execution_count": null,
   "metadata": {},
   "outputs": [],
   "source": []
  },
  {
   "cell_type": "code",
   "execution_count": null,
   "metadata": {},
   "outputs": [],
   "source": []
  },
  {
   "cell_type": "markdown",
   "metadata": {},
   "source": [
    "---\n",
    "\n",
    "# Infobox per category \n",
    "\n",
    "Infobox functions `get_infobox_civilian_attack`, `get_infobox_civil_conflict`, `get_infobox_military_conflict`\n",
    "to get relevant information and views for each category: `civilian attack`, `civil conflict`, `military conflict`. Relevant information is chosen based on the fields found on [List of infoboxes and fields](https://en.wikipedia.org/wiki/Wikipedia:List_of_infoboxes#Event) \n",
    "\n",
    "Extract info for each category:\n",
    "* `civilian attack`\n",
    "    * location\n",
    "    * date \n",
    "    * fatalities\n",
    "    * injuries\n",
    "* `civil conflict`\n",
    "    * place\n",
    "    * date\n",
    "    * casualities1, casualities2\n",
    "    * fatalities\n",
    "    * injuries\n",
    "    * leadfigures1, leadfigures2\n",
    "* `military conflict`\n",
    "    * place\n",
    "    * date \n",
    "    * status \n",
    "    * casualities1, casualities2\n",
    "    * combatant1, combatant2\n",
    "    \n",
    "We use an external library [wptools wiki](https://github.com/siznax/wptools/wiki). "
   ]
  },
  {
   "cell_type": "code",
   "execution_count": null,
   "metadata": {},
   "outputs": [],
   "source": []
  },
  {
   "cell_type": "markdown",
   "metadata": {},
   "source": [
    "### Infobox `civilian attack`"
   ]
  },
  {
   "cell_type": "code",
   "execution_count": null,
   "metadata": {},
   "outputs": [],
   "source": [
    "infobox_civil_attack = 'civilian attack'\n",
    "# find all pages that have category civilian attack\n",
    "wiki_civil_attack = wikipedia.where(\"categories like '%{}%'\".format(infobox_civil_attack)) \n",
    "# show file schema\n",
    "wiki_civil_attack.printSchema()"
   ]
  },
  {
   "cell_type": "code",
   "execution_count": null,
   "metadata": {},
   "outputs": [],
   "source": [
    "wiki_civil_attack.filter(\"title like '%Fraunces Tavern%'\").select(\"categories\").collect()"
   ]
  },
  {
   "cell_type": "code",
   "execution_count": null,
   "metadata": {},
   "outputs": [],
   "source": [
    "wiki_civil_attack_df = sqlContext.createDataFrame(wiki_civil_attack.rdd.map(get_infobox_civilian_attack))"
   ]
  },
  {
   "cell_type": "code",
   "execution_count": null,
   "metadata": {},
   "outputs": [],
   "source": [
    "wiki_civil_attack_df.take(3)"
   ]
  },
  {
   "cell_type": "code",
   "execution_count": null,
   "metadata": {},
   "outputs": [],
   "source": [
    "# GET INFO FROM INFOBOX + VIEWS for different categories\n",
    "def get_infobox_civilian_attack(entity):\n",
    "    # get page\n",
    "    page = wptools.page(entity.title)\n",
    "    page.get_parse()\n",
    "    page.get_more()\n",
    "    # extract relevant information and put in dictionary\n",
    "    info = {'views': None, 'location': None, \n",
    "            'date': None, 'fatalities': None, 'injuries': None }\n",
    "    try:\n",
    "        info['views'] = page.data['views']\n",
    "    except KeyError:\n",
    "        info['views'] = None\n",
    "    \n",
    "    for ele in list(info.keys())[1:]:\n",
    "        try:\n",
    "            info[ele] = page.data['infobox'][ele]\n",
    "        except KeyError:\n",
    "            pass\n",
    "    \n",
    "    return Row(id=entity.id, title=entity.title, location=info['location'], views=info['views'], date=info['date'], \n",
    "                fatalities=info['fatalities'], injuries=info['injuries'])\n",
    "\n",
    "def get_infobox_civil_conflict(entity):\n",
    "    # get page\n",
    "    page = wptools.page(entity.title)\n",
    "    page.get_parse()\n",
    "    page.get_more()\n",
    "    # extract relevant information and put in dictionary\n",
    "    info = {'views': None, 'place': None, 'injuries': None,\n",
    "            'date': None, 'fatalities': None, 'casualties1': None, 'casualties2': None,\n",
    "            'leadfigures1': None, 'leadfigures2': None} \n",
    "    try:\n",
    "        info['views'] = page.data['views']\n",
    "    except KeyError:\n",
    "        info['views'] = None\n",
    "    \n",
    "    for ele in list(info.keys())[1:]:\n",
    "        try:\n",
    "            info[ele] = page.data['infobox'][ele]\n",
    "        except KeyError:\n",
    "            pass\n",
    "    \n",
    "    return Row(id=entity.id, title=entity.title, location=info['place'], views=info['views'], date=info['date'], \n",
    "               fatalities=info['fatalities'], casualties1=info['casualties1'], casualties2=info['casualties2'],\n",
    "               injuries=info['injuries'], leadfigures1=info['leadfigures1'], leadfigures2=info['leadfigures2'])\n",
    "\n",
    "def get_infobox_military_conflict(entity):\n",
    "    # get page\n",
    "    page = wptools.page(entity.title)\n",
    "    page.get_parse()\n",
    "    page.get_more()\n",
    "    # extract relevant information and put in dictionary\n",
    "    info = {'views': None, 'place': None, \n",
    "            'date': None, 'casualties1': None, 'casualties2': None}#, 'status': None}\n",
    "            #'combatant1': None, 'combatant2': None, 'status': None} \n",
    "    try:\n",
    "        info['views'] = page.data['views']\n",
    "    except KeyError:\n",
    "        info['views'] = None\n",
    "    \n",
    "    for ele in list(info.keys())[1:]:\n",
    "        try:\n",
    "            info[ele] = page.data['infobox'][ele]\n",
    "        except KeyError:\n",
    "            pass\n",
    "    \n",
    "    return Row(id=entity.id, title=entity.title, location=info['place'], views=info['views'], date=info['date'], \n",
    "               casualties1=info['casualties1'], casualties2=info['casualties2']) #, status=info['status'])\n",
    "               #combatant1=info['combatant1'], combatant2=info['combatant2'])"
   ]
  },
  {
   "cell_type": "code",
   "execution_count": null,
   "metadata": {},
   "outputs": [],
   "source": [
    "DATA_DIR_FILTERED = '../clean_data/'"
   ]
  },
  {
   "cell_type": "code",
   "execution_count": null,
   "metadata": {},
   "outputs": [],
   "source": [
    "# saving binary file to future uses\n",
    "wiki_civil_attack_df.write.parquet(DATA_DIR_FILTERED+\"{}.parquet\".format(infobox_civil_attack));\n",
    "# loading the saved parquet files\n",
    "wiki_civil_attack_df_reload = spark.read.parquet(DATA_DIR_FILTERED+\"{}.parquet\".format(infobox_civil_attack));"
   ]
  },
  {
   "cell_type": "code",
   "execution_count": null,
   "metadata": {},
   "outputs": [],
   "source": []
  },
  {
   "cell_type": "code",
   "execution_count": null,
   "metadata": {},
   "outputs": [],
   "source": [
    "wiki_civil_attack_df = sqlContext.createDataFrame(wiki_civil_attack_RDD)"
   ]
  },
  {
   "cell_type": "markdown",
   "metadata": {},
   "source": [
    "### Infobox `civil conflict`"
   ]
  },
  {
   "cell_type": "code",
   "execution_count": null,
   "metadata": {},
   "outputs": [],
   "source": [
    "infobox_civil_conflict = 'civil conflict'\n",
    "# find all pages that have category civil conflict\n",
    "wiki_civil_conflict = wikipedia.where(\"categories like '%{}%'\".format(infobox_civil_conflict)) \n",
    "# show file schema\n",
    "wiki_civil_conflict.printSchema()"
   ]
  },
  {
   "cell_type": "code",
   "execution_count": null,
   "metadata": {},
   "outputs": [],
   "source": [
    "wiki_civil_conflict_df = sqlContext.createDataFrame(wiki_civil_conflict.rdd.map(get_infobox_civil_conflict))"
   ]
  },
  {
   "cell_type": "code",
   "execution_count": null,
   "metadata": {},
   "outputs": [],
   "source": [
    "wiki_civil_conflict_df.take(3)"
   ]
  },
  {
   "cell_type": "code",
   "execution_count": null,
   "metadata": {},
   "outputs": [],
   "source": [
    "# saving binary file to future uses\n",
    "wiki_civil_conflict_df.write.parquet(DATA_DIR_FILTERED+\"{}.parquet\".format(infobox_civil_conflict));\n",
    "# loading the saved parquet files\n",
    "wiki_civil_conflict_df_reload = spark.read.parquet(DATA_DIR_FILTERED+\"{}.parquet\".format(infobox_civil_conflict));"
   ]
  },
  {
   "cell_type": "markdown",
   "metadata": {},
   "source": [
    "### Infobox `military conflict `"
   ]
  },
  {
   "cell_type": "code",
   "execution_count": null,
   "metadata": {},
   "outputs": [],
   "source": [
    "infobox_military_conflict = 'military conflict'\n",
    "# find all pages that have category military conflict\n",
    "wiki_military_conflict = wikipedia.where(\"categories like '%{}%'\".format(infobox_military_conflict)) \n",
    "# show file schema\n",
    "wiki_military_conflict.printSchema()"
   ]
  },
  {
   "cell_type": "code",
   "execution_count": null,
   "metadata": {},
   "outputs": [],
   "source": [
    "wiki_military_conflict_df = sqlContext.createDataFrame(wiki_military_conflict.rdd.map(get_infobox_military_conflict))"
   ]
  },
  {
   "cell_type": "code",
   "execution_count": null,
   "metadata": {},
   "outputs": [],
   "source": [
    "wiki_military_conflict_df.take(3)"
   ]
  },
  {
   "cell_type": "code",
   "execution_count": null,
   "metadata": {},
   "outputs": [],
   "source": [
    "# saving binary file to future uses\n",
    "wiki_military_conflict_df.write.parquet(DATA_DIR_FILTERED+\"{}.parquet\".format(infobox_military_conflict));\n",
    "# loading the saved parquet files\n",
    "wiki_military_conflict_df_reload = spark.read.parquet(\n",
    "    DATA_DIR_FILTERED+\"{}.parquet\".format(infobox_military_conflict));"
   ]
  },
  {
   "cell_type": "markdown",
   "metadata": {},
   "source": [
    "### Functions"
   ]
  },
  {
   "cell_type": "code",
   "execution_count": 51,
   "metadata": {},
   "outputs": [],
   "source": [
    "def get_wiki_military_conflict(entity):\n",
    "    page = wptools.page(entity.title)\n",
    "    # extract relevant information and put in dictionary\n",
    "    info = {'death': None, 'end_date': None}#, 'location': None} #\n",
    "    \n",
    "    try: \n",
    "        page.get_wikidata()\n",
    "        info['death'] = page.data['wikidata']['number of deaths (P1120)']['amount']\n",
    "        info['end_date'] = page.date['wikidata']['end time (P582)']\n",
    "        #info['location'] = page.date['wikidata']['location (P276)']['amount']\n",
    "    \n",
    "    except KeyError:\n",
    "        try:\n",
    "            page.get_parse()\n",
    "            info['death'] = poly_page.data['infobox']['casualties1']\n",
    "        except KeyError:\n",
    "            info['death'] = None\n",
    "        try:\n",
    "            info['end_date'] = poly_page.data['infobox']['date']\n",
    "        except KeyError:\n",
    "            info['end_date'] = None\n",
    "        #info['location'] = poly_page.data['infobox']['place']\n",
    "    \n",
    "    return Row(id=entity.id, title=entity.title, death=info['death'], date=info['end_date'])#, location=info['location'])    \n"
   ]
  },
  {
   "cell_type": "markdown",
   "metadata": {},
   "source": [
    "### UNICORN ON THE GOOO"
   ]
  },
  {
   "cell_type": "code",
   "execution_count": 34,
   "metadata": {
    "collapsed": true
   },
   "outputs": [
    {
     "name": "stderr",
     "output_type": "stream",
     "text": [
      "en.wikipedia.org (parse) World War II\n",
      "en.wikipedia.org (imageinfo) File:Infobox collage for WWII.PNG\n",
      "World War II (en) data\n",
      "{\n",
      "  image: <list(1)> {'kind': 'parse-image', 'file': 'File:Infobox c...\n",
      "  infobox: <dict(15)> conflict, image, image_size, caption, date, ...\n",
      "  iwlinks: <list(11)> https://commons.wikimedia.org/wiki/Special:S...\n",
      "  pageid: 32927\n",
      "  parsetree: <str(436226)> <root><template><title>pp-semi-indef</t...\n",
      "  requests: <list(2)> parse, imageinfo\n",
      "  title: World War II\n",
      "  wikibase: Q362\n",
      "  wikidata_url: https://www.wikidata.org/wiki/Q362\n",
      "  wikitext: <str(224849)> {{pp-semi-indef}}{{Pp-move-indef}}{{shor...\n",
      "}\n",
      "www.wikidata.org (wikidata) Q362\n",
      "www.wikidata.org (labels) P6104|Q329888|Q5928186|P902|Q27643331|P...\n",
      "www.wikidata.org (labels) P3509|P4212|P527|P1150|P906|Q11708|P141...\n",
      "World War II (en) data\n",
      "{\n",
      "  aliases: <list(7)> WW2, World War Two, 2nd World War, Second Wor...\n",
      "  claims: <dict(57)> P1478, P1151, P1150, P1120, P227, P349, P244,...\n",
      "  description: 1939–1945 global war between the Allied and Axis Powers\n",
      "  image: <list(1)> {'kind': 'parse-image', 'file': 'File:Infobox c...\n",
      "  infobox: <dict(15)> conflict, image, image_size, caption, date, ...\n",
      "  iwlinks: <list(11)> https://commons.wikimedia.org/wiki/Special:S...\n",
      "  label: World War II\n",
      "  labels: <dict(88)> P6104, Q329888, Q5928186, P902, Q27643331, P2...\n",
      "  modified: <dict(1)> wikidata\n",
      "  pageid: 32927\n",
      "  parsetree: <str(436226)> <root><template><title>pp-semi-indef</t...\n",
      "  requests: <list(5)> parse, imageinfo, wikidata, labels, labels\n",
      "  title: World_War_II\n",
      "  what: world war\n",
      "  wikibase: Q362\n",
      "  wikidata: <dict(56)> has immediate cause (P1478), topic's main W...\n",
      "  wikidata_pageid: 558\n",
      "  wikidata_url: https://www.wikidata.org/wiki/Q362\n",
      "  wikitext: <str(224849)> {{pp-semi-indef}}{{Pp-move-indef}}{{shor...\n",
      "}\n"
     ]
    },
    {
     "data": {
      "text/plain": [
       "<wptools.page.WPToolsPage at 0x11f877cc0>"
      ]
     },
     "execution_count": 34,
     "metadata": {},
     "output_type": "execute_result"
    }
   ],
   "source": [
    "## trying access to infobox\n",
    "poly_page = wptools.page('World War II')\n",
    "poly_page.get_parse()\n",
    "poly_page.get_wikidata()"
   ]
  },
  {
   "cell_type": "code",
   "execution_count": 9,
   "metadata": {},
   "outputs": [
    {
     "data": {
      "text/plain": [
       "{'conflict': 'World War&nbsp;II',\n",
       " 'image': 'Infobox collage for WWII.PNG',\n",
       " 'image_size': '300px',\n",
       " 'caption': '(clockwise from top left) {{flatlist|\\n* Chinese forces in the [[Battle of Wanjialing]]\\n* Australian [[25-pounder]] guns during the [[First Battle of El Alamein]]\\n* German [[Junkers Ju 87|Stuka]] dive bombers on the [[Eastern Front (World War II)|Eastern Front]] in December 1943\\n* American naval force in the [[Invasion of Lingayen Gulf|Lingayen Gulf]]\\n* [[Wilhelm Keitel]] signing the [[German Instrument of Surrender]]\\n* Soviet troops in the [[Battle of Stalingrad]]}}',\n",
       " 'date': '{{ubl|start and end dates|1939|9|1|1945|9|2|df|=|yes|\\n                  |(|Age in years and days|1 September 1939|2 September 1945|sep|=|and|)|efn| While [[World War II#Chronology|various other dates]] have been proposed as the date on which World War II began or ended, this is the time span most frequently cited.}} {{start and end dates|1939|9|1|1945|9|2|df|=|yes}} {{Age in years and days|1 September 1939|2 September 1945|sep|=|and}} ) {{efn| While [[World War II#Chronology|various other dates]] have been proposed as the date on which World War II began or ended, this is the time span most frequently cited.}}',\n",
       " 'place': '[[European theatre of World War II|Europe]], [[Pacific War|Pacific]], [[Battle of the Atlantic|Atlantic]], [[South-East Asian theatre of World War II|South-East Asia]], [[Second Sino-Japanese War|China]], [[Mediterranean and Middle East theatre of World War II|Middle East]], [[Mediterranean and Middle East theatre of World War II|Mediterranean]], [[North African Campaign|North Africa]], [[East African Campaign (World War II)|Horn of Africa]], [[Air raids on Australia, 1942–43|Australia]], briefly [[American Theater (World War II)|North]] and [[Battle of the River Plate|South America]]',\n",
       " 'result': '{{ubl|[[Allies of World War II|Allied]] victory}} * Collapse of [[Nazi Germany]]\\n* Fall of [[Empire of Japan|Japanese]] and [[Italian Empire]]s\\n* Beginning of the [[Atomic Era|Nuclear Age]]\\n* Advent of [[air superiority|air supremacy]] as the most important factor in then contemporary warfare\\n* Dissolution of the [[League of Nations]]\\n* Creation of the [[United Nations]]\\n* Emergence of the [[United States]] and the [[Soviet Union]] as rival [[superpower]]s\\n* Beginning of the [[Cold War]] ([[Aftermath of World War II|more...]])',\n",
       " 'combatants_header': '[[World War II by country|Participants]]',\n",
       " 'combatant1': \"[[Allies of World War II|'''Allies''']]\",\n",
       " 'combatant2': \"[[Axis powers|'''Axis''']]\",\n",
       " 'commander1': \"'''[[Allied leaders of World War II|Main Allied leaders]]''' {{plainlist|\\n* |flagicon|Soviet Union|1936|size|=|22px| [[Joseph Stalin]]\\n* |flagicon|United States|1912|size|=|22px| [[Franklin D. Roosevelt]]\\n* |flagicon|United Kingdom|size|=|22px| [[Winston Churchill]]\\n* |flagicon|Republic of China (1912–1949)|size|=|22px| [[Chiang Kai-shek]]}} {{flagicon|Soviet Union|1936|size|=|22px}} [[Joseph Stalin]]\\n* {{flagicon|United States|1912|size|=|22px}} [[Franklin D. Roosevelt]]\\n* {{flagicon|United Kingdom|size|=|22px}} [[Winston Churchill]]\\n* {{flagicon|Republic of China (1912–1949)|size|=|22px}} [[Chiang Kai-shek]]\",\n",
       " 'commander2': \"'''[[Axis leaders of World War II|Main Axis leaders]]''' {{plainlist|\\n* |flagicon|Nazi Germany|size|=|22px| [[Adolf Hitler]]\\n* |flagicon|Empire of Japan|size|=|22px| [[Hirohito]]\\n* |Flagicon|Kingdom of Italy|size|=|22px| [[Benito Mussolini]]}} {{flagicon|Nazi Germany|size|=|22px}} [[Adolf Hitler]]\\n* {{flagicon|Empire of Japan|size|=|22px}} [[Hirohito]]\\n* {{Flagicon|Kingdom of Italy|size|=|22px}} [[Benito Mussolini]]\",\n",
       " 'casualties1': \"{{plainlist|\\n* '''Military dead:'''\\n* Over 16,000,000\\n* '''Civilian dead:'''\\n* Over 45,000,000\\n* '''Total dead:'''\\n* Over 61,000,000\\n* (1937–1945)\\n* [[World War II casualties|...''further details'']]}}\",\n",
       " 'casualties2': \"{{plainlist|\\n* '''Military dead:'''\\n* Over 8,000,000\\n* '''Civilian dead:'''\\n* Over 4,000,000\\n* '''Total dead:'''\\n* Over 12,000,000\\n* (1937–1945)\\n* [[World War II casualties|...''further details'']]}}\",\n",
       " 'campaignbox': '{{Campaignbox World War II}}'}"
      ]
     },
     "execution_count": 9,
     "metadata": {},
     "output_type": "execute_result"
    }
   ],
   "source": [
    "poly_page.data['infobox']"
   ]
  },
  {
   "cell_type": "code",
   "execution_count": 14,
   "metadata": {
    "collapsed": true
   },
   "outputs": [
    {
     "data": {
      "text/plain": [
       "{'has immediate cause (P1478)': 'Invasion of Poland (Q150812)',\n",
       " \"topic's main Wikimedia portal (P1151)\": 'Portal:World War II (Q3247957)',\n",
       " 'Regensburg Classification (P1150)': 'NQ 2545 - NQ 2795',\n",
       " 'number of deaths (P1120)': {'amount': '+73000000',\n",
       "  'unit': '1',\n",
       "  'upperBound': '+86000000',\n",
       "  'lowerBound': '+60000000'},\n",
       " 'GND ID (P227)': '4079167-1',\n",
       " 'NDL Auth ID (P349)': '00570524',\n",
       " 'Library of Congress authority ID (P244)': 'sh85148273',\n",
       " 'Commons category (P373)': 'World War II',\n",
       " 'start time (P580)': '+1939-09-01T00:00:00Z',\n",
       " 'end time (P582)': '+1945-09-02T00:00:00Z',\n",
       " 'NKCR AUT ID (P691)': 'ph117270',\n",
       " 'instance of (P31)': 'world war (Q103495)',\n",
       " \"topic's main category (P910)\": 'Category:World War II (Q6816704)',\n",
       " 'Freebase ID (P646)': '/m/081pw',\n",
       " 'Gran Enciclopèdia Catalana ID (P1296)': '0031535',\n",
       " 'has cause (P828)': ['Treaty of Versailles (Q8736)',\n",
       "  'causes of World War II (Q714999)'],\n",
       " 'LIR (P886)': '1129',\n",
       " 'Commons gallery (P935)': 'World War II',\n",
       " 'Encyclopædia Britannica Online ID (P1417)': 'event/World-War-II',\n",
       " 'participant (P710)': ['Axis (Q43056)', 'Allies (Q329888)'],\n",
       " 'BnF ID (P268)': '11996115g',\n",
       " 'Guardian topic ID (P3106)': 'world/secondworldwar',\n",
       " 'NYT topic ID (P3221)': 'subject/world-war-ii-193945',\n",
       " 'SELIBR ID (P906)': '139432',\n",
       " 'Quora topic ID (P3417)': 'World-War-II',\n",
       " 'Treccani ID (P3365)': 'seconda-guerra-mondiale',\n",
       " 'location (P276)': ['Russia (Q159)',\n",
       "  'Europe (Q46)',\n",
       "  'Africa (Q15)',\n",
       "  'Pacific Ocean (Q98)',\n",
       "  'Mediterranean Sea (Q4918)',\n",
       "  'Asia (Q48)',\n",
       "  'Atlantic Ocean (Q97)',\n",
       "  'Middle East (Q7204)',\n",
       "  'Southeast Asia (Q11708)',\n",
       "  'Scandinavia (Q21195)'],\n",
       " 'Cultureel Woordenboek identifier (P3569)': ['geschiedenis-1900-2000/tweede-wereldoorlog',\n",
       "  'nederland-1900-1945/tweede-wereldoorlog'],\n",
       " 'Le Monde diplomatique subject ID (P3612)': 'sujet/secondeguerremondiale',\n",
       " 'BNE ID (P950)': 'XX526764',\n",
       " 'Dagens Nyheter topic ID (P3509)': 'andra-varldskriget',\n",
       " 'category of associated people (P1792)': 'Category:People of World War II (Q6620691)',\n",
       " 'follows (P155)': 'World War I (Q361)',\n",
       " \"topic's main template (P1424)\": 'Template:World War II (Q5928186)',\n",
       " 'PACTOLS thesaurus ID (P4212)': 'pcrtIM599oIntc',\n",
       " 'US National Archives Identifier (P1225)': '10644634',\n",
       " 'FOIH periods ID (P4306)': '1071',\n",
       " 'BabelNet ID (P2581)': '00070139n',\n",
       " 'MeSH ID (P486)': 'D047789',\n",
       " 'Encyclopædia Universalis ID (P3219)': ['seconde-guerre-mondiale',\n",
       "  'guerre-mondiale-seconde'],\n",
       " 'Bashkir encyclopedia (Russian version) ID (P4211)': '10256',\n",
       " 'HDS ID (P902)': '8927',\n",
       " 'Great Russian Encyclopedia Online ID (P2924)': '2335018',\n",
       " 'NE.se ID (P3222)': 'andra-världskriget',\n",
       " 'subreddit (P3984)': 'WW2',\n",
       " 'Bashkir encyclopedia (Bashkir version) ID (P4210)': '5646',\n",
       " 'on focus list of Wikimedia project (P5008)': 'Wikipedia:Vital articles (Q5460604)',\n",
       " 'Wikimedia outline (P5125)': 'outline of World War II (Q16056531)',\n",
       " 'has part (P527)': ['Gran Sasso raid (Q698778)',\n",
       "  'Raid on Alexandria (Q2606324)'],\n",
       " 'Store norske leksikon ID (P4342)': 'andre_verdenskrig',\n",
       " 'The Encyclopedia of Science Fiction ID (P5357)': 'world_war_two',\n",
       " 'Basisklassifikation (P5748)': '15.24',\n",
       " 'has effect (P1542)': 'British Pet Holocaust (Q23020032)',\n",
       " 'collage image (P2716)': 'WW2Montage.PNG',\n",
       " 'followed by (P156)': 'Secondo dopoguerra italiano (Q3954040)',\n",
       " 'maintained by WikiProject (P6104)': 'Wikipedia:WikiProject World War II (Q10653810)'}"
      ]
     },
     "execution_count": 14,
     "metadata": {},
     "output_type": "execute_result"
    }
   ],
   "source": [
    "poly_page.data['wikidata']"
   ]
  },
  {
   "cell_type": "code",
   "execution_count": 52,
   "metadata": {},
   "outputs": [],
   "source": [
    "ww2 = wikipedia.filter(\"title like '%World War II%'\")\n",
    "ww2_df = sqlContext.createDataFrame(ww2.rdd.map(get_wiki_military_conflict))"
   ]
  },
  {
   "cell_type": "code",
   "execution_count": 53,
   "metadata": {},
   "outputs": [
    {
     "ename": "Py4JJavaError",
     "evalue": "An error occurred while calling o705.showString.\n: org.apache.spark.SparkException: Job aborted due to stage failure: Task 0 in stage 25.0 failed 1 times, most recent failure: Lost task 0.0 in stage 25.0 (TID 52, localhost, executor driver): org.apache.spark.api.python.PythonException: Traceback (most recent call last):\n  File \"/Users/nasrine/spark/python/lib/pyspark.zip/pyspark/worker.py\", line 253, in main\n    process()\n  File \"/Users/nasrine/spark/python/lib/pyspark.zip/pyspark/worker.py\", line 248, in process\n    serializer.dump_stream(func(split_index, iterator), outfile)\n  File \"/Users/nasrine/spark/python/lib/pyspark.zip/pyspark/serializers.py\", line 379, in dump_stream\n    vs = list(itertools.islice(iterator, batch))\n  File \"/Users/nasrine/spark/python/lib/pyspark.zip/pyspark/util.py\", line 55, in wrapper\n    return f(*args, **kwargs)\n  File \"<ipython-input-51-b840832b57f8>\", line 9, in get_wiki_military_conflict\nAttributeError: 'WPToolsPage' object has no attribute 'date'\n\n\tat org.apache.spark.api.python.BasePythonRunner$ReaderIterator.handlePythonException(PythonRunner.scala:330)\n\tat org.apache.spark.api.python.PythonRunner$$anon$1.read(PythonRunner.scala:470)\n\tat org.apache.spark.api.python.PythonRunner$$anon$1.read(PythonRunner.scala:453)\n\tat org.apache.spark.api.python.BasePythonRunner$ReaderIterator.hasNext(PythonRunner.scala:284)\n\tat org.apache.spark.InterruptibleIterator.hasNext(InterruptibleIterator.scala:37)\n\tat scala.collection.Iterator$$anon$12.hasNext(Iterator.scala:439)\n\tat scala.collection.Iterator$$anon$11.hasNext(Iterator.scala:408)\n\tat scala.collection.Iterator$$anon$11.hasNext(Iterator.scala:408)\n\tat scala.collection.Iterator$$anon$11.hasNext(Iterator.scala:408)\n\tat org.apache.spark.sql.catalyst.expressions.GeneratedClass$GeneratedIteratorForCodegenStage1.processNext(Unknown Source)\n\tat org.apache.spark.sql.execution.BufferedRowIterator.hasNext(BufferedRowIterator.java:43)\n\tat org.apache.spark.sql.execution.WholeStageCodegenExec$$anonfun$10$$anon$1.hasNext(WholeStageCodegenExec.scala:614)\n\tat org.apache.spark.sql.execution.SparkPlan$$anonfun$2.apply(SparkPlan.scala:253)\n\tat org.apache.spark.sql.execution.SparkPlan$$anonfun$2.apply(SparkPlan.scala:247)\n\tat org.apache.spark.rdd.RDD$$anonfun$mapPartitionsInternal$1$$anonfun$apply$25.apply(RDD.scala:836)\n\tat org.apache.spark.rdd.RDD$$anonfun$mapPartitionsInternal$1$$anonfun$apply$25.apply(RDD.scala:836)\n\tat org.apache.spark.rdd.MapPartitionsRDD.compute(MapPartitionsRDD.scala:49)\n\tat org.apache.spark.rdd.RDD.computeOrReadCheckpoint(RDD.scala:324)\n\tat org.apache.spark.rdd.RDD.iterator(RDD.scala:288)\n\tat org.apache.spark.rdd.MapPartitionsRDD.compute(MapPartitionsRDD.scala:49)\n\tat org.apache.spark.rdd.RDD.computeOrReadCheckpoint(RDD.scala:324)\n\tat org.apache.spark.rdd.RDD.iterator(RDD.scala:288)\n\tat org.apache.spark.scheduler.ResultTask.runTask(ResultTask.scala:87)\n\tat org.apache.spark.scheduler.Task.run(Task.scala:109)\n\tat org.apache.spark.executor.Executor$TaskRunner.run(Executor.scala:345)\n\tat java.util.concurrent.ThreadPoolExecutor.runWorker(ThreadPoolExecutor.java:1149)\n\tat java.util.concurrent.ThreadPoolExecutor$Worker.run(ThreadPoolExecutor.java:624)\n\tat java.lang.Thread.run(Thread.java:748)\n\nDriver stacktrace:\n\tat org.apache.spark.scheduler.DAGScheduler.org$apache$spark$scheduler$DAGScheduler$$failJobAndIndependentStages(DAGScheduler.scala:1651)\n\tat org.apache.spark.scheduler.DAGScheduler$$anonfun$abortStage$1.apply(DAGScheduler.scala:1639)\n\tat org.apache.spark.scheduler.DAGScheduler$$anonfun$abortStage$1.apply(DAGScheduler.scala:1638)\n\tat scala.collection.mutable.ResizableArray$class.foreach(ResizableArray.scala:59)\n\tat scala.collection.mutable.ArrayBuffer.foreach(ArrayBuffer.scala:48)\n\tat org.apache.spark.scheduler.DAGScheduler.abortStage(DAGScheduler.scala:1638)\n\tat org.apache.spark.scheduler.DAGScheduler$$anonfun$handleTaskSetFailed$1.apply(DAGScheduler.scala:831)\n\tat org.apache.spark.scheduler.DAGScheduler$$anonfun$handleTaskSetFailed$1.apply(DAGScheduler.scala:831)\n\tat scala.Option.foreach(Option.scala:257)\n\tat org.apache.spark.scheduler.DAGScheduler.handleTaskSetFailed(DAGScheduler.scala:831)\n\tat org.apache.spark.scheduler.DAGSchedulerEventProcessLoop.doOnReceive(DAGScheduler.scala:1872)\n\tat org.apache.spark.scheduler.DAGSchedulerEventProcessLoop.onReceive(DAGScheduler.scala:1821)\n\tat org.apache.spark.scheduler.DAGSchedulerEventProcessLoop.onReceive(DAGScheduler.scala:1810)\n\tat org.apache.spark.util.EventLoop$$anon$1.run(EventLoop.scala:48)\n\tat org.apache.spark.scheduler.DAGScheduler.runJob(DAGScheduler.scala:642)\n\tat org.apache.spark.SparkContext.runJob(SparkContext.scala:2034)\n\tat org.apache.spark.SparkContext.runJob(SparkContext.scala:2055)\n\tat org.apache.spark.SparkContext.runJob(SparkContext.scala:2074)\n\tat org.apache.spark.sql.execution.SparkPlan.executeTake(SparkPlan.scala:363)\n\tat org.apache.spark.sql.execution.CollectLimitExec.executeCollect(limit.scala:38)\n\tat org.apache.spark.sql.Dataset.org$apache$spark$sql$Dataset$$collectFromPlan(Dataset.scala:3278)\n\tat org.apache.spark.sql.Dataset$$anonfun$head$1.apply(Dataset.scala:2489)\n\tat org.apache.spark.sql.Dataset$$anonfun$head$1.apply(Dataset.scala:2489)\n\tat org.apache.spark.sql.Dataset$$anonfun$52.apply(Dataset.scala:3259)\n\tat org.apache.spark.sql.execution.SQLExecution$.withNewExecutionId(SQLExecution.scala:77)\n\tat org.apache.spark.sql.Dataset.withAction(Dataset.scala:3258)\n\tat org.apache.spark.sql.Dataset.head(Dataset.scala:2489)\n\tat org.apache.spark.sql.Dataset.take(Dataset.scala:2703)\n\tat org.apache.spark.sql.Dataset.showString(Dataset.scala:254)\n\tat sun.reflect.NativeMethodAccessorImpl.invoke0(Native Method)\n\tat sun.reflect.NativeMethodAccessorImpl.invoke(NativeMethodAccessorImpl.java:62)\n\tat sun.reflect.DelegatingMethodAccessorImpl.invoke(DelegatingMethodAccessorImpl.java:43)\n\tat java.lang.reflect.Method.invoke(Method.java:498)\n\tat py4j.reflection.MethodInvoker.invoke(MethodInvoker.java:244)\n\tat py4j.reflection.ReflectionEngine.invoke(ReflectionEngine.java:357)\n\tat py4j.Gateway.invoke(Gateway.java:282)\n\tat py4j.commands.AbstractCommand.invokeMethod(AbstractCommand.java:132)\n\tat py4j.commands.CallCommand.execute(CallCommand.java:79)\n\tat py4j.GatewayConnection.run(GatewayConnection.java:238)\n\tat java.lang.Thread.run(Thread.java:748)\nCaused by: org.apache.spark.api.python.PythonException: Traceback (most recent call last):\n  File \"/Users/nasrine/spark/python/lib/pyspark.zip/pyspark/worker.py\", line 253, in main\n    process()\n  File \"/Users/nasrine/spark/python/lib/pyspark.zip/pyspark/worker.py\", line 248, in process\n    serializer.dump_stream(func(split_index, iterator), outfile)\n  File \"/Users/nasrine/spark/python/lib/pyspark.zip/pyspark/serializers.py\", line 379, in dump_stream\n    vs = list(itertools.islice(iterator, batch))\n  File \"/Users/nasrine/spark/python/lib/pyspark.zip/pyspark/util.py\", line 55, in wrapper\n    return f(*args, **kwargs)\n  File \"<ipython-input-51-b840832b57f8>\", line 9, in get_wiki_military_conflict\nAttributeError: 'WPToolsPage' object has no attribute 'date'\n\n\tat org.apache.spark.api.python.BasePythonRunner$ReaderIterator.handlePythonException(PythonRunner.scala:330)\n\tat org.apache.spark.api.python.PythonRunner$$anon$1.read(PythonRunner.scala:470)\n\tat org.apache.spark.api.python.PythonRunner$$anon$1.read(PythonRunner.scala:453)\n\tat org.apache.spark.api.python.BasePythonRunner$ReaderIterator.hasNext(PythonRunner.scala:284)\n\tat org.apache.spark.InterruptibleIterator.hasNext(InterruptibleIterator.scala:37)\n\tat scala.collection.Iterator$$anon$12.hasNext(Iterator.scala:439)\n\tat scala.collection.Iterator$$anon$11.hasNext(Iterator.scala:408)\n\tat scala.collection.Iterator$$anon$11.hasNext(Iterator.scala:408)\n\tat scala.collection.Iterator$$anon$11.hasNext(Iterator.scala:408)\n\tat org.apache.spark.sql.catalyst.expressions.GeneratedClass$GeneratedIteratorForCodegenStage1.processNext(Unknown Source)\n\tat org.apache.spark.sql.execution.BufferedRowIterator.hasNext(BufferedRowIterator.java:43)\n\tat org.apache.spark.sql.execution.WholeStageCodegenExec$$anonfun$10$$anon$1.hasNext(WholeStageCodegenExec.scala:614)\n\tat org.apache.spark.sql.execution.SparkPlan$$anonfun$2.apply(SparkPlan.scala:253)\n\tat org.apache.spark.sql.execution.SparkPlan$$anonfun$2.apply(SparkPlan.scala:247)\n\tat org.apache.spark.rdd.RDD$$anonfun$mapPartitionsInternal$1$$anonfun$apply$25.apply(RDD.scala:836)\n\tat org.apache.spark.rdd.RDD$$anonfun$mapPartitionsInternal$1$$anonfun$apply$25.apply(RDD.scala:836)\n\tat org.apache.spark.rdd.MapPartitionsRDD.compute(MapPartitionsRDD.scala:49)\n\tat org.apache.spark.rdd.RDD.computeOrReadCheckpoint(RDD.scala:324)\n\tat org.apache.spark.rdd.RDD.iterator(RDD.scala:288)\n\tat org.apache.spark.rdd.MapPartitionsRDD.compute(MapPartitionsRDD.scala:49)\n\tat org.apache.spark.rdd.RDD.computeOrReadCheckpoint(RDD.scala:324)\n\tat org.apache.spark.rdd.RDD.iterator(RDD.scala:288)\n\tat org.apache.spark.scheduler.ResultTask.runTask(ResultTask.scala:87)\n\tat org.apache.spark.scheduler.Task.run(Task.scala:109)\n\tat org.apache.spark.executor.Executor$TaskRunner.run(Executor.scala:345)\n\tat java.util.concurrent.ThreadPoolExecutor.runWorker(ThreadPoolExecutor.java:1149)\n\tat java.util.concurrent.ThreadPoolExecutor$Worker.run(ThreadPoolExecutor.java:624)\n\t... 1 more\n",
     "output_type": "error",
     "traceback": [
      "\u001b[0;31m---------------------------------------------------------------------------\u001b[0m",
      "\u001b[0;31mPy4JJavaError\u001b[0m                             Traceback (most recent call last)",
      "\u001b[0;32m<ipython-input-53-256aa5ef699b>\u001b[0m in \u001b[0;36m<module>\u001b[0;34m()\u001b[0m\n\u001b[0;32m----> 1\u001b[0;31m \u001b[0mww2_df\u001b[0m\u001b[0;34m.\u001b[0m\u001b[0mshow\u001b[0m\u001b[0;34m(\u001b[0m\u001b[0;36m2\u001b[0m\u001b[0;34m)\u001b[0m\u001b[0;34m\u001b[0m\u001b[0m\n\u001b[0m",
      "\u001b[0;32m~/spark/python/pyspark/sql/dataframe.py\u001b[0m in \u001b[0;36mshow\u001b[0;34m(self, n, truncate, vertical)\u001b[0m\n\u001b[1;32m    348\u001b[0m         \"\"\"\n\u001b[1;32m    349\u001b[0m         \u001b[0;32mif\u001b[0m \u001b[0misinstance\u001b[0m\u001b[0;34m(\u001b[0m\u001b[0mtruncate\u001b[0m\u001b[0;34m,\u001b[0m \u001b[0mbool\u001b[0m\u001b[0;34m)\u001b[0m \u001b[0;32mand\u001b[0m \u001b[0mtruncate\u001b[0m\u001b[0;34m:\u001b[0m\u001b[0;34m\u001b[0m\u001b[0m\n\u001b[0;32m--> 350\u001b[0;31m             \u001b[0mprint\u001b[0m\u001b[0;34m(\u001b[0m\u001b[0mself\u001b[0m\u001b[0;34m.\u001b[0m\u001b[0m_jdf\u001b[0m\u001b[0;34m.\u001b[0m\u001b[0mshowString\u001b[0m\u001b[0;34m(\u001b[0m\u001b[0mn\u001b[0m\u001b[0;34m,\u001b[0m \u001b[0;36m20\u001b[0m\u001b[0;34m,\u001b[0m \u001b[0mvertical\u001b[0m\u001b[0;34m)\u001b[0m\u001b[0;34m)\u001b[0m\u001b[0;34m\u001b[0m\u001b[0m\n\u001b[0m\u001b[1;32m    351\u001b[0m         \u001b[0;32melse\u001b[0m\u001b[0;34m:\u001b[0m\u001b[0;34m\u001b[0m\u001b[0m\n\u001b[1;32m    352\u001b[0m             \u001b[0mprint\u001b[0m\u001b[0;34m(\u001b[0m\u001b[0mself\u001b[0m\u001b[0;34m.\u001b[0m\u001b[0m_jdf\u001b[0m\u001b[0;34m.\u001b[0m\u001b[0mshowString\u001b[0m\u001b[0;34m(\u001b[0m\u001b[0mn\u001b[0m\u001b[0;34m,\u001b[0m \u001b[0mint\u001b[0m\u001b[0;34m(\u001b[0m\u001b[0mtruncate\u001b[0m\u001b[0;34m)\u001b[0m\u001b[0;34m,\u001b[0m \u001b[0mvertical\u001b[0m\u001b[0;34m)\u001b[0m\u001b[0;34m)\u001b[0m\u001b[0;34m\u001b[0m\u001b[0m\n",
      "\u001b[0;32m~/miniconda3/envs/ada/lib/python3.6/site-packages/py4j/java_gateway.py\u001b[0m in \u001b[0;36m__call__\u001b[0;34m(self, *args)\u001b[0m\n\u001b[1;32m   1255\u001b[0m         \u001b[0manswer\u001b[0m \u001b[0;34m=\u001b[0m \u001b[0mself\u001b[0m\u001b[0;34m.\u001b[0m\u001b[0mgateway_client\u001b[0m\u001b[0;34m.\u001b[0m\u001b[0msend_command\u001b[0m\u001b[0;34m(\u001b[0m\u001b[0mcommand\u001b[0m\u001b[0;34m)\u001b[0m\u001b[0;34m\u001b[0m\u001b[0m\n\u001b[1;32m   1256\u001b[0m         return_value = get_return_value(\n\u001b[0;32m-> 1257\u001b[0;31m             answer, self.gateway_client, self.target_id, self.name)\n\u001b[0m\u001b[1;32m   1258\u001b[0m \u001b[0;34m\u001b[0m\u001b[0m\n\u001b[1;32m   1259\u001b[0m         \u001b[0;32mfor\u001b[0m \u001b[0mtemp_arg\u001b[0m \u001b[0;32min\u001b[0m \u001b[0mtemp_args\u001b[0m\u001b[0;34m:\u001b[0m\u001b[0;34m\u001b[0m\u001b[0m\n",
      "\u001b[0;32m~/spark/python/pyspark/sql/utils.py\u001b[0m in \u001b[0;36mdeco\u001b[0;34m(*a, **kw)\u001b[0m\n\u001b[1;32m     61\u001b[0m     \u001b[0;32mdef\u001b[0m \u001b[0mdeco\u001b[0m\u001b[0;34m(\u001b[0m\u001b[0;34m*\u001b[0m\u001b[0ma\u001b[0m\u001b[0;34m,\u001b[0m \u001b[0;34m**\u001b[0m\u001b[0mkw\u001b[0m\u001b[0;34m)\u001b[0m\u001b[0;34m:\u001b[0m\u001b[0;34m\u001b[0m\u001b[0m\n\u001b[1;32m     62\u001b[0m         \u001b[0;32mtry\u001b[0m\u001b[0;34m:\u001b[0m\u001b[0;34m\u001b[0m\u001b[0m\n\u001b[0;32m---> 63\u001b[0;31m             \u001b[0;32mreturn\u001b[0m \u001b[0mf\u001b[0m\u001b[0;34m(\u001b[0m\u001b[0;34m*\u001b[0m\u001b[0ma\u001b[0m\u001b[0;34m,\u001b[0m \u001b[0;34m**\u001b[0m\u001b[0mkw\u001b[0m\u001b[0;34m)\u001b[0m\u001b[0;34m\u001b[0m\u001b[0m\n\u001b[0m\u001b[1;32m     64\u001b[0m         \u001b[0;32mexcept\u001b[0m \u001b[0mpy4j\u001b[0m\u001b[0;34m.\u001b[0m\u001b[0mprotocol\u001b[0m\u001b[0;34m.\u001b[0m\u001b[0mPy4JJavaError\u001b[0m \u001b[0;32mas\u001b[0m \u001b[0me\u001b[0m\u001b[0;34m:\u001b[0m\u001b[0;34m\u001b[0m\u001b[0m\n\u001b[1;32m     65\u001b[0m             \u001b[0ms\u001b[0m \u001b[0;34m=\u001b[0m \u001b[0me\u001b[0m\u001b[0;34m.\u001b[0m\u001b[0mjava_exception\u001b[0m\u001b[0;34m.\u001b[0m\u001b[0mtoString\u001b[0m\u001b[0;34m(\u001b[0m\u001b[0;34m)\u001b[0m\u001b[0;34m\u001b[0m\u001b[0m\n",
      "\u001b[0;32m~/miniconda3/envs/ada/lib/python3.6/site-packages/py4j/protocol.py\u001b[0m in \u001b[0;36mget_return_value\u001b[0;34m(answer, gateway_client, target_id, name)\u001b[0m\n\u001b[1;32m    326\u001b[0m                 raise Py4JJavaError(\n\u001b[1;32m    327\u001b[0m                     \u001b[0;34m\"An error occurred while calling {0}{1}{2}.\\n\"\u001b[0m\u001b[0;34m.\u001b[0m\u001b[0;34m\u001b[0m\u001b[0m\n\u001b[0;32m--> 328\u001b[0;31m                     format(target_id, \".\", name), value)\n\u001b[0m\u001b[1;32m    329\u001b[0m             \u001b[0;32melse\u001b[0m\u001b[0;34m:\u001b[0m\u001b[0;34m\u001b[0m\u001b[0m\n\u001b[1;32m    330\u001b[0m                 raise Py4JError(\n",
      "\u001b[0;31mPy4JJavaError\u001b[0m: An error occurred while calling o705.showString.\n: org.apache.spark.SparkException: Job aborted due to stage failure: Task 0 in stage 25.0 failed 1 times, most recent failure: Lost task 0.0 in stage 25.0 (TID 52, localhost, executor driver): org.apache.spark.api.python.PythonException: Traceback (most recent call last):\n  File \"/Users/nasrine/spark/python/lib/pyspark.zip/pyspark/worker.py\", line 253, in main\n    process()\n  File \"/Users/nasrine/spark/python/lib/pyspark.zip/pyspark/worker.py\", line 248, in process\n    serializer.dump_stream(func(split_index, iterator), outfile)\n  File \"/Users/nasrine/spark/python/lib/pyspark.zip/pyspark/serializers.py\", line 379, in dump_stream\n    vs = list(itertools.islice(iterator, batch))\n  File \"/Users/nasrine/spark/python/lib/pyspark.zip/pyspark/util.py\", line 55, in wrapper\n    return f(*args, **kwargs)\n  File \"<ipython-input-51-b840832b57f8>\", line 9, in get_wiki_military_conflict\nAttributeError: 'WPToolsPage' object has no attribute 'date'\n\n\tat org.apache.spark.api.python.BasePythonRunner$ReaderIterator.handlePythonException(PythonRunner.scala:330)\n\tat org.apache.spark.api.python.PythonRunner$$anon$1.read(PythonRunner.scala:470)\n\tat org.apache.spark.api.python.PythonRunner$$anon$1.read(PythonRunner.scala:453)\n\tat org.apache.spark.api.python.BasePythonRunner$ReaderIterator.hasNext(PythonRunner.scala:284)\n\tat org.apache.spark.InterruptibleIterator.hasNext(InterruptibleIterator.scala:37)\n\tat scala.collection.Iterator$$anon$12.hasNext(Iterator.scala:439)\n\tat scala.collection.Iterator$$anon$11.hasNext(Iterator.scala:408)\n\tat scala.collection.Iterator$$anon$11.hasNext(Iterator.scala:408)\n\tat scala.collection.Iterator$$anon$11.hasNext(Iterator.scala:408)\n\tat org.apache.spark.sql.catalyst.expressions.GeneratedClass$GeneratedIteratorForCodegenStage1.processNext(Unknown Source)\n\tat org.apache.spark.sql.execution.BufferedRowIterator.hasNext(BufferedRowIterator.java:43)\n\tat org.apache.spark.sql.execution.WholeStageCodegenExec$$anonfun$10$$anon$1.hasNext(WholeStageCodegenExec.scala:614)\n\tat org.apache.spark.sql.execution.SparkPlan$$anonfun$2.apply(SparkPlan.scala:253)\n\tat org.apache.spark.sql.execution.SparkPlan$$anonfun$2.apply(SparkPlan.scala:247)\n\tat org.apache.spark.rdd.RDD$$anonfun$mapPartitionsInternal$1$$anonfun$apply$25.apply(RDD.scala:836)\n\tat org.apache.spark.rdd.RDD$$anonfun$mapPartitionsInternal$1$$anonfun$apply$25.apply(RDD.scala:836)\n\tat org.apache.spark.rdd.MapPartitionsRDD.compute(MapPartitionsRDD.scala:49)\n\tat org.apache.spark.rdd.RDD.computeOrReadCheckpoint(RDD.scala:324)\n\tat org.apache.spark.rdd.RDD.iterator(RDD.scala:288)\n\tat org.apache.spark.rdd.MapPartitionsRDD.compute(MapPartitionsRDD.scala:49)\n\tat org.apache.spark.rdd.RDD.computeOrReadCheckpoint(RDD.scala:324)\n\tat org.apache.spark.rdd.RDD.iterator(RDD.scala:288)\n\tat org.apache.spark.scheduler.ResultTask.runTask(ResultTask.scala:87)\n\tat org.apache.spark.scheduler.Task.run(Task.scala:109)\n\tat org.apache.spark.executor.Executor$TaskRunner.run(Executor.scala:345)\n\tat java.util.concurrent.ThreadPoolExecutor.runWorker(ThreadPoolExecutor.java:1149)\n\tat java.util.concurrent.ThreadPoolExecutor$Worker.run(ThreadPoolExecutor.java:624)\n\tat java.lang.Thread.run(Thread.java:748)\n\nDriver stacktrace:\n\tat org.apache.spark.scheduler.DAGScheduler.org$apache$spark$scheduler$DAGScheduler$$failJobAndIndependentStages(DAGScheduler.scala:1651)\n\tat org.apache.spark.scheduler.DAGScheduler$$anonfun$abortStage$1.apply(DAGScheduler.scala:1639)\n\tat org.apache.spark.scheduler.DAGScheduler$$anonfun$abortStage$1.apply(DAGScheduler.scala:1638)\n\tat scala.collection.mutable.ResizableArray$class.foreach(ResizableArray.scala:59)\n\tat scala.collection.mutable.ArrayBuffer.foreach(ArrayBuffer.scala:48)\n\tat org.apache.spark.scheduler.DAGScheduler.abortStage(DAGScheduler.scala:1638)\n\tat org.apache.spark.scheduler.DAGScheduler$$anonfun$handleTaskSetFailed$1.apply(DAGScheduler.scala:831)\n\tat org.apache.spark.scheduler.DAGScheduler$$anonfun$handleTaskSetFailed$1.apply(DAGScheduler.scala:831)\n\tat scala.Option.foreach(Option.scala:257)\n\tat org.apache.spark.scheduler.DAGScheduler.handleTaskSetFailed(DAGScheduler.scala:831)\n\tat org.apache.spark.scheduler.DAGSchedulerEventProcessLoop.doOnReceive(DAGScheduler.scala:1872)\n\tat org.apache.spark.scheduler.DAGSchedulerEventProcessLoop.onReceive(DAGScheduler.scala:1821)\n\tat org.apache.spark.scheduler.DAGSchedulerEventProcessLoop.onReceive(DAGScheduler.scala:1810)\n\tat org.apache.spark.util.EventLoop$$anon$1.run(EventLoop.scala:48)\n\tat org.apache.spark.scheduler.DAGScheduler.runJob(DAGScheduler.scala:642)\n\tat org.apache.spark.SparkContext.runJob(SparkContext.scala:2034)\n\tat org.apache.spark.SparkContext.runJob(SparkContext.scala:2055)\n\tat org.apache.spark.SparkContext.runJob(SparkContext.scala:2074)\n\tat org.apache.spark.sql.execution.SparkPlan.executeTake(SparkPlan.scala:363)\n\tat org.apache.spark.sql.execution.CollectLimitExec.executeCollect(limit.scala:38)\n\tat org.apache.spark.sql.Dataset.org$apache$spark$sql$Dataset$$collectFromPlan(Dataset.scala:3278)\n\tat org.apache.spark.sql.Dataset$$anonfun$head$1.apply(Dataset.scala:2489)\n\tat org.apache.spark.sql.Dataset$$anonfun$head$1.apply(Dataset.scala:2489)\n\tat org.apache.spark.sql.Dataset$$anonfun$52.apply(Dataset.scala:3259)\n\tat org.apache.spark.sql.execution.SQLExecution$.withNewExecutionId(SQLExecution.scala:77)\n\tat org.apache.spark.sql.Dataset.withAction(Dataset.scala:3258)\n\tat org.apache.spark.sql.Dataset.head(Dataset.scala:2489)\n\tat org.apache.spark.sql.Dataset.take(Dataset.scala:2703)\n\tat org.apache.spark.sql.Dataset.showString(Dataset.scala:254)\n\tat sun.reflect.NativeMethodAccessorImpl.invoke0(Native Method)\n\tat sun.reflect.NativeMethodAccessorImpl.invoke(NativeMethodAccessorImpl.java:62)\n\tat sun.reflect.DelegatingMethodAccessorImpl.invoke(DelegatingMethodAccessorImpl.java:43)\n\tat java.lang.reflect.Method.invoke(Method.java:498)\n\tat py4j.reflection.MethodInvoker.invoke(MethodInvoker.java:244)\n\tat py4j.reflection.ReflectionEngine.invoke(ReflectionEngine.java:357)\n\tat py4j.Gateway.invoke(Gateway.java:282)\n\tat py4j.commands.AbstractCommand.invokeMethod(AbstractCommand.java:132)\n\tat py4j.commands.CallCommand.execute(CallCommand.java:79)\n\tat py4j.GatewayConnection.run(GatewayConnection.java:238)\n\tat java.lang.Thread.run(Thread.java:748)\nCaused by: org.apache.spark.api.python.PythonException: Traceback (most recent call last):\n  File \"/Users/nasrine/spark/python/lib/pyspark.zip/pyspark/worker.py\", line 253, in main\n    process()\n  File \"/Users/nasrine/spark/python/lib/pyspark.zip/pyspark/worker.py\", line 248, in process\n    serializer.dump_stream(func(split_index, iterator), outfile)\n  File \"/Users/nasrine/spark/python/lib/pyspark.zip/pyspark/serializers.py\", line 379, in dump_stream\n    vs = list(itertools.islice(iterator, batch))\n  File \"/Users/nasrine/spark/python/lib/pyspark.zip/pyspark/util.py\", line 55, in wrapper\n    return f(*args, **kwargs)\n  File \"<ipython-input-51-b840832b57f8>\", line 9, in get_wiki_military_conflict\nAttributeError: 'WPToolsPage' object has no attribute 'date'\n\n\tat org.apache.spark.api.python.BasePythonRunner$ReaderIterator.handlePythonException(PythonRunner.scala:330)\n\tat org.apache.spark.api.python.PythonRunner$$anon$1.read(PythonRunner.scala:470)\n\tat org.apache.spark.api.python.PythonRunner$$anon$1.read(PythonRunner.scala:453)\n\tat org.apache.spark.api.python.BasePythonRunner$ReaderIterator.hasNext(PythonRunner.scala:284)\n\tat org.apache.spark.InterruptibleIterator.hasNext(InterruptibleIterator.scala:37)\n\tat scala.collection.Iterator$$anon$12.hasNext(Iterator.scala:439)\n\tat scala.collection.Iterator$$anon$11.hasNext(Iterator.scala:408)\n\tat scala.collection.Iterator$$anon$11.hasNext(Iterator.scala:408)\n\tat scala.collection.Iterator$$anon$11.hasNext(Iterator.scala:408)\n\tat org.apache.spark.sql.catalyst.expressions.GeneratedClass$GeneratedIteratorForCodegenStage1.processNext(Unknown Source)\n\tat org.apache.spark.sql.execution.BufferedRowIterator.hasNext(BufferedRowIterator.java:43)\n\tat org.apache.spark.sql.execution.WholeStageCodegenExec$$anonfun$10$$anon$1.hasNext(WholeStageCodegenExec.scala:614)\n\tat org.apache.spark.sql.execution.SparkPlan$$anonfun$2.apply(SparkPlan.scala:253)\n\tat org.apache.spark.sql.execution.SparkPlan$$anonfun$2.apply(SparkPlan.scala:247)\n\tat org.apache.spark.rdd.RDD$$anonfun$mapPartitionsInternal$1$$anonfun$apply$25.apply(RDD.scala:836)\n\tat org.apache.spark.rdd.RDD$$anonfun$mapPartitionsInternal$1$$anonfun$apply$25.apply(RDD.scala:836)\n\tat org.apache.spark.rdd.MapPartitionsRDD.compute(MapPartitionsRDD.scala:49)\n\tat org.apache.spark.rdd.RDD.computeOrReadCheckpoint(RDD.scala:324)\n\tat org.apache.spark.rdd.RDD.iterator(RDD.scala:288)\n\tat org.apache.spark.rdd.MapPartitionsRDD.compute(MapPartitionsRDD.scala:49)\n\tat org.apache.spark.rdd.RDD.computeOrReadCheckpoint(RDD.scala:324)\n\tat org.apache.spark.rdd.RDD.iterator(RDD.scala:288)\n\tat org.apache.spark.scheduler.ResultTask.runTask(ResultTask.scala:87)\n\tat org.apache.spark.scheduler.Task.run(Task.scala:109)\n\tat org.apache.spark.executor.Executor$TaskRunner.run(Executor.scala:345)\n\tat java.util.concurrent.ThreadPoolExecutor.runWorker(ThreadPoolExecutor.java:1149)\n\tat java.util.concurrent.ThreadPoolExecutor$Worker.run(ThreadPoolExecutor.java:624)\n\t... 1 more\n"
     ]
    }
   ],
   "source": [
    "ww2_df.show(2)"
   ]
  },
  {
   "cell_type": "code",
   "execution_count": null,
   "metadata": {},
   "outputs": [],
   "source": [
    "ww2_df.select('end_date')"
   ]
  },
  {
   "cell_type": "code",
   "execution_count": 43,
   "metadata": {},
   "outputs": [
    {
     "data": {
      "text/plain": [
       "[Row(title='Bombing of Dresden in World War II'),\n",
       " Row(title='Balkans Campaign (World War II)'),\n",
       " Row(title='World War II'),\n",
       " Row(title='Mediterranean U-boat Campaign (World War II)'),\n",
       " Row(title='Repatriation of Cossacks after World War II'),\n",
       " Row(title='Siege of Malta (World War II)'),\n",
       " Row(title='East African Campaign (World War II)'),\n",
       " Row(title='Arctic convoys of World War II'),\n",
       " Row(title='South-East Asian theatre of World War II'),\n",
       " Row(title='European theatre of World War II'),\n",
       " Row(title='Bombing of Vienna in World War II'),\n",
       " Row(title='Bombing of Königsberg in World War II'),\n",
       " Row(title='Bombing of Warsaw in World War II'),\n",
       " Row(title='Bombing of Berlin in World War II'),\n",
       " Row(title='Polish resistance movement in World War II'),\n",
       " Row(title='Mediterranean and Middle East theatre of World War II'),\n",
       " Row(title='Eastern Front (World War II)'),\n",
       " Row(title='Western Front (World War II)'),\n",
       " Row(title='Strategic bombing during World War II'),\n",
       " Row(title='Italian Campaign (World War II)'),\n",
       " Row(title='Bombing of Zadar in World War II'),\n",
       " Row(title='Bombing of Würzburg in World War II'),\n",
       " Row(title='Bombing of Gorky in World War II'),\n",
       " Row(title='Gibraltar convoys of World War II'),\n",
       " Row(title='Bombing of Duisburg in World War II'),\n",
       " Row(title='World War II in Yugoslavia'),\n",
       " Row(title='Bombing of Treviso in World War II'),\n",
       " Row(title='World War II in Yugoslav Macedonia'),\n",
       " Row(title='Bombing of Rome in World War II'),\n",
       " Row(title='Oil campaign of World War II'),\n",
       " Row(title='Bombing of Bucharest in World War II'),\n",
       " Row(title='Romanian Navy during World War II'),\n",
       " Row(title='Bombing of Kassel in World War II'),\n",
       " Row(title='Bombing of Wiener Neustadt in World War II'),\n",
       " Row(title='Adriatic Campaign of World War II'),\n",
       " Row(title='Bombing of Friedrichshafen in World War II'),\n",
       " Row(title='Bombing of Nordhausen in World War II'),\n",
       " Row(title='Taganrog during World War II'),\n",
       " Row(title='World War II in Albania'),\n",
       " Row(title='American Theater (World War II)'),\n",
       " Row(title='Greenland in World War II'),\n",
       " Row(title='Bombing of Bangkok in World War II'),\n",
       " Row(title='Bombing of Toyokawa in World War II'),\n",
       " Row(title='Lost Battalion (Europe, World War II)'),\n",
       " Row(title='Italian bombing of Mandatory Palestine in World War II'),\n",
       " Row(title='Bombing of Helsinki in World War II'),\n",
       " Row(title='World War III (film)'),\n",
       " Row(title='Bombing of Ludwigshafen and Oppau in World War II'),\n",
       " Row(title='Allied naval bombardments of Japan during World War II'),\n",
       " Row(title='Bombing of Bremen in World War II'),\n",
       " Row(title='Arctic naval operations of World War II'),\n",
       " Row(title='Bombing of Bahrain in World War II')]"
      ]
     },
     "execution_count": 43,
     "metadata": {},
     "output_type": "execute_result"
    }
   ],
   "source": [
    "ww2_df.select('title').collect()"
   ]
  },
  {
   "cell_type": "code",
   "execution_count": 44,
   "metadata": {},
   "outputs": [
    {
     "data": {
      "text/plain": [
       "[Row(death=\"{{plainlist|\\n* '''Military dead:'''\\n* Over 16,000,000\\n* '''Civilian dead:'''\\n* Over 45,000,000\\n* '''Total dead:'''\\n* Over 61,000,000\\n* (1937–1945)\\n* [[World War II casualties|...''further details'']]}}\"),\n",
       " Row(death=\"{{plainlist|\\n* '''Military dead:'''\\n* Over 16,000,000\\n* '''Civilian dead:'''\\n* Over 45,000,000\\n* '''Total dead:'''\\n* Over 61,000,000\\n* (1937–1945)\\n* [[World War II casualties|...''further details'']]}}\"),\n",
       " Row(death='+73000000'),\n",
       " Row(death=\"{{plainlist|\\n* '''Military dead:'''\\n* Over 16,000,000\\n* '''Civilian dead:'''\\n* Over 45,000,000\\n* '''Total dead:'''\\n* Over 61,000,000\\n* (1937–1945)\\n* [[World War II casualties|...''further details'']]}}\"),\n",
       " Row(death=\"{{plainlist|\\n* '''Military dead:'''\\n* Over 16,000,000\\n* '''Civilian dead:'''\\n* Over 45,000,000\\n* '''Total dead:'''\\n* Over 61,000,000\\n* (1937–1945)\\n* [[World War II casualties|...''further details'']]}}\"),\n",
       " Row(death=\"{{plainlist|\\n* '''Military dead:'''\\n* Over 16,000,000\\n* '''Civilian dead:'''\\n* Over 45,000,000\\n* '''Total dead:'''\\n* Over 61,000,000\\n* (1937–1945)\\n* [[World War II casualties|...''further details'']]}}\"),\n",
       " Row(death=\"{{plainlist|\\n* '''Military dead:'''\\n* Over 16,000,000\\n* '''Civilian dead:'''\\n* Over 45,000,000\\n* '''Total dead:'''\\n* Over 61,000,000\\n* (1937–1945)\\n* [[World War II casualties|...''further details'']]}}\"),\n",
       " Row(death=\"{{plainlist|\\n* '''Military dead:'''\\n* Over 16,000,000\\n* '''Civilian dead:'''\\n* Over 45,000,000\\n* '''Total dead:'''\\n* Over 61,000,000\\n* (1937–1945)\\n* [[World War II casualties|...''further details'']]}}\"),\n",
       " Row(death=\"{{plainlist|\\n* '''Military dead:'''\\n* Over 16,000,000\\n* '''Civilian dead:'''\\n* Over 45,000,000\\n* '''Total dead:'''\\n* Over 61,000,000\\n* (1937–1945)\\n* [[World War II casualties|...''further details'']]}}\"),\n",
       " Row(death=\"{{plainlist|\\n* '''Military dead:'''\\n* Over 16,000,000\\n* '''Civilian dead:'''\\n* Over 45,000,000\\n* '''Total dead:'''\\n* Over 61,000,000\\n* (1937–1945)\\n* [[World War II casualties|...''further details'']]}}\"),\n",
       " Row(death=\"{{plainlist|\\n* '''Military dead:'''\\n* Over 16,000,000\\n* '''Civilian dead:'''\\n* Over 45,000,000\\n* '''Total dead:'''\\n* Over 61,000,000\\n* (1937–1945)\\n* [[World War II casualties|...''further details'']]}}\"),\n",
       " Row(death=\"{{plainlist|\\n* '''Military dead:'''\\n* Over 16,000,000\\n* '''Civilian dead:'''\\n* Over 45,000,000\\n* '''Total dead:'''\\n* Over 61,000,000\\n* (1937–1945)\\n* [[World War II casualties|...''further details'']]}}\"),\n",
       " Row(death=\"{{plainlist|\\n* '''Military dead:'''\\n* Over 16,000,000\\n* '''Civilian dead:'''\\n* Over 45,000,000\\n* '''Total dead:'''\\n* Over 61,000,000\\n* (1937–1945)\\n* [[World War II casualties|...''further details'']]}}\"),\n",
       " Row(death=\"{{plainlist|\\n* '''Military dead:'''\\n* Over 16,000,000\\n* '''Civilian dead:'''\\n* Over 45,000,000\\n* '''Total dead:'''\\n* Over 61,000,000\\n* (1937–1945)\\n* [[World War II casualties|...''further details'']]}}\"),\n",
       " Row(death=\"{{plainlist|\\n* '''Military dead:'''\\n* Over 16,000,000\\n* '''Civilian dead:'''\\n* Over 45,000,000\\n* '''Total dead:'''\\n* Over 61,000,000\\n* (1937–1945)\\n* [[World War II casualties|...''further details'']]}}\"),\n",
       " Row(death=\"{{plainlist|\\n* '''Military dead:'''\\n* Over 16,000,000\\n* '''Civilian dead:'''\\n* Over 45,000,000\\n* '''Total dead:'''\\n* Over 61,000,000\\n* (1937–1945)\\n* [[World War II casualties|...''further details'']]}}\"),\n",
       " Row(death=\"{{plainlist|\\n* '''Military dead:'''\\n* Over 16,000,000\\n* '''Civilian dead:'''\\n* Over 45,000,000\\n* '''Total dead:'''\\n* Over 61,000,000\\n* (1937–1945)\\n* [[World War II casualties|...''further details'']]}}\"),\n",
       " Row(death=\"{{plainlist|\\n* '''Military dead:'''\\n* Over 16,000,000\\n* '''Civilian dead:'''\\n* Over 45,000,000\\n* '''Total dead:'''\\n* Over 61,000,000\\n* (1937–1945)\\n* [[World War II casualties|...''further details'']]}}\"),\n",
       " Row(death=\"{{plainlist|\\n* '''Military dead:'''\\n* Over 16,000,000\\n* '''Civilian dead:'''\\n* Over 45,000,000\\n* '''Total dead:'''\\n* Over 61,000,000\\n* (1937–1945)\\n* [[World War II casualties|...''further details'']]}}\"),\n",
       " Row(death=\"{{plainlist|\\n* '''Military dead:'''\\n* Over 16,000,000\\n* '''Civilian dead:'''\\n* Over 45,000,000\\n* '''Total dead:'''\\n* Over 61,000,000\\n* (1937–1945)\\n* [[World War II casualties|...''further details'']]}}\"),\n",
       " Row(death=\"{{plainlist|\\n* '''Military dead:'''\\n* Over 16,000,000\\n* '''Civilian dead:'''\\n* Over 45,000,000\\n* '''Total dead:'''\\n* Over 61,000,000\\n* (1937–1945)\\n* [[World War II casualties|...''further details'']]}}\"),\n",
       " Row(death=\"{{plainlist|\\n* '''Military dead:'''\\n* Over 16,000,000\\n* '''Civilian dead:'''\\n* Over 45,000,000\\n* '''Total dead:'''\\n* Over 61,000,000\\n* (1937–1945)\\n* [[World War II casualties|...''further details'']]}}\"),\n",
       " Row(death=\"{{plainlist|\\n* '''Military dead:'''\\n* Over 16,000,000\\n* '''Civilian dead:'''\\n* Over 45,000,000\\n* '''Total dead:'''\\n* Over 61,000,000\\n* (1937–1945)\\n* [[World War II casualties|...''further details'']]}}\"),\n",
       " Row(death=\"{{plainlist|\\n* '''Military dead:'''\\n* Over 16,000,000\\n* '''Civilian dead:'''\\n* Over 45,000,000\\n* '''Total dead:'''\\n* Over 61,000,000\\n* (1937–1945)\\n* [[World War II casualties|...''further details'']]}}\"),\n",
       " Row(death=\"{{plainlist|\\n* '''Military dead:'''\\n* Over 16,000,000\\n* '''Civilian dead:'''\\n* Over 45,000,000\\n* '''Total dead:'''\\n* Over 61,000,000\\n* (1937–1945)\\n* [[World War II casualties|...''further details'']]}}\"),\n",
       " Row(death=\"{{plainlist|\\n* '''Military dead:'''\\n* Over 16,000,000\\n* '''Civilian dead:'''\\n* Over 45,000,000\\n* '''Total dead:'''\\n* Over 61,000,000\\n* (1937–1945)\\n* [[World War II casualties|...''further details'']]}}\"),\n",
       " Row(death=\"{{plainlist|\\n* '''Military dead:'''\\n* Over 16,000,000\\n* '''Civilian dead:'''\\n* Over 45,000,000\\n* '''Total dead:'''\\n* Over 61,000,000\\n* (1937–1945)\\n* [[World War II casualties|...''further details'']]}}\"),\n",
       " Row(death=\"{{plainlist|\\n* '''Military dead:'''\\n* Over 16,000,000\\n* '''Civilian dead:'''\\n* Over 45,000,000\\n* '''Total dead:'''\\n* Over 61,000,000\\n* (1937–1945)\\n* [[World War II casualties|...''further details'']]}}\"),\n",
       " Row(death=\"{{plainlist|\\n* '''Military dead:'''\\n* Over 16,000,000\\n* '''Civilian dead:'''\\n* Over 45,000,000\\n* '''Total dead:'''\\n* Over 61,000,000\\n* (1937–1945)\\n* [[World War II casualties|...''further details'']]}}\"),\n",
       " Row(death=\"{{plainlist|\\n* '''Military dead:'''\\n* Over 16,000,000\\n* '''Civilian dead:'''\\n* Over 45,000,000\\n* '''Total dead:'''\\n* Over 61,000,000\\n* (1937–1945)\\n* [[World War II casualties|...''further details'']]}}\"),\n",
       " Row(death=\"{{plainlist|\\n* '''Military dead:'''\\n* Over 16,000,000\\n* '''Civilian dead:'''\\n* Over 45,000,000\\n* '''Total dead:'''\\n* Over 61,000,000\\n* (1937–1945)\\n* [[World War II casualties|...''further details'']]}}\"),\n",
       " Row(death=\"{{plainlist|\\n* '''Military dead:'''\\n* Over 16,000,000\\n* '''Civilian dead:'''\\n* Over 45,000,000\\n* '''Total dead:'''\\n* Over 61,000,000\\n* (1937–1945)\\n* [[World War II casualties|...''further details'']]}}\"),\n",
       " Row(death=\"{{plainlist|\\n* '''Military dead:'''\\n* Over 16,000,000\\n* '''Civilian dead:'''\\n* Over 45,000,000\\n* '''Total dead:'''\\n* Over 61,000,000\\n* (1937–1945)\\n* [[World War II casualties|...''further details'']]}}\"),\n",
       " Row(death=\"{{plainlist|\\n* '''Military dead:'''\\n* Over 16,000,000\\n* '''Civilian dead:'''\\n* Over 45,000,000\\n* '''Total dead:'''\\n* Over 61,000,000\\n* (1937–1945)\\n* [[World War II casualties|...''further details'']]}}\"),\n",
       " Row(death=\"{{plainlist|\\n* '''Military dead:'''\\n* Over 16,000,000\\n* '''Civilian dead:'''\\n* Over 45,000,000\\n* '''Total dead:'''\\n* Over 61,000,000\\n* (1937–1945)\\n* [[World War II casualties|...''further details'']]}}\"),\n",
       " Row(death=\"{{plainlist|\\n* '''Military dead:'''\\n* Over 16,000,000\\n* '''Civilian dead:'''\\n* Over 45,000,000\\n* '''Total dead:'''\\n* Over 61,000,000\\n* (1937–1945)\\n* [[World War II casualties|...''further details'']]}}\"),\n",
       " Row(death=\"{{plainlist|\\n* '''Military dead:'''\\n* Over 16,000,000\\n* '''Civilian dead:'''\\n* Over 45,000,000\\n* '''Total dead:'''\\n* Over 61,000,000\\n* (1937–1945)\\n* [[World War II casualties|...''further details'']]}}\"),\n",
       " Row(death=\"{{plainlist|\\n* '''Military dead:'''\\n* Over 16,000,000\\n* '''Civilian dead:'''\\n* Over 45,000,000\\n* '''Total dead:'''\\n* Over 61,000,000\\n* (1937–1945)\\n* [[World War II casualties|...''further details'']]}}\"),\n",
       " Row(death=\"{{plainlist|\\n* '''Military dead:'''\\n* Over 16,000,000\\n* '''Civilian dead:'''\\n* Over 45,000,000\\n* '''Total dead:'''\\n* Over 61,000,000\\n* (1937–1945)\\n* [[World War II casualties|...''further details'']]}}\"),\n",
       " Row(death=\"{{plainlist|\\n* '''Military dead:'''\\n* Over 16,000,000\\n* '''Civilian dead:'''\\n* Over 45,000,000\\n* '''Total dead:'''\\n* Over 61,000,000\\n* (1937–1945)\\n* [[World War II casualties|...''further details'']]}}\"),\n",
       " Row(death=\"{{plainlist|\\n* '''Military dead:'''\\n* Over 16,000,000\\n* '''Civilian dead:'''\\n* Over 45,000,000\\n* '''Total dead:'''\\n* Over 61,000,000\\n* (1937–1945)\\n* [[World War II casualties|...''further details'']]}}\"),\n",
       " Row(death=\"{{plainlist|\\n* '''Military dead:'''\\n* Over 16,000,000\\n* '''Civilian dead:'''\\n* Over 45,000,000\\n* '''Total dead:'''\\n* Over 61,000,000\\n* (1937–1945)\\n* [[World War II casualties|...''further details'']]}}\"),\n",
       " Row(death=\"{{plainlist|\\n* '''Military dead:'''\\n* Over 16,000,000\\n* '''Civilian dead:'''\\n* Over 45,000,000\\n* '''Total dead:'''\\n* Over 61,000,000\\n* (1937–1945)\\n* [[World War II casualties|...''further details'']]}}\"),\n",
       " Row(death=\"{{plainlist|\\n* '''Military dead:'''\\n* Over 16,000,000\\n* '''Civilian dead:'''\\n* Over 45,000,000\\n* '''Total dead:'''\\n* Over 61,000,000\\n* (1937–1945)\\n* [[World War II casualties|...''further details'']]}}\"),\n",
       " Row(death='+137'),\n",
       " Row(death=\"{{plainlist|\\n* '''Military dead:'''\\n* Over 16,000,000\\n* '''Civilian dead:'''\\n* Over 45,000,000\\n* '''Total dead:'''\\n* Over 61,000,000\\n* (1937–1945)\\n* [[World War II casualties|...''further details'']]}}\"),\n",
       " Row(death=\"{{plainlist|\\n* '''Military dead:'''\\n* Over 16,000,000\\n* '''Civilian dead:'''\\n* Over 45,000,000\\n* '''Total dead:'''\\n* Over 61,000,000\\n* (1937–1945)\\n* [[World War II casualties|...''further details'']]}}\"),\n",
       " Row(death=\"{{plainlist|\\n* '''Military dead:'''\\n* Over 16,000,000\\n* '''Civilian dead:'''\\n* Over 45,000,000\\n* '''Total dead:'''\\n* Over 61,000,000\\n* (1937–1945)\\n* [[World War II casualties|...''further details'']]}}\"),\n",
       " Row(death=\"{{plainlist|\\n* '''Military dead:'''\\n* Over 16,000,000\\n* '''Civilian dead:'''\\n* Over 45,000,000\\n* '''Total dead:'''\\n* Over 61,000,000\\n* (1937–1945)\\n* [[World War II casualties|...''further details'']]}}\"),\n",
       " Row(death=\"{{plainlist|\\n* '''Military dead:'''\\n* Over 16,000,000\\n* '''Civilian dead:'''\\n* Over 45,000,000\\n* '''Total dead:'''\\n* Over 61,000,000\\n* (1937–1945)\\n* [[World War II casualties|...''further details'']]}}\"),\n",
       " Row(death=\"{{plainlist|\\n* '''Military dead:'''\\n* Over 16,000,000\\n* '''Civilian dead:'''\\n* Over 45,000,000\\n* '''Total dead:'''\\n* Over 61,000,000\\n* (1937–1945)\\n* [[World War II casualties|...''further details'']]}}\"),\n",
       " Row(death=\"{{plainlist|\\n* '''Military dead:'''\\n* Over 16,000,000\\n* '''Civilian dead:'''\\n* Over 45,000,000\\n* '''Total dead:'''\\n* Over 61,000,000\\n* (1937–1945)\\n* [[World War II casualties|...''further details'']]}}\")]"
      ]
     },
     "execution_count": 44,
     "metadata": {},
     "output_type": "execute_result"
    }
   ],
   "source": [
    "ww2_df.select('death').collect()"
   ]
  },
  {
   "cell_type": "code",
   "execution_count": 45,
   "metadata": {},
   "outputs": [
    {
     "data": {
      "text/plain": [
       "[Row(id=64692),\n",
       " Row(id=627326),\n",
       " Row(id=32927),\n",
       " Row(id=8027546),\n",
       " Row(id=3498598),\n",
       " Row(id=776074),\n",
       " Row(id=988219),\n",
       " Row(id=998807),\n",
       " Row(id=902040),\n",
       " Row(id=342640),\n",
       " Row(id=7439614),\n",
       " Row(id=7468801),\n",
       " Row(id=927764),\n",
       " Row(id=936661),\n",
       " Row(id=4329310),\n",
       " Row(id=1779568),\n",
       " Row(id=519489),\n",
       " Row(id=519516),\n",
       " Row(id=730658),\n",
       " Row(id=493696),\n",
       " Row(id=5352468),\n",
       " Row(id=4149594),\n",
       " Row(id=54639200),\n",
       " Row(id=52997544),\n",
       " Row(id=7668163),\n",
       " Row(id=7148715),\n",
       " Row(id=11413940),\n",
       " Row(id=13669170),\n",
       " Row(id=8814971),\n",
       " Row(id=20537542),\n",
       " Row(id=6820802),\n",
       " Row(id=54956721),\n",
       " Row(id=537817),\n",
       " Row(id=22573476),\n",
       " Row(id=22619466),\n",
       " Row(id=22752221),\n",
       " Row(id=22878403),\n",
       " Row(id=25536548),\n",
       " Row(id=291341),\n",
       " Row(id=2728998),\n",
       " Row(id=10805870),\n",
       " Row(id=33247384),\n",
       " Row(id=32732761),\n",
       " Row(id=15873865),\n",
       " Row(id=2823356),\n",
       " Row(id=10262809),\n",
       " Row(id=4397117),\n",
       " Row(id=30281564),\n",
       " Row(id=30319330),\n",
       " Row(id=17426585),\n",
       " Row(id=36240634),\n",
       " Row(id=27495752)]"
      ]
     },
     "execution_count": 45,
     "metadata": {},
     "output_type": "execute_result"
    }
   ],
   "source": [
    "ww2_df.select('id').collect()"
   ]
  },
  {
   "cell_type": "code",
   "execution_count": null,
   "metadata": {},
   "outputs": [],
   "source": []
  }
 ],
 "metadata": {
  "kernelspec": {
   "display_name": "Python [conda env:ada]",
   "language": "python",
   "name": "conda-env-ada-py"
  },
  "language_info": {
   "codemirror_mode": {
    "name": "ipython",
    "version": 3
   },
   "file_extension": ".py",
   "mimetype": "text/x-python",
   "name": "python",
   "nbconvert_exporter": "python",
   "pygments_lexer": "ipython3",
   "version": "3.6.6"
  }
 },
 "nbformat": 4,
 "nbformat_minor": 2
}
