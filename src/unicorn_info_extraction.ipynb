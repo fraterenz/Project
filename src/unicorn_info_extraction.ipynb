{
 "cells": [
  {
   "cell_type": "code",
   "execution_count": 125,
   "metadata": {},
   "outputs": [],
   "source": [
    "import wptools\n",
    "import pyspark\n",
    "import pyspark.sql\n",
    "from pyspark.sql import *\n",
    "import os.path\n",
    "from pyspark.sql.functions import desc\n",
    "\n",
    "import findspark\n",
    "findspark.init()\n",
    "\n",
    "from pyspark.sql import dataframe\n",
    "from pyspark.sql import functions as F\n",
    "\n",
    "from pyspark.sql import SparkSession\n",
    "from pyspark import SparkContext\n",
    "from pyspark.sql import SQLContext\n",
    "\n",
    "spark = SparkSession.builder.getOrCreate()\n",
    "sc = spark.sparkContext\n",
    "\n",
    "from pyspark.sql import SQLContext\n",
    "sqlContext = SQLContext(sc)"
   ]
  },
  {
   "cell_type": "code",
   "execution_count": 126,
   "metadata": {},
   "outputs": [],
   "source": [
    "import pyspark\n",
    "import re\n",
    "import pandas as pd\n",
    "import matplotlib.pyplot as plt\n",
    "import hashlib\n",
    "\n",
    "%matplotlib inline\n",
    "\n",
    "# import get_ref_info.py\n",
    "import os\n",
    "import sys\n",
    "my_fun = '../src/'\n",
    "if my_fun not in sys.path:\n",
    "    sys.path.append(my_fun)\n",
    "    \n",
    "from get_ref_info import *\n",
    "from operator import add\n",
    "from urllib.parse import urlparse\n",
    "import seaborn as sns"
   ]
  },
  {
   "cell_type": "markdown",
   "metadata": {},
   "source": [
    "# Loading data "
   ]
  },
  {
   "cell_type": "markdown",
   "metadata": {},
   "source": [
    "**File schema** is shown."
   ]
  },
  {
   "cell_type": "code",
   "execution_count": 96,
   "metadata": {},
   "outputs": [
    {
     "name": "stdout",
     "output_type": "stream",
     "text": [
      "root\n",
      " |-- id: long (nullable = true)\n",
      " |-- ns: long (nullable = true)\n",
      " |-- restrictions: string (nullable = true)\n",
      " |-- revision: struct (nullable = true)\n",
      " |    |-- comment: struct (nullable = true)\n",
      " |    |    |-- _VALUE: string (nullable = true)\n",
      " |    |    |-- _deleted: string (nullable = true)\n",
      " |    |-- contributor: struct (nullable = true)\n",
      " |    |    |-- _VALUE: string (nullable = true)\n",
      " |    |    |-- _deleted: string (nullable = true)\n",
      " |    |    |-- id: long (nullable = true)\n",
      " |    |    |-- ip: string (nullable = true)\n",
      " |    |    |-- username: string (nullable = true)\n",
      " |    |-- format: string (nullable = true)\n",
      " |    |-- id: long (nullable = true)\n",
      " |    |-- minor: string (nullable = true)\n",
      " |    |-- model: string (nullable = true)\n",
      " |    |-- parentid: long (nullable = true)\n",
      " |    |-- sha1: string (nullable = true)\n",
      " |    |-- text: struct (nullable = true)\n",
      " |    |    |-- _VALUE: string (nullable = true)\n",
      " |    |    |-- _xml:space: string (nullable = true)\n",
      " |    |-- timestamp: string (nullable = true)\n",
      " |-- title: string (nullable = true)\n",
      " |-- categories: string (nullable = true)\n",
      " |-- good_categories: boolean (nullable = true)\n",
      "\n"
     ]
    }
   ],
   "source": [
    "DATA_DIR = '../' \n",
    "WIKIPEDIA_CONFLICTS_PARQUET = DATA_DIR + 'selectedAllConflict.parquet'\n",
    "\n",
    "# loading the saved parquet files\n",
    "wikipedia = spark.read.parquet(WIKIPEDIA_CONFLICTS_PARQUET)\n",
    "# show file schema\n",
    "wikipedia.printSchema()"
   ]
  },
  {
   "cell_type": "markdown",
   "metadata": {},
   "source": [
    "---\n",
    "\n",
    "# Article outliers removal\n",
    "\n",
    "We have some outliers we need to deal with, as a first step we use keywords (riot, war, conflict, protest) on the article titles to extract from our chosen categories (`civilian attack`, `civil conflict`, `military conflict`).\n",
    "\n",
    "For example, we found that some articles in `civilian attack` may contain the infobox `civilian attack` but are not really a `civilian attack`. The following page \n",
    "\n",
    "> Fraunces Tavern: Fraunces Tavern is a landmark museum and restaurant in New York City, situated at 54 Pearl Street at the corner of Broad Street. The location played a prominent role in history before, during and after the American Revolution, serving as a headquarters for George Washington, a venue for peace negotiations with the British, and housing federal offices in the Early Republic.\n",
    "\n",
    "Since some pages are considered **outliers**, we remove them using the method described above.\n"
   ]
  },
  {
   "cell_type": "code",
   "execution_count": null,
   "metadata": {},
   "outputs": [],
   "source": []
  },
  {
   "cell_type": "markdown",
   "metadata": {},
   "source": [
    "---\n",
    "# Quantifying *importance* of each page in each category\n",
    "\n",
    "We want to see how *important* each page is in each category. As we are solely focusing on *'war'*-related subjects in this pilot phase, we define *page importance* by the number of deaths. \n",
    "\n",
    "## Infobox or Wikidata per category \n",
    "\n",
    "Functions `get_wiki_civilian_attack`, `get_wiki_military_conflict`\n",
    "to get relevant information and views for each category: `civilian attack`, `military conflict`. \n",
    "Data is obtained either using the page's wikidata is the data exists or acquired through infobox parsing.\n",
    "Relevant information is chosen based on the fields found on [List of infoboxes and fields](https://en.wikipedia.org/wiki/Wikipedia:List_of_infoboxes#Event) \n",
    "\n",
    "Extract info for each category in **Infobox**:\n",
    "* `civilian attack`\n",
    "    * location\n",
    "    * date \n",
    "    * fatalities\n",
    "* `military conflict`\n",
    "    * place\n",
    "    * date \n",
    "    * casualities1\n",
    "* `civil conflict`\n",
    "    * place\n",
    "    * date \n",
    "    * casualities1\n",
    "    \n",
    "Extract info for each category in **Wikidata**:\n",
    "* `civilian attack`\n",
    "    * location\n",
    "    * date \n",
    "    * fatalities\n",
    "* `military conflict`\n",
    "    * 'number of deaths (P1120)']['amount']\n",
    "    * 'end time (P582)'\n",
    "    * 'location (P276)'\n",
    "* `civil conflict`\n",
    "    * 'number of deaths (P1120)']['amount']\n",
    "    * 'end time (P582)'\n",
    "    * 'location (P276)'\n",
    "    \n",
    "We use an external library [wptools wiki](https://github.com/siznax/wptools/wiki) to help us parse the data. \n",
    "\n",
    "### Categories\n",
    "We focus on categories : `civilian attack`, `military conflict`, `civil conflict` from our pre-filtered wikipedia dump data which had 3 categories: `civilian attack`, `military conflict`, `civil conflict` (key words we used via regex expression to extract articles containing infoboxes with such headers by parsing the revision.text.__VALUE). \n",
    "\n",
    "We also found a list of all ongoing civil wars listed on [wikipedia](https://en.wikipedia.org/wiki/List_of_civil_wars#Ongoing_civil_wars) have a `Template:Infobox military`. This may be of interest in a later step.\n",
    "\n",
    "[List of ongoing civil wars](https://en.wikipedia.org/wiki/List_of_civil_wars#Ongoing_civil_wars):\n",
    " * Myanmar, Internal conflict in Myanmar, since 1948\n",
    " * Indonesia, Papua conflict, since 1962\n",
    " * Colombia, Colombian conflict, since 1964\n",
    " * Afghanistan, War in Afghanistan, since 1978\n",
    " * Turkey, Kurdish–Turkish conflict since 1978\n",
    " * Somalia, Somali Civil War, since 1988\n",
    " * Sudan, three conflicts\n",
    "* War in Darfur, since 26 February 2003\n",
    "* Sudanese nomadic conflicts, since 26 May 2009 through at least 2017\n",
    "* Sudanese conflict in South Kordofan and Blue Nile since 5 June 2011\n",
    " * Pakistan, War in North-West Pakistan, since 16 March 2004\n",
    " * Paraguay, Paraguayan People's Army insurgency, since 2005\n",
    " * Syria, Syrian Civil War, since 15 March 2011, also see List of armed groups in the Syrian Civil War\n",
    " * Central African Republic, Central African Republic conflict, since 10 December 2012\n",
    " * South Sudan, South Sudanese Civil War, since 15 December 2013\n",
    " * Libya, Second Libyan Civil War, since 16 May 2014\n",
    " * Yemen, Second Yemeni Civil War, since 19 March 2015"
   ]
  },
  {
   "cell_type": "code",
   "execution_count": 120,
   "metadata": {},
   "outputs": [],
   "source": [
    "def get_wiki_military_conflict(entity):\n",
    "    page = wptools.page(entity.title)\n",
    "    # extract relevant information and put in dictionary\n",
    "    info = {'death': None, 'end_date': None, 'location': None}\n",
    "    \n",
    "    try: \n",
    "        page.get_wikidata()\n",
    "        info['death'] = page.data['wikidata']['number of deaths (P1120)']['amount']\n",
    "    \n",
    "    except:\n",
    "        try:\n",
    "            page.get_parse()\n",
    "            info['death'] = poly_page.data['infobox']['casualties1']\n",
    "        except:\n",
    "            info['death'] = None\n",
    "            \n",
    "    try:\n",
    "        page.get_wikidata()\n",
    "        info['end_date'] = page.data['wikidata']['end time (P582)']\n",
    "    except:\n",
    "        try:\n",
    "            page.get_parse()\n",
    "            info['end_date'] = poly_page.data['infobox']['date']\n",
    "        except:\n",
    "            info['end_date'] = None\n",
    "    \n",
    "    try:\n",
    "        page.get_wikidata()\n",
    "        info['location'] = page.data['wikidata']['location (P276)']\n",
    "    except:\n",
    "        try:\n",
    "            page.get_parse()\n",
    "            info['location'] = poly_page.data['infobox']['place']\n",
    "        except:\n",
    "            info['location'] = None\n",
    "    \n",
    "    \n",
    "    return Row(id=entity.id, title=entity.title, death=info['death'],\n",
    "               end_date=info['end_date'], location=info['location'])"
   ]
  },
  {
   "cell_type": "markdown",
   "metadata": {},
   "source": [
    "### Wikidata & Infobox `military conflict `"
   ]
  },
  {
   "cell_type": "code",
   "execution_count": 88,
   "metadata": {},
   "outputs": [],
   "source": [
    "infobox_military_conflict = 'military conflict'\n",
    "# find all pages that have category military conflict\n",
    "wiki_military_conflict = wikipedia.where(\"categories like '%{}%'\".format(infobox_military_conflict)) "
   ]
  },
  {
   "cell_type": "code",
   "execution_count": 89,
   "metadata": {},
   "outputs": [],
   "source": [
    "wiki_military_conflict_df = sqlContext.createDataFrame(wiki_military_conflict.rdd.map(get_wiki_military_conflict))"
   ]
  },
  {
   "cell_type": "code",
   "execution_count": 94,
   "metadata": {},
   "outputs": [
    {
     "data": {
      "text/plain": [
       "[Row(death=\"{{plainlist|\\n* '''Military dead:'''\\n* Over 16,000,000\\n* '''Civilian dead:'''\\n* Over 45,000,000\\n* '''Total dead:'''\\n* Over 61,000,000\\n* (1937–1945)\\n* [[World War II casualties|...''further details'']]}}\", end_date='{{ubl|start and end dates|1939|9|1|1945|9|2|df|=|yes|\\n                  |(|Age in years and days|1 September 1939|2 September 1945|sep|=|and|)|efn| While [[World War II#Chronology|various other dates]] have been proposed as the date on which World War II began or ended, this is the time span most frequently cited.}} {{start and end dates|1939|9|1|1945|9|2|df|=|yes}} {{Age in years and days|1 September 1939|2 September 1945|sep|=|and}} ) {{efn| While [[World War II#Chronology|various other dates]] have been proposed as the date on which World War II began or ended, this is the time span most frequently cited.}}', id=655845, location='Athens (Q3292481)', title='Battle of Athens (1946)'),\n",
       " Row(death=\"{{plainlist|\\n* '''Military dead:'''\\n* Over 16,000,000\\n* '''Civilian dead:'''\\n* Over 45,000,000\\n* '''Total dead:'''\\n* Over 61,000,000\\n* (1937–1945)\\n* [[World War II casualties|...''further details'']]}}\", end_date='{{ubl|start and end dates|1939|9|1|1945|9|2|df|=|yes|\\n                  |(|Age in years and days|1 September 1939|2 September 1945|sep|=|and|)|efn| While [[World War II#Chronology|various other dates]] have been proposed as the date on which World War II began or ended, this is the time span most frequently cited.}} {{start and end dates|1939|9|1|1945|9|2|df|=|yes}} {{Age in years and days|1 September 1939|2 September 1945|sep|=|and}} ) {{efn| While [[World War II#Chronology|various other dates]] have been proposed as the date on which World War II began or ended, this is the time span most frequently cited.}}', id=656035, location='Calabria (Q1458)', title='Battle of Calabria'),\n",
       " Row(death=\"{{plainlist|\\n* '''Military dead:'''\\n* Over 16,000,000\\n* '''Civilian dead:'''\\n* Over 45,000,000\\n* '''Total dead:'''\\n* Over 61,000,000\\n* (1937–1945)\\n* [[World War II casualties|...''further details'']]}}\", end_date='+1912-10-18T00:00:00Z', id=656087, location='Vilayet of Tripolitania (Q1529261)', title='Italo-Turkish War')]"
      ]
     },
     "execution_count": 94,
     "metadata": {},
     "output_type": "execute_result"
    }
   ],
   "source": [
    "wiki_military_conflict_df.take(3)"
   ]
  },
  {
   "cell_type": "code",
   "execution_count": null,
   "metadata": {},
   "outputs": [],
   "source": [
    "# saving binary file to future uses\n",
    "wiki_military_conflict_df.write.parquet(DATA_DIR +\"{}.parquet\".format(infobox_military_conflict));\n",
    "# loading the saved parquet files\n",
    "wiki_military_conflict_df_reload = spark.read.parquet(\n",
    "    DATA_DIR_FILTERED+\"{}.parquet\".format(infobox_military_conflict));"
   ]
  },
  {
   "cell_type": "markdown",
   "metadata": {},
   "source": [
    "### Wikidata & Infobox `civilian attack`"
   ]
  },
  {
   "cell_type": "code",
   "execution_count": 107,
   "metadata": {},
   "outputs": [],
   "source": [
    "def get_wiki_civilian_attack(entity):\n",
    "    page = wptools.page(entity.title)\n",
    "    # extract relevant information and put in dictionary\n",
    "    info = {'death': None, 'end_date': None, 'location': None}\n",
    "    \n",
    "    try: \n",
    "        page.get_wikidata()\n",
    "        info['death'] = page.data['wikidata']['number of deaths (P1120)']['amount']\n",
    "    \n",
    "    except:\n",
    "        try:\n",
    "            page.get_parse()\n",
    "            info['death'] = poly_page.data['infobox']['fatalities']\n",
    "        except:\n",
    "            info['death'] = None\n",
    "            \n",
    "    try:\n",
    "        page.get_wikidata()\n",
    "        info['end_date'] = page.data['wikidata']['end time (P582)']\n",
    "    except:\n",
    "        try:\n",
    "            page.get_parse()\n",
    "            info['end_date'] = poly_page.data['infobox']['date']\n",
    "        except:\n",
    "            info['end_date'] = None\n",
    "    \n",
    "    try:\n",
    "        page.get_wikidata()\n",
    "        info['location'] = page.data['wikidata']['location (P276)']\n",
    "    except:\n",
    "        try:\n",
    "            page.get_parse()\n",
    "            info['location'] = poly_page.data['infobox']['location']\n",
    "        except:\n",
    "            info['location'] = None\n",
    "    \n",
    "    \n",
    "    return Row(id=entity.id, title=entity.title, death=info['death'],\n",
    "               end_date=info['end_date'], location=info['location'])"
   ]
  },
  {
   "cell_type": "code",
   "execution_count": 108,
   "metadata": {},
   "outputs": [],
   "source": [
    "infobox_civilian_attack = 'civilian attack'\n",
    "# find all pages that have category civilian attack\n",
    "wiki_civilian_attack = wikipedia.where(\"categories like '%{}%'\".format(infobox_civilian_attack)) "
   ]
  },
  {
   "cell_type": "code",
   "execution_count": 109,
   "metadata": {},
   "outputs": [],
   "source": [
    "wiki_civilian_attack_df = sqlContext.createDataFrame(wiki_civilian_attack.rdd.map(get_wiki_civilian_attack))"
   ]
  },
  {
   "cell_type": "code",
   "execution_count": 110,
   "metadata": {
    "scrolled": false
   },
   "outputs": [
    {
     "data": {
      "text/plain": [
       "[Row(death='6', end_date='{{start date and age|1993|02|26}}', id=676659, location='Pereira (Q51111)', title='Rwandan genocide'),\n",
       " Row(death='6', end_date='{{start date and age|1993|02|26}}', id=683450, location='Zarqa (Q148062)', title=\"Dawson's Field hijackings\"),\n",
       " Row(death='6', end_date='{{start date and age|1993|02|26}}', id=690570, location='Manhattan (Q11299)', title='Fraunces Tavern')]"
      ]
     },
     "execution_count": 110,
     "metadata": {},
     "output_type": "execute_result"
    }
   ],
   "source": [
    "wiki_civilian_attack_df.take(3)"
   ]
  },
  {
   "cell_type": "markdown",
   "metadata": {},
   "source": [
    "### Wikidata & Infobox `civil conflict`"
   ]
  },
  {
   "cell_type": "code",
   "execution_count": 112,
   "metadata": {},
   "outputs": [],
   "source": [
    "infobox_civil_conflict = 'civil conflict'\n",
    "# find all pages that have category civilian attack\n",
    "wiki_civil_conflict = wikipedia.where(\"categories like '%{}%'\".format(infobox_civil_conflict)) "
   ]
  },
  {
   "cell_type": "code",
   "execution_count": 121,
   "metadata": {},
   "outputs": [],
   "source": [
    "wiki_civil_conflict_df = sqlContext.createDataFrame(wiki_civil_conflict.rdd.map(get_wiki_military_conflict))"
   ]
  },
  {
   "cell_type": "code",
   "execution_count": 122,
   "metadata": {},
   "outputs": [
    {
     "data": {
      "text/plain": [
       "[Row(death=None, end_date='11, 12 and 13 September 2000', id=661864, location='[[Melbourne]], [[Australia]]', title='S11 (protest)'),\n",
       " Row(death=None, end_date='11, 12 and 13 September 2000', id=664490, location='[[Melbourne]], [[Australia]]', title='1912 Lawrence textile strike'),\n",
       " Row(death=None, end_date='11, 12 and 13 September 2000', id=1613199, location='[[Melbourne]], [[Australia]]', title='East St. Louis Race Riots')]"
      ]
     },
     "execution_count": 122,
     "metadata": {},
     "output_type": "execute_result"
    }
   ],
   "source": [
    "wiki_civil_conflict_df.take(3)"
   ]
  },
  {
   "cell_type": "markdown",
   "metadata": {},
   "source": [
    "---\n",
    "\n",
    "# Popularity Metrics\n",
    "\n",
    "## Loading the data"
   ]
  },
  {
   "cell_type": "code",
   "execution_count": 123,
   "metadata": {},
   "outputs": [
    {
     "name": "stdout",
     "output_type": "stream",
     "text": [
      "+------+---+------------+--------------------+--------------------+-----------------+---------------+\n",
      "|    id| ns|restrictions|            revision|               title|       categories|good_categories|\n",
      "+------+---+------------+--------------------+--------------------+-----------------+---------------+\n",
      "|655845|  0|        null|[, [,, 5175837,, ...|Battle of Athens ...|military conflict|           true|\n",
      "|656035|  0|        null|[[link,], [,, 268...|  Battle of Calabria|military conflict|           true|\n",
      "|656087|  0|        null|[, [,,, 96.77.37....|   Italo-Turkish War|military conflict|           true|\n",
      "|656173|  0|        null|[[Formatting.,], ...|Third Anglo-Afgha...|military conflict|           true|\n",
      "|656175|  0|        null|[[/* 1879 */The B...|Second Anglo-Afgh...|military conflict|           true|\n",
      "|656473|  0|        null|[[Moved images.,]...|   Illinois campaign|military conflict|           true|\n",
      "|659156|  0|        null|[, [,, 29980587,,...|Battle of Kock (1...|military conflict|           true|\n",
      "|659506|  0|        null|[[c/e.,], [,, 193...|Battle of Peachtr...|military conflict|           true|\n",
      "|661656|  0|        null|[, [,, 33124044,,...|Nicaraguan Revolu...|military conflict|           true|\n",
      "|661864|  0|        null|[[Rescuing 3 sour...|       S11 (protest)|   civil conflict|           true|\n",
      "+------+---+------------+--------------------+--------------------+-----------------+---------------+\n",
      "only showing top 10 rows\n",
      "\n"
     ]
    }
   ],
   "source": [
    "# Loading the data\n",
    "DATA_DIR = '../' \n",
    "WIKIPEDIA_CONFLICTS_PARQUET = DATA_DIR + 'selectedAllConflict.parquet'\n",
    "\n",
    "# loading the saved parquet files\n",
    "wikipedia_ref = spark.read.parquet(WIKIPEDIA_CONFLICTS_PARQUET)\n",
    "wikipedia_ref.show(10)"
   ]
  },
  {
   "cell_type": "markdown",
   "metadata": {},
   "source": [
    "## POPULARITY METRIC 1\n",
    "\n",
    "### Get number of references per page\n",
    "\n",
    "We use our pre-filtered data and we count the number of tag of type ```<ref>```, by parsing all pages to get the number of references. We think that the more *popular* a page is, the more references it will contain.\n",
    "\n",
    "We want to see:\n",
    "* how many references a page has\n",
    "* what does the distribution of the references look like \n",
    "* what are the top domains across these articles \n",
    "* how many articles have a reference to each domain\n",
    "\n",
    "The analysis is based on work from *Research:Characterizing Wikipedia Citation Usage*: [MetaPageQueries](https://meta.wikimedia.org/wiki/Research:Characterizing_Wikipedia_Citation_Usage/First_Round_of_Analysis#Dimensions_of_Analysis)\n",
    "\n",
    "Example of reference format:\n",
    "```html\n",
    "<ref>{{cite web| url=http://geonames.nga.mil/ggmagaz/geonames4.asp \n",
    "    |title=NGA GeoName Database |publisher=[[National Geospatial Intelligence Agency]] \n",
    "    |accessdate=2008-07-05 \n",
    "    |archiveurl = https://web.archive.org/web/20080608190852/http://geonames.nga.mil/ggmagaz/geonames4.asp \n",
    "    <!-- Bot retrieved archive --> |archivedate = 2008-06-08}}</ref>\n",
    "```\n",
    "\n",
    "**quantify the number of references per page**\n",
    "    * using regex expression to find the references in the page\n",
    "    * counting the number of references"
   ]
  },
  {
   "cell_type": "code",
   "execution_count": 127,
   "metadata": {},
   "outputs": [],
   "source": [
    "# quantify the number of references per page\n",
    "\n",
    "# Compile a regular expression pattern into a regular expression object, \n",
    "#which can be used for matching using its findall.\n",
    "just_ref_regex = re.compile(r'<ref[^>]*[^\\/]>|<ref[ ]*>')\n",
    "\n",
    "# find # references <ref> per page \n",
    "def get_refs_count(entity, regex_expression=just_ref_regex ):\n",
    "    # get access to value in text in revision\n",
    "    text = entity.revision.text._VALUE\n",
    "    # find references\n",
    "    refs = just_ref_regex.findall(text)\n",
    "    return Row(id=entity.id, refs_count=len(refs), categories=entity.categories)"
   ]
  },
  {
   "cell_type": "code",
   "execution_count": 128,
   "metadata": {},
   "outputs": [
    {
     "name": "stdout",
     "output_type": "stream",
     "text": [
      "+-----------------+--------+----------+\n",
      "|       categories|      id|refs_count|\n",
      "+-----------------+--------+----------+\n",
      "|military conflict|52019122|      1000|\n",
      "|military conflict|46230181|       818|\n",
      "|military conflict|42563745|       734|\n",
      "|military conflict|43243199|       609|\n",
      "|military conflict|     771|       598|\n",
      "+-----------------+--------+----------+\n",
      "only showing top 5 rows\n",
      "\n"
     ]
    }
   ],
   "source": [
    "# get the # of references per page\n",
    "# Creates a DataFrame from an RDD, apply counting function with regex expression\n",
    "reference_count_page = sqlContext.createDataFrame(wikipedia_ref.rdd.map(get_refs_count))\n",
    "reference_count_page.sort('refs_count', ascending=False).show(5)\n",
    "reference_count_page_sql = reference_count_page.registerTempTable('reference_count_page_sql')"
   ]
  },
  {
   "cell_type": "code",
   "execution_count": 129,
   "metadata": {},
   "outputs": [
    {
     "name": "stdout",
     "output_type": "stream",
     "text": [
      "Number of articles with #references > 0: 15986\n"
     ]
    }
   ],
   "source": [
    "# quantify the # articles with # ref > 0: \n",
    "non_zero_ref_query = \"\"\"\n",
    "select count(DISTINCT id)\n",
    "from reference_count_page_sql\n",
    "where refs_count > 0\n",
    "\"\"\"\n",
    "non_zero_articles = spark.sql(non_zero_ref_query)\n",
    "\n",
    "non_zero_articles_pd = non_zero_articles.toPandas().iloc[0,0]\n",
    "print(\"Number of articles with #references > 0: \" + str(non_zero_articles_pd))"
   ]
  },
  {
   "cell_type": "markdown",
   "metadata": {},
   "source": [
    "**Distribution of number of references** We bin the number of references to get the number of pages having at least x #references. This is observed with a histogram plot."
   ]
  },
  {
   "cell_type": "code",
   "execution_count": 130,
   "metadata": {},
   "outputs": [
    {
     "data": {
      "image/png": "[encoded data removed]",
      "text/plain": [
       "<Figure size 864x504 with 1 Axes>"
      ]
     },
     "metadata": {
      "needs_background": "light"
     },
     "output_type": "display_data"
    }
   ],
   "source": [
    "just_refs_count = reference_count_page.select('refs_count').toPandas()\n",
    "just_refs_count.plot(kind=\"hist\", bins=100, log=True, figsize=(12,7), title=\"Distribution of number of references\")\n",
    "plt.xlabel('# References')\n",
    "plt.ylabel('Frequency: # Pages having at least x references')\n",
    "plt.show()"
   ]
  },
  {
   "cell_type": "markdown",
   "metadata": {},
   "source": [
    "**Distribution of number of references**: It seems that the distribution may follow a power law. To verify our suspicions, we plot our cumulative distribution in normal axes and in log-log axes. We look at a \"cumulative distribution\": how many references have at least x pages?\n",
    "\n",
    "The distribution has a heavy-tailed distribution: they may follow a power law. To recognize if the distirbutions follow a power law, we plot the data in log-log axes. If they follow a power law, reporting mean or variance for a power-law-distributed data is not relevant as these statistics are not robust as they are sensitive to data. Instead, we use robust statistics and report the median and quartiles using boxplots. We compare boxplots with and without outliers."
   ]
  },
  {
   "cell_type": "markdown",
   "metadata": {},
   "source": [
    "### Get the domains of references"
   ]
  },
  {
   "cell_type": "code",
   "execution_count": 131,
   "metadata": {},
   "outputs": [
    {
     "name": "stdout",
     "output_type": "stream",
     "text": [
      "+------+---------+--------------------+--------------------+\n",
      "|    id| template|               title|                 url|\n",
      "+------+---------+--------------------+--------------------+\n",
      "|655845|cite book|     South vs. South|                    |\n",
      "|655845|cite book|       McMinn County|https://archive.o...|\n",
      "|655845|cite book|     South vs. South|                    |\n",
      "|655845|cite book|       McMinn County|https://archive.o...|\n",
      "|655845| cite web|The Battle of Athens|http://www.americ...|\n",
      "+------+---------+--------------------+--------------------+\n",
      "only showing top 5 rows\n",
      "\n"
     ]
    }
   ],
   "source": [
    "references_rrd = wikipedia.rdd.flatMap(get_ref_info)\n",
    "references = sqlContext.createDataFrame(references_rrd)\n",
    "references.show(5)"
   ]
  },
  {
   "cell_type": "markdown",
   "metadata": {},
   "source": [
    "**URL parsing** \n",
    "Parse a URL into six components, returning a 6-tuple. This corresponds to the general structure of a URL: scheme://netloc/path;parameters?query#fragment. Each tuple item is a string, possibly empty."
   ]
  },
  {
   "cell_type": "code",
   "execution_count": 132,
   "metadata": {},
   "outputs": [
    {
     "data": {
      "text/plain": [
       "[('books.google.com', 10226),\n",
       " ('www.nytimes.com', 4304),\n",
       " ('www.reuters.com', 3759),\n",
       " ('www.almasdarnews.com', 3397),\n",
       " ('www.theguardian.com', 3365),\n",
       " ('www.bbc.co.uk', 2872),\n",
       " ('news.bbc.co.uk', 2354),\n",
       " ('www.washingtonpost.com', 2026),\n",
       " ('www.aljazeera.com', 1997),\n",
       " ('www.bbc.com', 1993),\n",
       " ('www.cnn.com', 1639),\n",
       " ('www.telegraph.co.uk', 1540),\n",
       " ('www.syriahr.com', 1518),\n",
       " ('edition.cnn.com', 1193),\n",
       " ('www.independent.co.uk', 993),\n",
       " ('abcnews.go.com', 894),\n",
       " ('twitter.com', 814),\n",
       " ('www.foxnews.com', 722),\n",
       " ('www.haaretz.com', 712),\n",
       " ('www.jpost.com', 684),\n",
       " ('www.dawn.com', 684),\n",
       " ('www.dailystar.com.lb', 682),\n",
       " ('www.cbsnews.com', 654),\n",
       " ('news.yahoo.com', 647),\n",
       " ('www.youtube.com', 642),\n",
       " ('www.wsj.com', 634),\n",
       " ('archive.org', 606),\n",
       " ('www.latimes.com', 604),\n",
       " ('www.huffingtonpost.com', 603),\n",
       " ('www.usatoday.com', 585)]"
      ]
     },
     "execution_count": 132,
     "metadata": {},
     "output_type": "execute_result"
    }
   ],
   "source": [
    "def get_domain(row):\n",
    "    # parse url and return for each row (url, 1) where 1 is the occurence of ref = 1 for that page\n",
    "    try:\n",
    "        parsed_uri = urlparse(row['url'])\n",
    "        return ('{uri.netloc}'.format(uri=parsed_uri), 1)\n",
    "    except:\n",
    "        return None\n",
    "\n",
    "mapped_domains = references.where(\"length(url)>0\").rdd.map(get_domain).filter(lambda row: row is not None)\n",
    "# for each domain count how many references there are in total to find top domains\n",
    "domains_count = mapped_domains.reduceByKey(lambda a,b: a+b).filter(lambda r: len(r[0])>0).sortBy(lambda r: -r[1])\n",
    "domains_count.take(30)"
   ]
  },
  {
   "cell_type": "code",
   "execution_count": 133,
   "metadata": {},
   "outputs": [
    {
     "name": "stdout",
     "output_type": "stream",
     "text": [
      "Total number of links: 166810\n"
     ]
    }
   ],
   "source": [
    "# count the number of links\n",
    "number_links = domains_count.map(lambda r: r[1]).reduce(add)\n",
    "print(\"Total number of links: {}\".format(number_links))"
   ]
  },
  {
   "cell_type": "code",
   "execution_count": 134,
   "metadata": {},
   "outputs": [
    {
     "name": "stdout",
     "output_type": "stream",
     "text": [
      "+-----+--------------------+-------------------+\n",
      "|count|              domain|               perc|\n",
      "+-----+--------------------+-------------------+\n",
      "|10226|    books.google.com|  6.130327917990528|\n",
      "| 4304|     www.nytimes.com| 2.5801810443019004|\n",
      "| 3759|     www.reuters.com|  2.253462022660512|\n",
      "| 3397|www.almasdarnews.com| 2.0364486541574247|\n",
      "| 3365| www.theguardian.com| 2.0172651519693066|\n",
      "| 2872|       www.bbc.co.uk| 1.7217193213836102|\n",
      "| 2354|      news.bbc.co.uk| 1.4111863797134465|\n",
      "| 2026|www.washingtonpos...| 1.2145554822852347|\n",
      "| 1997|   www.aljazeera.com| 1.1971704334272526|\n",
      "| 1993|         www.bbc.com| 1.1947724956537378|\n",
      "| 1639|         www.cnn.com|   0.98255500269768|\n",
      "| 1540| www.telegraph.co.uk| 0.9232060428031893|\n",
      "| 1518|     www.syriahr.com|  0.910017385048858|\n",
      "| 1193|     edition.cnn.com| 0.7151849409507823|\n",
      "|  993|www.independent.c...| 0.5952880522750434|\n",
      "|  894|      abcnews.go.com| 0.5359390923805527|\n",
      "|  814|         twitter.com|0.48798033691025716|\n",
      "|  722|     www.foxnews.com| 0.4328277681194173|\n",
      "|  712|     www.haaretz.com|0.42683292368563036|\n",
      "|  684|       www.jpost.com| 0.4100473592710269|\n",
      "+-----+--------------------+-------------------+\n",
      "only showing top 20 rows\n",
      "\n"
     ]
    }
   ],
   "source": [
    "def percentage(rdd):\n",
    "    return Row(domain=rdd[0], count=rdd[1], perc=rdd[1]*100/number_links)\n",
    "\n",
    "domains_distribution = sqlContext.createDataFrame(domains_count.map(percentage)).sort(\"count\", ascending=False)\n",
    "domains_distribution.show()"
   ]
  },
  {
   "cell_type": "code",
   "execution_count": 135,
   "metadata": {},
   "outputs": [],
   "source": [
    "domains_distribution_pd = domains_distribution.toPandas().set_index('domain')"
   ]
  },
  {
   "cell_type": "code",
   "execution_count": 136,
   "metadata": {},
   "outputs": [
    {
     "data": {
      "image/png": "[encoded data removed]",
      "text/plain": [
       "<Figure size 720x720 with 1 Axes>"
      ]
     },
     "metadata": {
      "needs_background": "light"
     },
     "output_type": "display_data"
    }
   ],
   "source": [
    "domains_distribution_pd20 = domains_distribution_pd.head(15)\n",
    "import seaborn as sns\n",
    "# plot using bar plot\n",
    "f, ax1 = plt.subplots()\n",
    "plt.sca(ax1)\n",
    "sns.barplot(domains_distribution_pd20['perc'], domains_distribution_pd20.index, palette=\"RdBu\", ax=ax1, orient='h')\n",
    "plt.xlabel('Percentage of references [%]',fontsize=18)\n",
    "plt.ylabel('Domains',fontsize=18)\n",
    "f.suptitle('Bar plot of percentage of references for domains', fontsize=20)\n",
    "f.set_size_inches(10, 10)\n",
    "plt.show()"
   ]
  },
  {
   "cell_type": "code",
   "execution_count": null,
   "metadata": {},
   "outputs": [],
   "source": []
  },
  {
   "cell_type": "markdown",
   "metadata": {},
   "source": [
    "# ===== TO DELETE ========"
   ]
  },
  {
   "cell_type": "code",
   "execution_count": null,
   "metadata": {},
   "outputs": [],
   "source": [
    "infobox_civil_attack = 'civilian attack'\n",
    "# find all pages that have category civilian attack\n",
    "wiki_civil_attack = wikipedia.where(\"categories like '%{}%'\".format(infobox_civil_attack)) \n",
    "# show file schema\n",
    "wiki_civil_attack.printSchema()"
   ]
  },
  {
   "cell_type": "code",
   "execution_count": null,
   "metadata": {},
   "outputs": [],
   "source": [
    "wiki_civil_attack.filter(\"title like '%Fraunces Tavern%'\").select(\"categories\").collect()"
   ]
  },
  {
   "cell_type": "code",
   "execution_count": null,
   "metadata": {},
   "outputs": [],
   "source": [
    "wiki_civil_attack_df = sqlContext.createDataFrame(wiki_civil_attack.rdd.map(get_infobox_civilian_attack))"
   ]
  },
  {
   "cell_type": "code",
   "execution_count": null,
   "metadata": {},
   "outputs": [],
   "source": [
    "wiki_civil_attack_df.take(3)"
   ]
  },
  {
   "cell_type": "code",
   "execution_count": null,
   "metadata": {},
   "outputs": [],
   "source": [
    "# GET INFO FROM INFOBOX + VIEWS for different categories\n",
    "def get_infobox_civilian_attack(entity):\n",
    "    # get page\n",
    "    page = wptools.page(entity.title)\n",
    "    page.get_parse()\n",
    "    page.get_more()\n",
    "    # extract relevant information and put in dictionary\n",
    "    info = {'views': None, 'location': None, \n",
    "            'date': None, 'fatalities': None, 'injuries': None }\n",
    "    try:\n",
    "        info['views'] = page.data['views']\n",
    "    except KeyError:\n",
    "        info['views'] = None\n",
    "    \n",
    "    for ele in list(info.keys())[1:]:\n",
    "        try:\n",
    "            info[ele] = page.data['infobox'][ele]\n",
    "        except KeyError:\n",
    "            pass\n",
    "    \n",
    "    return Row(id=entity.id, title=entity.title, location=info['location'], views=info['views'], date=info['date'], \n",
    "                fatalities=info['fatalities'], injuries=info['injuries'])\n",
    "\n",
    "def get_infobox_civil_conflict(entity):\n",
    "    # get page\n",
    "    page = wptools.page(entity.title)\n",
    "    page.get_parse()\n",
    "    page.get_more()\n",
    "    # extract relevant information and put in dictionary\n",
    "    info = {'views': None, 'place': None, 'injuries': None,\n",
    "            'date': None, 'fatalities': None, 'casualties1': None, 'casualties2': None,\n",
    "            'leadfigures1': None, 'leadfigures2': None} \n",
    "    try:\n",
    "        info['views'] = page.data['views']\n",
    "    except KeyError:\n",
    "        info['views'] = None\n",
    "    \n",
    "    for ele in list(info.keys())[1:]:\n",
    "        try:\n",
    "            info[ele] = page.data['infobox'][ele]\n",
    "        except KeyError:\n",
    "            pass\n",
    "    \n",
    "    return Row(id=entity.id, title=entity.title, location=info['place'], views=info['views'], date=info['date'], \n",
    "               fatalities=info['fatalities'], casualties1=info['casualties1'], casualties2=info['casualties2'],\n",
    "               injuries=info['injuries'], leadfigures1=info['leadfigures1'], leadfigures2=info['leadfigures2'])\n",
    "\n",
    "def get_infobox_military_conflict(entity):\n",
    "    # get page\n",
    "    page = wptools.page(entity.title)\n",
    "    page.get_parse()\n",
    "    page.get_more()\n",
    "    # extract relevant information and put in dictionary\n",
    "    info = {'views': None, 'place': None, \n",
    "            'date': None, 'casualties1': None, 'casualties2': None}#, 'status': None}\n",
    "            #'combatant1': None, 'combatant2': None, 'status': None} \n",
    "    try:\n",
    "        info['views'] = page.data['views']\n",
    "    except KeyError:\n",
    "        info['views'] = None\n",
    "    \n",
    "    for ele in list(info.keys())[1:]:\n",
    "        try:\n",
    "            info[ele] = page.data['infobox'][ele]\n",
    "        except KeyError:\n",
    "            pass\n",
    "    \n",
    "    return Row(id=entity.id, title=entity.title, location=info['place'], views=info['views'], date=info['date'], \n",
    "               casualties1=info['casualties1'], casualties2=info['casualties2']) #, status=info['status'])\n",
    "               #combatant1=info['combatant1'], combatant2=info['combatant2'])"
   ]
  },
  {
   "cell_type": "code",
   "execution_count": null,
   "metadata": {},
   "outputs": [],
   "source": [
    "DATA_DIR_FILTERED = '../clean_data/'"
   ]
  },
  {
   "cell_type": "code",
   "execution_count": null,
   "metadata": {},
   "outputs": [],
   "source": [
    "# saving binary file to future uses\n",
    "wiki_civil_attack_df.write.parquet(DATA_DIR_FILTERED+\"{}.parquet\".format(infobox_civil_attack));\n",
    "# loading the saved parquet files\n",
    "wiki_civil_attack_df_reload = spark.read.parquet(DATA_DIR_FILTERED+\"{}.parquet\".format(infobox_civil_attack));"
   ]
  },
  {
   "cell_type": "code",
   "execution_count": null,
   "metadata": {},
   "outputs": [],
   "source": []
  },
  {
   "cell_type": "code",
   "execution_count": null,
   "metadata": {},
   "outputs": [],
   "source": [
    "wiki_civil_attack_df = sqlContext.createDataFrame(wiki_civil_attack_RDD)"
   ]
  },
  {
   "cell_type": "markdown",
   "metadata": {},
   "source": [
    "### Infobox `civil conflict`"
   ]
  },
  {
   "cell_type": "code",
   "execution_count": null,
   "metadata": {},
   "outputs": [],
   "source": [
    "infobox_civil_conflict = 'civil conflict'\n",
    "# find all pages that have category civil conflict\n",
    "wiki_civil_conflict = wikipedia.where(\"categories like '%{}%'\".format(infobox_civil_conflict)) \n",
    "# show file schema\n",
    "wiki_civil_conflict.printSchema()"
   ]
  },
  {
   "cell_type": "code",
   "execution_count": null,
   "metadata": {},
   "outputs": [],
   "source": [
    "wiki_civil_conflict_df = sqlContext.createDataFrame(wiki_civil_conflict.rdd.map(get_infobox_civil_conflict))"
   ]
  },
  {
   "cell_type": "code",
   "execution_count": null,
   "metadata": {},
   "outputs": [],
   "source": [
    "wiki_civil_conflict_df.take(3)"
   ]
  },
  {
   "cell_type": "code",
   "execution_count": null,
   "metadata": {},
   "outputs": [],
   "source": [
    "# saving binary file to future uses\n",
    "wiki_civil_conflict_df.write.parquet(DATA_DIR_FILTERED+\"{}.parquet\".format(infobox_civil_conflict));\n",
    "# loading the saved parquet files\n",
    "wiki_civil_conflict_df_reload = spark.read.parquet(DATA_DIR_FILTERED+\"{}.parquet\".format(infobox_civil_conflict));"
   ]
  },
  {
   "cell_type": "markdown",
   "metadata": {},
   "source": [
    "### Infobox `military conflict `"
   ]
  },
  {
   "cell_type": "code",
   "execution_count": null,
   "metadata": {},
   "outputs": [],
   "source": [
    "infobox_military_conflict = 'military conflict'\n",
    "# find all pages that have category military conflict\n",
    "wiki_military_conflict = wikipedia.where(\"categories like '%{}%'\".format(infobox_military_conflict)) \n",
    "# show file schema\n",
    "wiki_military_conflict.printSchema()"
   ]
  },
  {
   "cell_type": "code",
   "execution_count": null,
   "metadata": {},
   "outputs": [],
   "source": [
    "wiki_military_conflict_df = sqlContext.createDataFrame(wiki_military_conflict.rdd.map(get_infobox_military_conflict))"
   ]
  },
  {
   "cell_type": "code",
   "execution_count": null,
   "metadata": {},
   "outputs": [],
   "source": [
    "wiki_military_conflict_df.take(3)"
   ]
  },
  {
   "cell_type": "code",
   "execution_count": null,
   "metadata": {},
   "outputs": [],
   "source": [
    "# saving binary file to future uses\n",
    "wiki_military_conflict_df.write.parquet(DATA_DIR_FILTERED+\"{}.parquet\".format(infobox_military_conflict));\n",
    "# loading the saved parquet files\n",
    "wiki_military_conflict_df_reload = spark.read.parquet(\n",
    "    DATA_DIR_FILTERED+\"{}.parquet\".format(infobox_military_conflict));"
   ]
  },
  {
   "cell_type": "markdown",
   "metadata": {},
   "source": [
    "### Functions"
   ]
  },
  {
   "cell_type": "code",
   "execution_count": 79,
   "metadata": {},
   "outputs": [],
   "source": [
    "def get_wiki_military_conflict(entity):\n",
    "    page = wptools.page(entity.title)\n",
    "    # extract relevant information and put in dictionary\n",
    "    info = {'death': None, 'end_date': None, 'location': None}\n",
    "    \n",
    "    try: \n",
    "        page.get_wikidata()\n",
    "        info['death'] = page.data['wikidata']['number of deaths (P1120)']['amount']\n",
    "    \n",
    "    except KeyError:\n",
    "        try:\n",
    "            page.get_parse()\n",
    "            info['death'] = poly_page.data['infobox']['casualties1']\n",
    "        except KeyError:\n",
    "            info['death'] = None\n",
    "            \n",
    "    try:\n",
    "        page.get_wikidata()\n",
    "        info['end_date'] = page.data['wikidata']['end time (P582)']\n",
    "    except KeyError:\n",
    "        try:\n",
    "            page.get_parse()\n",
    "            info['end_date'] = poly_page.data['infobox']['date']\n",
    "        except KeyError:\n",
    "            info['end_date'] = None\n",
    "    \n",
    "    try:\n",
    "        page.get_wikidata()\n",
    "        info['location'] = page.data['wikidata']['location (P276)']\n",
    "    except KeyError:\n",
    "        try:\n",
    "            page.get_parse()\n",
    "            info['location'] = poly_page.data['infobox']['place']\n",
    "        except KeyError:\n",
    "            info['location'] = None\n",
    "    \n",
    "    \n",
    "    return Row(id=entity.id, title=entity.title, death=info['death'],\n",
    "               end_date=info['end_date'], location=info['location']) #, location=info['location'])    \n"
   ]
  },
  {
   "cell_type": "markdown",
   "metadata": {},
   "source": [
    "### UNICORN ON THE GOOO"
   ]
  },
  {
   "cell_type": "code",
   "execution_count": 117,
   "metadata": {},
   "outputs": [
    {
     "name": "stderr",
     "output_type": "stream",
     "text": [
      "en.wikipedia.org (parse) S11 (protest)\n",
      "S11 (protest) (en) data\n",
      "{\n",
      "  infobox: <dict(5)> title, partof, date, place, methods\n",
      "  pageid: 661864\n",
      "  parsetree: <str(11557)> <root><template><title>Use dmy dates</ti...\n",
      "  requests: <list(1)> parse\n",
      "  title: S11 (protest)\n",
      "  wikibase: Q7388176\n",
      "  wikidata_url: https://www.wikidata.org/wiki/Q7388176\n",
      "  wikitext: <str(9319)> {{Use dmy dates|date=October 2011}}{{Use A...\n",
      "}\n",
      "www.wikidata.org (wikidata) Q7388176\n",
      "www.wikidata.org (labels) Q408|P17\n",
      "Note: Wikidata item Q7388176 missing 'instance of' (P31)\n",
      "S11 (protest) (en) data\n",
      "{\n",
      "  claims: <dict(1)> P17\n",
      "  description: protest against globalization\n",
      "  infobox: <dict(5)> title, partof, date, place, methods\n",
      "  label: S11\n",
      "  labels: <dict(2)> Q408, P17\n",
      "  modified: <dict(1)> wikidata\n",
      "  pageid: 661864\n",
      "  parsetree: <str(11557)> <root><template><title>Use dmy dates</ti...\n",
      "  requests: <list(3)> parse, wikidata, labels\n",
      "  title: S11_(protest)\n",
      "  wikibase: Q7388176\n",
      "  wikidata: <dict(1)> country (P17)\n",
      "  wikidata_pageid: 7297388\n",
      "  wikidata_url: https://www.wikidata.org/wiki/Q7388176\n",
      "  wikitext: <str(9319)> {{Use dmy dates|date=October 2011}}{{Use A...\n",
      "}\n"
     ]
    },
    {
     "data": {
      "text/plain": [
       "<wptools.page.WPToolsPage at 0x11d3e6fd0>"
      ]
     },
     "execution_count": 117,
     "metadata": {},
     "output_type": "execute_result"
    }
   ],
   "source": [
    "## trying access to infobox\n",
    "poly_page = wptools.page('S11 (protest)')\n",
    "poly_page.get_parse()\n",
    "poly_page.get_wikidata()"
   ]
  },
  {
   "cell_type": "code",
   "execution_count": 118,
   "metadata": {},
   "outputs": [
    {
     "data": {
      "text/plain": [
       "{'title': 'S11',\n",
       " 'partof': '[[anti-globalisation movement]]',\n",
       " 'date': '11, 12 and 13 September 2000',\n",
       " 'place': '[[Melbourne]], [[Australia]]',\n",
       " 'methods': 'Protests'}"
      ]
     },
     "execution_count": 118,
     "metadata": {},
     "output_type": "execute_result"
    }
   ],
   "source": [
    "poly_page.data['infobox']"
   ]
  },
  {
   "cell_type": "code",
   "execution_count": 119,
   "metadata": {},
   "outputs": [
    {
     "data": {
      "text/plain": [
       "{'country (P17)': 'Australia (Q408)'}"
      ]
     },
     "execution_count": 119,
     "metadata": {},
     "output_type": "execute_result"
    }
   ],
   "source": [
    "poly_page.data['wikidata']"
   ]
  },
  {
   "cell_type": "code",
   "execution_count": 116,
   "metadata": {},
   "outputs": [
    {
     "ename": "ValueError",
     "evalue": "Some of types cannot be determined by the first 100 rows, please try again with sampling",
     "output_type": "error",
     "traceback": [
      "\u001b[0;31m---------------------------------------------------------------------------\u001b[0m",
      "\u001b[0;31mValueError\u001b[0m                                Traceback (most recent call last)",
      "\u001b[0;32m<ipython-input-116-e01dd9746938>\u001b[0m in \u001b[0;36m<module>\u001b[0;34m()\u001b[0m\n\u001b[1;32m      1\u001b[0m \u001b[0mww2\u001b[0m \u001b[0;34m=\u001b[0m \u001b[0mwikipedia\u001b[0m\u001b[0;34m.\u001b[0m\u001b[0mfilter\u001b[0m\u001b[0;34m(\u001b[0m\u001b[0;34m\"title like '%S11 (protest)%'\"\u001b[0m\u001b[0;34m)\u001b[0m \u001b[0;31m#World War II for military, civilian attack 1993 World Trade Center bombing\u001b[0m\u001b[0;34m\u001b[0m\u001b[0m\n\u001b[0;32m----> 2\u001b[0;31m \u001b[0mww2_df\u001b[0m \u001b[0;34m=\u001b[0m \u001b[0msqlContext\u001b[0m\u001b[0;34m.\u001b[0m\u001b[0mcreateDataFrame\u001b[0m\u001b[0;34m(\u001b[0m\u001b[0mww2\u001b[0m\u001b[0;34m.\u001b[0m\u001b[0mrdd\u001b[0m\u001b[0;34m.\u001b[0m\u001b[0mmap\u001b[0m\u001b[0;34m(\u001b[0m\u001b[0mget_wiki_military_conflict\u001b[0m\u001b[0;34m)\u001b[0m\u001b[0;34m)\u001b[0m\u001b[0;34m\u001b[0m\u001b[0m\n\u001b[0m",
      "\u001b[0;32m~/spark/python/pyspark/sql/context.py\u001b[0m in \u001b[0;36mcreateDataFrame\u001b[0;34m(self, data, schema, samplingRatio, verifySchema)\u001b[0m\n\u001b[1;32m    300\u001b[0m         \u001b[0mPy4JJavaError\u001b[0m\u001b[0;34m:\u001b[0m \u001b[0;34m...\u001b[0m\u001b[0;34m\u001b[0m\u001b[0m\n\u001b[1;32m    301\u001b[0m         \"\"\"\n\u001b[0;32m--> 302\u001b[0;31m         \u001b[0;32mreturn\u001b[0m \u001b[0mself\u001b[0m\u001b[0;34m.\u001b[0m\u001b[0msparkSession\u001b[0m\u001b[0;34m.\u001b[0m\u001b[0mcreateDataFrame\u001b[0m\u001b[0;34m(\u001b[0m\u001b[0mdata\u001b[0m\u001b[0;34m,\u001b[0m \u001b[0mschema\u001b[0m\u001b[0;34m,\u001b[0m \u001b[0msamplingRatio\u001b[0m\u001b[0;34m,\u001b[0m \u001b[0mverifySchema\u001b[0m\u001b[0;34m)\u001b[0m\u001b[0;34m\u001b[0m\u001b[0m\n\u001b[0m\u001b[1;32m    303\u001b[0m \u001b[0;34m\u001b[0m\u001b[0m\n\u001b[1;32m    304\u001b[0m     \u001b[0;34m@\u001b[0m\u001b[0msince\u001b[0m\u001b[0;34m(\u001b[0m\u001b[0;36m1.3\u001b[0m\u001b[0;34m)\u001b[0m\u001b[0;34m\u001b[0m\u001b[0m\n",
      "\u001b[0;32m~/spark/python/pyspark/sql/session.py\u001b[0m in \u001b[0;36mcreateDataFrame\u001b[0;34m(self, data, schema, samplingRatio, verifySchema)\u001b[0m\n\u001b[1;32m    687\u001b[0m \u001b[0;34m\u001b[0m\u001b[0m\n\u001b[1;32m    688\u001b[0m         \u001b[0;32mif\u001b[0m \u001b[0misinstance\u001b[0m\u001b[0;34m(\u001b[0m\u001b[0mdata\u001b[0m\u001b[0;34m,\u001b[0m \u001b[0mRDD\u001b[0m\u001b[0;34m)\u001b[0m\u001b[0;34m:\u001b[0m\u001b[0;34m\u001b[0m\u001b[0m\n\u001b[0;32m--> 689\u001b[0;31m             \u001b[0mrdd\u001b[0m\u001b[0;34m,\u001b[0m \u001b[0mschema\u001b[0m \u001b[0;34m=\u001b[0m \u001b[0mself\u001b[0m\u001b[0;34m.\u001b[0m\u001b[0m_createFromRDD\u001b[0m\u001b[0;34m(\u001b[0m\u001b[0mdata\u001b[0m\u001b[0;34m.\u001b[0m\u001b[0mmap\u001b[0m\u001b[0;34m(\u001b[0m\u001b[0mprepare\u001b[0m\u001b[0;34m)\u001b[0m\u001b[0;34m,\u001b[0m \u001b[0mschema\u001b[0m\u001b[0;34m,\u001b[0m \u001b[0msamplingRatio\u001b[0m\u001b[0;34m)\u001b[0m\u001b[0;34m\u001b[0m\u001b[0m\n\u001b[0m\u001b[1;32m    690\u001b[0m         \u001b[0;32melse\u001b[0m\u001b[0;34m:\u001b[0m\u001b[0;34m\u001b[0m\u001b[0m\n\u001b[1;32m    691\u001b[0m             \u001b[0mrdd\u001b[0m\u001b[0;34m,\u001b[0m \u001b[0mschema\u001b[0m \u001b[0;34m=\u001b[0m \u001b[0mself\u001b[0m\u001b[0;34m.\u001b[0m\u001b[0m_createFromLocal\u001b[0m\u001b[0;34m(\u001b[0m\u001b[0mmap\u001b[0m\u001b[0;34m(\u001b[0m\u001b[0mprepare\u001b[0m\u001b[0;34m,\u001b[0m \u001b[0mdata\u001b[0m\u001b[0;34m)\u001b[0m\u001b[0;34m,\u001b[0m \u001b[0mschema\u001b[0m\u001b[0;34m)\u001b[0m\u001b[0;34m\u001b[0m\u001b[0m\n",
      "\u001b[0;32m~/spark/python/pyspark/sql/session.py\u001b[0m in \u001b[0;36m_createFromRDD\u001b[0;34m(self, rdd, schema, samplingRatio)\u001b[0m\n\u001b[1;32m    382\u001b[0m         \"\"\"\n\u001b[1;32m    383\u001b[0m         \u001b[0;32mif\u001b[0m \u001b[0mschema\u001b[0m \u001b[0;32mis\u001b[0m \u001b[0;32mNone\u001b[0m \u001b[0;32mor\u001b[0m \u001b[0misinstance\u001b[0m\u001b[0;34m(\u001b[0m\u001b[0mschema\u001b[0m\u001b[0;34m,\u001b[0m \u001b[0;34m(\u001b[0m\u001b[0mlist\u001b[0m\u001b[0;34m,\u001b[0m \u001b[0mtuple\u001b[0m\u001b[0;34m)\u001b[0m\u001b[0;34m)\u001b[0m\u001b[0;34m:\u001b[0m\u001b[0;34m\u001b[0m\u001b[0m\n\u001b[0;32m--> 384\u001b[0;31m             \u001b[0mstruct\u001b[0m \u001b[0;34m=\u001b[0m \u001b[0mself\u001b[0m\u001b[0;34m.\u001b[0m\u001b[0m_inferSchema\u001b[0m\u001b[0;34m(\u001b[0m\u001b[0mrdd\u001b[0m\u001b[0;34m,\u001b[0m \u001b[0msamplingRatio\u001b[0m\u001b[0;34m,\u001b[0m \u001b[0mnames\u001b[0m\u001b[0;34m=\u001b[0m\u001b[0mschema\u001b[0m\u001b[0;34m)\u001b[0m\u001b[0;34m\u001b[0m\u001b[0m\n\u001b[0m\u001b[1;32m    385\u001b[0m             \u001b[0mconverter\u001b[0m \u001b[0;34m=\u001b[0m \u001b[0m_create_converter\u001b[0m\u001b[0;34m(\u001b[0m\u001b[0mstruct\u001b[0m\u001b[0;34m)\u001b[0m\u001b[0;34m\u001b[0m\u001b[0m\n\u001b[1;32m    386\u001b[0m             \u001b[0mrdd\u001b[0m \u001b[0;34m=\u001b[0m \u001b[0mrdd\u001b[0m\u001b[0;34m.\u001b[0m\u001b[0mmap\u001b[0m\u001b[0;34m(\u001b[0m\u001b[0mconverter\u001b[0m\u001b[0;34m)\u001b[0m\u001b[0;34m\u001b[0m\u001b[0m\n",
      "\u001b[0;32m~/spark/python/pyspark/sql/session.py\u001b[0m in \u001b[0;36m_inferSchema\u001b[0;34m(self, rdd, samplingRatio, names)\u001b[0m\n\u001b[1;32m    369\u001b[0m                         \u001b[0;32mbreak\u001b[0m\u001b[0;34m\u001b[0m\u001b[0m\n\u001b[1;32m    370\u001b[0m                 \u001b[0;32melse\u001b[0m\u001b[0;34m:\u001b[0m\u001b[0;34m\u001b[0m\u001b[0m\n\u001b[0;32m--> 371\u001b[0;31m                     raise ValueError(\"Some of types cannot be determined by the \"\n\u001b[0m\u001b[1;32m    372\u001b[0m                                      \"first 100 rows, please try again with sampling\")\n\u001b[1;32m    373\u001b[0m         \u001b[0;32melse\u001b[0m\u001b[0;34m:\u001b[0m\u001b[0;34m\u001b[0m\u001b[0m\n",
      "\u001b[0;31mValueError\u001b[0m: Some of types cannot be determined by the first 100 rows, please try again with sampling"
     ]
    }
   ],
   "source": [
    "ww2 = wikipedia.filter(\"title like '%World War II%'\") #World War II for military, civilian attack 1993 World Trade Center bombing\n",
    "ww2_df = sqlContext.createDataFrame(ww2.rdd.map(get_wiki_military_conflict))"
   ]
  },
  {
   "cell_type": "code",
   "execution_count": 81,
   "metadata": {},
   "outputs": [
    {
     "name": "stdout",
     "output_type": "stream",
     "text": [
      "+--------------------+--------------------+------+---------------+--------------------+\n",
      "|               death|            end_date|    id|       location|               title|\n",
      "+--------------------+--------------------+------+---------------+--------------------+\n",
      "|{{plainlist|\n",
      "* ''...|+1945-02-15T00:00...| 64692|Dresden (Q1731)|Bombing of Dresde...|\n",
      "|{{plainlist|\n",
      "* ''...|+1941-06-01T00:00...|627326| Albania (Q222)|Balkans Campaign ...|\n",
      "+--------------------+--------------------+------+---------------+--------------------+\n",
      "only showing top 2 rows\n",
      "\n"
     ]
    }
   ],
   "source": [
    "ww2_df.show(2)"
   ]
  },
  {
   "cell_type": "code",
   "execution_count": 82,
   "metadata": {
    "scrolled": true
   },
   "outputs": [
    {
     "data": {
      "text/plain": [
       "[Row(location='Dresden (Q1731)'),\n",
       " Row(location='Albania (Q222)'),\n",
       " Row(location='[Russia (Q159), Europe (Q46), Africa (Q15), Pacific Ocean (Q98), Mediterranean Sea (Q4918), Asia (Q48), Atlantic Ocean (Q97), Middle East (Q7204), Southeast Asia (Q11708), Scandinavia (Q21195)]'),\n",
       " Row(location='Mediterranean Sea (Q4918)'),\n",
       " Row(location='Lienz (Q336250)'),\n",
       " Row(location='Malta Colony (Q6744657)'),\n",
       " Row(location='East Africa (Q27407)'),\n",
       " Row(location='[Norwegian Sea (Q47545), Arctic Ocean (Q788)]'),\n",
       " Row(location='State of Burma (Q704358)'),\n",
       " Row(location='Europe (Q46)'),\n",
       " Row(location='Vienna (Q1741)'),\n",
       " Row(location='Königsberg (Q4120832)'),\n",
       " Row(location='Warsaw (Q270)'),\n",
       " Row(location='Berlin (Q64)'),\n",
       " Row(location='[[European theatre of World War II|Europe]], [[Pacific War|Pacific]], [[Battle of the Atlantic|Atlantic]], [[South-East Asian theatre of World War II|South-East Asia]], [[Second Sino-Japanese War|China]], [[Mediterranean and Middle East theatre of World War II|Middle East]], [[Mediterranean and Middle East theatre of World War II|Mediterranean]], [[North African Campaign|North Africa]], [[East African Campaign (World War II)|Horn of Africa]], [[Air raids on Australia, 1942–43|Australia]], briefly [[American Theater (World War II)|North]] and [[Battle of the River Plate|South America]]'),\n",
       " Row(location='[Southern Europe (Q27449), Middle East (Q7204), Horn of Africa (Q40556), North Africa (Q27381)]'),\n",
       " Row(location='Eastern Europe (Q27468)'),\n",
       " Row(location='Northern Europe (Q27479)'),\n",
       " Row(location='European Theatre of World War II (Q44700)'),\n",
       " Row(location='Italy (Q38)'),\n",
       " Row(location='Zadar (Q3370)'),\n",
       " Row(location='Bavaria (Q980)'),\n",
       " Row(location='Nizhny Novgorod (Q891)'),\n",
       " Row(location='[[European theatre of World War II|Europe]], [[Pacific War|Pacific]], [[Battle of the Atlantic|Atlantic]], [[South-East Asian theatre of World War II|South-East Asia]], [[Second Sino-Japanese War|China]], [[Mediterranean and Middle East theatre of World War II|Middle East]], [[Mediterranean and Middle East theatre of World War II|Mediterranean]], [[North African Campaign|North Africa]], [[East African Campaign (World War II)|Horn of Africa]], [[Air raids on Australia, 1942–43|Australia]], briefly [[American Theater (World War II)|North]] and [[Battle of the River Plate|South America]]'),\n",
       " Row(location='Duisburg (Q2100)'),\n",
       " Row(location='Yugoslavia (Q36704)'),\n",
       " Row(location='Treviso (Q5475)'),\n",
       " Row(location='[[European theatre of World War II|Europe]], [[Pacific War|Pacific]], [[Battle of the Atlantic|Atlantic]], [[South-East Asian theatre of World War II|South-East Asia]], [[Second Sino-Japanese War|China]], [[Mediterranean and Middle East theatre of World War II|Middle East]], [[Mediterranean and Middle East theatre of World War II|Mediterranean]], [[North African Campaign|North Africa]], [[East African Campaign (World War II)|Horn of Africa]], [[Air raids on Australia, 1942–43|Australia]], briefly [[American Theater (World War II)|North]] and [[Battle of the River Plate|South America]]'),\n",
       " Row(location='Rome (Q220)'),\n",
       " Row(location='European Theatre of World War II (Q44700)'),\n",
       " Row(location='Bucharest (Q19660)'),\n",
       " Row(location='Black Sea (Q166)'),\n",
       " Row(location='Kassel (Q2865)'),\n",
       " Row(location='Austria (Q40)'),\n",
       " Row(location='Adriatic Sea (Q13924)'),\n",
       " Row(location='Bodensee (Q8228)'),\n",
       " Row(location='Nordhausen (Q7033)'),\n",
       " Row(location='Taganrog (Q170513)'),\n",
       " Row(location='Albanian Kingdom (Q1448131)'),\n",
       " Row(location='[North America (Q49), Atlantic Ocean (Q97), Pacific Ocean (Q98)]'),\n",
       " Row(location='Greenland (Q223)'),\n",
       " Row(location='Bangkok (Q1861)'),\n",
       " Row(location='Toyokawa (Q389495)'),\n",
       " Row(location='Vosges Mountains (Q187843)'),\n",
       " Row(location='Mandatory Palestine (Q193714)'),\n",
       " Row(location='Helsinki (Q1757)'),\n",
       " Row(location='[[European theatre of World War II|Europe]], [[Pacific War|Pacific]], [[Battle of the Atlantic|Atlantic]], [[South-East Asian theatre of World War II|South-East Asia]], [[Second Sino-Japanese War|China]], [[Mediterranean and Middle East theatre of World War II|Middle East]], [[Mediterranean and Middle East theatre of World War II|Mediterranean]], [[North African Campaign|North Africa]], [[East African Campaign (World War II)|Horn of Africa]], [[Air raids on Australia, 1942–43|Australia]], briefly [[American Theater (World War II)|North]] and [[Battle of the River Plate|South America]]'),\n",
       " Row(location='Ludwigshafen (Q2910)'),\n",
       " Row(location='[[European theatre of World War II|Europe]], [[Pacific War|Pacific]], [[Battle of the Atlantic|Atlantic]], [[South-East Asian theatre of World War II|South-East Asia]], [[Second Sino-Japanese War|China]], [[Mediterranean and Middle East theatre of World War II|Middle East]], [[Mediterranean and Middle East theatre of World War II|Mediterranean]], [[North African Campaign|North Africa]], [[East African Campaign (World War II)|Horn of Africa]], [[Air raids on Australia, 1942–43|Australia]], briefly [[American Theater (World War II)|North]] and [[Battle of the River Plate|South America]]'),\n",
       " Row(location='[[European theatre of World War II|Europe]], [[Pacific War|Pacific]], [[Battle of the Atlantic|Atlantic]], [[South-East Asian theatre of World War II|South-East Asia]], [[Second Sino-Japanese War|China]], [[Mediterranean and Middle East theatre of World War II|Middle East]], [[Mediterranean and Middle East theatre of World War II|Mediterranean]], [[North African Campaign|North Africa]], [[East African Campaign (World War II)|Horn of Africa]], [[Air raids on Australia, 1942–43|Australia]], briefly [[American Theater (World War II)|North]] and [[Battle of the River Plate|South America]]'),\n",
       " Row(location='[[European theatre of World War II|Europe]], [[Pacific War|Pacific]], [[Battle of the Atlantic|Atlantic]], [[South-East Asian theatre of World War II|South-East Asia]], [[Second Sino-Japanese War|China]], [[Mediterranean and Middle East theatre of World War II|Middle East]], [[Mediterranean and Middle East theatre of World War II|Mediterranean]], [[North African Campaign|North Africa]], [[East African Campaign (World War II)|Horn of Africa]], [[Air raids on Australia, 1942–43|Australia]], briefly [[American Theater (World War II)|North]] and [[Battle of the River Plate|South America]]'),\n",
       " Row(location='Bahrain (Q398)')]"
      ]
     },
     "execution_count": 82,
     "metadata": {},
     "output_type": "execute_result"
    }
   ],
   "source": [
    "ww2_df.select('location').collect()"
   ]
  },
  {
   "cell_type": "code",
   "execution_count": 83,
   "metadata": {},
   "outputs": [
    {
     "data": {
      "text/plain": [
       "[Row(end_date='+1945-02-15T00:00:00Z'),\n",
       " Row(end_date='+1941-06-01T00:00:00Z'),\n",
       " Row(end_date='+1945-09-02T00:00:00Z'),\n",
       " Row(end_date='{{ubl|start and end dates|1939|9|1|1945|9|2|df|=|yes|\\n                  |(|Age in years and days|1 September 1939|2 September 1945|sep|=|and|)|efn| While [[World War II#Chronology|various other dates]] have been proposed as the date on which World War II began or ended, this is the time span most frequently cited.}} {{start and end dates|1939|9|1|1945|9|2|df|=|yes}} {{Age in years and days|1 September 1939|2 September 1945|sep|=|and}} ) {{efn| While [[World War II#Chronology|various other dates]] have been proposed as the date on which World War II began or ended, this is the time span most frequently cited.}}'),\n",
       " Row(end_date='{{ubl|start and end dates|1939|9|1|1945|9|2|df|=|yes|\\n                  |(|Age in years and days|1 September 1939|2 September 1945|sep|=|and|)|efn| While [[World War II#Chronology|various other dates]] have been proposed as the date on which World War II began or ended, this is the time span most frequently cited.}} {{start and end dates|1939|9|1|1945|9|2|df|=|yes}} {{Age in years and days|1 September 1939|2 September 1945|sep|=|and}} ) {{efn| While [[World War II#Chronology|various other dates]] have been proposed as the date on which World War II began or ended, this is the time span most frequently cited.}}'),\n",
       " Row(end_date='+1942-11-20T00:00:00Z'),\n",
       " Row(end_date='+1941-11-27T00:00:00Z'),\n",
       " Row(end_date='+1945-05-01T00:00:00Z'),\n",
       " Row(end_date='+1945-09-09T00:00:00Z'),\n",
       " Row(end_date='+1945-05-08T00:00:00Z'),\n",
       " Row(end_date='+1945-04-16T00:00:00Z'),\n",
       " Row(end_date='+1945-00-00T00:00:00Z'),\n",
       " Row(end_date='+1939-09-27T00:00:00Z'),\n",
       " Row(end_date='{{ubl|start and end dates|1939|9|1|1945|9|2|df|=|yes|\\n                  |(|Age in years and days|1 September 1939|2 September 1945|sep|=|and|)|efn| While [[World War II#Chronology|various other dates]] have been proposed as the date on which World War II began or ended, this is the time span most frequently cited.}} {{start and end dates|1939|9|1|1945|9|2|df|=|yes}} {{Age in years and days|1 September 1939|2 September 1945|sep|=|and}} ) {{efn| While [[World War II#Chronology|various other dates]] have been proposed as the date on which World War II began or ended, this is the time span most frequently cited.}}'),\n",
       " Row(end_date='{{ubl|start and end dates|1939|9|1|1945|9|2|df|=|yes|\\n                  |(|Age in years and days|1 September 1939|2 September 1945|sep|=|and|)|efn| While [[World War II#Chronology|various other dates]] have been proposed as the date on which World War II began or ended, this is the time span most frequently cited.}} {{start and end dates|1939|9|1|1945|9|2|df|=|yes}} {{Age in years and days|1 September 1939|2 September 1945|sep|=|and}} ) {{efn| While [[World War II#Chronology|various other dates]] have been proposed as the date on which World War II began or ended, this is the time span most frequently cited.}}'),\n",
       " Row(end_date='+1945-05-02T00:00:00Z'),\n",
       " Row(end_date='+1945-05-10T00:00:00Z'),\n",
       " Row(end_date='+1945-00-00T00:00:00Z'),\n",
       " Row(end_date='{{ubl|start and end dates|1939|9|1|1945|9|2|df|=|yes|\\n                  |(|Age in years and days|1 September 1939|2 September 1945|sep|=|and|)|efn| While [[World War II#Chronology|various other dates]] have been proposed as the date on which World War II began or ended, this is the time span most frequently cited.}} {{start and end dates|1939|9|1|1945|9|2|df|=|yes}} {{Age in years and days|1 September 1939|2 September 1945|sep|=|and}} ) {{efn| While [[World War II#Chronology|various other dates]] have been proposed as the date on which World War II began or ended, this is the time span most frequently cited.}}'),\n",
       " Row(end_date='+1945-05-02T00:00:00Z'),\n",
       " Row(end_date='{{ubl|start and end dates|1939|9|1|1945|9|2|df|=|yes|\\n                  |(|Age in years and days|1 September 1939|2 September 1945|sep|=|and|)|efn| While [[World War II#Chronology|various other dates]] have been proposed as the date on which World War II began or ended, this is the time span most frequently cited.}} {{start and end dates|1939|9|1|1945|9|2|df|=|yes}} {{Age in years and days|1 September 1939|2 September 1945|sep|=|and}} ) {{efn| While [[World War II#Chronology|various other dates]] have been proposed as the date on which World War II began or ended, this is the time span most frequently cited.}}'),\n",
       " Row(end_date='{{ubl|start and end dates|1939|9|1|1945|9|2|df|=|yes|\\n                  |(|Age in years and days|1 September 1939|2 September 1945|sep|=|and|)|efn| While [[World War II#Chronology|various other dates]] have been proposed as the date on which World War II began or ended, this is the time span most frequently cited.}} {{start and end dates|1939|9|1|1945|9|2|df|=|yes}} {{Age in years and days|1 September 1939|2 September 1945|sep|=|and}} ) {{efn| While [[World War II#Chronology|various other dates]] have been proposed as the date on which World War II began or ended, this is the time span most frequently cited.}}'),\n",
       " Row(end_date='{{ubl|start and end dates|1939|9|1|1945|9|2|df|=|yes|\\n                  |(|Age in years and days|1 September 1939|2 September 1945|sep|=|and|)|efn| While [[World War II#Chronology|various other dates]] have been proposed as the date on which World War II began or ended, this is the time span most frequently cited.}} {{start and end dates|1939|9|1|1945|9|2|df|=|yes}} {{Age in years and days|1 September 1939|2 September 1945|sep|=|and}} ) {{efn| While [[World War II#Chronology|various other dates]] have been proposed as the date on which World War II began or ended, this is the time span most frequently cited.}}'),\n",
       " Row(end_date='{{ubl|start and end dates|1939|9|1|1945|9|2|df|=|yes|\\n                  |(|Age in years and days|1 September 1939|2 September 1945|sep|=|and|)|efn| While [[World War II#Chronology|various other dates]] have been proposed as the date on which World War II began or ended, this is the time span most frequently cited.}} {{start and end dates|1939|9|1|1945|9|2|df|=|yes}} {{Age in years and days|1 September 1939|2 September 1945|sep|=|and}} ) {{efn| While [[World War II#Chronology|various other dates]] have been proposed as the date on which World War II began or ended, this is the time span most frequently cited.}}'),\n",
       " Row(end_date='{{ubl|start and end dates|1939|9|1|1945|9|2|df|=|yes|\\n                  |(|Age in years and days|1 September 1939|2 September 1945|sep|=|and|)|efn| While [[World War II#Chronology|various other dates]] have been proposed as the date on which World War II began or ended, this is the time span most frequently cited.}} {{start and end dates|1939|9|1|1945|9|2|df|=|yes}} {{Age in years and days|1 September 1939|2 September 1945|sep|=|and}} ) {{efn| While [[World War II#Chronology|various other dates]] have been proposed as the date on which World War II began or ended, this is the time span most frequently cited.}}'),\n",
       " Row(end_date='+1945-05-15T00:00:00Z'),\n",
       " Row(end_date='{{ubl|start and end dates|1939|9|1|1945|9|2|df|=|yes|\\n                  |(|Age in years and days|1 September 1939|2 September 1945|sep|=|and|)|efn| While [[World War II#Chronology|various other dates]] have been proposed as the date on which World War II began or ended, this is the time span most frequently cited.}} {{start and end dates|1939|9|1|1945|9|2|df|=|yes}} {{Age in years and days|1 September 1939|2 September 1945|sep|=|and}} ) {{efn| While [[World War II#Chronology|various other dates]] have been proposed as the date on which World War II began or ended, this is the time span most frequently cited.}}'),\n",
       " Row(end_date='+1944-11-23T00:00:00Z'),\n",
       " Row(end_date='{{ubl|start and end dates|1939|9|1|1945|9|2|df|=|yes|\\n                  |(|Age in years and days|1 September 1939|2 September 1945|sep|=|and|)|efn| While [[World War II#Chronology|various other dates]] have been proposed as the date on which World War II began or ended, this is the time span most frequently cited.}} {{start and end dates|1939|9|1|1945|9|2|df|=|yes}} {{Age in years and days|1 September 1939|2 September 1945|sep|=|and}} ) {{efn| While [[World War II#Chronology|various other dates]] have been proposed as the date on which World War II began or ended, this is the time span most frequently cited.}}'),\n",
       " Row(end_date='{{ubl|start and end dates|1939|9|1|1945|9|2|df|=|yes|\\n                  |(|Age in years and days|1 September 1939|2 September 1945|sep|=|and|)|efn| While [[World War II#Chronology|various other dates]] have been proposed as the date on which World War II began or ended, this is the time span most frequently cited.}} {{start and end dates|1939|9|1|1945|9|2|df|=|yes}} {{Age in years and days|1 September 1939|2 September 1945|sep|=|and}} ) {{efn| While [[World War II#Chronology|various other dates]] have been proposed as the date on which World War II began or ended, this is the time span most frequently cited.}}'),\n",
       " Row(end_date='{{ubl|start and end dates|1939|9|1|1945|9|2|df|=|yes|\\n                  |(|Age in years and days|1 September 1939|2 September 1945|sep|=|and|)|efn| While [[World War II#Chronology|various other dates]] have been proposed as the date on which World War II began or ended, this is the time span most frequently cited.}} {{start and end dates|1939|9|1|1945|9|2|df|=|yes}} {{Age in years and days|1 September 1939|2 September 1945|sep|=|and}} ) {{efn| While [[World War II#Chronology|various other dates]] have been proposed as the date on which World War II began or ended, this is the time span most frequently cited.}}'),\n",
       " Row(end_date='{{ubl|start and end dates|1939|9|1|1945|9|2|df|=|yes|\\n                  |(|Age in years and days|1 September 1939|2 September 1945|sep|=|and|)|efn| While [[World War II#Chronology|various other dates]] have been proposed as the date on which World War II began or ended, this is the time span most frequently cited.}} {{start and end dates|1939|9|1|1945|9|2|df|=|yes}} {{Age in years and days|1 September 1939|2 September 1945|sep|=|and}} ) {{efn| While [[World War II#Chronology|various other dates]] have been proposed as the date on which World War II began or ended, this is the time span most frequently cited.}}'),\n",
       " Row(end_date='{{ubl|start and end dates|1939|9|1|1945|9|2|df|=|yes|\\n                  |(|Age in years and days|1 September 1939|2 September 1945|sep|=|and|)|efn| While [[World War II#Chronology|various other dates]] have been proposed as the date on which World War II began or ended, this is the time span most frequently cited.}} {{start and end dates|1939|9|1|1945|9|2|df|=|yes}} {{Age in years and days|1 September 1939|2 September 1945|sep|=|and}} ) {{efn| While [[World War II#Chronology|various other dates]] have been proposed as the date on which World War II began or ended, this is the time span most frequently cited.}}'),\n",
       " Row(end_date='+1945-00-00T00:00:00Z'),\n",
       " Row(end_date='+1945-05-01T00:00:00Z'),\n",
       " Row(end_date='+1945-00-00T00:00:00Z'),\n",
       " Row(end_date='{{ubl|start and end dates|1939|9|1|1945|9|2|df|=|yes|\\n                  |(|Age in years and days|1 September 1939|2 September 1945|sep|=|and|)|efn| While [[World War II#Chronology|various other dates]] have been proposed as the date on which World War II began or ended, this is the time span most frequently cited.}} {{start and end dates|1939|9|1|1945|9|2|df|=|yes}} {{Age in years and days|1 September 1939|2 September 1945|sep|=|and}} ) {{efn| While [[World War II#Chronology|various other dates]] have been proposed as the date on which World War II began or ended, this is the time span most frequently cited.}}'),\n",
       " Row(end_date='+1945-00-00T00:00:00Z'),\n",
       " Row(end_date='+1944-00-00T00:00:00Z'),\n",
       " Row(end_date='{{ubl|start and end dates|1939|9|1|1945|9|2|df|=|yes|\\n                  |(|Age in years and days|1 September 1939|2 September 1945|sep|=|and|)|efn| While [[World War II#Chronology|various other dates]] have been proposed as the date on which World War II began or ended, this is the time span most frequently cited.}} {{start and end dates|1939|9|1|1945|9|2|df|=|yes}} {{Age in years and days|1 September 1939|2 September 1945|sep|=|and}} ) {{efn| While [[World War II#Chronology|various other dates]] have been proposed as the date on which World War II began or ended, this is the time span most frequently cited.}}'),\n",
       " Row(end_date='{{ubl|start and end dates|1939|9|1|1945|9|2|df|=|yes|\\n                  |(|Age in years and days|1 September 1939|2 September 1945|sep|=|and|)|efn| While [[World War II#Chronology|various other dates]] have been proposed as the date on which World War II began or ended, this is the time span most frequently cited.}} {{start and end dates|1939|9|1|1945|9|2|df|=|yes}} {{Age in years and days|1 September 1939|2 September 1945|sep|=|and}} ) {{efn| While [[World War II#Chronology|various other dates]] have been proposed as the date on which World War II began or ended, this is the time span most frequently cited.}}'),\n",
       " Row(end_date='+1945-00-00T00:00:00Z'),\n",
       " Row(end_date='{{ubl|start and end dates|1939|9|1|1945|9|2|df|=|yes|\\n                  |(|Age in years and days|1 September 1939|2 September 1945|sep|=|and|)|efn| While [[World War II#Chronology|various other dates]] have been proposed as the date on which World War II began or ended, this is the time span most frequently cited.}} {{start and end dates|1939|9|1|1945|9|2|df|=|yes}} {{Age in years and days|1 September 1939|2 September 1945|sep|=|and}} ) {{efn| While [[World War II#Chronology|various other dates]] have been proposed as the date on which World War II began or ended, this is the time span most frequently cited.}}'),\n",
       " Row(end_date='+1944-10-30T00:00:00Z'),\n",
       " Row(end_date='{{ubl|start and end dates|1939|9|1|1945|9|2|df|=|yes|\\n                  |(|Age in years and days|1 September 1939|2 September 1945|sep|=|and|)|efn| While [[World War II#Chronology|various other dates]] have been proposed as the date on which World War II began or ended, this is the time span most frequently cited.}} {{start and end dates|1939|9|1|1945|9|2|df|=|yes}} {{Age in years and days|1 September 1939|2 September 1945|sep|=|and}} ) {{efn| While [[World War II#Chronology|various other dates]] have been proposed as the date on which World War II began or ended, this is the time span most frequently cited.}}'),\n",
       " Row(end_date='{{ubl|start and end dates|1939|9|1|1945|9|2|df|=|yes|\\n                  |(|Age in years and days|1 September 1939|2 September 1945|sep|=|and|)|efn| While [[World War II#Chronology|various other dates]] have been proposed as the date on which World War II began or ended, this is the time span most frequently cited.}} {{start and end dates|1939|9|1|1945|9|2|df|=|yes}} {{Age in years and days|1 September 1939|2 September 1945|sep|=|and}} ) {{efn| While [[World War II#Chronology|various other dates]] have been proposed as the date on which World War II began or ended, this is the time span most frequently cited.}}'),\n",
       " Row(end_date='{{ubl|start and end dates|1939|9|1|1945|9|2|df|=|yes|\\n                  |(|Age in years and days|1 September 1939|2 September 1945|sep|=|and|)|efn| While [[World War II#Chronology|various other dates]] have been proposed as the date on which World War II began or ended, this is the time span most frequently cited.}} {{start and end dates|1939|9|1|1945|9|2|df|=|yes}} {{Age in years and days|1 September 1939|2 September 1945|sep|=|and}} ) {{efn| While [[World War II#Chronology|various other dates]] have been proposed as the date on which World War II began or ended, this is the time span most frequently cited.}}'),\n",
       " Row(end_date='{{ubl|start and end dates|1939|9|1|1945|9|2|df|=|yes|\\n                  |(|Age in years and days|1 September 1939|2 September 1945|sep|=|and|)|efn| While [[World War II#Chronology|various other dates]] have been proposed as the date on which World War II began or ended, this is the time span most frequently cited.}} {{start and end dates|1939|9|1|1945|9|2|df|=|yes}} {{Age in years and days|1 September 1939|2 September 1945|sep|=|and}} ) {{efn| While [[World War II#Chronology|various other dates]] have been proposed as the date on which World War II began or ended, this is the time span most frequently cited.}}'),\n",
       " Row(end_date='{{ubl|start and end dates|1939|9|1|1945|9|2|df|=|yes|\\n                  |(|Age in years and days|1 September 1939|2 September 1945|sep|=|and|)|efn| While [[World War II#Chronology|various other dates]] have been proposed as the date on which World War II began or ended, this is the time span most frequently cited.}} {{start and end dates|1939|9|1|1945|9|2|df|=|yes}} {{Age in years and days|1 September 1939|2 September 1945|sep|=|and}} ) {{efn| While [[World War II#Chronology|various other dates]] have been proposed as the date on which World War II began or ended, this is the time span most frequently cited.}}'),\n",
       " Row(end_date='{{ubl|start and end dates|1939|9|1|1945|9|2|df|=|yes|\\n                  |(|Age in years and days|1 September 1939|2 September 1945|sep|=|and|)|efn| While [[World War II#Chronology|various other dates]] have been proposed as the date on which World War II began or ended, this is the time span most frequently cited.}} {{start and end dates|1939|9|1|1945|9|2|df|=|yes}} {{Age in years and days|1 September 1939|2 September 1945|sep|=|and}} ) {{efn| While [[World War II#Chronology|various other dates]] have been proposed as the date on which World War II began or ended, this is the time span most frequently cited.}}'),\n",
       " Row(end_date='{{ubl|start and end dates|1939|9|1|1945|9|2|df|=|yes|\\n                  |(|Age in years and days|1 September 1939|2 September 1945|sep|=|and|)|efn| While [[World War II#Chronology|various other dates]] have been proposed as the date on which World War II began or ended, this is the time span most frequently cited.}} {{start and end dates|1939|9|1|1945|9|2|df|=|yes}} {{Age in years and days|1 September 1939|2 September 1945|sep|=|and}} ) {{efn| While [[World War II#Chronology|various other dates]] have been proposed as the date on which World War II began or ended, this is the time span most frequently cited.}}'),\n",
       " Row(end_date='{{ubl|start and end dates|1939|9|1|1945|9|2|df|=|yes|\\n                  |(|Age in years and days|1 September 1939|2 September 1945|sep|=|and|)|efn| While [[World War II#Chronology|various other dates]] have been proposed as the date on which World War II began or ended, this is the time span most frequently cited.}} {{start and end dates|1939|9|1|1945|9|2|df|=|yes}} {{Age in years and days|1 September 1939|2 September 1945|sep|=|and}} ) {{efn| While [[World War II#Chronology|various other dates]] have been proposed as the date on which World War II began or ended, this is the time span most frequently cited.}}')]"
      ]
     },
     "execution_count": 83,
     "metadata": {},
     "output_type": "execute_result"
    }
   ],
   "source": [
    "ww2_df.select('end_date').collect()"
   ]
  },
  {
   "cell_type": "code",
   "execution_count": 43,
   "metadata": {},
   "outputs": [
    {
     "data": {
      "text/plain": [
       "[Row(title='Bombing of Dresden in World War II'),\n",
       " Row(title='Balkans Campaign (World War II)'),\n",
       " Row(title='World War II'),\n",
       " Row(title='Mediterranean U-boat Campaign (World War II)'),\n",
       " Row(title='Repatriation of Cossacks after World War II'),\n",
       " Row(title='Siege of Malta (World War II)'),\n",
       " Row(title='East African Campaign (World War II)'),\n",
       " Row(title='Arctic convoys of World War II'),\n",
       " Row(title='South-East Asian theatre of World War II'),\n",
       " Row(title='European theatre of World War II'),\n",
       " Row(title='Bombing of Vienna in World War II'),\n",
       " Row(title='Bombing of Königsberg in World War II'),\n",
       " Row(title='Bombing of Warsaw in World War II'),\n",
       " Row(title='Bombing of Berlin in World War II'),\n",
       " Row(title='Polish resistance movement in World War II'),\n",
       " Row(title='Mediterranean and Middle East theatre of World War II'),\n",
       " Row(title='Eastern Front (World War II)'),\n",
       " Row(title='Western Front (World War II)'),\n",
       " Row(title='Strategic bombing during World War II'),\n",
       " Row(title='Italian Campaign (World War II)'),\n",
       " Row(title='Bombing of Zadar in World War II'),\n",
       " Row(title='Bombing of Würzburg in World War II'),\n",
       " Row(title='Bombing of Gorky in World War II'),\n",
       " Row(title='Gibraltar convoys of World War II'),\n",
       " Row(title='Bombing of Duisburg in World War II'),\n",
       " Row(title='World War II in Yugoslavia'),\n",
       " Row(title='Bombing of Treviso in World War II'),\n",
       " Row(title='World War II in Yugoslav Macedonia'),\n",
       " Row(title='Bombing of Rome in World War II'),\n",
       " Row(title='Oil campaign of World War II'),\n",
       " Row(title='Bombing of Bucharest in World War II'),\n",
       " Row(title='Romanian Navy during World War II'),\n",
       " Row(title='Bombing of Kassel in World War II'),\n",
       " Row(title='Bombing of Wiener Neustadt in World War II'),\n",
       " Row(title='Adriatic Campaign of World War II'),\n",
       " Row(title='Bombing of Friedrichshafen in World War II'),\n",
       " Row(title='Bombing of Nordhausen in World War II'),\n",
       " Row(title='Taganrog during World War II'),\n",
       " Row(title='World War II in Albania'),\n",
       " Row(title='American Theater (World War II)'),\n",
       " Row(title='Greenland in World War II'),\n",
       " Row(title='Bombing of Bangkok in World War II'),\n",
       " Row(title='Bombing of Toyokawa in World War II'),\n",
       " Row(title='Lost Battalion (Europe, World War II)'),\n",
       " Row(title='Italian bombing of Mandatory Palestine in World War II'),\n",
       " Row(title='Bombing of Helsinki in World War II'),\n",
       " Row(title='World War III (film)'),\n",
       " Row(title='Bombing of Ludwigshafen and Oppau in World War II'),\n",
       " Row(title='Allied naval bombardments of Japan during World War II'),\n",
       " Row(title='Bombing of Bremen in World War II'),\n",
       " Row(title='Arctic naval operations of World War II'),\n",
       " Row(title='Bombing of Bahrain in World War II')]"
      ]
     },
     "execution_count": 43,
     "metadata": {},
     "output_type": "execute_result"
    }
   ],
   "source": [
    "ww2_df.select('title').collect()"
   ]
  },
  {
   "cell_type": "code",
   "execution_count": 44,
   "metadata": {},
   "outputs": [
    {
     "data": {
      "text/plain": [
       "[Row(death=\"{{plainlist|\\n* '''Military dead:'''\\n* Over 16,000,000\\n* '''Civilian dead:'''\\n* Over 45,000,000\\n* '''Total dead:'''\\n* Over 61,000,000\\n* (1937–1945)\\n* [[World War II casualties|...''further details'']]}}\"),\n",
       " Row(death=\"{{plainlist|\\n* '''Military dead:'''\\n* Over 16,000,000\\n* '''Civilian dead:'''\\n* Over 45,000,000\\n* '''Total dead:'''\\n* Over 61,000,000\\n* (1937–1945)\\n* [[World War II casualties|...''further details'']]}}\"),\n",
       " Row(death='+73000000'),\n",
       " Row(death=\"{{plainlist|\\n* '''Military dead:'''\\n* Over 16,000,000\\n* '''Civilian dead:'''\\n* Over 45,000,000\\n* '''Total dead:'''\\n* Over 61,000,000\\n* (1937–1945)\\n* [[World War II casualties|...''further details'']]}}\"),\n",
       " Row(death=\"{{plainlist|\\n* '''Military dead:'''\\n* Over 16,000,000\\n* '''Civilian dead:'''\\n* Over 45,000,000\\n* '''Total dead:'''\\n* Over 61,000,000\\n* (1937–1945)\\n* [[World War II casualties|...''further details'']]}}\"),\n",
       " Row(death=\"{{plainlist|\\n* '''Military dead:'''\\n* Over 16,000,000\\n* '''Civilian dead:'''\\n* Over 45,000,000\\n* '''Total dead:'''\\n* Over 61,000,000\\n* (1937–1945)\\n* [[World War II casualties|...''further details'']]}}\"),\n",
       " Row(death=\"{{plainlist|\\n* '''Military dead:'''\\n* Over 16,000,000\\n* '''Civilian dead:'''\\n* Over 45,000,000\\n* '''Total dead:'''\\n* Over 61,000,000\\n* (1937–1945)\\n* [[World War II casualties|...''further details'']]}}\"),\n",
       " Row(death=\"{{plainlist|\\n* '''Military dead:'''\\n* Over 16,000,000\\n* '''Civilian dead:'''\\n* Over 45,000,000\\n* '''Total dead:'''\\n* Over 61,000,000\\n* (1937–1945)\\n* [[World War II casualties|...''further details'']]}}\"),\n",
       " Row(death=\"{{plainlist|\\n* '''Military dead:'''\\n* Over 16,000,000\\n* '''Civilian dead:'''\\n* Over 45,000,000\\n* '''Total dead:'''\\n* Over 61,000,000\\n* (1937–1945)\\n* [[World War II casualties|...''further details'']]}}\"),\n",
       " Row(death=\"{{plainlist|\\n* '''Military dead:'''\\n* Over 16,000,000\\n* '''Civilian dead:'''\\n* Over 45,000,000\\n* '''Total dead:'''\\n* Over 61,000,000\\n* (1937–1945)\\n* [[World War II casualties|...''further details'']]}}\"),\n",
       " Row(death=\"{{plainlist|\\n* '''Military dead:'''\\n* Over 16,000,000\\n* '''Civilian dead:'''\\n* Over 45,000,000\\n* '''Total dead:'''\\n* Over 61,000,000\\n* (1937–1945)\\n* [[World War II casualties|...''further details'']]}}\"),\n",
       " Row(death=\"{{plainlist|\\n* '''Military dead:'''\\n* Over 16,000,000\\n* '''Civilian dead:'''\\n* Over 45,000,000\\n* '''Total dead:'''\\n* Over 61,000,000\\n* (1937–1945)\\n* [[World War II casualties|...''further details'']]}}\"),\n",
       " Row(death=\"{{plainlist|\\n* '''Military dead:'''\\n* Over 16,000,000\\n* '''Civilian dead:'''\\n* Over 45,000,000\\n* '''Total dead:'''\\n* Over 61,000,000\\n* (1937–1945)\\n* [[World War II casualties|...''further details'']]}}\"),\n",
       " Row(death=\"{{plainlist|\\n* '''Military dead:'''\\n* Over 16,000,000\\n* '''Civilian dead:'''\\n* Over 45,000,000\\n* '''Total dead:'''\\n* Over 61,000,000\\n* (1937–1945)\\n* [[World War II casualties|...''further details'']]}}\"),\n",
       " Row(death=\"{{plainlist|\\n* '''Military dead:'''\\n* Over 16,000,000\\n* '''Civilian dead:'''\\n* Over 45,000,000\\n* '''Total dead:'''\\n* Over 61,000,000\\n* (1937–1945)\\n* [[World War II casualties|...''further details'']]}}\"),\n",
       " Row(death=\"{{plainlist|\\n* '''Military dead:'''\\n* Over 16,000,000\\n* '''Civilian dead:'''\\n* Over 45,000,000\\n* '''Total dead:'''\\n* Over 61,000,000\\n* (1937–1945)\\n* [[World War II casualties|...''further details'']]}}\"),\n",
       " Row(death=\"{{plainlist|\\n* '''Military dead:'''\\n* Over 16,000,000\\n* '''Civilian dead:'''\\n* Over 45,000,000\\n* '''Total dead:'''\\n* Over 61,000,000\\n* (1937–1945)\\n* [[World War II casualties|...''further details'']]}}\"),\n",
       " Row(death=\"{{plainlist|\\n* '''Military dead:'''\\n* Over 16,000,000\\n* '''Civilian dead:'''\\n* Over 45,000,000\\n* '''Total dead:'''\\n* Over 61,000,000\\n* (1937–1945)\\n* [[World War II casualties|...''further details'']]}}\"),\n",
       " Row(death=\"{{plainlist|\\n* '''Military dead:'''\\n* Over 16,000,000\\n* '''Civilian dead:'''\\n* Over 45,000,000\\n* '''Total dead:'''\\n* Over 61,000,000\\n* (1937–1945)\\n* [[World War II casualties|...''further details'']]}}\"),\n",
       " Row(death=\"{{plainlist|\\n* '''Military dead:'''\\n* Over 16,000,000\\n* '''Civilian dead:'''\\n* Over 45,000,000\\n* '''Total dead:'''\\n* Over 61,000,000\\n* (1937–1945)\\n* [[World War II casualties|...''further details'']]}}\"),\n",
       " Row(death=\"{{plainlist|\\n* '''Military dead:'''\\n* Over 16,000,000\\n* '''Civilian dead:'''\\n* Over 45,000,000\\n* '''Total dead:'''\\n* Over 61,000,000\\n* (1937–1945)\\n* [[World War II casualties|...''further details'']]}}\"),\n",
       " Row(death=\"{{plainlist|\\n* '''Military dead:'''\\n* Over 16,000,000\\n* '''Civilian dead:'''\\n* Over 45,000,000\\n* '''Total dead:'''\\n* Over 61,000,000\\n* (1937–1945)\\n* [[World War II casualties|...''further details'']]}}\"),\n",
       " Row(death=\"{{plainlist|\\n* '''Military dead:'''\\n* Over 16,000,000\\n* '''Civilian dead:'''\\n* Over 45,000,000\\n* '''Total dead:'''\\n* Over 61,000,000\\n* (1937–1945)\\n* [[World War II casualties|...''further details'']]}}\"),\n",
       " Row(death=\"{{plainlist|\\n* '''Military dead:'''\\n* Over 16,000,000\\n* '''Civilian dead:'''\\n* Over 45,000,000\\n* '''Total dead:'''\\n* Over 61,000,000\\n* (1937–1945)\\n* [[World War II casualties|...''further details'']]}}\"),\n",
       " Row(death=\"{{plainlist|\\n* '''Military dead:'''\\n* Over 16,000,000\\n* '''Civilian dead:'''\\n* Over 45,000,000\\n* '''Total dead:'''\\n* Over 61,000,000\\n* (1937–1945)\\n* [[World War II casualties|...''further details'']]}}\"),\n",
       " Row(death=\"{{plainlist|\\n* '''Military dead:'''\\n* Over 16,000,000\\n* '''Civilian dead:'''\\n* Over 45,000,000\\n* '''Total dead:'''\\n* Over 61,000,000\\n* (1937–1945)\\n* [[World War II casualties|...''further details'']]}}\"),\n",
       " Row(death=\"{{plainlist|\\n* '''Military dead:'''\\n* Over 16,000,000\\n* '''Civilian dead:'''\\n* Over 45,000,000\\n* '''Total dead:'''\\n* Over 61,000,000\\n* (1937–1945)\\n* [[World War II casualties|...''further details'']]}}\"),\n",
       " Row(death=\"{{plainlist|\\n* '''Military dead:'''\\n* Over 16,000,000\\n* '''Civilian dead:'''\\n* Over 45,000,000\\n* '''Total dead:'''\\n* Over 61,000,000\\n* (1937–1945)\\n* [[World War II casualties|...''further details'']]}}\"),\n",
       " Row(death=\"{{plainlist|\\n* '''Military dead:'''\\n* Over 16,000,000\\n* '''Civilian dead:'''\\n* Over 45,000,000\\n* '''Total dead:'''\\n* Over 61,000,000\\n* (1937–1945)\\n* [[World War II casualties|...''further details'']]}}\"),\n",
       " Row(death=\"{{plainlist|\\n* '''Military dead:'''\\n* Over 16,000,000\\n* '''Civilian dead:'''\\n* Over 45,000,000\\n* '''Total dead:'''\\n* Over 61,000,000\\n* (1937–1945)\\n* [[World War II casualties|...''further details'']]}}\"),\n",
       " Row(death=\"{{plainlist|\\n* '''Military dead:'''\\n* Over 16,000,000\\n* '''Civilian dead:'''\\n* Over 45,000,000\\n* '''Total dead:'''\\n* Over 61,000,000\\n* (1937–1945)\\n* [[World War II casualties|...''further details'']]}}\"),\n",
       " Row(death=\"{{plainlist|\\n* '''Military dead:'''\\n* Over 16,000,000\\n* '''Civilian dead:'''\\n* Over 45,000,000\\n* '''Total dead:'''\\n* Over 61,000,000\\n* (1937–1945)\\n* [[World War II casualties|...''further details'']]}}\"),\n",
       " Row(death=\"{{plainlist|\\n* '''Military dead:'''\\n* Over 16,000,000\\n* '''Civilian dead:'''\\n* Over 45,000,000\\n* '''Total dead:'''\\n* Over 61,000,000\\n* (1937–1945)\\n* [[World War II casualties|...''further details'']]}}\"),\n",
       " Row(death=\"{{plainlist|\\n* '''Military dead:'''\\n* Over 16,000,000\\n* '''Civilian dead:'''\\n* Over 45,000,000\\n* '''Total dead:'''\\n* Over 61,000,000\\n* (1937–1945)\\n* [[World War II casualties|...''further details'']]}}\"),\n",
       " Row(death=\"{{plainlist|\\n* '''Military dead:'''\\n* Over 16,000,000\\n* '''Civilian dead:'''\\n* Over 45,000,000\\n* '''Total dead:'''\\n* Over 61,000,000\\n* (1937–1945)\\n* [[World War II casualties|...''further details'']]}}\"),\n",
       " Row(death=\"{{plainlist|\\n* '''Military dead:'''\\n* Over 16,000,000\\n* '''Civilian dead:'''\\n* Over 45,000,000\\n* '''Total dead:'''\\n* Over 61,000,000\\n* (1937–1945)\\n* [[World War II casualties|...''further details'']]}}\"),\n",
       " Row(death=\"{{plainlist|\\n* '''Military dead:'''\\n* Over 16,000,000\\n* '''Civilian dead:'''\\n* Over 45,000,000\\n* '''Total dead:'''\\n* Over 61,000,000\\n* (1937–1945)\\n* [[World War II casualties|...''further details'']]}}\"),\n",
       " Row(death=\"{{plainlist|\\n* '''Military dead:'''\\n* Over 16,000,000\\n* '''Civilian dead:'''\\n* Over 45,000,000\\n* '''Total dead:'''\\n* Over 61,000,000\\n* (1937–1945)\\n* [[World War II casualties|...''further details'']]}}\"),\n",
       " Row(death=\"{{plainlist|\\n* '''Military dead:'''\\n* Over 16,000,000\\n* '''Civilian dead:'''\\n* Over 45,000,000\\n* '''Total dead:'''\\n* Over 61,000,000\\n* (1937–1945)\\n* [[World War II casualties|...''further details'']]}}\"),\n",
       " Row(death=\"{{plainlist|\\n* '''Military dead:'''\\n* Over 16,000,000\\n* '''Civilian dead:'''\\n* Over 45,000,000\\n* '''Total dead:'''\\n* Over 61,000,000\\n* (1937–1945)\\n* [[World War II casualties|...''further details'']]}}\"),\n",
       " Row(death=\"{{plainlist|\\n* '''Military dead:'''\\n* Over 16,000,000\\n* '''Civilian dead:'''\\n* Over 45,000,000\\n* '''Total dead:'''\\n* Over 61,000,000\\n* (1937–1945)\\n* [[World War II casualties|...''further details'']]}}\"),\n",
       " Row(death=\"{{plainlist|\\n* '''Military dead:'''\\n* Over 16,000,000\\n* '''Civilian dead:'''\\n* Over 45,000,000\\n* '''Total dead:'''\\n* Over 61,000,000\\n* (1937–1945)\\n* [[World War II casualties|...''further details'']]}}\"),\n",
       " Row(death=\"{{plainlist|\\n* '''Military dead:'''\\n* Over 16,000,000\\n* '''Civilian dead:'''\\n* Over 45,000,000\\n* '''Total dead:'''\\n* Over 61,000,000\\n* (1937–1945)\\n* [[World War II casualties|...''further details'']]}}\"),\n",
       " Row(death=\"{{plainlist|\\n* '''Military dead:'''\\n* Over 16,000,000\\n* '''Civilian dead:'''\\n* Over 45,000,000\\n* '''Total dead:'''\\n* Over 61,000,000\\n* (1937–1945)\\n* [[World War II casualties|...''further details'']]}}\"),\n",
       " Row(death='+137'),\n",
       " Row(death=\"{{plainlist|\\n* '''Military dead:'''\\n* Over 16,000,000\\n* '''Civilian dead:'''\\n* Over 45,000,000\\n* '''Total dead:'''\\n* Over 61,000,000\\n* (1937–1945)\\n* [[World War II casualties|...''further details'']]}}\"),\n",
       " Row(death=\"{{plainlist|\\n* '''Military dead:'''\\n* Over 16,000,000\\n* '''Civilian dead:'''\\n* Over 45,000,000\\n* '''Total dead:'''\\n* Over 61,000,000\\n* (1937–1945)\\n* [[World War II casualties|...''further details'']]}}\"),\n",
       " Row(death=\"{{plainlist|\\n* '''Military dead:'''\\n* Over 16,000,000\\n* '''Civilian dead:'''\\n* Over 45,000,000\\n* '''Total dead:'''\\n* Over 61,000,000\\n* (1937–1945)\\n* [[World War II casualties|...''further details'']]}}\"),\n",
       " Row(death=\"{{plainlist|\\n* '''Military dead:'''\\n* Over 16,000,000\\n* '''Civilian dead:'''\\n* Over 45,000,000\\n* '''Total dead:'''\\n* Over 61,000,000\\n* (1937–1945)\\n* [[World War II casualties|...''further details'']]}}\"),\n",
       " Row(death=\"{{plainlist|\\n* '''Military dead:'''\\n* Over 16,000,000\\n* '''Civilian dead:'''\\n* Over 45,000,000\\n* '''Total dead:'''\\n* Over 61,000,000\\n* (1937–1945)\\n* [[World War II casualties|...''further details'']]}}\"),\n",
       " Row(death=\"{{plainlist|\\n* '''Military dead:'''\\n* Over 16,000,000\\n* '''Civilian dead:'''\\n* Over 45,000,000\\n* '''Total dead:'''\\n* Over 61,000,000\\n* (1937–1945)\\n* [[World War II casualties|...''further details'']]}}\"),\n",
       " Row(death=\"{{plainlist|\\n* '''Military dead:'''\\n* Over 16,000,000\\n* '''Civilian dead:'''\\n* Over 45,000,000\\n* '''Total dead:'''\\n* Over 61,000,000\\n* (1937–1945)\\n* [[World War II casualties|...''further details'']]}}\")]"
      ]
     },
     "execution_count": 44,
     "metadata": {},
     "output_type": "execute_result"
    }
   ],
   "source": [
    "ww2_df.select('death').collect()"
   ]
  },
  {
   "cell_type": "code",
   "execution_count": 45,
   "metadata": {},
   "outputs": [
    {
     "data": {
      "text/plain": [
       "[Row(id=64692),\n",
       " Row(id=627326),\n",
       " Row(id=32927),\n",
       " Row(id=8027546),\n",
       " Row(id=3498598),\n",
       " Row(id=776074),\n",
       " Row(id=988219),\n",
       " Row(id=998807),\n",
       " Row(id=902040),\n",
       " Row(id=342640),\n",
       " Row(id=7439614),\n",
       " Row(id=7468801),\n",
       " Row(id=927764),\n",
       " Row(id=936661),\n",
       " Row(id=4329310),\n",
       " Row(id=1779568),\n",
       " Row(id=519489),\n",
       " Row(id=519516),\n",
       " Row(id=730658),\n",
       " Row(id=493696),\n",
       " Row(id=5352468),\n",
       " Row(id=4149594),\n",
       " Row(id=54639200),\n",
       " Row(id=52997544),\n",
       " Row(id=7668163),\n",
       " Row(id=7148715),\n",
       " Row(id=11413940),\n",
       " Row(id=13669170),\n",
       " Row(id=8814971),\n",
       " Row(id=20537542),\n",
       " Row(id=6820802),\n",
       " Row(id=54956721),\n",
       " Row(id=537817),\n",
       " Row(id=22573476),\n",
       " Row(id=22619466),\n",
       " Row(id=22752221),\n",
       " Row(id=22878403),\n",
       " Row(id=25536548),\n",
       " Row(id=291341),\n",
       " Row(id=2728998),\n",
       " Row(id=10805870),\n",
       " Row(id=33247384),\n",
       " Row(id=32732761),\n",
       " Row(id=15873865),\n",
       " Row(id=2823356),\n",
       " Row(id=10262809),\n",
       " Row(id=4397117),\n",
       " Row(id=30281564),\n",
       " Row(id=30319330),\n",
       " Row(id=17426585),\n",
       " Row(id=36240634),\n",
       " Row(id=27495752)]"
      ]
     },
     "execution_count": 45,
     "metadata": {},
     "output_type": "execute_result"
    }
   ],
   "source": [
    "ww2_df.select('id').collect()"
   ]
  },
  {
   "cell_type": "code",
   "execution_count": null,
   "metadata": {},
   "outputs": [],
   "source": []
  }
 ],
 "metadata": {
  "kernelspec": {
   "display_name": "Python [conda env:ada]",
   "language": "python",
   "name": "conda-env-ada-py"
  },
  "language_info": {
   "codemirror_mode": {
    "name": "ipython",
    "version": 3
   },
   "file_extension": ".py",
   "mimetype": "text/x-python",
   "name": "python",
   "nbconvert_exporter": "python",
   "pygments_lexer": "ipython3",
   "version": "3.6.6"
  }
 },
 "nbformat": 4,
 "nbformat_minor": 2
}
