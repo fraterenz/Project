{
 "cells": [
  {
   "cell_type": "code",
   "execution_count": 1,
   "metadata": {},
   "outputs": [],
   "source": [
    "import pyspark\n",
    "import re\n",
    "import pyspark.sql\n",
    "from pyspark.sql import *\n",
    "import pandas as pd\n",
    "import matplotlib.pyplot as plt\n",
    "import hashlib\n",
    "import os.path\n",
    "import json\n",
    "from pyspark.sql.functions import desc\n",
    "from datetime import timedelta, date\n",
    "\n",
    "%matplotlib inline\n",
    "#spark_hive = pyspark.sql.HiveContext(sc)\n",
    "\n",
    "import findspark\n",
    "findspark.init()\n",
    "\n",
    "from pyspark.sql import dataframe\n",
    "from pyspark.sql import functions as F\n",
    "from pyspark.sql import DataFrameStatFunctions as statF\n",
    "from pyspark.sql.functions import explode\n",
    "from pyspark.sql.types import StructType\n",
    "from pyspark.sql import SparkSession\n",
    "from pyspark import SparkContext\n",
    "from pyspark.sql import SQLContext\n",
    "\n",
    "spark = SparkSession.builder.getOrCreate()\n",
    "sc = spark.sparkContext\n",
    "\n",
    "from pyspark.sql import SQLContext\n",
    "sqlContext = SQLContext(sc)"
   ]
  },
  {
   "cell_type": "code",
   "execution_count": 2,
   "metadata": {},
   "outputs": [],
   "source": [
    "# import class XmlWiki\n",
    "import os\n",
    "import sys\n",
    "my_class_dir = '../src/'\n",
    "if my_class_dir not in sys.path:\n",
    "    sys.path.append(my_class_dir)\n",
    "    \n",
    "import XmlWiki"
   ]
  },
  {
   "cell_type": "markdown",
   "metadata": {},
   "source": [
    "# FRA "
   ]
  },
  {
   "cell_type": "code",
   "execution_count": 3,
   "metadata": {},
   "outputs": [],
   "source": [
    "DATA_DIR = '../wikidata/'"
   ]
  },
  {
   "cell_type": "code",
   "execution_count": 4,
   "metadata": {},
   "outputs": [],
   "source": [
    "WIKIDATA    = os.path.join(DATA_DIR, 'wikidatawiki-20180801-pages-meta-history7.xml-p3488245p3490833')\n",
    "SCHEMA_PATH = os.path.join(DATA_DIR, 'wikidatawiki-20180801-pages-meta-history7_schema.json')"
   ]
  },
  {
   "cell_type": "code",
   "execution_count": 9,
   "metadata": {
    "scrolled": false
   },
   "outputs": [
    {
     "name": "stdout",
     "output_type": "stream",
     "text": [
      "Saving schema in ../wikidata/wikidatawiki-20180801-pages-meta-history7_schema.json \n",
      "\n",
      "root\n",
      " |-- _corrupt_record: string (nullable = true)\n",
      " |-- id: long (nullable = true)\n",
      " |-- ns: long (nullable = true)\n",
      " |-- revision: array (nullable = true)\n",
      " |    |-- element: struct (containsNull = true)\n",
      " |    |    |-- comment: string (nullable = true)\n",
      " |    |    |-- contributor: struct (nullable = true)\n",
      " |    |    |    |-- id: long (nullable = true)\n",
      " |    |    |    |-- ip: string (nullable = true)\n",
      " |    |    |    |-- username: string (nullable = true)\n",
      " |    |    |-- format: string (nullable = true)\n",
      " |    |    |-- id: long (nullable = true)\n",
      " |    |    |-- model: string (nullable = true)\n",
      " |    |    |-- parentid: long (nullable = true)\n",
      " |    |    |-- sha1: string (nullable = true)\n",
      " |    |    |-- text: struct (nullable = true)\n",
      " |    |    |    |-- _VALUE: string (nullable = true)\n",
      " |    |    |    |-- _space: string (nullable = true)\n",
      " |    |    |-- timestamp: string (nullable = true)\n",
      " |-- title: string (nullable = true)\n",
      "\n",
      "CPU times: user 26.6 ms, sys: 234 ms, total: 261 ms\n",
      "Wall time: 1min 16s\n"
     ]
    }
   ],
   "source": [
    "%%time\n",
    "# without any schema saved\n",
    "wikidata = XmlWiki.XmlWikidump(path=WIKIDATA, path_schema=SCHEMA_PATH)"
   ]
  },
  {
   "cell_type": "markdown",
   "metadata": {},
   "source": [
    "save schema in order to load faster the data (spark does not need to infer the schema from data) so it will be faster in loading, [link](https://szczeles.github.io/Reading-JSON-CSV-and-XML-files-efficiently-in-Apache-Spark/) . "
   ]
  },
  {
   "cell_type": "code",
   "execution_count": 5,
   "metadata": {},
   "outputs": [
    {
     "name": "stdout",
     "output_type": "stream",
     "text": [
      "Loading the xml schema from ../wikidata/wikidatawiki-20180801-pages-meta-history7_schema.json\n"
     ]
    },
    {
     "ename": "FileNotFoundError",
     "evalue": "[Errno 2] No such file or directory: '../wikidata/wikidatawiki-20180801-pages-meta-history7_schema.json'",
     "output_type": "error",
     "traceback": [
      "\u001b[0;31m---------------------------------------------------------------------------\u001b[0m",
      "\u001b[0;31mFileNotFoundError\u001b[0m                         Traceback (most recent call last)",
      "\u001b[0;32m<timed exec>\u001b[0m in \u001b[0;36m<module>\u001b[0;34m\u001b[0m\n",
      "\u001b[0;32m~/Documents/MA3-final/ADA/Project/src/XmlWiki.py\u001b[0m in \u001b[0;36m__init__\u001b[0;34m(self, path, path_schema, use_schema, sampling_ratio, rowTag)\u001b[0m\n\u001b[1;32m     18\u001b[0m         \u001b[0mself\u001b[0m\u001b[0;34m.\u001b[0m\u001b[0mschema\u001b[0m \u001b[0;34m=\u001b[0m \u001b[0;32mNone\u001b[0m\u001b[0;34m\u001b[0m\u001b[0;34m\u001b[0m\u001b[0m\n\u001b[1;32m     19\u001b[0m         \u001b[0mself\u001b[0m\u001b[0;34m.\u001b[0m\u001b[0muse_schema\u001b[0m \u001b[0;34m=\u001b[0m \u001b[0muse_schema\u001b[0m\u001b[0;34m\u001b[0m\u001b[0;34m\u001b[0m\u001b[0m\n\u001b[0;32m---> 20\u001b[0;31m         \u001b[0mself\u001b[0m\u001b[0;34m.\u001b[0m\u001b[0mdataframe\u001b[0m \u001b[0;34m=\u001b[0m \u001b[0mself\u001b[0m\u001b[0;34m.\u001b[0m\u001b[0m__load_xml\u001b[0m\u001b[0;34m(\u001b[0m\u001b[0;34m)\u001b[0m\u001b[0;34m\u001b[0m\u001b[0;34m\u001b[0m\u001b[0m\n\u001b[0m\u001b[1;32m     21\u001b[0m \u001b[0;34m\u001b[0m\u001b[0m\n\u001b[1;32m     22\u001b[0m     \u001b[0;32mdef\u001b[0m \u001b[0m__load_xml\u001b[0m\u001b[0;34m(\u001b[0m\u001b[0mself\u001b[0m\u001b[0;34m)\u001b[0m\u001b[0;34m:\u001b[0m\u001b[0;34m\u001b[0m\u001b[0;34m\u001b[0m\u001b[0m\n",
      "\u001b[0;32m~/Documents/MA3-final/ADA/Project/src/XmlWiki.py\u001b[0m in \u001b[0;36m__load_xml\u001b[0;34m(self)\u001b[0m\n\u001b[1;32m     26\u001b[0m                 \u001b[0;34m.\u001b[0m\u001b[0moptions\u001b[0m\u001b[0;34m(\u001b[0m\u001b[0msamplingRatio\u001b[0m\u001b[0;34m=\u001b[0m\u001b[0mself\u001b[0m\u001b[0;34m.\u001b[0m\u001b[0msampling_ratio\u001b[0m\u001b[0;34m)\u001b[0m\u001b[0;31m \u001b[0m\u001b[0;31m\\\u001b[0m\u001b[0;34m\u001b[0m\u001b[0;34m\u001b[0m\u001b[0m\n\u001b[1;32m     27\u001b[0m                 \u001b[0;34m.\u001b[0m\u001b[0moptions\u001b[0m\u001b[0;34m(\u001b[0m\u001b[0mrowTag\u001b[0m\u001b[0;34m=\u001b[0m\u001b[0mself\u001b[0m\u001b[0;34m.\u001b[0m\u001b[0mrowTag\u001b[0m\u001b[0;34m)\u001b[0m\u001b[0;31m \u001b[0m\u001b[0;31m\\\u001b[0m\u001b[0;34m\u001b[0m\u001b[0;34m\u001b[0m\u001b[0m\n\u001b[0;32m---> 28\u001b[0;31m                 \u001b[0;34m.\u001b[0m\u001b[0mload\u001b[0m\u001b[0;34m(\u001b[0m\u001b[0mself\u001b[0m\u001b[0;34m.\u001b[0m\u001b[0mpath\u001b[0m\u001b[0;34m,\u001b[0m \u001b[0mschema\u001b[0m\u001b[0;34m=\u001b[0m\u001b[0mself\u001b[0m\u001b[0;34m.\u001b[0m\u001b[0m__load_schema\u001b[0m\u001b[0;34m(\u001b[0m\u001b[0;34m)\u001b[0m\u001b[0;34m)\u001b[0m\u001b[0;34m\u001b[0m\u001b[0;34m\u001b[0m\u001b[0m\n\u001b[0m\u001b[1;32m     29\u001b[0m         \u001b[0;32melse\u001b[0m\u001b[0;34m:\u001b[0m\u001b[0;34m\u001b[0m\u001b[0;34m\u001b[0m\u001b[0m\n\u001b[1;32m     30\u001b[0m             \u001b[0mxml\u001b[0m \u001b[0;34m=\u001b[0m \u001b[0msqlContext\u001b[0m\u001b[0;34m.\u001b[0m\u001b[0mread\u001b[0m\u001b[0;34m.\u001b[0m\u001b[0mformat\u001b[0m\u001b[0;34m(\u001b[0m\u001b[0;34m'com.databricks.spark.xml'\u001b[0m\u001b[0;34m)\u001b[0m\u001b[0;31m \u001b[0m\u001b[0;31m\\\u001b[0m\u001b[0;34m\u001b[0m\u001b[0;34m\u001b[0m\u001b[0m\n",
      "\u001b[0;32m~/Documents/MA3-final/ADA/Project/src/XmlWiki.py\u001b[0m in \u001b[0;36m__load_schema\u001b[0;34m(self)\u001b[0m\n\u001b[1;32m     41\u001b[0m         \u001b[0;31m# schema_json = spark.read.text(self.path_schema).first()[0]\u001b[0m\u001b[0;34m\u001b[0m\u001b[0;34m\u001b[0m\u001b[0;34m\u001b[0m\u001b[0m\n\u001b[1;32m     42\u001b[0m         \u001b[0;31m# return StructType.fromJson(json.loads(schema_json))\u001b[0m\u001b[0;34m\u001b[0m\u001b[0;34m\u001b[0m\u001b[0;34m\u001b[0m\u001b[0m\n\u001b[0;32m---> 43\u001b[0;31m         \u001b[0;32mwith\u001b[0m \u001b[0mopen\u001b[0m\u001b[0;34m(\u001b[0m\u001b[0mself\u001b[0m\u001b[0;34m.\u001b[0m\u001b[0mpath_schema\u001b[0m\u001b[0;34m,\u001b[0m \u001b[0;34m'r'\u001b[0m\u001b[0;34m)\u001b[0m \u001b[0;32mas\u001b[0m \u001b[0mf_toread\u001b[0m\u001b[0;34m:\u001b[0m\u001b[0;34m\u001b[0m\u001b[0;34m\u001b[0m\u001b[0m\n\u001b[0m\u001b[1;32m     44\u001b[0m             \u001b[0mschema_json\u001b[0m \u001b[0;34m=\u001b[0m \u001b[0mjson\u001b[0m\u001b[0;34m.\u001b[0m\u001b[0mload\u001b[0m\u001b[0;34m(\u001b[0m\u001b[0mf_toread\u001b[0m\u001b[0;34m)\u001b[0m\u001b[0;34m\u001b[0m\u001b[0;34m\u001b[0m\u001b[0m\n\u001b[1;32m     45\u001b[0m         \u001b[0;32mreturn\u001b[0m \u001b[0mStructType\u001b[0m\u001b[0;34m.\u001b[0m\u001b[0mfromJson\u001b[0m\u001b[0;34m(\u001b[0m\u001b[0mschema_json\u001b[0m\u001b[0;34m)\u001b[0m\u001b[0;34m\u001b[0m\u001b[0;34m\u001b[0m\u001b[0m\n",
      "\u001b[0;31mFileNotFoundError\u001b[0m: [Errno 2] No such file or directory: '../wikidata/wikidatawiki-20180801-pages-meta-history7_schema.json'"
     ]
    }
   ],
   "source": [
    "%%time\n",
    "# with the help of the schema\n",
    "wikidata = XmlWiki.XmlWikidump(path=WIKIDATA, path_schema=SCHEMA_PATH, use_schema=True)"
   ]
  },
  {
   "cell_type": "markdown",
   "metadata": {},
   "source": [
    "- The element does not seem to be present in the data.\n",
    "\n",
    "- The data contains (several, all?) revisions that have been done to the corresponding pages . The distribtuion is shown below.\n",
    "\n",
    "- Revision.id is an array (probably the size of the array indicates the number of revisions)"
   ]
  },
  {
   "cell_type": "code",
   "execution_count": 47,
   "metadata": {
    "scrolled": false
   },
   "outputs": [
    {
     "name": "stdout",
     "output_type": "stream",
     "text": [
      "+-------------------------+\n",
      "|size(revision.id AS `id`)|\n",
      "+-------------------------+\n",
      "|                       25|\n",
      "|                        4|\n",
      "|                       27|\n",
      "|                       62|\n",
      "|                       12|\n",
      "|                       13|\n",
      "|                       27|\n",
      "|                       18|\n",
      "|                       12|\n",
      "|                       28|\n",
      "|                       12|\n",
      "|                       22|\n",
      "|                       24|\n",
      "|                       13|\n",
      "|                        7|\n",
      "|                        1|\n",
      "|                       14|\n",
      "|                       12|\n",
      "|                       12|\n",
      "|                       16|\n",
      "+-------------------------+\n",
      "only showing top 20 rows\n",
      "\n",
      "None\n"
     ]
    }
   ],
   "source": [
    "# revision.id is an array\n",
    "wikidata.dataframe.registerTempTable('test')\n",
    "\n",
    "query_test = \"\"\"\n",
    "select size(revision.id)\n",
    "from test\n",
    "\"\"\"\n",
    "\n",
    "result_query_test = spark.sql(query_test)\n",
    "print(result_query_test.show())"
   ]
  },
  {
   "cell_type": "code",
   "execution_count": 54,
   "metadata": {},
   "outputs": [
    {
     "name": "stdout",
     "output_type": "stream",
     "text": [
      "+--------------------------------------+\n",
      "|size(revision.text._VALUE AS `_VALUE`)|\n",
      "+--------------------------------------+\n",
      "|                                    25|\n",
      "|                                     4|\n",
      "|                                    27|\n",
      "|                                    62|\n",
      "|                                    12|\n",
      "|                                    13|\n",
      "|                                    27|\n",
      "|                                    18|\n",
      "|                                    12|\n",
      "|                                    28|\n",
      "|                                    12|\n",
      "|                                    22|\n",
      "|                                    24|\n",
      "|                                    13|\n",
      "|                                     7|\n",
      "|                                     1|\n",
      "|                                    14|\n",
      "|                                    12|\n",
      "|                                    12|\n",
      "|                                    16|\n",
      "+--------------------------------------+\n",
      "only showing top 20 rows\n",
      "\n",
      "None\n"
     ]
    }
   ],
   "source": [
    "query_test = \"\"\"\n",
    "select size(revision.text._VALUE)\n",
    "from test\n",
    "\"\"\"\n",
    "\n",
    "result_query_test = spark.sql(query_test)\n",
    "print(result_query_test.show())"
   ]
  },
  {
   "cell_type": "code",
   "execution_count": 37,
   "metadata": {
    "scrolled": false
   },
   "outputs": [
    {
     "name": "stdout",
     "output_type": "stream",
     "text": [
      "<class 'pyspark.sql.dataframe.DataFrame'>\n"
     ]
    }
   ],
   "source": [
    "print(type(wikidata.dataframe))\n",
    "\n",
    "# filter to take only articles with revisions that are not null\n",
    "articles_with_revisions = wikidata.dataframe\\\n",
    "    .filter(\"ns = '0'\")\\\n",
    "    .filter(\"revision.text._VALUE is not null\")\n",
    "\n",
    "# create SQL view\n",
    "articles_with_revisions.registerTempTable('wikidata_revised_articles')"
   ]
  },
  {
   "cell_type": "markdown",
   "metadata": {},
   "source": [
    "Try to count the number of revisions per page"
   ]
  },
  {
   "cell_type": "code",
   "execution_count": 52,
   "metadata": {
    "scrolled": false
   },
   "outputs": [
    {
     "name": "stdout",
     "output_type": "stream",
     "text": [
      "+-------+----+\n",
      "|     id|freq|\n",
      "+-------+----+\n",
      "|3489826| 153|\n",
      "|3490785| 133|\n",
      "|3488417| 121|\n",
      "|3490577| 118|\n",
      "|3488853| 116|\n",
      "|3490020| 115|\n",
      "|3489925| 108|\n",
      "|3490249| 105|\n",
      "|3490713| 102|\n",
      "|3488525| 102|\n",
      "|3490638| 102|\n",
      "|3490452| 101|\n",
      "|3488469|  94|\n",
      "|3490500|  93|\n",
      "|3489028|  91|\n",
      "|3488581|  88|\n",
      "|3488598|  86|\n",
      "|3489985|  86|\n",
      "|3490339|  85|\n",
      "|3490361|  84|\n",
      "+-------+----+\n",
      "only showing top 20 rows\n",
      "\n",
      "None\n"
     ]
    }
   ],
   "source": [
    "# freq: nb of revisions in one page (ID)\n",
    "query = \"\"\"\n",
    "SELECT t.id, size(t.revision.id) as freq\n",
    "FROM wikidata_revised_articles as t\n",
    "ORDER BY freq DESC\n",
    "\"\"\"\n",
    "\n",
    "result_query = spark.sql(query)\n",
    "print(result_query.show())"
   ]
  },
  {
   "cell_type": "code",
   "execution_count": 53,
   "metadata": {},
   "outputs": [
    {
     "data": {
      "image/png": "[encoded data removed]",
      "text/plain": [
       "<Figure size 864x504 with 1 Axes>"
      ]
     },
     "metadata": {
      "needs_background": "light"
     },
     "output_type": "display_data"
    }
   ],
   "source": [
    "# histo plot\n",
    "revisions = result_query.select('freq').toPandas()\n",
    "revisions.plot(kind=\"hist\", bins=100, log=True, figsize=(12,7), title=\"Distribution of number of revisions\")\n",
    "plt.show()"
   ]
  },
  {
   "cell_type": "code",
   "execution_count": 51,
   "metadata": {
    "scrolled": false
   },
   "outputs": [
    {
     "name": "stdout",
     "output_type": "stream",
     "text": [
      "+------+----+\n",
      "|counts|freq|\n",
      "+------+----+\n",
      "|   115|   1|\n",
      "|   101|   6|\n",
      "|    99|  13|\n",
      "|    96|  14|\n",
      "|    94|   8|\n",
      "|    93|  12|\n",
      "|    89|  15|\n",
      "|    88|  17|\n",
      "|    76|  11|\n",
      "|    74|  10|\n",
      "|    69|  18|\n",
      "|    60|  19|\n",
      "|    60|   9|\n",
      "|    59|  25|\n",
      "|    57|  16|\n",
      "|    57|   7|\n",
      "|    57|  24|\n",
      "|    57|  27|\n",
      "|    54|  20|\n",
      "|    51|   2|\n",
      "+------+----+\n",
      "only showing top 20 rows\n",
      "\n",
      "None\n"
     ]
    }
   ],
   "source": [
    "# freq: nb of pages that have conts nb of revisions\n",
    "query_distribution = \"\"\"\n",
    "SELECT COUNT(*) AS counts, t1.freq\n",
    "FROM (\n",
    "    SELECT t.id, size(t.revision.id) as freq\n",
    "    FROM wikidata_revised_articles as t   \n",
    "    ) AS t1\n",
    "GROUP BY t1.freq\n",
    "ORDER BY counts DESC\n",
    "\"\"\"\n",
    "\n",
    "result_query_distributions = spark.sql(query_distribution )\n",
    "print(result_query_distributions.show())"
   ]
  },
  {
   "cell_type": "markdown",
   "metadata": {},
   "source": [
    "# Il tizio Tiziano "
   ]
  },
  {
   "cell_type": "markdown",
   "metadata": {},
   "source": [
    "# Get number of events by date\n",
    "\n",
    "https://meta.wikimedia.org/wiki/Research:Characterizing_Wikipedia_Citation_Usage/First_Round_of_Analysis#Reference_click_data_collection"
   ]
  },
  {
   "cell_type": "code",
   "execution_count": 2,
   "metadata": {},
   "outputs": [],
   "source": [
    "# required to iterate the range of dates\n",
    "def daterange(start_date, end_date):\n",
    "    for n in range(int ((end_date - start_date).days)):\n",
    "        yield start_date + timedelta(n)"
   ]
  },
  {
   "cell_type": "code",
   "execution_count": 3,
   "metadata": {},
   "outputs": [],
   "source": [
    "start_date = date(2018, 6, 29)\n",
    "end_date = date(2018, 7, 9)\n",
    "\n",
    "events_query = \"\"\"\n",
    "SELECT CONCAT(year, '-', month, '-', day) date, event.action, count(*) count\n",
    "FROM event.citationusage\n",
    "WHERE wiki = 'enwiki'\n",
    "AND day = {}\n",
    "AND month = {}\n",
    "AND year = {}\n",
    "AND useragent.is_bot = FALSE\n",
    "GROUP BY year, month, day, event.action\n",
    "ORDER BY year, month, day\n",
    "\"\"\"\n",
    "\n",
    "events_rdd = sc.emptyRDD()\n",
    "for d in daterange(start_date, end_date):\n",
    "    daily_events = spark.sql(events_query.format(d.day, d.month, d.year))\n",
    "    events_rdd = events_rdd.union(daily_events.rdd)\n",
    "\n",
    "events_merged = sqlContext.createDataFrame(events_rdd)\n",
    "events = events_merged.toPandas()\n"
   ]
  },
  {
   "cell_type": "code",
   "execution_count": 6,
   "metadata": {},
   "outputs": [
    {
     "data": {
      "text/html": [
       "<div>\n",
       "<table border=\"1\" class=\"dataframe\">\n",
       "  <thead>\n",
       "    <tr style=\"text-align: right;\">\n",
       "      <th>action</th>\n",
       "      <th>extClick</th>\n",
       "      <th>fnClick</th>\n",
       "      <th>fnHover</th>\n",
       "      <th>upClick</th>\n",
       "    </tr>\n",
       "    <tr>\n",
       "      <th>date</th>\n",
       "      <th></th>\n",
       "      <th></th>\n",
       "      <th></th>\n",
       "      <th></th>\n",
       "    </tr>\n",
       "  </thead>\n",
       "  <tbody>\n",
       "    <tr>\n",
       "      <th>2018-6-29</th>\n",
       "      <td>1380519</td>\n",
       "      <td>605630</td>\n",
       "      <td>910759</td>\n",
       "      <td>15827</td>\n",
       "    </tr>\n",
       "    <tr>\n",
       "      <th>2018-6-30</th>\n",
       "      <td>1175350</td>\n",
       "      <td>601558</td>\n",
       "      <td>719262</td>\n",
       "      <td>13258</td>\n",
       "    </tr>\n",
       "    <tr>\n",
       "      <th>2018-7-1</th>\n",
       "      <td>1292761</td>\n",
       "      <td>670059</td>\n",
       "      <td>781459</td>\n",
       "      <td>14333</td>\n",
       "    </tr>\n",
       "    <tr>\n",
       "      <th>2018-7-2</th>\n",
       "      <td>1506291</td>\n",
       "      <td>679810</td>\n",
       "      <td>1015227</td>\n",
       "      <td>17070</td>\n",
       "    </tr>\n",
       "    <tr>\n",
       "      <th>2018-7-3</th>\n",
       "      <td>1478117</td>\n",
       "      <td>658199</td>\n",
       "      <td>1008359</td>\n",
       "      <td>15638</td>\n",
       "    </tr>\n",
       "    <tr>\n",
       "      <th>2018-7-4</th>\n",
       "      <td>1396452</td>\n",
       "      <td>660584</td>\n",
       "      <td>939012</td>\n",
       "      <td>19189</td>\n",
       "    </tr>\n",
       "    <tr>\n",
       "      <th>2018-7-5</th>\n",
       "      <td>1473157</td>\n",
       "      <td>663406</td>\n",
       "      <td>1011750</td>\n",
       "      <td>21592</td>\n",
       "    </tr>\n",
       "    <tr>\n",
       "      <th>2018-7-6</th>\n",
       "      <td>1380359</td>\n",
       "      <td>643564</td>\n",
       "      <td>941362</td>\n",
       "      <td>15256</td>\n",
       "    </tr>\n",
       "    <tr>\n",
       "      <th>2018-7-7</th>\n",
       "      <td>1216492</td>\n",
       "      <td>641226</td>\n",
       "      <td>732253</td>\n",
       "      <td>13514</td>\n",
       "    </tr>\n",
       "    <tr>\n",
       "      <th>2018-7-8</th>\n",
       "      <td>1341800</td>\n",
       "      <td>692416</td>\n",
       "      <td>810890</td>\n",
       "      <td>15000</td>\n",
       "    </tr>\n",
       "  </tbody>\n",
       "</table>\n",
       "</div>"
      ],
      "text/plain": [
       "action     extClick  fnClick  fnHover  upClick\n",
       "date                                          \n",
       "2018-6-29   1380519   605630   910759    15827\n",
       "2018-6-30   1175350   601558   719262    13258\n",
       "2018-7-1    1292761   670059   781459    14333\n",
       "2018-7-2    1506291   679810  1015227    17070\n",
       "2018-7-3    1478117   658199  1008359    15638\n",
       "2018-7-4    1396452   660584   939012    19189\n",
       "2018-7-5    1473157   663406  1011750    21592\n",
       "2018-7-6    1380359   643564   941362    15256\n",
       "2018-7-7    1216492   641226   732253    13514\n",
       "2018-7-8    1341800   692416   810890    15000"
      ]
     },
     "execution_count": 6,
     "metadata": {},
     "output_type": "execute_result"
    }
   ],
   "source": [
    "events.pivot(index='date', columns='action', values='count')"
   ]
  },
  {
   "cell_type": "markdown",
   "metadata": {},
   "source": [
    "---"
   ]
  },
  {
   "cell_type": "markdown",
   "metadata": {},
   "source": [
    "# Get number of references per page\n",
    "\n",
    "https://meta.wikimedia.org/wiki/Research:Characterizing_Wikipedia_Citation_Usage/First_Round_of_Analysis#Dimensions_of_Analysis\n",
    "\n",
    "In this case we use the public XML dump and we count the number of tag of type ```<ref>```\n",
    "\n",
    "Example of reference:\n",
    "```html\n",
    "<ref>{{cite web| url=http://geonames.nga.mil/ggmagaz/geonames4.asp \n",
    "    |title=NGA GeoName Database |publisher=[[National Geospatial Intelligence Agency]] \n",
    "    |accessdate=2008-07-05 \n",
    "    |archiveurl = https://web.archive.org/web/20080608190852/http://geonames.nga.mil/ggmagaz/geonames4.asp \n",
    "    <!-- Bot retrieved archive --> |archivedate = 2008-06-08}}</ref>\n",
    "```\n"
   ]
  },
  {
   "cell_type": "code",
   "execution_count": 8,
   "metadata": {},
   "outputs": [
    {
     "name": "stdout",
     "output_type": "stream",
     "text": [
      "+---+----------+\n",
      "| id|refs_count|\n",
      "+---+----------+\n",
      "| 12|       311|\n",
      "| 25|       235|\n",
      "| 39|        46|\n",
      "|290|        20|\n",
      "|303|       240|\n",
      "|305|        83|\n",
      "|307|       391|\n",
      "|308|       150|\n",
      "|309|        21|\n",
      "|316|        29|\n",
      "|324|       112|\n",
      "|330|         6|\n",
      "|332|        11|\n",
      "|334|        12|\n",
      "|336|        60|\n",
      "|339|       214|\n",
      "|340|         4|\n",
      "|344|         7|\n",
      "|358|       156|\n",
      "|359|         7|\n",
      "+---+----------+\n",
      "only showing top 20 rows\n",
      "\n"
     ]
    }
   ],
   "source": [
    "# WIKIPEDIA_XML_DUMP = 'enwiki-20180801-pages-articles-multistream.xml.bz2'\n",
    "WIKIPEDIA_XML_DUMP = 'enwiki-20180801-pages-articles-multistream.xml.bz2'\n",
    "\n",
    "wikipedia = sqlContext.read.format('com.databricks.spark.xml')\\\n",
    "   .options(rowTag='page').load(WIKIPEDIA_XML_DUMP)\n",
    "\n",
    "ref_regex = re.compile(r'<ref[^>]*[^\\/]>|<ref[ ]*>')\n",
    "\n",
    "def get_refs_count(entity):\n",
    "    text = entity.revision.text._VALUE\n",
    "    refs = ref_regex.findall(text)\n",
    "    return Row(id=entity.id, refs_count=len(refs))\n",
    "\n",
    "articles = wikipedia.filter(\"ns = '0'\").filter(\"redirect._title is null\") \\\n",
    "    .filter(\"revision.text._VALUE is not null\") \\\n",
    "    .filter(\"length(revision.text._VALUE) > 0\")\n",
    "\n",
    "references_count = sqlContext.createDataFrame(articles.rdd.map(get_refs_count))\n",
    "references_count.show()"
   ]
  },
  {
   "cell_type": "code",
   "execution_count": 9,
   "metadata": {},
   "outputs": [
    {
     "name": "stdout",
     "output_type": "stream",
     "text": [
      "Number of articles with #references > 0: 4310594\n"
     ]
    }
   ],
   "source": [
    "non_zero = references_count.select(\"id\").where(\"refs_count > 0\").distinct().count()\n",
    "\n",
    "print(\"Number of articles with #references > 0: \" + str(non_zero))"
   ]
  },
  {
   "cell_type": "code",
   "execution_count": 10,
   "metadata": {},
   "outputs": [
    {
     "data": {
      "text/html": [
       "<div>\n",
       "<table border=\"1\" class=\"dataframe\">\n",
       "  <thead>\n",
       "    <tr style=\"text-align: right;\">\n",
       "      <th></th>\n",
       "      <th>refs_count</th>\n",
       "      <th>total</th>\n",
       "    </tr>\n",
       "  </thead>\n",
       "  <tbody>\n",
       "    <tr>\n",
       "      <th>0</th>\n",
       "      <td>26</td>\n",
       "      <td>12939</td>\n",
       "    </tr>\n",
       "    <tr>\n",
       "      <th>1</th>\n",
       "      <td>29</td>\n",
       "      <td>10210</td>\n",
       "    </tr>\n",
       "    <tr>\n",
       "      <th>2</th>\n",
       "      <td>474</td>\n",
       "      <td>5</td>\n",
       "    </tr>\n",
       "    <tr>\n",
       "      <th>3</th>\n",
       "      <td>65</td>\n",
       "      <td>1576</td>\n",
       "    </tr>\n",
       "    <tr>\n",
       "      <th>4</th>\n",
       "      <td>191</td>\n",
       "      <td>84</td>\n",
       "    </tr>\n",
       "  </tbody>\n",
       "</table>\n",
       "</div>"
      ],
      "text/plain": [
       "   refs_count  total\n",
       "0          26  12939\n",
       "1          29  10210\n",
       "2         474      5\n",
       "3          65   1576\n",
       "4         191     84"
      ]
     },
     "execution_count": 10,
     "metadata": {},
     "output_type": "execute_result"
    }
   ],
   "source": [
    "import pyspark.sql.functions as sf\n",
    "\n",
    "refs_distribution = references_count\\\n",
    "                    .groupby('refs_count')\\\n",
    "                    .agg(sf.count('*').alias('total'))\\\n",
    "                    .toPandas()\n",
    "\n",
    "refs_distribution.head()"
   ]
  },
  {
   "cell_type": "code",
   "execution_count": 11,
   "metadata": {},
   "outputs": [],
   "source": [
    "all_refs_count = references_count.select('refs_count').toPandas()"
   ]
  },
  {
   "cell_type": "code",
   "execution_count": 12,
   "metadata": {},
   "outputs": [
    {
     "data": {
      "text/plain": [
       "<matplotlib.axes._subplots.AxesSubplot at 0x7f54cdec2748>"
      ]
     },
     "execution_count": 12,
     "metadata": {},
     "output_type": "execute_result"
    },
    {
     "data": {
      "image/png": "[encoded data removed]",
      "text/plain": [
       "<matplotlib.figure.Figure at 0x7f54cdd2b1d0>"
      ]
     },
     "metadata": {},
     "output_type": "display_data"
    }
   ],
   "source": [
    "all_refs_count.plot(kind=\"hist\", bins=100, log=True, figsize=(12,7), title=\"Distribution of number of references\")"
   ]
  },
  {
   "cell_type": "markdown",
   "metadata": {},
   "source": [
    "---"
   ]
  },
  {
   "cell_type": "markdown",
   "metadata": {},
   "source": [
    "# Top domains in the references"
   ]
  },
  {
   "cell_type": "code",
   "execution_count": 14,
   "metadata": {},
   "outputs": [],
   "source": [
    "WIKIPEDIA_XML_DUMP = 'enwiki-20180801-pages-articles-multistream.xml.bz2'\n",
    "\n",
    "wikipedia = sqlContext.read.format('com.databricks.spark.xml')\\\n",
    "   .options(rowTag='page').load(WIKIPEDIA_XML_DUMP)\n",
    "\n",
    "ref_regex = re.compile(r'(<ref[^>]*[^/]>|<ref[ ]*>){{([^<]*)}}</ref')\n",
    "\n",
    "def get_refs_info(entity):\n",
    "    text = entity.revision.text._VALUE\n",
    "    text = re.sub(\"(<!--.*?-->)\", \"\", text, flags=re.MULTILINE) # remove comments\n",
    "    refs = ref_regex.findall(text)\n",
    "    result = []\n",
    "    for r in refs:\n",
    "        ref_content = r[1].split(r\"|\")\n",
    "        template = ref_content.pop(0).strip()\n",
    "        properties = {}\n",
    "        for p in ref_content:\n",
    "            eq_index = p.find(\"=\")\n",
    "            p_name = p[0:eq_index].strip()\n",
    "            p_value = p[eq_index+1:].strip()\n",
    "            properties[p_name] = p_value\n",
    "        result.append(Row(id=entity.id, \n",
    "                          template=template.lower(), \n",
    "                          template_original=template, \n",
    "                          url=properties.get(\"url\", \"\"), \n",
    "                          title=properties.get(\"title\")))\n",
    "    return result\n",
    "\n",
    "\n",
    "articles = wikipedia.filter(\"ns = '0'\").filter(\"redirect._title is null\") \\\n",
    "    .filter(\"revision.text._VALUE is not null\") \\\n",
    "    .filter(\"length(revision.text._VALUE) > 0\")\n",
    "\n",
    "references_rrd = articles.rdd.flatMap(get_refs_info)\n",
    "\n",
    "references = sqlContext.createDataFrame(references_rrd)"
   ]
  },
  {
   "cell_type": "code",
   "execution_count": 16,
   "metadata": {},
   "outputs": [
    {
     "name": "stdout",
     "output_type": "stream",
     "text": [
      "+---+------------+-----------------+--------------------+--------------------+\n",
      "| id|    template|template_original|               title|                 url|\n",
      "+---+------------+-----------------+--------------------+--------------------+\n",
      "| 12|    cite web|         cite web|      IAF principles|http://www.iaf-if...|\n",
      "| 12|cite journal|     cite journal|The Dictionary of...|http://www.britan...|\n",
      "| 12|   cite book|        cite book|The Individualist...|                    |\n",
      "| 12|cite journal|     cite journal|Book Fair Unites ...|                    |\n",
      "| 12|   cite book|        cite book|[[Demanding the I...|                    |\n",
      "| 12|   cite book|        cite book|A Companion to Co...|                    |\n",
      "| 12|   cite book|        cite book|The Anarchist Tra...|                    |\n",
      "| 12| cite eb1911|      cite EB1911|                null|                    |\n",
      "| 12|         lsj|              LSJ|                null|                    |\n",
      "| 12|         lsj|              LSJ|                null|                    |\n",
      "| 12|         lsj|              LSJ|                null|                    |\n",
      "| 12|         lsj|              LSJ|                null|                    |\n",
      "| 12|   cite book|        cite book|Dictionnaire des ...|                    |\n",
      "| 12|   cite book|        cite book|      The Anarchists|                    |\n",
      "| 12|   cite book|        cite book|A Short History o...|                    |\n",
      "| 12|   cite book|        cite book|Libertarian anarc...|http://www.libert...|\n",
      "| 12|    cite web|         cite web|         Mises Daily|https://mises.org...|\n",
      "| 12|    cite web|         cite web|Anarchism: A Docu...|http://robertgrah...|\n",
      "| 12|    cite web|         cite web|Concepts of the r...|https://www.mises...|\n",
      "| 12|    cite iep|         cite IEP|                null|                    |\n",
      "+---+------------+-----------------+--------------------+--------------------+\n",
      "only showing top 20 rows\n",
      "\n"
     ]
    }
   ],
   "source": [
    "references.show()"
   ]
  },
  {
   "cell_type": "code",
   "execution_count": 17,
   "metadata": {},
   "outputs": [
    {
     "data": {
      "text/plain": [
       "[('books.google.com', 639179),\n",
       " ('www.nytimes.com', 218270),\n",
       " ('www.bbc.co.uk', 185723),\n",
       " ('news.bbc.co.uk', 165430),\n",
       " ('www.theguardian.com', 147452),\n",
       " ('www.youtube.com', 113990),\n",
       " ('news.google.com', 113790),\n",
       " ('www.billboard.com', 110748),\n",
       " ('www.census.gov', 108408),\n",
       " ('www.allmusic.com', 80184),\n",
       " ('www.telegraph.co.uk', 69798),\n",
       " ('www.sports-reference.com', 68497),\n",
       " ('nla.gov.au', 64583),\n",
       " ('factfinder2.census.gov', 64231),\n",
       " ('www.washingtonpost.com', 62421),\n",
       " ('www.newspapers.com', 56812),\n",
       " ('archive.org', 53987),\n",
       " ('www.imdb.com', 53202),\n",
       " ('tvbythenumbers.zap2it.com', 52495),\n",
       " ('itunes.apple.com', 52056),\n",
       " ('www.stat.gov.pl', 51673),\n",
       " ('www.independent.co.uk', 50098),\n",
       " ('www.espncricinfo.com', 48202),\n",
       " ('www.baseball-reference.com', 47016),\n",
       " ('articles.latimes.com', 40668),\n",
       " ('timesofindia.indiatimes.com', 39589),\n",
       " ('cricketarchive.com', 38662),\n",
       " ('www.hollywoodreporter.com', 37531),\n",
       " ('variety.com', 36739),\n",
       " ('www.discogs.com', 36008)]"
      ]
     },
     "execution_count": 17,
     "metadata": {},
     "output_type": "execute_result"
    }
   ],
   "source": [
    "from urllib.parse import urlparse\n",
    "\n",
    "def get_domain(row):\n",
    "    try:\n",
    "        parsed_uri = urlparse(row['url'])\n",
    "        return ('{uri.netloc}'.format(uri=parsed_uri), 1)\n",
    "    except:\n",
    "        return None\n",
    "    \n",
    "mapped_domains = references.where(\"length(url)>0\").rdd.map(get_domain).filter(lambda row: row is not None)\n",
    "domains_count = mapped_domains.reduceByKey(lambda a,b: a+b).filter(lambda r: len(r[0])>0).sortBy(lambda r: -r[1])\n",
    "domains_count.take(30)"
   ]
  },
  {
   "cell_type": "markdown",
   "metadata": {},
   "source": [
    "Total number of links:"
   ]
  },
  {
   "cell_type": "code",
   "execution_count": 18,
   "metadata": {},
   "outputs": [
    {
     "data": {
      "text/plain": [
       "18908198"
      ]
     },
     "execution_count": 18,
     "metadata": {},
     "output_type": "execute_result"
    }
   ],
   "source": [
    "from operator import add\n",
    "domains_count.map(lambda r: r[1]).reduce(add)"
   ]
  },
  {
   "cell_type": "code",
   "execution_count": 19,
   "metadata": {},
   "outputs": [
    {
     "name": "stdout",
     "output_type": "stream",
     "text": [
      "+------+--------------------+--------------------+\n",
      "| count|              domain|                perc|\n",
      "+------+--------------------+--------------------+\n",
      "|639179|    books.google.com| 0.03380433185647834|\n",
      "|218270|     www.nytimes.com|0.011543670105421998|\n",
      "|185723|       www.bbc.co.uk|0.009822353245930681|\n",
      "|165430|      news.bbc.co.uk|0.008749115066385491|\n",
      "|147452| www.theguardian.com|0.007798310552914667|\n",
      "|113990|     www.youtube.com|0.006028601985234129|\n",
      "|113790|     news.google.com|0.006018024562679...|\n",
      "|110748|   www.billboard.com|0.005857141965617242|\n",
      "|108408|      www.census.gov|0.005733386121723498|\n",
      "| 80184|    www.allmusic.com|0.004240700250758956|\n",
      "| 69798| www.telegraph.co.uk|0.003691414697476724|\n",
      "| 68497|www.sports-refere...|0.003622608563756...|\n",
      "| 64583|          nla.gov.au|0.003415608404354...|\n",
      "| 64231|factfinder2.censu...|0.003396992140657719|\n",
      "| 62421|www.washingtonpos...| 0.00330126646653478|\n",
      "| 56812|  www.newspapers.com|0.003004622650979221|\n",
      "| 53987|         archive.org|0.002855216557389...|\n",
      "| 53202|        www.imdb.com|0.002813700173861...|\n",
      "| 52495|tvbythenumbers.za...|0.002776308985129096|\n",
      "| 52056|    itunes.apple.com|0.002753091542620825|\n",
      "+------+--------------------+--------------------+\n",
      "only showing top 20 rows\n",
      "\n"
     ]
    }
   ],
   "source": [
    "def to_row(rdd):\n",
    "    return Row(domain=rdd[0], count=rdd[1], perc=rdd[1]/18908198)\n",
    "\n",
    "domains_distribution = sqlContext.createDataFrame(domains_count.map(to_row)).sort(\"count\", ascending=False)\n",
    "domains_distribution.show()"
   ]
  },
  {
   "cell_type": "code",
   "execution_count": 20,
   "metadata": {},
   "outputs": [],
   "source": [
    "dd = domains_distribution.toPandas()"
   ]
  },
  {
   "cell_type": "code",
   "execution_count": 21,
   "metadata": {},
   "outputs": [
    {
     "data": {
      "text/plain": [
       "<matplotlib.axes._subplots.AxesSubplot at 0x7f54723116a0>"
      ]
     },
     "execution_count": 21,
     "metadata": {},
     "output_type": "execute_result"
    },
    {
     "data": {
      "image/png": "[encoded data removed]",
      "text/plain": [
       "<matplotlib.figure.Figure at 0x7f54856eaf28>"
      ]
     },
     "metadata": {},
     "output_type": "display_data"
    }
   ],
   "source": [
    "dd.head(15).plot(kind='bar',\n",
    "                  x='domain',\n",
    "                  y='perc',\n",
    "                  figsize=(12,7))"
   ]
  },
  {
   "cell_type": "markdown",
   "metadata": {},
   "source": [
    "---"
   ]
  },
  {
   "cell_type": "markdown",
   "metadata": {},
   "source": [
    "# Get the pageviews by page\n",
    "\n",
    "In this preliminary analysis, we use the table 'webrequest' to get the number of times a page is loaded and to evaluate the click rate. In the next data collection, we will have a 'page-load' event.\n",
    "\n",
    "Get the pageviews by day (step 1) and aggregate (step 2)."
   ]
  },
  {
   "cell_type": "code",
   "execution_count": 25,
   "metadata": {},
   "outputs": [],
   "source": [
    "# User must be NOT loggedIn, not a bot and the view must be in the English version of Wikipedia\n",
    "# The views are aggregated by page, country, and access method\n",
    "\n",
    "start_date = date(2018, 6, 29)\n",
    "end_date = date(2018, 7, 9)\n",
    "\n",
    "# step 1\n",
    "links_query = \"\"\"\n",
    "select page_id, geocoded_data.continent, geocoded_data.country_code, access_method, count(*) as pageviews\n",
    "from wmf.webrequest \n",
    "where day = {}\n",
    "AND month = {}\n",
    "AND year = {}\n",
    "AND x_analytics_map['loggedIn'] is NULL\n",
    "AND namespace_id = 0\n",
    "AND agent_type = 'user'\n",
    "AND is_pageview = TRUE\n",
    "AND (uri_host = 'en.wikipedia.org' OR uri_host = 'en.m.wikipedia.org')\n",
    "AND access_method <> 'mobile app'\n",
    "group by page_id, geocoded_data.continent, geocoded_data.country_code, access_method\n",
    "\"\"\"\n",
    "\n",
    "pageviews = sc.emptyRDD()\n",
    "for d in daterange(start_date, end_date):\n",
    "    views_info = spark.sql(links_query.format(d.day, d.month, d.year))\n",
    "    pageviews = pageviews.union(views_info.rdd)\n",
    "\n",
    "\n",
    "# Convert the access_method string to be consistent with the events table\n",
    "def convert_name(row):\n",
    "    mode = 'desktop'\n",
    "    if row['access_method'].startswith('mobile'):\n",
    "        mode = 'mobile'\n",
    "    return Row(page_id=row['page_id'], \n",
    "               continent=row['continent'], \n",
    "               country_code=row['country_code'], \n",
    "               access_method=mode,\n",
    "               pageviews=row['pageviews']\n",
    "              )\n",
    "\n",
    "\n",
    "views_info_daily = sqlContext.createDataFrame(pageviews.map(convert_name).filter(lambda row: row is not None))\n",
    "views_info_daily.registerTempTable(\"views_info_daily\")\n",
    "\n",
    "# step 2\n",
    "aggregate_query = \"\"\"\n",
    "select page_id, continent, country_code, access_method, sum(pageviews) as pageviews\n",
    "from views_info_daily\n",
    "group by page_id, continent, country_code, access_method\n",
    "\"\"\"\n",
    "\n",
    "views_info = spark.sql(aggregate_query).cache()\n"
   ]
  },
  {
   "cell_type": "markdown",
   "metadata": {},
   "source": [
    "# Count the number of visit with at least 1 extClick events\n"
   ]
  },
  {
   "cell_type": "code",
   "execution_count": null,
   "metadata": {},
   "outputs": [],
   "source": [
    "start_date = date(2018, 6, 29)\n",
    "end_date = date(2018, 7, 9)\n",
    "\n",
    "# step 1\n",
    "events_query = \"\"\"\n",
    "select event.page_id, geocoded_data.continent, geocoded_data.country_code, \n",
    "        event.mode, count(distinct(event.session_token)) total \n",
    "from event.citationusage\n",
    "where wiki = 'enwiki'\n",
    "AND day = {}\n",
    "AND month = {}\n",
    "AND year = {}\n",
    "AND useragent.is_bot = FALSE\n",
    "and event.in_infobox = FALSE\n",
    "and event.footnote_number IS NOT NULL\n",
    "and event.action = 'extClick'\n",
    "group by event.page_id, geocoded_data.continent, geocoded_data.country_code, event.mode\n",
    "\"\"\"\n",
    "\n",
    "events_rdd = sc.emptyRDD()\n",
    "for d in daterange(start_date, end_date):\n",
    "    daily_events = spark.sql(events_query.format(d.day, d.month, d.year))\n",
    "    events_rdd = events_rdd.union(daily_events.rdd)\n",
    "\n",
    "events_merged = sqlContext.createDataFrame(events_rdd)\n",
    "events_merged.registerTempTable(\"events_merged\")\n",
    "\n",
    "# step 2\n",
    "aggregate_query = \"\"\"\n",
    "select page_id, continent, country_code, mode, sum(total) extClick_count\n",
    "from events_merged\n",
    "group by page_id, continent, country_code, mode\n",
    "\"\"\"\n",
    "\n",
    "clicks_count = spark.sql(aggregate_query)"
   ]
  },
  {
   "cell_type": "markdown",
   "metadata": {},
   "source": [
    "# Get the click rate\n",
    "\n",
    "Step 1: Filter out all the articles that do NOT contain any reference."
   ]
  },
  {
   "cell_type": "code",
   "execution_count": 29,
   "metadata": {},
   "outputs": [
    {
     "name": "stdout",
     "output_type": "stream",
     "text": [
      "+-------+-------------+------------+-------------+---------+----------+\n",
      "|page_id|    continent|country_code|access_method|pageviews|refs_count|\n",
      "+-------+-------------+------------+-------------+---------+----------+\n",
      "|   1677|         Asia|          PK|      desktop|       10|        40|\n",
      "|   1677|      Oceania|          AU|       mobile|      177|        40|\n",
      "|   1677|         Asia|          SA|      desktop|       15|        40|\n",
      "|   1677|         Asia|          AE|      desktop|        8|        40|\n",
      "|   1677|       Europe|          --|       mobile|        4|        40|\n",
      "|   1677|       Africa|          GH|       mobile|        2|        40|\n",
      "|   1677|       Africa|          TN|       mobile|        2|        40|\n",
      "|   1677|       Europe|          SI|       mobile|       14|        40|\n",
      "|   1677|North America|          BM|       mobile|        1|        40|\n",
      "|   1677|         Asia|          IN|       mobile|      195|        40|\n",
      "|   1677|North America|          TT|       mobile|        4|        40|\n",
      "|   1677|       Europe|          LT|      desktop|        7|        40|\n",
      "|   1677|       Europe|          PL|       mobile|       29|        40|\n",
      "|   1677|       Africa|          ZA|       mobile|       50|        40|\n",
      "|   1677|         Asia|          LB|      desktop|        1|        40|\n",
      "|   1677|         Asia|          ID|       mobile|      138|        40|\n",
      "|   1677|       Europe|          GB|       mobile|      813|        40|\n",
      "|   1677|       Europe|          BG|      desktop|       20|        40|\n",
      "|   1677|         Asia|          SY|       mobile|        2|        40|\n",
      "|   1677|       Europe|          SI|      desktop|       22|        40|\n",
      "+-------+-------------+------------+-------------+---------+----------+\n",
      "only showing top 20 rows\n",
      "\n"
     ]
    }
   ],
   "source": [
    "views_info.registerTempTable('views_info')\n",
    "references_count.registerTempTable('references_count')\n",
    "\n",
    "# join to filter out the pages without references\n",
    "pages_with_refs_sql = \"\"\"\n",
    "select vi.*, rc.refs_count\n",
    "from views_info vi\n",
    "join references_count rc\n",
    "on vi.page_id = rc.id\n",
    "where rc.refs_count > 0\n",
    "\"\"\"\n",
    "\n",
    "pages_with_refs = spark.sql(pages_with_refs_sql)\n",
    "pages_with_refs.cache().show()"
   ]
  },
  {
   "cell_type": "markdown",
   "metadata": {},
   "source": [
    "Step 2: join with the external clicks count. Left join, set 0 clicks when there are no events."
   ]
  },
  {
   "cell_type": "code",
   "execution_count": 31,
   "metadata": {},
   "outputs": [
    {
     "name": "stdout",
     "output_type": "stream",
     "text": [
      "+-------+-------------+------------+-------------+---------+----------+--------------+---------+\n",
      "|page_id|    continent|country_code|access_method|pageviews|refs_count|extClick_count|clickrate|\n",
      "+-------+-------------+------------+-------------+---------+----------+--------------+---------+\n",
      "|     25|       Europe|          CZ|   mobile web|        1|       235|             0|      0.0|\n",
      "|     25|       Europe|          FR|      desktop|       18|       235|             0|      0.0|\n",
      "|     39|       Europe|          PL|      desktop|        2|        46|             0|      0.0|\n",
      "|    303|       Africa|          ZA|   mobile web|       16|       240|             0|      0.0|\n",
      "|    305|         Asia|          IL|      desktop|        5|        83|             0|      0.0|\n",
      "|    307|      Oceania|          NZ|      desktop|       18|       391|             0|      0.0|\n",
      "|    308|       Europe|          BG|      desktop|        4|       150|             0|      0.0|\n",
      "|    339|       Europe|          PL|   mobile web|        7|       214|             0|      0.0|\n",
      "|    358|       Europe|          NO|      desktop|       13|       156|             0|      0.0|\n",
      "|    358|South America|          CL|      desktop|        7|       156|             0|      0.0|\n",
      "|    569|South America|          AR|      desktop|        4|       103|             0|      0.0|\n",
      "|    573|South America|          EC|      desktop|        2|       113|             1|      0.5|\n",
      "|    586|         Asia|          IL|   mobile web|        1|        55|             0|      0.0|\n",
      "|    594|       Africa|          CI|      desktop|        1|       214|             0|      0.0|\n",
      "|    597|         Asia|          SA|   mobile web|        1|        34|             0|      0.0|\n",
      "|    597|North America|          CA|   mobile web|       14|        34|             0|      0.0|\n",
      "|    600|       Europe|          NL|   mobile web|       22|        95|             0|      0.0|\n",
      "|    612|         Asia|          LA|   mobile web|        2|         3|             0|      0.0|\n",
      "|    620|         Asia|          VN|      desktop|        1|       100|             0|      0.0|\n",
      "|    621|         Asia|          NP|   mobile web|        9|       124|             0|      0.0|\n",
      "+-------+-------------+------------+-------------+---------+----------+--------------+---------+\n",
      "only showing top 20 rows\n",
      "\n"
     ]
    }
   ],
   "source": [
    "clicks_count.registerTempTable('clicks_count')\n",
    "pages_with_refs.registerTempTable('pages_with_refs')\n",
    "\n",
    "\n",
    "pages_with_refs_sql = \"\"\"\n",
    "select pr.*,\n",
    "    CASE WHEN ce.extClick_count is NULL THEN 0 ELSE extClick_count END AS extClick_count\n",
    "from pages_with_refs pr\n",
    "left join clicks_count ce\n",
    "on pr.page_id = ce.page_id\n",
    "and pr.continent = ce.continent\n",
    "and pr.country_code = ce.country_code\n",
    "and pr.access_method = ce.mode\n",
    "\"\"\"\n",
    "\n",
    "all_info = spark.sql(pages_with_refs_sql)\n",
    "\n",
    "all_info.registerTempTable('all_info')\n",
    "with_ratio_sql = \"\"\"\n",
    "select *, extClick_count / pageviews as clickrate\n",
    "from all_info\n",
    "\"\"\"\n",
    "\n",
    "all_info = spark.sql(with_ratio_sql)\n",
    "all_info.cache().show()"
   ]
  },
  {
   "cell_type": "markdown",
   "metadata": {},
   "source": [
    "Get pages with events:"
   ]
  },
  {
   "cell_type": "code",
   "execution_count": 35,
   "metadata": {},
   "outputs": [
    {
     "data": {
      "text/plain": [
       "888103"
      ]
     },
     "execution_count": 35,
     "metadata": {},
     "output_type": "execute_result"
    }
   ],
   "source": [
    "all_info.where('extClick_count>0').count()"
   ]
  },
  {
   "cell_type": "markdown",
   "metadata": {},
   "source": [
    "### Get click rate by country "
   ]
  },
  {
   "cell_type": "code",
   "execution_count": 36,
   "metadata": {},
   "outputs": [],
   "source": [
    "all_info.registerTempTable('all_info')\n",
    "\n",
    "avg_by_country = \"\"\"\n",
    "select country_code, access_method, avg(clickrate) clickrate_avg, count(*) count, sum(pageviews) total_views\n",
    "from all_info\n",
    "group by country_code, access_method\n",
    "sort by clickrate_avg desc\n",
    "\"\"\"\n",
    "\n",
    "clickrate_by_country = spark.sql(avg_by_country)\n"
   ]
  },
  {
   "cell_type": "code",
   "execution_count": 37,
   "metadata": {},
   "outputs": [],
   "source": [
    "cr = clickrate_by_country.toPandas()"
   ]
  },
  {
   "cell_type": "markdown",
   "metadata": {},
   "source": [
    "Remove countries where there are less that 100 views in 1 week:"
   ]
  },
  {
   "cell_type": "code",
   "execution_count": 38,
   "metadata": {},
   "outputs": [],
   "source": [
    "cr = cr[cr.total_views>100].sort_values(by='clickrate_avg', ascending=False)"
   ]
  },
  {
   "cell_type": "markdown",
   "metadata": {},
   "source": [
    "** Top 15 **"
   ]
  },
  {
   "cell_type": "code",
   "execution_count": 39,
   "metadata": {},
   "outputs": [
    {
     "data": {
      "text/plain": [
       "<matplotlib.axes._subplots.AxesSubplot at 0x7f5471ffb198>"
      ]
     },
     "execution_count": 39,
     "metadata": {},
     "output_type": "execute_result"
    },
    {
     "data": {
      "image/png": "[encoded data removed]",
      "text/plain": [
       "<matplotlib.figure.Figure at 0x7f5473e579b0>"
      ]
     },
     "metadata": {},
     "output_type": "display_data"
    }
   ],
   "source": [
    "cr[cr.access_method=='desktop'].head(15).plot(kind='bar', \n",
    "                                              x='country_code', \n",
    "                                              y='clickrate_avg',\n",
    "                                              figsize=(12,7))"
   ]
  },
  {
   "cell_type": "markdown",
   "metadata": {},
   "source": [
    "** Last 15 **"
   ]
  },
  {
   "cell_type": "code",
   "execution_count": 40,
   "metadata": {},
   "outputs": [
    {
     "data": {
      "text/plain": [
       "<matplotlib.axes._subplots.AxesSubplot at 0x7f546fbfd7f0>"
      ]
     },
     "execution_count": 40,
     "metadata": {},
     "output_type": "execute_result"
    },
    {
     "data": {
      "image/png": "[encoded data removed]",
      "text/plain": [
       "<matplotlib.figure.Figure at 0x7f546f8a90b8>"
      ]
     },
     "metadata": {},
     "output_type": "display_data"
    }
   ],
   "source": [
    "cr[cr.access_method=='desktop'].tail(15).plot(kind='bar', \n",
    "                                              x='country_code', \n",
    "                                              y='clickrate_avg',\n",
    "                                              figsize=(12,7))"
   ]
  },
  {
   "cell_type": "markdown",
   "metadata": {},
   "source": [
    "# Domains analysis - extClick events"
   ]
  },
  {
   "cell_type": "code",
   "execution_count": 41,
   "metadata": {},
   "outputs": [
    {
     "name": "stdout",
     "output_type": "stream",
     "text": [
      "+------+--------------------+\n",
      "| count|              domain|\n",
      "+------+--------------------+\n",
      "|223368|     web.archive.org|\n",
      "| 73554|    books.google.com|\n",
      "| 56883|             doi.org|\n",
      "| 56733|     www.nytimes.com|\n",
      "| 47359| www.theguardian.com|\n",
      "| 39602|       www.bbc.co.uk|\n",
      "| 33731|     www.youtube.com|\n",
      "| 32946|    www.allmusic.com|\n",
      "| 32696|www.ncbi.nlm.nih.gov|\n",
      "| 31617|  en.m.wikipedia.org|\n",
      "| 26207| www.telegraph.co.uk|\n",
      "| 23579|timesofindia.indi...|\n",
      "| 23224|      tools.ietf.org|\n",
      "| 22958|www.washingtonpos...|\n",
      "| 22514|      news.bbc.co.uk|\n",
      "| 20771|        www.imdb.com|\n",
      "| 19164|www.independent.c...|\n",
      "| 18930| www.dailymail.co.uk|\n",
      "| 15001|      www.forbes.com|\n",
      "| 14960|     news.google.com|\n",
      "+------+--------------------+\n",
      "only showing top 20 rows\n",
      "\n"
     ]
    }
   ],
   "source": [
    "from urllib.parse import urlparse\n",
    "\n",
    "def get_domain(row):\n",
    "    try:\n",
    "        parsed_uri = urlparse(row['link_url'])\n",
    "        return ('{uri.netloc}'.format(uri=parsed_uri), 1)\n",
    "    except:\n",
    "        return None\n",
    "\n",
    "start_date = date(2018, 6, 29)\n",
    "end_date = date(2018, 7, 9)\n",
    "\n",
    "# step 1\n",
    "events_query = \"\"\"\n",
    "select event.link_url, 1 as count\n",
    "from event.citationusage\n",
    "where wiki = 'enwiki'\n",
    "AND day = {}\n",
    "AND month = {}\n",
    "AND year = {}\n",
    "AND useragent.is_bot = FALSE\n",
    "and event.in_infobox = FALSE\n",
    "and event.footnote_number IS NOT NULL\n",
    "and event.action = 'extClick'\n",
    "\"\"\"\n",
    "\n",
    "links_rdd = sc.emptyRDD()\n",
    "for d in daterange(start_date, end_date):\n",
    "    daily_events = spark.sql(events_query.format(d.day, d.month, d.year))\n",
    "    links_rdd = links_rdd.union(daily_events.rdd)\n",
    "\n",
    "\n",
    "links_rdd = links_rdd.map(get_domain)\\\n",
    "            .filter(lambda row: row is not None)\\\n",
    "            .reduceByKey(lambda a,b: a+b)\\\n",
    "            .filter(lambda r: len(r[0])>0).map(lambda r: Row(domain=r[0], count=r[1]))\n",
    "    \n",
    "links_merged = sqlContext.createDataFrame(links_rdd).sort(\"count\", ascending=False)\n",
    "links_merged.show()"
   ]
  },
  {
   "cell_type": "code",
   "execution_count": 42,
   "metadata": {},
   "outputs": [],
   "source": [
    "click_urls = links_merged.toPandas()"
   ]
  },
  {
   "cell_type": "markdown",
   "metadata": {},
   "source": [
    "** Top 15 **"
   ]
  },
  {
   "cell_type": "code",
   "execution_count": 43,
   "metadata": {},
   "outputs": [
    {
     "data": {
      "text/plain": [
       "<matplotlib.axes._subplots.AxesSubplot at 0x7f546e6d3c88>"
      ]
     },
     "execution_count": 43,
     "metadata": {},
     "output_type": "execute_result"
    },
    {
     "data": {
      "image/png": "[encoded data removed]",
      "text/plain": [
       "<matplotlib.figure.Figure at 0x7f547a40c128>"
      ]
     },
     "metadata": {},
     "output_type": "display_data"
    }
   ],
   "source": [
    "click_urls.head(15).plot(kind='bar', \n",
    "                  x='domain', \n",
    "                  y='count',\n",
    "                  figsize=(12,7))"
   ]
  },
  {
   "cell_type": "code",
   "execution_count": null,
   "metadata": {},
   "outputs": [],
   "source": []
  }
 ],
 "metadata": {
  "kernelspec": {
   "display_name": "Python 3",
   "language": "python",
   "name": "python3"
  },
  "language_info": {
   "codemirror_mode": {
    "name": "ipython",
    "version": 3
   },
   "file_extension": ".py",
   "mimetype": "text/x-python",
   "name": "python",
   "nbconvert_exporter": "python",
   "pygments_lexer": "ipython3",
   "version": "3.6.7"
  }
 },
 "nbformat": 4,
 "nbformat_minor": 2
}
