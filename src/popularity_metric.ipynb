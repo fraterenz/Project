{
 "cells": [
  {
   "cell_type": "code",
   "execution_count": 36,
   "metadata": {},
   "outputs": [],
   "source": [
    "import pyspark\n",
    "import re\n",
    "import pyspark.sql\n",
    "from pyspark.sql import *\n",
    "import pandas as pd\n",
    "import matplotlib.pyplot as plt\n",
    "import hashlib\n",
    "import os.path\n",
    "from pyspark.sql.functions import desc\n",
    "\n",
    "import findspark\n",
    "findspark.init()\n",
    "\n",
    "from pyspark.sql import dataframe\n",
    "from pyspark.sql import functions as F\n",
    "\n",
    "from pyspark.sql import SparkSession\n",
    "from pyspark import SparkContext\n",
    "from pyspark.sql import SQLContext\n",
    "\n",
    "spark = SparkSession.builder.getOrCreate()\n",
    "sc = spark.sparkContext\n",
    "\n",
    "from pyspark.sql import SQLContext\n",
    "sqlContext = SQLContext(sc)\n",
    "\n",
    "%matplotlib inline\n",
    "\n",
    "# import get_ref_info.py\n",
    "import os\n",
    "import sys\n",
    "my_fun = '../src/'\n",
    "if my_fun not in sys.path:\n",
    "    sys.path.append(my_fun)\n",
    "    \n",
    "from get_ref_info import *\n",
    "\n",
    "from operator import add\n",
    "from urllib.parse import urlparse"
   ]
  },
  {
   "cell_type": "markdown",
   "metadata": {},
   "source": [
    "# Loading the data"
   ]
  },
  {
   "cell_type": "code",
   "execution_count": 35,
   "metadata": {},
   "outputs": [
    {
     "name": "stdout",
     "output_type": "stream",
     "text": [
      "+--------+---+------------+--------------------+--------------------+--------------------+---------------+\n",
      "|      id| ns|restrictions|            revision|               title|          categories|good_categories|\n",
      "+--------+---+------------+--------------------+--------------------+--------------------+---------------+\n",
      "| 3441926|  0|        null|[[/* Aftermath */...|Wilmington insurr...|     civilian attack|           true|\n",
      "| 3445146|  0|        null|[[Undid revision ...|  Burr–Hamilton duel|     civilian attack|           true|\n",
      "| 3456700|  0|        null|[, [,,, 64.229.17...|Ardenne Abbey mas...|     civilian attack|           true|\n",
      "| 3457121|  0|        null|[[Removed fortnit...|Murder of John Le...|     civilian attack|           true|\n",
      "| 3465546|  0|        null|[, [,, 1159897,, ...|    Brașov rebellion|     civilian attack|           true|\n",
      "|  814723|  0|        null|[[Dating maintena...| Srebrenica massacre|     civilian attack|           true|\n",
      "|  850105|  0|        null|[[Reverting possi...| Black Tom explosion|     civilian attack|           true|\n",
      "|36947902|  0|        null|[[added [[Categor...|    Annecy shootings|     civilian attack|           true|\n",
      "|36968719|  0|        null|[[Bot: [[User:Kol...|9 September 2012 ...|     civilian attack|           true|\n",
      "|36993148|  0|        null|[, [,, 23607440,,...|Reactions to Inno...|civil conflict, h...|           true|\n",
      "+--------+---+------------+--------------------+--------------------+--------------------+---------------+\n",
      "only showing top 10 rows\n",
      "\n"
     ]
    }
   ],
   "source": [
    "# Loading the data\n",
    "DATA_DIR = '../' \n",
    "WIKIPEDIA_CONFLICTS_PARQUET = DATA_DIR + 'selectedAllConflict.parquet'\n",
    "\n",
    "# loading the saved parquet files\n",
    "wikipedia = spark.read.parquet(WIKIPEDIA_CONFLICTS_PARQUET)\n",
    "wikipedia.show(10)"
   ]
  },
  {
   "cell_type": "markdown",
   "metadata": {},
   "source": [
    "---\n",
    "\n",
    "## [POPULARITY METRIC 1] \n",
    "\n",
    "### Get number of references per page\n",
    "\n",
    "We use our pre-filtered data and we count the number of tag of type ```<ref>```, by parsing all pages to get the number of references. We think that the more *popular* a page is, the more references it will contain.\n",
    "\n",
    "We want to see:\n",
    "* how many references a page has\n",
    "* what does the distribution of the references look like \n",
    "* what are the top domains across these articles \n",
    "* how many articles have a reference to each domain\n",
    "\n",
    "The analysis is based on work from *Research:Characterizing Wikipedia Citation Usage*: [MetaPageQueries](https://meta.wikimedia.org/wiki/Research:Characterizing_Wikipedia_Citation_Usage/First_Round_of_Analysis#Dimensions_of_Analysis)\n",
    "\n",
    "Example of reference format:\n",
    "```html\n",
    "<ref>{{cite web| url=http://geonames.nga.mil/ggmagaz/geonames4.asp \n",
    "    |title=NGA GeoName Database |publisher=[[National Geospatial Intelligence Agency]] \n",
    "    |accessdate=2008-07-05 \n",
    "    |archiveurl = https://web.archive.org/web/20080608190852/http://geonames.nga.mil/ggmagaz/geonames4.asp \n",
    "    <!-- Bot retrieved archive --> |archivedate = 2008-06-08}}</ref>\n",
    "```"
   ]
  },
  {
   "cell_type": "markdown",
   "metadata": {},
   "source": [
    "**quantify the number of references per page**\n",
    "    * using regex expression to find the references in the page\n",
    "    * counting the number of references"
   ]
  },
  {
   "cell_type": "code",
   "execution_count": 17,
   "metadata": {},
   "outputs": [],
   "source": [
    "# quantify the number of references per page\n",
    "\n",
    "# Compile a regular expression pattern into a regular expression object, \n",
    "#which can be used for matching using its findall.\n",
    "just_ref_regex = re.compile(r'<ref[^>]*[^\\/]>|<ref[ ]*>')\n",
    "\n",
    "# find # references <ref> per page \n",
    "def get_refs_count(entity, regex_expression=just_ref_regex ):\n",
    "    # get access to value in text in revision\n",
    "    text = entity.revision.text._VALUE\n",
    "    # find references\n",
    "    refs = just_ref_regex.findall(text)\n",
    "    print(refs)\n",
    "    return Row(id=entity.id, refs_count=len(refs), categories=entity.categories)"
   ]
  },
  {
   "cell_type": "code",
   "execution_count": 18,
   "metadata": {},
   "outputs": [
    {
     "name": "stdout",
     "output_type": "stream",
     "text": [
      "+--------------------+--------+----------+\n",
      "|          categories|      id|refs_count|\n",
      "+--------------------+--------+----------+\n",
      "|     civilian attack| 3177125|       449|\n",
      "|civilian attack, ...|39120733|       386|\n",
      "|     civilian attack| 5058690|       366|\n",
      "|civilian attack, ...|37930067|       366|\n",
      "|     civilian attack|  814723|       351|\n",
      "+--------------------+--------+----------+\n",
      "only showing top 5 rows\n",
      "\n"
     ]
    }
   ],
   "source": [
    "# get the # of references per page\n",
    "# Creates a DataFrame from an RDD, apply counting function with regex expression\n",
    "reference_count_page = sqlContext.createDataFrame(wikipedia.rdd.map(get_refs_count))\n",
    "reference_count_page.sort('refs_count', ascending=False).show(5)\n",
    "reference_count_page_sql = reference_count_page.registerTempTable('reference_count_page_sql')"
   ]
  },
  {
   "cell_type": "code",
   "execution_count": 19,
   "metadata": {},
   "outputs": [
    {
     "name": "stdout",
     "output_type": "stream",
     "text": [
      "Number of articles with #references > 0: 2484\n"
     ]
    }
   ],
   "source": [
    "# quantify the # articles with # ref > 0: \n",
    "non_zero_ref_query = \"\"\"\n",
    "select count(DISTINCT id)\n",
    "from reference_count_page_sql\n",
    "where refs_count > 0\n",
    "\"\"\"\n",
    "non_zero_articles = spark.sql(non_zero_ref_query)\n",
    "\n",
    "non_zero_articles_pd = non_zero_articles.toPandas().iloc[0,0]\n",
    "print(\"Number of articles with #references > 0: \" + str(non_zero_articles_pd))"
   ]
  },
  {
   "cell_type": "markdown",
   "metadata": {},
   "source": [
    "**Distribution of number of references** We bin the number of references to get the number of pages having at least x #references. This is observed with a histogram plot."
   ]
  },
  {
   "cell_type": "code",
   "execution_count": 20,
   "metadata": {},
   "outputs": [
    {
     "data": {
      "image/png": "[encoded data removed]",
      "text/plain": [
       "<Figure size 864x504 with 1 Axes>"
      ]
     },
     "metadata": {
      "needs_background": "light"
     },
     "output_type": "display_data"
    }
   ],
   "source": [
    "just_refs_count = reference_count_page.select('refs_count').toPandas()\n",
    "just_refs_count.plot(kind=\"hist\", bins=100, log=True, figsize=(12,7), title=\"Distribution of number of references\")\n",
    "plt.xlabel('# References')\n",
    "plt.ylabel('Frequency: # Pages having at least x references')\n",
    "plt.show()"
   ]
  },
  {
   "cell_type": "markdown",
   "metadata": {},
   "source": [
    "### Get the domains of references"
   ]
  },
  {
   "cell_type": "code",
   "execution_count": 25,
   "metadata": {},
   "outputs": [
    {
     "name": "stdout",
     "output_type": "stream",
     "text": [
      "+-------+-----------------+--------------------+--------------------+\n",
      "|     id|         template|               title|                 url|\n",
      "+-------+-----------------+--------------------+--------------------+\n",
      "|3441926|    cite magazine|A Buried Coup d'É...|https://www.newyo...|\n",
      "|3441926|        cite news|Race and Politics...|                    |\n",
      "|3441926|cite encyclopedia|Why Whites Riot: ...|https://libres.un...|\n",
      "|3441926|         cite web|When Democracy Di...|https://www.nytim...|\n",
      "|3441926|        cite news|How The Only Coup...|https://www.npr.o...|\n",
      "+-------+-----------------+--------------------+--------------------+\n",
      "only showing top 5 rows\n",
      "\n"
     ]
    }
   ],
   "source": [
    "references_rrd = wikipedia.rdd.flatMap(get_ref_info)\n",
    "references = sqlContext.createDataFrame(references_rrd)\n",
    "references.show(5)"
   ]
  },
  {
   "cell_type": "markdown",
   "metadata": {},
   "source": [
    "**URL parsing** \n",
    "Parse a URL into six components, returning a 6-tuple. This corresponds to the general structure of a URL: scheme://netloc/path;parameters?query#fragment. Each tuple item is a string, possibly empty."
   ]
  },
  {
   "cell_type": "code",
   "execution_count": 37,
   "metadata": {},
   "outputs": [
    {
     "data": {
      "text/plain": [
       "[('www.nytimes.com', 1672),\n",
       " ('www.theguardian.com', 1126),\n",
       " ('books.google.com', 1120),\n",
       " ('www.bbc.co.uk', 879),\n",
       " ('www.cnn.com', 818),\n",
       " ('www.reuters.com', 751),\n",
       " ('www.washingtonpost.com', 722),\n",
       " ('www.bbc.com', 666),\n",
       " ('news.bbc.co.uk', 646),\n",
       " ('www.telegraph.co.uk', 610),\n",
       " ('abcnews.go.com', 466),\n",
       " ('www.cbsnews.com', 408),\n",
       " ('www.independent.co.uk', 404),\n",
       " ('edition.cnn.com', 375),\n",
       " ('www.aljazeera.com', 372),\n",
       " ('www.foxnews.com', 322),\n",
       " ('www.latimes.com', 317),\n",
       " ('www.dawn.com', 289),\n",
       " ('www.usatoday.com', 263),\n",
       " ('www.cbc.ca', 256),\n",
       " ('cain.ulst.ac.uk', 255),\n",
       " ('news.yahoo.com', 252),\n",
       " ('www.nbcnews.com', 249),\n",
       " ('www.haaretz.com', 237),\n",
       " ('www.huffingtonpost.com', 231),\n",
       " ('www.wsj.com', 227),\n",
       " ('timesofindia.indiatimes.com', 221),\n",
       " ('www.jpost.com', 221),\n",
       " ('www.nydailynews.com', 209),\n",
       " ('tribune.com.pk', 209)]"
      ]
     },
     "execution_count": 37,
     "metadata": {},
     "output_type": "execute_result"
    }
   ],
   "source": [
    "def get_domain(row):\n",
    "    # parse url and return for each row (url, 1) where 1 is the occurence of ref = 1 for that page\n",
    "    try:\n",
    "        parsed_uri = urlparse(row['url'])\n",
    "        return ('{uri.netloc}'.format(uri=parsed_uri), 1)\n",
    "    except:\n",
    "        return None\n",
    "\n",
    "mapped_domains = references.where(\"length(url)>0\").rdd.map(get_domain).filter(lambda row: row is not None)\n",
    "# for each domain count how many references there are in total to find top domains\n",
    "domains_count = mapped_domains.reduceByKey(lambda a,b: a+b).filter(lambda r: len(r[0])>0).sortBy(lambda r: -r[1])\n",
    "domains_count.take(30)"
   ]
  },
  {
   "cell_type": "code",
   "execution_count": 39,
   "metadata": {},
   "outputs": [
    {
     "name": "stdout",
     "output_type": "stream",
     "text": [
      "Total number of links: 45034\n"
     ]
    }
   ],
   "source": [
    "# count the number of links\n",
    "number_links = domains_count.map(lambda r: r[1]).reduce(add)\n",
    "print(\"Total number of links: {}\".format(number_links))"
   ]
  },
  {
   "cell_type": "code",
   "execution_count": 43,
   "metadata": {},
   "outputs": [
    {
     "name": "stdout",
     "output_type": "stream",
     "text": [
      "+-----+--------------------+------------------+\n",
      "|count|              domain|              perc|\n",
      "+-----+--------------------+------------------+\n",
      "| 1672|     www.nytimes.com|3.7127503663898387|\n",
      "| 1126| www.theguardian.com| 2.500333081671626|\n",
      "| 1120|    books.google.com|2.4870098148065907|\n",
      "|  879|       www.bbc.co.uk|1.9518585957276724|\n",
      "|  818|         www.cnn.com|1.8164053825998134|\n",
      "|  751|     www.reuters.com|1.6676289026069193|\n",
      "|  722|www.washingtonpos...|1.6032331127592485|\n",
      "|  666|         www.bbc.com| 1.478882622018919|\n",
      "|  646|      news.bbc.co.uk|1.4344717324688014|\n",
      "|  610| www.telegraph.co.uk|1.3545321312785894|\n",
      "|  466|      abcnews.go.com|1.0347737265177421|\n",
      "|  408|     www.cbsnews.com|0.9059821468224009|\n",
      "|  404|www.independent.c...|0.8970999689123773|\n",
      "|  375|     edition.cnn.com|0.8327041790647066|\n",
      "|  372|   www.aljazeera.com| 0.826042545632189|\n",
      "|  322|     www.foxnews.com|0.7150153217568948|\n",
      "|  317|     www.latimes.com|0.7039125993693653|\n",
      "|  289|        www.dawn.com|0.6417373539992006|\n",
      "|  263|    www.usatoday.com|0.5840031975840476|\n",
      "|  256|          www.cbc.ca|0.5684593862415064|\n",
      "+-----+--------------------+------------------+\n",
      "only showing top 20 rows\n",
      "\n"
     ]
    }
   ],
   "source": [
    "def percentage(rdd):\n",
    "    return Row(domain=rdd[0], count=rdd[1], perc=rdd[1]*100/number_links)\n",
    "\n",
    "domains_distribution = sqlContext.createDataFrame(domains_count.map(percentage)).sort(\"count\", ascending=False)\n",
    "domains_distribution.show()"
   ]
  },
  {
   "cell_type": "code",
   "execution_count": null,
   "metadata": {},
   "outputs": [],
   "source": []
  }
 ],
 "metadata": {
  "kernelspec": {
   "display_name": "Python [conda env:ada]",
   "language": "python",
   "name": "conda-env-ada-py"
  },
  "language_info": {
   "codemirror_mode": {
    "name": "ipython",
    "version": 3
   },
   "file_extension": ".py",
   "mimetype": "text/x-python",
   "name": "python",
   "nbconvert_exporter": "python",
   "pygments_lexer": "ipython3",
   "version": "3.6.6"
  }
 },
 "nbformat": 4,
 "nbformat_minor": 2
}
