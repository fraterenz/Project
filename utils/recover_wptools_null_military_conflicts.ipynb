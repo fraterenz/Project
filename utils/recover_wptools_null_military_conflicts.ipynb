{
 "cells": [
  {
   "cell_type": "code",
   "execution_count": 10,
   "metadata": {
    "collapsed": true
   },
   "outputs": [],
   "source": [
    "import findspark\n",
    "findspark.init()\n",
    "\n",
    "import pyspark\n",
    "import pyspark.sql\n",
    "from pyspark.sql import *\n",
    "import os.path\n",
    "from pyspark.sql.functions import desc\n",
    "\n",
    "from pyspark.sql import dataframe\n",
    "from pyspark.sql import functions as F\n",
    "from pyspark.sql.functions import isnan, when, count, col\n",
    "\n",
    "from pyspark.sql import SparkSession\n",
    "from pyspark import SparkContext\n",
    "from pyspark.sql import SQLContext\n",
    "\n",
    "spark = SparkSession.builder.getOrCreate()\n",
    "sc = spark.sparkContext\n",
    "\n",
    "from pyspark.sql import SQLContext\n",
    "sqlContext = SQLContext(sc)\n",
    "\n",
    "from pyspark.sql.types import *\n",
    "\n",
    "import wptools"
   ]
  },
  {
   "cell_type": "code",
   "execution_count": 2,
   "metadata": {
    "collapsed": true
   },
   "outputs": [],
   "source": [
    "DATA_DIR = '../data/data_processed/intermediate/'"
   ]
  },
  {
   "cell_type": "code",
   "execution_count": 3,
   "metadata": {
    "collapsed": true
   },
   "outputs": [],
   "source": [
    "military = spark.read.parquet(DATA_DIR+\"wiki_military_conflict_df.parquet\")"
   ]
  },
  {
   "cell_type": "code",
   "execution_count": 4,
   "metadata": {},
   "outputs": [
    {
     "data": {
      "text/plain": [
       "1815"
      ]
     },
     "execution_count": 4,
     "metadata": {},
     "output_type": "execute_result"
    }
   ],
   "source": [
    "military_null = military.where(((col(\"death\").isNull()) | (F.lower(col(\"death\"))==\"none\")) & (col(\"location\").isNull()) & (col(\"end_date\").isNull()))\n",
    "military_null.count()"
   ]
  },
  {
   "cell_type": "code",
   "execution_count": 5,
   "metadata": {},
   "outputs": [
    {
     "name": "stdout",
     "output_type": "stream",
     "text": [
      "+-----+--------+--------+--------+\n",
      "|death|end_date|      id|location|\n",
      "+-----+--------+--------+--------+\n",
      "| null|    null| 5421507|    null|\n",
      "| null|    null|21845109|    null|\n",
      "| null|    null|   31607|    null|\n",
      "| null|    null|   91609|    null|\n",
      "| null|    null| 2174819|    null|\n",
      "| null|    null| 2138979|    null|\n",
      "| null|    null|30269008|    null|\n",
      "| null|    null| 8221689|    null|\n",
      "| null|    null|23503395|    null|\n",
      "| null|    null|23584843|    null|\n",
      "| null|    null|36605624|    null|\n",
      "| null|    null|30704529|    null|\n",
      "| null|    null| 9131667|    null|\n",
      "| null|    null|22515182|    null|\n",
      "| null|    null|19931370|    null|\n",
      "| null|    null| 1315408|    null|\n",
      "| null|    null|  633952|    null|\n",
      "| null|    null|  830626|    null|\n",
      "| null|    null|  236843|    null|\n",
      "| null|    null|  214155|    null|\n",
      "+-----+--------+--------+--------+\n",
      "only showing top 20 rows\n",
      "\n"
     ]
    }
   ],
   "source": [
    "military_null.show()"
   ]
  },
  {
   "cell_type": "code",
   "execution_count": 13,
   "metadata": {
    "collapsed": true
   },
   "outputs": [],
   "source": [
    "def get_wiki_military_conflict(entity):\n",
    "    page = wptools.page(pageid=entity.id)\n",
    "    # extract relevant information and put in dictionary\n",
    "    info = {'death': None, 'end_date': None, 'location': None}\n",
    "    try:\n",
    "        page.get_parse()\n",
    "    except:\n",
    "        return Row(id=entity.id, death=info['death'],\n",
    "               end_date=info['end_date'], location=info['location'])\n",
    "    \n",
    "    try: \n",
    "        page.get_wikidata()\n",
    "        info['death'] = page.data['wikidata']['number of deaths (P1120)']['amount']\n",
    "    \n",
    "    except:\n",
    "        try:\n",
    "            info['death'] = page.data['infobox']['casualties1']\n",
    "        except:\n",
    "            info['death'] = None\n",
    "            \n",
    "    try:\n",
    "        info['end_date'] = page.data['wikidata']['end time (P582)']\n",
    "    except:\n",
    "        try:\n",
    "            info['end_date'] = page.data['infobox']['date']\n",
    "        except:\n",
    "            info['end_date'] = None\n",
    "    \n",
    "    try:\n",
    "        info['location'] = page.data['wikidata']['location (P276)']\n",
    "    except:\n",
    "        try:\n",
    "            info['location'] = page.data['infobox']['place']\n",
    "        except:\n",
    "            info['location'] = None\n",
    "    \n",
    "    \n",
    "    return Row(id=entity.id, death=info['death'],\n",
    "               end_date=info['end_date'], location=info['location'])"
   ]
  },
  {
   "cell_type": "code",
   "execution_count": 7,
   "metadata": {
    "collapsed": true
   },
   "outputs": [],
   "source": [
    "schema = StructType([StructField('death', StringType()),StructField('end_date', StringType()),\n",
    "                     StructField('id', IntegerType()),StructField('location', StringType())])"
   ]
  },
  {
   "cell_type": "code",
   "execution_count": 8,
   "metadata": {
    "collapsed": true
   },
   "outputs": [],
   "source": [
    "df = military_null.select(\"id\");"
   ]
  },
  {
   "cell_type": "code",
   "execution_count": 14,
   "metadata": {},
   "outputs": [],
   "source": [
    "%%capture\n",
    "wiki_military_conflict_rows = [get_wiki_military_conflict(i) for i in df.collect()];"
   ]
  },
  {
   "cell_type": "code",
   "execution_count": 15,
   "metadata": {},
   "outputs": [
    {
     "name": "stdout",
     "output_type": "stream",
     "text": [
      "root\n",
      " |-- death: string (nullable = true)\n",
      " |-- end_date: string (nullable = true)\n",
      " |-- id: integer (nullable = true)\n",
      " |-- location: string (nullable = true)\n",
      "\n",
      "+-----+--------+--------+--------+\n",
      "|death|end_date|      id|location|\n",
      "+-----+--------+--------+--------+\n",
      "| null|    null| 5421507|    null|\n",
      "| null|    null|21845109|    null|\n",
      "| null|    null|   31607|    null|\n",
      "| null|    null|   91609|    null|\n",
      "| null|    null| 2174819|    null|\n",
      "| null|    null| 2138979|    null|\n",
      "| null|    null|30269008|    null|\n",
      "| null|    null| 8221689|    null|\n",
      "| null|    null|23503395|    null|\n",
      "| null|    null|23584843|    null|\n",
      "| null|    null|36605624|    null|\n",
      "| null|    null|30704529|    null|\n",
      "| null|    null| 9131667|    null|\n",
      "| null|    null|22515182|    null|\n",
      "| null|    null|19931370|    null|\n",
      "| null|    null| 1315408|    null|\n",
      "| null|    null|  633952|    null|\n",
      "| null|    null|  830626|    null|\n",
      "| null|    null|  236843|    null|\n",
      "| null|    null|  214155|    null|\n",
      "+-----+--------+--------+--------+\n",
      "only showing top 20 rows\n",
      "\n"
     ]
    }
   ],
   "source": [
    "wiki_military_attack_df = spark.createDataFrame(wiki_military_conflict_rows, schema)\n",
    "\n",
    "wiki_military_attack_df.printSchema()\n",
    "wiki_military_attack_df.show()"
   ]
  },
  {
   "cell_type": "code",
   "execution_count": 16,
   "metadata": {
    "collapsed": true
   },
   "outputs": [],
   "source": [
    "# saving binary file to future uses\n",
    "wiki_military_attack_df.write.mode('overwrite').parquet(DATA_DIR+\"wiki_military_conflict_null_df.parquet\")"
   ]
  },
  {
   "cell_type": "code",
   "execution_count": 17,
   "metadata": {},
   "outputs": [
    {
     "data": {
      "text/plain": [
       "42"
      ]
     },
     "execution_count": 17,
     "metadata": {},
     "output_type": "execute_result"
    }
   ],
   "source": [
    "military_null_new = wiki_military_attack_df.where(((col(\"death\").isNull()) | (F.lower(col(\"death\"))==\"none\")) & (col(\"location\").isNull()) & (col(\"end_date\").isNull()))\n",
    "military_null_new.count()"
   ]
  },
  {
   "cell_type": "code",
   "execution_count": 19,
   "metadata": {},
   "outputs": [
    {
     "name": "stdout",
     "output_type": "stream",
     "text": [
      "+--------------------+--------------------+--------+--------------------+\n",
      "|               death|            end_date|      id|            location|\n",
      "+--------------------+--------------------+--------+--------------------+\n",
      "|                null|+1154-00-00T00:00...|  100442|[Normandy (Q15878...|\n",
      "|'''U.S.''': 4,538...|25 November&nbsp;...|57869448|         North Korea|\n",
      "|               3,770|+1813-09-08T00:00...|13704630|San Sebastián (Q1...|\n",
      "|4 killed, 10–16 w...|      7 October 2007|13709567|Zhani-Vedeno, [[C...|\n",
      "|6 killed<br>27 wo...|+1882-07-13T00:00...|13716154|    Alexandria (Q87)|\n",
      "|                null|       25 April 1643|13721815|  Dartmoor (Q214823)|\n",
      "|         ~330 killed|+1996-07-25T00:00...|13726970|Mullaitivu (Q507144)|\n",
      "|88 killed<br> 100...|    22–23 April 2000|13727911|Elephant Pass (Q1...|\n",
      "|700 killed<br>1,5...|+1997-06-25T00:00...|13729242|    Sri Lanka (Q854)|\n",
      "|                null|+1966-02-23T00:00...|13731602|        Syria (Q858)|\n",
      "|70 killed<br>175 ...|+2006-12-09T00:00...|13733904|  Vakarai (Q7908969)|\n",
      "|58 dead<br>320 wo...|+1810-08-27T00:00...|13734224|   Almeida (Q617889)|\n",
      "|                null|       June 28, 1575|13735436|Nagashino, [[Mika...|\n",
      "|{{flagicon|United...|+1919-12-01T00:00...|13739620|   Baltic Sea (Q545)|\n",
      "|6,000 ([[Xiang Ar...|+1858-11-18T00:00...|13743516|Sanhe, Feixi Coun...|\n",
      "|Roman claim: 8,00...|       Spring 209 BC|13755150|[Ascoli Satriano ...|\n",
      "|4 killed<br />21 ...|+1941-03-01T00:00...|13757041|     Kufra (Q172114)|\n",
      "|17 killed, 1 boat...|        May 12, 2006|13759569|    Jaffna (Q215277)|\n",
      "|300 + killed<br>8...|+2006-10-29T00:00...|13769741|    Jaffna (Q215277)|\n",
      "|600 killed, <br /...|+1993-11-14T00:00...|13777145| Pooneryn (Q3397860)|\n",
      "+--------------------+--------------------+--------+--------------------+\n",
      "only showing top 20 rows\n",
      "\n"
     ]
    }
   ],
   "source": [
    "military_non_null_new = wiki_military_attack_df.where(~(((col(\"death\").isNull()) | (F.lower(col(\"death\"))==\"none\")) & (col(\"location\").isNull()) & (col(\"end_date\").isNull())))\n",
    "military_non_null_new.show()"
   ]
  },
  {
   "cell_type": "code",
   "execution_count": 20,
   "metadata": {},
   "outputs": [
    {
     "data": {
      "text/plain": [
       "1773"
      ]
     },
     "execution_count": 20,
     "metadata": {},
     "output_type": "execute_result"
    }
   ],
   "source": [
    "military_non_null_new.count()"
   ]
  },
  {
   "cell_type": "code",
   "execution_count": 22,
   "metadata": {},
   "outputs": [
    {
     "data": {
      "text/plain": [
       "1773"
      ]
     },
     "execution_count": 22,
     "metadata": {},
     "output_type": "execute_result"
    }
   ],
   "source": [
    "#check che ci sia tutto\n",
    "check_military = spark.read.parquet(DATA_DIR+\"wiki_military_conflict_null_df.parquet\")\n",
    "check_military.where(~(((col(\"death\").isNull()) | (F.lower(col(\"death\"))==\"none\")) & (col(\"location\").isNull()) & (col(\"end_date\").isNull()))).count()"
   ]
  },
  {
   "cell_type": "markdown",
   "metadata": {},
   "source": [
    "ok"
   ]
  }
 ],
 "metadata": {
  "kernelspec": {
   "display_name": "Python (ada)",
   "language": "python",
   "name": "ada"
  },
  "language_info": {
   "codemirror_mode": {
    "name": "ipython",
    "version": 2
   },
   "file_extension": ".py",
   "mimetype": "text/x-python",
   "name": "python",
   "nbconvert_exporter": "python",
   "pygments_lexer": "ipython2",
   "version": "2.7.15"
  }
 },
 "nbformat": 4,
 "nbformat_minor": 2
}
