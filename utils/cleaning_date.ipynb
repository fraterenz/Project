{
 "cells": [
  {
   "cell_type": "code",
   "execution_count": 3,
   "metadata": {},
   "outputs": [],
   "source": [
    "import findspark\n",
    "findspark.init()\n",
    "\n",
    "import wptools\n",
    "import pyspark\n",
    "import pyspark.sql\n",
    "from pyspark.sql import *\n",
    "import os.path\n",
    "from pyspark.sql.functions import desc\n",
    "\n",
    "from pyspark.sql import dataframe\n",
    "from pyspark.sql import functions as F\n",
    "\n",
    "from pyspark.sql import SparkSession\n",
    "from pyspark import SparkContext\n",
    "from pyspark.sql import SQLContext\n",
    "\n",
    "spark = SparkSession.builder.getOrCreate()\n",
    "sc = spark.sparkContext\n",
    "\n",
    "from pyspark.sql import SQLContext\n",
    "sqlContext = SQLContext(sc)\n",
    "import seaborn as sns\n",
    "import re"
   ]
  },
  {
   "cell_type": "code",
   "execution_count": 4,
   "metadata": {},
   "outputs": [],
   "source": [
    "DATA_DIR = '../data/data_processed/'"
   ]
  },
  {
   "cell_type": "code",
   "execution_count": 5,
   "metadata": {},
   "outputs": [],
   "source": [
    "the_data = spark.read.parquet(DATA_DIR+\"union_3_cat.parquet\")"
   ]
  },
  {
   "cell_type": "code",
   "execution_count": 6,
   "metadata": {},
   "outputs": [
    {
     "data": {
      "text/html": [
       "<div>\n",
       "<style scoped>\n",
       "    .dataframe tbody tr th:only-of-type {\n",
       "        vertical-align: middle;\n",
       "    }\n",
       "\n",
       "    .dataframe tbody tr th {\n",
       "        vertical-align: top;\n",
       "    }\n",
       "\n",
       "    .dataframe thead th {\n",
       "        text-align: right;\n",
       "    }\n",
       "</style>\n",
       "<table border=\"1\" class=\"dataframe\">\n",
       "  <thead>\n",
       "    <tr style=\"text-align: right;\">\n",
       "      <th></th>\n",
       "      <th>id</th>\n",
       "      <th>title</th>\n",
       "      <th>categories</th>\n",
       "      <th>article_lenght</th>\n",
       "      <th>views</th>\n",
       "      <th>refs_count</th>\n",
       "      <th>link_count</th>\n",
       "      <th>death</th>\n",
       "      <th>end_date</th>\n",
       "      <th>location</th>\n",
       "    </tr>\n",
       "  </thead>\n",
       "  <tbody>\n",
       "    <tr>\n",
       "      <th>0</th>\n",
       "      <td>0.0</td>\n",
       "      <td>0.0</td>\n",
       "      <td>0.0</td>\n",
       "      <td>0.0</td>\n",
       "      <td>0.0</td>\n",
       "      <td>0.0</td>\n",
       "      <td>0.0</td>\n",
       "      <td>34.331349</td>\n",
       "      <td>12.411266</td>\n",
       "      <td>11.088848</td>\n",
       "    </tr>\n",
       "  </tbody>\n",
       "</table>\n",
       "</div>"
      ],
      "text/plain": [
       "    id  title  categories  article_lenght  views  refs_count  link_count  \\\n",
       "0  0.0    0.0         0.0             0.0    0.0         0.0         0.0   \n",
       "\n",
       "       death   end_date   location  \n",
       "0  34.331349  12.411266  11.088848  "
      ]
     },
     "execution_count": 6,
     "metadata": {},
     "output_type": "execute_result"
    }
   ],
   "source": [
    "# Quantifying null values\n",
    "# how many rows does the dataframe have?\n",
    "mili_rows=the_data.count()\n",
    "from pyspark.sql.functions import isnan, when, count, col\n",
    "\n",
    "mili_nan = the_data.select([\n",
    "    count(when(isnan(c) | col(c).isNull(), c)).alias(c) for c in the_data.columns\n",
    "]).toPandas()\n",
    "\n",
    "mili_percentages_nan = mili_nan*100/mili_rows\n",
    "mili_percentages_nan.head()"
   ]
  },
  {
   "cell_type": "code",
   "execution_count": 48,
   "metadata": {},
   "outputs": [
    {
     "name": "stdout",
     "output_type": "stream",
     "text": [
      "+------+--------+---------------+--------------+-------+----------+----------+--------------------+---------+--------------------+\n",
      "|    id|   title|     categories|article_lenght|  views|refs_count|link_count|               death| end_date|            location|\n",
      "+------+--------+---------------+--------------+-------+----------+----------+--------------------+---------+--------------------+\n",
      "|214659|Unit 731|civilian attack|         58902|5427192|        78|       249|Over 3,000 from i...|1935–1945|[[Pingfang]], [[H...|\n",
      "+------+--------+---------------+--------------+-------+----------+----------+--------------------+---------+--------------------+\n",
      "\n"
     ]
    }
   ],
   "source": [
    "the_data.filter(\"id = 214659\").show()"
   ]
  },
  {
   "cell_type": "code",
   "execution_count": 8,
   "metadata": {},
   "outputs": [
    {
     "data": {
      "text/plain": [
       "<matplotlib.axes._subplots.AxesSubplot at 0x1a1a985400>"
      ]
     },
     "execution_count": 8,
     "metadata": {},
     "output_type": "execute_result"
    },
    {
     "data": {
      "image/png": "[encoded data removed]",
      "text/plain": [
       "<Figure size 432x288 with 1 Axes>"
      ]
     },
     "metadata": {
      "needs_background": "light"
     },
     "output_type": "display_data"
    }
   ],
   "source": [
    "sns.barplot(data=mili_percentages_nan[['death','end_date','location']], palette='RdBu',orient='h')"
   ]
  },
  {
   "cell_type": "code",
   "execution_count": 42,
   "metadata": {},
   "outputs": [
    {
     "data": {
      "text/plain": [
       "id\n",
       "50429564                                           1 May 2016\n",
       "39900222                                          22 May 2013\n",
       "46935886                                    December 14, 1993\n",
       "38247068                                                 None\n",
       "19896366                                      21 October 2008\n",
       "2234230                                 +1975-03-05T00:00:00Z\n",
       "4538300                                           27 May 1940\n",
       "12983993                                    September 3, 1984\n",
       "10032978                                       March 11, 2007\n",
       "41583832                    {{start date and age|1941|04|27}}\n",
       "52461344                                      16 January 1993\n",
       "14121621                    {{Start date|df|=|yes|2007|11|7}}\n",
       "40565322                                 16–17 September 2013\n",
       "32339772                                                 None\n",
       "54874862                                       12 August 2017\n",
       "52299027                                       29 August 1943\n",
       "214659                                              1935–1945\n",
       "48026864    30 September 2015 – present<br />( {{Age in ye...\n",
       "16163757                                       Spring, 397 BC\n",
       "41528192                                +1902-05-03T00:00:00Z\n",
       "35990004                                                  419\n",
       "28803755                                     22 February 1782\n",
       "40740968                                      4 November 1501\n",
       "374424                                              1841–1842\n",
       "20683060                                +1998-03-07T00:00:00Z\n",
       "1770806                                         9 August 1812\n",
       "17970217                                +1633-10-22T00:00:00Z\n",
       "450921                                  +1918-10-00T00:00:00Z\n",
       "32217196                                                 None\n",
       "305153                                  +1944-10-21T00:00:00Z\n",
       "Name: end_date, dtype: object"
      ]
     },
     "execution_count": 42,
     "metadata": {},
     "output_type": "execute_result"
    }
   ],
   "source": [
    "the_data_pd = the_data.toPandas().set_index('id')\n",
    "the_data_pd['end_date'].head(30)\n",
    "# end date need to extract only four digits "
   ]
  },
  {
   "cell_type": "code",
   "execution_count": 36,
   "metadata": {},
   "outputs": [
    {
     "data": {
      "text/plain": [
       "title             object\n",
       "categories        object\n",
       "article_lenght     int32\n",
       "views              int64\n",
       "refs_count         int64\n",
       "link_count         int64\n",
       "death             object\n",
       "end_date          object\n",
       "location          object\n",
       "dtype: object"
      ]
     },
     "execution_count": 36,
     "metadata": {},
     "output_type": "execute_result"
    }
   ],
   "source": [
    "the_data_pd.dtypes\n",
    "the_data_pd['end_date'] = the_data_pd['end_date'].astype('str')\n",
    "the_data_pd.dtypes"
   ]
  },
  {
   "cell_type": "code",
   "execution_count": 43,
   "metadata": {},
   "outputs": [],
   "source": [
    "# extract 4 digits \n",
    "date_regex = re.compile('(\\d{4})', re.IGNORECASE)\n",
    "cleaned_date = the_data_pd['end_date'].str.extract(date_regex, expand=True)"
   ]
  },
  {
   "cell_type": "code",
   "execution_count": 44,
   "metadata": {},
   "outputs": [
    {
     "data": {
      "text/plain": [
       "0    1935\n",
       "Name: 214659, dtype: object"
      ]
     },
     "execution_count": 44,
     "metadata": {},
     "output_type": "execute_result"
    }
   ],
   "source": [
    "cleaned_date.loc[214659]"
   ]
  },
  {
   "cell_type": "markdown",
   "metadata": {},
   "source": [
    "# TODO: maybe select digits from the right (end) instead of the beginning!\n",
    "\n"
   ]
  },
  {
   "cell_type": "code",
   "execution_count": null,
   "metadata": {},
   "outputs": [],
   "source": []
  }
 ],
 "metadata": {
  "kernelspec": {
   "display_name": "Python [conda env:ada]",
   "language": "python",
   "name": "conda-env-ada-py"
  },
  "language_info": {
   "codemirror_mode": {
    "name": "ipython",
    "version": 3
   },
   "file_extension": ".py",
   "mimetype": "text/x-python",
   "name": "python",
   "nbconvert_exporter": "python",
   "pygments_lexer": "ipython3",
   "version": "3.6.6"
  }
 },
 "nbformat": 4,
 "nbformat_minor": 2
}
