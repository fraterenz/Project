{
 "cells": [
  {
   "cell_type": "code",
   "execution_count": 1,
   "metadata": {
    "collapsed": true
   },
   "outputs": [],
   "source": [
    "from os import environ\n",
    "environ['PYSPARK_SUBMIT_ARGS'] = '--packages com.databricks:spark-xml_2.10:0.4.1 pyspark-shell' \n",
    "\n",
    "import pandas as pd\n",
    "import scipy as sp\n",
    "import re\n",
    "import time\n",
    "\n",
    "import findspark\n",
    "findspark.init()\n",
    "\n",
    "import pyspark\n",
    "import pyspark.sql\n",
    "from pyspark.sql.types import *\n",
    "from pyspark.sql import *\n",
    "import hashlib\n",
    "import os.path\n",
    "import pyspark.sql.functions as F\n",
    "from pyspark.sql.types import StringType\n",
    "from pyspark.sql.types import BooleanType\n",
    "from pyspark.sql.functions import desc\n",
    "from pyspark.sql.functions import regexp_extract\n",
    "from pyspark.sql.functions import udf\n",
    "from datetime import timedelta, date\n",
    "from mwviews.api import PageviewsClient\n",
    "\n",
    "\n",
    "from pyspark.sql import SparkSession\n",
    "from pyspark import SparkContext\n",
    "\n",
    "spark = SparkSession.builder.getOrCreate()\n",
    "sc = spark.sparkContext\n",
    "\n",
    "from pyspark.sql import SQLContext\n",
    "sqlContext = SQLContext(sc)"
   ]
  },
  {
   "cell_type": "markdown",
   "metadata": {},
   "source": [
    "prova"
   ]
  },
  {
   "cell_type": "code",
   "execution_count": 2,
   "metadata": {
    "collapsed": true
   },
   "outputs": [],
   "source": [
    "# loading the saved parquet files\n",
    "conflict_articles = spark.read.parquet(\"selectedAllConflict.parquet\");"
   ]
  },
  {
   "cell_type": "code",
   "execution_count": 3,
   "metadata": {},
   "outputs": [
    {
     "name": "stdout",
     "output_type": "stream",
     "text": [
      "+------+---+------------+--------------------+--------------------+-----------------+---------------+\n",
      "|    id| ns|restrictions|            revision|               title|       categories|good_categories|\n",
      "+------+---+------------+--------------------+--------------------+-----------------+---------------+\n",
      "|655845|  0|        null|[, [,, 5175837,, ...|Battle of Athens ...|military conflict|           true|\n",
      "|656035|  0|        null|[[link,], [,, 268...|  Battle of Calabria|military conflict|           true|\n",
      "|656087|  0|        null|[, [,,, 96.77.37....|   Italo-Turkish War|military conflict|           true|\n",
      "|656173|  0|        null|[[Formatting.,], ...|Third Anglo-Afgha...|military conflict|           true|\n",
      "|656175|  0|        null|[[/* 1879 */The B...|Second Anglo-Afgh...|military conflict|           true|\n",
      "|656473|  0|        null|[[Moved images.,]...|   Illinois campaign|military conflict|           true|\n",
      "|659156|  0|        null|[, [,, 29980587,,...|Battle of Kock (1...|military conflict|           true|\n",
      "|659506|  0|        null|[[c/e.,], [,, 193...|Battle of Peachtr...|military conflict|           true|\n",
      "|661656|  0|        null|[, [,, 33124044,,...|Nicaraguan Revolu...|military conflict|           true|\n",
      "|661864|  0|        null|[[Rescuing 3 sour...|       S11 (protest)|   civil conflict|           true|\n",
      "+------+---+------------+--------------------+--------------------+-----------------+---------------+\n",
      "only showing top 10 rows\n",
      "\n"
     ]
    }
   ],
   "source": [
    "conflict_articles.show(10)"
   ]
  },
  {
   "cell_type": "code",
   "execution_count": 4,
   "metadata": {},
   "outputs": [
    {
     "data": {
      "text/plain": [
       "18782"
      ]
     },
     "execution_count": 4,
     "metadata": {},
     "output_type": "execute_result"
    }
   ],
   "source": [
    "conflict_articles.count()"
   ]
  },
  {
   "cell_type": "code",
   "execution_count": null,
   "metadata": {},
   "outputs": [],
   "source": [
    "conflict_articles.select(\"categories\").distinct().count()"
   ]
  },
  {
   "cell_type": "code",
   "execution_count": 5,
   "metadata": {},
   "outputs": [
    {
     "data": {
      "text/plain": [
       "0"
      ]
     },
     "execution_count": 5,
     "metadata": {},
     "output_type": "execute_result"
    }
   ],
   "source": [
    "conflict_articles.filter(\"lower(revision.text._VALUE) like '%{disambiguation}%'\").count()"
   ]
  },
  {
   "cell_type": "code",
   "execution_count": 10,
   "metadata": {},
   "outputs": [
    {
     "name": "stdout",
     "output_type": "stream",
     "text": [
      "+--------+---+------------+--------------------+--------------------+-----------------+---------------+\n",
      "|      id| ns|restrictions|            revision|               title|       categories|good_categories|\n",
      "+--------+---+------------+--------------------+--------------------+-----------------+---------------+\n",
      "| 3216047|  0|        null|[[added [[Categor...|Sack of Dun Gallimhe|military conflict|           true|\n",
      "|51033965|  0|        null|[[Fix [[:Category...|          Punjab War|military conflict|           true|\n",
      "|10343280|  0|        null|[[Srnec moved pag...|     Mari–Udmurt War|military conflict|           true|\n",
      "|53563811|  0|        null|[[/* Bibliography...|   Battle of Nanning|military conflict|           true|\n",
      "|53563856|  0|        null|[, [,, 8044761,, ...|Second Battle of ...|military conflict|           true|\n",
      "|53563895|  0|        null|[, [,, 8044761,, ...|Second Battle of ...|military conflict|           true|\n",
      "|53564213|  0|        null|[[Dating maintena...|Battle of Jinan (...|military conflict|           true|\n",
      "|53575154|  0|        null|[[clean up, added...|Second Battle of ...|military conflict|           true|\n",
      "|53599692|  0|        null|[, [,, 8044761,, ...|Battle of Shangca...|military conflict|           true|\n",
      "|53599733|  0|        null|[[Fix links to [[...|   Battle of Xuchang|military conflict|           true|\n",
      "|53599767|  0|        null|[[added China-mil...|  Battle of Guanghua|military conflict|           true|\n",
      "|19839055|  0|        null|[[Robot - Speedil...|   Battle of Shayuan|military conflict|           true|\n",
      "|49451077|  0|        null|[[Reverted edits ...|Battle of Humen-S...|military conflict|           true|\n",
      "+--------+---+------------+--------------------+--------------------+-----------------+---------------+\n",
      "\n"
     ]
    }
   ],
   "source": [
    "conflict_articles.filter(\"length(revision.text._VALUE) <800\").show()"
   ]
  },
  {
   "cell_type": "code",
   "execution_count": null,
   "metadata": {
    "collapsed": true
   },
   "outputs": [],
   "source": []
  }
 ],
 "metadata": {
  "kernelspec": {
   "display_name": "Python (ada)",
   "language": "python",
   "name": "ada"
  },
  "language_info": {
   "codemirror_mode": {
    "name": "ipython",
    "version": 2
   },
   "file_extension": ".py",
   "mimetype": "text/x-python",
   "name": "python",
   "nbconvert_exporter": "python",
   "pygments_lexer": "ipython2",
   "version": "2.7.15"
  }
 },
 "nbformat": 4,
 "nbformat_minor": 2
}
