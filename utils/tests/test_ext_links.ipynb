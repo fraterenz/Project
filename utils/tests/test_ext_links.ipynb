{
 "cells": [
  {
   "cell_type": "code",
   "execution_count": 3,
   "metadata": {},
   "outputs": [],
   "source": [
    "import re\n",
    "from pyspark.sql import SparkSession\n",
    "import pyspark.sql.functions as F\n",
    "from pyspark.sql.functions import countDistinct\n",
    "from pyspark.sql.types import Row\n",
    "from pyspark.sql import SQLContext\n",
    "from pyspark.sql.utils import AnalysisException\n",
    "spark = SparkSession.builder.getOrCreate()\n",
    "sc = spark.sparkContext\n",
    "sqlContext = SQLContext(sc)"
   ]
  },
  {
   "cell_type": "code",
   "execution_count": 2,
   "metadata": {},
   "outputs": [],
   "source": [
    "def find_ext_links(entity, regex=r\"\\[\\[(.*?)\\]\\]\"):\n",
    "    regex_compiled = re.compile(regex, re.IGNORECASE)\n",
    "    text = entity.revision.text._VALUE\n",
    "    refs = regex_compiled.findall(text)\n",
    "    return Row(id=entity.id, title=entity.title, link_count=len(refs), link=refs)"
   ]
  },
  {
   "cell_type": "code",
   "execution_count": null,
   "metadata": {},
   "outputs": [],
   "source": [
    "arg = \"popularity_military_conflict\" \n",
    "# \"popularity_civil_conflict.parquet\" \"popularity_military_conflict.parquet\" \"popularity_civilian_attack.parquet\"\n",
    "args= {\n",
    "    'in_filtered': \"../../data/data_processed/{}.parquet\".format(arg), \n",
    "    'in_raw': \"./first.parquet/\", \n",
    "    'out': '../../temp/{}.parquet'.format(arg) # TODO change\n",
    "}"
   ]
  },
  {
   "cell_type": "code",
   "execution_count": 3,
   "metadata": {},
   "outputs": [],
   "source": [
    "# just to test\n",
    "args= {\n",
    "    'in_filtered': \"../../data/data_processed/wiki_civil_conflict_df.parquet\", \n",
    "    'in_raw': \"./10million.parquet/\", \n",
    "    'out': './test_ext_links.parquet'\n",
    "}"
   ]
  },
  {
   "cell_type": "code",
   "execution_count": 4,
   "metadata": {
    "scrolled": false
   },
   "outputs": [
    {
     "name": "stdout",
     "output_type": "stream",
     "text": [
      "Not removing redirections because field redirect._title  not present in dataframe\n"
     ]
    }
   ],
   "source": [
    "#new\n",
    "# load filtered articles (parquet)\n",
    "conflict_articles = spark.read.parquet(args['in_filtered'])\n",
    "# load raw data (parquet)\n",
    "wikipedia = spark.read.parquet(args['in_raw'])\n",
    "\n",
    "# filter to select articles with text that are not redirections\n",
    "# take articles with text without any redirection\n",
    "try:\n",
    "    articles = wikipedia.filter(\"ns = '0'\").filter(\"redirect._title is null\")\\\n",
    "        .filter(\"revision.text._VALUE is not null\")\\\n",
    "        .filter(\"length(revision.text._VALUE) > 0\")  # TODO this does not work locally but on cluster?\n",
    "except AnalysisException:\n",
    "    print('Not removing redirections because field redirect._title  not present in dataframe')\n",
    "    articles = wikipedia.filter(\"ns = '0'\").filter(\"revision.text._VALUE is not null\")\\\n",
    "        .filter(\"length(revision.text._VALUE) > 0\")"
   ]
  },
  {
   "cell_type": "code",
   "execution_count": 5,
   "metadata": {
    "scrolled": true
   },
   "outputs": [],
   "source": [
    "external_links = sqlContext.createDataFrame(articles.rdd.map(find_ext_links))"
   ]
  },
  {
   "cell_type": "code",
   "execution_count": 7,
   "metadata": {
    "scrolled": false
   },
   "outputs": [
    {
     "name": "stdout",
     "output_type": "stream",
     "text": [
      "+-----+-----+--------------------+--------------------+--------------------+----------+------------------+\n",
      "|   id|death|            end_date|            location|                link|link_count|             title|\n",
      "+-----+-----+--------------------+--------------------+--------------------+----------+------------------+\n",
      "|75829| null|+1893-00-00T00:00...|Powder River Coun...|[Fort D.A. Russel...|       145|Johnson County War|\n",
      "|43573| null|      April 21, 1855|[[Chicago, Illino...|[bar|saloon, Germ...|        51|   Lager Beer Riot|\n",
      "+-----+-----+--------------------+--------------------+--------------------+----------+------------------+\n",
      "\n"
     ]
    }
   ],
   "source": [
    "all_info = conflict_articles.join(external_links, \"id\", how='inner')\n",
    "#all_info = all_info.select(\"id\", \"title\", \"external_links\")\n",
    "all_info.write.parquet(args['out'])\n",
    "all_info.show()"
   ]
  },
  {
   "cell_type": "code",
   "execution_count": 8,
   "metadata": {},
   "outputs": [],
   "source": [
    "a = spark.read.parquet(\"./test_ext_links.parquet/\")"
   ]
  },
  {
   "cell_type": "code",
   "execution_count": 9,
   "metadata": {},
   "outputs": [
    {
     "name": "stdout",
     "output_type": "stream",
     "text": [
      "root\n",
      " |-- id: integer (nullable = true)\n",
      " |-- death: string (nullable = true)\n",
      " |-- end_date: string (nullable = true)\n",
      " |-- location: string (nullable = true)\n",
      " |-- link: array (nullable = true)\n",
      " |    |-- element: string (containsNull = true)\n",
      " |-- link_count: long (nullable = true)\n",
      " |-- title: string (nullable = true)\n",
      "\n"
     ]
    }
   ],
   "source": [
    "a.printSchema()"
   ]
  },
  {
   "cell_type": "code",
   "execution_count": 10,
   "metadata": {},
   "outputs": [
    {
     "name": "stdout",
     "output_type": "stream",
     "text": [
      "+-----+-----+--------------------+--------------------+--------------------+----------+------------------+\n",
      "|   id|death|            end_date|            location|                link|link_count|             title|\n",
      "+-----+-----+--------------------+--------------------+--------------------+----------+------------------+\n",
      "|75829| null|+1893-00-00T00:00...|Powder River Coun...|[Fort D.A. Russel...|       145|Johnson County War|\n",
      "|43573| null|      April 21, 1855|[[Chicago, Illino...|[bar|saloon, Germ...|        51|   Lager Beer Riot|\n",
      "+-----+-----+--------------------+--------------------+--------------------+----------+------------------+\n",
      "\n"
     ]
    }
   ],
   "source": [
    "a.show()"
   ]
  }
 ],
 "metadata": {
  "kernelspec": {
   "display_name": "Python [default]",
   "language": "python",
   "name": "python3"
  },
  "language_info": {
   "codemirror_mode": {
    "name": "ipython",
    "version": 3
   },
   "file_extension": ".py",
   "mimetype": "text/x-python",
   "name": "python",
   "nbconvert_exporter": "python",
   "pygments_lexer": "ipython3",
   "version": "3.6.6"
  }
 },
 "nbformat": 4,
 "nbformat_minor": 2
}
