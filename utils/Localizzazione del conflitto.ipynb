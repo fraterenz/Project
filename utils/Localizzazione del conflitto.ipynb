{
 "cells": [
  {
   "cell_type": "code",
   "execution_count": 52,
   "metadata": {},
   "outputs": [],
   "source": [
    "import findspark\n",
    "findspark.init()\n",
    "\n",
    "import wptools\n",
    "import pyspark\n",
    "import pyspark.sql\n",
    "from pyspark.sql import *\n",
    "import os.path\n",
    "from pyspark.sql.functions import desc\n",
    "\n",
    "from pyspark.sql import dataframe\n",
    "from pyspark.sql import functions as F\n",
    "\n",
    "from pyspark.sql import SparkSession\n",
    "from pyspark import SparkContext\n",
    "from pyspark.sql import SQLContext\n",
    "\n",
    "spark = SparkSession.builder.getOrCreate()\n",
    "sc = spark.sparkContext\n",
    "\n",
    "from pyspark.sql import SQLContext\n",
    "sqlContext = SQLContext(sc)\n",
    "import seaborn as sns"
   ]
  },
  {
   "cell_type": "code",
   "execution_count": null,
   "metadata": {},
   "outputs": [],
   "source": []
  },
  {
   "cell_type": "code",
   "execution_count": 7,
   "metadata": {},
   "outputs": [],
   "source": [
    "DATA_DIR = '../data/data_processed/'"
   ]
  },
  {
   "cell_type": "code",
   "execution_count": 9,
   "metadata": {},
   "outputs": [],
   "source": [
    "popularity_civil_conflict_ = spark.read.parquet(DATA_DIR+\"popularity_civil_conflict.parquet\")\n",
    "\n",
    "popularity_military_conflict_ = spark.read.parquet(DATA_DIR+\"popularity_military_conflict.parquet\")"
   ]
  },
  {
   "cell_type": "code",
   "execution_count": 11,
   "metadata": {},
   "outputs": [
    {
     "name": "stdout",
     "output_type": "stream",
     "text": [
      "+--------+--------------------+--------------+--------------+------+-----+--------------------+--------------------+\n",
      "|      id|               title|    categories|article_lenght| views|death|            end_date|            location|\n",
      "+--------+--------------------+--------------+--------------+------+-----+--------------------+--------------------+\n",
      "| 1690078|   1967 Newark riots|civil conflict|         18540|225656|  +26|+1967-07-17T00:00...|[Jersey City (Q26...|\n",
      "|39415364|2013 Israeli prot...|civil conflict|          4431|  1812| null|                null|                null|\n",
      "|40496099|2013 Romanian pro...|civil conflict|         69406| 19639| null|                null|                null|\n",
      "|53285609|2017 Anaheim prot...|civil conflict|          5030|   762| null|                null|                null|\n",
      "|32071886|2011–13 Chilean s...|civil conflict|         40592| 54908| null|+2013-01-01T00:00...|                null|\n",
      "|41693718|1962 Rangoon Univ...|civil conflict|         46680| 17558| null|                null|                null|\n",
      "|42601767|New Orleans schoo...|civil conflict|         18625| 53620| null|                null|                null|\n",
      "|55185370|2017–18 Spanish c...|civil conflict|        109523| 50424| null|                null|                null|\n",
      "|14281867|         Grabow riot|civil conflict|         24162|  3942| null|                null|                null|\n",
      "|38594310|2013 Bulgarian pr...|civil conflict|         95435| 10951| null|                null|                null|\n",
      "+--------+--------------------+--------------+--------------+------+-----+--------------------+--------------------+\n",
      "only showing top 10 rows\n",
      "\n"
     ]
    }
   ],
   "source": [
    "popularity_civil_conflict_.show(10)"
   ]
  },
  {
   "cell_type": "code",
   "execution_count": 51,
   "metadata": {},
   "outputs": [
    {
     "data": {
      "text/html": [
       "<div>\n",
       "<style scoped>\n",
       "    .dataframe tbody tr th:only-of-type {\n",
       "        vertical-align: middle;\n",
       "    }\n",
       "\n",
       "    .dataframe tbody tr th {\n",
       "        vertical-align: top;\n",
       "    }\n",
       "\n",
       "    .dataframe thead th {\n",
       "        text-align: right;\n",
       "    }\n",
       "</style>\n",
       "<table border=\"1\" class=\"dataframe\">\n",
       "  <thead>\n",
       "    <tr style=\"text-align: right;\">\n",
       "      <th></th>\n",
       "      <th>id</th>\n",
       "      <th>title</th>\n",
       "      <th>categories</th>\n",
       "      <th>article_lenght</th>\n",
       "      <th>views</th>\n",
       "      <th>death</th>\n",
       "      <th>end_date</th>\n",
       "      <th>location</th>\n",
       "    </tr>\n",
       "  </thead>\n",
       "  <tbody>\n",
       "    <tr>\n",
       "      <th>0</th>\n",
       "      <td>0.0</td>\n",
       "      <td>0.0</td>\n",
       "      <td>0.0</td>\n",
       "      <td>0.0</td>\n",
       "      <td>0.0</td>\n",
       "      <td>98.383085</td>\n",
       "      <td>65.422886</td>\n",
       "      <td>26.741294</td>\n",
       "    </tr>\n",
       "  </tbody>\n",
       "</table>\n",
       "</div>"
      ],
      "text/plain": [
       "    id  title  categories  article_lenght  views      death   end_date  \\\n",
       "0  0.0    0.0         0.0             0.0    0.0  98.383085  65.422886   \n",
       "\n",
       "    location  \n",
       "0  26.741294  "
      ]
     },
     "execution_count": 51,
     "metadata": {},
     "output_type": "execute_result"
    }
   ],
   "source": [
    "# Quantifying null values\n",
    "# how many rows does the dataframe have?\n",
    "mili_rows=popularity_military_conflict_.count()\n",
    "from pyspark.sql.functions import isnan, when, count, col\n",
    "\n",
    "mili_nan = popularity_military_conflict_.select([\n",
    "    count(when(isnan(c) | col(c).isNull(), c)).alias(c) for c in popularity_military_conflict_.columns\n",
    "]).toPandas()\n",
    "\n",
    "mili_nan.head()\n",
    "\n",
    "mili_percentages_nan = mili_nan*100/mili_rows\n",
    "mili_percentages_nan.head()"
   ]
  },
  {
   "cell_type": "code",
   "execution_count": 57,
   "metadata": {},
   "outputs": [
    {
     "data": {
      "text/plain": [
       "<matplotlib.axes._subplots.AxesSubplot at 0x1a1c89b438>"
      ]
     },
     "execution_count": 57,
     "metadata": {},
     "output_type": "execute_result"
    },
    {
     "data": {
      "image/png": "[encoded data removed]",
      "text/plain": [
       "<Figure size 432x288 with 1 Axes>"
      ]
     },
     "metadata": {
      "needs_background": "light"
     },
     "output_type": "display_data"
    }
   ],
   "source": [
    "sns.barplot(data=mili_percentages_nan, palette='RdBu',orient='h')"
   ]
  },
  {
   "cell_type": "code",
   "execution_count": 58,
   "metadata": {},
   "outputs": [
    {
     "data": {
      "text/plain": [
       "[Row(id=274048, title='German revolutions of 1848–49', location='German Confederation (Q151624)'),\n",
       " Row(id=1352065, title='Manassas Station Operations (Stonewall Jackson)', location='Prince William County (Q183263)'),\n",
       " Row(id=8721744, title='Byzantine–Seljuq wars', location='Anatolia (Q51614)'),\n",
       " Row(id=9056625, title='Bombing of Wewak', location='Wewak (Q1017763)'),\n",
       " Row(id=11663850, title='Kurdish–Turkish conflict (1978–present)', location='[Eastern Anatolia Region (Q155542), Southeastern Anatolia Region (Q155638), Syria–Turkey border (Q3088996), Iraqi Kurdistan (Q205047)]'),\n",
       " Row(id=17932058, title='Sarposa prison attack of 2008', location='Kandahar (Q45604)'),\n",
       " Row(id=19729651, title='Iran–PJAK conflict', location='West Azarbaijan Province (Q134411)'),\n",
       " Row(id=29619836, title='Albanian revolt of 1910', location='Kosovo Vilayet (Q168501)'),\n",
       " Row(id=600391, title=\"'Urabi revolt\", location='Khedivate of Egypt (Q127861)'),\n",
       " Row(id=3355600, title='Battle of Wahoo Swamp', location='Sumter County (Q503889)')]"
      ]
     },
     "execution_count": 58,
     "metadata": {},
     "output_type": "execute_result"
    }
   ],
   "source": [
    "popularity_military_conflict_.select('id','title','location').head(10)"
   ]
  },
  {
   "cell_type": "code",
   "execution_count": 61,
   "metadata": {},
   "outputs": [
    {
     "data": {
      "text/html": [
       "<div>\n",
       "<style scoped>\n",
       "    .dataframe tbody tr th:only-of-type {\n",
       "        vertical-align: middle;\n",
       "    }\n",
       "\n",
       "    .dataframe tbody tr th {\n",
       "        vertical-align: top;\n",
       "    }\n",
       "\n",
       "    .dataframe thead th {\n",
       "        text-align: right;\n",
       "    }\n",
       "</style>\n",
       "<table border=\"1\" class=\"dataframe\">\n",
       "  <thead>\n",
       "    <tr style=\"text-align: right;\">\n",
       "      <th></th>\n",
       "      <th>title</th>\n",
       "      <th>categories</th>\n",
       "      <th>article_lenght</th>\n",
       "      <th>views</th>\n",
       "      <th>death</th>\n",
       "      <th>end_date</th>\n",
       "      <th>location</th>\n",
       "    </tr>\n",
       "    <tr>\n",
       "      <th>id</th>\n",
       "      <th></th>\n",
       "      <th></th>\n",
       "      <th></th>\n",
       "      <th></th>\n",
       "      <th></th>\n",
       "      <th></th>\n",
       "      <th></th>\n",
       "    </tr>\n",
       "  </thead>\n",
       "  <tbody>\n",
       "    <tr>\n",
       "      <th>274048</th>\n",
       "      <td>German revolutions of 1848–49</td>\n",
       "      <td>military conflict</td>\n",
       "      <td>64425</td>\n",
       "      <td>350410</td>\n",
       "      <td>None</td>\n",
       "      <td>None</td>\n",
       "      <td>German Confederation (Q151624)</td>\n",
       "    </tr>\n",
       "    <tr>\n",
       "      <th>1352065</th>\n",
       "      <td>Manassas Station Operations (Stonewall Jackson)</td>\n",
       "      <td>military conflict</td>\n",
       "      <td>9293</td>\n",
       "      <td>15589</td>\n",
       "      <td>None</td>\n",
       "      <td>+1862-08-27T00:00:00Z</td>\n",
       "      <td>Prince William County (Q183263)</td>\n",
       "    </tr>\n",
       "    <tr>\n",
       "      <th>8721744</th>\n",
       "      <td>Byzantine–Seljuq wars</td>\n",
       "      <td>military conflict</td>\n",
       "      <td>51548</td>\n",
       "      <td>84530</td>\n",
       "      <td>None</td>\n",
       "      <td>None</td>\n",
       "      <td>Anatolia (Q51614)</td>\n",
       "    </tr>\n",
       "    <tr>\n",
       "      <th>9056625</th>\n",
       "      <td>Bombing of Wewak</td>\n",
       "      <td>military conflict</td>\n",
       "      <td>10852</td>\n",
       "      <td>12946</td>\n",
       "      <td>None</td>\n",
       "      <td>None</td>\n",
       "      <td>Wewak (Q1017763)</td>\n",
       "    </tr>\n",
       "    <tr>\n",
       "      <th>11663850</th>\n",
       "      <td>Kurdish–Turkish conflict (1978–present)</td>\n",
       "      <td>military conflict</td>\n",
       "      <td>175579</td>\n",
       "      <td>498824</td>\n",
       "      <td>None</td>\n",
       "      <td>None</td>\n",
       "      <td>[Eastern Anatolia Region (Q155542), Southeaste...</td>\n",
       "    </tr>\n",
       "  </tbody>\n",
       "</table>\n",
       "</div>"
      ],
      "text/plain": [
       "                                                    title         categories  \\\n",
       "id                                                                             \n",
       "274048                      German revolutions of 1848–49  military conflict   \n",
       "1352065   Manassas Station Operations (Stonewall Jackson)  military conflict   \n",
       "8721744                             Byzantine–Seljuq wars  military conflict   \n",
       "9056625                                  Bombing of Wewak  military conflict   \n",
       "11663850          Kurdish–Turkish conflict (1978–present)  military conflict   \n",
       "\n",
       "          article_lenght   views death               end_date  \\\n",
       "id                                                              \n",
       "274048             64425  350410  None                   None   \n",
       "1352065             9293   15589  None  +1862-08-27T00:00:00Z   \n",
       "8721744            51548   84530  None                   None   \n",
       "9056625            10852   12946  None                   None   \n",
       "11663850          175579  498824  None                   None   \n",
       "\n",
       "                                                   location  \n",
       "id                                                           \n",
       "274048                       German Confederation (Q151624)  \n",
       "1352065                     Prince William County (Q183263)  \n",
       "8721744                                   Anatolia (Q51614)  \n",
       "9056625                                    Wewak (Q1017763)  \n",
       "11663850  [Eastern Anatolia Region (Q155542), Southeaste...  "
      ]
     },
     "execution_count": 61,
     "metadata": {},
     "output_type": "execute_result"
    }
   ],
   "source": [
    "popularity_military_conflict_pd = popularity_military_conflict_.toPandas().set_index('id')\n",
    "popularity_military_conflict_pd.head()"
   ]
  },
  {
   "cell_type": "code",
   "execution_count": 67,
   "metadata": {},
   "outputs": [
    {
     "ename": "ValueError",
     "evalue": "pattern contains no capture groups",
     "output_type": "error",
     "traceback": [
      "\u001b[0;31m---------------------------------------------------------------------------\u001b[0m",
      "\u001b[0;31mValueError\u001b[0m                                Traceback (most recent call last)",
      "\u001b[0;32m<ipython-input-67-25e023dbc1bd>\u001b[0m in \u001b[0;36m<module>\u001b[0;34m()\u001b[0m\n\u001b[1;32m      3\u001b[0m \u001b[0;32mimport\u001b[0m \u001b[0mre\u001b[0m\u001b[0;34m\u001b[0m\u001b[0m\n\u001b[1;32m      4\u001b[0m \u001b[0mloc_regex\u001b[0m \u001b[0;34m=\u001b[0m \u001b[0mre\u001b[0m\u001b[0;34m.\u001b[0m\u001b[0mcompile\u001b[0m\u001b[0;34m(\u001b[0m\u001b[0;34mr\"[^\\(\\d+\\)\\,\\']\"\u001b[0m\u001b[0;34m)\u001b[0m\u001b[0;34m\u001b[0m\u001b[0m\n\u001b[0;32m----> 5\u001b[0;31m \u001b[0mpopularity_military_conflict_pd\u001b[0m\u001b[0;34m[\u001b[0m\u001b[0;34m'location'\u001b[0m\u001b[0;34m]\u001b[0m\u001b[0;34m.\u001b[0m\u001b[0mstr\u001b[0m\u001b[0;34m.\u001b[0m\u001b[0mextract\u001b[0m\u001b[0;34m(\u001b[0m\u001b[0mloc_regex\u001b[0m\u001b[0;34m,\u001b[0m \u001b[0mexpand\u001b[0m\u001b[0;34m=\u001b[0m\u001b[0;32mTrue\u001b[0m\u001b[0;34m)\u001b[0m\u001b[0;34m\u001b[0m\u001b[0m\n\u001b[0m",
      "\u001b[0;32m~/miniconda3/envs/ada/lib/python3.6/site-packages/pandas/core/strings.py\u001b[0m in \u001b[0;36mextract\u001b[0;34m(self, pat, flags, expand)\u001b[0m\n\u001b[1;32m   2561\u001b[0m     \u001b[0;34m@\u001b[0m\u001b[0mcopy\u001b[0m\u001b[0;34m(\u001b[0m\u001b[0mstr_extract\u001b[0m\u001b[0;34m)\u001b[0m\u001b[0;34m\u001b[0m\u001b[0m\n\u001b[1;32m   2562\u001b[0m     \u001b[0;32mdef\u001b[0m \u001b[0mextract\u001b[0m\u001b[0;34m(\u001b[0m\u001b[0mself\u001b[0m\u001b[0;34m,\u001b[0m \u001b[0mpat\u001b[0m\u001b[0;34m,\u001b[0m \u001b[0mflags\u001b[0m\u001b[0;34m=\u001b[0m\u001b[0;36m0\u001b[0m\u001b[0;34m,\u001b[0m \u001b[0mexpand\u001b[0m\u001b[0;34m=\u001b[0m\u001b[0;32mTrue\u001b[0m\u001b[0;34m)\u001b[0m\u001b[0;34m:\u001b[0m\u001b[0;34m\u001b[0m\u001b[0m\n\u001b[0;32m-> 2563\u001b[0;31m         \u001b[0;32mreturn\u001b[0m \u001b[0mstr_extract\u001b[0m\u001b[0;34m(\u001b[0m\u001b[0mself\u001b[0m\u001b[0;34m,\u001b[0m \u001b[0mpat\u001b[0m\u001b[0;34m,\u001b[0m \u001b[0mflags\u001b[0m\u001b[0;34m=\u001b[0m\u001b[0mflags\u001b[0m\u001b[0;34m,\u001b[0m \u001b[0mexpand\u001b[0m\u001b[0;34m=\u001b[0m\u001b[0mexpand\u001b[0m\u001b[0;34m)\u001b[0m\u001b[0;34m\u001b[0m\u001b[0m\n\u001b[0m\u001b[1;32m   2564\u001b[0m \u001b[0;34m\u001b[0m\u001b[0m\n\u001b[1;32m   2565\u001b[0m     \u001b[0;34m@\u001b[0m\u001b[0mcopy\u001b[0m\u001b[0;34m(\u001b[0m\u001b[0mstr_extractall\u001b[0m\u001b[0;34m)\u001b[0m\u001b[0;34m\u001b[0m\u001b[0m\n",
      "\u001b[0;32m~/miniconda3/envs/ada/lib/python3.6/site-packages/pandas/core/strings.py\u001b[0m in \u001b[0;36mstr_extract\u001b[0;34m(arr, pat, flags, expand)\u001b[0m\n\u001b[1;32m    920\u001b[0m         \u001b[0;32mraise\u001b[0m \u001b[0mValueError\u001b[0m\u001b[0;34m(\u001b[0m\u001b[0;34m\"expand must be True or False\"\u001b[0m\u001b[0;34m)\u001b[0m\u001b[0;34m\u001b[0m\u001b[0m\n\u001b[1;32m    921\u001b[0m     \u001b[0;32mif\u001b[0m \u001b[0mexpand\u001b[0m\u001b[0;34m:\u001b[0m\u001b[0;34m\u001b[0m\u001b[0m\n\u001b[0;32m--> 922\u001b[0;31m         \u001b[0;32mreturn\u001b[0m \u001b[0m_str_extract_frame\u001b[0m\u001b[0;34m(\u001b[0m\u001b[0marr\u001b[0m\u001b[0;34m.\u001b[0m\u001b[0m_orig\u001b[0m\u001b[0;34m,\u001b[0m \u001b[0mpat\u001b[0m\u001b[0;34m,\u001b[0m \u001b[0mflags\u001b[0m\u001b[0;34m=\u001b[0m\u001b[0mflags\u001b[0m\u001b[0;34m)\u001b[0m\u001b[0;34m\u001b[0m\u001b[0m\n\u001b[0m\u001b[1;32m    923\u001b[0m     \u001b[0;32melse\u001b[0m\u001b[0;34m:\u001b[0m\u001b[0;34m\u001b[0m\u001b[0m\n\u001b[1;32m    924\u001b[0m         \u001b[0mresult\u001b[0m\u001b[0;34m,\u001b[0m \u001b[0mname\u001b[0m \u001b[0;34m=\u001b[0m \u001b[0m_str_extract_noexpand\u001b[0m\u001b[0;34m(\u001b[0m\u001b[0marr\u001b[0m\u001b[0;34m.\u001b[0m\u001b[0m_data\u001b[0m\u001b[0;34m,\u001b[0m \u001b[0mpat\u001b[0m\u001b[0;34m,\u001b[0m \u001b[0mflags\u001b[0m\u001b[0;34m=\u001b[0m\u001b[0mflags\u001b[0m\u001b[0;34m)\u001b[0m\u001b[0;34m\u001b[0m\u001b[0m\n",
      "\u001b[0;32m~/miniconda3/envs/ada/lib/python3.6/site-packages/pandas/core/strings.py\u001b[0m in \u001b[0;36m_str_extract_frame\u001b[0;34m(arr, pat, flags)\u001b[0m\n\u001b[1;32m    822\u001b[0m \u001b[0;34m\u001b[0m\u001b[0m\n\u001b[1;32m    823\u001b[0m     \u001b[0mregex\u001b[0m \u001b[0;34m=\u001b[0m \u001b[0mre\u001b[0m\u001b[0;34m.\u001b[0m\u001b[0mcompile\u001b[0m\u001b[0;34m(\u001b[0m\u001b[0mpat\u001b[0m\u001b[0;34m,\u001b[0m \u001b[0mflags\u001b[0m\u001b[0;34m=\u001b[0m\u001b[0mflags\u001b[0m\u001b[0;34m)\u001b[0m\u001b[0;34m\u001b[0m\u001b[0m\n\u001b[0;32m--> 824\u001b[0;31m     \u001b[0mgroups_or_na\u001b[0m \u001b[0;34m=\u001b[0m \u001b[0m_groups_or_na_fun\u001b[0m\u001b[0;34m(\u001b[0m\u001b[0mregex\u001b[0m\u001b[0;34m)\u001b[0m\u001b[0;34m\u001b[0m\u001b[0m\n\u001b[0m\u001b[1;32m    825\u001b[0m     \u001b[0mnames\u001b[0m \u001b[0;34m=\u001b[0m \u001b[0mdict\u001b[0m\u001b[0;34m(\u001b[0m\u001b[0mzip\u001b[0m\u001b[0;34m(\u001b[0m\u001b[0mregex\u001b[0m\u001b[0;34m.\u001b[0m\u001b[0mgroupindex\u001b[0m\u001b[0;34m.\u001b[0m\u001b[0mvalues\u001b[0m\u001b[0;34m(\u001b[0m\u001b[0;34m)\u001b[0m\u001b[0;34m,\u001b[0m \u001b[0mregex\u001b[0m\u001b[0;34m.\u001b[0m\u001b[0mgroupindex\u001b[0m\u001b[0;34m.\u001b[0m\u001b[0mkeys\u001b[0m\u001b[0;34m(\u001b[0m\u001b[0;34m)\u001b[0m\u001b[0;34m)\u001b[0m\u001b[0;34m)\u001b[0m\u001b[0;34m\u001b[0m\u001b[0m\n\u001b[1;32m    826\u001b[0m     \u001b[0mcolumns\u001b[0m \u001b[0;34m=\u001b[0m \u001b[0;34m[\u001b[0m\u001b[0mnames\u001b[0m\u001b[0;34m.\u001b[0m\u001b[0mget\u001b[0m\u001b[0;34m(\u001b[0m\u001b[0;36m1\u001b[0m \u001b[0;34m+\u001b[0m \u001b[0mi\u001b[0m\u001b[0;34m,\u001b[0m \u001b[0mi\u001b[0m\u001b[0;34m)\u001b[0m \u001b[0;32mfor\u001b[0m \u001b[0mi\u001b[0m \u001b[0;32min\u001b[0m \u001b[0mrange\u001b[0m\u001b[0;34m(\u001b[0m\u001b[0mregex\u001b[0m\u001b[0;34m.\u001b[0m\u001b[0mgroups\u001b[0m\u001b[0;34m)\u001b[0m\u001b[0;34m]\u001b[0m\u001b[0;34m\u001b[0m\u001b[0m\n",
      "\u001b[0;32m~/miniconda3/envs/ada/lib/python3.6/site-packages/pandas/core/strings.py\u001b[0m in \u001b[0;36m_groups_or_na_fun\u001b[0;34m(regex)\u001b[0m\n\u001b[1;32m    765\u001b[0m     \u001b[0;34m\"\"\"Used in both extract_noexpand and extract_frame\"\"\"\u001b[0m\u001b[0;34m\u001b[0m\u001b[0m\n\u001b[1;32m    766\u001b[0m     \u001b[0;32mif\u001b[0m \u001b[0mregex\u001b[0m\u001b[0;34m.\u001b[0m\u001b[0mgroups\u001b[0m \u001b[0;34m==\u001b[0m \u001b[0;36m0\u001b[0m\u001b[0;34m:\u001b[0m\u001b[0;34m\u001b[0m\u001b[0m\n\u001b[0;32m--> 767\u001b[0;31m         \u001b[0;32mraise\u001b[0m \u001b[0mValueError\u001b[0m\u001b[0;34m(\u001b[0m\u001b[0;34m\"pattern contains no capture groups\"\u001b[0m\u001b[0;34m)\u001b[0m\u001b[0;34m\u001b[0m\u001b[0m\n\u001b[0m\u001b[1;32m    768\u001b[0m     \u001b[0mempty_row\u001b[0m \u001b[0;34m=\u001b[0m \u001b[0;34m[\u001b[0m\u001b[0mnp\u001b[0m\u001b[0;34m.\u001b[0m\u001b[0mnan\u001b[0m\u001b[0;34m]\u001b[0m \u001b[0;34m*\u001b[0m \u001b[0mregex\u001b[0m\u001b[0;34m.\u001b[0m\u001b[0mgroups\u001b[0m\u001b[0;34m\u001b[0m\u001b[0m\n\u001b[1;32m    769\u001b[0m \u001b[0;34m\u001b[0m\u001b[0m\n",
      "\u001b[0;31mValueError\u001b[0m: pattern contains no capture groups"
     ]
    }
   ],
   "source": [
    "# regex [^\\(\\d+\\)\\,\\']\n",
    "popularity_military_conflict_pd = popularity_military_conflict_.toPandas().set_index('id')\n",
    "import re\n",
    "loc_regex = re.compile(r\"[^\\(\\d+\\)\\,\\']\")\n",
    "loc_regex'([A-Z]\\w{0,})'\n",
    "popularity_military_conflict_pd['location'].str.extract(loc_regex, expand=True)\n"
   ]
  },
  {
   "cell_type": "code",
   "execution_count": 35,
   "metadata": {},
   "outputs": [],
   "source": []
  },
  {
   "cell_type": "code",
   "execution_count": 40,
   "metadata": {},
   "outputs": [
    {
     "data": {
      "text/plain": [
       "(804, 7)"
      ]
     },
     "execution_count": 40,
     "metadata": {},
     "output_type": "execute_result"
    }
   ],
   "source": [
    "popularity_military_conflict_pd.shape"
   ]
  },
  {
   "cell_type": "code",
   "execution_count": 39,
   "metadata": {},
   "outputs": [
    {
     "data": {
      "text/plain": [
       "title               0\n",
       "categories          0\n",
       "article_lenght      0\n",
       "views               0\n",
       "death             791\n",
       "end_date          526\n",
       "location          215\n",
       "dtype: int64"
      ]
     },
     "execution_count": 39,
     "metadata": {},
     "output_type": "execute_result"
    }
   ],
   "source": [
    "popularity_military_conflict_pd.isna().sum() "
   ]
  },
  {
   "cell_type": "code",
   "execution_count": null,
   "metadata": {},
   "outputs": [],
   "source": []
  }
 ],
 "metadata": {
  "kernelspec": {
   "display_name": "Python [conda env:ada]",
   "language": "python",
   "name": "conda-env-ada-py"
  },
  "language_info": {
   "codemirror_mode": {
    "name": "ipython",
    "version": 3
   },
   "file_extension": ".py",
   "mimetype": "text/x-python",
   "name": "python",
   "nbconvert_exporter": "python",
   "pygments_lexer": "ipython3",
   "version": "3.6.6"
  }
 },
 "nbformat": 4,
 "nbformat_minor": 2
}
